{
 "cells": [
  {
   "cell_type": "markdown",
   "metadata": {},
   "source": [
    "# WebScrapping"
   ]
  },
  {
   "cell_type": "code",
   "execution_count": 1,
   "metadata": {},
   "outputs": [],
   "source": [
    "import requests\n",
    "from bs4 import BeautifulSoup\n",
    "import pandas as pd"
   ]
  },
  {
   "cell_type": "markdown",
   "metadata": {},
   "source": [
    "<img width=50% src=\"https://images.unsplash.com/photo-1542831371-29b0f74f9713?ixid=MXwxMjA3fDB8MHxzZWFyY2h8MXx8aHRtbHxlbnwwfHwwfA%3D%3D&ixlib=rb-1.2.1&auto=format&fit=crop&w=800&q=60\" />"
   ]
  },
  {
   "cell_type": "markdown",
   "metadata": {
    "heading_collapsed": true
   },
   "source": [
    "# Web Scraping with BeautifulSoup"
   ]
  },
  {
   "cell_type": "markdown",
   "metadata": {
    "heading_collapsed": true,
    "hidden": true
   },
   "source": [
    "## Learning Goals:  "
   ]
  },
  {
   "cell_type": "markdown",
   "metadata": {
    "hidden": true
   },
   "source": [
    "- Parse HTML and CSS elements in webpages\n",
    "- Use `requests` and `BeautifulSoup` to get and process webpage contents\n",
    "- Use ethics when scraping websites"
   ]
  },
  {
   "cell_type": "markdown",
   "metadata": {
    "heading_collapsed": true,
    "hidden": true
   },
   "source": [
    "## Context"
   ]
  },
  {
   "cell_type": "markdown",
   "metadata": {
    "hidden": true
   },
   "source": [
    "We have already developed many ways of interacting with data.  We are able to:\n",
    "\n",
    "* import .csv files (and other .csv-like objects)\n",
    "* gather data from API's and interact with JSON objects\n",
    "* query SQL databases\n",
    "\n",
    "There is publicly available data all over the internet ripe for scraping, whether that be artist information data from wikipedia, song lyrics from songlyrics.com, or texts of famous books from Project Gutenberg. Below, we will learn how to navigate HTML and CSS to bring data into our local computers."
   ]
  },
  {
   "cell_type": "markdown",
   "metadata": {
    "heading_collapsed": true,
    "hidden": true
   },
   "source": [
    "## The components of a web page"
   ]
  },
  {
   "cell_type": "markdown",
   "metadata": {
    "hidden": true
   },
   "source": [
    "When we visit a web page, our web browser makes a GET request to a web server. The server then sends back files that tell our browser how to render the page for us. The files fall into a few main types:\n",
    "\n",
    "- HTML — contain the main content of the page.\n",
    "- CSS — add styling to make the page look nicer.\n",
    "- JS — Javascript files add interactivity to web pages.\n",
    "- Images — image formats, such as JPG and PNG allow web pages to show pictures.\n",
    "\n",
    "After our browser receives all the files, it renders the page and displays it to us. There’s a lot that happens behind the scenes to render a page nicely, but we don’t need to worry about most of it when we’re web scraping."
   ]
  },
  {
   "cell_type": "markdown",
   "metadata": {
    "heading_collapsed": true,
    "hidden": true
   },
   "source": [
    "### HTML"
   ]
  },
  {
   "cell_type": "markdown",
   "metadata": {
    "hidden": true
   },
   "source": [
    "HyperText Markup Language (HTML) is a language that web pages are created in. HTML isn’t a programming language, like Python — instead, it’s a markup language that tells a browser how to layout content. \n",
    "\n",
    "Let’s take a quick tour through HTML so we know enough to scrape effectively. HTML consists of elements called tags. The most basic tag is the `<html>` tag. This tag tells the web browser that everything inside of it is HTML. We can make a simple HTML document just using this tag:\n",
    "\n",
    "~~~html\n",
    "<html>\n",
    "</html>\n",
    "~~~"
   ]
  },
  {
   "cell_type": "markdown",
   "metadata": {
    "hidden": true
   },
   "source": [
    "Right inside an html tag, we put two other tags, the head tag, and the body tag. The main content of the web page goes into the body tag. The head tag contains data about the title of the page, and other information that generally isn’t useful in web scraping:\n",
    "\n",
    "~~~html\n",
    "<html>\n",
    "    <head>\n",
    "    </head>\n",
    "    <body>\n",
    "    </body>\n",
    "</html>\n",
    "~~~"
   ]
  },
  {
   "cell_type": "markdown",
   "metadata": {
    "hidden": true
   },
   "source": [
    "We’ll now add our first content to the page, in the form of the p tag. The p tag defines a paragraph, and any text inside the tag is shown as a separate paragraph:\n",
    "~~~html\n",
    "<html>\n",
    "    <head>\n",
    "    </head>\n",
    "    <body>\n",
    "          <p>\n",
    "            Here's a paragraph of text!\n",
    "        </p>\n",
    "        <p>\n",
    "            Here's a second paragraph of text!\n",
    "        </p>\n",
    "    </body>\n",
    "</html>\n",
    "~~~"
   ]
  },
  {
   "cell_type": "markdown",
   "metadata": {
    "hidden": true
   },
   "source": [
    "<html>\n",
    "    <head>\n",
    "    </head>\n",
    "    <body>\n",
    "          <p>\n",
    "            Here's a paragraph of text!\n",
    "        </p>\n",
    "        <p>\n",
    "            Here's a second paragraph of text!\n",
    "        </p>\n",
    "    </body>\n",
    "</html>"
   ]
  },
  {
   "cell_type": "markdown",
   "metadata": {
    "hidden": true
   },
   "source": [
    "Tags have commonly used names that depend on their position in relation to other tags:\n",
    "\n",
    "- **child** — a child is a tag inside another tag. So the two p tags above are both children of the body tag.\n",
    "- **parent** — a parent is the tag another tag is inside. Above, the html tag is the parent of the body tag.\n",
    "- **sibiling** — a sibiling is a tag that is nested inside the same parent as another tag. For example, head and body are siblings, since they’re both inside html. Both p tags are siblings, since they’re both inside body."
   ]
  },
  {
   "cell_type": "markdown",
   "metadata": {
    "hidden": true
   },
   "source": [
    "We can also add properties to HTML tags that change their behavior:\n",
    "\n",
    "~~~html\n",
    "<html>\n",
    "  <head></head>\n",
    "  <body>\n",
    "    <p>\n",
    "      Here's a paragraph of text!\n",
    "      <a href=\"https://www.dataquest.io\">Learn Data Science Online</a>\n",
    "    </p>\n",
    "    <p>\n",
    "      Here's a second paragraph of text!\n",
    "      <a href=\"https://www.python.org\">Python</a>        \n",
    "    </p>\n",
    "  </body>\n",
    "</html>\n",
    "~~~"
   ]
  },
  {
   "cell_type": "markdown",
   "metadata": {
    "hidden": true
   },
   "source": [
    "<html>\n",
    "    <head>\n",
    "    </head>\n",
    "    <body>\n",
    "        <p>\n",
    "            Here's a paragraph of text!\n",
    "            <a href=\"https://www.dataquest.io\">Learn Data Science Online</a>\n",
    "        </p>\n",
    "        <p>\n",
    "            Here's a second paragraph of text!\n",
    "            <a href=\"https://www.python.org\">Python</a>        </p>\n",
    "    </body></html>"
   ]
  },
  {
   "cell_type": "markdown",
   "metadata": {
    "hidden": true
   },
   "source": [
    "In the above example, we added two a tags. a tags are links, and tell the browser to render a link to another web page. The href property of the tag determines where the link goes.\n",
    "\n",
    "a and p are extremely common html tags. Here are a few others:\n",
    "\n",
    "- *div*: indicates a division, or area, of the page.\n",
    "- *b*: bolds any text inside.\n",
    "- *i*: italicizes any text inside.\n",
    "- *u*: underlines any text inside.\n",
    "- *table*: creates a table.\n",
    "- *form*: creates an input form.\n",
    "\n",
    "\n",
    "For a full list of tags, look [here](https://developer.mozilla.org/en-US/docs/Web/HTML/Element)."
   ]
  },
  {
   "cell_type": "markdown",
   "metadata": {
    "hidden": true
   },
   "source": [
    "<html>\n",
    "    <b>bold</b> <br/>\n",
    "    <i>italics</i> <br/>\n",
    "    <u>underlining</u>\n",
    "</html>"
   ]
  },
  {
   "cell_type": "markdown",
   "metadata": {
    "hidden": true
   },
   "source": [
    "There are two special properties that give HTML elements names, and make them easier to interact with when we’re scraping: **class** and **id**. \n",
    "\n",
    "- One element can have multiple classes, and a class can be shared between elements. \n",
    "- Each element can only have one id, and an id can only be used once on a page. \n",
    "- Classes and ids are optional, and not all elements will have them.\n",
    "\n",
    "We can add classes and ids to our example:\n",
    "\n",
    "~~~html\n",
    "<html>\n",
    "    <head>\n",
    "    </head>\n",
    "    <body>\n",
    "        <p class=\"bold-paragraph\">\n",
    "            Here's a paragraph of text!\n",
    "            <a href=\"https://www.dataquest.io\" id=\"learn-link\">Learn Data Science Online</a>\n",
    "        </p>\n",
    "        <p class=\"bold-paragraph extra-large\">\n",
    "            Here's a second paragraph of text!\n",
    "            <a href=\"https://www.python.org\" class=\"extra-large\">Python</a>\n",
    "        </p>\n",
    "    </body>\n",
    "</html>\n",
    "~~~"
   ]
  },
  {
   "cell_type": "markdown",
   "metadata": {
    "hidden": true
   },
   "source": [
    "<html>\n",
    "    <head>\n",
    "    </head>\n",
    "    <body>\n",
    "        <p class=\"bold-paragraph\">\n",
    "            Here's a paragraph of text!\n",
    "            <a href=\"https://www.dataquest.io\" id=\"learn-link\">Learn Data Science Online</a>\n",
    "        </p>\n",
    "        <p class=\"bold-paragraph extra-large\">\n",
    "            Here's a second paragraph of text!\n",
    "            <a href=\"https://www.python.org\" class=\"extra-large\">Python</a>\n",
    "        </p>\n",
    "    </body>\n",
    "</html>"
   ]
  },
  {
   "cell_type": "markdown",
   "metadata": {
    "heading_collapsed": true,
    "hidden": true
   },
   "source": [
    "### Let's take a look at a sample web page from our local computer"
   ]
  },
  {
   "cell_type": "markdown",
   "metadata": {
    "hidden": true
   },
   "source": [
    "- Open up example.com in your browser.\n",
    "- Open up the inspector\n",
    "    - Mac: cmd+option+c\n",
    "    - Windows: ctrl+shift+c\n",
    "- Click on the elements tab, and click on an element"
   ]
  },
  {
   "cell_type": "markdown",
   "metadata": {
    "heading_collapsed": true,
    "hidden": true
   },
   "source": [
    "## Make a sample webpage"
   ]
  },
  {
   "cell_type": "markdown",
   "metadata": {
    "hidden": true
   },
   "source": [
    "Use [this site](https://htmledit.squarefree.com/) to see your page as you edit the underlying html."
   ]
  },
  {
   "cell_type": "markdown",
   "metadata": {
    "heading_collapsed": true,
    "hidden": true
   },
   "source": [
    "## Webscraping with Python"
   ]
  },
  {
   "cell_type": "markdown",
   "metadata": {
    "heading_collapsed": true,
    "hidden": true
   },
   "source": [
    "### The requests library"
   ]
  },
  {
   "cell_type": "markdown",
   "metadata": {
    "hidden": true
   },
   "source": [
    "The first thing we’ll need to do to scrape a web page is to download the page. We can download pages using the Python requests library (similar to interacting with APIs!)."
   ]
  },
  {
   "cell_type": "code",
   "execution_count": 2,
   "metadata": {
    "hidden": true
   },
   "outputs": [],
   "source": [
    "req = requests.get(\"http://dataquestio.github.io/web-scraping-pages/simple.html\")"
   ]
  },
  {
   "cell_type": "markdown",
   "metadata": {
    "hidden": true
   },
   "source": [
    "After running our request, we get a Response object. This object has a status_code property, which indicates if the page was downloaded successfully:"
   ]
  },
  {
   "cell_type": "code",
   "execution_count": 3,
   "metadata": {},
   "outputs": [
    {
     "data": {
      "text/plain": [
       "requests.models.Response"
      ]
     },
     "execution_count": 3,
     "metadata": {},
     "output_type": "execute_result"
    }
   ],
   "source": [
    "type(req)"
   ]
  },
  {
   "cell_type": "code",
   "execution_count": 4,
   "metadata": {
    "hidden": true
   },
   "outputs": [
    {
     "data": {
      "text/plain": [
       "200"
      ]
     },
     "execution_count": 4,
     "metadata": {},
     "output_type": "execute_result"
    }
   ],
   "source": [
    "req.status_code"
   ]
  },
  {
   "cell_type": "markdown",
   "metadata": {
    "hidden": true
   },
   "source": [
    "We can print out the HTML content of the page using the content property:"
   ]
  },
  {
   "cell_type": "code",
   "execution_count": 5,
   "metadata": {
    "hidden": true
   },
   "outputs": [
    {
     "data": {
      "text/plain": [
       "b'<!DOCTYPE html>\\n<html>\\n    <head>\\n        <title>A simple example page</title>\\n    </head>\\n    <body>\\n        <p>Here is some simple content for this page.</p>\\n    </body>\\n</html>'"
      ]
     },
     "execution_count": 5,
     "metadata": {},
     "output_type": "execute_result"
    }
   ],
   "source": [
    "req.content"
   ]
  },
  {
   "cell_type": "code",
   "execution_count": 6,
   "metadata": {},
   "outputs": [
    {
     "data": {
      "text/plain": [
       "'<!DOCTYPE html>\\n<html>\\n    <head>\\n        <title>A simple example page</title>\\n    </head>\\n    <body>\\n        <p>Here is some simple content for this page.</p>\\n    </body>\\n</html>'"
      ]
     },
     "execution_count": 6,
     "metadata": {},
     "output_type": "execute_result"
    }
   ],
   "source": [
    "req.text"
   ]
  },
  {
   "cell_type": "markdown",
   "metadata": {
    "heading_collapsed": true,
    "hidden": true
   },
   "source": [
    "### Parsing a page with BeautifulSoup"
   ]
  },
  {
   "cell_type": "markdown",
   "metadata": {
    "hidden": true
   },
   "source": [
    "We can use the BeautifulSoup library to parse this document, and extract the text from the `<p>` tag. "
   ]
  },
  {
   "cell_type": "code",
   "execution_count": 7,
   "metadata": {
    "hidden": true
   },
   "outputs": [
    {
     "data": {
      "text/plain": [
       "['html',\n",
       " <html>\n",
       " <head>\n",
       " <title>A simple example page</title>\n",
       " </head>\n",
       " <body>\n",
       " <p>Here is some simple content for this page.</p>\n",
       " </body>\n",
       " </html>]"
      ]
     },
     "execution_count": 7,
     "metadata": {},
     "output_type": "execute_result"
    }
   ],
   "source": [
    "soup = BeautifulSoup(req.content)\n",
    "list(soup.children)"
   ]
  },
  {
   "cell_type": "code",
   "execution_count": 8,
   "metadata": {
    "hidden": true
   },
   "outputs": [
    {
     "name": "stdout",
     "output_type": "stream",
     "text": [
      "<!DOCTYPE html>\n",
      "<html>\n",
      " <head>\n",
      "  <title>\n",
      "   A simple example page\n",
      "  </title>\n",
      " </head>\n",
      " <body>\n",
      "  <p>\n",
      "   Here is some simple content for this page.\n",
      "  </p>\n",
      " </body>\n",
      "</html>\n"
     ]
    }
   ],
   "source": [
    "print(soup.prettify())"
   ]
  },
  {
   "cell_type": "markdown",
   "metadata": {
    "hidden": true
   },
   "source": [
    "As all the tags are nested, we can move through the structure one level at a time. We can first select all the elements at the top level of the page using the `children` property of `soup`."
   ]
  },
  {
   "cell_type": "code",
   "execution_count": 9,
   "metadata": {
    "hidden": true
   },
   "outputs": [
    {
     "data": {
      "text/plain": [
       "['html',\n",
       " <html>\n",
       " <head>\n",
       " <title>A simple example page</title>\n",
       " </head>\n",
       " <body>\n",
       " <p>Here is some simple content for this page.</p>\n",
       " </body>\n",
       " </html>]"
      ]
     },
     "execution_count": 9,
     "metadata": {},
     "output_type": "execute_result"
    }
   ],
   "source": [
    "list(soup.children)"
   ]
  },
  {
   "cell_type": "code",
   "execution_count": 10,
   "metadata": {
    "hidden": true
   },
   "outputs": [
    {
     "data": {
      "text/plain": [
       "[bs4.element.Doctype, bs4.element.Tag]"
      ]
     },
     "execution_count": 10,
     "metadata": {},
     "output_type": "execute_result"
    }
   ],
   "source": [
    "[type(item) for item in list(soup.children)]"
   ]
  },
  {
   "cell_type": "markdown",
   "metadata": {
    "hidden": true
   },
   "source": [
    "The `Tag` object allows us to navigate through an HTML document, and extract other tags and text. You can learn more about the various `BeautifulSoup` objects [here](https://www.crummy.com/software/BeautifulSoup/bs4/doc/#kinds-of-objects).\n",
    "\n",
    "We can now select the html tag and its children by taking the second item in the list:\n",
    "\n"
   ]
  },
  {
   "cell_type": "code",
   "execution_count": 11,
   "metadata": {
    "hidden": true
   },
   "outputs": [
    {
     "data": {
      "text/plain": [
       "<html>\n",
       "<head>\n",
       "<title>A simple example page</title>\n",
       "</head>\n",
       "<body>\n",
       "<p>Here is some simple content for this page.</p>\n",
       "</body>\n",
       "</html>"
      ]
     },
     "execution_count": 11,
     "metadata": {},
     "output_type": "execute_result"
    }
   ],
   "source": [
    "html = list(soup.children)[1]\n",
    "html"
   ]
  },
  {
   "cell_type": "markdown",
   "metadata": {
    "hidden": true
   },
   "source": [
    "Each item in the list returned by the `children` property is also a `BeautifulSoup` object, so we can also call the `children` method on `html`.\n",
    "\n",
    "Now we can find the `children` inside the `html` tag:"
   ]
  },
  {
   "cell_type": "code",
   "execution_count": 12,
   "metadata": {
    "hidden": true
   },
   "outputs": [
    {
     "data": {
      "text/plain": [
       "['\\n',\n",
       " <head>\n",
       " <title>A simple example page</title>\n",
       " </head>,\n",
       " '\\n',\n",
       " <body>\n",
       " <p>Here is some simple content for this page.</p>\n",
       " </body>,\n",
       " '\\n']"
      ]
     },
     "execution_count": 12,
     "metadata": {},
     "output_type": "execute_result"
    }
   ],
   "source": [
    "list(html.children)"
   ]
  },
  {
   "cell_type": "markdown",
   "metadata": {
    "hidden": true
   },
   "source": [
    "As you can see above, there are two tags here, `head`, and `body`. We want to extract the text inside the `p` tag, so we’ll dive into the body:"
   ]
  },
  {
   "cell_type": "code",
   "execution_count": 13,
   "metadata": {
    "hidden": true
   },
   "outputs": [],
   "source": [
    "body = list(html.children)[3]"
   ]
  },
  {
   "cell_type": "code",
   "execution_count": 14,
   "metadata": {},
   "outputs": [
    {
     "data": {
      "text/plain": [
       "<body>\n",
       "<p>Here is some simple content for this page.</p>\n",
       "</body>"
      ]
     },
     "execution_count": 14,
     "metadata": {},
     "output_type": "execute_result"
    }
   ],
   "source": [
    "body"
   ]
  },
  {
   "cell_type": "markdown",
   "metadata": {
    "hidden": true
   },
   "source": [
    "We can now isolate the `p` tag:\n",
    "\n"
   ]
  },
  {
   "cell_type": "code",
   "execution_count": 15,
   "metadata": {
    "hidden": true
   },
   "outputs": [],
   "source": [
    "p = list(body.children)[1]"
   ]
  },
  {
   "cell_type": "markdown",
   "metadata": {
    "hidden": true
   },
   "source": [
    "Once we’ve isolated the tag, we can use the `get_text` method to extract all of the text inside the tag:"
   ]
  },
  {
   "cell_type": "code",
   "execution_count": 18,
   "metadata": {},
   "outputs": [
    {
     "data": {
      "text/plain": [
       "<p>Here is some simple content for this page.</p>"
      ]
     },
     "execution_count": 18,
     "metadata": {},
     "output_type": "execute_result"
    }
   ],
   "source": [
    "p"
   ]
  },
  {
   "cell_type": "code",
   "execution_count": 17,
   "metadata": {
    "hidden": true
   },
   "outputs": [
    {
     "data": {
      "text/plain": [
       "'Here is some simple content for this page.'"
      ]
     },
     "execution_count": 17,
     "metadata": {},
     "output_type": "execute_result"
    }
   ],
   "source": [
    "p.get_text()"
   ]
  },
  {
   "cell_type": "markdown",
   "metadata": {
    "heading_collapsed": true,
    "hidden": true
   },
   "source": [
    "### Finding all instances of a tag at once"
   ]
  },
  {
   "cell_type": "markdown",
   "metadata": {
    "hidden": true
   },
   "source": [
    "If we want to extract a single tag, we can instead use the find_all method, which will find all the instances of a tag on a page."
   ]
  },
  {
   "cell_type": "code",
   "execution_count": 19,
   "metadata": {
    "hidden": true
   },
   "outputs": [
    {
     "data": {
      "text/plain": [
       "[<p>Here is some simple content for this page.</p>]"
      ]
     },
     "execution_count": 19,
     "metadata": {},
     "output_type": "execute_result"
    }
   ],
   "source": [
    "soup = BeautifulSoup(req.content)\n",
    "soup.find_all('p')"
   ]
  },
  {
   "cell_type": "markdown",
   "metadata": {
    "hidden": true
   },
   "source": [
    "Note that `find_all` returns a list, so we’ll have to loop through, or use list indexing, it to extract text:"
   ]
  },
  {
   "cell_type": "code",
   "execution_count": 20,
   "metadata": {
    "hidden": true
   },
   "outputs": [
    {
     "data": {
      "text/plain": [
       "'Here is some simple content for this page.'"
      ]
     },
     "execution_count": 20,
     "metadata": {},
     "output_type": "execute_result"
    }
   ],
   "source": [
    "soup.find_all('p')[0].get_text()"
   ]
  },
  {
   "cell_type": "markdown",
   "metadata": {
    "hidden": true
   },
   "source": [
    "If you instead only want to find the first instance of a tag, you can use the `find` method, which will return a single `BeautifulSoup` object:"
   ]
  },
  {
   "cell_type": "code",
   "execution_count": 22,
   "metadata": {
    "hidden": true
   },
   "outputs": [
    {
     "data": {
      "text/plain": [
       "'Here is some simple content for this page.'"
      ]
     },
     "execution_count": 22,
     "metadata": {},
     "output_type": "execute_result"
    }
   ],
   "source": [
    "soup.find('p').get_text()"
   ]
  },
  {
   "cell_type": "markdown",
   "metadata": {
    "heading_collapsed": true,
    "hidden": true
   },
   "source": [
    "### Searching for tags by class and id"
   ]
  },
  {
   "cell_type": "markdown",
   "metadata": {
    "hidden": true
   },
   "source": [
    "We introduced classes and ids earlier, but it probably wasn’t clear why they were useful. Classes and ids are used by CSS to determine which HTML elements to apply certain styles to. We can also use them when scraping to specify specific elements we want to scrape. Let's look at the following page:\n",
    "\n",
    "~~~html\n",
    "<html>\n",
    "    <head>\n",
    "        <title>A simple example page</title>\n",
    "    </head>\n",
    "    <body>\n",
    "        <div>\n",
    "            <p class=\"inner-text first-item\" id=\"first\">\n",
    "                First paragraph.\n",
    "            </p>\n",
    "            <p class=\"inner-text\">\n",
    "                Second paragraph.\n",
    "            </p>\n",
    "        </div>\n",
    "        <p class=\"outer-text first-item\" id=\"second\">\n",
    "            <b>\n",
    "                First outer paragraph.\n",
    "            </b>\n",
    "        </p>\n",
    "        <p class=\"outer-text\">\n",
    "            <b>\n",
    "                Second outer paragraph.\n",
    "            </b>\n",
    "        </p>\n",
    "    </body>\n",
    "</html>\n",
    "~~~"
   ]
  },
  {
   "cell_type": "code",
   "execution_count": 23,
   "metadata": {
    "hidden": true
   },
   "outputs": [
    {
     "data": {
      "text/plain": [
       "<html>\n",
       "<head>\n",
       "<title>A simple example page</title>\n",
       "</head>\n",
       "<body>\n",
       "<div>\n",
       "<p class=\"inner-text first-item\" id=\"first\">\n",
       "                First paragraph.\n",
       "            </p>\n",
       "<p class=\"inner-text\">\n",
       "                Second paragraph.\n",
       "            </p>\n",
       "</div>\n",
       "<p class=\"outer-text first-item\" id=\"second\">\n",
       "<b>\n",
       "                First outer paragraph.\n",
       "            </b>\n",
       "</p>\n",
       "<p class=\"outer-text\">\n",
       "<b>\n",
       "                Second outer paragraph.\n",
       "            </b>\n",
       "</p>\n",
       "</body>\n",
       "</html>"
      ]
     },
     "execution_count": 23,
     "metadata": {},
     "output_type": "execute_result"
    }
   ],
   "source": [
    "page = requests.get(\"http://dataquestio.github.io/web-scraping-pages/ids_and_classes.html\")\n",
    "soup = BeautifulSoup(page.content)\n",
    "soup"
   ]
  },
  {
   "cell_type": "markdown",
   "metadata": {
    "hidden": true
   },
   "source": [
    "Now, we can use the `find_all` method to search for items by class or by id. In the below example, we’ll search for any `p` tag that has the class `outer-text`:"
   ]
  },
  {
   "cell_type": "code",
   "execution_count": 25,
   "metadata": {
    "hidden": true
   },
   "outputs": [],
   "source": [
    "outer_list = soup.find_all('p', class_='outer-text')"
   ]
  },
  {
   "cell_type": "code",
   "execution_count": 26,
   "metadata": {
    "scrolled": true
   },
   "outputs": [
    {
     "data": {
      "text/plain": [
       "2"
      ]
     },
     "execution_count": 26,
     "metadata": {},
     "output_type": "execute_result"
    }
   ],
   "source": [
    "len(outer_list)"
   ]
  },
  {
   "cell_type": "code",
   "execution_count": 28,
   "metadata": {},
   "outputs": [
    {
     "data": {
      "text/plain": [
       "'\\n\\n                First outer paragraph.\\n            \\n'"
      ]
     },
     "execution_count": 28,
     "metadata": {},
     "output_type": "execute_result"
    }
   ],
   "source": [
    "outer_list[0].get_text()"
   ]
  },
  {
   "cell_type": "markdown",
   "metadata": {
    "hidden": true
   },
   "source": [
    "In the below example, we’ll look for any tag that has the class `outer-text`:\n",
    "\n"
   ]
  },
  {
   "cell_type": "code",
   "execution_count": 30,
   "metadata": {
    "hidden": true
   },
   "outputs": [
    {
     "data": {
      "text/plain": [
       "[<p class=\"outer-text first-item\" id=\"second\">\n",
       " <b>\n",
       "                 First outer paragraph.\n",
       "             </b>\n",
       " </p>,\n",
       " <p class=\"outer-text\">\n",
       " <b>\n",
       "                 Second outer paragraph.\n",
       "             </b>\n",
       " </p>]"
      ]
     },
     "execution_count": 30,
     "metadata": {},
     "output_type": "execute_result"
    }
   ],
   "source": [
    "soup.find_all(class_=\"outer-text\")"
   ]
  },
  {
   "cell_type": "markdown",
   "metadata": {
    "hidden": true
   },
   "source": [
    "We can also search for elements by `id`:\n"
   ]
  },
  {
   "cell_type": "code",
   "execution_count": 34,
   "metadata": {
    "hidden": true
   },
   "outputs": [
    {
     "data": {
      "text/plain": [
       "[<p class=\"inner-text first-item\" id=\"first\">\n",
       "                 First paragraph.\n",
       "             </p>]"
      ]
     },
     "execution_count": 34,
     "metadata": {},
     "output_type": "execute_result"
    }
   ],
   "source": [
    "soup.find_all(id=\"first\")"
   ]
  },
  {
   "cell_type": "markdown",
   "metadata": {
    "heading_collapsed": true,
    "hidden": true
   },
   "source": [
    "### More sophisticated webpages"
   ]
  },
  {
   "cell_type": "code",
   "execution_count": 35,
   "metadata": {
    "hidden": true
   },
   "outputs": [],
   "source": [
    "url = 'https://forecast.weather.gov/MapClick.php?lat=41.8843&lon=-87.6324#.XdPlJUVKg6g'\n",
    "request = requests.get(url)\n",
    "soup = BeautifulSoup(request.content)\n"
   ]
  },
  {
   "cell_type": "code",
   "execution_count": 36,
   "metadata": {},
   "outputs": [
    {
     "data": {
      "text/plain": [
       "<!DOCTYPE html>\n",
       "<html class=\"no-js\">\n",
       "<head>\n",
       "<!-- Meta -->\n",
       "<meta content=\"width=device-width\" name=\"viewport\"/>\n",
       "<link href=\"http://purl.org/dc/elements/1.1/\" rel=\"schema.DC\"/><title>National Weather Service</title><meta content=\"National Weather Service\" name=\"DC.title\"/><meta content=\"NOAA National Weather Service National Weather Service\" name=\"DC.description\"/><meta content=\"US Department of Commerce, NOAA, National Weather Service\" name=\"DC.creator\"/><meta content=\"\" name=\"DC.date.created\" scheme=\"ISO8601\"/><meta content=\"EN-US\" name=\"DC.language\" scheme=\"DCTERMS.RFC1766\"/><meta content=\"weather, National Weather Service\" name=\"DC.keywords\"/><meta content=\"NOAA's National Weather Service\" name=\"DC.publisher\"/><meta content=\"National Weather Service\" name=\"DC.contributor\"/><meta content=\"//www.weather.gov/disclaimer.php\" name=\"DC.rights\"/><meta content=\"General\" name=\"rating\"/><meta content=\"index,follow\" name=\"robots\"/>\n",
       "<!-- Icons -->\n",
       "<link href=\"./images/favicon.ico\" rel=\"shortcut icon\" type=\"image/x-icon\"/>\n",
       "<!-- CSS -->\n",
       "<link href=\"css/bootstrap-3.2.0.min.css\" rel=\"stylesheet\"/>\n",
       "<link href=\"css/bootstrap-theme-3.2.0.min.css\" rel=\"stylesheet\"/>\n",
       "<link href=\"css/font-awesome-4.3.0.min.css\" rel=\"stylesheet\"/>\n",
       "<link href=\"css/ol-4.6.4.css\" rel=\"stylesheet\" type=\"text/css\"/>\n",
       "<link href=\"css/mapclick.css\" rel=\"stylesheet\" type=\"text/css\"/>\n",
       "<!--[if lte IE 7]><link rel=\"stylesheet\" type=\"text/css\" href=\"css/bootstrap-ie7.css\" /><![endif]-->\n",
       "<!--[if lte IE 9]><link rel=\"stylesheet\" type=\"text/css\" href=\"css/mapclick-ie.css\" /><![endif]-->\n",
       "<link href=\"css/print.css\" rel=\"stylesheet\" type=\"text/css\"/>\n",
       "<link href=\"css/search.css\" rel=\"stylesheet\" type=\"text/css\"/>\n",
       "<!-- Javascript -->\n",
       "<script src=\"js/lib/modernizr-2.8.3.js\" type=\"text/javascript\"></script>\n",
       "<script src=\"js/lib/json3-3.3.2.min.js\" type=\"text/javascript\"></script>\n",
       "<script src=\"js/lib/jquery-1.11.3.min.js\" type=\"text/javascript\"></script>\n",
       "<script src=\"js/lib/jquery.hoverIntent-1.8.1.min.js\" type=\"text/javascript\"></script>\n",
       "<script src=\"js/lib/bootstrap-3.2.0.min.js\" type=\"text/javascript\"></script>\n",
       "<script src=\"js/lib/ol-4.6.4.js\" type=\"text/javascript\"></script>\n",
       "<!--[if lte IE 8]><script type=\"text/javascript\" src=\"js/respond.min.js\"></script><![endif]-->\n",
       "<script src=\"js/jquery.autocomplete.min.js\" type=\"text/javascript\"></script>\n",
       "<script src=\"js/cfisurvey/cfi.js?v2\" type=\"text/javascript\"></script>\n",
       "<script src=\"js/forecast.esri.js\" type=\"text/javascript\"></script>\n",
       "<script src=\"js/forecast.search.js\" type=\"text/javascript\"></script>\n",
       "<script src=\"js/forecast.openlayers.js\" type=\"text/javascript\"></script>\n",
       "<script src=\"js/browserSniffer.js\" type=\"text/javascript\"></script>\n",
       "<script id=\"_fed_an_ua_tag\" src=\"https://dap.digitalgov.gov/Universal-Federated-Analytics-Min.js?agency=DOC&amp;subagency=NOAA\" type=\"text/javascript\"></script>\n",
       "<script type=\"text/javascript\">\n",
       "            // GoogleAnalyticsObject is defined in the federated analytics script, but PUA option not used as forecast UA needs sampleRate\n",
       "            window[window['GoogleAnalyticsObject']]('create', 'UA-40768555-1', 'weather.gov', {'sampleRate': 6});\n",
       "            window[window['GoogleAnalyticsObject']]('set', 'anonymizeIp', true);\n",
       "            window[window['GoogleAnalyticsObject']]('require', 'linkid');\n",
       "            window[window['GoogleAnalyticsObject']]('send', 'pageview');\n",
       "        </script>\n",
       "<script type=\"javascript\">\n",
       "// ForeSee Staging Embed Script v2.01\n",
       "// DO NOT MODIFY BELOW THIS LINE *****************************************\n",
       ";(function (g) {\n",
       "  var d = document, am = d.createElement('script'), h = d.head || d.getElementsByTagName(\"head\")[0], fsr = 'fsReady',\n",
       "  aex = { \n",
       "    \"src\": \"//gateway.foresee.com/sites/weather-gov/production/gateway.min.js\",\n",
       "    \"type\": \"text/javascript\", \n",
       "    \"async\": \"true\", \n",
       "    \"data-vendor\": \"fs\", \n",
       "    \"data-role\": \"gateway\" \n",
       "  };\n",
       "  for (var attr in aex) { am.setAttribute(attr, aex[attr]); } h.appendChild(am); g[fsr] || (g[fsr] = function () { var aT = '__' + fsr + '_stk__'; g[aT] = g[aT] || []; g[aT].push(arguments); });\n",
       "})(window);\n",
       "// DO NOT MODIFY ABOVE THIS LINE *****************************************\n",
       "</script>\n",
       "</head>\n",
       "<body>\n",
       "<main class=\"container\">\n",
       "<header class=\"row clearfix\" id=\"page-header\">\n",
       "<a class=\"pull-left\" href=\"//www.noaa.gov\" id=\"header-noaa\"><img alt=\"National Oceanic and Atmospheric Administration\" src=\"/css/images/header_noaa.png\"/></a>\n",
       "<a class=\"pull-left\" href=\"//www.weather.gov\" id=\"header-nws\"><img alt=\"National Weather Service\" src=\"/css/images/header_nws.png\"/></a>\n",
       "<a class=\"pull-right\" href=\"//www.commerce.gov\" id=\"header-doc\"><img alt=\"United States Department of Commerce\" src=\"/css/images/header_doc.png\"/></a>\n",
       "</header>\n",
       "<nav class=\"navbar navbar-default row\" role=\"navigation\">\n",
       "<div class=\"container-fluid\">\n",
       "<div class=\"navbar-header\">\n",
       "<button class=\"navbar-toggle collapsed\" data-target=\"#top-nav\" data-toggle=\"collapse\" type=\"button\">\n",
       "<span class=\"sr-only\">Toggle navigation</span>\n",
       "<span class=\"icon-bar\"></span>\n",
       "<span class=\"icon-bar\"></span>\n",
       "<span class=\"icon-bar\"></span>\n",
       "</button>\n",
       "</div>\n",
       "<div class=\"collapse navbar-collapse\" id=\"top-nav\">\n",
       "<ul class=\"nav navbar-nav\">\n",
       "<li><a href=\"//www.weather.gov\">HOME</a></li>\n",
       "<li class=\"dropdown\"><a class=\"dropdown-toggle\" data-toggle=\"dropdown\" href=\"http://www.weather.gov/forecastmaps\">FORECAST <span class=\"caret\"></span></a><ul class=\"dropdown-menu\" role=\"menu\"><li><a href=\"http://www.weather.gov\">Local</a></li><li><a href=\"http://digital.weather.gov\">Graphical</a></li><li><a href=\"http://www.aviationweather.gov/\">Aviation</a></li><li><a href=\"http://www.weather.gov/marine\">Marine</a></li><li><a href=\"http://water.weather.gov/ahps/\">Rivers and Lakes</a></li><li><a href=\"http://www.nhc.noaa.gov/\">Hurricanes</a></li><li><a href=\"http://www.spc.noaa.gov/\">Severe Weather</a></li><li><a href=\"http://www.weather.gov/fire/\">Fire Weather</a></li><li><a href=\"https://www.esrl.noaa.gov/gmd/grad/solcalc/sunrise.html\">Sun/Moon</a></li><li><a href=\"http://www.cpc.ncep.noaa.gov/\">Long Range Forecasts</a></li><li><a href=\"http://www.cpc.ncep.noaa.gov\">Climate Prediction</a></li><li><a href=\"https://www.swpc.noaa.gov/\">Space Weather</a></li></ul> </li>\n",
       "<li class=\"dropdown\"><a class=\"dropdown-toggle\" data-toggle=\"dropdown\" href=\"https://www.weather.gov/wrh/climate/\">PAST WEATHER <span class=\"caret\"></span></a><ul class=\"dropdown-menu\" role=\"menu\"><li><a href=\"https://www.weather.gov/wrh/climate/\">Past Weather</a></li><li><a href=\"https://www.weather.gov/wrh/climate/\">Heating/Cooling Days</a></li><li><a href=\"https://www.weather.gov/wrh/climate/\">Monthly Temperatures</a></li><li><a href=\"https://www.weather.gov/wrh/climate/\">Records</a></li><li><a href=\"http://aa.usno.navy.mil/\">Astronomical Data</a></li></ul> </li>\n",
       "<li class=\"dropdown\"><a class=\"dropdown-toggle\" data-toggle=\"dropdown\" href=\"http://www.weather.gov/safety\">SAFETY <span class=\"caret\"></span></a><ul class=\"dropdown-menu\" role=\"menu\"><li><a href=\"https://www.weather.gov/safety/flood\">Floods</a></li><li><a href=\"https://www.weather.gov/safety/tsunami\">Tsunamis</a></li><li><a href=\"https://www.weather.gov/safety/beachhazards\">Beach Hazards</a></li><li><a href=\"https://www.weather.gov/safety/wildfire\">Wildfire</a></li><li><a href=\"https://www.weather.gov/safety/cold\">Cold</a></li><li><a href=\"https://www.weather.gov/safety/tornado\">Tornadoes</a></li><li><a href=\"https://www.weather.gov/safety/airquality\">Air Quality</a></li><li><a href=\"https://www.weather.gov/safety/fog\">Fog</a></li><li><a href=\"https://www.weather.gov/safety/heat\">Heat</a></li><li><a href=\"https://www.weather.gov/safety/hurricane\">Hurricanes</a></li><li><a href=\"https://www.weather.gov/safety/lightning\">Lightning</a></li><li><a href=\"https://www.weather.gov/safety/safeboating\">Safe Boating</a></li><li><a href=\"https://www.weather.gov/safety/ripcurrent\">Rip Currents</a></li><li><a href=\"https://www.weather.gov/safety/thunderstorm\">Thunderstorms</a></li><li><a href=\"https://www.weather.gov/safety/space\">Space Weather</a></li><li><a href=\"https://www.weather.gov/safety/heat-uv\">Sun (Ultraviolet Radiation)</a></li><li><a href=\"http://www.weather.gov/safetycampaign\">Safety Campaigns</a></li><li><a href=\"https://www.weather.gov/safety/wind\">Wind</a></li><li><a href=\"https://www.weather.gov/safety/drought\">Drought</a></li><li><a href=\"https://www.weather.gov/safety/winter\">Winter Weather</a></li></ul> </li>\n",
       "<li class=\"dropdown\"><a class=\"dropdown-toggle\" data-toggle=\"dropdown\" href=\"http://www.weather.gov/informationcenter\">INFORMATION <span class=\"caret\"></span></a><ul class=\"dropdown-menu\" role=\"menu\"><li><a href=\"http://www.weather.gov/wrn/wea\">Wireless Emergency Alerts</a></li><li><a href=\"https://www.weather.gov/owlie/publication_brochures\">Brochures</a></li><li><a href=\"http://www.weather.gov/wrn/\">Weather-Ready Nation</a></li><li><a href=\"https://www.weather.gov/coop/\">Cooperative Observers</a></li><li><a href=\"http://www.weather.gov/briefing/\">Daily Briefing</a></li><li><a href=\"http://www.nws.noaa.gov/om/hazstats.shtml\">Damage/Fatality/Injury Statistics</a></li><li><a href=\"http://mag.ncep.noaa.gov/\">Forecast Models</a></li><li><a href=\"https://www.weather.gov/gis\">GIS Data Portal</a></li><li><a href=\"https://www.weather.gov/nwr/\">NOAA Weather Radio</a></li><li><a href=\"http://weather.gov/publications\">Publications</a></li><li><a href=\"http://www.weather.gov/SKYWARN\">SKYWARN Storm Spotters</a></li><li><a href=\"http://www.weather.gov/StormReady\">StormReady</a></li><li><a href=\"https://www.weather.gov/TsunamiReady/\">TsunamiReady</a></li><li><a href=\"https://www.weather.gov/notification/\">Service Change Notices</a></li></ul> </li>\n",
       "<li class=\"dropdown\"><a class=\"dropdown-toggle\" data-toggle=\"dropdown\" href=\"http://www.weather.gov/education\">EDUCATION <span class=\"caret\"></span></a><ul class=\"dropdown-menu\" role=\"menu\"><li><a href=\"https://www.weather.gov/wrn/force\">Be A Force of Nature</a></li><li><a href=\"http://www.weather.gov/owlie\">NWS Education Home</a></li></ul> </li>\n",
       "<li class=\"dropdown\"><a class=\"dropdown-toggle\" data-toggle=\"dropdown\" href=\"http://www.weather.gov/news/\">NEWS <span class=\"caret\"></span></a><ul class=\"dropdown-menu\" role=\"menu\"><li><a href=\"http://www.weather.gov/news\">NWS News</a></li><li><a href=\"https://www.weather.gov/wrn/calendar\">Events</a></li><li><a href=\"https://www.weather.gov/owlie/publication_brochures\">Pubs/Brochures/Booklets </a></li><li><a href=\"http://www.noaa.gov/NOAA-Communications\">NWS Media Contacts</a></li></ul> </li>\n",
       "<li class=\"dropdown\"><a class=\"dropdown-toggle\" data-toggle=\"dropdown\" href=\"http://www.weather.gov/search\">SEARCH <span class=\"caret\"></span></a><ul class=\"dropdown-menu\" role=\"menu\"> <li><!-- Begin search code -->\n",
       "<div id=\"site-search\">\n",
       "<form action=\"//search.usa.gov/search\" method=\"get\" style=\"margin-bottom: 0; margin-top: 0;\">\n",
       "<input name=\"v:project\" type=\"hidden\" value=\"firstgov\"/>\n",
       "<label for=\"query\">Search For</label>\n",
       "<input id=\"query\" name=\"query\" size=\"12\" type=\"text\"/>\n",
       "<input type=\"submit\" value=\"Go\"/>\n",
       "<p>\n",
       "<input checked=\"checked\" id=\"nws\" name=\"affiliate\" type=\"radio\" value=\"nws.noaa.gov\"/>\n",
       "<label class=\"search-scope\" for=\"nws\">NWS</label>\n",
       "<input id=\"noaa\" name=\"affiliate\" type=\"radio\" value=\"noaa.gov\"/>\n",
       "<label class=\"search-scope\" for=\"noaa\">All NOAA</label>\n",
       "</p>\n",
       "</form>\n",
       "</div>\n",
       "</li>\n",
       "</ul> </li>\n",
       "<li class=\"dropdown\"><a class=\"dropdown-toggle\" data-toggle=\"dropdown\" href=\"http://www.weather.gov/about\">ABOUT <span class=\"caret\"></span></a><ul class=\"dropdown-menu\" role=\"menu\"><li><a href=\"http://www.weather.gov/about\">About NWS</a></li><li><a href=\"http://www.weather.gov/organization\">Organization</a></li><li><a href=\"https://www.weather.gov/media/wrn/NWS-2023-Strategic-Plan.pdf\">Strategic Plan</a></li><li><a href=\"http://www.weather.gov/careers/#diversity\">Commitment to Diversity</a></li><li><a href=\"https://sites.google.com/a/noaa.gov/nws-insider/\">For NWS Employees</a></li><li><a href=\"http://www.weather.gov/insider\">International</a></li><li><a href=\"http://www.weather.gov/ncep\">National Centers</a></li><li><a href=\"http://www.weather.gov/careers/\">Careers</a></li><li><a href=\"http://www.weather.gov/contact\">Contact Us</a></li><li><a href=\"https://w1.weather.gov/glossary\">Glossary</a></li><li><a href=\"https://weather.gov/socialmedia\">Social Media</a></li></ul> </li>\n",
       "</ul>\n",
       "</div>\n",
       "</div>\n",
       "</nav>\n",
       "<div class=\"contentArea\">\n",
       "<!-- Start Forecastsearch -->\n",
       "<div class=\"\" id=\"fcst-search\">\n",
       "<form action=\"https://forecast.weather.gov/zipcity.php\" class=\"form-inline\" id=\"getForecast\" method=\"get\" name=\"getForecast\" role=\"form\">\n",
       "<div id=\"getfcst-body\">\n",
       "<input class=\"form-control\" id=\"inputstring\" name=\"inputstring\" placeholder=\"\" type=\"text\"/>\n",
       "<input class=\"btn btn-default\" id=\"btnSearch\" name=\"btnSearch\" type=\"submit\" value=\"Go\"/>\n",
       "<div id=\"txtHelp\"><a href=\"javascript:void(window.open('http://weather.gov/ForecastSearchHelp.html','locsearchhelp','status=0,toolbar=0,location=0,menubar=0,directories=0,resizable=1,scrollbars=1,height=500,width=530').focus());\">View Location Examples</a></div>\n",
       "</div>\n",
       "<div id=\"txtError\">\n",
       "<div id=\"errorNoResults\" style=\"display:none;\">Sorry, the location you searched for was not found. Please try another search.</div>\n",
       "<div id=\"errorMultipleResults\" style=\"display:none\">Multiple locations were found. Please select one of the following:</div>\n",
       "<div id=\"errorChoices\" style=\"display:none\"></div>\n",
       "<input id=\"btnCloseError\" style=\"display:none\" type=\"button\" value=\"Close\"/>\n",
       "</div>\n",
       "<div id=\"getfcst-head\">\n",
       "<p>Your local forecast office is</p>\n",
       "<h3 id=\"getfcst-headOffice\"></h3>\n",
       "</div>\n",
       "</form>\n",
       "</div>\n",
       "<!-- end Forecastsearch -->\n",
       "<link href=\"/css/topnews.css\" rel=\"stylesheet\" type=\"text/css\"/>\n",
       "<div id=\"news-items\">\n",
       "<div id=\"topnews\">\n",
       "<div class=\"icon\"><img src=\"/images/news-important.jpg\"/></div>\n",
       "<div class=\"body\">\n",
       "<h1 style=\"font-size: 11pt;\">Summer Heat Across the South and Southwest; Severe Thunderstorm Threats Increasing and Expanding</h1>\n",
       "<p>\n",
       "            Prolonged dangerous summer heat wave continues for portions of the South and Southwest with several new record temperatures are forecast. Severe thunderstorms are possible for areas of the Plains, Tennessee Valley and Great Lakes Region today, with the threat expanding across New England. More severe thunderstorms are forecast for the Plains, Ohio Valley and Northeast into the weekend. \n",
       "            <a href=\"http://www.wpc.ncep.noaa.gov/discussions/hpcdiscussions.php?disc=pmdspd\" target=\"_blank\">Read More &gt;</a>\n",
       "</p>\n",
       "</div>\n",
       "</div>\n",
       "</div>\n",
       "<script type=\"text/javascript\">(function ($) { var topnews = $(\"#topnews\"); topnews.hide(); $.get(\"siteNews.php\", {a:\"lot\"},function(response){ if (response !== \"false\") topnews.replaceWith($(response)); topnews.show(); }); })(jQuery);</script><!-- PageFormat-Land -->\n",
       "<script language=\"javascript\">document.title = '7-Day Forecast 41.88N 87.65W';</script><img src=\"images/track_land_point.png\" style=\"display:none;\"/><div class=\"panel panel-danger\"><div class=\"panel-heading\"><h3 class=\"panel-title\">Hazardous Weather Conditions</h3></div><div class=\"panel-body\"><ul><li><a class=\"anchor-hazards\" href=\"showsigwx.php?warnzone=ILZ104&amp;warncounty=ILC031&amp;firewxzone=ILZ014&amp;local_place1=4 Miles NE Chicago IL&amp;product1=Hazardous+Weather+Outlook&amp;lat=41.8843&amp;lon=-87.6324\" id=\"hazard-ILZ104-Hazardous+Weather+Outlook-0\">Hazardous Weather Outlook </a></li></ul></div></div>\n",
       "<div id=\"quickLinks\">\n",
       "<span class=\"lang-spanish\"><a href=\"//forecast.weather.gov/MapClick.php?lat=41.8843&amp;lon=-87.6324&amp;lg=sp\">En Español</a></span>\n",
       "</div>\n",
       "<!-- Current Conditions -->\n",
       "<div class=\"panel panel-default\" id=\"current-conditions\">\n",
       "<!-- Current Conditions header row -->\n",
       "<div class=\"panel-heading\">\n",
       "<div>\n",
       "<b>Current conditions at</b>\n",
       "<h2 class=\"panel-title\">Chicago, Chicago Midway Airport (KMDW)</h2>\n",
       "<span class=\"smallTxt\"><b>Lat: </b>41.78°N<b>Lon: </b>87.76°W<b>Elev: </b>617ft.</span>\n",
       "</div>\n",
       "</div>\n",
       "<div class=\"panel-body\" id=\"current-conditions-body\">\n",
       "<!-- Graphic and temperatures -->\n",
       "<div class=\"pull-left\" id=\"current_conditions-summary\">\n",
       "<img alt=\"\" class=\"pull-left\" src=\"newimages/large/few.png\"/>\n",
       "<p class=\"myforecast-current\">A Few Clouds</p>\n",
       "<p class=\"myforecast-current-lrg\">75°F</p>\n",
       "<p class=\"myforecast-current-sm\">24°C</p>\n",
       "</div>\n",
       "<div class=\"pull-left\" id=\"current_conditions_detail\">\n",
       "<table>\n",
       "<tr>\n",
       "<td class=\"text-right\"><b>Humidity</b></td>\n",
       "<td>71%</td>\n",
       "</tr>\n",
       "<tr>\n",
       "<td class=\"text-right\"><b>Wind Speed</b></td>\n",
       "<td>Calm</td>\n",
       "</tr>\n",
       "<tr>\n",
       "<td class=\"text-right\"><b>Barometer</b></td>\n",
       "<td>30.00 in (1015.0 mb)</td>\n",
       "</tr>\n",
       "<tr>\n",
       "<td class=\"text-right\"><b>Dewpoint</b></td>\n",
       "<td>65°F (18°C)</td>\n",
       "</tr>\n",
       "<tr>\n",
       "<td class=\"text-right\"><b>Visibility</b></td>\n",
       "<td>10.00 mi</td>\n",
       "</tr>\n",
       "<tr>\n",
       "<td class=\"text-right\"><b>Last update</b></td>\n",
       "<td>\n",
       "                3 Aug 8:53 am CDT            </td>\n",
       "</tr>\n",
       "</table>\n",
       "</div>\n",
       "<div id=\"current_conditions_station\">\n",
       "<div class=\"current-conditions-extra\">\n",
       "<!-- Right hand section -->\n",
       "<p class=\"moreInfo\"><b>More Information:</b></p><p><a href=\"https://www.weather.gov/lot\" id=\"localWFO\" title=\"Chicago, IL\"><span class=\"hideText\">Local</span> Forecast Office</a><a href=\"obslocal.php?warnzone=ILZ104&amp;local_place=4 Miles NE Chicago IL&amp;zoneid=CDT&amp;offset=18000\" id=\"moreWx\">More Local Wx</a><a href=\"//www.weather.gov/data/obhistory/KMDW.html\" id=\"3dayHist\">3 Day History</a><a href=\"//mobile.weather.gov/index.php?lat=41.8843&amp;lon=-87.6324&amp;unit=0&amp;lg=english\" id=\"mobileWxLink\">Mobile Weather</a><a href=\"MapClick.php?lat=41.8843&amp;lon=-87.6324&amp;unit=0&amp;lg=english&amp;FcstType=graphical\" id=\"wxGraph\">Hourly <span class=\"hideText\">Weather </span>Forecast</a></p> </div>\n",
       "<!-- /current_conditions_station -->\n",
       "</div>\n",
       "<!-- /current-conditions-body -->\n",
       "</div>\n",
       "<!-- /Current Conditions -->\n",
       "</div>\n",
       "<!-- 7-Day Forecast -->\n",
       "<div class=\"panel panel-default\" id=\"seven-day-forecast\">\n",
       "<div class=\"panel-heading\">\n",
       "<b>Extended Forecast for</b>\n",
       "<h2 class=\"panel-title\">\n",
       "                4 Miles NE Chicago IL    </h2>\n",
       "</div>\n",
       "<div class=\"panel-body\" id=\"seven-day-forecast-body\">\n",
       "<div id=\"seven-day-forecast-container\"><ul class=\"list-unstyled\" id=\"seven-day-forecast-list\"><li class=\"forecast-tombstone\">\n",
       "<div class=\"tombstone-container\">\n",
       "<p class=\"period-name\">Today<br/><br/></p>\n",
       "<p><img alt=\"Today: Mostly sunny, with a high near 81. Light east southeast wind becoming east 5 to 10 mph in the afternoon. \" class=\"forecast-icon\" src=\"newimages/medium/sct.png\" title=\"Today: Mostly sunny, with a high near 81. Light east southeast wind becoming east 5 to 10 mph in the afternoon. \"/></p><p class=\"short-desc\">Mostly Sunny</p><p class=\"temp temp-high\">High: 81 °F</p></div></li><li class=\"forecast-tombstone\">\n",
       "<div class=\"tombstone-container\">\n",
       "<p class=\"period-name\">Tonight<br/><br/></p>\n",
       "<p><img alt=\"Tonight: Partly cloudy, with a low around 71. Southeast wind around 5 mph becoming calm  in the evening. \" class=\"forecast-icon\" src=\"newimages/medium/nsct.png\" title=\"Tonight: Partly cloudy, with a low around 71. Southeast wind around 5 mph becoming calm  in the evening. \"/></p><p class=\"short-desc\">Partly Cloudy</p><p class=\"temp temp-low\">Low: 71 °F</p></div></li><li class=\"forecast-tombstone\">\n",
       "<div class=\"tombstone-container\">\n",
       "<p class=\"period-name\">Friday<br/><br/></p>\n",
       "<p><img alt=\"Friday: Mostly sunny, with a high near 78. Light and variable wind becoming north northeast 5 to 10 mph in the morning. Winds could gust as high as 15 mph. \" class=\"forecast-icon\" src=\"newimages/medium/sct.png\" title=\"Friday: Mostly sunny, with a high near 78. Light and variable wind becoming north northeast 5 to 10 mph in the morning. Winds could gust as high as 15 mph. \"/></p><p class=\"short-desc\">Mostly Sunny</p><p class=\"temp temp-high\">High: 78 °F</p></div></li><li class=\"forecast-tombstone\">\n",
       "<div class=\"tombstone-container\">\n",
       "<p class=\"period-name\">Friday<br/>Night</p>\n",
       "<p><img alt=\"Friday Night: Mostly cloudy, with a low around 70. North northeast wind 5 to 10 mph. \" class=\"forecast-icon\" src=\"newimages/medium/nbkn.png\" title=\"Friday Night: Mostly cloudy, with a low around 70. North northeast wind 5 to 10 mph. \"/></p><p class=\"short-desc\">Mostly Cloudy</p><p class=\"temp temp-low\">Low: 70 °F</p></div></li><li class=\"forecast-tombstone\">\n",
       "<div class=\"tombstone-container\">\n",
       "<p class=\"period-name\">Saturday<br/><br/></p>\n",
       "<p><img alt=\"Saturday: Partly sunny, with a high near 77. East wind 5 to 10 mph. \" class=\"forecast-icon\" src=\"newimages/medium/bkn.png\" title=\"Saturday: Partly sunny, with a high near 77. East wind 5 to 10 mph. \"/></p><p class=\"short-desc\">Partly Sunny</p><p class=\"temp temp-high\">High: 77 °F</p></div></li><li class=\"forecast-tombstone\">\n",
       "<div class=\"tombstone-container\">\n",
       "<p class=\"period-name\">Saturday<br/>Night</p>\n",
       "<p><img alt=\"Saturday Night: Showers and thunderstorms likely, mainly after 1am.  Mostly cloudy, with a low around 70. Chance of precipitation is 70%.\" class=\"forecast-icon\" src=\"DualImage.php?i=ntsra&amp;j=ntsra&amp;ip=30&amp;jp=70\" title=\"Saturday Night: Showers and thunderstorms likely, mainly after 1am.  Mostly cloudy, with a low around 70. Chance of precipitation is 70%.\"/></p><p class=\"short-desc\">Chance<br/>T-storms then<br/>T-storms<br/>Likely</p><p class=\"temp temp-low\">Low: 70 °F</p></div></li><li class=\"forecast-tombstone\">\n",
       "<div class=\"tombstone-container\">\n",
       "<p class=\"period-name\">Sunday<br/><br/></p>\n",
       "<p><img alt=\"Sunday: Showers and thunderstorms likely, mainly after 1pm.  Partly sunny, with a high near 85. Chance of precipitation is 70%.\" class=\"forecast-icon\" src=\"newimages/medium/scttsra70.png\" title=\"Sunday: Showers and thunderstorms likely, mainly after 1pm.  Partly sunny, with a high near 85. Chance of precipitation is 70%.\"/></p><p class=\"short-desc\">T-storms<br/>Likely</p><p class=\"temp temp-high\">High: 85 °F</p></div></li><li class=\"forecast-tombstone\">\n",
       "<div class=\"tombstone-container\">\n",
       "<p class=\"period-name\">Sunday<br/>Night</p>\n",
       "<p><img alt=\"Sunday Night: Showers and thunderstorms.  Mostly cloudy, with a low around 68.\" class=\"forecast-icon\" src=\"newimages/medium/ntsra.png\" title=\"Sunday Night: Showers and thunderstorms.  Mostly cloudy, with a low around 68.\"/></p><p class=\"short-desc\">T-storms</p><p class=\"temp temp-low\">Low: 68 °F</p></div></li><li class=\"forecast-tombstone\">\n",
       "<div class=\"tombstone-container\">\n",
       "<p class=\"period-name\">Monday<br/><br/></p>\n",
       "<p><img alt=\"Monday: A chance of showers.  Partly sunny, with a high near 78.\" class=\"forecast-icon\" src=\"newimages/medium/shra.png\" title=\"Monday: A chance of showers.  Partly sunny, with a high near 78.\"/></p><p class=\"short-desc\">Chance<br/>Showers</p><p class=\"temp temp-high\">High: 78 °F</p></div></li></ul></div>\n",
       "<script type=\"text/javascript\">\n",
       "// equalize forecast heights\n",
       "$(function () {\n",
       "    var maxh = 0;\n",
       "    $(\".forecast-tombstone .short-desc\").each(function () {\n",
       "        var h = $(this).height();\n",
       "        if (h > maxh) { maxh = h; }\n",
       "    });\n",
       "    $(\".forecast-tombstone .short-desc\").height(maxh);\n",
       "});\n",
       "</script> </div>\n",
       "</div>\n",
       "<!-- Everything between 7-Day Forecast and Footer goes in this row -->\n",
       "<div class=\"row\" id=\"floatingDivs\">\n",
       "<!-- Everything on the left-hand side -->\n",
       "<div class=\"col-md-7 col-lg-8\">\n",
       "<!-- Detailed Forecast -->\n",
       "<div class=\"panel panel-default\" id=\"detailed-forecast\">\n",
       "<div class=\"panel-heading\">\n",
       "<h2 class=\"panel-title\">Detailed Forecast</h2>\n",
       "</div>\n",
       "<div class=\"panel-body\" id=\"detailed-forecast-body\">\n",
       "<div class=\"row row-odd row-forecast\"><div class=\"col-sm-2 forecast-label\"><b>Today</b></div><div class=\"col-sm-10 forecast-text\">Mostly sunny, with a high near 81. Light east southeast wind becoming east 5 to 10 mph in the afternoon. </div></div><div class=\"row row-even row-forecast\"><div class=\"col-sm-2 forecast-label\"><b>Tonight</b></div><div class=\"col-sm-10 forecast-text\">Partly cloudy, with a low around 71. Southeast wind around 5 mph becoming calm  in the evening. </div></div><div class=\"row row-odd row-forecast\"><div class=\"col-sm-2 forecast-label\"><b>Friday</b></div><div class=\"col-sm-10 forecast-text\">Mostly sunny, with a high near 78. Light and variable wind becoming north northeast 5 to 10 mph in the morning. Winds could gust as high as 15 mph. </div></div><div class=\"row row-even row-forecast\"><div class=\"col-sm-2 forecast-label\"><b>Friday Night</b></div><div class=\"col-sm-10 forecast-text\">Mostly cloudy, with a low around 70. North northeast wind 5 to 10 mph. </div></div><div class=\"row row-odd row-forecast\"><div class=\"col-sm-2 forecast-label\"><b>Saturday</b></div><div class=\"col-sm-10 forecast-text\">Partly sunny, with a high near 77. East wind 5 to 10 mph. </div></div><div class=\"row row-even row-forecast\"><div class=\"col-sm-2 forecast-label\"><b>Saturday Night</b></div><div class=\"col-sm-10 forecast-text\">Showers and thunderstorms likely, mainly after 1am.  Mostly cloudy, with a low around 70. Chance of precipitation is 70%.</div></div><div class=\"row row-odd row-forecast\"><div class=\"col-sm-2 forecast-label\"><b>Sunday</b></div><div class=\"col-sm-10 forecast-text\">Showers and thunderstorms likely, mainly after 1pm.  Partly sunny, with a high near 85. Chance of precipitation is 70%.</div></div><div class=\"row row-even row-forecast\"><div class=\"col-sm-2 forecast-label\"><b>Sunday Night</b></div><div class=\"col-sm-10 forecast-text\">Showers and thunderstorms.  Mostly cloudy, with a low around 68.</div></div><div class=\"row row-odd row-forecast\"><div class=\"col-sm-2 forecast-label\"><b>Monday</b></div><div class=\"col-sm-10 forecast-text\">A chance of showers.  Partly sunny, with a high near 78.</div></div><div class=\"row row-even row-forecast\"><div class=\"col-sm-2 forecast-label\"><b>Monday Night</b></div><div class=\"col-sm-10 forecast-text\">Mostly cloudy, with a low around 66.</div></div><div class=\"row row-odd row-forecast\"><div class=\"col-sm-2 forecast-label\"><b>Tuesday</b></div><div class=\"col-sm-10 forecast-text\">Mostly sunny, with a high near 81.</div></div><div class=\"row row-even row-forecast\"><div class=\"col-sm-2 forecast-label\"><b>Tuesday Night</b></div><div class=\"col-sm-10 forecast-text\">Partly cloudy, with a low around 66.</div></div><div class=\"row row-odd row-forecast\"><div class=\"col-sm-2 forecast-label\"><b>Wednesday</b></div><div class=\"col-sm-10 forecast-text\">Sunny, with a high near 84.</div></div> </div>\n",
       "</div>\n",
       "<!-- /Detailed Forecast -->\n",
       "<!-- Additional Forecasts and Information -->\n",
       "<div class=\"panel panel-default\" id=\"additional_forecasts\">\n",
       "<div class=\"panel-heading\">\n",
       "<h2 class=\"panel-title\">Additional Forecasts and Information</h2>\n",
       "</div>\n",
       "<div class=\"panel-body\" id=\"additional-forecasts-body\">\n",
       "<p class=\"myforecast-location\"><a href=\"MapClick.php?zoneid=ILZ104\">Zone Area Forecast for Central Cook, IL</a></p>\n",
       "<!-- First nine-ten links -->\n",
       "<div id=\"linkBlockContainer\">\n",
       "<div class=\"linkBlock\">\n",
       "<ul class=\"list-unstyled\">\n",
       "<li><a href=\"//forecast.weather.gov/product.php?site=LOT&amp;issuedby=LOT&amp;product=AFD&amp;format=CI&amp;version=1&amp;glossary=1\">Forecast Discussion</a></li>\n",
       "<li><a href=\"MapClick.php?lat=41.8843&amp;lon=-87.6324&amp;unit=0&amp;lg=english&amp;FcstType=text&amp;TextType=2\">Printable Forecast</a></li>\n",
       "<li><a href=\"MapClick.php?lat=41.8843&amp;lon=-87.6324&amp;unit=0&amp;lg=english&amp;FcstType=text&amp;TextType=1\">Text Only Forecast</a></li>\n",
       "</ul>\n",
       "</div>\n",
       "<div class=\"linkBlock\">\n",
       "<ul class=\"list-unstyled\">\n",
       "<li><a href=\"MapClick.php?lat=41.8843&amp;lon=-87.6324&amp;unit=0&amp;lg=english&amp;FcstType=graphical\">Hourly Weather Forecast</a></li>\n",
       "<li><a href=\"MapClick.php?lat=41.8843&amp;lon=-87.6324&amp;unit=0&amp;lg=english&amp;FcstType=digital\">Tabular Forecast</a></li>\n",
       "<!-- <li><a href=\"afm/PointClick.php?lat=41.8843&lon=-87.6324\">Quick Forecast</a></li> -->\n",
       "</ul>\n",
       "</div>\n",
       "<div class=\"linkBlock\">\n",
       "<ul class=\"list-unstyled\">\n",
       "<li><a href=\"//weather.gov/aq/probe_aq_data.php?latitude=41.8843&amp;longitude=-87.6324\">Air Quality Forecasts</a></li>\n",
       "<li><a href=\"MapClick.php?lat=41.8843&amp;lon=-87.6324&amp;FcstType=text&amp;unit=1&amp;lg=en\">International System of Units</a></li>\n",
       "</ul>\n",
       "</div>\n",
       "<!-- /First nine-ten links -->\n",
       "<!-- Additional links -->\n",
       "<div class=\"linkBlock\"><ul class=\"list-unstyled\"><li><a href=\"https://www.weather.gov/erh/ghwo?wfo=lot\" target=\"_self\">Graphical Hazardous Weather Outlook</a></li><li><a href=\"http://forecast.weather.gov/product.php?issuedby=LOT&amp;product=HWO&amp;site=lot\" target=\"_self\">Hazardous Weather</a></li></ul></div><div class=\"linkBlock\"><ul class=\"list-unstyled\"><li><a href=\"http://www.weather.gov/lot/observations\" target=\"_self\">Regional Weather Conditions</a></li><li><a href=\"http://www.weather.gov/climate/index.php?wfo=lot\" target=\"_self\">Past Weather Information</a></li></ul></div><div class=\"linkBlock\"><ul class=\"list-unstyled\"></ul></div>\n",
       "</div> <!-- /linkBlockContainer -->\n",
       "</div><!-- /additional-forecasts-body-->\n",
       "</div> <!-- /additional_forecasts -->\n",
       "</div> <!-- /Everything on the left-hand side -->\n",
       "<!-- right-side-data -->\n",
       "<div class=\"col-md-5 col-lg-4\" id=\"right-side-data\">\n",
       "<div id=\"mapAndDescriptionArea\">\n",
       "<!-- openlayer map -->\n",
       "<style>\n",
       "#custom-search{\n",
       "display: block;\n",
       "position: relative;\n",
       "z-index: 50;\n",
       "top: 52px;\n",
       "left: 60px;\n",
       "}\n",
       "#esri-geocoder-search{\n",
       "display: block;\n",
       "position: relative;\n",
       "z-index: 50;\n",
       "top: 52px;\n",
       "left: 60px;\n",
       "}\n",
       "#emap{\n",
       "margin-top:15px;\n",
       "cursor:pointer;\n",
       "height:370px;\n",
       "width:100%;\n",
       "border: 1px solid #ccc;\n",
       "border-radius: 3px;\n",
       "}\n",
       "#switch-basemap-container{\n",
       "}\n",
       "#basemap-selection-form ul{\n",
       "list-style: none;\n",
       " margin: 0px;\n",
       "}\n",
       "#basemap-selection-form li{\n",
       "float: left;\n",
       "}\n",
       ".disclaimer{\n",
       "margin-top:350px;\n",
       "margin-left: 5px;\n",
       "z-index: 100;\n",
       "position: absolute;\n",
       "text-transform: none;\n",
       "}\n",
       ".esriAttributionLastItem{\n",
       "text-transform: none;\n",
       "}\n",
       ".esriSimpleSlider div{\n",
       "height:22px;\n",
       "line-height:20px;\n",
       "width:20px;\n",
       "}\n",
       "#point-forecast-map-label {\n",
       "text-align:center;\n",
       "font-weight:bold;\n",
       "color:black;\n",
       "}\n",
       "@media (max-width: 767px) {\n",
       "#emap{\n",
       "margin-top:.5em;\n",
       "height:270px;\n",
       "}\n",
       ".disclaimer{\n",
       "margin-top:250px;\n",
       "}\n",
       "}\n",
       "</style>\n",
       "<!-- forecast-map -->\n",
       "<div class=\"point-forecast-map\">\n",
       "<div class=\"point-forecast-map-header text-center\">\n",
       "<div id=\"toolbar\">\n",
       "<div id=\"switch-basemap-container\">\n",
       "<div id=\"basemap-selection-form\" title=\"Choose a Basemap\">\n",
       "<div id=\"basemap-menu\">\n",
       "<select autocomplete=\"off\" id=\"basemap-selected\" name=\"basemap-selected\" title=\"Basemap Dropdown Menu\">\n",
       "<option value=\"none\">Select Basemap</option>\n",
       "<option selected=\"\" value=\"topo\">Topographic</option>\n",
       "<option value=\"streets\">Streets</option>\n",
       "<option value=\"satellite\">Satellite</option>\n",
       "<option value=\"ocean\">Ocean</option>\n",
       "</select>\n",
       "</div>\n",
       "</div>\n",
       "<div id=\"point-forecast-map-label\">\n",
       "                    Click Map For Forecast\n",
       "                </div>\n",
       "</div><!-- //#switch-basemap-container -->\n",
       "<div style=\"clear:both;\"></div>\n",
       "</div><!-- //#toolbar -->\n",
       "</div><!-- //.point-forecast-map-header -->\n",
       "<div id=\"emap\">\n",
       "<noscript><center><br/><br/><b>Map function requires Javascript and a compatible browser.</b></center></noscript>\n",
       "<div class=\"disclaimer\"><a href=\"http://www.weather.gov/disclaimer#esri\">Disclaimer</a></div>\n",
       "</div><!-- //#emap -->\n",
       "<div class=\"point-forecast-map-footer\">\n",
       "<img alt=\"Map Legend\" height=\"16\" src=\"./images/wtf/maplegend_forecast-area.gif\" width=\"100\"/>\n",
       "</div><!-- //.point-forecast-map-footer -->\n",
       "</div> <!-- //.point-forecast-map -->\n",
       "<!-- //forecast-map -->\n",
       "<!-- //openlayer map -->\n",
       "<!-- About this Forecast -->\n",
       "<div id=\"about_forecast\">\n",
       "<div class=\"fullRow\">\n",
       "<div class=\"left\">Point Forecast:</div>\n",
       "<div class=\"right\">4 Miles NE Chicago IL<br/> 41.88°N 87.65°W</div>\n",
       "</div>\n",
       "<div class=\"fullRow\">\n",
       "<div class=\"left\"><a href=\"//www.weather.gov/glossary/index.php?word=Last+update\" target=\"_blank\">Last Update</a>: </div>\n",
       "<div class=\"right\">5:56 am CDT Aug 3, 2023</div>\n",
       "</div>\n",
       "<div class=\"fullRow\">\n",
       "<div class=\"left\"><a href=\"//www.weather.gov/glossary/index.php?word=forecast+valid+for\" target=\"_blank\">Forecast Valid</a>: </div>\n",
       "<div class=\"right\">9am CDT Aug 3, 2023-6pm CDT Aug 9, 2023</div>\n",
       "</div>\n",
       "<div class=\"fullRow\">\n",
       "<div class=\"left\"> </div>\n",
       "<div class=\"right\"><a href=\"https://forecast.weather.gov/product.php?site=LOT&amp;issuedby=LOT&amp;product=AFD&amp;format=CI&amp;version=1&amp;glossary=1\">Forecast Discussion</a></div>\n",
       "</div>\n",
       "<div class=\"fullRow\">\n",
       "<div class=\"left\"> </div>\n",
       "<div class=\"right\">\n",
       "<a href=\"MapClick.php?lat=41.8843&amp;lon=-87.6324&amp;unit=0&amp;lg=english&amp;FcstType=kml\"><img alt=\"Get as KML\" height=\"17\" src=\"/images/wtf/kml_badge.png\" width=\"45\"/></a>\n",
       "<a href=\"MapClick.php?lat=41.8843&amp;lon=-87.6324&amp;unit=0&amp;lg=english&amp;FcstType=dwml\"><img alt=\"Get as XML\" height=\"17\" src=\"/images/wtf/xml_badge.png\" width=\"45\"/></a>\n",
       "</div>\n",
       "</div>\n",
       "</div>\n",
       "<!-- /About this Forecast -->\n",
       "</div>\n",
       "<!--additionalForecast-->\n",
       "<div class=\"panel panel-default\" id=\"additionalForecast\">\n",
       "<div class=\"panel-heading\">\n",
       "<h2 class=\"panel-title\">Additional Resources</h2>\n",
       "</div>\n",
       "<div class=\"panel-body\">\n",
       "<!-- Radar & Satellite Images -->\n",
       "<div class=\"subItem\" id=\"radar\">\n",
       "<h4>Radar &amp; Satellite Image</h4>\n",
       "<a href=\"http://radar.weather.gov/station/klot/standard\"><img alt=\"Link to Local Radar Data\" class=\"radar-thumb\" src=\"http://radar.weather.gov/ridge/standard/KLOT_0.gif\" title=\"Link to Local Radar Data\"/></a> <a href=\"https://www.star.nesdis.noaa.gov/GOES/GOES16_CONUS.php\"><img alt=\"Link to Satellite Data\" class=\"satellite-thumb\" src=\"https://cdn.star.nesdis.noaa.gov/GOES16/ABI/CONUS/GEOCOLOR/625x375.jpg\" title=\"Link to Satellite Data\"/></a> </div>\n",
       "<!-- /Radar & Satellite Images -->\n",
       "<!-- Hourly Weather Forecast -->\n",
       "<div class=\"subItem\" id=\"feature\">\n",
       "<h4>Hourly Weather Forecast</h4>\n",
       "<a href=\"MapClick.php?lat=41.8843&amp;lon=-87.6324&amp;unit=0&amp;lg=english&amp;FcstType=graphical\"><img class=\"img-responsive\" src=\"newimages/medium/hourlyweather.png\"/></a>\n",
       "</div>\n",
       "<!-- /Hourly Weather Forecast -->\n",
       "<!-- NDFD -->\n",
       "<div class=\"subItem\" id=\"NDFD\">\n",
       "<h4>National Digital Forecast Database</h4>\n",
       "<div class=\"one-sixth-first\"><a href=\"//graphical.weather.gov/sectors/uppermissvly.php?element=MaxT\"><img alt=\"National Digital Forecast Database Maximum Temperature Forecast\" border=\"0\" height=\"150\" src=\"//graphical.weather.gov/images/thumbnail/latest_MaxMinT_uppermissvly_thumbnail.png\" title=\"National Digital Forecast Database Maximum Temperature Forecast\" width=\"147\"/></a>\n",
       "<p><a href=\"//graphical.weather.gov/sectors/uppermissvly.php?element=MaxT\">High Temperature</a></p></div><div class=\"one-sixth-first\"><a href=\"//graphical.weather.gov/sectors/uppermissvly.php?element=Wx\"><img alt=\"National Digital Forecast Database Weather Element Forecast\" border=\"0\" height=\"150\" src=\"//graphical.weather.gov/images/thumbnail/latest_Wx_uppermissvly_thumbnail.png\" title=\"National Digital Forecast Database Weather Element Forecast\" width=\"147\"/></a>\n",
       "<p><a href=\"//graphical.weather.gov/sectors/uppermissvly.php?element=Wx\">Chance of Precipitation</a></p></div> </div>\n",
       "<!-- /NDFD -->\n",
       "</div>\n",
       "</div>\n",
       "<!-- /additionalForecast -->\n",
       "</div>\n",
       "<!-- /col-md-4 -->\n",
       "<!-- /right-side-data -->\n",
       "<script language=\"javascript\">$( document ).ready(function() { load_openlayers_map('', '', '', '{\"centroid_lat\":\"41.8843\",\"centroid_lon\":\"-87.6324\",\"lat1\":\"41.8675\",\"lon1\":\"-87.6615\",\"lat2\":\"41.8895\",\"lon2\":\"-87.66\",\"lat3\":\"41.8885\",\"lon3\":\"-87.631\",\"lat4\":\"41.8665\",\"lon4\":\"-87.6325\"}') });</script></div>\n",
       "<!-- /row  -->\n",
       "</div>\n",
       "<!-- /PageFormat-Land -->\n",
       "<footer>\n",
       "<div class=\"sitemap-content row\" id=\"sitemap\">\n",
       "<div class=\"col-xs-12\">\n",
       "<div class=\"sitemap-columns\">\n",
       "<div class=\"sitemap-section\">\n",
       "<div class=\"panel-heading\">\n",
       "<a class=\"sitemap-section-heading\" href=\"http://alerts.weather.gov\">ACTIVE ALERTS</a>\n",
       "<button class=\"menu-toggle pull-right\" data-target=\"#sitemap-1\" data-toggle=\"collapse\" type=\"button\">\n",
       "<span class=\"sr-only\">Toggle menu</span>\n",
       "<span class=\"icon-bar\"></span>\n",
       "<span class=\"icon-bar\"></span>\n",
       "<span class=\"icon-bar\"></span>\n",
       "</button>\n",
       "</div>\n",
       "<div class=\"sitemap-section-body panel-body collapsable collapse\" id=\"sitemap-1\">\n",
       "<ul class=\"list-unstyled\">\n",
       "<li><a href=\" http://alerts.weather.gov\">Warnings By State</a></li>\n",
       "<li><a href=\" http://www.wpc.ncep.noaa.gov/ww.shtml\">Excessive Rainfall and Winter Weather Forecasts</a></li>\n",
       "<li><a href=\"http://water.weather.gov/ahps/?current_color=flood&amp;current_type=all&amp;fcst_type=obs&amp;conus_map=d_map\">River Flooding </a></li>\n",
       "<li><a href=\" http://www.weather.gov\">Latest Warnings</a></li>\n",
       "<li><a href=\" http://www.spc.noaa.gov/products/outlook/\">Thunderstorm/Tornado Outlook </a></li>\n",
       "<li><a href=\" http://www.nhc.noaa.gov/\">Hurricanes </a></li>\n",
       "<li><a href=\" http://www.spc.noaa.gov/products/fire_wx/\">Fire Weather Outlooks </a></li>\n",
       "<li><a href=\" http://www.cpc.ncep.noaa.gov/products/stratosphere/uv_index/uv_alert.shtml\">UV Alerts </a></li>\n",
       "<li><a href=\" http://www.drought.gov/\">Drought </a></li>\n",
       "<li><a href=\"http://www.swpc.noaa.gov/products/alerts-watches-and-warnings\">Space Weather </a></li>\n",
       "<li><a href=\" http://www.nws.noaa.gov/nwr/\">NOAA Weather Radio </a></li>\n",
       "<li><a href=\" http://alerts.weather.gov/\">NWS CAP Feeds </a></li>\n",
       "</ul>\n",
       "</div>\n",
       "</div>\n",
       "<div class=\"sitemap-section\">\n",
       "<div class=\"panel-heading\">\n",
       "<a class=\"sitemap-section-heading\" href=\"https://www.weather.gov/wrh/climate\">PAST WEATHER</a>\n",
       "<button class=\"menu-toggle pull-right\" data-target=\"#sitemap-2\" data-toggle=\"collapse\" type=\"button\">\n",
       "<span class=\"sr-only\">Toggle menu</span>\n",
       "<span class=\"icon-bar\"></span>\n",
       "<span class=\"icon-bar\"></span>\n",
       "<span class=\"icon-bar\"></span>\n",
       "</button>\n",
       "</div>\n",
       "<div class=\"sitemap-section-body panel-body collapsable collapse\" id=\"sitemap-2\">\n",
       "<ul class=\"list-unstyled\">\n",
       "<li><a href=\" http://www.cpc.ncep.noaa.gov/products/MD_index.shtml\">Climate Monitoring </a></li>\n",
       "<li><a href=\"https://www.weather.gov/wrh/climate\">Past Weather </a></li>\n",
       "<li><a href=\"https://www.weather.gov/wrh/climate\">Monthly Temps </a></li>\n",
       "<li><a href=\"https://www.weather.gov/wrh/climate\">Records </a></li>\n",
       "<li><a href=\"https://www.esrl.noaa.gov/gmd/grad/solcalc/sunrise.html\">Astronomical Data </a></li>\n",
       "<li><a href=\"https://www.climate.gov/maps-data/dataset/past-weather-zip-code-data-table\">Certified Weather Data </a></li>\n",
       "</ul>\n",
       "</div>\n",
       "</div>\n",
       "<div class=\"sitemap-section\">\n",
       "<div class=\"panel-heading\">\n",
       "<a class=\"sitemap-section-heading\" href=\"http://www.weather.gov/current\">CURRENT CONDITIONS</a>\n",
       "<button class=\"menu-toggle pull-right\" data-target=\"#sitemap-3\" data-toggle=\"collapse\" type=\"button\">\n",
       "<span class=\"sr-only\">Toggle menu</span>\n",
       "<span class=\"icon-bar\"></span>\n",
       "<span class=\"icon-bar\"></span>\n",
       "<span class=\"icon-bar\"></span>\n",
       "</button>\n",
       "</div>\n",
       "<div class=\"sitemap-section-body panel-body collapsable collapse\" id=\"sitemap-3\">\n",
       "<ul class=\"list-unstyled\">\n",
       "<li><a href=\" https://radar.weather.gov\">Radar </a></li>\n",
       "<li><a href=\"http://www.cpc.ncep.noaa.gov/products/monitoring_and_data/\">Climate Monitoring </a></li>\n",
       "<li><a href=\" http://water.weather.gov/ahps/\">River Levels </a></li>\n",
       "<li><a href=\" http://water.weather.gov/precip/\">Observed Precipitation </a></li>\n",
       "<li><a href=\"https://www.wpc.ncep.noaa.gov/sfc/sfcobs/sfcobs.shtml\">Surface Weather </a></li>\n",
       "<li><a href=\"http://www.spc.noaa.gov/obswx/maps/\">Upper Air </a></li>\n",
       "<li><a href=\" http://www.ndbc.noaa.gov/\">Marine and Buoy Reports </a></li>\n",
       "<li><a href=\"http://www.nohrsc.noaa.gov/interactive/html/map.html\">Snow Cover </a></li>\n",
       "<li><a href=\" http://www.weather.gov/satellite\">Satellite </a></li>\n",
       "<li><a href=\" http://www.swpc.noaa.gov/\">Space Weather </a></li>\n",
       "<li><a href=\"http://www.weather.gov/pr\">International Observations</a></li>\n",
       "</ul>\n",
       "</div>\n",
       "</div>\n",
       "<div class=\"sitemap-section\">\n",
       "<div class=\"panel-heading\">\n",
       "<a class=\"sitemap-section-heading\" href=\"http://weather.gov/forecastmaps\">FORECAST</a>\n",
       "<button class=\"menu-toggle pull-right\" data-target=\"#sitemap-4\" data-toggle=\"collapse\" type=\"button\">\n",
       "<span class=\"sr-only\">Toggle menu</span>\n",
       "<span class=\"icon-bar\"></span>\n",
       "<span class=\"icon-bar\"></span>\n",
       "<span class=\"icon-bar\"></span>\n",
       "</button>\n",
       "</div>\n",
       "<div class=\"sitemap-section-body panel-body collapsable collapse\" id=\"sitemap-4\">\n",
       "<ul class=\"list-unstyled\">\n",
       "<li><a href=\" http://www.weather.gov/\">Local Forecast </a></li>\n",
       "<li><a href=\"http://www.weather.gov/pr\">International Forecasts</a></li>\n",
       "<li><a href=\" http://www.spc.noaa.gov/\">Severe Weather </a></li>\n",
       "<li><a href=\" http://www.wpc.ncep.noaa.gov/\">Current Outlook Maps </a></li>\n",
       "<li><a href=\"http://www.cpc.ncep.noaa.gov/products/Drought\">Drought </a></li>\n",
       "<li><a href=\"http://www.weather.gov/fire\">Fire Weather </a></li>\n",
       "<li><a href=\" http://www.wpc.ncep.noaa.gov/\">Fronts/Precipitation Maps </a></li>\n",
       "<li><a href=\" http://www.nws.noaa.gov/forecasts/graphical/\">Current Graphical Forecast Maps </a></li>\n",
       "<li><a href=\"http://water.weather.gov/ahps/forecasts.php\">Rivers </a></li>\n",
       "<li><a href=\"https://www.weather.gov/marine/\">Marine </a></li>\n",
       "<li><a href=\"https://ocean.weather.gov/marine_areas.php\">Offshore and High Seas</a></li>\n",
       "<li><a href=\" http://www.nhc.noaa.gov/\">Hurricanes </a></li>\n",
       "<li><a href=\" http://aviationweather.gov\">Aviation Weather </a></li>\n",
       "<li><a href=\"http://www.cpc.ncep.noaa.gov/products/OUTLOOKS_index.shtml\">Climatic Outlook </a></li>\n",
       "</ul>\n",
       "</div>\n",
       "</div>\n",
       "<div class=\"sitemap-section\">\n",
       "<div class=\"panel-heading\">\n",
       "<a class=\"sitemap-section-heading\" href=\"http://www.weather.gov/informationcenter\">INFORMATION CENTER</a>\n",
       "<button class=\"menu-toggle pull-right\" data-target=\"#sitemap-5\" data-toggle=\"collapse\" type=\"button\">\n",
       "<span class=\"sr-only\">Toggle menu</span>\n",
       "<span class=\"icon-bar\"></span>\n",
       "<span class=\"icon-bar\"></span>\n",
       "<span class=\"icon-bar\"></span>\n",
       "</button>\n",
       "</div>\n",
       "<div class=\"sitemap-section-body panel-body collapsable collapse\" id=\"sitemap-5\">\n",
       "<ul class=\"list-unstyled\">\n",
       "<li><a href=\" http://www.spaceweather.gov\">Space Weather </a></li>\n",
       "<li><a href=\"http://www.weather.gov/briefing/\">Daily Briefing </a></li>\n",
       "<li><a href=\" http://www.nws.noaa.gov/om/marine/home.htm\">Marine </a></li>\n",
       "<li><a href=\"https://www.weather.gov/wrh/climate\">Climate </a></li>\n",
       "<li><a href=\"http://www.weather.gov/fire\">Fire Weather </a></li>\n",
       "<li><a href=\" http://www.aviationweather.gov/\">Aviation </a></li>\n",
       "<li><a href=\"http://mag.ncep.noaa.gov/\">Forecast Models </a></li>\n",
       "<li><a href=\"http://water.weather.gov/ahps/\">Water </a></li>\n",
       "<li><a href=\"https://www.weather.gov/gis/\">GIS</a></li>\n",
       "<li><a href=\" http://www.nws.noaa.gov/om/coop/\">Cooperative Observers </a></li>\n",
       "<li><a href=\"https://www.weather.gov/skywarn/\">Storm Spotters </a></li>\n",
       "<li><a href=\"http://www.tsunami.gov\">Tsunami Warning System</a></li>\n",
       "<li><a href=\"http://water.noaa.gov/\">National Water Center</a></li>\n",
       "<li><a href=\"http://www.weather.gov/pr\">International Weather</a></li>\n",
       "</ul>\n",
       "</div>\n",
       "</div>\n",
       "<div class=\"sitemap-section\">\n",
       "<div class=\"panel-heading\">\n",
       "<a class=\"sitemap-section-heading\" href=\"http://weather.gov/safety\">WEATHER SAFETY</a>\n",
       "<button class=\"menu-toggle pull-right\" data-target=\"#sitemap-6\" data-toggle=\"collapse\" type=\"button\">\n",
       "<span class=\"sr-only\">Toggle menu</span>\n",
       "<span class=\"icon-bar\"></span>\n",
       "<span class=\"icon-bar\"></span>\n",
       "<span class=\"icon-bar\"></span>\n",
       "</button>\n",
       "</div>\n",
       "<div class=\"sitemap-section-body panel-body collapsable collapse\" id=\"sitemap-6\">\n",
       "<ul class=\"list-unstyled\">\n",
       "<li><a href=\"http://www.weather.gov/nwr/\">NOAA Weather Radio</a></li>\n",
       "<li><a href=\"http://www.weather.gov/stormready/\">StormReady</a></li>\n",
       "<li><a href=\"http://www.nws.noaa.gov/om/heat/index.shtml\">Heat </a></li>\n",
       "<li><a href=\"https://www.weather.gov/safety/lightning\">Lightning </a></li>\n",
       "<li><a href=\" http://www.nhc.noaa.gov/prepare/\">Hurricanes </a></li>\n",
       "<li><a href=\"http://www.nws.noaa.gov/om/thunderstorm/\">Thunderstorms </a></li>\n",
       "<li><a href=\"https://www.weather.gov/safety/tornado\">Tornadoes </a></li>\n",
       "<li><a href=\"https://www.weather.gov/safety/ripcurrent\">Rip Currents </a></li>\n",
       "<li><a href=\"https://www.weather.gov/safety/flood\">Floods </a></li>\n",
       "<li><a href=\"https://www.weather.gov/safety/tsunami\">Tsunamis</a></li>\n",
       "<li><a href=\"https://www.weather.gov/tsunamiready/\">TsunamiReady</a></li>\n",
       "<li><a href=\" http://www.weather.gov/om/winter/index.shtml\">Winter Weather </a></li>\n",
       "<li><a href=\"http://www.nws.noaa.gov/om/heat/uv.shtml\">Ultra Violet Radiation </a></li>\n",
       "<li><a href=\" http://www.weather.gov/airquality/\">Air Quality </a></li>\n",
       "<li><a href=\" http://www.weather.gov/om/hazstats.shtml\">Damage/Fatality/Injury Statistics </a></li>\n",
       "<li><a href=\" http://www.redcross.org/\">Red Cross </a></li>\n",
       "<li><a href=\" http://www.fema.gov/\">Federal Emergency Management Agency (FEMA) </a></li>\n",
       "<li><a href=\" http://www.weather.gov/om/brochures.shtml\">Brochures </a></li>\n",
       "<li><a href=\"http://www.nws.noaa.gov/os/marine/safeboating/\">Safe Boating</a></li>\n",
       "</ul>\n",
       "</div>\n",
       "</div>\n",
       "<div class=\"sitemap-section\">\n",
       "<div class=\"panel-heading\">\n",
       "<a class=\"sitemap-section-heading\" href=\"http://weather.gov/news\">NEWS</a>\n",
       "<button class=\"menu-toggle pull-right\" data-target=\"#sitemap-7\" data-toggle=\"collapse\" type=\"button\">\n",
       "<span class=\"sr-only\">Toggle menu</span>\n",
       "<span class=\"icon-bar\"></span>\n",
       "<span class=\"icon-bar\"></span>\n",
       "<span class=\"icon-bar\"></span>\n",
       "</button>\n",
       "</div>\n",
       "<div class=\"sitemap-section-body panel-body collapsable collapse\" id=\"sitemap-7\">\n",
       "<ul class=\"list-unstyled\">\n",
       "<li><a href=\" http://weather.gov/news\">Newsroom</a></li>\n",
       "<li><a href=\"http://www.nws.noaa.gov/com/weatherreadynation/calendar.html\">Events</a></li>\n",
       "<li><a href=\" http://www.weather.gov/om/brochures.shtml\">Pubs/Brochures/Booklets </a></li>\n",
       "</ul>\n",
       "</div>\n",
       "</div>\n",
       "<div class=\"sitemap-section\">\n",
       "<div class=\"panel-heading\">\n",
       "<a class=\"sitemap-section-heading\" href=\"http://weather.gov/owlie\">EDUCATION</a>\n",
       "<button class=\"menu-toggle pull-right\" data-target=\"#sitemap-8\" data-toggle=\"collapse\" type=\"button\">\n",
       "<span class=\"sr-only\">Toggle menu</span>\n",
       "<span class=\"icon-bar\"></span>\n",
       "<span class=\"icon-bar\"></span>\n",
       "<span class=\"icon-bar\"></span>\n",
       "</button>\n",
       "</div>\n",
       "<div class=\"sitemap-section-body panel-body collapsable collapse\" id=\"sitemap-8\">\n",
       "<ul class=\"list-unstyled\">\n",
       "<li><a href=\"http://weather.gov/education\">NWS Education Home</a></li>\n",
       "<li><a href=\"http://www.nws.noaa.gov/com/weatherreadynation/force.html\">Be A Force of Nature</a></li>\n",
       "<li><a href=\" http://www.education.noaa.gov/Weather_and_Atmosphere/\">NOAA Education Resources </a></li>\n",
       "<li><a href=\" http://www.weather.gov/glossary/\">Glossary </a></li>\n",
       "<li><a href=\"https://www.weather.gov/jetstream/\">JetStream </a></li>\n",
       "<li><a href=\" http://www.weather.gov/training/\">NWS Training Portal </a></li>\n",
       "<li><a href=\"https://library.noaa.gov/\">NOAA Library </a></li>\n",
       "<li><a href=\"http://weather.gov/owlie\">For Students, Parents and Teachers</a></li>\n",
       "<li><a href=\"http://www.weather.gov/owlie/publication_brochures\">Brochures </a></li>\n",
       "</ul>\n",
       "</div>\n",
       "</div>\n",
       "<div class=\"sitemap-section\">\n",
       "<div class=\"panel-heading\">\n",
       "<a class=\"sitemap-section-heading\" href=\"http://weather.gov/about\">ABOUT</a>\n",
       "<button class=\"menu-toggle pull-right\" data-target=\"#sitemap-9\" data-toggle=\"collapse\" type=\"button\">\n",
       "<span class=\"sr-only\">Toggle menu</span>\n",
       "<span class=\"icon-bar\"></span>\n",
       "<span class=\"icon-bar\"></span>\n",
       "<span class=\"icon-bar\"></span>\n",
       "</button>\n",
       "</div>\n",
       "<div class=\"sitemap-section-body panel-body collapsable collapse\" id=\"sitemap-9\">\n",
       "<ul class=\"list-unstyled\">\n",
       "<li><a href=\"http://weather.gov/organization\">Organization </a></li>\n",
       "<li><a href=\"https://www.weather.gov/media/wrn/NWS-2023-Strategic-Plan.pdf\">Strategic Plan </a></li>\n",
       "<li><a href=\"https:/weather.gov/insider\">For NWS Employees </a></li>\n",
       "<li><a href=\"https://www.weather.gov/international/\">International </a></li>\n",
       "<li><a href=\"http://www.weather.gov/ncep\">National Centers </a></li>\n",
       "<li><a href=\" http://www.weather.gov/tg/\">Products and Services </a></li>\n",
       "<li><a href=\"http://www.weather.gov/careers/\">Careers</a></li>\n",
       "<li><a href=\" http://www.weather.gov/glossary/\">Glossary </a></li>\n",
       "<li><a href=\"http://weather.gov/contact\">Contact Us </a></li>\n",
       "<li><a href=\"https://weather.gov/socialmedia\">Social Media</a></li>\n",
       "</ul>\n",
       "</div>\n",
       "</div>\n",
       "</div>\n",
       "</div>\n",
       "</div>\n",
       "<!-- legal footer area -->\n",
       "<div class=\"footer-legal\">\n",
       "<div class=\"col-xs-12 col-sm-2 col-md-2\" id=\"footerLogo\">\n",
       "<a href=\"//www.usa.gov\"><img alt=\"usa.gov\" height=\"30\" src=\"/css/images/usa_gov.png\" width=\"110\"/></a>\n",
       "</div>\n",
       "<div class=\"col-xs-12 col-sm-4 col-md-4\">\n",
       "<ul class=\"list-unstyled footer-legal-content\">\n",
       "<li><a href=\"//www.commerce.gov\">US Dept of Commerce</a></li>\n",
       "<li><a href=\"//www.noaa.gov\">National Oceanic and Atmospheric Administration</a></li>\n",
       "<li><a href=\"//www.weather.gov\">National Weather Service</a></li>\n",
       "<li><a href=\"https://www.weather.gov/lot\">Chicago, IL</a></li><li><br/><a href=\"mailto:nws.chicago@noaa.gov\">Comments? Questions? Please Contact Us.</a></li> </ul>\n",
       "</div>\n",
       "<div class=\"col-xs-12 col-sm-3 col-md-3\">\n",
       "<ul class=\"list-unstyled\">\n",
       "<li><a href=\"https://www.weather.gov/disclaimer\">Disclaimer</a></li>\n",
       "<li><a href=\"//www.cio.noaa.gov/services_programs/info_quality.html\">Information Quality</a></li>\n",
       "<li><a href=\"https://www.weather.gov/help\">Help</a></li>\n",
       "<li><a href=\"//www.weather.gov/glossary\">Glossary</a></li>\n",
       "</ul>\n",
       "</div>\n",
       "<div class=\"col-xs-12 col-sm-3 col-md-3\">\n",
       "<ul class=\"list-unstyled\">\n",
       "<li><a href=\"https://www.weather.gov/privacy\">Privacy Policy</a></li>\n",
       "<li><a href=\"https://www.noaa.gov/foia-freedom-of-information-act\">Freedom of Information Act (FOIA)</a></li>\n",
       "<li><a href=\"https://www.weather.gov/about\">About Us</a></li>\n",
       "<li><a href=\"https://www.weather.gov/careers\">Career Opportunities</a></li>\n",
       "</ul>\n",
       "</div>\n",
       "</div>\n",
       "</footer>\n",
       "</main>\n",
       "</body>\n",
       "</html>"
      ]
     },
     "execution_count": 36,
     "metadata": {},
     "output_type": "execute_result"
    }
   ],
   "source": [
    "soup"
   ]
  },
  {
   "cell_type": "code",
   "execution_count": 37,
   "metadata": {
    "hidden": true
   },
   "outputs": [
    {
     "data": {
      "text/plain": [
       "[<p class=\"period-name\">Today<br/><br/></p>,\n",
       " <p class=\"period-name\">Tonight<br/><br/></p>,\n",
       " <p class=\"period-name\">Friday<br/><br/></p>,\n",
       " <p class=\"period-name\">Friday<br/>Night</p>,\n",
       " <p class=\"period-name\">Saturday<br/><br/></p>,\n",
       " <p class=\"period-name\">Saturday<br/>Night</p>,\n",
       " <p class=\"period-name\">Sunday<br/><br/></p>,\n",
       " <p class=\"period-name\">Sunday<br/>Night</p>,\n",
       " <p class=\"period-name\">Monday<br/><br/></p>]"
      ]
     },
     "execution_count": 37,
     "metadata": {},
     "output_type": "execute_result"
    }
   ],
   "source": [
    "times = soup.find_all(class_='period-name')\n",
    "times"
   ]
  },
  {
   "cell_type": "code",
   "execution_count": 38,
   "metadata": {
    "hidden": true,
    "scrolled": true
   },
   "outputs": [
    {
     "data": {
      "text/plain": [
       "[<p class=\"short-desc\">Mostly Sunny</p>,\n",
       " <p class=\"short-desc\">Partly Cloudy</p>,\n",
       " <p class=\"short-desc\">Mostly Sunny</p>,\n",
       " <p class=\"short-desc\">Mostly Cloudy</p>,\n",
       " <p class=\"short-desc\">Partly Sunny</p>,\n",
       " <p class=\"short-desc\">Chance<br/>T-storms then<br/>T-storms<br/>Likely</p>,\n",
       " <p class=\"short-desc\">T-storms<br/>Likely</p>,\n",
       " <p class=\"short-desc\">T-storms</p>,\n",
       " <p class=\"short-desc\">Chance<br/>Showers</p>]"
      ]
     },
     "execution_count": 38,
     "metadata": {},
     "output_type": "execute_result"
    }
   ],
   "source": [
    "descs = soup.find_all(class_='short-desc')\n",
    "descs"
   ]
  },
  {
   "cell_type": "code",
   "execution_count": 39,
   "metadata": {
    "hidden": true
   },
   "outputs": [
    {
     "data": {
      "text/plain": [
       "[('Today', 'Mostly Sunny'),\n",
       " ('Tonight', 'Partly Cloudy'),\n",
       " ('Friday', 'Mostly Sunny'),\n",
       " ('FridayNight', 'Mostly Cloudy'),\n",
       " ('Saturday', 'Partly Sunny'),\n",
       " ('SaturdayNight', 'ChanceT-storms thenT-stormsLikely'),\n",
       " ('Sunday', 'T-stormsLikely'),\n",
       " ('SundayNight', 'T-storms'),\n",
       " ('Monday', 'ChanceShowers')]"
      ]
     },
     "execution_count": 39,
     "metadata": {},
     "output_type": "execute_result"
    }
   ],
   "source": [
    "together = [(entry[0].text, entry[1].text) for entry in zip(times, descs)]\n",
    "together"
   ]
  },
  {
   "cell_type": "markdown",
   "metadata": {
    "heading_collapsed": true,
    "hidden": true
   },
   "source": [
    "### Pulling in a Table"
   ]
  },
  {
   "cell_type": "markdown",
   "metadata": {
    "hidden": true
   },
   "source": [
    "*In general you'll need to examine the html code so that you can tell the BeautifulSoup parser what to look for!*"
   ]
  },
  {
   "cell_type": "code",
   "execution_count": 40,
   "metadata": {
    "hidden": true
   },
   "outputs": [],
   "source": [
    "url = 'https://www.pro-football-reference.com/'\n",
    "\n",
    "res = requests.get(url)\n",
    "soup = BeautifulSoup(res.content)"
   ]
  },
  {
   "cell_type": "code",
   "execution_count": 42,
   "metadata": {
    "scrolled": true
   },
   "outputs": [
    {
     "data": {
      "text/plain": [
       "<table class=\"sortable stats_table\" data-cols-to-freeze=\",1\" id=\"AFC\">\n",
       "<caption>AFC Standings Table</caption>\n",
       "<colgroup><col/><col/><col/><col/><col/></colgroup>\n",
       "<thead>\n",
       "<tr>\n",
       "<th aria-label=\"Tm\" class=\"poptip sort_default_asc show_partial_when_sorting left\" data-stat=\"team\" scope=\"col\">Tm</th>\n",
       "<th aria-label=\"Wins\" class=\"poptip center\" data-stat=\"wins\" data-tip=\"Games Won\" scope=\"col\">W</th>\n",
       "<th aria-label=\"Losses\" class=\"poptip center\" data-stat=\"losses\" data-tip=\"Games Lost\" scope=\"col\">L</th>\n",
       "<th aria-label=\"Ties\" class=\"poptip center\" data-stat=\"ties\" data-tip=\"Tie Games\" scope=\"col\">T</th>\n",
       "<th aria-label=\"W-L%\" class=\"poptip hide_non_quals center\" data-stat=\"win_loss_perc\" data-tip=\"&lt;b&gt;Win-Loss Percentage of team&lt;/b&gt;&lt;br&gt;For coaches, minimum to qualify for leading is 50 games.&lt;br&gt;After 1972, ties are counted as half-wins and half-losses.&lt;br&gt;Prior, the league didn\\'t count them as games in W-L% calculations.\" scope=\"col\">W-L%</th>\n",
       "</tr>\n",
       "</thead>\n",
       "<tbody><tr class=\"thead onecell\"><td class=\"right left\" colspan=\"5\" data-stat=\"onecell\"> AFC East</td></tr>\n",
       "<tr><th class=\"left\" csk=\"1\" data-stat=\"team\" scope=\"row\"><a href=\"/teams/buf/2022.htm\">BUF</a>*</th><td class=\"right\" data-stat=\"wins\">13</td><td class=\"right\" data-stat=\"losses\">3</td><td class=\"right iz\" data-stat=\"ties\">0</td><td class=\"right\" data-stat=\"win_loss_perc\">.813</td></tr>\n",
       "<tr><th class=\"left\" csk=\"2\" data-stat=\"team\" scope=\"row\"><a href=\"/teams/mia/2022.htm\">MIA</a>+</th><td class=\"right\" data-stat=\"wins\">9</td><td class=\"right\" data-stat=\"losses\">8</td><td class=\"right iz\" data-stat=\"ties\">0</td><td class=\"right\" data-stat=\"win_loss_perc\">.529</td></tr>\n",
       "<tr><th class=\"left\" csk=\"3\" data-stat=\"team\" scope=\"row\"><a href=\"/teams/nwe/2022.htm\">NWE</a></th><td class=\"right\" data-stat=\"wins\">8</td><td class=\"right\" data-stat=\"losses\">9</td><td class=\"right iz\" data-stat=\"ties\">0</td><td class=\"right\" data-stat=\"win_loss_perc\">.471</td></tr>\n",
       "<tr><th class=\"left\" csk=\"4\" data-stat=\"team\" scope=\"row\"><a href=\"/teams/nyj/2022.htm\">NYJ</a></th><td class=\"right\" data-stat=\"wins\">7</td><td class=\"right\" data-stat=\"losses\">10</td><td class=\"right iz\" data-stat=\"ties\">0</td><td class=\"right\" data-stat=\"win_loss_perc\">.412</td></tr>\n",
       "<tr class=\"thead onecell\"><td class=\"right left\" colspan=\"5\" data-stat=\"onecell\"> AFC North</td></tr>\n",
       "<tr><th class=\"left\" csk=\"6\" data-stat=\"team\" scope=\"row\"><a href=\"/teams/cin/2022.htm\">CIN</a>*</th><td class=\"right\" data-stat=\"wins\">12</td><td class=\"right\" data-stat=\"losses\">4</td><td class=\"right iz\" data-stat=\"ties\">0</td><td class=\"right\" data-stat=\"win_loss_perc\">.750</td></tr>\n",
       "<tr><th class=\"left\" csk=\"7\" data-stat=\"team\" scope=\"row\"><a href=\"/teams/rav/2022.htm\">BAL</a>+</th><td class=\"right\" data-stat=\"wins\">10</td><td class=\"right\" data-stat=\"losses\">7</td><td class=\"right iz\" data-stat=\"ties\">0</td><td class=\"right\" data-stat=\"win_loss_perc\">.588</td></tr>\n",
       "<tr><th class=\"left\" csk=\"8\" data-stat=\"team\" scope=\"row\"><a href=\"/teams/pit/2022.htm\">PIT</a></th><td class=\"right\" data-stat=\"wins\">9</td><td class=\"right\" data-stat=\"losses\">8</td><td class=\"right iz\" data-stat=\"ties\">0</td><td class=\"right\" data-stat=\"win_loss_perc\">.529</td></tr>\n",
       "<tr><th class=\"left\" csk=\"9\" data-stat=\"team\" scope=\"row\"><a href=\"/teams/cle/2022.htm\">CLE</a></th><td class=\"right\" data-stat=\"wins\">7</td><td class=\"right\" data-stat=\"losses\">10</td><td class=\"right iz\" data-stat=\"ties\">0</td><td class=\"right\" data-stat=\"win_loss_perc\">.412</td></tr>\n",
       "<tr class=\"thead onecell\"><td class=\"right left\" colspan=\"5\" data-stat=\"onecell\"> AFC South</td></tr>\n",
       "<tr><th class=\"left\" csk=\"11\" data-stat=\"team\" scope=\"row\"><a href=\"/teams/jax/2022.htm\">JAX</a>*</th><td class=\"right\" data-stat=\"wins\">9</td><td class=\"right\" data-stat=\"losses\">8</td><td class=\"right iz\" data-stat=\"ties\">0</td><td class=\"right\" data-stat=\"win_loss_perc\">.529</td></tr>\n",
       "<tr><th class=\"left\" csk=\"12\" data-stat=\"team\" scope=\"row\"><a href=\"/teams/oti/2022.htm\">TEN</a></th><td class=\"right\" data-stat=\"wins\">7</td><td class=\"right\" data-stat=\"losses\">10</td><td class=\"right iz\" data-stat=\"ties\">0</td><td class=\"right\" data-stat=\"win_loss_perc\">.412</td></tr>\n",
       "<tr><th class=\"left\" csk=\"13\" data-stat=\"team\" scope=\"row\"><a href=\"/teams/clt/2022.htm\">IND</a></th><td class=\"right\" data-stat=\"wins\">4</td><td class=\"right\" data-stat=\"losses\">12</td><td class=\"right\" data-stat=\"ties\">1</td><td class=\"right\" data-stat=\"win_loss_perc\">.265</td></tr>\n",
       "<tr><th class=\"left\" csk=\"14\" data-stat=\"team\" scope=\"row\"><a href=\"/teams/htx/2022.htm\">HOU</a></th><td class=\"right\" data-stat=\"wins\">3</td><td class=\"right\" data-stat=\"losses\">13</td><td class=\"right\" data-stat=\"ties\">1</td><td class=\"right\" data-stat=\"win_loss_perc\">.206</td></tr>\n",
       "<tr class=\"thead onecell\"><td class=\"right left\" colspan=\"5\" data-stat=\"onecell\"> AFC West</td></tr>\n",
       "<tr><th class=\"left\" csk=\"16\" data-stat=\"team\" scope=\"row\"><a href=\"/teams/kan/2022.htm\">KAN</a>*</th><td class=\"right\" data-stat=\"wins\">14</td><td class=\"right\" data-stat=\"losses\">3</td><td class=\"right iz\" data-stat=\"ties\">0</td><td class=\"right\" data-stat=\"win_loss_perc\">.824</td></tr>\n",
       "<tr><th class=\"left\" csk=\"17\" data-stat=\"team\" scope=\"row\"><a href=\"/teams/sdg/2022.htm\">LAC</a>+</th><td class=\"right\" data-stat=\"wins\">10</td><td class=\"right\" data-stat=\"losses\">7</td><td class=\"right iz\" data-stat=\"ties\">0</td><td class=\"right\" data-stat=\"win_loss_perc\">.588</td></tr>\n",
       "<tr><th class=\"left\" csk=\"18\" data-stat=\"team\" scope=\"row\"><a href=\"/teams/rai/2022.htm\">LVR</a></th><td class=\"right\" data-stat=\"wins\">6</td><td class=\"right\" data-stat=\"losses\">11</td><td class=\"right iz\" data-stat=\"ties\">0</td><td class=\"right\" data-stat=\"win_loss_perc\">.353</td></tr>\n",
       "<tr><th class=\"left\" csk=\"19\" data-stat=\"team\" scope=\"row\"><a href=\"/teams/den/2022.htm\">DEN</a></th><td class=\"right\" data-stat=\"wins\">5</td><td class=\"right\" data-stat=\"losses\">12</td><td class=\"right iz\" data-stat=\"ties\">0</td><td class=\"right\" data-stat=\"win_loss_perc\">.294</td></tr>\n",
       "</tbody></table>"
      ]
     },
     "execution_count": 42,
     "metadata": {},
     "output_type": "execute_result"
    }
   ],
   "source": [
    "teams = []\n",
    "table = soup.find('table', {'id': 'AFC'})\n",
    "table"
   ]
  },
  {
   "cell_type": "code",
   "execution_count": 43,
   "metadata": {},
   "outputs": [
    {
     "data": {
      "text/plain": [
       "bs4.element.Tag"
      ]
     },
     "execution_count": 43,
     "metadata": {},
     "output_type": "execute_result"
    }
   ],
   "source": [
    "type(table)"
   ]
  },
  {
   "cell_type": "code",
   "execution_count": 44,
   "metadata": {
    "hidden": true
   },
   "outputs": [],
   "source": [
    "teams = []\n",
    "table = soup.find('table', {'id': 'AFC'})\n",
    "\n",
    "for row in table.find('tbody').find_all('tr'):\n",
    "    try:\n",
    "        team = {'name': row.find('th', {'data-stat': 'team'}).text,\n",
    "               'wins': row.find('td', {'data-stat': 'wins'}).text,\n",
    "               'losses': row.find('td', {'data-stat': 'losses'}).text,\n",
    "               'ties': row.find('td', {'data-stat': 'ties'}).text}\n",
    "        teams.append(team)\n",
    "    except:\n",
    "        pass"
   ]
  },
  {
   "cell_type": "code",
   "execution_count": 45,
   "metadata": {
    "hidden": true
   },
   "outputs": [
    {
     "data": {
      "text/plain": [
       "[{'name': 'BUF*', 'wins': '13', 'losses': '3', 'ties': '0'},\n",
       " {'name': 'MIA+', 'wins': '9', 'losses': '8', 'ties': '0'},\n",
       " {'name': 'NWE', 'wins': '8', 'losses': '9', 'ties': '0'},\n",
       " {'name': 'NYJ', 'wins': '7', 'losses': '10', 'ties': '0'},\n",
       " {'name': 'CIN*', 'wins': '12', 'losses': '4', 'ties': '0'},\n",
       " {'name': 'BAL+', 'wins': '10', 'losses': '7', 'ties': '0'},\n",
       " {'name': 'PIT', 'wins': '9', 'losses': '8', 'ties': '0'},\n",
       " {'name': 'CLE', 'wins': '7', 'losses': '10', 'ties': '0'},\n",
       " {'name': 'JAX*', 'wins': '9', 'losses': '8', 'ties': '0'},\n",
       " {'name': 'TEN', 'wins': '7', 'losses': '10', 'ties': '0'},\n",
       " {'name': 'IND', 'wins': '4', 'losses': '12', 'ties': '1'},\n",
       " {'name': 'HOU', 'wins': '3', 'losses': '13', 'ties': '1'},\n",
       " {'name': 'KAN*', 'wins': '14', 'losses': '3', 'ties': '0'},\n",
       " {'name': 'LAC+', 'wins': '10', 'losses': '7', 'ties': '0'},\n",
       " {'name': 'LVR', 'wins': '6', 'losses': '11', 'ties': '0'},\n",
       " {'name': 'DEN', 'wins': '5', 'losses': '12', 'ties': '0'}]"
      ]
     },
     "execution_count": 45,
     "metadata": {},
     "output_type": "execute_result"
    }
   ],
   "source": [
    "teams"
   ]
  },
  {
   "cell_type": "markdown",
   "metadata": {
    "heading_collapsed": true,
    "hidden": true
   },
   "source": [
    "## Combining our data into a Pandas DataFrame"
   ]
  },
  {
   "cell_type": "markdown",
   "metadata": {
    "hidden": true
   },
   "source": [
    "We can now combine the data into a Pandas DataFrame and analyze it.\n",
    "\n",
    "In order to do this, we’ll call the DataFrame class, and pass in each list of items that we have. We pass them in as part of a dictionary. Each dictionary key will become a column in the DataFrame, and each list will become the values in the column:"
   ]
  },
  {
   "cell_type": "code",
   "execution_count": 48,
   "metadata": {
    "scrolled": true
   },
   "outputs": [
    {
     "ename": "TypeError",
     "evalue": "'NoneType' object is not callable",
     "output_type": "error",
     "traceback": [
      "\u001b[0;31m---------------------------------------------------------------------------\u001b[0m",
      "\u001b[0;31mTypeError\u001b[0m                                 Traceback (most recent call last)",
      "\u001b[0;32m<ipython-input-48-79e9499810fc>\u001b[0m in \u001b[0;36m<module>\u001b[0;34m\u001b[0m\n\u001b[0;32m----> 1\u001b[0;31m \u001b[0mpd\u001b[0m\u001b[0;34m.\u001b[0m\u001b[0mread_html\u001b[0m\u001b[0;34m(\u001b[0m\u001b[0mtable\u001b[0m\u001b[0;34m)\u001b[0m\u001b[0;34m\u001b[0m\u001b[0;34m\u001b[0m\u001b[0m\n\u001b[0m",
      "\u001b[0;32m/opt/anaconda3/envs/learn-env/lib/python3.8/site-packages/pandas/util/_decorators.py\u001b[0m in \u001b[0;36mwrapper\u001b[0;34m(*args, **kwargs)\u001b[0m\n\u001b[1;32m    294\u001b[0m                 )\n\u001b[1;32m    295\u001b[0m                 \u001b[0mwarnings\u001b[0m\u001b[0;34m.\u001b[0m\u001b[0mwarn\u001b[0m\u001b[0;34m(\u001b[0m\u001b[0mmsg\u001b[0m\u001b[0;34m,\u001b[0m \u001b[0mFutureWarning\u001b[0m\u001b[0;34m,\u001b[0m \u001b[0mstacklevel\u001b[0m\u001b[0;34m=\u001b[0m\u001b[0mstacklevel\u001b[0m\u001b[0;34m)\u001b[0m\u001b[0;34m\u001b[0m\u001b[0;34m\u001b[0m\u001b[0m\n\u001b[0;32m--> 296\u001b[0;31m             \u001b[0;32mreturn\u001b[0m \u001b[0mfunc\u001b[0m\u001b[0;34m(\u001b[0m\u001b[0;34m*\u001b[0m\u001b[0margs\u001b[0m\u001b[0;34m,\u001b[0m \u001b[0;34m**\u001b[0m\u001b[0mkwargs\u001b[0m\u001b[0;34m)\u001b[0m\u001b[0;34m\u001b[0m\u001b[0;34m\u001b[0m\u001b[0m\n\u001b[0m\u001b[1;32m    297\u001b[0m \u001b[0;34m\u001b[0m\u001b[0m\n\u001b[1;32m    298\u001b[0m         \u001b[0;32mreturn\u001b[0m \u001b[0mwrapper\u001b[0m\u001b[0;34m\u001b[0m\u001b[0;34m\u001b[0m\u001b[0m\n",
      "\u001b[0;32m/opt/anaconda3/envs/learn-env/lib/python3.8/site-packages/pandas/io/html.py\u001b[0m in \u001b[0;36mread_html\u001b[0;34m(io, match, flavor, header, index_col, skiprows, attrs, parse_dates, thousands, encoding, decimal, converters, na_values, keep_default_na, displayed_only)\u001b[0m\n\u001b[1;32m   1084\u001b[0m         )\n\u001b[1;32m   1085\u001b[0m     \u001b[0mvalidate_header_arg\u001b[0m\u001b[0;34m(\u001b[0m\u001b[0mheader\u001b[0m\u001b[0;34m)\u001b[0m\u001b[0;34m\u001b[0m\u001b[0;34m\u001b[0m\u001b[0m\n\u001b[0;32m-> 1086\u001b[0;31m     return _parse(\n\u001b[0m\u001b[1;32m   1087\u001b[0m         \u001b[0mflavor\u001b[0m\u001b[0;34m=\u001b[0m\u001b[0mflavor\u001b[0m\u001b[0;34m,\u001b[0m\u001b[0;34m\u001b[0m\u001b[0;34m\u001b[0m\u001b[0m\n\u001b[1;32m   1088\u001b[0m         \u001b[0mio\u001b[0m\u001b[0;34m=\u001b[0m\u001b[0mio\u001b[0m\u001b[0;34m,\u001b[0m\u001b[0;34m\u001b[0m\u001b[0;34m\u001b[0m\u001b[0m\n",
      "\u001b[0;32m/opt/anaconda3/envs/learn-env/lib/python3.8/site-packages/pandas/io/html.py\u001b[0m in \u001b[0;36m_parse\u001b[0;34m(flavor, io, match, attrs, encoding, displayed_only, **kwargs)\u001b[0m\n\u001b[1;32m    896\u001b[0m \u001b[0;34m\u001b[0m\u001b[0m\n\u001b[1;32m    897\u001b[0m         \u001b[0;32mtry\u001b[0m\u001b[0;34m:\u001b[0m\u001b[0;34m\u001b[0m\u001b[0;34m\u001b[0m\u001b[0m\n\u001b[0;32m--> 898\u001b[0;31m             \u001b[0mtables\u001b[0m \u001b[0;34m=\u001b[0m \u001b[0mp\u001b[0m\u001b[0;34m.\u001b[0m\u001b[0mparse_tables\u001b[0m\u001b[0;34m(\u001b[0m\u001b[0;34m)\u001b[0m\u001b[0;34m\u001b[0m\u001b[0;34m\u001b[0m\u001b[0m\n\u001b[0m\u001b[1;32m    899\u001b[0m         \u001b[0;32mexcept\u001b[0m \u001b[0mValueError\u001b[0m \u001b[0;32mas\u001b[0m \u001b[0mcaught\u001b[0m\u001b[0;34m:\u001b[0m\u001b[0;34m\u001b[0m\u001b[0;34m\u001b[0m\u001b[0m\n\u001b[1;32m    900\u001b[0m             \u001b[0;31m# if `io` is an io-like object, check if it's seekable\u001b[0m\u001b[0;34m\u001b[0m\u001b[0;34m\u001b[0m\u001b[0;34m\u001b[0m\u001b[0m\n",
      "\u001b[0;32m/opt/anaconda3/envs/learn-env/lib/python3.8/site-packages/pandas/io/html.py\u001b[0m in \u001b[0;36mparse_tables\u001b[0;34m(self)\u001b[0m\n\u001b[1;32m    215\u001b[0m         \u001b[0mlist\u001b[0m \u001b[0mof\u001b[0m \u001b[0mparsed\u001b[0m \u001b[0;34m(\u001b[0m\u001b[0mheader\u001b[0m\u001b[0;34m,\u001b[0m \u001b[0mbody\u001b[0m\u001b[0;34m,\u001b[0m \u001b[0mfooter\u001b[0m\u001b[0;34m)\u001b[0m \u001b[0mtuples\u001b[0m \u001b[0;32mfrom\u001b[0m \u001b[0mtables\u001b[0m\u001b[0;34m.\u001b[0m\u001b[0;34m\u001b[0m\u001b[0;34m\u001b[0m\u001b[0m\n\u001b[1;32m    216\u001b[0m         \"\"\"\n\u001b[0;32m--> 217\u001b[0;31m         \u001b[0mtables\u001b[0m \u001b[0;34m=\u001b[0m \u001b[0mself\u001b[0m\u001b[0;34m.\u001b[0m\u001b[0m_parse_tables\u001b[0m\u001b[0;34m(\u001b[0m\u001b[0mself\u001b[0m\u001b[0;34m.\u001b[0m\u001b[0m_build_doc\u001b[0m\u001b[0;34m(\u001b[0m\u001b[0;34m)\u001b[0m\u001b[0;34m,\u001b[0m \u001b[0mself\u001b[0m\u001b[0;34m.\u001b[0m\u001b[0mmatch\u001b[0m\u001b[0;34m,\u001b[0m \u001b[0mself\u001b[0m\u001b[0;34m.\u001b[0m\u001b[0mattrs\u001b[0m\u001b[0;34m)\u001b[0m\u001b[0;34m\u001b[0m\u001b[0;34m\u001b[0m\u001b[0m\n\u001b[0m\u001b[1;32m    218\u001b[0m         \u001b[0;32mreturn\u001b[0m \u001b[0;34m(\u001b[0m\u001b[0mself\u001b[0m\u001b[0;34m.\u001b[0m\u001b[0m_parse_thead_tbody_tfoot\u001b[0m\u001b[0;34m(\u001b[0m\u001b[0mtable\u001b[0m\u001b[0;34m)\u001b[0m \u001b[0;32mfor\u001b[0m \u001b[0mtable\u001b[0m \u001b[0;32min\u001b[0m \u001b[0mtables\u001b[0m\u001b[0;34m)\u001b[0m\u001b[0;34m\u001b[0m\u001b[0;34m\u001b[0m\u001b[0m\n\u001b[1;32m    219\u001b[0m \u001b[0;34m\u001b[0m\u001b[0m\n",
      "\u001b[0;32m/opt/anaconda3/envs/learn-env/lib/python3.8/site-packages/pandas/io/html.py\u001b[0m in \u001b[0;36m_build_doc\u001b[0;34m(self)\u001b[0m\n\u001b[1;32m    719\u001b[0m             \u001b[0;32melse\u001b[0m\u001b[0;34m:\u001b[0m\u001b[0;34m\u001b[0m\u001b[0;34m\u001b[0m\u001b[0m\n\u001b[1;32m    720\u001b[0m                 \u001b[0;31m# try to parse the input in the simplest way\u001b[0m\u001b[0;34m\u001b[0m\u001b[0;34m\u001b[0m\u001b[0;34m\u001b[0m\u001b[0m\n\u001b[0;32m--> 721\u001b[0;31m                 \u001b[0mr\u001b[0m \u001b[0;34m=\u001b[0m \u001b[0mparse\u001b[0m\u001b[0;34m(\u001b[0m\u001b[0mself\u001b[0m\u001b[0;34m.\u001b[0m\u001b[0mio\u001b[0m\u001b[0;34m,\u001b[0m \u001b[0mparser\u001b[0m\u001b[0;34m=\u001b[0m\u001b[0mparser\u001b[0m\u001b[0;34m)\u001b[0m\u001b[0;34m\u001b[0m\u001b[0;34m\u001b[0m\u001b[0m\n\u001b[0m\u001b[1;32m    722\u001b[0m             \u001b[0;32mtry\u001b[0m\u001b[0;34m:\u001b[0m\u001b[0;34m\u001b[0m\u001b[0;34m\u001b[0m\u001b[0m\n\u001b[1;32m    723\u001b[0m                 \u001b[0mr\u001b[0m \u001b[0;34m=\u001b[0m \u001b[0mr\u001b[0m\u001b[0;34m.\u001b[0m\u001b[0mgetroot\u001b[0m\u001b[0;34m(\u001b[0m\u001b[0;34m)\u001b[0m\u001b[0;34m\u001b[0m\u001b[0;34m\u001b[0m\u001b[0m\n",
      "\u001b[0;32m/opt/anaconda3/envs/learn-env/lib/python3.8/site-packages/lxml/html/__init__.py\u001b[0m in \u001b[0;36mparse\u001b[0;34m(filename_or_url, parser, base_url, **kw)\u001b[0m\n\u001b[1;32m    937\u001b[0m     \u001b[0;32mif\u001b[0m \u001b[0mparser\u001b[0m \u001b[0;32mis\u001b[0m \u001b[0;32mNone\u001b[0m\u001b[0;34m:\u001b[0m\u001b[0;34m\u001b[0m\u001b[0;34m\u001b[0m\u001b[0m\n\u001b[1;32m    938\u001b[0m         \u001b[0mparser\u001b[0m \u001b[0;34m=\u001b[0m \u001b[0mhtml_parser\u001b[0m\u001b[0;34m\u001b[0m\u001b[0;34m\u001b[0m\u001b[0m\n\u001b[0;32m--> 939\u001b[0;31m     \u001b[0;32mreturn\u001b[0m \u001b[0metree\u001b[0m\u001b[0;34m.\u001b[0m\u001b[0mparse\u001b[0m\u001b[0;34m(\u001b[0m\u001b[0mfilename_or_url\u001b[0m\u001b[0;34m,\u001b[0m \u001b[0mparser\u001b[0m\u001b[0;34m,\u001b[0m \u001b[0mbase_url\u001b[0m\u001b[0;34m=\u001b[0m\u001b[0mbase_url\u001b[0m\u001b[0;34m,\u001b[0m \u001b[0;34m**\u001b[0m\u001b[0mkw\u001b[0m\u001b[0;34m)\u001b[0m\u001b[0;34m\u001b[0m\u001b[0;34m\u001b[0m\u001b[0m\n\u001b[0m\u001b[1;32m    940\u001b[0m \u001b[0;34m\u001b[0m\u001b[0m\n\u001b[1;32m    941\u001b[0m \u001b[0;34m\u001b[0m\u001b[0m\n",
      "\u001b[0;32msrc/lxml/etree.pyx\u001b[0m in \u001b[0;36mlxml.etree.parse\u001b[0;34m()\u001b[0m\n",
      "\u001b[0;32msrc/lxml/parser.pxi\u001b[0m in \u001b[0;36mlxml.etree._parseDocument\u001b[0;34m()\u001b[0m\n",
      "\u001b[0;31mTypeError\u001b[0m: 'NoneType' object is not callable"
     ]
    }
   ],
   "source": [
    "pd.read_html(table)"
   ]
  },
  {
   "cell_type": "code",
   "execution_count": 55,
   "metadata": {
    "scrolled": true
   },
   "outputs": [
    {
     "data": {
      "text/html": [
       "<div>\n",
       "<style scoped>\n",
       "    .dataframe tbody tr th:only-of-type {\n",
       "        vertical-align: middle;\n",
       "    }\n",
       "\n",
       "    .dataframe tbody tr th {\n",
       "        vertical-align: top;\n",
       "    }\n",
       "\n",
       "    .dataframe thead th {\n",
       "        text-align: right;\n",
       "    }\n",
       "</style>\n",
       "<table border=\"1\" class=\"dataframe\">\n",
       "  <thead>\n",
       "    <tr style=\"text-align: right;\">\n",
       "      <th></th>\n",
       "      <th>Tm</th>\n",
       "      <th>W</th>\n",
       "      <th>L</th>\n",
       "      <th>T</th>\n",
       "      <th>W-L%</th>\n",
       "    </tr>\n",
       "  </thead>\n",
       "  <tbody>\n",
       "    <tr>\n",
       "      <th>0</th>\n",
       "      <td>AFC East</td>\n",
       "      <td>AFC East</td>\n",
       "      <td>AFC East</td>\n",
       "      <td>AFC East</td>\n",
       "      <td>AFC East</td>\n",
       "    </tr>\n",
       "    <tr>\n",
       "      <th>1</th>\n",
       "      <td>BUF*</td>\n",
       "      <td>13</td>\n",
       "      <td>3</td>\n",
       "      <td>0</td>\n",
       "      <td>.813</td>\n",
       "    </tr>\n",
       "    <tr>\n",
       "      <th>2</th>\n",
       "      <td>MIA+</td>\n",
       "      <td>9</td>\n",
       "      <td>8</td>\n",
       "      <td>0</td>\n",
       "      <td>.529</td>\n",
       "    </tr>\n",
       "    <tr>\n",
       "      <th>3</th>\n",
       "      <td>NWE</td>\n",
       "      <td>8</td>\n",
       "      <td>9</td>\n",
       "      <td>0</td>\n",
       "      <td>.471</td>\n",
       "    </tr>\n",
       "    <tr>\n",
       "      <th>4</th>\n",
       "      <td>NYJ</td>\n",
       "      <td>7</td>\n",
       "      <td>10</td>\n",
       "      <td>0</td>\n",
       "      <td>.412</td>\n",
       "    </tr>\n",
       "    <tr>\n",
       "      <th>5</th>\n",
       "      <td>AFC North</td>\n",
       "      <td>AFC North</td>\n",
       "      <td>AFC North</td>\n",
       "      <td>AFC North</td>\n",
       "      <td>AFC North</td>\n",
       "    </tr>\n",
       "    <tr>\n",
       "      <th>6</th>\n",
       "      <td>CIN*</td>\n",
       "      <td>12</td>\n",
       "      <td>4</td>\n",
       "      <td>0</td>\n",
       "      <td>.750</td>\n",
       "    </tr>\n",
       "    <tr>\n",
       "      <th>7</th>\n",
       "      <td>BAL+</td>\n",
       "      <td>10</td>\n",
       "      <td>7</td>\n",
       "      <td>0</td>\n",
       "      <td>.588</td>\n",
       "    </tr>\n",
       "    <tr>\n",
       "      <th>8</th>\n",
       "      <td>PIT</td>\n",
       "      <td>9</td>\n",
       "      <td>8</td>\n",
       "      <td>0</td>\n",
       "      <td>.529</td>\n",
       "    </tr>\n",
       "    <tr>\n",
       "      <th>9</th>\n",
       "      <td>CLE</td>\n",
       "      <td>7</td>\n",
       "      <td>10</td>\n",
       "      <td>0</td>\n",
       "      <td>.412</td>\n",
       "    </tr>\n",
       "    <tr>\n",
       "      <th>10</th>\n",
       "      <td>AFC South</td>\n",
       "      <td>AFC South</td>\n",
       "      <td>AFC South</td>\n",
       "      <td>AFC South</td>\n",
       "      <td>AFC South</td>\n",
       "    </tr>\n",
       "    <tr>\n",
       "      <th>11</th>\n",
       "      <td>JAX*</td>\n",
       "      <td>9</td>\n",
       "      <td>8</td>\n",
       "      <td>0</td>\n",
       "      <td>.529</td>\n",
       "    </tr>\n",
       "    <tr>\n",
       "      <th>12</th>\n",
       "      <td>TEN</td>\n",
       "      <td>7</td>\n",
       "      <td>10</td>\n",
       "      <td>0</td>\n",
       "      <td>.412</td>\n",
       "    </tr>\n",
       "    <tr>\n",
       "      <th>13</th>\n",
       "      <td>IND</td>\n",
       "      <td>4</td>\n",
       "      <td>12</td>\n",
       "      <td>1</td>\n",
       "      <td>.265</td>\n",
       "    </tr>\n",
       "    <tr>\n",
       "      <th>14</th>\n",
       "      <td>HOU</td>\n",
       "      <td>3</td>\n",
       "      <td>13</td>\n",
       "      <td>1</td>\n",
       "      <td>.206</td>\n",
       "    </tr>\n",
       "    <tr>\n",
       "      <th>15</th>\n",
       "      <td>AFC West</td>\n",
       "      <td>AFC West</td>\n",
       "      <td>AFC West</td>\n",
       "      <td>AFC West</td>\n",
       "      <td>AFC West</td>\n",
       "    </tr>\n",
       "    <tr>\n",
       "      <th>16</th>\n",
       "      <td>KAN*</td>\n",
       "      <td>14</td>\n",
       "      <td>3</td>\n",
       "      <td>0</td>\n",
       "      <td>.824</td>\n",
       "    </tr>\n",
       "    <tr>\n",
       "      <th>17</th>\n",
       "      <td>LAC+</td>\n",
       "      <td>10</td>\n",
       "      <td>7</td>\n",
       "      <td>0</td>\n",
       "      <td>.588</td>\n",
       "    </tr>\n",
       "    <tr>\n",
       "      <th>18</th>\n",
       "      <td>LVR</td>\n",
       "      <td>6</td>\n",
       "      <td>11</td>\n",
       "      <td>0</td>\n",
       "      <td>.353</td>\n",
       "    </tr>\n",
       "    <tr>\n",
       "      <th>19</th>\n",
       "      <td>DEN</td>\n",
       "      <td>5</td>\n",
       "      <td>12</td>\n",
       "      <td>0</td>\n",
       "      <td>.294</td>\n",
       "    </tr>\n",
       "  </tbody>\n",
       "</table>\n",
       "</div>"
      ],
      "text/plain": [
       "           Tm          W          L          T       W-L%\n",
       "0    AFC East   AFC East   AFC East   AFC East   AFC East\n",
       "1        BUF*         13          3          0       .813\n",
       "2        MIA+          9          8          0       .529\n",
       "3         NWE          8          9          0       .471\n",
       "4         NYJ          7         10          0       .412\n",
       "5   AFC North  AFC North  AFC North  AFC North  AFC North\n",
       "6        CIN*         12          4          0       .750\n",
       "7        BAL+         10          7          0       .588\n",
       "8         PIT          9          8          0       .529\n",
       "9         CLE          7         10          0       .412\n",
       "10  AFC South  AFC South  AFC South  AFC South  AFC South\n",
       "11       JAX*          9          8          0       .529\n",
       "12        TEN          7         10          0       .412\n",
       "13        IND          4         12          1       .265\n",
       "14        HOU          3         13          1       .206\n",
       "15   AFC West   AFC West   AFC West   AFC West   AFC West\n",
       "16       KAN*         14          3          0       .824\n",
       "17       LAC+         10          7          0       .588\n",
       "18        LVR          6         11          0       .353\n",
       "19        DEN          5         12          0       .294"
      ]
     },
     "execution_count": 55,
     "metadata": {},
     "output_type": "execute_result"
    }
   ],
   "source": [
    "pd.read_html(url, match='AFC')[0]"
   ]
  },
  {
   "cell_type": "code",
   "execution_count": 57,
   "metadata": {},
   "outputs": [
    {
     "data": {
      "text/html": [
       "<div>\n",
       "<style scoped>\n",
       "    .dataframe tbody tr th:only-of-type {\n",
       "        vertical-align: middle;\n",
       "    }\n",
       "\n",
       "    .dataframe tbody tr th {\n",
       "        vertical-align: top;\n",
       "    }\n",
       "\n",
       "    .dataframe thead th {\n",
       "        text-align: right;\n",
       "    }\n",
       "</style>\n",
       "<table border=\"1\" class=\"dataframe\">\n",
       "  <thead>\n",
       "    <tr style=\"text-align: right;\">\n",
       "      <th></th>\n",
       "      <th>Tm</th>\n",
       "      <th>W</th>\n",
       "      <th>L</th>\n",
       "      <th>T</th>\n",
       "      <th>W-L%</th>\n",
       "    </tr>\n",
       "  </thead>\n",
       "  <tbody>\n",
       "    <tr>\n",
       "      <th>0</th>\n",
       "      <td>AFC East</td>\n",
       "      <td>AFC East</td>\n",
       "      <td>AFC East</td>\n",
       "      <td>AFC East</td>\n",
       "      <td>AFC East</td>\n",
       "    </tr>\n",
       "    <tr>\n",
       "      <th>1</th>\n",
       "      <td>BUF*</td>\n",
       "      <td>13</td>\n",
       "      <td>3</td>\n",
       "      <td>0</td>\n",
       "      <td>.813</td>\n",
       "    </tr>\n",
       "    <tr>\n",
       "      <th>2</th>\n",
       "      <td>MIA+</td>\n",
       "      <td>9</td>\n",
       "      <td>8</td>\n",
       "      <td>0</td>\n",
       "      <td>.529</td>\n",
       "    </tr>\n",
       "    <tr>\n",
       "      <th>3</th>\n",
       "      <td>NWE</td>\n",
       "      <td>8</td>\n",
       "      <td>9</td>\n",
       "      <td>0</td>\n",
       "      <td>.471</td>\n",
       "    </tr>\n",
       "    <tr>\n",
       "      <th>4</th>\n",
       "      <td>NYJ</td>\n",
       "      <td>7</td>\n",
       "      <td>10</td>\n",
       "      <td>0</td>\n",
       "      <td>.412</td>\n",
       "    </tr>\n",
       "    <tr>\n",
       "      <th>5</th>\n",
       "      <td>AFC North</td>\n",
       "      <td>AFC North</td>\n",
       "      <td>AFC North</td>\n",
       "      <td>AFC North</td>\n",
       "      <td>AFC North</td>\n",
       "    </tr>\n",
       "    <tr>\n",
       "      <th>6</th>\n",
       "      <td>CIN*</td>\n",
       "      <td>12</td>\n",
       "      <td>4</td>\n",
       "      <td>0</td>\n",
       "      <td>.750</td>\n",
       "    </tr>\n",
       "    <tr>\n",
       "      <th>7</th>\n",
       "      <td>BAL+</td>\n",
       "      <td>10</td>\n",
       "      <td>7</td>\n",
       "      <td>0</td>\n",
       "      <td>.588</td>\n",
       "    </tr>\n",
       "    <tr>\n",
       "      <th>8</th>\n",
       "      <td>PIT</td>\n",
       "      <td>9</td>\n",
       "      <td>8</td>\n",
       "      <td>0</td>\n",
       "      <td>.529</td>\n",
       "    </tr>\n",
       "    <tr>\n",
       "      <th>9</th>\n",
       "      <td>CLE</td>\n",
       "      <td>7</td>\n",
       "      <td>10</td>\n",
       "      <td>0</td>\n",
       "      <td>.412</td>\n",
       "    </tr>\n",
       "    <tr>\n",
       "      <th>10</th>\n",
       "      <td>AFC South</td>\n",
       "      <td>AFC South</td>\n",
       "      <td>AFC South</td>\n",
       "      <td>AFC South</td>\n",
       "      <td>AFC South</td>\n",
       "    </tr>\n",
       "    <tr>\n",
       "      <th>11</th>\n",
       "      <td>JAX*</td>\n",
       "      <td>9</td>\n",
       "      <td>8</td>\n",
       "      <td>0</td>\n",
       "      <td>.529</td>\n",
       "    </tr>\n",
       "    <tr>\n",
       "      <th>12</th>\n",
       "      <td>TEN</td>\n",
       "      <td>7</td>\n",
       "      <td>10</td>\n",
       "      <td>0</td>\n",
       "      <td>.412</td>\n",
       "    </tr>\n",
       "    <tr>\n",
       "      <th>13</th>\n",
       "      <td>IND</td>\n",
       "      <td>4</td>\n",
       "      <td>12</td>\n",
       "      <td>1</td>\n",
       "      <td>.265</td>\n",
       "    </tr>\n",
       "    <tr>\n",
       "      <th>14</th>\n",
       "      <td>HOU</td>\n",
       "      <td>3</td>\n",
       "      <td>13</td>\n",
       "      <td>1</td>\n",
       "      <td>.206</td>\n",
       "    </tr>\n",
       "    <tr>\n",
       "      <th>15</th>\n",
       "      <td>AFC West</td>\n",
       "      <td>AFC West</td>\n",
       "      <td>AFC West</td>\n",
       "      <td>AFC West</td>\n",
       "      <td>AFC West</td>\n",
       "    </tr>\n",
       "    <tr>\n",
       "      <th>16</th>\n",
       "      <td>KAN*</td>\n",
       "      <td>14</td>\n",
       "      <td>3</td>\n",
       "      <td>0</td>\n",
       "      <td>.824</td>\n",
       "    </tr>\n",
       "    <tr>\n",
       "      <th>17</th>\n",
       "      <td>LAC+</td>\n",
       "      <td>10</td>\n",
       "      <td>7</td>\n",
       "      <td>0</td>\n",
       "      <td>.588</td>\n",
       "    </tr>\n",
       "    <tr>\n",
       "      <th>18</th>\n",
       "      <td>LVR</td>\n",
       "      <td>6</td>\n",
       "      <td>11</td>\n",
       "      <td>0</td>\n",
       "      <td>.353</td>\n",
       "    </tr>\n",
       "    <tr>\n",
       "      <th>19</th>\n",
       "      <td>DEN</td>\n",
       "      <td>5</td>\n",
       "      <td>12</td>\n",
       "      <td>0</td>\n",
       "      <td>.294</td>\n",
       "    </tr>\n",
       "  </tbody>\n",
       "</table>\n",
       "</div>"
      ],
      "text/plain": [
       "           Tm          W          L          T       W-L%\n",
       "0    AFC East   AFC East   AFC East   AFC East   AFC East\n",
       "1        BUF*         13          3          0       .813\n",
       "2        MIA+          9          8          0       .529\n",
       "3         NWE          8          9          0       .471\n",
       "4         NYJ          7         10          0       .412\n",
       "5   AFC North  AFC North  AFC North  AFC North  AFC North\n",
       "6        CIN*         12          4          0       .750\n",
       "7        BAL+         10          7          0       .588\n",
       "8         PIT          9          8          0       .529\n",
       "9         CLE          7         10          0       .412\n",
       "10  AFC South  AFC South  AFC South  AFC South  AFC South\n",
       "11       JAX*          9          8          0       .529\n",
       "12        TEN          7         10          0       .412\n",
       "13        IND          4         12          1       .265\n",
       "14        HOU          3         13          1       .206\n",
       "15   AFC West   AFC West   AFC West   AFC West   AFC West\n",
       "16       KAN*         14          3          0       .824\n",
       "17       LAC+         10          7          0       .588\n",
       "18        LVR          6         11          0       .353\n",
       "19        DEN          5         12          0       .294"
      ]
     },
     "execution_count": 57,
     "metadata": {},
     "output_type": "execute_result"
    }
   ],
   "source": [
    "pd.read_html(url)[0]"
   ]
  },
  {
   "cell_type": "code",
   "execution_count": 46,
   "metadata": {
    "hidden": true
   },
   "outputs": [
    {
     "data": {
      "text/html": [
       "<div>\n",
       "<style scoped>\n",
       "    .dataframe tbody tr th:only-of-type {\n",
       "        vertical-align: middle;\n",
       "    }\n",
       "\n",
       "    .dataframe tbody tr th {\n",
       "        vertical-align: top;\n",
       "    }\n",
       "\n",
       "    .dataframe thead th {\n",
       "        text-align: right;\n",
       "    }\n",
       "</style>\n",
       "<table border=\"1\" class=\"dataframe\">\n",
       "  <thead>\n",
       "    <tr style=\"text-align: right;\">\n",
       "      <th></th>\n",
       "      <th>name</th>\n",
       "      <th>wins</th>\n",
       "      <th>losses</th>\n",
       "      <th>ties</th>\n",
       "    </tr>\n",
       "  </thead>\n",
       "  <tbody>\n",
       "    <tr>\n",
       "      <th>0</th>\n",
       "      <td>BUF*</td>\n",
       "      <td>13</td>\n",
       "      <td>3</td>\n",
       "      <td>0</td>\n",
       "    </tr>\n",
       "    <tr>\n",
       "      <th>1</th>\n",
       "      <td>MIA+</td>\n",
       "      <td>9</td>\n",
       "      <td>8</td>\n",
       "      <td>0</td>\n",
       "    </tr>\n",
       "    <tr>\n",
       "      <th>2</th>\n",
       "      <td>NWE</td>\n",
       "      <td>8</td>\n",
       "      <td>9</td>\n",
       "      <td>0</td>\n",
       "    </tr>\n",
       "    <tr>\n",
       "      <th>3</th>\n",
       "      <td>NYJ</td>\n",
       "      <td>7</td>\n",
       "      <td>10</td>\n",
       "      <td>0</td>\n",
       "    </tr>\n",
       "    <tr>\n",
       "      <th>4</th>\n",
       "      <td>CIN*</td>\n",
       "      <td>12</td>\n",
       "      <td>4</td>\n",
       "      <td>0</td>\n",
       "    </tr>\n",
       "    <tr>\n",
       "      <th>5</th>\n",
       "      <td>BAL+</td>\n",
       "      <td>10</td>\n",
       "      <td>7</td>\n",
       "      <td>0</td>\n",
       "    </tr>\n",
       "    <tr>\n",
       "      <th>6</th>\n",
       "      <td>PIT</td>\n",
       "      <td>9</td>\n",
       "      <td>8</td>\n",
       "      <td>0</td>\n",
       "    </tr>\n",
       "    <tr>\n",
       "      <th>7</th>\n",
       "      <td>CLE</td>\n",
       "      <td>7</td>\n",
       "      <td>10</td>\n",
       "      <td>0</td>\n",
       "    </tr>\n",
       "    <tr>\n",
       "      <th>8</th>\n",
       "      <td>JAX*</td>\n",
       "      <td>9</td>\n",
       "      <td>8</td>\n",
       "      <td>0</td>\n",
       "    </tr>\n",
       "    <tr>\n",
       "      <th>9</th>\n",
       "      <td>TEN</td>\n",
       "      <td>7</td>\n",
       "      <td>10</td>\n",
       "      <td>0</td>\n",
       "    </tr>\n",
       "    <tr>\n",
       "      <th>10</th>\n",
       "      <td>IND</td>\n",
       "      <td>4</td>\n",
       "      <td>12</td>\n",
       "      <td>1</td>\n",
       "    </tr>\n",
       "    <tr>\n",
       "      <th>11</th>\n",
       "      <td>HOU</td>\n",
       "      <td>3</td>\n",
       "      <td>13</td>\n",
       "      <td>1</td>\n",
       "    </tr>\n",
       "    <tr>\n",
       "      <th>12</th>\n",
       "      <td>KAN*</td>\n",
       "      <td>14</td>\n",
       "      <td>3</td>\n",
       "      <td>0</td>\n",
       "    </tr>\n",
       "    <tr>\n",
       "      <th>13</th>\n",
       "      <td>LAC+</td>\n",
       "      <td>10</td>\n",
       "      <td>7</td>\n",
       "      <td>0</td>\n",
       "    </tr>\n",
       "    <tr>\n",
       "      <th>14</th>\n",
       "      <td>LVR</td>\n",
       "      <td>6</td>\n",
       "      <td>11</td>\n",
       "      <td>0</td>\n",
       "    </tr>\n",
       "    <tr>\n",
       "      <th>15</th>\n",
       "      <td>DEN</td>\n",
       "      <td>5</td>\n",
       "      <td>12</td>\n",
       "      <td>0</td>\n",
       "    </tr>\n",
       "  </tbody>\n",
       "</table>\n",
       "</div>"
      ],
      "text/plain": [
       "    name wins losses ties\n",
       "0   BUF*   13      3    0\n",
       "1   MIA+    9      8    0\n",
       "2    NWE    8      9    0\n",
       "3    NYJ    7     10    0\n",
       "4   CIN*   12      4    0\n",
       "5   BAL+   10      7    0\n",
       "6    PIT    9      8    0\n",
       "7    CLE    7     10    0\n",
       "8   JAX*    9      8    0\n",
       "9    TEN    7     10    0\n",
       "10   IND    4     12    1\n",
       "11   HOU    3     13    1\n",
       "12  KAN*   14      3    0\n",
       "13  LAC+   10      7    0\n",
       "14   LVR    6     11    0\n",
       "15   DEN    5     12    0"
      ]
     },
     "execution_count": 46,
     "metadata": {},
     "output_type": "execute_result"
    }
   ],
   "source": [
    "# Football data from the table in dictionary form (very easy!)\n",
    "\n",
    "football = pd.DataFrame(teams)\n",
    "football"
   ]
  },
  {
   "cell_type": "code",
   "execution_count": 47,
   "metadata": {
    "hidden": true
   },
   "outputs": [
    {
     "data": {
      "text/html": [
       "<div>\n",
       "<style scoped>\n",
       "    .dataframe tbody tr th:only-of-type {\n",
       "        vertical-align: middle;\n",
       "    }\n",
       "\n",
       "    .dataframe tbody tr th {\n",
       "        vertical-align: top;\n",
       "    }\n",
       "\n",
       "    .dataframe thead th {\n",
       "        text-align: right;\n",
       "    }\n",
       "</style>\n",
       "<table border=\"1\" class=\"dataframe\">\n",
       "  <thead>\n",
       "    <tr style=\"text-align: right;\">\n",
       "      <th></th>\n",
       "      <th>time</th>\n",
       "      <th>description</th>\n",
       "    </tr>\n",
       "  </thead>\n",
       "  <tbody>\n",
       "    <tr>\n",
       "      <th>0</th>\n",
       "      <td>Today</td>\n",
       "      <td>Mostly Sunny</td>\n",
       "    </tr>\n",
       "    <tr>\n",
       "      <th>1</th>\n",
       "      <td>Tonight</td>\n",
       "      <td>Partly Cloudy</td>\n",
       "    </tr>\n",
       "    <tr>\n",
       "      <th>2</th>\n",
       "      <td>Friday</td>\n",
       "      <td>Mostly Sunny</td>\n",
       "    </tr>\n",
       "    <tr>\n",
       "      <th>3</th>\n",
       "      <td>FridayNight</td>\n",
       "      <td>Mostly Cloudy</td>\n",
       "    </tr>\n",
       "    <tr>\n",
       "      <th>4</th>\n",
       "      <td>Saturday</td>\n",
       "      <td>Partly Sunny</td>\n",
       "    </tr>\n",
       "    <tr>\n",
       "      <th>5</th>\n",
       "      <td>SaturdayNight</td>\n",
       "      <td>ChanceT-storms thenT-stormsLikely</td>\n",
       "    </tr>\n",
       "    <tr>\n",
       "      <th>6</th>\n",
       "      <td>Sunday</td>\n",
       "      <td>T-stormsLikely</td>\n",
       "    </tr>\n",
       "    <tr>\n",
       "      <th>7</th>\n",
       "      <td>SundayNight</td>\n",
       "      <td>T-storms</td>\n",
       "    </tr>\n",
       "    <tr>\n",
       "      <th>8</th>\n",
       "      <td>Monday</td>\n",
       "      <td>ChanceShowers</td>\n",
       "    </tr>\n",
       "  </tbody>\n",
       "</table>\n",
       "</div>"
      ],
      "text/plain": [
       "            time                        description\n",
       "0          Today                       Mostly Sunny\n",
       "1        Tonight                      Partly Cloudy\n",
       "2         Friday                       Mostly Sunny\n",
       "3    FridayNight                      Mostly Cloudy\n",
       "4       Saturday                       Partly Sunny\n",
       "5  SaturdayNight  ChanceT-storms thenT-stormsLikely\n",
       "6         Sunday                     T-stormsLikely\n",
       "7    SundayNight                           T-storms\n",
       "8         Monday                      ChanceShowers"
      ]
     },
     "execution_count": 47,
     "metadata": {},
     "output_type": "execute_result"
    }
   ],
   "source": [
    "# Weather data from the list of doubles\n",
    "\n",
    "weather = pd.DataFrame(together,\n",
    "                      columns=['time', 'description'])\n",
    "weather"
   ]
  }
 ],
 "metadata": {
  "kernelspec": {
   "display_name": "Python (learn-env)",
   "language": "python",
   "name": "learn-env"
  },
  "language_info": {
   "codemirror_mode": {
    "name": "ipython",
    "version": 3
   },
   "file_extension": ".py",
   "mimetype": "text/x-python",
   "name": "python",
   "nbconvert_exporter": "python",
   "pygments_lexer": "ipython3",
   "version": "3.8.5"
  },
  "toc": {
   "base_numbering": 1,
   "nav_menu": {},
   "number_sections": true,
   "sideBar": true,
   "skip_h1_title": false,
   "title_cell": "Table of Contents",
   "title_sidebar": "TOC",
   "toc_cell": true,
   "toc_position": {
    "height": "calc(100% - 180px)",
    "left": "10px",
    "top": "150px",
    "width": "288px"
   },
   "toc_section_display": true,
   "toc_window_display": true
  }
 },
 "nbformat": 4,
 "nbformat_minor": 4
}
