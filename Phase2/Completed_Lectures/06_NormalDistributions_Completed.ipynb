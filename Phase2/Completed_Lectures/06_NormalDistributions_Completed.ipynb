{
 "cells": [
  {
   "cell_type": "markdown",
   "metadata": {
    "heading_collapsed": true
   },
   "source": [
    "# Objectives"
   ]
  },
  {
   "cell_type": "markdown",
   "metadata": {
    "hidden": true
   },
   "source": [
    "* Describe the normal distribution's Empirical Rule\n",
    "* Calculate $z$-scores from a normal distribution through standardization\n",
    "* Define the Central Limit Theorem\n"
   ]
  },
  {
   "cell_type": "code",
   "execution_count": 2,
   "metadata": {
    "hidden": true
   },
   "outputs": [],
   "source": [
    "# Imports!\n",
    "from scipy import stats\n",
    "\n",
    "import matplotlib.pyplot as plt\n",
    "%matplotlib inline\n",
    "import seaborn as sns\n",
    "\n",
    "import pandas as pd\n",
    "import numpy as np"
   ]
  },
  {
   "cell_type": "markdown",
   "metadata": {
    "heading_collapsed": true
   },
   "source": [
    "# Normal Distribution"
   ]
  },
  {
   "cell_type": "markdown",
   "metadata": {
    "hidden": true
   },
   "source": [
    "We'll find that the **normal distribution** or **normal curve** or **bell curve** (it has many names) is a very common distribution and it's very useful to us in statistics."
   ]
  },
  {
   "cell_type": "markdown",
   "metadata": {
    "hidden": true
   },
   "source": [
    "![](images/normal_curve_animation.gif)"
   ]
  },
  {
   "cell_type": "markdown",
   "metadata": {
    "heading_collapsed": true,
    "hidden": true
   },
   "source": [
    "## Why a Normal Distribution?"
   ]
  },
  {
   "cell_type": "markdown",
   "metadata": {
    "hidden": true
   },
   "source": [
    "Turns out the normal distribution describes many phenomena. Think of anything that has a typical range:\n",
    "\n",
    "- human body temperatures\n",
    "- sizes of elephants\n",
    "- sizes of stars\n",
    "- populations of cities\n",
    "- IQ\n",
    "- heart rate"
   ]
  },
  {
   "cell_type": "markdown",
   "metadata": {
    "hidden": true
   },
   "source": [
    "Among human beings, 98.6 degrees Fahrenheit is an _average_ body temperature. Many folks' temperatures won't measure _exactly_ 98.6 degrees, but most measurements will be _close_. It is much more common to have a body temperature close to 98.6 (whether slightly more or slightly less) than it is to have a body temperature far from 98.6 (whether significantly more or significantly less). This is a hallmark of a normally distributed variable."
   ]
  },
  {
   "cell_type": "code",
   "execution_count": 3,
   "metadata": {
    "hidden": true
   },
   "outputs": [
    {
     "data": {
      "image/png": "[encoded data removed]",
      "text/plain": [
       "<Figure size 432x288 with 1 Axes>"
      ]
     },
     "metadata": {
      "needs_background": "light"
     },
     "output_type": "display_data"
    }
   ],
   "source": [
    "# Visualize it\n",
    "fig, ax = plt.subplots()\n",
    "\n",
    "mu = 0\n",
    "sigma = 1\n",
    "# This defines the points along the x-axis\n",
    "x = np.linspace(\n",
    "        stats.norm(mu,sigma).ppf(0.01), # Start plotting here\n",
    "        stats.norm(mu,sigma).ppf(0.99), # End plotting here\n",
    "        100                             # Number of points\n",
    ")\n",
    "# The values as at x given by the normal curve (with mu & sigma)\n",
    "y = stats.norm(mu,sigma).pdf(x)\n",
    "ax.plot(x, y,'r-');"
   ]
  },
  {
   "cell_type": "markdown",
   "metadata": {},
   "source": [
    "The Standard Normal Distribution, also known as a Gaussian distribution, is special not only because it shows up EVERYWHERE but also because it's symmetric (mean == median == mode)"
   ]
  },
  {
   "cell_type": "markdown",
   "metadata": {
    "hidden": true
   },
   "source": [
    "### Normal Curve\n",
    "\n",
    "If you're curious about how we can mathematically define a normal curve, we give this below. (Don't worry, you don't need to recall the mathematical definition).\n",
    "\n",
    "<details>\n",
    "\n",
    "$\\Large f(x) = \\frac{1}{\\sqrt{2\\pi\\sigma^2}}e^{\\frac{-(x - \\mu)^2}{2\\sigma^2}}$\n",
    "    \n",
    "This might look complicated at first, but it means that the we describe a normal curve with just **two parameters**: $\\sigma^2$ (the variance) & $\\mu$ (the mean). You may see the notation $N(\\mu, \\sigma^2)$ which emphasizes there are only two parameters to describe the distribution.\n",
    "</details>"
   ]
  },
  {
   "cell_type": "markdown",
   "metadata": {
    "hidden": true
   },
   "source": [
    "\n"
   ]
  },
  {
   "cell_type": "markdown",
   "metadata": {
    "heading_collapsed": true,
    "hidden": true
   },
   "source": [
    "## *Standard* Normal Distribution"
   ]
  },
  {
   "cell_type": "markdown",
   "metadata": {
    "hidden": true
   },
   "source": [
    "A special normal distribution called the **standard normal distribution** has a mean of 0 and variance of 1. This is also known as a **z distribution**."
   ]
  },
  {
   "cell_type": "markdown",
   "metadata": {
    "hidden": true
   },
   "source": [
    "Since we know that the shape of a normal distribution changes based on its mean and variance, we'll typically convert or **standardize** our normal distribution to the standard normal distribution."
   ]
  },
  {
   "cell_type": "markdown",
   "metadata": {
    "hidden": true
   },
   "source": [
    "We simply subtract the mean $\\mu$ from each value and then divide by the standard deviation $\\sigma$:\n",
    "\n",
    "$$\\frac{x - \\mu}{\\sigma}$$\n",
    "\n",
    "We call this process **standardization**."
   ]
  },
  {
   "cell_type": "markdown",
   "metadata": {
    "hidden": true
   },
   "source": [
    "![norm_to_z](images/norm_to_z.png)"
   ]
  },
  {
   "cell_type": "code",
   "execution_count": 4,
   "metadata": {
    "hidden": true,
    "scrolled": false
   },
   "outputs": [
    {
     "data": {
      "text/plain": [
       "4.995421558820318"
      ]
     },
     "execution_count": 4,
     "metadata": {},
     "output_type": "execute_result"
    }
   ],
   "source": [
    "# Let's transform the normal distribution centered on 5\n",
    "# with a standard deviation of 2 into a standard normal\n",
    "\n",
    "# Generating our data\n",
    "# stats.norm.rvs()\n",
    "normal_dist = np.random.normal(loc=5, scale=2, size=1000)\n",
    "\n",
    "np.mean(normal_dist)"
   ]
  },
  {
   "cell_type": "code",
   "execution_count": 5,
   "metadata": {},
   "outputs": [
    {
     "data": {
      "text/plain": [
       "array([ 2.45403389,  5.24155064,  5.85974867,  1.32938508,  5.59664664,\n",
       "        5.59780099,  4.25887682,  3.61760111,  5.5132666 ,  4.63487829,\n",
       "        6.34794627,  6.89674768,  4.67602635,  5.12993311,  6.84866094,\n",
       "        5.59755026,  7.07211523,  3.74120317,  7.22230149,  7.45521412,\n",
       "        2.52785667,  8.52979243,  2.11425638,  3.0222293 ,  7.75853202,\n",
       "        3.61374872,  4.47645048,  6.46941372,  5.7879103 ,  5.37634241,\n",
       "        3.46931366,  2.39046084,  4.80608857,  7.23987495,  3.28513641,\n",
       "        5.53160661,  8.77108241,  7.50453431,  2.50590443,  3.05845077,\n",
       "        3.72570847,  5.49070864,  5.51470978,  2.91463207,  6.73120788,\n",
       "        8.17055203,  7.08244351,  0.69190053,  4.94007612,  4.57440134,\n",
       "        4.53243113,  5.28413767,  4.10552961,  6.02773474,  6.87878297,\n",
       "        2.53975449,  3.8157236 ,  6.43504546,  7.06805686,  9.02893198,\n",
       "        4.46796356,  0.19382406,  3.15946606,  7.19758558,  3.9934301 ,\n",
       "        3.51754492,  5.72822369,  2.20662184,  8.17380955,  6.29110845,\n",
       "        3.52346554,  5.06020155,  4.62079117,  3.57889679,  4.43863474,\n",
       "        2.12087069,  6.17453653,  6.29593732,  5.52047141,  3.62386403,\n",
       "        3.98098853,  7.20105741,  3.47676976,  4.27102991,  7.76386868,\n",
       "        6.41796352,  6.73813949,  4.60541941,  4.62364419,  4.8068063 ,\n",
       "        5.39882164,  5.70319592,  3.68234319,  3.04796979,  8.12285386,\n",
       "        8.17029208,  7.07601577,  2.78681636,  2.29588704,  5.11697986,\n",
       "        4.36482514,  3.67354501,  4.77261916,  6.53031972,  5.70728942,\n",
       "        5.76692259,  5.22656956,  2.279195  ,  9.11668877,  1.82733842,\n",
       "        5.71161229,  3.68440847,  5.53990328,  4.72431105,  8.63436276,\n",
       "        2.27564622,  5.06223364,  0.79383472,  6.0729114 ,  3.78518226,\n",
       "        5.72974849,  7.44342047,  2.23284071,  3.47678149,  4.38533851,\n",
       "        2.85705216, 10.95425932,  7.86945909,  4.31195018,  2.70239461,\n",
       "        4.65262614,  3.92223697,  4.46099106,  4.3571245 ,  1.95674444,\n",
       "        1.05308824,  5.22769977,  2.39536333,  4.63446037,  6.59039871,\n",
       "        7.30037843,  4.51125162,  3.77105894,  8.79384135,  5.03856077,\n",
       "        1.74918479,  7.26952413,  6.03133525,  6.25822898,  7.50040833,\n",
       "        5.61970505, -0.93779762,  3.30772989,  2.70126044,  5.07371464,\n",
       "        4.97444972,  5.11951977,  6.32075796,  5.61239918,  5.09088589,\n",
       "        4.3920466 ,  3.25032657,  4.49548091,  5.8814536 ,  5.15584846,\n",
       "        5.16901624,  3.68761314,  2.34343729,  3.62093303,  6.61179754,\n",
       "        5.33730546,  0.78982207,  1.42972517,  4.81590695,  7.7922959 ,\n",
       "        6.17790569,  8.07165624,  9.68691233,  6.44158614,  4.57188612,\n",
       "        4.13519947,  3.18626814,  6.07616386,  4.87016074,  7.61931532,\n",
       "        7.29994884,  7.37022781,  4.11980998,  6.2406374 ,  8.03076446,\n",
       "        2.6032252 ,  6.04649746,  8.41164444,  4.75368612,  5.86762529,\n",
       "        1.50179861,  3.67489206,  6.49431159,  6.30068051,  1.26086504,\n",
       "        2.83493067,  0.76717264,  3.39352517,  7.63911752,  7.01138319,\n",
       "        6.23585465,  3.02369631,  4.93061625,  7.54295957,  3.59663221,\n",
       "        4.63693054,  7.90449224,  4.36445564,  5.99955921,  2.81800304,\n",
       "        6.03033053,  4.45259651,  7.18457572,  5.84508937,  2.75951649,\n",
       "        3.95626715,  7.77561637,  2.54526944,  5.87708579,  4.97393783,\n",
       "        6.75718087,  4.99786952,  9.03385801,  8.03706034,  6.53254307,\n",
       "        6.14691367,  1.92107655,  8.35040275,  8.96410105,  6.45838915,\n",
       "       10.73760573,  4.90909241,  4.78869147,  1.4610601 ,  6.04638   ,\n",
       "        6.4460657 ,  4.92016685,  3.85710094,  3.96369373,  7.31499177,\n",
       "        8.28295949,  3.05196977,  5.11216455,  7.00881576,  7.29059069,\n",
       "        4.28565208,  6.60142919,  4.3404362 ,  4.50976402,  5.75963369,\n",
       "        3.48167981,  9.01777486,  6.89900908,  5.30445217,  5.58754611,\n",
       "        2.69569998,  6.33776525,  4.79598256,  6.57731147,  5.59632748,\n",
       "        3.73655756,  2.99463249,  4.28595659,  4.05802655,  4.37130614,\n",
       "        5.66778857,  4.66347528,  5.54385466,  4.40254586,  6.14952679,\n",
       "        3.10070625,  7.23848555,  6.22180999,  3.66887799,  5.08113196,\n",
       "        7.76215747,  7.63404708,  3.51779977,  3.5762567 ,  2.23075207,\n",
       "        5.44742214,  4.11340254,  2.66723853,  6.40568128,  3.02696459,\n",
       "        4.0466413 ,  4.08343751,  4.88738811,  5.05405603,  4.78087037,\n",
       "        2.20675321,  4.57810275,  4.90502616,  3.54351917,  8.44672968,\n",
       "        5.08101769,  3.50104946,  5.66890505,  5.27820086,  1.70519541,\n",
       "        0.37744616,  5.18203731,  6.17107642,  4.96665176,  4.55789092,\n",
       "        4.74102949,  5.81885004,  3.21279129,  5.27532039,  5.67010725,\n",
       "        6.10148098,  5.65680273,  4.61284564,  4.60763461,  6.57503218,\n",
       "        5.3788603 ,  4.36413744,  3.57028711,  3.62119975,  4.84349904,\n",
       "        7.99076846,  3.28145723,  6.47258095,  4.27718696,  7.37250323,\n",
       "        3.30407744,  4.77665572,  4.70581155,  2.81004075,  2.93253007,\n",
       "        8.64406458,  0.7165617 ,  4.32149862,  4.0554737 , 11.26769216,\n",
       "        2.29851852,  5.10906099,  1.79036736,  3.24947698,  4.64196092,\n",
       "        5.35055527,  5.51738891,  8.11095157,  4.45297683,  6.21847317,\n",
       "        4.0533287 ,  5.03415757,  3.31106216,  5.49966561,  2.25296908,\n",
       "        5.30433922,  2.74484171,  2.03646308,  4.14903193,  3.91587298,\n",
       "        2.96724527,  3.23665266,  6.29432777,  2.21664434,  7.25046634,\n",
       "        5.68142024,  6.58174137,  4.72892617,  3.96211268,  3.70812803,\n",
       "        7.31970503,  3.08907595,  4.18027021,  3.48182087,  8.04345068,\n",
       "        3.05491836,  3.52987976,  3.55013348,  5.72617379,  4.77748109,\n",
       "        6.50689593,  5.96291846,  8.10506468,  8.44721581,  4.47052844,\n",
       "        7.54808406,  6.82809688,  5.09014239,  5.46221991,  3.59241375,\n",
       "        5.84247667,  3.75448577, -0.36058643,  2.45583234,  7.2797101 ,\n",
       "        6.98563504,  8.07742018,  5.0985238 ,  3.66564217,  6.05724117,\n",
       "        2.30240719,  2.99475912,  1.2516405 ,  3.11218237,  4.03233686,\n",
       "        6.07247693,  5.06185108,  5.660468  ,  2.65219504,  6.11229751,\n",
       "        2.34258339,  6.14011291,  3.46842163,  6.24026502,  3.88444649,\n",
       "        6.40736357,  4.98561959,  3.09721287,  5.72695238,  4.65854309,\n",
       "        2.96479139,  6.90744827,  5.70916935,  6.66100571,  7.46381365,\n",
       "        4.88990591,  3.27501544,  9.0257546 ,  5.89531957,  5.56889916,\n",
       "        7.67990846,  4.36341821,  2.60696549,  7.39245373,  6.19444758,\n",
       "        7.31232764,  4.71537891,  8.99963885,  6.18744268,  7.45250904,\n",
       "        3.53923535,  3.06397849,  4.98185831,  6.74027045,  8.3859593 ,\n",
       "        6.03512253,  0.26777714,  3.69576299,  6.79244902,  7.77354962,\n",
       "        3.25276126,  0.52826051,  4.21613716,  2.73584966,  3.72348894,\n",
       "        6.30191336,  2.31807821,  6.1363371 ,  5.78383348,  4.56029053,\n",
       "        6.29063445,  4.25031042,  6.36302859,  5.72405022,  1.78684038,\n",
       "        3.9222543 ,  4.04464002,  7.7614805 ,  4.55451486,  7.20646334,\n",
       "        7.47691671,  4.73858345,  4.79794878,  5.87291194,  6.98013863,\n",
       "        6.25153889,  5.2121378 ,  4.91528521,  8.12724872,  8.13345803,\n",
       "        7.10907824,  4.14501726,  4.21286117,  5.63242657,  6.45424088,\n",
       "        5.29266852,  2.66679996,  8.61671639,  3.41914079,  7.2532047 ,\n",
       "        5.84206859,  4.94015923,  3.07947661,  7.03266821,  4.53989872,\n",
       "        7.23062618,  3.91437491,  4.67949502,  3.86042926,  7.11381249,\n",
       "        5.0294198 ,  5.57289793,  4.16470472,  4.90300652,  2.27015367,\n",
       "        4.82182588,  1.56013358,  1.4133011 ,  3.37678642,  5.1007999 ,\n",
       "        7.33441874,  5.40206854,  2.02641803,  4.30777523,  7.02098617,\n",
       "        7.20511976,  5.49464887,  5.93397306,  5.89227075,  6.18474485,\n",
       "        5.24559801,  7.02889993,  3.34769059,  5.8018725 ,  5.0229129 ,\n",
       "        6.98113957,  5.54424087,  7.71271135,  7.4120057 ,  7.53558157,\n",
       "        3.48574584,  3.83078385,  6.23389446,  5.25058351,  4.44332562,\n",
       "        2.94597699,  4.82641971,  1.96910136,  4.55115741,  4.9133948 ,\n",
       "        6.19843468,  6.75226395,  5.62150787,  6.27159767,  6.27264605,\n",
       "        5.29585468,  7.71959646,  6.32225518,  4.11074395,  3.20748423,\n",
       "        5.17903937,  5.22566288,  5.89691062,  2.90974594,  5.28290836,\n",
       "        4.16653919,  2.15914861,  7.00692956,  5.05630935,  3.86808933,\n",
       "        4.24282224,  8.95690651,  2.32113806,  5.81964188,  2.28947182,\n",
       "        5.45934396,  3.72175463,  5.11038064,  7.92903887,  4.9093388 ,\n",
       "        7.68617289,  6.51981127,  6.3751608 ,  2.14387581,  5.17382822,\n",
       "        3.72959622, -1.50159371,  5.63540612,  4.2548223 ,  3.63603192,\n",
       "        7.24374399,  6.72323183,  4.3143577 ,  1.81209439,  6.94083025,\n",
       "        2.00110036,  6.22866921,  6.6791692 ,  6.63753872,  1.5283466 ,\n",
       "        4.49277178,  3.87151803,  5.15701713,  4.73884372,  3.18127781,\n",
       "        7.00021988,  4.27471336,  3.66167446,  7.12706031,  4.06938333,\n",
       "        5.84723618,  3.77812955,  5.79801877,  4.72933246,  4.46163843,\n",
       "        5.03463003,  9.69896484,  7.04844254,  2.91424036,  3.28015282,\n",
       "        7.40365933,  5.79060253, 12.73080604,  8.25987805,  1.08955056,\n",
       "        4.88634654,  2.30028678,  5.95546608,  9.77477461,  5.39876621,\n",
       "        6.48918361,  2.35821413,  7.00588761,  1.87178085,  5.06147239,\n",
       "        6.30530199,  2.53867428,  6.73272671,  6.59875369,  6.47889652,\n",
       "        5.2339985 ,  7.79218829,  5.94911034,  3.34750978,  6.40388285,\n",
       "        2.89348545,  3.77234691,  4.48452599,  3.81286556,  1.7512413 ,\n",
       "        3.94796166, -0.80300573,  3.31635943,  4.00670665,  7.10884378,\n",
       "        3.91375544,  7.70205186,  0.47366647,  9.18169071,  4.80313679,\n",
       "        4.33647872,  3.88695828,  4.07382605,  6.93005594,  8.71010337,\n",
       "        6.15853228,  3.31796262,  4.62280762,  2.07626244,  4.28577962,\n",
       "        6.04855717,  3.91981052,  1.90545716,  6.2796466 ,  5.79369192,\n",
       "        1.26535329,  6.13354402,  3.82496141,  5.36507102,  6.78638794,\n",
       "        6.15843735,  6.5057144 ,  3.99016745,  3.48345309,  3.12598157,\n",
       "        3.78891294,  4.34228873, 11.24424315,  4.00131567,  3.32994924,\n",
       "        4.60452178,  6.08142928,  1.93611366,  7.33221095,  4.83065634,\n",
       "        5.90805316,  4.86499446,  6.2807906 ,  8.44497247,  6.14730814,\n",
       "        5.07187185,  5.4847513 ,  9.10056566,  4.93020506,  4.59834108,\n",
       "        4.40566269,  3.82683897,  4.46705424,  4.87338013,  3.89737964,\n",
       "        1.57499786,  4.77711012,  4.99147057,  2.94968019,  0.62408572,\n",
       "        1.85125093,  3.99128169,  3.32210271,  3.66420897,  5.15210255,\n",
       "        4.75804696,  5.50992237,  6.71997237,  2.63905456,  2.49837483,\n",
       "        6.69894949,  4.41047981,  3.60115858,  7.43349777,  3.02321588,\n",
       "       -0.53788209,  3.84487303,  4.3368743 ,  2.31521566,  2.42379069,\n",
       "        7.75669953,  4.82158729,  5.27360998,  4.37166829,  6.28932054,\n",
       "        4.3877132 ,  4.40354814,  4.5232137 ,  3.6363897 ,  7.23026107,\n",
       "        8.85670702,  4.64795922,  2.68214065,  5.23085381,  6.49582193,\n",
       "        3.84390387,  8.27462873,  5.34137374,  8.10774634,  2.23126641,\n",
       "        7.79511812,  6.80155961,  4.0748711 ,  4.20287011,  4.10331466,\n",
       "        4.67784246,  9.65507614,  3.47927754,  5.41739132,  4.29849261,\n",
       "        1.91905466,  1.64387565,  4.10652779,  8.64931777,  9.0512542 ,\n",
       "        4.95171724, 10.39754774,  4.93207739,  5.01829914,  6.53125134,\n",
       "        5.81064619,  3.62249375,  5.67092276,  4.12637936,  5.30623624,\n",
       "        5.68442809,  3.33007836,  4.32059347,  3.83643656,  7.88158281,\n",
       "        3.02626635,  3.41375715,  4.2100801 ,  6.6451792 ,  4.48285456,\n",
       "        5.82351727,  3.16070965,  6.14527835,  6.33091526,  7.17417845,\n",
       "        7.67177093,  4.81726184,  3.80525234,  7.05098212,  5.26675474,\n",
       "        6.3026211 ,  7.53278897,  2.83853788,  4.53128776,  2.45564733,\n",
       "        5.32060906,  2.22188087,  4.10571272,  3.47149458,  6.45499207,\n",
       "        3.25123701,  5.88959023,  5.00206391,  6.24474048,  3.68484546,\n",
       "        3.51050331,  6.95055177,  2.2415831 ,  6.78773731,  2.776051  ,\n",
       "        4.42781749,  6.43507169,  2.21213099,  2.13024364,  6.52937724,\n",
       "        1.51243545,  7.62117867,  4.48323574,  6.47434167,  6.4826377 ,\n",
       "        1.78298212,  4.78107966,  7.25988833,  3.52334179,  5.48635762,\n",
       "        3.79333808,  5.59908157,  2.68862901,  3.76283846,  4.68484537,\n",
       "        6.96710006,  0.79589238,  6.60960631,  2.92843797,  6.35210675,\n",
       "        5.60062064,  6.25600486,  6.02652315,  4.08933488,  3.2533899 ,\n",
       "        3.13650654,  3.5235627 ,  5.87679332,  3.93049424,  2.83215896,\n",
       "        4.7698564 ,  5.24697912,  6.36027426,  7.65213379,  6.40403833,\n",
       "        5.34601747,  5.46532222,  0.56406702,  3.38715025,  4.40131125,\n",
       "        6.77145633,  4.66562536,  8.68412413,  5.54277297,  5.67455014,\n",
       "        3.30892089,  4.14419939,  6.65610775,  2.7660653 ,  2.57986418,\n",
       "        5.04387553,  6.05746125,  9.67132756,  2.68624658,  5.88968624,\n",
       "        4.09845031,  2.60759549,  6.70138585,  2.06345619,  7.87982911,\n",
       "        1.76440687, 11.04009966,  3.45830839,  6.02689682,  4.26544944,\n",
       "        2.99440344,  6.22741341,  7.70213548,  4.62137476,  5.91371957,\n",
       "        8.43379457,  6.68887384,  3.01452852,  6.13471096,  3.25871297,\n",
       "        4.51309805,  5.02101552,  3.03474963,  3.55439635,  1.78521268,\n",
       "        8.42047408,  6.09318954,  4.42258089,  3.02159956,  6.15932573,\n",
       "        8.35106559,  4.76857419,  5.71746895,  3.32701516,  5.60061124,\n",
       "        6.73896804,  3.33752734,  6.07949758,  1.68393435,  0.23420984,\n",
       "        7.31013564,  5.11462634,  3.13671096,  5.50937677,  7.21610293,\n",
       "        7.65746745,  7.72136884,  3.44618326,  5.57870541,  7.41368604,\n",
       "        8.17592322,  3.18161195,  3.71938656,  4.84742513,  1.34487824,\n",
       "        8.99141069,  2.81009228,  4.2664035 ,  5.85001055,  6.30760019,\n",
       "        7.18546474,  9.08793596,  6.05793182,  4.15049737,  4.17122973,\n",
       "        5.99049305,  6.58282179,  3.41136501,  4.52437351,  8.32797258,\n",
       "        5.49064011,  4.04606984,  4.91599791,  1.17089587,  2.07481951,\n",
       "        3.92344096,  4.91742212,  6.42294374,  2.08158022,  4.29420803,\n",
       "        5.83419419,  5.4961482 ,  2.6697712 ,  4.03559881,  5.34282318,\n",
       "        0.99704293,  5.58865923,  4.90920628,  4.57020437,  4.44804264,\n",
       "        4.39431962,  1.25533326,  3.5964349 ,  4.00395771,  2.65133452,\n",
       "        2.93689675,  5.38458485,  4.63437896,  3.7569294 ,  3.34832514,\n",
       "        4.67434238,  5.582178  ,  8.95842713,  3.0431489 ,  3.00103249,\n",
       "        3.68111013,  9.63503058,  5.51801574,  4.61445199,  2.58104649,\n",
       "        3.91276562,  8.95832869,  3.82474964,  3.38902645,  6.28041904,\n",
       "        1.38720118,  7.28959357,  8.85093298,  4.3502585 ,  5.40064613,\n",
       "        5.75404425,  3.80696853,  3.47102584,  8.09264275,  4.74990079,\n",
       "        5.57074449,  4.65972838,  5.33454431,  7.02256602,  6.90674017])"
      ]
     },
     "execution_count": 5,
     "metadata": {},
     "output_type": "execute_result"
    }
   ],
   "source": [
    "normal_dist"
   ]
  },
  {
   "cell_type": "code",
   "execution_count": 6,
   "metadata": {},
   "outputs": [
    {
     "data": {
      "text/plain": [
       "-1.5631940186722203e-16"
      ]
     },
     "execution_count": 6,
     "metadata": {},
     "output_type": "execute_result"
    }
   ],
   "source": [
    "# Here, let's standardize by hand\n",
    "# (x - mean) / std\n",
    "z_dist = [(x - np.mean(normal_dist)) / np.std(normal_dist)\n",
    "          for x in normal_dist]\n",
    "\n",
    "np.mean(z_dist)"
   ]
  },
  {
   "cell_type": "code",
   "execution_count": 7,
   "metadata": {},
   "outputs": [
    {
     "data": {
      "image/png": "[encoded data removed]",
      "text/plain": [
       "<Figure size 720x432 with 2 Axes>"
      ]
     },
     "metadata": {
      "needs_background": "light"
     },
     "output_type": "display_data"
    }
   ],
   "source": [
    "# Visualize it\n",
    "fig, (ax0, ax1) = plt.subplots(nrows=2, sharex=True, figsize=(10, 6))\n",
    "\n",
    "sns.histplot(data=normal_dist, ax=ax0)\n",
    "ax0.set_title('Before Standardization')\n",
    "\n",
    "sns.histplot(data=z_dist, ax=ax1)\n",
    "ax1.set_title('After Standardization')\n",
    "\n",
    "plt.tight_layout()"
   ]
  },
  {
   "cell_type": "markdown",
   "metadata": {
    "hidden": true
   },
   "source": [
    "Talking about the **standard normal distribution** can be very convenient since the values correspond to the number of standard deviations above or below the mean."
   ]
  },
  {
   "cell_type": "markdown",
   "metadata": {
    "heading_collapsed": true,
    "hidden": true
   },
   "source": [
    "## $z$-Score"
   ]
  },
  {
   "cell_type": "markdown",
   "metadata": {
    "hidden": true
   },
   "source": [
    "A **$z$-score** for a specific data point $x$ (in a normal distribution) is simply the distance to the mean in the units of standard deviations\n",
    "\n",
    "$$\\large z = \\frac{x - \\mu}{\\sigma}$$\n",
    "\n",
    "By calculating the z-score of an individual point, we can see how unlikely a value is."
   ]
  },
  {
   "cell_type": "markdown",
   "metadata": {
    "hidden": true
   },
   "source": [
    "Here's a little site with some [interactive Gaussians](https://www.intmath.com/counting-probability/normal-distribution-graph-interactive.php)"
   ]
  },
  {
   "cell_type": "markdown",
   "metadata": {
    "heading_collapsed": true,
    "hidden": true
   },
   "source": [
    "#### 🧠 Knowledge Check"
   ]
  },
  {
   "cell_type": "markdown",
   "metadata": {
    "hidden": true
   },
   "source": [
    "What would the $z$-score be for the middle of a normal curve?\n",
    "\n",
    "- 0\n"
   ]
  },
  {
   "cell_type": "markdown",
   "metadata": {
    "heading_collapsed": true,
    "hidden": true
   },
   "source": [
    "### The Empirical Rule"
   ]
  },
  {
   "cell_type": "markdown",
   "metadata": {
    "hidden": true
   },
   "source": [
    "> Rule states that $68\\%$ of the values of a normal distribution of data lie within 1 standard deviation ($\\sigma$) of the mean, $95\\%$ within $2\\sigma$, and $99.7\\%$ within $3\\sigma$.  \n",
    "\n",
    "This makes it really quick to look at a normal distribution and understand where values tend to lie"
   ]
  },
  {
   "cell_type": "markdown",
   "metadata": {
    "hidden": true
   },
   "source": [
    "<img src='https://github.com/learn-co-students/dsc-0-09-12-gaussian-distributions-online-ds-ft-031119/blob/master/normalsd.jpg?raw=true' width=700/>"
   ]
  },
  {
   "cell_type": "markdown",
   "metadata": {
    "heading_collapsed": true,
    "hidden": true
   },
   "source": [
    "#### 🧠 Knowledge Check"
   ]
  },
  {
   "cell_type": "markdown",
   "metadata": {
    "hidden": true
   },
   "source": [
    "About what percentage of the values would be between a $z$-score of $-1$ and a $z$-score of $2$?\n",
    "\n",
    "<details>\n",
    "    <summary>Answer</summary>\n",
    "    About $82\\%$\n",
    "</details>"
   ]
  },
  {
   "cell_type": "code",
   "execution_count": 8,
   "metadata": {},
   "outputs": [
    {
     "data": {
      "text/plain": [
       "81.5"
      ]
     },
     "execution_count": 8,
     "metadata": {},
     "output_type": "execute_result"
    }
   ],
   "source": [
    "34 + 34 + 13.5"
   ]
  },
  {
   "cell_type": "markdown",
   "metadata": {
    "heading_collapsed": true
   },
   "source": [
    "# Exercises"
   ]
  },
  {
   "cell_type": "markdown",
   "metadata": {},
   "source": [
    "The distribution of people's heights in the United States has a **mean of 66 inches** and a **standard deviation of 4 inches**. "
   ]
  },
  {
   "cell_type": "markdown",
   "metadata": {
    "heading_collapsed": true,
    "hidden": true
   },
   "source": [
    "## Height $z$-score"
   ]
  },
  {
   "cell_type": "markdown",
   "metadata": {
    "hidden": true
   },
   "source": [
    "Calculate the z-score of a height of **76 inches.**"
   ]
  },
  {
   "cell_type": "code",
   "execution_count": 9,
   "metadata": {
    "hidden": true
   },
   "outputs": [
    {
     "data": {
      "text/plain": [
       "2.5"
      ]
     },
     "execution_count": 9,
     "metadata": {},
     "output_type": "execute_result"
    }
   ],
   "source": [
    "# Your code here\n",
    "(76 - 66) / 4"
   ]
  },
  {
   "cell_type": "markdown",
   "metadata": {},
   "source": [
    "<details>\n",
    "    <summary>Answer</summary>\n",
    "    <code># z-score: z = (x - mu) / std\n",
    "(76 - 66) / 4</code>\n",
    "</details>"
   ]
  },
  {
   "cell_type": "markdown",
   "metadata": {},
   "source": [
    "#### Describe the z-score - what does it tell us?\n",
    "\n",
    "- A height of 76in is 2.5 standard deviations above the population mean\n"
   ]
  },
  {
   "cell_type": "code",
   "execution_count": 16,
   "metadata": {},
   "outputs": [
    {
     "data": {
      "text/plain": [
       "0.006209665325776159"
      ]
     },
     "execution_count": 16,
     "metadata": {},
     "output_type": "execute_result"
    }
   ],
   "source": [
    "1 - stats.norm(loc=0, scale=1).cdf(2.5)"
   ]
  },
  {
   "cell_type": "markdown",
   "metadata": {
    "heading_collapsed": true,
    "hidden": true
   },
   "source": [
    "## Height Empirical Rule"
   ]
  },
  {
   "cell_type": "markdown",
   "metadata": {
    "hidden": true
   },
   "source": [
    "Determine the proportion of those whose height is between **62 inches and 74 inches**."
   ]
  },
  {
   "cell_type": "code",
   "execution_count": 17,
   "metadata": {},
   "outputs": [
    {
     "data": {
      "text/plain": [
       "(-1.0, 2.0)"
      ]
     },
     "execution_count": 17,
     "metadata": {},
     "output_type": "execute_result"
    }
   ],
   "source": [
    "# Your code here\n",
    "z_62 = (62 - 66) / 4\n",
    "z_74 = (74 - 66) / 4\n",
    "z_62, z_74"
   ]
  },
  {
   "cell_type": "markdown",
   "metadata": {},
   "source": [
    "<details>\n",
    "    <summary>Answer 1</summary>\n",
    "<code># z-scores for 62\" and 74\":\n",
    "z_62 = (62 - 66) / 4\n",
    "z_74 = (74 - 66) / 4\n",
    "z_62, z_74</code>\n",
    "    </details>"
   ]
  },
  {
   "cell_type": "markdown",
   "metadata": {},
   "source": [
    "<details>\n",
    "    <summary>Answer 2</summary>\n",
    "    <code>heights = stats.norm(loc=66, scale=4)\n",
    "heights.cdf(74) - heights.cdf(62)</code>\n",
    "    </details>"
   ]
  },
  {
   "cell_type": "code",
   "execution_count": 18,
   "metadata": {},
   "outputs": [],
   "source": [
    "height_dist = stats.norm(loc=66, scale=4)"
   ]
  },
  {
   "cell_type": "code",
   "execution_count": 19,
   "metadata": {
    "scrolled": true
   },
   "outputs": [
    {
     "data": {
      "text/plain": [
       "0.9772498680518208"
      ]
     },
     "execution_count": 19,
     "metadata": {},
     "output_type": "execute_result"
    }
   ],
   "source": [
    "height_dist.cdf(74)"
   ]
  },
  {
   "cell_type": "code",
   "execution_count": 20,
   "metadata": {
    "scrolled": true
   },
   "outputs": [
    {
     "data": {
      "text/plain": [
       "0.15865525393145707"
      ]
     },
     "execution_count": 20,
     "metadata": {},
     "output_type": "execute_result"
    }
   ],
   "source": [
    "height_dist.cdf(62)"
   ]
  },
  {
   "cell_type": "code",
   "execution_count": 21,
   "metadata": {},
   "outputs": [
    {
     "data": {
      "text/plain": [
       "0.8185946141203637"
      ]
     },
     "execution_count": 21,
     "metadata": {},
     "output_type": "execute_result"
    }
   ],
   "source": [
    "height_dist.cdf(74) - height_dist.cdf(62)"
   ]
  },
  {
   "cell_type": "markdown",
   "metadata": {
    "heading_collapsed": true,
    "hidden": true
   },
   "source": [
    "## Height Percentile"
   ]
  },
  {
   "cell_type": "markdown",
   "metadata": {
    "hidden": true
   },
   "source": [
    "Assuming the above distribution of people's heights in the United States is approximately normal, what percent of people have a height **less than 75 inches**?"
   ]
  },
  {
   "cell_type": "code",
   "execution_count": 22,
   "metadata": {},
   "outputs": [
    {
     "data": {
      "text/plain": [
       "0.9877755273449553"
      ]
     },
     "execution_count": 22,
     "metadata": {},
     "output_type": "execute_result"
    }
   ],
   "source": [
    "# Your code here\n",
    "height_dist.cdf(75)"
   ]
  },
  {
   "cell_type": "markdown",
   "metadata": {},
   "source": [
    "<details>\n",
    "    <summary>Answer</summary>\n",
    "    <code>heights.cdf(75)</code>\n",
    "    </details>"
   ]
  },
  {
   "cell_type": "markdown",
   "metadata": {
    "heading_collapsed": true,
    "hidden": true
   },
   "source": [
    "## Bonus"
   ]
  },
  {
   "cell_type": "markdown",
   "metadata": {
    "hidden": true
   },
   "source": [
    "Assuming the above distribution of people's heights in the United States is approximately normal, what range of heights contain the **middle 50% of values**, also known as the _interquartile range_ (IQR)?"
   ]
  },
  {
   "cell_type": "code",
   "execution_count": 26,
   "metadata": {},
   "outputs": [
    {
     "data": {
      "text/plain": [
       "-0.6744897501960817"
      ]
     },
     "execution_count": 26,
     "metadata": {},
     "output_type": "execute_result"
    }
   ],
   "source": [
    "# z_dist\n",
    "z_dist = stats.norm(loc=0, scale=1)\n",
    "z_dist.ppf(.25)"
   ]
  },
  {
   "cell_type": "code",
   "execution_count": 25,
   "metadata": {
    "scrolled": true
   },
   "outputs": [
    {
     "data": {
      "text/plain": [
       "(63.30204099921567, 68.69795900078432)"
      ]
     },
     "execution_count": 25,
     "metadata": {},
     "output_type": "execute_result"
    }
   ],
   "source": [
    "height_dist.ppf(.25), height_dist.ppf(.75)"
   ]
  },
  {
   "cell_type": "code",
   "execution_count": 27,
   "metadata": {},
   "outputs": [
    {
     "data": {
      "text/plain": [
       "-0.6750000000000007"
      ]
     },
     "execution_count": 27,
     "metadata": {},
     "output_type": "execute_result"
    }
   ],
   "source": [
    "(63.3 - 66) / 4"
   ]
  },
  {
   "cell_type": "markdown",
   "metadata": {},
   "source": [
    "<details>\n",
    "    <summary>Answer</summary>\n",
    "    <code>heights.ppf(0.25), heights.ppf(0.75)</code>\n",
    "    </details>"
   ]
  },
  {
   "cell_type": "markdown",
   "metadata": {},
   "source": [
    "## Time for Pandas!\n",
    "\n",
    "Let's use the same Seattle City Employee data from the first Distributions lecture to check out what scaling looks like in practice!\n",
    "\n",
    "Data source: https://data.seattle.gov/City-Business/City-of-Seattle-Wage-Data/2khk-5ukd"
   ]
  },
  {
   "cell_type": "code",
   "execution_count": 28,
   "metadata": {},
   "outputs": [],
   "source": [
    "# Read in the data\n",
    "df = pd.read_csv('data/City_of_Seattle_Wage_Data_031422.csv')"
   ]
  },
  {
   "cell_type": "code",
   "execution_count": 29,
   "metadata": {},
   "outputs": [
    {
     "data": {
      "text/html": [
       "<div>\n",
       "<style scoped>\n",
       "    .dataframe tbody tr th:only-of-type {\n",
       "        vertical-align: middle;\n",
       "    }\n",
       "\n",
       "    .dataframe tbody tr th {\n",
       "        vertical-align: top;\n",
       "    }\n",
       "\n",
       "    .dataframe thead th {\n",
       "        text-align: right;\n",
       "    }\n",
       "</style>\n",
       "<table border=\"1\" class=\"dataframe\">\n",
       "  <thead>\n",
       "    <tr style=\"text-align: right;\">\n",
       "      <th></th>\n",
       "      <th>Department</th>\n",
       "      <th>Last Name</th>\n",
       "      <th>First Name</th>\n",
       "      <th>Job Title</th>\n",
       "      <th>Hourly Rate</th>\n",
       "    </tr>\n",
       "  </thead>\n",
       "  <tbody>\n",
       "    <tr>\n",
       "      <th>0</th>\n",
       "      <td>Seattle Public Utilities</td>\n",
       "      <td>Batchelor</td>\n",
       "      <td>Craig</td>\n",
       "      <td>Civil Engrng Spec,Sr</td>\n",
       "      <td>53.740</td>\n",
       "    </tr>\n",
       "    <tr>\n",
       "      <th>1</th>\n",
       "      <td>Finance &amp; Admin Services</td>\n",
       "      <td>Altice</td>\n",
       "      <td>Jeffrey</td>\n",
       "      <td>Auto Mechanic</td>\n",
       "      <td>39.780</td>\n",
       "    </tr>\n",
       "    <tr>\n",
       "      <th>2</th>\n",
       "      <td>Finance &amp; Admin Services</td>\n",
       "      <td>Montes</td>\n",
       "      <td>Valeria</td>\n",
       "      <td>Cust Svc Rep</td>\n",
       "      <td>29.450</td>\n",
       "    </tr>\n",
       "    <tr>\n",
       "      <th>3</th>\n",
       "      <td>Fire Department</td>\n",
       "      <td>Kuklok</td>\n",
       "      <td>Rebecca</td>\n",
       "      <td>Cust Svc Rep *</td>\n",
       "      <td>29.450</td>\n",
       "    </tr>\n",
       "    <tr>\n",
       "      <th>4</th>\n",
       "      <td>Planning &amp; Comm Development</td>\n",
       "      <td>Quirindongo</td>\n",
       "      <td>Rico</td>\n",
       "      <td>Executive3</td>\n",
       "      <td>97.164</td>\n",
       "    </tr>\n",
       "  </tbody>\n",
       "</table>\n",
       "</div>"
      ],
      "text/plain": [
       "                    Department    Last Name First Name             Job Title  \\\n",
       "0     Seattle Public Utilities    Batchelor      Craig  Civil Engrng Spec,Sr   \n",
       "1     Finance & Admin Services       Altice    Jeffrey         Auto Mechanic   \n",
       "2     Finance & Admin Services       Montes    Valeria          Cust Svc Rep   \n",
       "3              Fire Department       Kuklok    Rebecca        Cust Svc Rep *   \n",
       "4  Planning & Comm Development  Quirindongo       Rico            Executive3   \n",
       "\n",
       "   Hourly Rate   \n",
       "0        53.740  \n",
       "1        39.780  \n",
       "2        29.450  \n",
       "3        29.450  \n",
       "4        97.164  "
      ]
     },
     "execution_count": 29,
     "metadata": {},
     "output_type": "execute_result"
    }
   ],
   "source": [
    "# Check it\n",
    "df.head()"
   ]
  },
  {
   "cell_type": "code",
   "execution_count": 30,
   "metadata": {},
   "outputs": [],
   "source": [
    "# Rename the columns\n",
    "df = df.rename(columns = lambda x: x.replace(\" \", \"\"))"
   ]
  },
  {
   "cell_type": "code",
   "execution_count": 31,
   "metadata": {},
   "outputs": [
    {
     "data": {
      "text/html": [
       "<div>\n",
       "<style scoped>\n",
       "    .dataframe tbody tr th:only-of-type {\n",
       "        vertical-align: middle;\n",
       "    }\n",
       "\n",
       "    .dataframe tbody tr th {\n",
       "        vertical-align: top;\n",
       "    }\n",
       "\n",
       "    .dataframe thead th {\n",
       "        text-align: right;\n",
       "    }\n",
       "</style>\n",
       "<table border=\"1\" class=\"dataframe\">\n",
       "  <thead>\n",
       "    <tr style=\"text-align: right;\">\n",
       "      <th></th>\n",
       "      <th>HourlyRate</th>\n",
       "    </tr>\n",
       "  </thead>\n",
       "  <tbody>\n",
       "    <tr>\n",
       "      <th>count</th>\n",
       "      <td>11739.000000</td>\n",
       "    </tr>\n",
       "    <tr>\n",
       "      <th>mean</th>\n",
       "      <td>47.817331</td>\n",
       "    </tr>\n",
       "    <tr>\n",
       "      <th>std</th>\n",
       "      <td>16.722128</td>\n",
       "    </tr>\n",
       "    <tr>\n",
       "      <th>min</th>\n",
       "      <td>5.530000</td>\n",
       "    </tr>\n",
       "    <tr>\n",
       "      <th>25%</th>\n",
       "      <td>35.400000</td>\n",
       "    </tr>\n",
       "    <tr>\n",
       "      <th>50%</th>\n",
       "      <td>47.340000</td>\n",
       "    </tr>\n",
       "    <tr>\n",
       "      <th>75%</th>\n",
       "      <td>59.550000</td>\n",
       "    </tr>\n",
       "    <tr>\n",
       "      <th>max</th>\n",
       "      <td>187.767000</td>\n",
       "    </tr>\n",
       "  </tbody>\n",
       "</table>\n",
       "</div>"
      ],
      "text/plain": [
       "         HourlyRate\n",
       "count  11739.000000\n",
       "mean      47.817331\n",
       "std       16.722128\n",
       "min        5.530000\n",
       "25%       35.400000\n",
       "50%       47.340000\n",
       "75%       59.550000\n",
       "max      187.767000"
      ]
     },
     "execution_count": 31,
     "metadata": {},
     "output_type": "execute_result"
    }
   ],
   "source": [
    "# Describe the numeric column\n",
    "df.describe()"
   ]
  },
  {
   "cell_type": "code",
   "execution_count": 32,
   "metadata": {},
   "outputs": [
    {
     "data": {
      "image/png": "[encoded data removed]",
      "text/plain": [
       "<Figure size 432x288 with 1 Axes>"
      ]
     },
     "metadata": {
      "needs_background": "light"
     },
     "output_type": "display_data"
    }
   ],
   "source": [
    "# Plot the hourly rate column\n",
    "sns.kdeplot(df['HourlyRate']);"
   ]
  },
  {
   "cell_type": "markdown",
   "metadata": {},
   "source": [
    "How can we describe this distribution?\n",
    "\n",
    "- Extreme high postive values, outliers\n",
    "- Bimodal or maybe even trimodal\n",
    "- Not perfectly normal, but it is kinda normal\n"
   ]
  },
  {
   "cell_type": "markdown",
   "metadata": {},
   "source": [
    "### Using Z-Scores"
   ]
  },
  {
   "cell_type": "code",
   "execution_count": 33,
   "metadata": {
    "scrolled": true
   },
   "outputs": [
    {
     "data": {
      "text/html": [
       "<div>\n",
       "<style scoped>\n",
       "    .dataframe tbody tr th:only-of-type {\n",
       "        vertical-align: middle;\n",
       "    }\n",
       "\n",
       "    .dataframe tbody tr th {\n",
       "        vertical-align: top;\n",
       "    }\n",
       "\n",
       "    .dataframe thead th {\n",
       "        text-align: right;\n",
       "    }\n",
       "</style>\n",
       "<table border=\"1\" class=\"dataframe\">\n",
       "  <thead>\n",
       "    <tr style=\"text-align: right;\">\n",
       "      <th></th>\n",
       "      <th>Department</th>\n",
       "      <th>LastName</th>\n",
       "      <th>FirstName</th>\n",
       "      <th>JobTitle</th>\n",
       "      <th>HourlyRate</th>\n",
       "    </tr>\n",
       "  </thead>\n",
       "  <tbody>\n",
       "    <tr>\n",
       "      <th>11225</th>\n",
       "      <td>Seattle Center</td>\n",
       "      <td>Lammon</td>\n",
       "      <td>John</td>\n",
       "      <td>Stage Tech *</td>\n",
       "      <td>36.05</td>\n",
       "    </tr>\n",
       "  </tbody>\n",
       "</table>\n",
       "</div>"
      ],
      "text/plain": [
       "           Department LastName FirstName      JobTitle  HourlyRate\n",
       "11225  Seattle Center   Lammon      John  Stage Tech *       36.05"
      ]
     },
     "execution_count": 33,
     "metadata": {},
     "output_type": "execute_result"
    }
   ],
   "source": [
    "# Grab a sample row\n",
    "sample_row = df.sample(1)\n",
    "sample_row"
   ]
  },
  {
   "cell_type": "code",
   "execution_count": 34,
   "metadata": {},
   "outputs": [
    {
     "data": {
      "text/plain": [
       "-0.7036981862692403"
      ]
     },
     "execution_count": 34,
     "metadata": {},
     "output_type": "execute_result"
    }
   ],
   "source": [
    "# Calculate the z-score for that row's HourlyRate\n",
    "(sample_row['HourlyRate'].values[0] - df['HourlyRate'].mean()) / df['HourlyRate'].std()"
   ]
  },
  {
   "cell_type": "code",
   "execution_count": 35,
   "metadata": {
    "scrolled": true
   },
   "outputs": [
    {
     "data": {
      "text/plain": [
       "16.722127999840392"
      ]
     },
     "execution_count": 35,
     "metadata": {},
     "output_type": "execute_result"
    }
   ],
   "source": [
    "df['HourlyRate'].std()"
   ]
  },
  {
   "cell_type": "code",
   "execution_count": 36,
   "metadata": {},
   "outputs": [
    {
     "data": {
      "text/plain": [
       "11.899999999999999"
      ]
     },
     "execution_count": 36,
     "metadata": {},
     "output_type": "execute_result"
    }
   ],
   "source": [
    ".7 * 17"
   ]
  },
  {
   "cell_type": "code",
   "execution_count": 38,
   "metadata": {},
   "outputs": [
    {
     "data": {
      "text/plain": [
       "35.91733114404976"
      ]
     },
     "execution_count": 38,
     "metadata": {},
     "output_type": "execute_result"
    }
   ],
   "source": [
    "df['HourlyRate'].mean() - 11.9"
   ]
  },
  {
   "cell_type": "code",
   "execution_count": 39,
   "metadata": {
    "scrolled": true
   },
   "outputs": [],
   "source": [
    "# Standardize the column\n",
    "mu = df['HourlyRate'].mean()\n",
    "sigma = df['HourlyRate'].std()\n",
    "standardized_rate = [(x-mu)/sigma for x in df['HourlyRate']]"
   ]
  },
  {
   "cell_type": "code",
   "execution_count": 41,
   "metadata": {},
   "outputs": [
    {
     "data": {
      "image/png": "[encoded data removed]",
      "text/plain": [
       "<Figure size 432x288 with 2 Axes>"
      ]
     },
     "metadata": {
      "needs_background": "light"
     },
     "output_type": "display_data"
    }
   ],
   "source": [
    "# Visualize it\n",
    "fig, (ax1, ax2) = plt.subplots(nrows=2, ncols=1, sharex=True)\n",
    "# Can toggle sharex to see the impact of the scale\n",
    "\n",
    "sns.kdeplot(df['HourlyRate'], ax=ax1, label='Without Scaling')\n",
    "ax1.legend()\n",
    "\n",
    "sns.kdeplot(standardized_rate, ax=ax2, label='With Scaling')\n",
    "ax2.legend()\n",
    "\n",
    "plt.show()"
   ]
  },
  {
   "cell_type": "markdown",
   "metadata": {},
   "source": [
    "Let's discuss:\n",
    "\n",
    "- we have standardize and shrunk our values. Values now are in units of standard deviations instead of the original units\n"
   ]
  },
  {
   "cell_type": "markdown",
   "metadata": {},
   "source": [
    "## Central Limit Theorem (CLT)\n",
    "\n",
    "We mentioned that the distribution above doesn't seem very normal. But here's something cool:\n",
    "\n",
    "> \"The central limit theorem states that the sampling distribution of the mean of any independent, random variable will be normal or nearly normal, if the sample size is large enough.\" \n",
    "- From [Stat Trek](https://stattrek.com/statistics/dictionary.aspx?definition=central_limit_theorem)"
   ]
  },
  {
   "cell_type": "markdown",
   "metadata": {},
   "source": [
    "Let's look at an example, using the popular Iris dataset:\n",
    "\n",
    "<img src=\"images/probability-basics.gif\" width=800>\n",
    "\n",
    "Here, taking samples of 15 flowers at a time and measuring their sepal lengths, we see that the the mean of the samples is normally distributed, where the mean of that normal distribution approximates the population mean. \n",
    "\n",
    "The coolest part is - this is true and works almost no matter what the original distribution is! (I say 'almost' because there are exceptions, of course). Even when we have _distinctly non-normal distributions_, we can use sampling to get a representation of population parameters (like the population mean)."
   ]
  },
  {
   "cell_type": "markdown",
   "metadata": {},
   "source": [
    "## Revisiting Sampling\n",
    "\n",
    "Before we apply a theorem that's related to sampling, we should remember some key things about sampling.\n",
    "\n",
    "<img src=\"images/sample_pop.png\" alt=\"sampling example with circled people\" width=800>\n",
    "\n",
    "Our goal when sampling is to find a representative group, from which we can infer population parameters.\n",
    "\n",
    "Remember: samples have statistics, populations have parameters.\n",
    "\n",
    "In order to do this effectively, our sample should be randomly selected and representative of our population (which sounds nice and easy, it's hard to do in practice). We are trying to minimize bias in our sample, but also we are sampling because we're trying to minimize cost as well."
   ]
  },
  {
   "cell_type": "markdown",
   "metadata": {},
   "source": [
    "### Back to our Seattle Data"
   ]
  },
  {
   "cell_type": "markdown",
   "metadata": {},
   "source": [
    "Let's take 100 samples of 50 employees each time, and see what their average hourly rate is:"
   ]
  },
  {
   "cell_type": "code",
   "execution_count": 50,
   "metadata": {},
   "outputs": [],
   "source": [
    "k = 1000 # number of samples\n",
    "n = 50 # number of employees per sample\n",
    "\n",
    "# The full for loop version:\n",
    "# sample_means = []\n",
    "# for x in range(n):\n",
    "#     sample_emps = df.sample(n=n)\n",
    "#     sample_mean = sample_emps['Hourly Rate '].mean()\n",
    "#     sample_means.append(sample_mean)\n",
    "    \n",
    "# But let's do this with list comprehension:\n",
    "sample_means = [np.mean(df.sample(n=n))[0] for x in range(k)]"
   ]
  },
  {
   "cell_type": "code",
   "execution_count": 51,
   "metadata": {
    "scrolled": true
   },
   "outputs": [
    {
     "data": {
      "text/plain": [
       "[49.583023999999995,\n",
       " 53.489816,\n",
       " 49.530338,\n",
       " 49.51587000000001,\n",
       " 45.851549999999996,\n",
       " 45.28072,\n",
       " 46.863448,\n",
       " 46.709714000000005,\n",
       " 47.94286,\n",
       " 45.58872,\n",
       " 45.2585,\n",
       " 50.793544000000004,\n",
       " 45.503176,\n",
       " 47.39448600000001,\n",
       " 46.626259999999995,\n",
       " 47.82681999999999,\n",
       " 46.573091999999995,\n",
       " 49.530100000000004,\n",
       " 48.815152000000005,\n",
       " 45.14126,\n",
       " 45.27202000000001,\n",
       " 41.48764,\n",
       " 48.62728,\n",
       " 49.30926,\n",
       " 47.0917,\n",
       " 46.188234,\n",
       " 44.524946,\n",
       " 51.746642,\n",
       " 48.77951,\n",
       " 48.791000000000004,\n",
       " 45.60988999999999,\n",
       " 46.55856,\n",
       " 49.161694,\n",
       " 44.858439999999995,\n",
       " 45.46934,\n",
       " 46.421178,\n",
       " 46.50544000000001,\n",
       " 49.233842,\n",
       " 49.01156400000001,\n",
       " 49.00045800000001,\n",
       " 46.26735199999999,\n",
       " 43.333679999999994,\n",
       " 47.038180000000004,\n",
       " 45.003858,\n",
       " 48.945820000000005,\n",
       " 49.56809999999999,\n",
       " 49.842128,\n",
       " 50.94832,\n",
       " 48.898599999999995,\n",
       " 50.30262,\n",
       " 47.827726000000006,\n",
       " 42.758468,\n",
       " 51.309219999999996,\n",
       " 48.845063999999994,\n",
       " 51.266436000000006,\n",
       " 49.122882,\n",
       " 45.953998,\n",
       " 45.40996200000001,\n",
       " 49.398779999999995,\n",
       " 49.55802800000001,\n",
       " 49.865572,\n",
       " 45.414688,\n",
       " 52.32634000000001,\n",
       " 47.46953000000001,\n",
       " 44.55424400000001,\n",
       " 45.45701600000001,\n",
       " 45.77134,\n",
       " 47.61544,\n",
       " 47.110899999999994,\n",
       " 44.82527,\n",
       " 48.106896,\n",
       " 47.122282000000006,\n",
       " 52.762634,\n",
       " 45.21322,\n",
       " 47.05212,\n",
       " 51.421692,\n",
       " 51.351144000000005,\n",
       " 49.984932,\n",
       " 47.589879999999994,\n",
       " 43.544322,\n",
       " 49.37696,\n",
       " 47.684802,\n",
       " 47.105639999999994,\n",
       " 49.927823999999994,\n",
       " 47.581534000000005,\n",
       " 40.70708,\n",
       " 45.884719999999994,\n",
       " 49.104040000000005,\n",
       " 50.29601600000001,\n",
       " 47.631550000000004,\n",
       " 48.35968,\n",
       " 44.77243000000001,\n",
       " 43.09562,\n",
       " 47.469803999999996,\n",
       " 53.77434,\n",
       " 45.589648,\n",
       " 48.684659999999994,\n",
       " 48.68035999999999,\n",
       " 46.643324,\n",
       " 46.66244,\n",
       " 48.60434600000001,\n",
       " 45.779514,\n",
       " 47.368446000000006,\n",
       " 43.780015999999996,\n",
       " 47.15466000000001,\n",
       " 48.92539999999999,\n",
       " 46.786621999999994,\n",
       " 50.617302,\n",
       " 48.15182,\n",
       " 51.60536000000001,\n",
       " 46.97206000000001,\n",
       " 48.184079999999994,\n",
       " 49.145951999999994,\n",
       " 50.38361,\n",
       " 47.79493999999999,\n",
       " 48.93948,\n",
       " 48.844257999999996,\n",
       " 45.342659999999995,\n",
       " 51.69996000000001,\n",
       " 49.10393,\n",
       " 43.57937999999999,\n",
       " 48.496714000000004,\n",
       " 46.241679999999995,\n",
       " 46.515133999999996,\n",
       " 49.15842200000001,\n",
       " 46.699197999999996,\n",
       " 45.244279999999996,\n",
       " 47.476984,\n",
       " 48.44927999999999,\n",
       " 43.59808600000001,\n",
       " 47.77352000000002,\n",
       " 47.235223999999995,\n",
       " 49.79174,\n",
       " 46.268272,\n",
       " 52.27601,\n",
       " 47.58375999999999,\n",
       " 47.52306000000001,\n",
       " 46.538816,\n",
       " 47.794337999999996,\n",
       " 47.339839999999995,\n",
       " 46.33910000000001,\n",
       " 48.823539999999994,\n",
       " 46.30341000000001,\n",
       " 46.02746,\n",
       " 46.6716,\n",
       " 45.31879999999999,\n",
       " 44.047560000000004,\n",
       " 48.929038,\n",
       " 47.400560000000006,\n",
       " 49.28054000000001,\n",
       " 47.755534000000004,\n",
       " 46.742532000000004,\n",
       " 44.148222,\n",
       " 46.15739799999999,\n",
       " 50.857620000000004,\n",
       " 47.84407999999999,\n",
       " 44.7386,\n",
       " 46.27387999999999,\n",
       " 51.235966,\n",
       " 48.698460000000004,\n",
       " 47.022079999999995,\n",
       " 45.91310000000001,\n",
       " 45.527480000000004,\n",
       " 48.905088000000006,\n",
       " 45.71720599999999,\n",
       " 44.526180000000004,\n",
       " 48.449034000000005,\n",
       " 48.188359999999996,\n",
       " 50.920820000000006,\n",
       " 49.60827799999999,\n",
       " 44.78214,\n",
       " 50.179222,\n",
       " 45.347922,\n",
       " 50.90224,\n",
       " 46.191858,\n",
       " 51.472480000000004,\n",
       " 51.16895399999999,\n",
       " 48.88989000000001,\n",
       " 53.336651999999994,\n",
       " 45.31571999999999,\n",
       " 48.61473,\n",
       " 49.74446,\n",
       " 50.34274599999999,\n",
       " 48.554098,\n",
       " 50.78715000000001,\n",
       " 46.21682,\n",
       " 47.234283999999995,\n",
       " 45.931239999999995,\n",
       " 46.218182,\n",
       " 45.537400000000005,\n",
       " 49.424004,\n",
       " 46.633874000000006,\n",
       " 47.664579999999994,\n",
       " 46.224903999999995,\n",
       " 44.46031599999999,\n",
       " 47.05026000000001,\n",
       " 48.327358,\n",
       " 49.091587999999994,\n",
       " 45.89745599999999,\n",
       " 50.438005999999994,\n",
       " 51.227446,\n",
       " 52.868280000000006,\n",
       " 46.05932000000001,\n",
       " 47.271679999999996,\n",
       " 46.538180000000004,\n",
       " 50.933347999999995,\n",
       " 48.92874,\n",
       " 44.59394999999999,\n",
       " 46.393820000000005,\n",
       " 45.767842,\n",
       " 45.469262,\n",
       " 48.884854,\n",
       " 52.2424,\n",
       " 46.368048,\n",
       " 51.189504,\n",
       " 45.393524,\n",
       " 48.2879,\n",
       " 47.62515999999999,\n",
       " 46.36060199999999,\n",
       " 48.25312200000001,\n",
       " 51.82272199999999,\n",
       " 42.562874,\n",
       " 45.7512,\n",
       " 47.921341999999996,\n",
       " 49.638664,\n",
       " 46.31035599999999,\n",
       " 49.00114000000001,\n",
       " 47.9623,\n",
       " 47.882338,\n",
       " 47.686602,\n",
       " 50.46206000000001,\n",
       " 48.65954000000001,\n",
       " 49.23162,\n",
       " 49.406715999999996,\n",
       " 47.31278,\n",
       " 45.046748,\n",
       " 48.57095999999999,\n",
       " 50.07776400000001,\n",
       " 44.647960000000005,\n",
       " 43.94299200000001,\n",
       " 45.003735999999996,\n",
       " 50.594260000000006,\n",
       " 45.114320000000006,\n",
       " 46.71697999999999,\n",
       " 51.67365199999999,\n",
       " 51.223963999999995,\n",
       " 46.026262,\n",
       " 47.47162,\n",
       " 49.36749,\n",
       " 48.24835800000001,\n",
       " 44.27598,\n",
       " 46.549804,\n",
       " 46.56736,\n",
       " 48.09648200000001,\n",
       " 49.059661999999996,\n",
       " 48.44164000000001,\n",
       " 48.548874,\n",
       " 49.92408399999999,\n",
       " 53.04608400000001,\n",
       " 46.72045599999999,\n",
       " 51.328959999999995,\n",
       " 50.18692,\n",
       " 49.38853,\n",
       " 48.680279999999996,\n",
       " 48.177389999999995,\n",
       " 47.6929,\n",
       " 47.257700000000014,\n",
       " 47.22358,\n",
       " 46.253894,\n",
       " 48.46116000000001,\n",
       " 47.835186,\n",
       " 47.99721600000001,\n",
       " 51.020987999999996,\n",
       " 51.338312,\n",
       " 48.02634,\n",
       " 47.047312000000005,\n",
       " 51.40862000000001,\n",
       " 44.255019999999995,\n",
       " 48.668026,\n",
       " 49.280646000000004,\n",
       " 47.09617,\n",
       " 40.99134,\n",
       " 43.683558000000005,\n",
       " 44.065340000000006,\n",
       " 50.343278,\n",
       " 47.356156,\n",
       " 44.404340000000005,\n",
       " 47.659107999999996,\n",
       " 42.254718,\n",
       " 49.274559999999994,\n",
       " 47.595659999999995,\n",
       " 46.406000000000006,\n",
       " 52.679178,\n",
       " 48.697351999999995,\n",
       " 44.72713400000001,\n",
       " 46.48581,\n",
       " 48.62324400000001,\n",
       " 49.627496,\n",
       " 46.654191999999995,\n",
       " 46.62934,\n",
       " 48.303198,\n",
       " 47.579600000000006,\n",
       " 45.04820599999999,\n",
       " 48.06677,\n",
       " 47.073356000000004,\n",
       " 47.173488000000006,\n",
       " 47.75544000000001,\n",
       " 47.895011999999994,\n",
       " 44.483968000000004,\n",
       " 51.34691200000001,\n",
       " 47.51652,\n",
       " 50.762280000000004,\n",
       " 42.83154799999999,\n",
       " 51.984538,\n",
       " 48.690154000000014,\n",
       " 46.452616,\n",
       " 49.274975999999995,\n",
       " 45.6453,\n",
       " 45.58218,\n",
       " 45.546009999999995,\n",
       " 51.08096,\n",
       " 42.72983,\n",
       " 44.66618,\n",
       " 50.90790200000001,\n",
       " 47.486394,\n",
       " 46.96329999999999,\n",
       " 50.944836000000016,\n",
       " 47.83926,\n",
       " 49.56563,\n",
       " 50.399831999999996,\n",
       " 48.548350000000006,\n",
       " 47.356247999999994,\n",
       " 44.08465999999999,\n",
       " 50.24184,\n",
       " 49.345912,\n",
       " 48.27918,\n",
       " 47.493379999999995,\n",
       " 49.22312000000001,\n",
       " 47.36276000000001,\n",
       " 49.89919,\n",
       " 52.372794000000006,\n",
       " 45.04168000000001,\n",
       " 47.335159999999995,\n",
       " 46.043766,\n",
       " 44.573,\n",
       " 49.16189999999999,\n",
       " 43.1172,\n",
       " 48.69343800000001,\n",
       " 47.98041800000001,\n",
       " 48.324088,\n",
       " 44.43473,\n",
       " 48.36907599999999,\n",
       " 48.275000000000006,\n",
       " 44.55061200000001,\n",
       " 53.139992,\n",
       " 45.52354,\n",
       " 47.225725999999995,\n",
       " 51.965842,\n",
       " 46.41676,\n",
       " 43.812920000000005,\n",
       " 46.726498,\n",
       " 49.817232000000004,\n",
       " 51.227259999999994,\n",
       " 45.883720000000004,\n",
       " 50.153538,\n",
       " 46.332983999999996,\n",
       " 46.593598,\n",
       " 42.322835999999995,\n",
       " 49.80316,\n",
       " 47.75457600000001,\n",
       " 48.48940800000001,\n",
       " 49.692616,\n",
       " 43.41964,\n",
       " 45.26458,\n",
       " 47.50097999999999,\n",
       " 48.27990400000001,\n",
       " 51.01096,\n",
       " 48.90296,\n",
       " 51.99285200000001,\n",
       " 46.81154000000001,\n",
       " 44.714788,\n",
       " 47.387144000000006,\n",
       " 51.727326000000005,\n",
       " 45.67052400000001,\n",
       " 49.63771,\n",
       " 46.234798,\n",
       " 53.9156,\n",
       " 46.42806399999999,\n",
       " 51.27792,\n",
       " 47.171720000000015,\n",
       " 46.497651999999995,\n",
       " 46.84986,\n",
       " 46.65927200000001,\n",
       " 45.18369999999999,\n",
       " 48.57084400000001,\n",
       " 48.798182000000004,\n",
       " 53.050128,\n",
       " 46.185146,\n",
       " 45.040238,\n",
       " 49.863341999999996,\n",
       " 44.979279999999996,\n",
       " 49.999759999999995,\n",
       " 51.024088,\n",
       " 49.500832,\n",
       " 49.30727999999999,\n",
       " 48.900538000000005,\n",
       " 43.596172,\n",
       " 46.51152200000001,\n",
       " 49.432474,\n",
       " 46.964282,\n",
       " 46.9499,\n",
       " 48.837880000000006,\n",
       " 48.226664,\n",
       " 48.596314,\n",
       " 47.010250000000006,\n",
       " 45.00361,\n",
       " 51.065411999999995,\n",
       " 44.1242,\n",
       " 44.817280000000004,\n",
       " 52.244056,\n",
       " 50.096360000000004,\n",
       " 49.696814,\n",
       " 50.24297399999998,\n",
       " 47.889939999999996,\n",
       " 48.791959999999996,\n",
       " 48.374126000000004,\n",
       " 54.565194,\n",
       " 49.64218400000001,\n",
       " 45.27112000000001,\n",
       " 45.57038999999999,\n",
       " 45.910654,\n",
       " 44.999732,\n",
       " 46.82048,\n",
       " 46.801278,\n",
       " 50.7655,\n",
       " 48.99514,\n",
       " 46.18978000000001,\n",
       " 45.44726,\n",
       " 47.822674000000006,\n",
       " 46.459937999999994,\n",
       " 53.587868,\n",
       " 52.64722,\n",
       " 45.232167999999994,\n",
       " 47.553740000000005,\n",
       " 47.790929999999996,\n",
       " 47.874096,\n",
       " 46.765280000000004,\n",
       " 49.635695999999996,\n",
       " 47.435508,\n",
       " 47.719800000000006,\n",
       " 46.83463400000001,\n",
       " 46.03486,\n",
       " 54.37665400000001,\n",
       " 46.972666,\n",
       " 49.32513999999999,\n",
       " 44.345434000000004,\n",
       " 49.936679999999996,\n",
       " 46.61997600000001,\n",
       " 45.06007999999999,\n",
       " 43.352238,\n",
       " 46.487187999999996,\n",
       " 52.20329999999999,\n",
       " 46.357716,\n",
       " 51.183828000000005,\n",
       " 50.959822,\n",
       " 48.451,\n",
       " 51.480716,\n",
       " 43.336228,\n",
       " 47.41526000000001,\n",
       " 50.596206,\n",
       " 50.425448,\n",
       " 47.077079999999995,\n",
       " 43.469018000000005,\n",
       " 47.08050999999998,\n",
       " 48.42548,\n",
       " 51.801522,\n",
       " 47.201102,\n",
       " 48.95959,\n",
       " 46.374,\n",
       " 48.036598000000005,\n",
       " 45.64526000000001,\n",
       " 45.148872000000004,\n",
       " 45.18556399999999,\n",
       " 48.05954400000002,\n",
       " 46.88184000000001,\n",
       " 47.51502000000001,\n",
       " 48.04316,\n",
       " 45.404300000000006,\n",
       " 46.50454,\n",
       " 48.95799799999999,\n",
       " 51.383348000000005,\n",
       " 45.99033,\n",
       " 45.084300000000006,\n",
       " 44.846628,\n",
       " 53.10469999999999,\n",
       " 49.05662,\n",
       " 49.826026,\n",
       " 43.556239999999995,\n",
       " 51.28232199999999,\n",
       " 44.827496000000004,\n",
       " 54.04638800000001,\n",
       " 48.715004,\n",
       " 44.62811799999999,\n",
       " 45.43322000000001,\n",
       " 50.036528,\n",
       " 47.558392000000005,\n",
       " 45.832736000000004,\n",
       " 46.447480000000006,\n",
       " 43.78889800000001,\n",
       " 44.52114,\n",
       " 45.55382399999999,\n",
       " 46.984719999999996,\n",
       " 48.440904,\n",
       " 48.1846,\n",
       " 50.658848000000006,\n",
       " 48.8948,\n",
       " 44.388054000000004,\n",
       " 46.79884000000001,\n",
       " 49.22252800000001,\n",
       " 49.97706,\n",
       " 44.560199999999995,\n",
       " 48.17094,\n",
       " 46.324942,\n",
       " 47.672796000000005,\n",
       " 50.41799999999999,\n",
       " 45.3891,\n",
       " 50.14149999999999,\n",
       " 48.183612000000004,\n",
       " 49.884671999999995,\n",
       " 50.656563999999996,\n",
       " 53.071978,\n",
       " 50.149373999999995,\n",
       " 46.49382,\n",
       " 44.284006,\n",
       " 52.26122599999999,\n",
       " 51.63157999999999,\n",
       " 47.36996,\n",
       " 42.89456,\n",
       " 47.63490000000001,\n",
       " 48.41655600000001,\n",
       " 45.296292,\n",
       " 47.790927999999994,\n",
       " 44.612904,\n",
       " 51.290164,\n",
       " 45.369932,\n",
       " 46.0904,\n",
       " 49.39824000000001,\n",
       " 46.732128,\n",
       " 48.224812,\n",
       " 48.26371600000002,\n",
       " 45.3696,\n",
       " 48.732164000000004,\n",
       " 49.35258000000001,\n",
       " 51.23008,\n",
       " 44.877480000000006,\n",
       " 48.013459999999995,\n",
       " 46.748928,\n",
       " 46.16204,\n",
       " 47.792021999999996,\n",
       " 46.922740000000005,\n",
       " 47.17472000000001,\n",
       " 46.64661,\n",
       " 45.946845999999994,\n",
       " 48.221059999999994,\n",
       " 46.652860000000004,\n",
       " 49.453494,\n",
       " 46.753955999999995,\n",
       " 50.65078200000001,\n",
       " 51.556534,\n",
       " 45.09864,\n",
       " 53.24815199999999,\n",
       " 42.440599999999996,\n",
       " 44.95683,\n",
       " 48.30202,\n",
       " 54.710088000000006,\n",
       " 49.196701999999995,\n",
       " 48.767688,\n",
       " 46.43598,\n",
       " 45.60585999999999,\n",
       " 47.842376,\n",
       " 47.466624,\n",
       " 45.099254,\n",
       " 47.50946,\n",
       " 48.463939999999994,\n",
       " 47.004672,\n",
       " 43.98458000000001,\n",
       " 44.7329,\n",
       " 48.982200000000006,\n",
       " 45.443436,\n",
       " 53.856424000000004,\n",
       " 50.47879999999999,\n",
       " 47.68588199999999,\n",
       " 43.980016,\n",
       " 46.24374799999999,\n",
       " 50.840742,\n",
       " 49.81781999999999,\n",
       " 50.39443800000001,\n",
       " 49.10478000000001,\n",
       " 47.4669,\n",
       " 47.140858,\n",
       " 51.45728399999999,\n",
       " 48.49011800000001,\n",
       " 48.78878000000002,\n",
       " 43.938572,\n",
       " 47.740680000000005,\n",
       " 47.63030799999999,\n",
       " 48.5331,\n",
       " 50.12577399999999,\n",
       " 46.023959999999995,\n",
       " 41.55285800000001,\n",
       " 48.665452,\n",
       " 49.686614,\n",
       " 48.42344000000001,\n",
       " 49.65325,\n",
       " 47.022195999999994,\n",
       " 45.673500000000004,\n",
       " 45.75827999999999,\n",
       " 47.76367200000001,\n",
       " 48.29856000000001,\n",
       " 48.604328,\n",
       " 47.241036,\n",
       " 51.093379999999996,\n",
       " 48.59177999999999,\n",
       " 48.42683399999999,\n",
       " 46.83973399999999,\n",
       " 44.241656000000006,\n",
       " 49.605714000000006,\n",
       " 46.56678,\n",
       " 44.611182,\n",
       " 48.186795999999994,\n",
       " 46.922520000000006,\n",
       " 52.16868600000001,\n",
       " 50.070705999999994,\n",
       " 48.7805,\n",
       " 48.87934,\n",
       " 46.796893999999995,\n",
       " 52.843606,\n",
       " 45.98672,\n",
       " 47.08152000000001,\n",
       " 50.397540000000006,\n",
       " 51.63700000000001,\n",
       " 48.6255,\n",
       " 49.61839199999999,\n",
       " 47.761140000000005,\n",
       " 49.945018,\n",
       " 49.50634,\n",
       " 47.911660000000005,\n",
       " 48.612260000000006,\n",
       " 51.800234,\n",
       " 47.527080000000005,\n",
       " 44.884260000000005,\n",
       " 50.838446,\n",
       " 47.765280000000004,\n",
       " 47.801066,\n",
       " 47.324340000000014,\n",
       " 45.4347,\n",
       " 49.76835,\n",
       " 46.53254000000001,\n",
       " 47.18505999999999,\n",
       " 51.994859999999996,\n",
       " 49.70015800000001,\n",
       " 46.71188,\n",
       " 47.59826,\n",
       " 45.33518000000001,\n",
       " 52.441646,\n",
       " 49.151064,\n",
       " 49.189980000000006,\n",
       " 50.866009999999996,\n",
       " 48.421868,\n",
       " 47.191320000000005,\n",
       " 49.332726,\n",
       " 46.02031999999999,\n",
       " 48.717800000000004,\n",
       " 46.606323999999994,\n",
       " 45.99315000000001,\n",
       " 49.354478,\n",
       " 45.65444,\n",
       " 48.33330000000001,\n",
       " 48.273126000000005,\n",
       " 50.182880000000004,\n",
       " 46.77316,\n",
       " 48.351380000000006,\n",
       " 45.127539999999996,\n",
       " 50.84187399999999,\n",
       " 48.36351599999999,\n",
       " 45.477774,\n",
       " 52.930963999999996,\n",
       " 49.35066,\n",
       " 47.570346,\n",
       " 55.014480000000006,\n",
       " 48.930600000000005,\n",
       " 47.03613999999999,\n",
       " 47.301781999999996,\n",
       " 47.13409599999999,\n",
       " 45.954842000000006,\n",
       " 48.57854,\n",
       " 48.35357,\n",
       " 49.22276599999999,\n",
       " 49.7123,\n",
       " 49.70083599999999,\n",
       " 47.781673999999995,\n",
       " 47.552918,\n",
       " 47.400494,\n",
       " 44.20440000000001,\n",
       " 49.530330000000006,\n",
       " 47.97343800000001,\n",
       " 47.078680000000006,\n",
       " 47.28171999999999,\n",
       " 47.18397999999999,\n",
       " 45.143646,\n",
       " 46.149274,\n",
       " 48.71825,\n",
       " 43.178772,\n",
       " 47.580079999999995,\n",
       " 47.43758,\n",
       " 48.346284000000004,\n",
       " 51.76262,\n",
       " 44.95040000000001,\n",
       " 52.226980000000005,\n",
       " 50.62201999999999,\n",
       " 47.033,\n",
       " 48.778288,\n",
       " 50.982388,\n",
       " 43.51668000000001,\n",
       " 47.300343999999996,\n",
       " 47.794871999999984,\n",
       " 51.865566,\n",
       " 48.5722,\n",
       " 49.95784,\n",
       " 49.50506,\n",
       " 48.79587999999999,\n",
       " 48.48618200000001,\n",
       " 48.984086000000005,\n",
       " 47.342079999999996,\n",
       " 49.71592,\n",
       " 48.61028199999999,\n",
       " 49.04830000000001,\n",
       " 46.39226200000001,\n",
       " 50.813322,\n",
       " 50.408938,\n",
       " 43.914338,\n",
       " 44.826040000000006,\n",
       " 46.52226400000001,\n",
       " 46.033378,\n",
       " 45.62169399999999,\n",
       " 44.657644,\n",
       " 47.665780000000005,\n",
       " 51.3248,\n",
       " 51.72392000000001,\n",
       " 46.91591,\n",
       " 49.53676,\n",
       " 46.779833999999994,\n",
       " 46.65170000000001,\n",
       " 49.876878000000005,\n",
       " 46.807439999999986,\n",
       " 46.81300000000001,\n",
       " 44.35024000000001,\n",
       " 49.59667,\n",
       " 51.234706,\n",
       " 48.90805600000001,\n",
       " 48.254822000000004,\n",
       " 46.15053199999999,\n",
       " 44.845378000000004,\n",
       " 50.65384,\n",
       " 49.06523200000001,\n",
       " 46.10462,\n",
       " 51.51468,\n",
       " 45.039292,\n",
       " 48.71164799999999,\n",
       " 47.508722000000006,\n",
       " 47.960159999999995,\n",
       " 47.967578,\n",
       " 45.00167999999999,\n",
       " 47.095,\n",
       " 49.12456,\n",
       " 46.72704000000001,\n",
       " 51.924679999999995,\n",
       " 45.799170000000004,\n",
       " 50.03602000000001,\n",
       " 49.084340000000005,\n",
       " 45.474976,\n",
       " 53.915728,\n",
       " 50.983342,\n",
       " 45.53384,\n",
       " 51.226355999999996,\n",
       " 48.704358,\n",
       " 49.81170000000001,\n",
       " 51.74308,\n",
       " 46.008978000000006,\n",
       " 50.253257999999995,\n",
       " 47.81375,\n",
       " 48.667788,\n",
       " 50.086296000000004,\n",
       " 47.968059999999994,\n",
       " 48.221594,\n",
       " 47.69128,\n",
       " 44.856300000000005,\n",
       " 47.643719999999995,\n",
       " 44.62172399999999,\n",
       " 45.849226,\n",
       " 45.994215999999994,\n",
       " 47.62643,\n",
       " 45.88172,\n",
       " 47.76010000000001,\n",
       " 46.9708,\n",
       " 47.20231999999999,\n",
       " 45.642368,\n",
       " 49.44675800000001,\n",
       " 46.3472,\n",
       " 43.40813,\n",
       " 47.626909999999995,\n",
       " 47.78737999999999,\n",
       " 46.22266,\n",
       " 46.47366,\n",
       " 46.76054,\n",
       " 49.965711999999996,\n",
       " 48.20001200000001,\n",
       " 47.72370000000001,\n",
       " 45.506432000000004,\n",
       " 43.98896799999999,\n",
       " 49.36721000000001,\n",
       " 47.75632,\n",
       " 47.756820000000005,\n",
       " 49.62944,\n",
       " 46.29008000000001,\n",
       " 54.428974,\n",
       " 46.584268,\n",
       " 45.376515999999995,\n",
       " 46.292684,\n",
       " 42.105340000000005,\n",
       " 44.50010999999999,\n",
       " 44.289084,\n",
       " 50.37028000000001,\n",
       " 51.893378000000006,\n",
       " 48.673705999999996,\n",
       " 48.381894,\n",
       " 49.49339599999999,\n",
       " 50.625596,\n",
       " 47.865388,\n",
       " 48.741170000000004,\n",
       " 47.663588,\n",
       " 50.157225999999994,\n",
       " 48.61446,\n",
       " 48.60962000000001,\n",
       " 48.722484,\n",
       " 46.749480000000005,\n",
       " 48.559678000000005,\n",
       " 47.13644,\n",
       " 47.268711999999994,\n",
       " 46.806394,\n",
       " 46.88942,\n",
       " 51.081646,\n",
       " 46.57312000000001,\n",
       " 48.54603,\n",
       " 46.16824,\n",
       " 45.556144,\n",
       " 50.0798,\n",
       " 47.692842,\n",
       " 50.294503999999996,\n",
       " 42.236945999999996,\n",
       " 50.967836000000005,\n",
       " 49.50156200000001,\n",
       " 50.404819999999994,\n",
       " 46.13298399999999,\n",
       " 47.8693,\n",
       " 45.438410000000005,\n",
       " 44.737480000000005,\n",
       " 46.578810000000004,\n",
       " 44.920356,\n",
       " 48.10857800000001,\n",
       " 46.505320000000005,\n",
       " 44.278472,\n",
       " 46.166108,\n",
       " 54.317905999999994,\n",
       " 47.5996,\n",
       " 48.60336,\n",
       " 45.832582,\n",
       " 49.915344,\n",
       " 49.14374,\n",
       " 43.57612,\n",
       " 51.06856400000001,\n",
       " 48.70645600000001,\n",
       " 44.869868,\n",
       " 47.72226,\n",
       " 49.109932,\n",
       " 47.241458,\n",
       " 49.44923,\n",
       " 52.321222000000006,\n",
       " 46.358560000000004,\n",
       " 46.483149999999995,\n",
       " 46.54648,\n",
       " 45.708400000000005,\n",
       " 47.64522,\n",
       " 48.92172000000001,\n",
       " 46.22684200000001,\n",
       " 48.721596,\n",
       " 48.01231600000001,\n",
       " 45.04556,\n",
       " 48.86822400000001,\n",
       " 50.437523999999996,\n",
       " 51.141220000000004,\n",
       " 54.358918,\n",
       " 47.99682000000001,\n",
       " 46.766484,\n",
       " 48.8188,\n",
       " 49.87264400000001,\n",
       " 46.753382,\n",
       " 46.50640000000001,\n",
       " 47.99166,\n",
       " 52.01311799999999,\n",
       " 48.915192000000005,\n",
       " 49.493804,\n",
       " 45.784808000000005,\n",
       " 48.315200000000004,\n",
       " 51.469468,\n",
       " 47.84793800000001,\n",
       " 46.4883,\n",
       " 47.56748,\n",
       " 46.41910000000001,\n",
       " 44.578902,\n",
       " 47.47650000000001,\n",
       " 49.509068,\n",
       " 48.43704199999999,\n",
       " 48.081360000000004,\n",
       " 47.08916,\n",
       " 48.35116,\n",
       " 47.58016,\n",
       " 45.55463400000001,\n",
       " 44.329378,\n",
       " 49.147110000000005,\n",
       " 50.950253999999994,\n",
       " 49.040420000000005,\n",
       " 45.921738,\n",
       " 42.81804,\n",
       " 48.593599999999995,\n",
       " 44.35945999999999,\n",
       " 47.64268,\n",
       " 46.82676999999999,\n",
       " 49.23326599999999,\n",
       " 45.728519999999996,\n",
       " 45.834480000000006,\n",
       " 48.126943999999995,\n",
       " 50.84655999999999,\n",
       " 48.56500200000001,\n",
       " 48.353122000000006,\n",
       " 51.029946,\n",
       " 47.246280000000006,\n",
       " 48.356662,\n",
       " 49.118559999999995,\n",
       " 45.9979,\n",
       " 48.882400000000004,\n",
       " 49.053894,\n",
       " 44.274820000000005,\n",
       " 47.93514000000001,\n",
       " 47.68388,\n",
       " 50.58521400000001,\n",
       " 50.386993999999994,\n",
       " 45.31928,\n",
       " 46.381024000000004,\n",
       " 49.123986000000016,\n",
       " 50.34300000000001,\n",
       " 49.56478,\n",
       " 48.023226,\n",
       " 49.514654,\n",
       " 46.37892,\n",
       " 42.315154,\n",
       " 50.91389999999999,\n",
       " 46.748639999999995,\n",
       " 45.06939400000001,\n",
       " 47.050726,\n",
       " 44.988901999999996,\n",
       " 46.750960000000006,\n",
       " 47.285666,\n",
       " 48.24375800000001,\n",
       " 47.339926000000006,\n",
       " 46.933128,\n",
       " 45.476952000000004,\n",
       " 48.479842,\n",
       " 52.428378,\n",
       " 48.739524,\n",
       " 45.05522,\n",
       " 48.080459999999995,\n",
       " 48.83796,\n",
       " 48.682854000000006,\n",
       " 48.95272,\n",
       " 48.19201999999999,\n",
       " 43.731579999999994,\n",
       " 52.97013399999999,\n",
       " 48.30893999999999,\n",
       " 44.564092,\n",
       " 44.005478,\n",
       " 48.97891999999999,\n",
       " 46.778982,\n",
       " 46.24508000000001,\n",
       " 47.96361999999999,\n",
       " 47.937960000000004,\n",
       " 53.07447999999999,\n",
       " 49.62682000000001,\n",
       " 45.321862,\n",
       " 48.752224]"
      ]
     },
     "execution_count": 51,
     "metadata": {},
     "output_type": "execute_result"
    }
   ],
   "source": [
    "sample_means"
   ]
  },
  {
   "cell_type": "code",
   "execution_count": 52,
   "metadata": {
    "scrolled": true
   },
   "outputs": [
    {
     "data": {
      "image/png": "[encoded data removed]",
      "text/plain": [
       "<Figure size 576x432 with 1 Axes>"
      ]
     },
     "metadata": {
      "needs_background": "light"
     },
     "output_type": "display_data"
    }
   ],
   "source": [
    "# Plotting the distribution of our samples, plus our pop and sample means\n",
    "pop_mean = df['HourlyRate'].mean()\n",
    "samp_mean = np.mean(sample_means)\n",
    "\n",
    "plt.figure(figsize=(8,6))\n",
    "\n",
    "sns.histplot(sample_means)\n",
    "\n",
    "plt.vlines(pop_mean, ymin=0, ymax=25, color='r', linestyle=':',\n",
    "           label=f'Population Mean: {pop_mean:.2f}')\n",
    "plt.vlines(samp_mean, ymin=0, ymax=25, color='g', linestyle=':',\n",
    "           label=f'Mean of {k} Samples: {samp_mean:.2f}')\n",
    "\n",
    "plt.legend();"
   ]
  },
  {
   "cell_type": "code",
   "execution_count": 48,
   "metadata": {},
   "outputs": [
    {
     "data": {
      "image/png": "[encoded data removed]",
      "text/plain": [
       "<Figure size 432x288 with 1 Axes>"
      ]
     },
     "metadata": {
      "needs_background": "light"
     },
     "output_type": "display_data"
    }
   ],
   "source": [
    "sns.kdeplot(df['HourlyRate']);"
   ]
  },
  {
   "cell_type": "markdown",
   "metadata": {},
   "source": [
    "Discuss:\n",
    "\n",
    "- CLT at play, distribution of sample means is mostly normal (more than original)\n"
   ]
  },
  {
   "cell_type": "markdown",
   "metadata": {
    "heading_collapsed": true
   },
   "source": [
    "-----\n",
    "\n",
    "\n",
    "# Level Up: Other Distributions"
   ]
  },
  {
   "cell_type": "markdown",
   "metadata": {
    "hidden": true
   },
   "source": [
    "The world is full of distributions to explore! See some other less-common ones below:"
   ]
  },
  {
   "cell_type": "markdown",
   "metadata": {
    "hidden": true
   },
   "source": [
    "![](images/distributions.png)"
   ]
  },
  {
   "cell_type": "markdown",
   "metadata": {
    "hidden": true
   },
   "source": [
    "Now that we know a few methods in visualizing distributions 📊👀, we can start looking at different types of distributions.\n",
    "\n",
    "We can tell a lot about a distribution shape such as taking a guess of the mechanism that it took to generate the data."
   ]
  },
  {
   "cell_type": "markdown",
   "metadata": {
    "heading_collapsed": true,
    "hidden": true
   },
   "source": [
    "## Distribution Types Exercise"
   ]
  },
  {
   "cell_type": "markdown",
   "metadata": {
    "hidden": true
   },
   "source": [
    "What type of distribution would you expect to best describe the following datasets?\n",
    "\n",
    "1. Survey responses about whether people voted\n",
    "2. Rolls on a six-sided die\n",
    "3. Numbers of defects in shipments of toys\n",
    "4. Output from a random number generator\n",
    "5. Measurements of palm tree heights"
   ]
  },
  {
   "cell_type": "code",
   "execution_count": null,
   "metadata": {},
   "outputs": [],
   "source": [
    "stats.norm.rvs()"
   ]
  },
  {
   "cell_type": "markdown",
   "metadata": {
    "hidden": true
   },
   "source": [
    "**Your answers**\n",
    "\n",
    "1. Binomial\n",
    "2. Uniform\n",
    "3. Normal (maybe) or Poisson (if looking at across shipments)\n",
    "4. Depends on which distribution we use (w/e we what)\n",
    "5. Normal"
   ]
  },
  {
   "cell_type": "markdown",
   "metadata": {},
   "source": [
    "## Level Up: SKLearn's Standard Scaler\n",
    "\n",
    "Soon we'll be using a pre-built function to scale our data: https://scikit-learn.org/stable/modules/generated/sklearn.preprocessing.StandardScaler.html\n",
    "\n",
    "Let's go ahead and peek at our first `sklearn` class!"
   ]
  },
  {
   "cell_type": "code",
   "execution_count": 53,
   "metadata": {},
   "outputs": [],
   "source": [
    "# Importing StandardScaler from the preprocessing module\n",
    "from sklearn.preprocessing import StandardScaler\n",
    "\n",
    "# Need to instantiate our scaler\n",
    "scaler = StandardScaler()\n",
    "\n",
    "# Fitting our scaler (note how we need to make the column into a dataframe)\n",
    "scaler.fit(df[['HourlyRate']])\n",
    "\n",
    "# Grabbing the transformed values out as scaled_rate\n",
    "scaled_rate = scaler.transform(df[['HourlyRate']])"
   ]
  },
  {
   "cell_type": "code",
   "execution_count": 64,
   "metadata": {},
   "outputs": [
    {
     "data": {
      "text/plain": [
       "array([[ 0.35419662],\n",
       "       [-0.48066092],\n",
       "       [-1.09843158],\n",
       "       ...,\n",
       "       [-0.85981542],\n",
       "       [-1.02248108],\n",
       "       [-1.09843158]])"
      ]
     },
     "execution_count": 64,
     "metadata": {},
     "output_type": "execute_result"
    }
   ],
   "source": [
    "scaler.fit_transform(df[['HourlyRate']])"
   ]
  },
  {
   "cell_type": "code",
   "execution_count": 54,
   "metadata": {},
   "outputs": [],
   "source": [
    "scaler = StandardScaler()"
   ]
  },
  {
   "cell_type": "code",
   "execution_count": 55,
   "metadata": {},
   "outputs": [
    {
     "data": {
      "text/plain": [
       "sklearn.preprocessing._data.StandardScaler"
      ]
     },
     "execution_count": 55,
     "metadata": {},
     "output_type": "execute_result"
    }
   ],
   "source": [
    "type(scaler)"
   ]
  },
  {
   "cell_type": "code",
   "execution_count": 57,
   "metadata": {},
   "outputs": [
    {
     "data": {
      "text/plain": [
       "StandardScaler()"
      ]
     },
     "execution_count": 57,
     "metadata": {},
     "output_type": "execute_result"
    }
   ],
   "source": [
    "scaler.fit(df[['HourlyRate']])"
   ]
  },
  {
   "cell_type": "code",
   "execution_count": 60,
   "metadata": {},
   "outputs": [
    {
     "data": {
      "text/plain": [
       "47.81733114404976"
      ]
     },
     "execution_count": 60,
     "metadata": {},
     "output_type": "execute_result"
    }
   ],
   "source": [
    "df['HourlyRate'].mean()"
   ]
  },
  {
   "cell_type": "code",
   "execution_count": 58,
   "metadata": {},
   "outputs": [
    {
     "data": {
      "text/plain": [
       "array([47.81733114])"
      ]
     },
     "execution_count": 58,
     "metadata": {},
     "output_type": "execute_result"
    }
   ],
   "source": [
    "scaler.mean_"
   ]
  },
  {
   "cell_type": "code",
   "execution_count": 59,
   "metadata": {},
   "outputs": [
    {
     "data": {
      "text/plain": [
       "array([16.72141574])"
      ]
     },
     "execution_count": 59,
     "metadata": {},
     "output_type": "execute_result"
    }
   ],
   "source": [
    "scaler.scale_"
   ]
  },
  {
   "cell_type": "code",
   "execution_count": 61,
   "metadata": {},
   "outputs": [
    {
     "data": {
      "text/plain": [
       "array([[ 0.35419662],\n",
       "       [-0.48066092],\n",
       "       [-1.09843158],\n",
       "       ...,\n",
       "       [-0.85981542],\n",
       "       [-1.02248108],\n",
       "       [-1.09843158]])"
      ]
     },
     "execution_count": 61,
     "metadata": {},
     "output_type": "execute_result"
    }
   ],
   "source": [
    "scaler.transform(df[['HourlyRate']])"
   ]
  },
  {
   "cell_type": "code",
   "execution_count": 63,
   "metadata": {
    "scrolled": false
   },
   "outputs": [
    {
     "data": {
      "image/png": "[encoded data removed]",
      "text/plain": [
       "<Figure size 720x432 with 3 Axes>"
      ]
     },
     "metadata": {
      "needs_background": "light"
     },
     "output_type": "display_data"
    }
   ],
   "source": [
    "# Plot and compare results\n",
    "fig, (ax1, ax2, ax3) = plt.subplots(nrows=3, ncols=1, figsize=(10,6), sharex=True)\n",
    "\n",
    "sns.kdeplot(df['HourlyRate'], ax=ax1, label='Without Scaling')\n",
    "ax1.legend()\n",
    "\n",
    "sns.kdeplot(standardized_rate, ax=ax2, label='Manual Scaling')\n",
    "ax2.legend()\n",
    "\n",
    "sns.kdeplot(scaled_rate[:,0], ax=ax3, label='SKLearn Standard Scaling')\n",
    "ax3.legend()\n",
    "\n",
    "plt.show()"
   ]
  },
  {
   "cell_type": "code",
   "execution_count": 67,
   "metadata": {},
   "outputs": [],
   "source": [
    "heart_df = pd.read_csv('../../Phase1/Lectures/data/heart.csv')"
   ]
  },
  {
   "cell_type": "code",
   "execution_count": 68,
   "metadata": {},
   "outputs": [
    {
     "data": {
      "text/html": [
       "<div>\n",
       "<style scoped>\n",
       "    .dataframe tbody tr th:only-of-type {\n",
       "        vertical-align: middle;\n",
       "    }\n",
       "\n",
       "    .dataframe tbody tr th {\n",
       "        vertical-align: top;\n",
       "    }\n",
       "\n",
       "    .dataframe thead th {\n",
       "        text-align: right;\n",
       "    }\n",
       "</style>\n",
       "<table border=\"1\" class=\"dataframe\">\n",
       "  <thead>\n",
       "    <tr style=\"text-align: right;\">\n",
       "      <th></th>\n",
       "      <th>age</th>\n",
       "      <th>sex</th>\n",
       "      <th>cp</th>\n",
       "      <th>trestbps</th>\n",
       "      <th>chol</th>\n",
       "      <th>fbs</th>\n",
       "      <th>restecg</th>\n",
       "      <th>thalach</th>\n",
       "      <th>exang</th>\n",
       "      <th>oldpeak</th>\n",
       "      <th>slope</th>\n",
       "      <th>ca</th>\n",
       "      <th>thal</th>\n",
       "      <th>target</th>\n",
       "    </tr>\n",
       "  </thead>\n",
       "  <tbody>\n",
       "    <tr>\n",
       "      <th>0</th>\n",
       "      <td>63</td>\n",
       "      <td>1</td>\n",
       "      <td>3</td>\n",
       "      <td>145</td>\n",
       "      <td>233</td>\n",
       "      <td>1</td>\n",
       "      <td>0</td>\n",
       "      <td>150</td>\n",
       "      <td>0</td>\n",
       "      <td>2.3</td>\n",
       "      <td>0</td>\n",
       "      <td>0</td>\n",
       "      <td>1</td>\n",
       "      <td>1</td>\n",
       "    </tr>\n",
       "    <tr>\n",
       "      <th>1</th>\n",
       "      <td>37</td>\n",
       "      <td>1</td>\n",
       "      <td>2</td>\n",
       "      <td>130</td>\n",
       "      <td>250</td>\n",
       "      <td>0</td>\n",
       "      <td>1</td>\n",
       "      <td>187</td>\n",
       "      <td>0</td>\n",
       "      <td>3.5</td>\n",
       "      <td>0</td>\n",
       "      <td>0</td>\n",
       "      <td>2</td>\n",
       "      <td>1</td>\n",
       "    </tr>\n",
       "    <tr>\n",
       "      <th>2</th>\n",
       "      <td>41</td>\n",
       "      <td>0</td>\n",
       "      <td>1</td>\n",
       "      <td>130</td>\n",
       "      <td>204</td>\n",
       "      <td>0</td>\n",
       "      <td>0</td>\n",
       "      <td>172</td>\n",
       "      <td>0</td>\n",
       "      <td>1.4</td>\n",
       "      <td>2</td>\n",
       "      <td>0</td>\n",
       "      <td>2</td>\n",
       "      <td>1</td>\n",
       "    </tr>\n",
       "    <tr>\n",
       "      <th>3</th>\n",
       "      <td>56</td>\n",
       "      <td>1</td>\n",
       "      <td>1</td>\n",
       "      <td>120</td>\n",
       "      <td>236</td>\n",
       "      <td>0</td>\n",
       "      <td>1</td>\n",
       "      <td>178</td>\n",
       "      <td>0</td>\n",
       "      <td>0.8</td>\n",
       "      <td>2</td>\n",
       "      <td>0</td>\n",
       "      <td>2</td>\n",
       "      <td>1</td>\n",
       "    </tr>\n",
       "    <tr>\n",
       "      <th>4</th>\n",
       "      <td>57</td>\n",
       "      <td>0</td>\n",
       "      <td>0</td>\n",
       "      <td>120</td>\n",
       "      <td>354</td>\n",
       "      <td>0</td>\n",
       "      <td>1</td>\n",
       "      <td>163</td>\n",
       "      <td>1</td>\n",
       "      <td>0.6</td>\n",
       "      <td>2</td>\n",
       "      <td>0</td>\n",
       "      <td>2</td>\n",
       "      <td>1</td>\n",
       "    </tr>\n",
       "    <tr>\n",
       "      <th>...</th>\n",
       "      <td>...</td>\n",
       "      <td>...</td>\n",
       "      <td>...</td>\n",
       "      <td>...</td>\n",
       "      <td>...</td>\n",
       "      <td>...</td>\n",
       "      <td>...</td>\n",
       "      <td>...</td>\n",
       "      <td>...</td>\n",
       "      <td>...</td>\n",
       "      <td>...</td>\n",
       "      <td>...</td>\n",
       "      <td>...</td>\n",
       "      <td>...</td>\n",
       "    </tr>\n",
       "    <tr>\n",
       "      <th>298</th>\n",
       "      <td>57</td>\n",
       "      <td>0</td>\n",
       "      <td>0</td>\n",
       "      <td>140</td>\n",
       "      <td>241</td>\n",
       "      <td>0</td>\n",
       "      <td>1</td>\n",
       "      <td>123</td>\n",
       "      <td>1</td>\n",
       "      <td>0.2</td>\n",
       "      <td>1</td>\n",
       "      <td>0</td>\n",
       "      <td>3</td>\n",
       "      <td>0</td>\n",
       "    </tr>\n",
       "    <tr>\n",
       "      <th>299</th>\n",
       "      <td>45</td>\n",
       "      <td>1</td>\n",
       "      <td>3</td>\n",
       "      <td>110</td>\n",
       "      <td>264</td>\n",
       "      <td>0</td>\n",
       "      <td>1</td>\n",
       "      <td>132</td>\n",
       "      <td>0</td>\n",
       "      <td>1.2</td>\n",
       "      <td>1</td>\n",
       "      <td>0</td>\n",
       "      <td>3</td>\n",
       "      <td>0</td>\n",
       "    </tr>\n",
       "    <tr>\n",
       "      <th>300</th>\n",
       "      <td>68</td>\n",
       "      <td>1</td>\n",
       "      <td>0</td>\n",
       "      <td>144</td>\n",
       "      <td>193</td>\n",
       "      <td>1</td>\n",
       "      <td>1</td>\n",
       "      <td>141</td>\n",
       "      <td>0</td>\n",
       "      <td>3.4</td>\n",
       "      <td>1</td>\n",
       "      <td>2</td>\n",
       "      <td>3</td>\n",
       "      <td>0</td>\n",
       "    </tr>\n",
       "    <tr>\n",
       "      <th>301</th>\n",
       "      <td>57</td>\n",
       "      <td>1</td>\n",
       "      <td>0</td>\n",
       "      <td>130</td>\n",
       "      <td>131</td>\n",
       "      <td>0</td>\n",
       "      <td>1</td>\n",
       "      <td>115</td>\n",
       "      <td>1</td>\n",
       "      <td>1.2</td>\n",
       "      <td>1</td>\n",
       "      <td>1</td>\n",
       "      <td>3</td>\n",
       "      <td>0</td>\n",
       "    </tr>\n",
       "    <tr>\n",
       "      <th>302</th>\n",
       "      <td>57</td>\n",
       "      <td>0</td>\n",
       "      <td>1</td>\n",
       "      <td>130</td>\n",
       "      <td>236</td>\n",
       "      <td>0</td>\n",
       "      <td>0</td>\n",
       "      <td>174</td>\n",
       "      <td>0</td>\n",
       "      <td>0.0</td>\n",
       "      <td>1</td>\n",
       "      <td>1</td>\n",
       "      <td>2</td>\n",
       "      <td>0</td>\n",
       "    </tr>\n",
       "  </tbody>\n",
       "</table>\n",
       "<p>303 rows × 14 columns</p>\n",
       "</div>"
      ],
      "text/plain": [
       "     age  sex  cp  trestbps  chol  fbs  restecg  thalach  exang  oldpeak  \\\n",
       "0     63    1   3       145   233    1        0      150      0      2.3   \n",
       "1     37    1   2       130   250    0        1      187      0      3.5   \n",
       "2     41    0   1       130   204    0        0      172      0      1.4   \n",
       "3     56    1   1       120   236    0        1      178      0      0.8   \n",
       "4     57    0   0       120   354    0        1      163      1      0.6   \n",
       "..   ...  ...  ..       ...   ...  ...      ...      ...    ...      ...   \n",
       "298   57    0   0       140   241    0        1      123      1      0.2   \n",
       "299   45    1   3       110   264    0        1      132      0      1.2   \n",
       "300   68    1   0       144   193    1        1      141      0      3.4   \n",
       "301   57    1   0       130   131    0        1      115      1      1.2   \n",
       "302   57    0   1       130   236    0        0      174      0      0.0   \n",
       "\n",
       "     slope  ca  thal  target  \n",
       "0        0   0     1       1  \n",
       "1        0   0     2       1  \n",
       "2        2   0     2       1  \n",
       "3        2   0     2       1  \n",
       "4        2   0     2       1  \n",
       "..     ...  ..   ...     ...  \n",
       "298      1   0     3       0  \n",
       "299      1   0     3       0  \n",
       "300      1   2     3       0  \n",
       "301      1   1     3       0  \n",
       "302      1   1     2       0  \n",
       "\n",
       "[303 rows x 14 columns]"
      ]
     },
     "execution_count": 68,
     "metadata": {},
     "output_type": "execute_result"
    }
   ],
   "source": [
    "heart_df"
   ]
  },
  {
   "cell_type": "code",
   "execution_count": 69,
   "metadata": {},
   "outputs": [],
   "source": [
    "scaler2 = StandardScaler()"
   ]
  },
  {
   "cell_type": "code",
   "execution_count": 70,
   "metadata": {},
   "outputs": [
    {
     "data": {
      "text/plain": [
       "StandardScaler()"
      ]
     },
     "execution_count": 70,
     "metadata": {},
     "output_type": "execute_result"
    }
   ],
   "source": [
    "scaler2.fit(heart_df)"
   ]
  },
  {
   "cell_type": "code",
   "execution_count": 71,
   "metadata": {},
   "outputs": [
    {
     "data": {
      "text/plain": [
       "array([5.43663366e+01, 6.83168317e-01, 9.66996700e-01, 1.31623762e+02,\n",
       "       2.46264026e+02, 1.48514851e-01, 5.28052805e-01, 1.49646865e+02,\n",
       "       3.26732673e-01, 1.03960396e+00, 1.39933993e+00, 7.29372937e-01,\n",
       "       2.31353135e+00, 5.44554455e-01])"
      ]
     },
     "execution_count": 71,
     "metadata": {},
     "output_type": "execute_result"
    }
   ],
   "source": [
    "scaler2.mean_"
   ]
  },
  {
   "cell_type": "code",
   "execution_count": 72,
   "metadata": {},
   "outputs": [
    {
     "data": {
      "text/plain": [
       "array([[ 0.9521966 ,  0.68100522,  1.97312292, ..., -0.71442887,\n",
       "        -2.14887271,  0.91452919],\n",
       "       [-1.91531289,  0.68100522,  1.00257707, ..., -0.71442887,\n",
       "        -0.51292188,  0.91452919],\n",
       "       [-1.47415758, -1.46841752,  0.03203122, ..., -0.71442887,\n",
       "        -0.51292188,  0.91452919],\n",
       "       ...,\n",
       "       [ 1.50364073,  0.68100522, -0.93851463, ...,  1.24459328,\n",
       "         1.12302895, -1.09345881],\n",
       "       [ 0.29046364,  0.68100522, -0.93851463, ...,  0.26508221,\n",
       "         1.12302895, -1.09345881],\n",
       "       [ 0.29046364, -1.46841752,  0.03203122, ...,  0.26508221,\n",
       "        -0.51292188, -1.09345881]])"
      ]
     },
     "execution_count": 72,
     "metadata": {},
     "output_type": "execute_result"
    }
   ],
   "source": [
    "scaler2.transform(heart_df)"
   ]
  },
  {
   "cell_type": "code",
   "execution_count": 74,
   "metadata": {},
   "outputs": [
    {
     "data": {
      "text/html": [
       "<div>\n",
       "<style scoped>\n",
       "    .dataframe tbody tr th:only-of-type {\n",
       "        vertical-align: middle;\n",
       "    }\n",
       "\n",
       "    .dataframe tbody tr th {\n",
       "        vertical-align: top;\n",
       "    }\n",
       "\n",
       "    .dataframe thead th {\n",
       "        text-align: right;\n",
       "    }\n",
       "</style>\n",
       "<table border=\"1\" class=\"dataframe\">\n",
       "  <thead>\n",
       "    <tr style=\"text-align: right;\">\n",
       "      <th></th>\n",
       "      <th>age</th>\n",
       "      <th>sex</th>\n",
       "      <th>cp</th>\n",
       "      <th>trestbps</th>\n",
       "      <th>chol</th>\n",
       "      <th>fbs</th>\n",
       "      <th>restecg</th>\n",
       "      <th>thalach</th>\n",
       "      <th>exang</th>\n",
       "      <th>oldpeak</th>\n",
       "      <th>slope</th>\n",
       "      <th>ca</th>\n",
       "      <th>thal</th>\n",
       "      <th>target</th>\n",
       "    </tr>\n",
       "  </thead>\n",
       "  <tbody>\n",
       "    <tr>\n",
       "      <th>0</th>\n",
       "      <td>0.952197</td>\n",
       "      <td>0.681005</td>\n",
       "      <td>1.973123</td>\n",
       "      <td>0.763956</td>\n",
       "      <td>-0.256334</td>\n",
       "      <td>2.394438</td>\n",
       "      <td>-1.005832</td>\n",
       "      <td>0.015443</td>\n",
       "      <td>-0.696631</td>\n",
       "      <td>1.087338</td>\n",
       "      <td>-2.274579</td>\n",
       "      <td>-0.714429</td>\n",
       "      <td>-2.148873</td>\n",
       "      <td>0.914529</td>\n",
       "    </tr>\n",
       "    <tr>\n",
       "      <th>1</th>\n",
       "      <td>-1.915313</td>\n",
       "      <td>0.681005</td>\n",
       "      <td>1.002577</td>\n",
       "      <td>-0.092738</td>\n",
       "      <td>0.072199</td>\n",
       "      <td>-0.417635</td>\n",
       "      <td>0.898962</td>\n",
       "      <td>1.633471</td>\n",
       "      <td>-0.696631</td>\n",
       "      <td>2.122573</td>\n",
       "      <td>-2.274579</td>\n",
       "      <td>-0.714429</td>\n",
       "      <td>-0.512922</td>\n",
       "      <td>0.914529</td>\n",
       "    </tr>\n",
       "    <tr>\n",
       "      <th>2</th>\n",
       "      <td>-1.474158</td>\n",
       "      <td>-1.468418</td>\n",
       "      <td>0.032031</td>\n",
       "      <td>-0.092738</td>\n",
       "      <td>-0.816773</td>\n",
       "      <td>-0.417635</td>\n",
       "      <td>-1.005832</td>\n",
       "      <td>0.977514</td>\n",
       "      <td>-0.696631</td>\n",
       "      <td>0.310912</td>\n",
       "      <td>0.976352</td>\n",
       "      <td>-0.714429</td>\n",
       "      <td>-0.512922</td>\n",
       "      <td>0.914529</td>\n",
       "    </tr>\n",
       "    <tr>\n",
       "      <th>3</th>\n",
       "      <td>0.180175</td>\n",
       "      <td>0.681005</td>\n",
       "      <td>0.032031</td>\n",
       "      <td>-0.663867</td>\n",
       "      <td>-0.198357</td>\n",
       "      <td>-0.417635</td>\n",
       "      <td>0.898962</td>\n",
       "      <td>1.239897</td>\n",
       "      <td>-0.696631</td>\n",
       "      <td>-0.206705</td>\n",
       "      <td>0.976352</td>\n",
       "      <td>-0.714429</td>\n",
       "      <td>-0.512922</td>\n",
       "      <td>0.914529</td>\n",
       "    </tr>\n",
       "    <tr>\n",
       "      <th>4</th>\n",
       "      <td>0.290464</td>\n",
       "      <td>-1.468418</td>\n",
       "      <td>-0.938515</td>\n",
       "      <td>-0.663867</td>\n",
       "      <td>2.082050</td>\n",
       "      <td>-0.417635</td>\n",
       "      <td>0.898962</td>\n",
       "      <td>0.583939</td>\n",
       "      <td>1.435481</td>\n",
       "      <td>-0.379244</td>\n",
       "      <td>0.976352</td>\n",
       "      <td>-0.714429</td>\n",
       "      <td>-0.512922</td>\n",
       "      <td>0.914529</td>\n",
       "    </tr>\n",
       "    <tr>\n",
       "      <th>...</th>\n",
       "      <td>...</td>\n",
       "      <td>...</td>\n",
       "      <td>...</td>\n",
       "      <td>...</td>\n",
       "      <td>...</td>\n",
       "      <td>...</td>\n",
       "      <td>...</td>\n",
       "      <td>...</td>\n",
       "      <td>...</td>\n",
       "      <td>...</td>\n",
       "      <td>...</td>\n",
       "      <td>...</td>\n",
       "      <td>...</td>\n",
       "      <td>...</td>\n",
       "    </tr>\n",
       "    <tr>\n",
       "      <th>298</th>\n",
       "      <td>0.290464</td>\n",
       "      <td>-1.468418</td>\n",
       "      <td>-0.938515</td>\n",
       "      <td>0.478391</td>\n",
       "      <td>-0.101730</td>\n",
       "      <td>-0.417635</td>\n",
       "      <td>0.898962</td>\n",
       "      <td>-1.165281</td>\n",
       "      <td>1.435481</td>\n",
       "      <td>-0.724323</td>\n",
       "      <td>-0.649113</td>\n",
       "      <td>-0.714429</td>\n",
       "      <td>1.123029</td>\n",
       "      <td>-1.093459</td>\n",
       "    </tr>\n",
       "    <tr>\n",
       "      <th>299</th>\n",
       "      <td>-1.033002</td>\n",
       "      <td>0.681005</td>\n",
       "      <td>1.973123</td>\n",
       "      <td>-1.234996</td>\n",
       "      <td>0.342756</td>\n",
       "      <td>-0.417635</td>\n",
       "      <td>0.898962</td>\n",
       "      <td>-0.771706</td>\n",
       "      <td>-0.696631</td>\n",
       "      <td>0.138373</td>\n",
       "      <td>-0.649113</td>\n",
       "      <td>-0.714429</td>\n",
       "      <td>1.123029</td>\n",
       "      <td>-1.093459</td>\n",
       "    </tr>\n",
       "    <tr>\n",
       "      <th>300</th>\n",
       "      <td>1.503641</td>\n",
       "      <td>0.681005</td>\n",
       "      <td>-0.938515</td>\n",
       "      <td>0.706843</td>\n",
       "      <td>-1.029353</td>\n",
       "      <td>2.394438</td>\n",
       "      <td>0.898962</td>\n",
       "      <td>-0.378132</td>\n",
       "      <td>-0.696631</td>\n",
       "      <td>2.036303</td>\n",
       "      <td>-0.649113</td>\n",
       "      <td>1.244593</td>\n",
       "      <td>1.123029</td>\n",
       "      <td>-1.093459</td>\n",
       "    </tr>\n",
       "    <tr>\n",
       "      <th>301</th>\n",
       "      <td>0.290464</td>\n",
       "      <td>0.681005</td>\n",
       "      <td>-0.938515</td>\n",
       "      <td>-0.092738</td>\n",
       "      <td>-2.227533</td>\n",
       "      <td>-0.417635</td>\n",
       "      <td>0.898962</td>\n",
       "      <td>-1.515125</td>\n",
       "      <td>1.435481</td>\n",
       "      <td>0.138373</td>\n",
       "      <td>-0.649113</td>\n",
       "      <td>0.265082</td>\n",
       "      <td>1.123029</td>\n",
       "      <td>-1.093459</td>\n",
       "    </tr>\n",
       "    <tr>\n",
       "      <th>302</th>\n",
       "      <td>0.290464</td>\n",
       "      <td>-1.468418</td>\n",
       "      <td>0.032031</td>\n",
       "      <td>-0.092738</td>\n",
       "      <td>-0.198357</td>\n",
       "      <td>-0.417635</td>\n",
       "      <td>-1.005832</td>\n",
       "      <td>1.064975</td>\n",
       "      <td>-0.696631</td>\n",
       "      <td>-0.896862</td>\n",
       "      <td>-0.649113</td>\n",
       "      <td>0.265082</td>\n",
       "      <td>-0.512922</td>\n",
       "      <td>-1.093459</td>\n",
       "    </tr>\n",
       "  </tbody>\n",
       "</table>\n",
       "<p>303 rows × 14 columns</p>\n",
       "</div>"
      ],
      "text/plain": [
       "          age       sex        cp  trestbps      chol       fbs   restecg  \\\n",
       "0    0.952197  0.681005  1.973123  0.763956 -0.256334  2.394438 -1.005832   \n",
       "1   -1.915313  0.681005  1.002577 -0.092738  0.072199 -0.417635  0.898962   \n",
       "2   -1.474158 -1.468418  0.032031 -0.092738 -0.816773 -0.417635 -1.005832   \n",
       "3    0.180175  0.681005  0.032031 -0.663867 -0.198357 -0.417635  0.898962   \n",
       "4    0.290464 -1.468418 -0.938515 -0.663867  2.082050 -0.417635  0.898962   \n",
       "..        ...       ...       ...       ...       ...       ...       ...   \n",
       "298  0.290464 -1.468418 -0.938515  0.478391 -0.101730 -0.417635  0.898962   \n",
       "299 -1.033002  0.681005  1.973123 -1.234996  0.342756 -0.417635  0.898962   \n",
       "300  1.503641  0.681005 -0.938515  0.706843 -1.029353  2.394438  0.898962   \n",
       "301  0.290464  0.681005 -0.938515 -0.092738 -2.227533 -0.417635  0.898962   \n",
       "302  0.290464 -1.468418  0.032031 -0.092738 -0.198357 -0.417635 -1.005832   \n",
       "\n",
       "      thalach     exang   oldpeak     slope        ca      thal    target  \n",
       "0    0.015443 -0.696631  1.087338 -2.274579 -0.714429 -2.148873  0.914529  \n",
       "1    1.633471 -0.696631  2.122573 -2.274579 -0.714429 -0.512922  0.914529  \n",
       "2    0.977514 -0.696631  0.310912  0.976352 -0.714429 -0.512922  0.914529  \n",
       "3    1.239897 -0.696631 -0.206705  0.976352 -0.714429 -0.512922  0.914529  \n",
       "4    0.583939  1.435481 -0.379244  0.976352 -0.714429 -0.512922  0.914529  \n",
       "..        ...       ...       ...       ...       ...       ...       ...  \n",
       "298 -1.165281  1.435481 -0.724323 -0.649113 -0.714429  1.123029 -1.093459  \n",
       "299 -0.771706 -0.696631  0.138373 -0.649113 -0.714429  1.123029 -1.093459  \n",
       "300 -0.378132 -0.696631  2.036303 -0.649113  1.244593  1.123029 -1.093459  \n",
       "301 -1.515125  1.435481  0.138373 -0.649113  0.265082  1.123029 -1.093459  \n",
       "302  1.064975 -0.696631 -0.896862 -0.649113  0.265082 -0.512922 -1.093459  \n",
       "\n",
       "[303 rows x 14 columns]"
      ]
     },
     "execution_count": 74,
     "metadata": {},
     "output_type": "execute_result"
    }
   ],
   "source": [
    "pd.DataFrame(scaler2.transform(heart_df), columns=heart_df.columns)"
   ]
  }
 ],
 "metadata": {
  "kernelspec": {
   "display_name": "Python (learn-env)",
   "language": "python",
   "name": "learn-env"
  },
  "language_info": {
   "codemirror_mode": {
    "name": "ipython",
    "version": 3
   },
   "file_extension": ".py",
   "mimetype": "text/x-python",
   "name": "python",
   "nbconvert_exporter": "python",
   "pygments_lexer": "ipython3",
   "version": "3.8.5"
  },
  "toc": {
   "base_numbering": 1,
   "nav_menu": {},
   "number_sections": true,
   "sideBar": true,
   "skip_h1_title": false,
   "title_cell": "Table of Contents",
   "title_sidebar": "TOC",
   "toc_cell": true,
   "toc_position": {
    "height": "calc(100% - 180px)",
    "left": "10px",
    "top": "150px",
    "width": "380.25px"
   },
   "toc_section_display": true,
   "toc_window_display": true
  }
 },
 "nbformat": 4,
 "nbformat_minor": 4
}
