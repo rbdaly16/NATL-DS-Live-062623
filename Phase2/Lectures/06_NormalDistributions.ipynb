{
 "cells": [
  {
   "cell_type": "markdown",
   "metadata": {
    "heading_collapsed": true
   },
   "source": [
    "# Objectives"
   ]
  },
  {
   "cell_type": "markdown",
   "metadata": {
    "hidden": true
   },
   "source": [
    "* Describe the normal distribution's Empirical Rule\n",
    "* Calculate $z$-scores from a normal distribution through standardization\n",
    "* Define the Central Limit Theorem\n"
   ]
  },
  {
   "cell_type": "code",
   "execution_count": 1,
   "metadata": {
    "hidden": true
   },
   "outputs": [],
   "source": [
    "# Imports!\n",
    "from scipy import stats\n",
    "\n",
    "import matplotlib.pyplot as plt\n",
    "%matplotlib inline\n",
    "import seaborn as sns\n",
    "\n",
    "import pandas as pd\n",
    "import numpy as np"
   ]
  },
  {
   "cell_type": "markdown",
   "metadata": {
    "heading_collapsed": true
   },
   "source": [
    "# Normal Distribution"
   ]
  },
  {
   "cell_type": "markdown",
   "metadata": {
    "hidden": true
   },
   "source": [
    "We'll find that the **normal distribution** or **normal curve** or **bell curve** (it has many names) is a very common distribution and it's very useful to us in statistics."
   ]
  },
  {
   "cell_type": "markdown",
   "metadata": {
    "hidden": true
   },
   "source": [
    "![](images/normal_curve_animation.gif)"
   ]
  },
  {
   "cell_type": "markdown",
   "metadata": {
    "heading_collapsed": true,
    "hidden": true
   },
   "source": [
    "## Why a Normal Distribution?"
   ]
  },
  {
   "cell_type": "markdown",
   "metadata": {
    "hidden": true
   },
   "source": [
    "Turns out the normal distribution describes many phenomena. Think of anything that has a typical range:\n",
    "\n",
    "- human body temperatures\n",
    "- sizes of elephants\n",
    "- sizes of stars\n",
    "- populations of cities\n",
    "- IQ\n",
    "- heart rate"
   ]
  },
  {
   "cell_type": "markdown",
   "metadata": {
    "hidden": true
   },
   "source": [
    "Among human beings, 98.6 degrees Fahrenheit is an _average_ body temperature. Many folks' temperatures won't measure _exactly_ 98.6 degrees, but most measurements will be _close_. It is much more common to have a body temperature close to 98.6 (whether slightly more or slightly less) than it is to have a body temperature far from 98.6 (whether significantly more or significantly less). This is a hallmark of a normally distributed variable."
   ]
  },
  {
   "cell_type": "code",
   "execution_count": 2,
   "metadata": {
    "hidden": true
   },
   "outputs": [
    {
     "data": {
      "image/png": "[encoded data removed]",
      "text/plain": [
       "<Figure size 432x288 with 1 Axes>"
      ]
     },
     "metadata": {
      "needs_background": "light"
     },
     "output_type": "display_data"
    }
   ],
   "source": [
    "# Visualize it\n",
    "fig, ax = plt.subplots()\n",
    "\n",
    "mu = 0\n",
    "sigma = 1\n",
    "# This defines the points along the x-axis\n",
    "x = np.linspace(\n",
    "        stats.norm(mu,sigma).ppf(0.01), # Start plotting here\n",
    "        stats.norm(mu,sigma).ppf(0.99), # End plotting here\n",
    "        100                             # Number of points\n",
    ")\n",
    "# The values as at x given by the normal curve (with mu & sigma)\n",
    "y = stats.norm(mu,sigma).pdf(x)\n",
    "ax.plot(x, y,'r-');"
   ]
  },
  {
   "cell_type": "markdown",
   "metadata": {},
   "source": [
    "The Standard Normal Distribution, also known as a Gaussian distribution, is special not only because it shows up EVERYWHERE but also because it's symmetric (mean == median == mode)"
   ]
  },
  {
   "cell_type": "markdown",
   "metadata": {
    "hidden": true
   },
   "source": [
    "### Normal Curve\n",
    "\n",
    "If you're curious about how we can mathematically define a normal curve, we give this below. (Don't worry, you don't need to recall the mathematical definition).\n",
    "\n",
    "<details>\n",
    "\n",
    "$\\Large f(x) = \\frac{1}{\\sqrt{2\\pi\\sigma^2}}e^{\\frac{-(x - \\mu)^2}{2\\sigma^2}}$\n",
    "    \n",
    "This might look complicated at first, but it means that the we describe a normal curve with just **two parameters**: $\\sigma^2$ (the variance) & $\\mu$ (the mean). You may see the notation $N(\\mu, \\sigma^2)$ which emphasizes there are only two parameters to describe the distribution.\n",
    "</details>"
   ]
  },
  {
   "cell_type": "markdown",
   "metadata": {
    "hidden": true
   },
   "source": [
    "\n"
   ]
  },
  {
   "cell_type": "markdown",
   "metadata": {
    "heading_collapsed": true,
    "hidden": true
   },
   "source": [
    "## *Standard* Normal Distribution"
   ]
  },
  {
   "cell_type": "markdown",
   "metadata": {
    "hidden": true
   },
   "source": [
    "A special normal distribution called the **standard normal distribution** has a mean of 0 and variance of 1. This is also known as a **z distribution**."
   ]
  },
  {
   "cell_type": "markdown",
   "metadata": {
    "hidden": true
   },
   "source": [
    "Since we know that the shape of a normal distribution changes based on its mean and variance, we'll typically convert or **standardize** our normal distribution to the standard normal distribution."
   ]
  },
  {
   "cell_type": "markdown",
   "metadata": {
    "hidden": true
   },
   "source": [
    "We simply subtract the mean $\\mu$ from each value and then divide by the standard deviation $\\sigma$:\n",
    "\n",
    "$$\\frac{x - \\mu}{\\sigma}$$\n",
    "\n",
    "We call this process **standardization**."
   ]
  },
  {
   "cell_type": "markdown",
   "metadata": {
    "hidden": true
   },
   "source": [
    "![norm_to_z](images/norm_to_z.png)"
   ]
  },
  {
   "cell_type": "code",
   "execution_count": 3,
   "metadata": {},
   "outputs": [],
   "source": [
    "#standardization puts everything in terms how many stddev's away from mean"
   ]
  },
  {
   "cell_type": "code",
   "execution_count": 4,
   "metadata": {
    "hidden": true,
    "scrolled": false
   },
   "outputs": [
    {
     "data": {
      "text/plain": [
       "5.037556553753205"
      ]
     },
     "execution_count": 4,
     "metadata": {},
     "output_type": "execute_result"
    }
   ],
   "source": [
    "# Let's transform the normal distribution centered on 5\n",
    "# with a standard deviation of 2 into a standard normal\n",
    "\n",
    "# Generating our data\n",
    "# stats.norm.rvs()\n",
    "normal_dist = np.random.normal(loc=5, scale=2, size=1000)\n",
    "\n",
    "np.mean(normal_dist)"
   ]
  },
  {
   "cell_type": "code",
   "execution_count": 6,
   "metadata": {},
   "outputs": [
    {
     "data": {
      "text/plain": [
       "array([ 4.63499833e+00,  8.72699268e+00,  3.06567541e+00,  5.44886852e+00,\n",
       "        7.86014539e+00,  5.32453359e+00,  2.15279845e+00,  8.76556494e+00,\n",
       "        6.37700968e+00,  3.12158040e+00,  5.47103936e+00,  6.51790647e+00,\n",
       "        6.81093134e+00,  5.19172342e+00,  4.63118926e+00,  4.54531779e+00,\n",
       "        6.57786347e+00,  4.27742897e+00,  5.02535778e+00,  1.79405631e+00,\n",
       "        4.43139749e+00,  4.35790073e-02,  6.07481433e+00,  7.27847817e+00,\n",
       "        4.93283495e+00,  5.66630222e+00,  2.91970873e+00,  4.34452216e+00,\n",
       "        7.36910802e+00,  3.70180087e+00,  3.48051096e+00,  4.72522799e+00,\n",
       "        7.62336447e+00,  4.08799842e+00,  7.80881756e+00,  5.89968653e+00,\n",
       "        3.50687424e+00,  3.45733130e+00,  1.78583422e+00,  1.35899144e+00,\n",
       "        3.37835246e+00,  4.09813179e+00,  6.02099409e+00,  4.56115222e+00,\n",
       "        4.70960389e+00,  4.16804335e+00,  2.80398100e+00,  2.14299072e+00,\n",
       "       -2.49296525e-01,  2.44535519e+00,  4.26763300e+00,  6.46690160e+00,\n",
       "        6.25804754e+00,  7.09199147e+00,  5.26297952e+00,  7.67839071e+00,\n",
       "        6.86391343e+00,  3.96222610e+00, -1.18718042e+00,  5.86114889e+00,\n",
       "        6.09959478e+00,  8.40292382e+00,  4.88176988e+00,  3.10768949e+00,\n",
       "        4.53731722e+00,  4.53488233e+00,  5.75983705e+00,  6.06254482e+00,\n",
       "        8.86025071e+00,  6.82374599e+00,  4.25599512e+00,  3.22056393e+00,\n",
       "        2.58760617e+00,  6.28556492e+00,  2.24234918e+00,  6.45569853e+00,\n",
       "        7.42732605e+00,  5.75045012e+00,  2.78338977e+00,  3.08703516e+00,\n",
       "        4.20804035e+00,  5.94908376e+00,  1.99848115e+00,  4.80176507e+00,\n",
       "        3.76902876e+00,  5.44478570e+00,  4.45871472e+00,  4.34363610e+00,\n",
       "        6.56656660e+00,  1.84379173e+00,  9.47017449e+00,  4.15001383e+00,\n",
       "        6.33845052e+00,  6.31884020e+00,  7.77544242e+00,  3.44857731e-01,\n",
       "        6.04949393e+00,  8.98937458e+00, -1.85588722e-01,  5.00505527e-01,\n",
       "        6.93703484e+00,  7.68543697e+00,  4.40110166e+00,  3.50003783e+00,\n",
       "        3.81231901e+00,  5.99234434e+00,  3.91542399e+00,  3.74633284e+00,\n",
       "        6.47092686e+00,  9.15667348e+00,  5.04861829e+00,  6.66463623e+00,\n",
       "        5.78446278e+00,  4.88088163e+00,  6.92609090e+00,  5.48910744e+00,\n",
       "        2.85540468e+00,  3.41248145e+00,  6.72016764e+00,  7.67645219e+00,\n",
       "        4.10610209e+00,  7.14351342e+00,  6.76118875e+00,  3.77457404e+00,\n",
       "        5.92290179e+00,  6.65594702e+00,  4.11286196e+00,  3.57826324e+00,\n",
       "        4.57629816e+00,  4.15717361e+00,  2.99391054e+00,  3.56122664e+00,\n",
       "        9.92488876e-01,  5.55183830e+00,  6.96110676e+00,  6.71086448e+00,\n",
       "        6.84598816e+00,  6.27984003e+00,  3.96475263e+00,  2.00827662e+00,\n",
       "        2.70815758e+00,  4.72860391e+00,  3.26095529e+00,  4.87416114e+00,\n",
       "        6.59687719e+00,  4.27832939e+00,  2.11410117e+00,  6.46023968e+00,\n",
       "        5.76566472e+00,  6.01949825e+00,  5.38985817e+00,  6.99358090e+00,\n",
       "        6.92089823e+00,  5.43304562e+00,  5.45115673e+00,  4.97972026e+00,\n",
       "        5.17093028e+00,  3.79394954e+00,  2.52724842e+00,  4.77428187e+00,\n",
       "        3.63388826e+00,  6.81491359e+00,  6.04616425e+00,  6.17455514e+00,\n",
       "        8.01337516e+00,  3.45668562e+00,  5.91831033e+00,  7.46227352e+00,\n",
       "        8.35797586e+00,  6.18008207e+00,  3.20486625e+00,  5.93703736e+00,\n",
       "        8.27385577e+00,  5.07010108e+00,  4.35288361e+00,  8.90331277e+00,\n",
       "        5.93097344e+00,  8.01605972e+00,  3.17991663e+00,  5.32306506e+00,\n",
       "        4.68479986e+00,  8.61687980e+00,  7.67141969e+00,  3.46535080e+00,\n",
       "        5.81365749e+00,  2.22087949e+00,  4.88883763e+00,  7.40971515e+00,\n",
       "        8.09228138e+00,  7.70431569e+00,  2.66220278e+00,  6.11299931e+00,\n",
       "        4.18007012e+00,  4.81912721e+00,  1.70432327e+00,  4.46312157e+00,\n",
       "        5.76705579e+00,  6.13545687e+00,  5.88294947e+00,  6.96187194e+00,\n",
       "        2.75968084e+00,  4.61497174e+00,  1.45954119e+00,  7.80236238e+00,\n",
       "        7.02641587e+00,  4.24661429e+00,  6.09513968e+00,  7.67826177e+00,\n",
       "        4.04156555e+00,  3.97764865e+00,  6.39426236e+00,  3.93709629e+00,\n",
       "        5.53102894e+00,  4.84787023e+00,  5.97021822e+00,  5.59892058e+00,\n",
       "        5.74293963e+00,  8.17242678e+00,  3.12050924e+00,  4.86240777e+00,\n",
       "        7.29477055e+00,  1.67362337e+00,  3.61170195e+00,  5.22777944e+00,\n",
       "        2.74391970e+00,  5.98185637e+00,  6.41331987e+00,  1.01062478e+00,\n",
       "        5.58029170e+00,  6.69471289e+00,  5.94079817e+00,  4.33704582e+00,\n",
       "        6.65979785e+00,  3.88828554e+00,  4.98762655e+00,  3.98929952e+00,\n",
       "        5.84662239e+00,  7.53617344e+00,  8.48694520e+00,  6.28288253e+00,\n",
       "        3.74627134e+00,  8.40195829e+00,  3.55111935e+00,  3.89350182e+00,\n",
       "        4.97166380e+00,  6.96150391e+00,  3.48990108e+00,  7.40124854e+00,\n",
       "        7.96309587e+00,  6.42684093e+00,  6.10992771e+00,  3.41650394e+00,\n",
       "        8.15770841e+00,  5.11253680e+00,  5.65796781e+00,  7.48912589e+00,\n",
       "        3.88138794e+00,  4.10980655e+00,  9.10834798e+00,  6.82844752e+00,\n",
       "        3.74740397e+00,  1.36249366e-01,  7.23124497e+00,  5.37913793e+00,\n",
       "        4.55171135e+00,  4.87798497e+00,  4.06844550e+00,  2.51258760e+00,\n",
       "        2.52021151e+00,  4.55243243e+00,  4.37038326e+00,  5.82591521e+00,\n",
       "       -6.76934530e-01,  5.30780391e+00,  1.32234889e+00,  5.24901622e+00,\n",
       "        7.01450970e+00,  3.33287397e+00,  5.40783505e+00,  3.83458196e+00,\n",
       "        5.18949187e+00,  3.46646141e+00,  7.38786642e+00,  2.19569226e+00,\n",
       "        3.37894552e+00,  9.07964369e+00,  2.50649752e+00,  6.75550278e+00,\n",
       "       -4.81957372e-01,  8.21434192e+00,  7.55456394e+00,  5.81291759e+00,\n",
       "        4.86136950e+00,  4.74081104e+00,  4.14099790e+00,  2.79862480e+00,\n",
       "        2.27230572e+00,  4.52146027e+00,  3.55928310e+00,  2.86321245e+00,\n",
       "        6.02998554e+00,  4.12641995e+00,  3.80729812e+00,  5.36911833e+00,\n",
       "        2.87144282e+00,  2.96022961e+00,  4.47684318e+00,  5.17874999e+00,\n",
       "        7.82988146e+00,  2.39614262e+00,  6.93604353e+00,  3.91449838e+00,\n",
       "        4.44404359e+00,  7.73730427e+00,  7.18052580e+00,  9.95551008e+00,\n",
       "        4.03816757e+00,  4.75851782e+00,  8.75927877e+00,  1.20112415e+00,\n",
       "        4.32362689e+00,  5.57952465e+00,  7.17800544e+00,  3.30724852e+00,\n",
       "        4.82208145e+00,  2.29244674e+00,  3.57006259e+00,  3.11832671e+00,\n",
       "        7.82495132e+00,  3.75674809e+00,  4.22018739e+00,  4.36713701e+00,\n",
       "        6.01326430e+00,  3.50197861e+00,  5.48185868e+00,  6.34295523e+00,\n",
       "        2.77973843e+00,  3.90421126e+00,  4.48042937e+00,  5.54933604e+00,\n",
       "        3.92221348e+00,  5.60345621e+00,  6.53046053e+00,  1.30447456e+00,\n",
       "        2.89898984e+00,  8.54901323e+00,  3.85271006e+00,  5.58783001e+00,\n",
       "        4.38158829e+00,  5.66650687e+00,  4.51629378e+00,  4.19565712e-01,\n",
       "        3.42129391e+00,  5.79179794e+00,  3.93926754e+00,  7.73804380e+00,\n",
       "        6.68082682e+00,  1.96410503e+00,  5.25224650e+00,  1.79141981e+00,\n",
       "        4.30978918e+00,  6.26054705e+00,  5.37738794e+00,  5.27560447e+00,\n",
       "        3.52022963e+00,  4.20606241e+00,  6.05270191e+00,  3.50465533e+00,\n",
       "        4.06664930e+00,  5.69352603e+00,  3.22021675e+00,  4.20928638e-01,\n",
       "        7.36587112e+00,  5.48970169e+00,  3.28957972e+00,  4.95900213e+00,\n",
       "        8.53106403e+00,  4.00987165e+00,  5.16959169e+00,  3.06423343e+00,\n",
       "        5.45562697e+00,  5.46227901e+00,  4.60799226e+00,  6.74432020e+00,\n",
       "        4.33601426e+00,  9.43732938e+00,  4.20718532e+00,  6.97064529e+00,\n",
       "        8.62433317e+00,  7.11242403e+00,  5.30176304e+00,  6.00977943e+00,\n",
       "        2.28222351e+00,  7.22255779e+00,  7.09400171e+00,  4.17532927e+00,\n",
       "        4.90622622e+00,  6.31640695e+00,  3.37729325e+00,  4.01776607e+00,\n",
       "        4.10137656e+00,  6.21984780e+00,  4.20749849e+00,  3.29484161e+00,\n",
       "        2.13258916e+00,  7.42792359e+00,  5.14657840e+00,  5.92462009e+00,\n",
       "        4.91280321e+00,  1.32720629e+00,  5.16438631e+00,  5.60140980e+00,\n",
       "        7.31243815e+00,  4.23542637e+00,  3.27670192e+00,  3.89785856e+00,\n",
       "        4.37374750e+00,  3.32073134e+00,  4.79790434e+00,  2.39601210e+00,\n",
       "        4.45565819e+00,  7.51380220e+00,  5.42638499e+00,  4.25617025e+00,\n",
       "        3.10729769e+00,  3.77491103e+00,  7.65202687e+00,  2.99188001e+00,\n",
       "        8.12368185e+00,  4.08814097e+00,  5.09764136e+00,  7.13813322e+00,\n",
       "        1.41491667e+00,  6.56867798e+00, -1.09474501e-01,  7.52326325e+00,\n",
       "        6.71345080e+00,  6.90001741e+00,  5.33434284e+00,  3.81516191e+00,\n",
       "        6.89586698e+00,  2.78577449e+00,  1.79211000e+00,  4.52340657e+00,\n",
       "        4.71437806e+00,  6.58608699e+00,  7.32984441e+00,  6.25294867e+00,\n",
       "        6.25993267e+00,  6.04598569e+00,  5.97949804e+00,  4.49382332e+00,\n",
       "        5.95742795e+00,  4.45458105e+00,  5.76018602e+00,  3.24557158e+00,\n",
       "        4.19708384e+00,  4.70046791e+00,  3.12947185e+00,  4.21537961e+00,\n",
       "        5.52060418e+00,  4.71413718e-01,  2.25310371e+00,  7.20361346e-01,\n",
       "        4.83760781e+00,  7.86343520e+00,  4.74836671e+00,  3.41082963e+00,\n",
       "        2.92150542e+00,  3.21463071e+00,  2.44839784e+00,  3.38536222e+00,\n",
       "       -2.19900950e+00,  3.18781855e+00,  7.43504966e+00,  7.44377227e+00,\n",
       "        3.28694524e+00,  5.98508926e+00,  3.09263618e+00,  5.95663701e+00,\n",
       "        5.76678455e+00,  2.44993986e+00,  5.38104660e+00,  1.05632179e+01,\n",
       "        3.36125026e+00,  5.79218565e+00,  4.58721703e+00,  5.90459329e+00,\n",
       "        2.36541191e+00,  5.48982659e+00,  3.70300513e+00,  4.49937146e+00,\n",
       "        2.23798196e+00,  4.78113222e+00,  9.26497462e+00,  1.87743878e+00,\n",
       "        6.07504167e+00,  2.11127585e+00,  3.96183700e+00,  4.53627924e+00,\n",
       "        2.88506748e+00,  1.36307980e+00,  5.45139621e+00,  3.99101863e+00,\n",
       "        4.78546845e+00,  4.03053836e+00,  6.43120547e+00,  3.92231787e+00,\n",
       "        3.90382092e+00,  8.83905554e+00,  5.17627972e+00,  5.52329339e+00,\n",
       "        6.33505660e+00,  4.26493807e+00,  5.72415379e+00,  3.37106297e+00,\n",
       "        8.91794940e+00,  4.38967344e+00,  7.42890414e+00,  8.46212023e+00,\n",
       "        8.06621081e+00,  2.94887612e+00,  2.22079900e+00,  8.52761758e+00,\n",
       "        5.55817644e+00,  5.45177507e+00,  5.05756494e+00,  2.58731162e+00,\n",
       "        5.09958091e+00,  2.73893387e+00,  7.68731596e+00,  3.68414901e+00,\n",
       "        5.65172931e+00,  4.24003790e+00,  3.97700060e+00,  5.01220601e+00,\n",
       "        5.66045628e+00,  6.08793696e+00,  1.38017742e+01,  5.77706920e+00,\n",
       "        5.26201172e+00,  5.27281478e+00,  4.78473678e+00,  4.61652617e+00,\n",
       "        6.55147848e+00,  4.44552567e+00,  5.62226419e+00,  5.89353862e+00,\n",
       "        5.58533573e+00,  3.54424104e+00,  1.94061900e+00,  6.19733937e+00,\n",
       "        8.85271127e+00,  6.10542427e+00,  4.60123764e+00,  5.75101091e+00,\n",
       "        4.71665985e+00,  7.46631370e+00,  4.37568051e+00,  9.20551381e+00,\n",
       "        4.13326937e+00,  1.48504764e+00,  3.01150920e+00,  3.88673482e+00,\n",
       "        2.02245269e+00,  5.96084776e+00,  2.67369981e+00,  3.11175436e+00,\n",
       "        7.51312108e+00,  3.00835891e+00,  3.11708606e+00,  5.07421467e+00,\n",
       "        6.64234124e+00,  6.89661018e+00,  2.61231326e+00,  4.45180926e+00,\n",
       "        6.74913590e+00,  8.47328524e+00,  4.16730703e+00,  6.37538619e+00,\n",
       "        4.75669090e+00,  6.73674953e+00,  6.68972561e+00,  6.78935638e+00,\n",
       "        3.98183289e+00,  4.86443162e+00,  8.21663740e-01,  6.81439900e+00,\n",
       "        3.31627456e+00,  3.04519726e+00,  3.29265863e+00,  5.95228920e+00,\n",
       "        6.53272406e+00,  4.59004589e+00,  3.25490204e+00,  6.36062589e+00,\n",
       "        5.61118203e+00,  4.14834652e+00,  6.56400575e+00,  1.19235745e+00,\n",
       "        3.49464420e+00,  6.91799411e+00,  5.54075939e+00,  6.26338721e+00,\n",
       "        3.75233647e+00,  6.00741587e+00,  5.31566119e+00,  6.08910274e+00,\n",
       "        3.50850188e+00,  7.06489191e+00,  4.68722544e+00,  3.38758047e+00,\n",
       "        4.45910068e+00,  7.43370739e+00,  7.23032657e+00,  9.52732979e+00,\n",
       "        8.19975270e+00,  5.45092057e+00,  4.18586834e+00,  3.74639784e+00,\n",
       "        7.69701933e+00,  8.19664357e+00,  3.36507460e+00,  5.49413278e+00,\n",
       "        3.31887595e+00,  5.42258389e+00,  8.09740722e+00,  1.85217308e+00,\n",
       "        5.72275344e+00,  3.86152044e+00,  8.24338168e+00,  5.43561818e+00,\n",
       "        2.93016389e+00,  5.51451015e+00,  7.04980791e+00,  6.03445696e+00,\n",
       "        1.01955997e+01,  1.69519042e+00,  7.89700790e+00,  4.76399663e+00,\n",
       "        1.76669043e+00,  9.82235666e-02,  7.60427538e+00,  4.66318670e+00,\n",
       "        7.22547346e+00,  5.88641288e+00,  3.09579872e+00,  1.86002147e+00,\n",
       "        6.23364704e+00,  3.48587944e+00,  1.79061163e+00,  6.12161449e+00,\n",
       "        4.46587253e+00,  6.34597080e+00,  5.04993501e+00,  3.41265053e+00,\n",
       "        3.09616946e+00,  2.74094362e+00,  6.07756672e+00,  7.76085830e+00,\n",
       "        3.48618323e+00,  7.39250337e+00,  6.78401298e+00,  4.38542744e+00,\n",
       "        7.85063059e+00,  3.98487178e+00,  1.30709097e+00,  8.24143267e+00,\n",
       "        4.79372482e+00,  5.47598231e+00,  6.61479644e+00,  5.45000948e+00,\n",
       "        5.47301409e+00,  3.53525133e+00,  6.14310655e+00,  4.26917156e+00,\n",
       "        9.04057271e+00,  4.34629814e+00,  6.61965684e+00,  6.66167455e+00,\n",
       "        4.91069600e+00,  2.19209422e+00,  3.51746553e+00,  7.04755722e-01,\n",
       "        6.59274554e+00,  8.89776030e+00,  5.40340663e+00,  4.82263853e+00,\n",
       "        4.78228207e+00,  8.35865720e+00,  4.29960976e+00,  4.42391978e+00,\n",
       "        7.79176628e+00,  5.42822714e+00,  7.28150469e+00,  7.30292257e+00,\n",
       "        8.66002894e+00,  3.17025856e+00,  2.21211157e+00,  4.42619635e+00,\n",
       "        5.88379079e+00,  6.28059409e+00,  6.41351512e+00,  5.15063603e+00,\n",
       "        5.07632016e+00,  8.28707027e+00,  3.06967232e+00,  2.30456928e+00,\n",
       "        4.32302410e+00,  2.91131551e+00,  5.28708565e+00,  7.07695276e+00,\n",
       "        1.82301063e+00,  6.46556123e+00,  6.51302291e+00,  4.26029994e+00,\n",
       "        4.97249338e+00,  5.05073397e+00,  3.67404600e+00,  9.88019535e+00,\n",
       "        4.35748174e+00,  6.29571795e+00,  9.04978692e+00,  6.42107402e+00,\n",
       "        8.41040416e+00,  5.34236236e+00,  8.61514146e+00,  4.82687237e+00,\n",
       "        2.08946882e+00,  4.53029368e+00,  4.91474960e+00,  5.28194180e+00,\n",
       "        5.88415208e+00,  2.19527999e+00,  6.16735966e+00,  7.11225342e+00,\n",
       "        3.44842647e+00,  7.07346533e+00,  8.17707567e+00,  7.52362646e+00,\n",
       "        1.63564125e+00,  3.59508220e+00,  8.39212856e+00,  1.57617769e+00,\n",
       "        2.35267838e+00,  8.30621327e+00,  7.52706094e+00,  5.77090303e+00,\n",
       "        5.06520771e+00,  6.93859934e+00,  5.02461907e+00,  3.56203617e+00,\n",
       "        5.33894323e+00,  3.69635318e+00,  6.14641406e+00,  4.36291476e+00,\n",
       "        8.56480880e+00,  3.96364365e+00,  5.36223559e+00,  6.88482169e+00,\n",
       "        1.85020246e+00,  4.57205980e+00,  7.51018137e+00,  6.89239835e+00,\n",
       "        3.45825396e+00,  7.49818967e+00,  6.04990496e+00,  3.19127587e+00,\n",
       "        4.86695171e+00,  6.82303995e+00,  4.00722463e+00,  7.03235788e+00,\n",
       "        5.89116873e+00,  2.17453830e+00,  6.69840287e+00,  2.93493621e+00,\n",
       "        4.39349909e+00,  2.44336451e+00,  5.20852256e+00,  4.29554554e+00,\n",
       "        2.87278432e+00,  5.70128124e+00,  4.69224676e+00,  2.12087044e+00,\n",
       "        4.56672575e+00,  4.00997489e+00,  3.39732029e+00,  4.37542227e+00,\n",
       "        5.69385084e+00,  5.06243845e+00,  5.62809091e+00,  4.64216848e+00,\n",
       "        5.41983225e+00,  7.60248726e+00,  7.37267600e+00,  6.39714151e+00,\n",
       "        6.19066615e+00,  3.16349916e+00,  3.46653238e+00,  4.00235205e+00,\n",
       "        4.91516523e+00,  5.24474326e+00,  4.85163902e+00,  5.27521697e+00,\n",
       "        5.20250485e+00,  7.34658564e+00,  3.75982808e+00,  2.43840734e+00,\n",
       "        2.81795685e+00,  5.40386603e+00,  8.25586642e+00,  3.21565988e+00,\n",
       "        5.11672152e+00,  1.49509631e+00,  2.19498661e+00,  5.41154610e+00,\n",
       "        6.69871901e+00,  5.52802888e+00,  4.65765808e+00,  5.90760031e+00,\n",
       "        5.47720467e+00,  2.93069944e+00,  6.06484269e+00,  5.12865217e+00,\n",
       "        4.82839766e+00,  4.65501158e+00,  4.58208693e+00,  6.54847742e+00,\n",
       "        7.79643414e+00,  4.10819707e+00,  4.13573748e+00,  5.07577134e+00,\n",
       "        4.24675043e+00,  4.87737026e+00,  6.02495922e+00,  4.96902236e+00,\n",
       "        1.19384954e+00,  2.48437715e+00,  7.38861010e+00,  5.42872009e+00,\n",
       "        6.23848748e+00,  7.10277497e+00,  4.66497277e+00,  7.96189808e+00,\n",
       "        8.56022185e+00,  6.39185187e+00,  7.87401043e+00,  3.98487308e+00,\n",
       "        5.10335666e+00,  3.05635178e+00,  7.60556051e+00,  7.69166996e+00,\n",
       "        4.76003662e+00,  2.56165468e+00,  8.63542460e+00,  1.09043161e+00,\n",
       "        5.38066816e+00,  2.04136246e+00,  6.59724744e+00,  5.70148945e+00,\n",
       "        4.02333944e+00,  5.04399426e+00,  8.18378682e+00,  4.24060679e+00,\n",
       "        4.49146087e+00,  6.81603793e+00,  2.50410025e+00,  6.33543781e+00,\n",
       "        6.37849455e+00,  2.28414098e+00,  5.86349504e+00,  5.58366408e+00,\n",
       "       -1.41368592e-01,  9.98668925e+00,  7.81502860e+00,  3.74850520e+00,\n",
       "        6.42874132e+00,  7.88845394e+00,  4.77377592e+00,  5.02550978e+00,\n",
       "        3.36638413e+00,  5.16249445e+00,  4.28411743e+00,  6.52429727e+00,\n",
       "        3.20930829e+00,  4.40109768e+00,  3.39216335e+00,  5.61053181e+00,\n",
       "        6.32201343e+00,  7.61836489e+00,  4.40607490e+00,  6.23024051e+00,\n",
       "        5.64200050e+00,  4.19005807e+00,  3.33477421e+00,  6.44958081e+00,\n",
       "        3.32490806e+00,  4.88648269e+00,  3.75021969e+00,  7.29175707e+00,\n",
       "        4.76924315e+00,  5.41885216e+00,  3.09303907e+00,  6.29534690e+00,\n",
       "        6.78148588e+00,  3.34807142e+00,  3.63607101e+00,  1.07893529e+01,\n",
       "        2.75697657e+00,  5.72922314e+00,  6.14063590e+00,  6.55783225e+00,\n",
       "        9.45780925e-01,  3.71930646e+00,  3.99207830e-01,  4.94061448e+00,\n",
       "        6.28065035e+00,  5.63954247e+00,  6.67032831e+00,  4.08439086e+00,\n",
       "        3.70665166e+00,  6.32676657e+00,  3.97414889e+00,  4.21636788e+00,\n",
       "        5.73137431e+00,  3.44021451e+00,  4.98328942e+00,  4.15063986e+00,\n",
       "        4.65527789e+00,  8.99705529e+00,  8.17490342e+00,  3.26790443e+00,\n",
       "        5.07221193e+00,  6.10366950e+00,  2.42574651e+00,  1.27245307e+00,\n",
       "        3.94250931e+00,  7.17972871e+00,  5.62010870e+00,  6.06867728e+00,\n",
       "        2.37676039e+00,  6.55071194e+00,  2.50744828e+00,  3.97673745e+00,\n",
       "        7.19889604e+00,  6.56016287e+00,  3.01971473e+00,  4.63483023e+00,\n",
       "        5.82948402e+00,  3.77510628e+00,  4.11846799e+00, -2.56312308e-03,\n",
       "        2.65739818e+00,  4.99987410e+00,  5.55017617e+00,  3.94674261e+00,\n",
       "        3.90214529e+00,  6.50734255e+00,  2.65505575e+00,  7.31501320e+00,\n",
       "        4.67421973e+00,  5.88058030e+00,  3.67008574e+00,  2.25801868e+00,\n",
       "        9.54841187e+00,  1.45156297e+00,  6.66187386e+00,  4.23131529e+00,\n",
       "        1.29213162e+00,  3.99762224e+00,  3.53691059e+00,  6.63195842e+00,\n",
       "        5.50699591e+00,  6.90148307e+00,  7.66638857e+00,  1.77621273e+00,\n",
       "        4.67486541e+00,  5.19825271e+00,  8.68950291e+00,  6.30631630e+00,\n",
       "        5.10957900e+00,  6.11672855e+00,  8.42491628e+00,  8.54438044e+00,\n",
       "        3.07180356e+00,  4.05222022e+00,  5.61668328e+00,  6.34367298e+00,\n",
       "        5.52942340e+00,  5.02011921e+00,  5.47983056e+00,  3.64746588e+00,\n",
       "        5.36645136e+00,  7.45397900e+00,  3.28958609e+00,  5.70166860e+00,\n",
       "        4.38951863e+00,  4.46702240e+00,  6.04826384e+00,  4.69657965e+00])"
      ]
     },
     "execution_count": 6,
     "metadata": {},
     "output_type": "execute_result"
    }
   ],
   "source": [
    "normal_dist"
   ]
  },
  {
   "cell_type": "code",
   "execution_count": 5,
   "metadata": {},
   "outputs": [
    {
     "data": {
      "text/plain": [
       "8.171241461241152e-17"
      ]
     },
     "execution_count": 5,
     "metadata": {},
     "output_type": "execute_result"
    }
   ],
   "source": [
    "# Here, let's standardize by hand\n",
    "# (x - mean) / std\n",
    "z_dist = [(x - np.mean(normal_dist)) / np.std(normal_dist)\n",
    "          for x in normal_dist]\n",
    "\n",
    "np.mean(z_dist)"
   ]
  },
  {
   "cell_type": "code",
   "execution_count": 7,
   "metadata": {},
   "outputs": [
    {
     "data": {
      "image/png": "[encoded data removed]",
      "text/plain": [
       "<Figure size 720x432 with 2 Axes>"
      ]
     },
     "metadata": {
      "needs_background": "light"
     },
     "output_type": "display_data"
    }
   ],
   "source": [
    "# Visualize it\n",
    "fig, (ax0, ax1) = plt.subplots(nrows=2, sharex=True, figsize=(10, 6))\n",
    "\n",
    "sns.histplot(data=normal_dist, ax=ax0)\n",
    "ax0.set_title('Before Standardization')\n",
    "\n",
    "sns.histplot(data=z_dist, ax=ax1)\n",
    "ax1.set_title('After Standardization')\n",
    "\n",
    "plt.tight_layout()"
   ]
  },
  {
   "cell_type": "markdown",
   "metadata": {
    "hidden": true
   },
   "source": [
    "Talking about the **standard normal distribution** can be very convenient since the values correspond to the number of standard deviations above or below the mean."
   ]
  },
  {
   "cell_type": "markdown",
   "metadata": {
    "heading_collapsed": true,
    "hidden": true
   },
   "source": [
    "## $z$-Score"
   ]
  },
  {
   "cell_type": "markdown",
   "metadata": {
    "hidden": true
   },
   "source": [
    "A **$z$-score** for a specific data point $x$ (in a normal distribution) is simply the distance to the mean in the units of standard deviations\n",
    "\n",
    "$$\\large z = \\frac{x - \\mu}{\\sigma}$$\n",
    "\n",
    "By calculating the z-score of an individual point, we can see how unlikely a value is."
   ]
  },
  {
   "cell_type": "markdown",
   "metadata": {
    "hidden": true
   },
   "source": [
    "Here's a little site with some [interactive Gaussians](https://www.intmath.com/counting-probability/normal-distribution-graph-interactive.php)"
   ]
  },
  {
   "cell_type": "markdown",
   "metadata": {
    "heading_collapsed": true,
    "hidden": true
   },
   "source": [
    "#### 🧠 Knowledge Check"
   ]
  },
  {
   "cell_type": "markdown",
   "metadata": {
    "hidden": true
   },
   "source": [
    "What would the $z$-score be for the middle of a normal curve?\n",
    "\n",
    "- 0\n"
   ]
  },
  {
   "cell_type": "markdown",
   "metadata": {
    "heading_collapsed": true,
    "hidden": true
   },
   "source": [
    "### The Empirical Rule"
   ]
  },
  {
   "cell_type": "markdown",
   "metadata": {
    "hidden": true
   },
   "source": [
    "> Rule states that $68\\%$ of the values of a normal distribution of data lie within 1 standard deviation ($\\sigma$) of the mean, $95\\%$ within $2\\sigma$, and $99.7\\%$ within $3\\sigma$.  \n",
    "\n",
    "This makes it really quick to look at a normal distribution and understand where values tend to lie"
   ]
  },
  {
   "cell_type": "markdown",
   "metadata": {
    "hidden": true
   },
   "source": [
    "<img src='https://github.com/learn-co-students/dsc-0-09-12-gaussian-distributions-online-ds-ft-031119/blob/master/normalsd.jpg?raw=true' width=700/>"
   ]
  },
  {
   "cell_type": "markdown",
   "metadata": {
    "heading_collapsed": true,
    "hidden": true
   },
   "source": [
    "#### 🧠 Knowledge Check"
   ]
  },
  {
   "cell_type": "markdown",
   "metadata": {
    "hidden": true
   },
   "source": [
    "About what percentage of the values would be between a $z$-score of $-1$ and a $z$-score of $2$?\n",
    "\n",
    "<details>\n",
    "    <summary>Answer</summary>\n",
    "    About $82\\%$\n",
    "</details>"
   ]
  },
  {
   "cell_type": "markdown",
   "metadata": {
    "heading_collapsed": true
   },
   "source": [
    "# Exercises"
   ]
  },
  {
   "cell_type": "markdown",
   "metadata": {},
   "source": [
    "The distribution of people's heights in the United States has a **mean of 66 inches** and a **standard deviation of 4 inches**. "
   ]
  },
  {
   "cell_type": "markdown",
   "metadata": {
    "heading_collapsed": true,
    "hidden": true
   },
   "source": [
    "## Height $z$-score"
   ]
  },
  {
   "cell_type": "markdown",
   "metadata": {
    "hidden": true
   },
   "source": [
    "Calculate the z-score of a height of **76 inches.**"
   ]
  },
  {
   "cell_type": "code",
   "execution_count": 8,
   "metadata": {
    "hidden": true
   },
   "outputs": [
    {
     "data": {
      "text/plain": [
       "2.5"
      ]
     },
     "execution_count": 8,
     "metadata": {},
     "output_type": "execute_result"
    }
   ],
   "source": [
    "# Your code here\n",
    "(76-66)/4"
   ]
  },
  {
   "cell_type": "markdown",
   "metadata": {},
   "source": [
    "<details>\n",
    "    <summary>Answer</summary>\n",
    "    <code># z-score: z = (x - mu) / std\n",
    "(76 - 66) / 4</code>\n",
    "</details>"
   ]
  },
  {
   "cell_type": "markdown",
   "metadata": {},
   "source": [
    "#### Describe the z-score - what does it tell us?\n",
    "\n",
    "- A height of 76in is 2.5 stdevs above pop mean\n"
   ]
  },
  {
   "cell_type": "code",
   "execution_count": 11,
   "metadata": {},
   "outputs": [
    {
     "data": {
      "text/plain": [
       "0.006209665325776159"
      ]
     },
     "execution_count": 11,
     "metadata": {},
     "output_type": "execute_result"
    }
   ],
   "source": [
    "1-stats.norm(loc=0,scale=1).cdf(2.5)"
   ]
  },
  {
   "cell_type": "markdown",
   "metadata": {
    "heading_collapsed": true,
    "hidden": true
   },
   "source": [
    "## Height Empirical Rule"
   ]
  },
  {
   "cell_type": "markdown",
   "metadata": {
    "hidden": true
   },
   "source": [
    "Determine the proportion of those whose height is between **62 inches and 74 inches**."
   ]
  },
  {
   "cell_type": "code",
   "execution_count": 13,
   "metadata": {},
   "outputs": [],
   "source": [
    "# Your code here\n",
    "z_62 = (62-66)/4\n",
    "z_74 = (74-66)/4"
   ]
  },
  {
   "cell_type": "markdown",
   "metadata": {},
   "source": [
    "<details>\n",
    "    <summary>Answer 1</summary>\n",
    "<code># z-scores for 62\" and 74\":\n",
    "z_62 = (62 - 66) / 4\n",
    "z_74 = (74 - 66) / 4\n",
    "z_62, z_74</code>\n",
    "    </details>"
   ]
  },
  {
   "cell_type": "markdown",
   "metadata": {},
   "source": [
    "<details>\n",
    "    <summary>Answer 2</summary>\n",
    "    <code>heights = stats.norm(loc=66, scale=4)\n",
    "heights.cdf(74) - heights.cdf(62)</code>\n",
    "    </details>"
   ]
  },
  {
   "cell_type": "code",
   "execution_count": 14,
   "metadata": {},
   "outputs": [],
   "source": [
    "height_dist = stats.norm(loc=66,scale=4)"
   ]
  },
  {
   "cell_type": "code",
   "execution_count": 15,
   "metadata": {},
   "outputs": [
    {
     "data": {
      "text/plain": [
       "0.9772498680518208"
      ]
     },
     "execution_count": 15,
     "metadata": {},
     "output_type": "execute_result"
    }
   ],
   "source": [
    "height_dist.cdf(74)"
   ]
  },
  {
   "cell_type": "code",
   "execution_count": 16,
   "metadata": {},
   "outputs": [
    {
     "data": {
      "text/plain": [
       "0.15865525393145707"
      ]
     },
     "execution_count": 16,
     "metadata": {},
     "output_type": "execute_result"
    }
   ],
   "source": [
    "height_dist.cdf(62)"
   ]
  },
  {
   "cell_type": "markdown",
   "metadata": {
    "heading_collapsed": true,
    "hidden": true
   },
   "source": [
    "## Height Percentile"
   ]
  },
  {
   "cell_type": "markdown",
   "metadata": {
    "hidden": true
   },
   "source": [
    "Assuming the above distribution of people's heights in the United States is approximately normal, what percent of people have a height **less than 75 inches**?"
   ]
  },
  {
   "cell_type": "code",
   "execution_count": 17,
   "metadata": {},
   "outputs": [
    {
     "data": {
      "text/plain": [
       "0.9877755273449553"
      ]
     },
     "execution_count": 17,
     "metadata": {},
     "output_type": "execute_result"
    }
   ],
   "source": [
    "# Your code here\n",
    "height_dist.cdf(75)"
   ]
  },
  {
   "cell_type": "markdown",
   "metadata": {},
   "source": [
    "<details>\n",
    "    <summary>Answer</summary>\n",
    "    <code>heights.cdf(75)</code>\n",
    "    </details>"
   ]
  },
  {
   "cell_type": "markdown",
   "metadata": {
    "heading_collapsed": true,
    "hidden": true
   },
   "source": [
    "## Bonus"
   ]
  },
  {
   "cell_type": "markdown",
   "metadata": {
    "hidden": true
   },
   "source": [
    "Assuming the above distribution of people's heights in the United States is approximately normal, what range of heights contain the **middle 50% of values**, also known as the _interquartile range_ (IQR)?"
   ]
  },
  {
   "cell_type": "code",
   "execution_count": 21,
   "metadata": {},
   "outputs": [
    {
     "data": {
      "text/plain": [
       "-0.6744897501960817"
      ]
     },
     "execution_count": 21,
     "metadata": {},
     "output_type": "execute_result"
    }
   ],
   "source": [
    "z_dist = stats.norm(loc=0,scale=1)\n",
    "z_dist.ppf(.25)"
   ]
  },
  {
   "cell_type": "code",
   "execution_count": 20,
   "metadata": {},
   "outputs": [
    {
     "data": {
      "text/plain": [
       "(63.30204099921567, 68.69795900078432)"
      ]
     },
     "execution_count": 20,
     "metadata": {},
     "output_type": "execute_result"
    }
   ],
   "source": [
    "#ppf = point percentile function -> gives value corresponding to that percentile\n",
    "height_dist.ppf(.25), height_dist.ppf(.75)"
   ]
  },
  {
   "cell_type": "markdown",
   "metadata": {},
   "source": [
    "<details>\n",
    "    <summary>Answer</summary>\n",
    "    <code>heights.ppf(0.25), heights.ppf(0.75)</code>\n",
    "    </details>"
   ]
  },
  {
   "cell_type": "markdown",
   "metadata": {},
   "source": [
    "## Time for Pandas!\n",
    "\n",
    "Let's use the same Seattle City Employee data from the first Distributions lecture to check out what scaling looks like in practice!\n",
    "\n",
    "Data source: https://data.seattle.gov/City-Business/City-of-Seattle-Wage-Data/2khk-5ukd"
   ]
  },
  {
   "cell_type": "code",
   "execution_count": 22,
   "metadata": {},
   "outputs": [],
   "source": [
    "# Read in the data\n",
    "df = pd.read_csv('data/City_of_Seattle_Wage_Data_031422.csv')"
   ]
  },
  {
   "cell_type": "code",
   "execution_count": 23,
   "metadata": {},
   "outputs": [
    {
     "data": {
      "text/html": [
       "<div>\n",
       "<style scoped>\n",
       "    .dataframe tbody tr th:only-of-type {\n",
       "        vertical-align: middle;\n",
       "    }\n",
       "\n",
       "    .dataframe tbody tr th {\n",
       "        vertical-align: top;\n",
       "    }\n",
       "\n",
       "    .dataframe thead th {\n",
       "        text-align: right;\n",
       "    }\n",
       "</style>\n",
       "<table border=\"1\" class=\"dataframe\">\n",
       "  <thead>\n",
       "    <tr style=\"text-align: right;\">\n",
       "      <th></th>\n",
       "      <th>Department</th>\n",
       "      <th>Last Name</th>\n",
       "      <th>First Name</th>\n",
       "      <th>Job Title</th>\n",
       "      <th>Hourly Rate</th>\n",
       "    </tr>\n",
       "  </thead>\n",
       "  <tbody>\n",
       "    <tr>\n",
       "      <th>0</th>\n",
       "      <td>Seattle Public Utilities</td>\n",
       "      <td>Batchelor</td>\n",
       "      <td>Craig</td>\n",
       "      <td>Civil Engrng Spec,Sr</td>\n",
       "      <td>53.740</td>\n",
       "    </tr>\n",
       "    <tr>\n",
       "      <th>1</th>\n",
       "      <td>Finance &amp; Admin Services</td>\n",
       "      <td>Altice</td>\n",
       "      <td>Jeffrey</td>\n",
       "      <td>Auto Mechanic</td>\n",
       "      <td>39.780</td>\n",
       "    </tr>\n",
       "    <tr>\n",
       "      <th>2</th>\n",
       "      <td>Finance &amp; Admin Services</td>\n",
       "      <td>Montes</td>\n",
       "      <td>Valeria</td>\n",
       "      <td>Cust Svc Rep</td>\n",
       "      <td>29.450</td>\n",
       "    </tr>\n",
       "    <tr>\n",
       "      <th>3</th>\n",
       "      <td>Fire Department</td>\n",
       "      <td>Kuklok</td>\n",
       "      <td>Rebecca</td>\n",
       "      <td>Cust Svc Rep *</td>\n",
       "      <td>29.450</td>\n",
       "    </tr>\n",
       "    <tr>\n",
       "      <th>4</th>\n",
       "      <td>Planning &amp; Comm Development</td>\n",
       "      <td>Quirindongo</td>\n",
       "      <td>Rico</td>\n",
       "      <td>Executive3</td>\n",
       "      <td>97.164</td>\n",
       "    </tr>\n",
       "  </tbody>\n",
       "</table>\n",
       "</div>"
      ],
      "text/plain": [
       "                    Department    Last Name First Name             Job Title  \\\n",
       "0     Seattle Public Utilities    Batchelor      Craig  Civil Engrng Spec,Sr   \n",
       "1     Finance & Admin Services       Altice    Jeffrey         Auto Mechanic   \n",
       "2     Finance & Admin Services       Montes    Valeria          Cust Svc Rep   \n",
       "3              Fire Department       Kuklok    Rebecca        Cust Svc Rep *   \n",
       "4  Planning & Comm Development  Quirindongo       Rico            Executive3   \n",
       "\n",
       "   Hourly Rate   \n",
       "0        53.740  \n",
       "1        39.780  \n",
       "2        29.450  \n",
       "3        29.450  \n",
       "4        97.164  "
      ]
     },
     "execution_count": 23,
     "metadata": {},
     "output_type": "execute_result"
    }
   ],
   "source": [
    "# Check it\n",
    "df.head()"
   ]
  },
  {
   "cell_type": "code",
   "execution_count": 24,
   "metadata": {},
   "outputs": [],
   "source": [
    "# Rename the columns\n",
    "df = df.rename(columns = lambda x: x.replace(\" \", \"\"))"
   ]
  },
  {
   "cell_type": "code",
   "execution_count": 25,
   "metadata": {},
   "outputs": [
    {
     "data": {
      "text/html": [
       "<div>\n",
       "<style scoped>\n",
       "    .dataframe tbody tr th:only-of-type {\n",
       "        vertical-align: middle;\n",
       "    }\n",
       "\n",
       "    .dataframe tbody tr th {\n",
       "        vertical-align: top;\n",
       "    }\n",
       "\n",
       "    .dataframe thead th {\n",
       "        text-align: right;\n",
       "    }\n",
       "</style>\n",
       "<table border=\"1\" class=\"dataframe\">\n",
       "  <thead>\n",
       "    <tr style=\"text-align: right;\">\n",
       "      <th></th>\n",
       "      <th>HourlyRate</th>\n",
       "    </tr>\n",
       "  </thead>\n",
       "  <tbody>\n",
       "    <tr>\n",
       "      <th>count</th>\n",
       "      <td>11739.000000</td>\n",
       "    </tr>\n",
       "    <tr>\n",
       "      <th>mean</th>\n",
       "      <td>47.817331</td>\n",
       "    </tr>\n",
       "    <tr>\n",
       "      <th>std</th>\n",
       "      <td>16.722128</td>\n",
       "    </tr>\n",
       "    <tr>\n",
       "      <th>min</th>\n",
       "      <td>5.530000</td>\n",
       "    </tr>\n",
       "    <tr>\n",
       "      <th>25%</th>\n",
       "      <td>35.400000</td>\n",
       "    </tr>\n",
       "    <tr>\n",
       "      <th>50%</th>\n",
       "      <td>47.340000</td>\n",
       "    </tr>\n",
       "    <tr>\n",
       "      <th>75%</th>\n",
       "      <td>59.550000</td>\n",
       "    </tr>\n",
       "    <tr>\n",
       "      <th>max</th>\n",
       "      <td>187.767000</td>\n",
       "    </tr>\n",
       "  </tbody>\n",
       "</table>\n",
       "</div>"
      ],
      "text/plain": [
       "         HourlyRate\n",
       "count  11739.000000\n",
       "mean      47.817331\n",
       "std       16.722128\n",
       "min        5.530000\n",
       "25%       35.400000\n",
       "50%       47.340000\n",
       "75%       59.550000\n",
       "max      187.767000"
      ]
     },
     "execution_count": 25,
     "metadata": {},
     "output_type": "execute_result"
    }
   ],
   "source": [
    "# Describe the numeric column\n",
    "df.describe()"
   ]
  },
  {
   "cell_type": "code",
   "execution_count": 26,
   "metadata": {},
   "outputs": [
    {
     "data": {
      "image/png": "[encoded data removed]",
      "text/plain": [
       "<Figure size 432x288 with 1 Axes>"
      ]
     },
     "metadata": {
      "needs_background": "light"
     },
     "output_type": "display_data"
    }
   ],
   "source": [
    "# Plot the hourly rate column - kernel density plot for continuous variable\n",
    "sns.kdeplot(df['HourlyRate']);"
   ]
  },
  {
   "cell_type": "markdown",
   "metadata": {},
   "source": [
    "How can we describe this distribution?\n",
    "\n",
    "- extreme high positive values, outliers\n",
    "- bimodal or maybe even trimodal\n",
    "- not perfectly normal, but it is kinda normal\n"
   ]
  },
  {
   "cell_type": "markdown",
   "metadata": {},
   "source": [
    "### Using Z-Scores"
   ]
  },
  {
   "cell_type": "code",
   "execution_count": 27,
   "metadata": {
    "scrolled": true
   },
   "outputs": [
    {
     "data": {
      "text/html": [
       "<div>\n",
       "<style scoped>\n",
       "    .dataframe tbody tr th:only-of-type {\n",
       "        vertical-align: middle;\n",
       "    }\n",
       "\n",
       "    .dataframe tbody tr th {\n",
       "        vertical-align: top;\n",
       "    }\n",
       "\n",
       "    .dataframe thead th {\n",
       "        text-align: right;\n",
       "    }\n",
       "</style>\n",
       "<table border=\"1\" class=\"dataframe\">\n",
       "  <thead>\n",
       "    <tr style=\"text-align: right;\">\n",
       "      <th></th>\n",
       "      <th>Department</th>\n",
       "      <th>LastName</th>\n",
       "      <th>FirstName</th>\n",
       "      <th>JobTitle</th>\n",
       "      <th>HourlyRate</th>\n",
       "    </tr>\n",
       "  </thead>\n",
       "  <tbody>\n",
       "    <tr>\n",
       "      <th>6334</th>\n",
       "      <td>Seattle City Light</td>\n",
       "      <td>Houseknecht</td>\n",
       "      <td>Aaron</td>\n",
       "      <td>Enrgy Mgmt Anlyst,Sr</td>\n",
       "      <td>61.19</td>\n",
       "    </tr>\n",
       "  </tbody>\n",
       "</table>\n",
       "</div>"
      ],
      "text/plain": [
       "              Department     LastName FirstName              JobTitle  \\\n",
       "6334  Seattle City Light  Houseknecht     Aaron  Enrgy Mgmt Anlyst,Sr   \n",
       "\n",
       "      HourlyRate  \n",
       "6334       61.19  "
      ]
     },
     "execution_count": 27,
     "metadata": {},
     "output_type": "execute_result"
    }
   ],
   "source": [
    "# Grab a sample row\n",
    "sample_row = df.sample(1)\n",
    "sample_row"
   ]
  },
  {
   "cell_type": "code",
   "execution_count": 28,
   "metadata": {},
   "outputs": [
    {
     "data": {
      "text/plain": [
       "0.7996989890328478"
      ]
     },
     "execution_count": 28,
     "metadata": {},
     "output_type": "execute_result"
    }
   ],
   "source": [
    "# Calculate the z-score for that row's HourlyRate\n",
    "(sample_row['HourlyRate'].values[0] - df['HourlyRate'].mean()) / df['HourlyRate'].std()"
   ]
  },
  {
   "cell_type": "code",
   "execution_count": 30,
   "metadata": {
    "scrolled": true
   },
   "outputs": [],
   "source": [
    "# Standardize the column\n",
    "mu = df['HourlyRate'].mean()\n",
    "sigma = df['HourlyRate'].std()\n",
    "standardized_rate = [(x-mu)/sigma for x in df['HourlyRate']]"
   ]
  },
  {
   "cell_type": "code",
   "execution_count": 31,
   "metadata": {},
   "outputs": [
    {
     "data": {
      "image/png": "[encoded data removed]",
      "text/plain": [
       "<Figure size 432x288 with 2 Axes>"
      ]
     },
     "metadata": {
      "needs_background": "light"
     },
     "output_type": "display_data"
    }
   ],
   "source": [
    "# Visualize it\n",
    "fig, (ax1, ax2) = plt.subplots(nrows=2, ncols=1, sharex=False)\n",
    "# Can toggle sharex to see the impact of the scale\n",
    "\n",
    "sns.kdeplot(df['HourlyRate'], ax=ax1, label='Without Scaling')\n",
    "ax1.legend()\n",
    "\n",
    "sns.kdeplot(standardized_rate, ax=ax2, label='With Scaling')\n",
    "ax2.legend()\n",
    "\n",
    "plt.show()"
   ]
  },
  {
   "cell_type": "markdown",
   "metadata": {},
   "source": [
    "Let's discuss:\n",
    "\n",
    "- we have standardized and shrunk our values. Values now are in units of standard deviations instead of the original units\n"
   ]
  },
  {
   "cell_type": "markdown",
   "metadata": {},
   "source": [
    "## Central Limit Theorem (CLT)\n",
    "\n",
    "We mentioned that the distribution above doesn't seem very normal. But here's something cool:\n",
    "\n",
    "> \"The central limit theorem states that the sampling distribution of the mean of any independent, random variable will be normal or nearly normal, if the sample size is large enough.\" \n",
    "- From [Stat Trek](https://stattrek.com/statistics/dictionary.aspx?definition=central_limit_theorem)"
   ]
  },
  {
   "cell_type": "markdown",
   "metadata": {},
   "source": [
    "Let's look at an example, using the popular Iris dataset:\n",
    "\n",
    "<img src=\"images/probability-basics.gif\" width=800>\n",
    "\n",
    "Here, taking samples of 15 flowers at a time and measuring their sepal lengths, we see that the the mean of the samples is normally distributed, where the mean of that normal distribution approximates the population mean. \n",
    "\n",
    "The coolest part is - this is true and works almost no matter what the original distribution is! (I say 'almost' because there are exceptions, of course). Even when we have _distinctly non-normal distributions_, we can use sampling to get a representation of population parameters (like the population mean)."
   ]
  },
  {
   "cell_type": "markdown",
   "metadata": {},
   "source": [
    "## Revisiting Sampling\n",
    "\n",
    "Before we apply a theorem that's related to sampling, we should remember some key things about sampling.\n",
    "\n",
    "<img src=\"images/sample_pop.png\" alt=\"sampling example with circled people\" width=800>\n",
    "\n",
    "Our goal when sampling is to find a representative group, from which we can infer population parameters.\n",
    "\n",
    "Remember: samples have statistics, populations have parameters.\n",
    "\n",
    "In order to do this effectively, our sample should be randomly selected and representative of our population (which sounds nice and easy, it's hard to do in practice). We are trying to minimize bias in our sample, but also we are sampling because we're trying to minimize cost as well."
   ]
  },
  {
   "cell_type": "markdown",
   "metadata": {},
   "source": [
    "### Back to our Seattle Data"
   ]
  },
  {
   "cell_type": "markdown",
   "metadata": {},
   "source": [
    "Let's take 100 samples of 50 employees each time, and see what their average hourly rate is:"
   ]
  },
  {
   "cell_type": "code",
   "execution_count": 34,
   "metadata": {},
   "outputs": [],
   "source": [
    "k = 1000 # number of samples\n",
    "n = 50 # number of employees per sample\n",
    "\n",
    "# The full for loop version:\n",
    "# sample_means = []\n",
    "# for x in range(n):\n",
    "#     sample_emps = df.sample(n=n)\n",
    "#     sample_mean = sample_emps['Hourly Rate '].mean()\n",
    "#     sample_means.append(sample_mean)\n",
    "    \n",
    "# But let's do this with list comprehension:\n",
    "sample_means = [np.mean(df.sample(n=n))[0] for x in range(k)]"
   ]
  },
  {
   "cell_type": "code",
   "execution_count": 35,
   "metadata": {
    "scrolled": false
   },
   "outputs": [
    {
     "data": {
      "image/png": "[encoded data removed]",
      "text/plain": [
       "<Figure size 576x432 with 1 Axes>"
      ]
     },
     "metadata": {
      "needs_background": "light"
     },
     "output_type": "display_data"
    }
   ],
   "source": [
    "# Plotting the distribution of our samples, plus our pop and sample means\n",
    "pop_mean = df['HourlyRate'].mean()\n",
    "samp_mean = np.mean(sample_means)\n",
    "\n",
    "plt.figure(figsize=(8,6))\n",
    "\n",
    "sns.histplot(sample_means)\n",
    "\n",
    "plt.vlines(pop_mean, ymin=0, ymax=25, color='r', linestyle=':',\n",
    "           label=f'Population Mean: {pop_mean:.2f}')\n",
    "plt.vlines(samp_mean, ymin=0, ymax=25, color='g', linestyle=':',\n",
    "           label=f'Mean of {k} Samples: {samp_mean:.2f}')\n",
    "\n",
    "plt.legend();"
   ]
  },
  {
   "cell_type": "markdown",
   "metadata": {},
   "source": [
    "Discuss:\n",
    "\n",
    "- \n"
   ]
  },
  {
   "cell_type": "markdown",
   "metadata": {
    "heading_collapsed": true
   },
   "source": [
    "-----\n",
    "\n",
    "\n",
    "# Level Up: Other Distributions"
   ]
  },
  {
   "cell_type": "markdown",
   "metadata": {
    "hidden": true
   },
   "source": [
    "The world is full of distributions to explore! See some other less-common ones below:"
   ]
  },
  {
   "cell_type": "markdown",
   "metadata": {
    "hidden": true
   },
   "source": [
    "![](images/distributions.png)"
   ]
  },
  {
   "cell_type": "markdown",
   "metadata": {
    "hidden": true
   },
   "source": [
    "Now that we know a few methods in visualizing distributions 📊👀, we can start looking at different types of distributions.\n",
    "\n",
    "We can tell a lot about a distribution shape such as taking a guess of the mechanism that it took to generate the data."
   ]
  },
  {
   "cell_type": "markdown",
   "metadata": {
    "heading_collapsed": true,
    "hidden": true
   },
   "source": [
    "## Distribution Types Exercise"
   ]
  },
  {
   "cell_type": "markdown",
   "metadata": {
    "hidden": true
   },
   "source": [
    "What type of distribution would you expect to best describe the following datasets?\n",
    "\n",
    "1. Survey responses about whether people voted\n",
    "2. Rolls on a six-sided die\n",
    "3. Numbers of defects in shipments of toys\n",
    "4. Output from a random number generator\n",
    "5. Measurements of palm tree heights"
   ]
  },
  {
   "cell_type": "markdown",
   "metadata": {
    "hidden": true
   },
   "source": [
    "**Your answers**\n",
    "\n",
    "1. Binomial\n",
    "2. Uniform\n",
    "3. Normal or Poisson (if looking at across shipments)\n",
    "4. Depends on which distribution we use\n",
    "5. Normal"
   ]
  },
  {
   "cell_type": "markdown",
   "metadata": {},
   "source": [
    "## Level Up: SKLearn's Standard Scaler\n",
    "\n",
    "Soon we'll be using a pre-built function to scale our data: https://scikit-learn.org/stable/modules/generated/sklearn.preprocessing.StandardScaler.html\n",
    "\n",
    "Let's go ahead and peek at our first `sklearn` class!"
   ]
  },
  {
   "cell_type": "code",
   "execution_count": 36,
   "metadata": {},
   "outputs": [],
   "source": [
    "# Importing StandardScaler from the preprocessing module\n",
    "from sklearn.preprocessing import StandardScaler\n",
    "\n",
    "# Need to instantiate our scaler\n",
    "scaler = StandardScaler()\n",
    "\n",
    "# Fitting our scaler (note how we need to make the column into a dataframe)\n",
    "scaler.fit(df[['HourlyRate']])\n",
    "\n",
    "# Grabbing the transformed values out as scaled_rate\n",
    "scaled_rate = scaler.transform(df[['HourlyRate']])"
   ]
  },
  {
   "cell_type": "code",
   "execution_count": 39,
   "metadata": {
    "scrolled": false
   },
   "outputs": [
    {
     "data": {
      "image/png": "[encoded data removed]",
      "text/plain": [
       "<Figure size 720x432 with 3 Axes>"
      ]
     },
     "metadata": {
      "needs_background": "light"
     },
     "output_type": "display_data"
    }
   ],
   "source": [
    "# Plot and compare results\n",
    "fig, (ax1, ax2, ax3) = plt.subplots(nrows=3, ncols=1, figsize=(10,6),sharex=False)\n",
    "\n",
    "sns.kdeplot(df['HourlyRate'], ax=ax1, label='Without Scaling')\n",
    "ax1.legend()\n",
    "\n",
    "sns.kdeplot(standardized_rate, ax=ax2, label='Manual Scaling')\n",
    "ax2.legend()\n",
    "\n",
    "sns.kdeplot(scaled_rate[:,0], ax=ax3, label='SKLearn Standard Scaling')\n",
    "ax3.legend()\n",
    "\n",
    "plt.show()"
   ]
  },
  {
   "cell_type": "code",
   "execution_count": null,
   "metadata": {},
   "outputs": [],
   "source": []
  }
 ],
 "metadata": {
  "kernelspec": {
   "display_name": "Python (learn-env)",
   "language": "python",
   "name": "learn-env"
  },
  "language_info": {
   "codemirror_mode": {
    "name": "ipython",
    "version": 3
   },
   "file_extension": ".py",
   "mimetype": "text/x-python",
   "name": "python",
   "nbconvert_exporter": "python",
   "pygments_lexer": "ipython3",
   "version": "3.8.5"
  },
  "toc": {
   "base_numbering": 1,
   "nav_menu": {},
   "number_sections": true,
   "sideBar": true,
   "skip_h1_title": false,
   "title_cell": "Table of Contents",
   "title_sidebar": "TOC",
   "toc_cell": true,
   "toc_position": {
    "height": "calc(100% - 180px)",
    "left": "10px",
    "top": "150px",
    "width": "380.25px"
   },
   "toc_section_display": true,
   "toc_window_display": true
  }
 },
 "nbformat": 4,
 "nbformat_minor": 4
}
