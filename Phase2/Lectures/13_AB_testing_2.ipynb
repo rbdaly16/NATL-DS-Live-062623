{
 "cells": [
  {
   "cell_type": "markdown",
   "metadata": {},
   "source": [
    "# A/B Testing Part 2"
   ]
  },
  {
   "cell_type": "code",
   "execution_count": 5,
   "metadata": {
    "_cell_guid": "b1076dfc-b9ad-4769-8c92-a6c4dae69d19",
    "_uuid": "8f2839f25d086af736a60e9eeb907d3b93b6e0e5"
   },
   "outputs": [],
   "source": [
    "import numpy as np\n",
    "import pandas as pd\n",
    "\n",
    "from scipy import stats\n",
    "import seaborn as sns"
   ]
  },
  {
   "cell_type": "markdown",
   "metadata": {
    "heading_collapsed": true
   },
   "source": [
    "# Objectives"
   ]
  },
  {
   "cell_type": "markdown",
   "metadata": {
    "hidden": true
   },
   "source": [
    "- Conduct an A/B test in Python\n",
    "- Interpret the results of the A/B tests for a stakeholder"
   ]
  },
  {
   "cell_type": "markdown",
   "metadata": {
    "heading_collapsed": true
   },
   "source": [
    "# Example Together"
   ]
  },
  {
   "cell_type": "markdown",
   "metadata": {
    "heading_collapsed": true,
    "hidden": true
   },
   "source": [
    "## Question"
   ]
  },
  {
   "cell_type": "markdown",
   "metadata": {
    "hidden": true
   },
   "source": [
    "We have data about whether customers completed sales transactions, segregated by the type of ad banners to which the customers were exposed.\n",
    "\n",
    "The question we want to answer is whether there was any difference in sales \"conversions\" between desktop customers who saw the sneakers banner and desktop customers who saw the accessories banner in the month of May 2019."
   ]
  },
  {
   "cell_type": "markdown",
   "metadata": {
    "heading_collapsed": true,
    "hidden": true
   },
   "source": [
    "## Considerations"
   ]
  },
  {
   "cell_type": "markdown",
   "metadata": {
    "hidden": true
   },
   "source": [
    "What would we need to consider when designing our experiment?"
   ]
  },
  {
   "cell_type": "markdown",
   "metadata": {
    "hidden": true
   },
   "source": [
    "Might include:\n",
    "\n",
    "- Who is it that we're including in our test?\n",
    "- How big of an effect would make it \"worth\" us seeing?\n",
    "    - This can affect sample size\n",
    "    - This can give context of a statistically significant result\n",
    "- Other biases or \"gotchas\""
   ]
  },
  {
   "cell_type": "markdown",
   "metadata": {
    "heading_collapsed": true,
    "hidden": true
   },
   "source": [
    "## Loading the Data"
   ]
  },
  {
   "cell_type": "markdown",
   "metadata": {
    "hidden": true
   },
   "source": [
    "First let's download the data from [kaggle](https://www.kaggle.com/podsyp/how-to-do-product-analytics) via the release page of this repo: https://github.com/flatiron-school/ds-ab_testing/releases \n",
    "\n",
    "The code below will load it into our DataFrame:"
   ]
  },
  {
   "cell_type": "code",
   "execution_count": 6,
   "metadata": {
    "_cell_guid": "79c7e3d0-c299-4dcb-8224-4455121ee9b0",
    "_uuid": "d629ff2d2480ee46fbb7e2d37f6b5fab8052498a",
    "hidden": true
   },
   "outputs": [],
   "source": [
    "# This will download the data from online so it can take\n",
    "# some time (but relatively small download)\n",
    "\n",
    "df = pd.read_csv('https://github.com/flatiron-school/ds-ab_testing/releases/download/v1.2/products_small.csv')"
   ]
  },
  {
   "cell_type": "markdown",
   "metadata": {
    "hidden": true
   },
   "source": [
    "> Let's take a look while we're at it"
   ]
  },
  {
   "cell_type": "code",
   "execution_count": 7,
   "metadata": {
    "hidden": true,
    "scrolled": true
   },
   "outputs": [
    {
     "data": {
      "text/html": [
       "<div>\n",
       "<style scoped>\n",
       "    .dataframe tbody tr th:only-of-type {\n",
       "        vertical-align: middle;\n",
       "    }\n",
       "\n",
       "    .dataframe tbody tr th {\n",
       "        vertical-align: top;\n",
       "    }\n",
       "\n",
       "    .dataframe thead th {\n",
       "        text-align: right;\n",
       "    }\n",
       "</style>\n",
       "<table border=\"1\" class=\"dataframe\">\n",
       "  <thead>\n",
       "    <tr style=\"text-align: right;\">\n",
       "      <th></th>\n",
       "      <th>Unnamed: 0</th>\n",
       "      <th>order_id</th>\n",
       "      <th>user_id</th>\n",
       "      <th>page_id</th>\n",
       "      <th>product</th>\n",
       "      <th>site_version</th>\n",
       "      <th>time</th>\n",
       "      <th>title</th>\n",
       "      <th>target</th>\n",
       "    </tr>\n",
       "  </thead>\n",
       "  <tbody>\n",
       "    <tr>\n",
       "      <th>0</th>\n",
       "      <td>4122928</td>\n",
       "      <td>3e6c5e89fdddcaee0eed210ec2c9cadf</td>\n",
       "      <td>90d58d967eb72656e86059ec6f208092</td>\n",
       "      <td>2fdc16a09e0016555dd4da4a3fe84414</td>\n",
       "      <td>accessories</td>\n",
       "      <td>desktop</td>\n",
       "      <td>2019-03-06 08:42:47</td>\n",
       "      <td>banner_show</td>\n",
       "      <td>0</td>\n",
       "    </tr>\n",
       "    <tr>\n",
       "      <th>1</th>\n",
       "      <td>564306</td>\n",
       "      <td>feed6203517d3abf6aab13761633174b</td>\n",
       "      <td>08703dab1f004eabba25aacb7f0e5484</td>\n",
       "      <td>6b0a902b9b73d5a158d0119d6feb38ac</td>\n",
       "      <td>sneakers</td>\n",
       "      <td>mobile</td>\n",
       "      <td>2019-04-19 18:30:45</td>\n",
       "      <td>banner_show</td>\n",
       "      <td>0</td>\n",
       "    </tr>\n",
       "    <tr>\n",
       "      <th>2</th>\n",
       "      <td>1872289</td>\n",
       "      <td>e33d5d7941edc281646aa37763729771</td>\n",
       "      <td>bdf1d25697e21419901c94fabdafad15</td>\n",
       "      <td>9ddb7315c4357929931b48f2b3d11c62</td>\n",
       "      <td>company</td>\n",
       "      <td>mobile</td>\n",
       "      <td>2019-01-20 17:20:10</td>\n",
       "      <td>banner_show</td>\n",
       "      <td>0</td>\n",
       "    </tr>\n",
       "    <tr>\n",
       "      <th>3</th>\n",
       "      <td>3616779</td>\n",
       "      <td>7c4caa8d508fa7c3bbc25f35cdd9168a</td>\n",
       "      <td>8d2f23a732c9527d95678088a3bac122</td>\n",
       "      <td>1f86cd0bea31d54a5b511b42fd19401a</td>\n",
       "      <td>sneakers</td>\n",
       "      <td>mobile</td>\n",
       "      <td>2019-02-20 09:38:32</td>\n",
       "      <td>banner_show</td>\n",
       "      <td>0</td>\n",
       "    </tr>\n",
       "    <tr>\n",
       "      <th>4</th>\n",
       "      <td>5871482</td>\n",
       "      <td>12874b29bde8bbd43fb2b95735caf9e6</td>\n",
       "      <td>5a22604f8f31ae98ee1211ece3a02004</td>\n",
       "      <td>b533f7e2003418c63fd71471264c559a</td>\n",
       "      <td>sneakers</td>\n",
       "      <td>mobile</td>\n",
       "      <td>2019-04-24 09:19:02</td>\n",
       "      <td>banner_show</td>\n",
       "      <td>0</td>\n",
       "    </tr>\n",
       "  </tbody>\n",
       "</table>\n",
       "</div>"
      ],
      "text/plain": [
       "   Unnamed: 0                          order_id  \\\n",
       "0     4122928  3e6c5e89fdddcaee0eed210ec2c9cadf   \n",
       "1      564306  feed6203517d3abf6aab13761633174b   \n",
       "2     1872289  e33d5d7941edc281646aa37763729771   \n",
       "3     3616779  7c4caa8d508fa7c3bbc25f35cdd9168a   \n",
       "4     5871482  12874b29bde8bbd43fb2b95735caf9e6   \n",
       "\n",
       "                            user_id                           page_id  \\\n",
       "0  90d58d967eb72656e86059ec6f208092  2fdc16a09e0016555dd4da4a3fe84414   \n",
       "1  08703dab1f004eabba25aacb7f0e5484  6b0a902b9b73d5a158d0119d6feb38ac   \n",
       "2  bdf1d25697e21419901c94fabdafad15  9ddb7315c4357929931b48f2b3d11c62   \n",
       "3  8d2f23a732c9527d95678088a3bac122  1f86cd0bea31d54a5b511b42fd19401a   \n",
       "4  5a22604f8f31ae98ee1211ece3a02004  b533f7e2003418c63fd71471264c559a   \n",
       "\n",
       "       product site_version                 time        title  target  \n",
       "0  accessories      desktop  2019-03-06 08:42:47  banner_show       0  \n",
       "1     sneakers       mobile  2019-04-19 18:30:45  banner_show       0  \n",
       "2      company       mobile  2019-01-20 17:20:10  banner_show       0  \n",
       "3     sneakers       mobile  2019-02-20 09:38:32  banner_show       0  \n",
       "4     sneakers       mobile  2019-04-24 09:19:02  banner_show       0  "
      ]
     },
     "execution_count": 7,
     "metadata": {},
     "output_type": "execute_result"
    }
   ],
   "source": [
    "df.head()"
   ]
  },
  {
   "cell_type": "code",
   "execution_count": 8,
   "metadata": {
    "hidden": true,
    "scrolled": true
   },
   "outputs": [
    {
     "name": "stdout",
     "output_type": "stream",
     "text": [
      "<class 'pandas.core.frame.DataFrame'>\n",
      "RangeIndex: 1000000 entries, 0 to 999999\n",
      "Data columns (total 9 columns):\n",
      " #   Column        Non-Null Count    Dtype \n",
      "---  ------        --------------    ----- \n",
      " 0   Unnamed: 0    1000000 non-null  int64 \n",
      " 1   order_id      1000000 non-null  object\n",
      " 2   user_id       1000000 non-null  object\n",
      " 3   page_id       1000000 non-null  object\n",
      " 4   product       1000000 non-null  object\n",
      " 5   site_version  1000000 non-null  object\n",
      " 6   time          1000000 non-null  object\n",
      " 7   title         1000000 non-null  object\n",
      " 8   target        1000000 non-null  int64 \n",
      "dtypes: int64(2), object(7)\n",
      "memory usage: 68.7+ MB\n"
     ]
    }
   ],
   "source": [
    "df.info()"
   ]
  },
  {
   "cell_type": "code",
   "execution_count": 10,
   "metadata": {},
   "outputs": [
    {
     "data": {
      "text/html": [
       "<div>\n",
       "<style scoped>\n",
       "    .dataframe tbody tr th:only-of-type {\n",
       "        vertical-align: middle;\n",
       "    }\n",
       "\n",
       "    .dataframe tbody tr th {\n",
       "        vertical-align: top;\n",
       "    }\n",
       "\n",
       "    .dataframe thead th {\n",
       "        text-align: right;\n",
       "    }\n",
       "</style>\n",
       "<table border=\"1\" class=\"dataframe\">\n",
       "  <thead>\n",
       "    <tr style=\"text-align: right;\">\n",
       "      <th></th>\n",
       "      <th>order_id</th>\n",
       "      <th>user_id</th>\n",
       "      <th>page_id</th>\n",
       "      <th>product</th>\n",
       "      <th>site_version</th>\n",
       "      <th>time</th>\n",
       "      <th>title</th>\n",
       "    </tr>\n",
       "  </thead>\n",
       "  <tbody>\n",
       "    <tr>\n",
       "      <th>count</th>\n",
       "      <td>1000000</td>\n",
       "      <td>1000000</td>\n",
       "      <td>1000000</td>\n",
       "      <td>1000000</td>\n",
       "      <td>1000000</td>\n",
       "      <td>1000000</td>\n",
       "      <td>1000000</td>\n",
       "    </tr>\n",
       "    <tr>\n",
       "      <th>unique</th>\n",
       "      <td>1000000</td>\n",
       "      <td>882589</td>\n",
       "      <td>959023</td>\n",
       "      <td>5</td>\n",
       "      <td>2</td>\n",
       "      <td>952092</td>\n",
       "      <td>3</td>\n",
       "    </tr>\n",
       "    <tr>\n",
       "      <th>top</th>\n",
       "      <td>707c234e742d9bac2ac48112c3b9f1bd</td>\n",
       "      <td>2a98f631f947487fc710b89d13d5a51a</td>\n",
       "      <td>a3d2de7675556553a5f08e4c88d2c228</td>\n",
       "      <td>clothes</td>\n",
       "      <td>mobile</td>\n",
       "      <td>2019-01-14 18:47:47</td>\n",
       "      <td>banner_show</td>\n",
       "    </tr>\n",
       "    <tr>\n",
       "      <th>freq</th>\n",
       "      <td>1</td>\n",
       "      <td>8</td>\n",
       "      <td>29395</td>\n",
       "      <td>210996</td>\n",
       "      <td>718521</td>\n",
       "      <td>5</td>\n",
       "      <td>872275</td>\n",
       "    </tr>\n",
       "  </tbody>\n",
       "</table>\n",
       "</div>"
      ],
      "text/plain": [
       "                                order_id                           user_id  \\\n",
       "count                            1000000                           1000000   \n",
       "unique                           1000000                            882589   \n",
       "top     707c234e742d9bac2ac48112c3b9f1bd  2a98f631f947487fc710b89d13d5a51a   \n",
       "freq                                   1                                 8   \n",
       "\n",
       "                                 page_id  product site_version  \\\n",
       "count                            1000000  1000000      1000000   \n",
       "unique                            959023        5            2   \n",
       "top     a3d2de7675556553a5f08e4c88d2c228  clothes       mobile   \n",
       "freq                               29395   210996       718521   \n",
       "\n",
       "                       time        title  \n",
       "count               1000000      1000000  \n",
       "unique               952092            3  \n",
       "top     2019-01-14 18:47:47  banner_show  \n",
       "freq                      5       872275  "
      ]
     },
     "execution_count": 10,
     "metadata": {},
     "output_type": "execute_result"
    }
   ],
   "source": [
    "df.describe(include = ['object'])"
   ]
  },
  {
   "cell_type": "markdown",
   "metadata": {
    "heading_collapsed": true,
    "hidden": true
   },
   "source": [
    "## Some Exploration to Better Understand our Data"
   ]
  },
  {
   "cell_type": "markdown",
   "metadata": {
    "hidden": true
   },
   "source": [
    "Lets's look at the different banner types:"
   ]
  },
  {
   "cell_type": "code",
   "execution_count": 11,
   "metadata": {
    "hidden": true,
    "scrolled": true
   },
   "outputs": [
    {
     "data": {
      "text/plain": [
       "clothes             210996\n",
       "company             203020\n",
       "sneakers            201298\n",
       "sports_nutrition    193200\n",
       "accessories         191486\n",
       "Name: product, dtype: int64"
      ]
     },
     "execution_count": 11,
     "metadata": {},
     "output_type": "execute_result"
    }
   ],
   "source": [
    "df['product'].value_counts()"
   ]
  },
  {
   "cell_type": "code",
   "execution_count": 17,
   "metadata": {
    "hidden": true
   },
   "outputs": [
    {
     "data": {
      "text/plain": [
       "product           target\n",
       "accessories       0         186127\n",
       "                  1           5359\n",
       "clothes           0         197720\n",
       "                  1          13276\n",
       "company           0         203020\n",
       "sneakers          0         193375\n",
       "                  1           7923\n",
       "sports_nutrition  0         190363\n",
       "                  1           2837\n",
       "Name: target, dtype: int64"
      ]
     },
     "execution_count": 17,
     "metadata": {},
     "output_type": "execute_result"
    }
   ],
   "source": [
    "df.groupby(by = 'product')['target'].value_counts()"
   ]
  },
  {
   "cell_type": "code",
   "execution_count": 18,
   "metadata": {
    "scrolled": true
   },
   "outputs": [
    {
     "data": {
      "text/html": [
       "<div>\n",
       "<style scoped>\n",
       "    .dataframe tbody tr th:only-of-type {\n",
       "        vertical-align: middle;\n",
       "    }\n",
       "\n",
       "    .dataframe tbody tr th {\n",
       "        vertical-align: top;\n",
       "    }\n",
       "\n",
       "    .dataframe thead th {\n",
       "        text-align: right;\n",
       "    }\n",
       "</style>\n",
       "<table border=\"1\" class=\"dataframe\">\n",
       "  <thead>\n",
       "    <tr style=\"text-align: right;\">\n",
       "      <th></th>\n",
       "      <th></th>\n",
       "      <th>Unnamed: 0</th>\n",
       "      <th>order_id</th>\n",
       "      <th>user_id</th>\n",
       "      <th>page_id</th>\n",
       "      <th>site_version</th>\n",
       "      <th>time</th>\n",
       "      <th>title</th>\n",
       "    </tr>\n",
       "    <tr>\n",
       "      <th>product</th>\n",
       "      <th>target</th>\n",
       "      <th></th>\n",
       "      <th></th>\n",
       "      <th></th>\n",
       "      <th></th>\n",
       "      <th></th>\n",
       "      <th></th>\n",
       "      <th></th>\n",
       "    </tr>\n",
       "  </thead>\n",
       "  <tbody>\n",
       "    <tr>\n",
       "      <th rowspan=\"2\" valign=\"top\">accessories</th>\n",
       "      <th>0</th>\n",
       "      <td>186127</td>\n",
       "      <td>186127</td>\n",
       "      <td>186127</td>\n",
       "      <td>186127</td>\n",
       "      <td>186127</td>\n",
       "      <td>186127</td>\n",
       "      <td>186127</td>\n",
       "    </tr>\n",
       "    <tr>\n",
       "      <th>1</th>\n",
       "      <td>5359</td>\n",
       "      <td>5359</td>\n",
       "      <td>5359</td>\n",
       "      <td>5359</td>\n",
       "      <td>5359</td>\n",
       "      <td>5359</td>\n",
       "      <td>5359</td>\n",
       "    </tr>\n",
       "    <tr>\n",
       "      <th rowspan=\"2\" valign=\"top\">clothes</th>\n",
       "      <th>0</th>\n",
       "      <td>197720</td>\n",
       "      <td>197720</td>\n",
       "      <td>197720</td>\n",
       "      <td>197720</td>\n",
       "      <td>197720</td>\n",
       "      <td>197720</td>\n",
       "      <td>197720</td>\n",
       "    </tr>\n",
       "    <tr>\n",
       "      <th>1</th>\n",
       "      <td>13276</td>\n",
       "      <td>13276</td>\n",
       "      <td>13276</td>\n",
       "      <td>13276</td>\n",
       "      <td>13276</td>\n",
       "      <td>13276</td>\n",
       "      <td>13276</td>\n",
       "    </tr>\n",
       "    <tr>\n",
       "      <th>company</th>\n",
       "      <th>0</th>\n",
       "      <td>203020</td>\n",
       "      <td>203020</td>\n",
       "      <td>203020</td>\n",
       "      <td>203020</td>\n",
       "      <td>203020</td>\n",
       "      <td>203020</td>\n",
       "      <td>203020</td>\n",
       "    </tr>\n",
       "    <tr>\n",
       "      <th rowspan=\"2\" valign=\"top\">sneakers</th>\n",
       "      <th>0</th>\n",
       "      <td>193375</td>\n",
       "      <td>193375</td>\n",
       "      <td>193375</td>\n",
       "      <td>193375</td>\n",
       "      <td>193375</td>\n",
       "      <td>193375</td>\n",
       "      <td>193375</td>\n",
       "    </tr>\n",
       "    <tr>\n",
       "      <th>1</th>\n",
       "      <td>7923</td>\n",
       "      <td>7923</td>\n",
       "      <td>7923</td>\n",
       "      <td>7923</td>\n",
       "      <td>7923</td>\n",
       "      <td>7923</td>\n",
       "      <td>7923</td>\n",
       "    </tr>\n",
       "    <tr>\n",
       "      <th rowspan=\"2\" valign=\"top\">sports_nutrition</th>\n",
       "      <th>0</th>\n",
       "      <td>190363</td>\n",
       "      <td>190363</td>\n",
       "      <td>190363</td>\n",
       "      <td>190363</td>\n",
       "      <td>190363</td>\n",
       "      <td>190363</td>\n",
       "      <td>190363</td>\n",
       "    </tr>\n",
       "    <tr>\n",
       "      <th>1</th>\n",
       "      <td>2837</td>\n",
       "      <td>2837</td>\n",
       "      <td>2837</td>\n",
       "      <td>2837</td>\n",
       "      <td>2837</td>\n",
       "      <td>2837</td>\n",
       "      <td>2837</td>\n",
       "    </tr>\n",
       "  </tbody>\n",
       "</table>\n",
       "</div>"
      ],
      "text/plain": [
       "                         Unnamed: 0  order_id  user_id  page_id  site_version  \\\n",
       "product          target                                                         \n",
       "accessories      0           186127    186127   186127   186127        186127   \n",
       "                 1             5359      5359     5359     5359          5359   \n",
       "clothes          0           197720    197720   197720   197720        197720   \n",
       "                 1            13276     13276    13276    13276         13276   \n",
       "company          0           203020    203020   203020   203020        203020   \n",
       "sneakers         0           193375    193375   193375   193375        193375   \n",
       "                 1             7923      7923     7923     7923          7923   \n",
       "sports_nutrition 0           190363    190363   190363   190363        190363   \n",
       "                 1             2837      2837     2837     2837          2837   \n",
       "\n",
       "                           time   title  \n",
       "product          target                  \n",
       "accessories      0       186127  186127  \n",
       "                 1         5359    5359  \n",
       "clothes          0       197720  197720  \n",
       "                 1        13276   13276  \n",
       "company          0       203020  203020  \n",
       "sneakers         0       193375  193375  \n",
       "                 1         7923    7923  \n",
       "sports_nutrition 0       190363  190363  \n",
       "                 1         2837    2837  "
      ]
     },
     "execution_count": 18,
     "metadata": {},
     "output_type": "execute_result"
    }
   ],
   "source": [
    "df.groupby(['product', 'target']).count()"
   ]
  },
  {
   "cell_type": "code",
   "execution_count": 19,
   "metadata": {},
   "outputs": [
    {
     "data": {
      "text/html": [
       "<div>\n",
       "<style scoped>\n",
       "    .dataframe tbody tr th:only-of-type {\n",
       "        vertical-align: middle;\n",
       "    }\n",
       "\n",
       "    .dataframe tbody tr th {\n",
       "        vertical-align: top;\n",
       "    }\n",
       "\n",
       "    .dataframe thead th {\n",
       "        text-align: right;\n",
       "    }\n",
       "</style>\n",
       "<table border=\"1\" class=\"dataframe\">\n",
       "  <thead>\n",
       "    <tr style=\"text-align: right;\">\n",
       "      <th></th>\n",
       "      <th></th>\n",
       "      <th>Unnamed: 0</th>\n",
       "      <th>order_id</th>\n",
       "      <th>user_id</th>\n",
       "      <th>page_id</th>\n",
       "      <th>site_version</th>\n",
       "      <th>time</th>\n",
       "      <th>title</th>\n",
       "    </tr>\n",
       "    <tr>\n",
       "      <th>product</th>\n",
       "      <th>target</th>\n",
       "      <th></th>\n",
       "      <th></th>\n",
       "      <th></th>\n",
       "      <th></th>\n",
       "      <th></th>\n",
       "      <th></th>\n",
       "      <th></th>\n",
       "    </tr>\n",
       "  </thead>\n",
       "  <tbody>\n",
       "    <tr>\n",
       "      <th rowspan=\"2\" valign=\"top\">accessories</th>\n",
       "      <th>0</th>\n",
       "      <td>186127</td>\n",
       "      <td>186127</td>\n",
       "      <td>186127</td>\n",
       "      <td>186127</td>\n",
       "      <td>186127</td>\n",
       "      <td>186127</td>\n",
       "      <td>186127</td>\n",
       "    </tr>\n",
       "    <tr>\n",
       "      <th>1</th>\n",
       "      <td>5359</td>\n",
       "      <td>5359</td>\n",
       "      <td>5359</td>\n",
       "      <td>5359</td>\n",
       "      <td>5359</td>\n",
       "      <td>5359</td>\n",
       "      <td>5359</td>\n",
       "    </tr>\n",
       "    <tr>\n",
       "      <th rowspan=\"2\" valign=\"top\">clothes</th>\n",
       "      <th>0</th>\n",
       "      <td>197720</td>\n",
       "      <td>197720</td>\n",
       "      <td>197720</td>\n",
       "      <td>197720</td>\n",
       "      <td>197720</td>\n",
       "      <td>197720</td>\n",
       "      <td>197720</td>\n",
       "    </tr>\n",
       "    <tr>\n",
       "      <th>1</th>\n",
       "      <td>13276</td>\n",
       "      <td>13276</td>\n",
       "      <td>13276</td>\n",
       "      <td>13276</td>\n",
       "      <td>13276</td>\n",
       "      <td>13276</td>\n",
       "      <td>13276</td>\n",
       "    </tr>\n",
       "    <tr>\n",
       "      <th>company</th>\n",
       "      <th>0</th>\n",
       "      <td>203020</td>\n",
       "      <td>203020</td>\n",
       "      <td>203020</td>\n",
       "      <td>203020</td>\n",
       "      <td>203020</td>\n",
       "      <td>203020</td>\n",
       "      <td>203020</td>\n",
       "    </tr>\n",
       "    <tr>\n",
       "      <th rowspan=\"2\" valign=\"top\">sneakers</th>\n",
       "      <th>0</th>\n",
       "      <td>193375</td>\n",
       "      <td>193375</td>\n",
       "      <td>193375</td>\n",
       "      <td>193375</td>\n",
       "      <td>193375</td>\n",
       "      <td>193375</td>\n",
       "      <td>193375</td>\n",
       "    </tr>\n",
       "    <tr>\n",
       "      <th>1</th>\n",
       "      <td>7923</td>\n",
       "      <td>7923</td>\n",
       "      <td>7923</td>\n",
       "      <td>7923</td>\n",
       "      <td>7923</td>\n",
       "      <td>7923</td>\n",
       "      <td>7923</td>\n",
       "    </tr>\n",
       "    <tr>\n",
       "      <th rowspan=\"2\" valign=\"top\">sports_nutrition</th>\n",
       "      <th>0</th>\n",
       "      <td>190363</td>\n",
       "      <td>190363</td>\n",
       "      <td>190363</td>\n",
       "      <td>190363</td>\n",
       "      <td>190363</td>\n",
       "      <td>190363</td>\n",
       "      <td>190363</td>\n",
       "    </tr>\n",
       "    <tr>\n",
       "      <th>1</th>\n",
       "      <td>2837</td>\n",
       "      <td>2837</td>\n",
       "      <td>2837</td>\n",
       "      <td>2837</td>\n",
       "      <td>2837</td>\n",
       "      <td>2837</td>\n",
       "      <td>2837</td>\n",
       "    </tr>\n",
       "  </tbody>\n",
       "</table>\n",
       "</div>"
      ],
      "text/plain": [
       "                         Unnamed: 0  order_id  user_id  page_id  site_version  \\\n",
       "product          target                                                         \n",
       "accessories      0           186127    186127   186127   186127        186127   \n",
       "                 1             5359      5359     5359     5359          5359   \n",
       "clothes          0           197720    197720   197720   197720        197720   \n",
       "                 1            13276     13276    13276    13276         13276   \n",
       "company          0           203020    203020   203020   203020        203020   \n",
       "sneakers         0           193375    193375   193375   193375        193375   \n",
       "                 1             7923      7923     7923     7923          7923   \n",
       "sports_nutrition 0           190363    190363   190363   190363        190363   \n",
       "                 1             2837      2837     2837     2837          2837   \n",
       "\n",
       "                           time   title  \n",
       "product          target                  \n",
       "accessories      0       186127  186127  \n",
       "                 1         5359    5359  \n",
       "clothes          0       197720  197720  \n",
       "                 1        13276   13276  \n",
       "company          0       203020  203020  \n",
       "sneakers         0       193375  193375  \n",
       "                 1         7923    7923  \n",
       "sports_nutrition 0       190363  190363  \n",
       "                 1         2837    2837  "
      ]
     },
     "execution_count": 19,
     "metadata": {},
     "output_type": "execute_result"
    }
   ],
   "source": [
    "df.groupby(['product', 'target']).agg('count')"
   ]
  },
  {
   "cell_type": "markdown",
   "metadata": {
    "hidden": true
   },
   "source": [
    "Let's look at the range of time-stamps on these data:"
   ]
  },
  {
   "cell_type": "code",
   "execution_count": 21,
   "metadata": {
    "hidden": true
   },
   "outputs": [
    {
     "data": {
      "text/plain": [
       "'2019-01-01 00:00:25'"
      ]
     },
     "execution_count": 21,
     "metadata": {},
     "output_type": "execute_result"
    }
   ],
   "source": [
    "df['time'].min()"
   ]
  },
  {
   "cell_type": "code",
   "execution_count": 22,
   "metadata": {
    "hidden": true
   },
   "outputs": [
    {
     "data": {
      "text/plain": [
       "'2019-05-31 23:59:21'"
      ]
     },
     "execution_count": 22,
     "metadata": {},
     "output_type": "execute_result"
    }
   ],
   "source": [
    "df['time'].max()"
   ]
  },
  {
   "cell_type": "markdown",
   "metadata": {
    "hidden": true
   },
   "source": [
    "Let's check the counts of the different site_version values:"
   ]
  },
  {
   "cell_type": "code",
   "execution_count": 23,
   "metadata": {
    "hidden": true,
    "scrolled": true
   },
   "outputs": [
    {
     "data": {
      "text/plain": [
       "mobile     718521\n",
       "desktop    281479\n",
       "Name: site_version, dtype: int64"
      ]
     },
     "execution_count": 23,
     "metadata": {},
     "output_type": "execute_result"
    }
   ],
   "source": [
    "df['site_version'].value_counts()"
   ]
  },
  {
   "cell_type": "markdown",
   "metadata": {},
   "source": [
    "And now check titles"
   ]
  },
  {
   "cell_type": "code",
   "execution_count": 24,
   "metadata": {
    "hidden": true
   },
   "outputs": [
    {
     "data": {
      "text/plain": [
       "banner_show     872275\n",
       "banner_click     98330\n",
       "order            29395\n",
       "Name: title, dtype: int64"
      ]
     },
     "execution_count": 24,
     "metadata": {},
     "output_type": "execute_result"
    }
   ],
   "source": [
    "df['title'].value_counts()"
   ]
  },
  {
   "cell_type": "code",
   "execution_count": 25,
   "metadata": {},
   "outputs": [
    {
     "data": {
      "text/plain": [
       "29395"
      ]
     },
     "execution_count": 25,
     "metadata": {},
     "output_type": "execute_result"
    }
   ],
   "source": [
    "len(df.loc[df['title']=='order'])"
   ]
  },
  {
   "cell_type": "code",
   "execution_count": 26,
   "metadata": {
    "hidden": true
   },
   "outputs": [
    {
     "data": {
      "text/plain": [
       "29395"
      ]
     },
     "execution_count": 26,
     "metadata": {},
     "output_type": "execute_result"
    }
   ],
   "source": [
    "sum(df['target'])"
   ]
  },
  {
   "cell_type": "code",
   "execution_count": 27,
   "metadata": {},
   "outputs": [
    {
     "data": {
      "text/html": [
       "<div>\n",
       "<style scoped>\n",
       "    .dataframe tbody tr th:only-of-type {\n",
       "        vertical-align: middle;\n",
       "    }\n",
       "\n",
       "    .dataframe tbody tr th {\n",
       "        vertical-align: top;\n",
       "    }\n",
       "\n",
       "    .dataframe thead th {\n",
       "        text-align: right;\n",
       "    }\n",
       "</style>\n",
       "<table border=\"1\" class=\"dataframe\">\n",
       "  <thead>\n",
       "    <tr style=\"text-align: right;\">\n",
       "      <th></th>\n",
       "      <th>target</th>\n",
       "    </tr>\n",
       "    <tr>\n",
       "      <th>title</th>\n",
       "      <th></th>\n",
       "    </tr>\n",
       "  </thead>\n",
       "  <tbody>\n",
       "    <tr>\n",
       "      <th>banner_click</th>\n",
       "      <td>0</td>\n",
       "    </tr>\n",
       "    <tr>\n",
       "      <th>banner_show</th>\n",
       "      <td>0</td>\n",
       "    </tr>\n",
       "    <tr>\n",
       "      <th>order</th>\n",
       "      <td>1</td>\n",
       "    </tr>\n",
       "  </tbody>\n",
       "</table>\n",
       "</div>"
      ],
      "text/plain": [
       "              target\n",
       "title               \n",
       "banner_click       0\n",
       "banner_show        0\n",
       "order              1"
      ]
     },
     "execution_count": 27,
     "metadata": {},
     "output_type": "execute_result"
    }
   ],
   "source": [
    "df.groupby('title').agg({'target':'mean'})"
   ]
  },
  {
   "cell_type": "markdown",
   "metadata": {
    "heading_collapsed": true,
    "hidden": true
   },
   "source": [
    "## Experimental Setup"
   ]
  },
  {
   "cell_type": "markdown",
   "metadata": {
    "hidden": true
   },
   "source": [
    "We need to filter by site_version, time, and product:"
   ]
  },
  {
   "cell_type": "code",
   "execution_count": 34,
   "metadata": {
    "hidden": true
   },
   "outputs": [],
   "source": [
    "df_AB = df.loc[(df['site_version']=='desktop') & (df['time'] >= '2019-05-01')\n",
    "              & ((df['product']=='sneakers') | (df['product']=='accessories'))]"
   ]
  },
  {
   "cell_type": "code",
   "execution_count": 35,
   "metadata": {
    "hidden": true,
    "scrolled": false
   },
   "outputs": [
    {
     "data": {
      "text/html": [
       "<div>\n",
       "<style scoped>\n",
       "    .dataframe tbody tr th:only-of-type {\n",
       "        vertical-align: middle;\n",
       "    }\n",
       "\n",
       "    .dataframe tbody tr th {\n",
       "        vertical-align: top;\n",
       "    }\n",
       "\n",
       "    .dataframe thead th {\n",
       "        text-align: right;\n",
       "    }\n",
       "</style>\n",
       "<table border=\"1\" class=\"dataframe\">\n",
       "  <thead>\n",
       "    <tr style=\"text-align: right;\">\n",
       "      <th></th>\n",
       "      <th>Unnamed: 0</th>\n",
       "      <th>order_id</th>\n",
       "      <th>user_id</th>\n",
       "      <th>page_id</th>\n",
       "      <th>product</th>\n",
       "      <th>site_version</th>\n",
       "      <th>time</th>\n",
       "      <th>title</th>\n",
       "      <th>target</th>\n",
       "    </tr>\n",
       "  </thead>\n",
       "  <tbody>\n",
       "    <tr>\n",
       "      <th>999904</th>\n",
       "      <td>5738290</td>\n",
       "      <td>ecfe9da2dbea255f05b2f526a4c663a7</td>\n",
       "      <td>cd7598ba5798ad6bd3f5a667ae4c217a</td>\n",
       "      <td>644ad50dd900d6735d8ceb15b71d50f8</td>\n",
       "      <td>accessories</td>\n",
       "      <td>desktop</td>\n",
       "      <td>2019-05-01 23:01:05</td>\n",
       "      <td>banner_show</td>\n",
       "      <td>0</td>\n",
       "    </tr>\n",
       "    <tr>\n",
       "      <th>999908</th>\n",
       "      <td>7885931</td>\n",
       "      <td>8c28b45ff7fbb5d5df0b7670183689db</td>\n",
       "      <td>2f28106a4db2babcfde1c4095c805632</td>\n",
       "      <td>a3d2de7675556553a5f08e4c88d2c228</td>\n",
       "      <td>sneakers</td>\n",
       "      <td>desktop</td>\n",
       "      <td>2019-05-26 11:19:09</td>\n",
       "      <td>order</td>\n",
       "      <td>1</td>\n",
       "    </tr>\n",
       "    <tr>\n",
       "      <th>999915</th>\n",
       "      <td>8099155</td>\n",
       "      <td>c613db2f19c7285f101196062c178490</td>\n",
       "      <td>97473368941b89c4716c4f389e9b8bd7</td>\n",
       "      <td>a3d2de7675556553a5f08e4c88d2c228</td>\n",
       "      <td>sneakers</td>\n",
       "      <td>desktop</td>\n",
       "      <td>2019-05-11 09:04:46</td>\n",
       "      <td>order</td>\n",
       "      <td>1</td>\n",
       "    </tr>\n",
       "    <tr>\n",
       "      <th>999930</th>\n",
       "      <td>6690689</td>\n",
       "      <td>6f7f32ecf6790e4eb06384b479f43162</td>\n",
       "      <td>73f403b4843c70c41c0db294ee479582</td>\n",
       "      <td>13f395d7c86ef276f7ce52a557fd3491</td>\n",
       "      <td>accessories</td>\n",
       "      <td>desktop</td>\n",
       "      <td>2019-05-09 09:17:24</td>\n",
       "      <td>banner_show</td>\n",
       "      <td>0</td>\n",
       "    </tr>\n",
       "    <tr>\n",
       "      <th>999999</th>\n",
       "      <td>7650805</td>\n",
       "      <td>af3a19fcceb477d2992f1771af3a9b34</td>\n",
       "      <td>515cb969971fb5e08ae0316f58e3f434</td>\n",
       "      <td>ef38d906f15db1efde867c68f1336946</td>\n",
       "      <td>sneakers</td>\n",
       "      <td>desktop</td>\n",
       "      <td>2019-05-20 17:58:16</td>\n",
       "      <td>banner_show</td>\n",
       "      <td>0</td>\n",
       "    </tr>\n",
       "  </tbody>\n",
       "</table>\n",
       "</div>"
      ],
      "text/plain": [
       "        Unnamed: 0                          order_id  \\\n",
       "999904     5738290  ecfe9da2dbea255f05b2f526a4c663a7   \n",
       "999908     7885931  8c28b45ff7fbb5d5df0b7670183689db   \n",
       "999915     8099155  c613db2f19c7285f101196062c178490   \n",
       "999930     6690689  6f7f32ecf6790e4eb06384b479f43162   \n",
       "999999     7650805  af3a19fcceb477d2992f1771af3a9b34   \n",
       "\n",
       "                                 user_id                           page_id  \\\n",
       "999904  cd7598ba5798ad6bd3f5a667ae4c217a  644ad50dd900d6735d8ceb15b71d50f8   \n",
       "999908  2f28106a4db2babcfde1c4095c805632  a3d2de7675556553a5f08e4c88d2c228   \n",
       "999915  97473368941b89c4716c4f389e9b8bd7  a3d2de7675556553a5f08e4c88d2c228   \n",
       "999930  73f403b4843c70c41c0db294ee479582  13f395d7c86ef276f7ce52a557fd3491   \n",
       "999999  515cb969971fb5e08ae0316f58e3f434  ef38d906f15db1efde867c68f1336946   \n",
       "\n",
       "            product site_version                 time        title  target  \n",
       "999904  accessories      desktop  2019-05-01 23:01:05  banner_show       0  \n",
       "999908     sneakers      desktop  2019-05-26 11:19:09        order       1  \n",
       "999915     sneakers      desktop  2019-05-11 09:04:46        order       1  \n",
       "999930  accessories      desktop  2019-05-09 09:17:24  banner_show       0  \n",
       "999999     sneakers      desktop  2019-05-20 17:58:16  banner_show       0  "
      ]
     },
     "execution_count": 35,
     "metadata": {},
     "output_type": "execute_result"
    }
   ],
   "source": [
    "df_AB.tail()"
   ]
  },
  {
   "cell_type": "code",
   "execution_count": 36,
   "metadata": {},
   "outputs": [
    {
     "data": {
      "text/plain": [
       "sneakers       13269\n",
       "accessories    12703\n",
       "Name: product, dtype: int64"
      ]
     },
     "execution_count": 36,
     "metadata": {},
     "output_type": "execute_result"
    }
   ],
   "source": [
    "df_AB['product'].value_counts()"
   ]
  },
  {
   "cell_type": "code",
   "execution_count": 37,
   "metadata": {},
   "outputs": [
    {
     "data": {
      "text/plain": [
       "desktop    25972\n",
       "Name: site_version, dtype: int64"
      ]
     },
     "execution_count": 37,
     "metadata": {},
     "output_type": "execute_result"
    }
   ],
   "source": [
    "df_AB['site_version'].value_counts()"
   ]
  },
  {
   "cell_type": "markdown",
   "metadata": {
    "heading_collapsed": true,
    "hidden": true
   },
   "source": [
    "### What Test Would Make Sense?"
   ]
  },
  {
   "cell_type": "markdown",
   "metadata": {
    "hidden": true
   },
   "source": [
    "Since we're comparing the frequency of conversions of customers who saw the \"sneakers\" banner against those who saw the \"accessories\" banner, we can use a $\\chi^2$ test.\n",
    "\n",
    "Note there are other hypothesis tests we can use but this should be fine since it should fit our criteria."
   ]
  },
  {
   "cell_type": "markdown",
   "metadata": {
    "heading_collapsed": true,
    "hidden": true
   },
   "source": [
    "### The Hypotheses"
   ]
  },
  {
   "cell_type": "markdown",
   "metadata": {
    "hidden": true
   },
   "source": [
    "$H_0$: Customers who saw the sneakers banner were no more or less likely to buy than customers who saw the accessories banner.\n",
    "\n",
    "$H_1$: Customers who saw the sneakers banner were more or less likely to buy than customers who saw the accessories banner."
   ]
  },
  {
   "cell_type": "markdown",
   "metadata": {
    "heading_collapsed": true,
    "hidden": true
   },
   "source": [
    "### Setting a Threshold"
   ]
  },
  {
   "cell_type": "markdown",
   "metadata": {
    "hidden": true
   },
   "source": [
    "We'll set a false-positive rate of $\\alpha = 0.05$."
   ]
  },
  {
   "cell_type": "markdown",
   "metadata": {
    "heading_collapsed": true,
    "hidden": true
   },
   "source": [
    "## $\\chi^2$ Test"
   ]
  },
  {
   "cell_type": "markdown",
   "metadata": {
    "heading_collapsed": true,
    "hidden": true
   },
   "source": [
    "### Setup the Data"
   ]
  },
  {
   "cell_type": "markdown",
   "metadata": {
    "hidden": true
   },
   "source": [
    "We need our contingency table: the numbers of people who did or did not submit orders, both for the accessories banner and the sneakers banner. "
   ]
  },
  {
   "cell_type": "code",
   "execution_count": 44,
   "metadata": {},
   "outputs": [
    {
     "data": {
      "text/plain": [
       "product      target\n",
       "accessories  0         12207\n",
       "             1           496\n",
       "sneakers     0         12470\n",
       "             1           799\n",
       "Name: title, dtype: int64"
      ]
     },
     "execution_count": 44,
     "metadata": {},
     "output_type": "execute_result"
    }
   ],
   "source": [
    "df_AB.groupby(['product', 'target']).count()['title']"
   ]
  },
  {
   "cell_type": "code",
   "execution_count": 47,
   "metadata": {},
   "outputs": [
    {
     "data": {
      "text/plain": [
       "product      target\n",
       "accessories  0         12207\n",
       "             1           496\n",
       "sneakers     0         12470\n",
       "             1           799\n",
       "Name: title, dtype: int64"
      ]
     },
     "execution_count": 47,
     "metadata": {},
     "output_type": "execute_result"
    }
   ],
   "source": [
    "counts = df_AB.groupby(['product', 'target']).count()['title']\n",
    "counts"
   ]
  },
  {
   "cell_type": "code",
   "execution_count": 45,
   "metadata": {
    "hidden": true
   },
   "outputs": [],
   "source": [
    "df_A = df_AB.loc[df_AB['product'] == 'accessories']\n",
    "df_B = df_AB.loc[df_AB['product'] == 'sneakers']"
   ]
  },
  {
   "cell_type": "code",
   "execution_count": 46,
   "metadata": {
    "hidden": true
   },
   "outputs": [
    {
     "data": {
      "text/plain": [
       "(496, 799)"
      ]
     },
     "execution_count": 46,
     "metadata": {},
     "output_type": "execute_result"
    }
   ],
   "source": [
    "accessories_orders = sum(df_A['target'])\n",
    "sneakers_orders = sum(df_B['target'])\n",
    "\n",
    "accessories_orders, sneakers_orders"
   ]
  },
  {
   "cell_type": "code",
   "execution_count": 49,
   "metadata": {},
   "outputs": [
    {
     "data": {
      "text/plain": [
       "496"
      ]
     },
     "execution_count": 49,
     "metadata": {},
     "output_type": "execute_result"
    }
   ],
   "source": [
    "accessories_orders = counts[1]\n",
    "accessories_orders"
   ]
  },
  {
   "cell_type": "markdown",
   "metadata": {
    "hidden": true
   },
   "source": [
    "To get the numbers of people who didn't submit orders, we get the total number of people who were shown banners and then subtract the numbers of people who did make orders."
   ]
  },
  {
   "cell_type": "code",
   "execution_count": 53,
   "metadata": {
    "hidden": true
   },
   "outputs": [
    {
     "data": {
      "text/plain": [
       "(12207, 12470)"
      ]
     },
     "execution_count": 53,
     "metadata": {},
     "output_type": "execute_result"
    }
   ],
   "source": [
    "accessories_total = len(df_A)\n",
    "sneakers_total = len(df_B)\n",
    "\n",
    "accessories_no_orders = accessories_total - accessories_orders\n",
    "sneakers_no_orders = sneakers_total - sneakers_orders\n",
    "\n",
    "accessories_no_orders, sneakers_no_orders"
   ]
  },
  {
   "cell_type": "code",
   "execution_count": 54,
   "metadata": {
    "hidden": true
   },
   "outputs": [
    {
     "data": {
      "text/plain": [
       "array([[  496, 12207],\n",
       "       [  799, 12470]])"
      ]
     },
     "execution_count": 54,
     "metadata": {},
     "output_type": "execute_result"
    }
   ],
   "source": [
    "contingency_table = np.array([[accessories_orders, accessories_no_orders],\n",
    "                             [sneakers_orders, sneakers_no_orders]])\n",
    "\n",
    "contingency_table"
   ]
  },
  {
   "cell_type": "code",
   "execution_count": 56,
   "metadata": {},
   "outputs": [
    {
     "data": {
      "text/plain": [
       "[[496, 12207], [799, 12470]]"
      ]
     },
     "execution_count": 56,
     "metadata": {},
     "output_type": "execute_result"
    }
   ],
   "source": [
    "contin_list = list([[accessories_orders, accessories_no_orders],\n",
    "                             [sneakers_orders, sneakers_no_orders]])\n",
    "contin_list"
   ]
  },
  {
   "cell_type": "code",
   "execution_count": 57,
   "metadata": {},
   "outputs": [
    {
     "data": {
      "text/html": [
       "<div>\n",
       "<style scoped>\n",
       "    .dataframe tbody tr th:only-of-type {\n",
       "        vertical-align: middle;\n",
       "    }\n",
       "\n",
       "    .dataframe tbody tr th {\n",
       "        vertical-align: top;\n",
       "    }\n",
       "\n",
       "    .dataframe thead th {\n",
       "        text-align: right;\n",
       "    }\n",
       "</style>\n",
       "<table border=\"1\" class=\"dataframe\">\n",
       "  <thead>\n",
       "    <tr style=\"text-align: right;\">\n",
       "      <th></th>\n",
       "      <th>0</th>\n",
       "      <th>1</th>\n",
       "    </tr>\n",
       "  </thead>\n",
       "  <tbody>\n",
       "    <tr>\n",
       "      <th>0</th>\n",
       "      <td>496</td>\n",
       "      <td>12207</td>\n",
       "    </tr>\n",
       "    <tr>\n",
       "      <th>1</th>\n",
       "      <td>799</td>\n",
       "      <td>12470</td>\n",
       "    </tr>\n",
       "  </tbody>\n",
       "</table>\n",
       "</div>"
      ],
      "text/plain": [
       "     0      1\n",
       "0  496  12207\n",
       "1  799  12470"
      ]
     },
     "execution_count": 57,
     "metadata": {},
     "output_type": "execute_result"
    }
   ],
   "source": [
    "pd.DataFrame([[accessories_orders, accessories_no_orders],\n",
    "                             [sneakers_orders, sneakers_no_orders]])"
   ]
  },
  {
   "cell_type": "code",
   "execution_count": 58,
   "metadata": {},
   "outputs": [
    {
     "data": {
      "text/plain": [
       "array([[45, 45, 45],\n",
       "       [30, 36, 45],\n",
       "       [60, 70, 80]])"
      ]
     },
     "execution_count": 58,
     "metadata": {},
     "output_type": "execute_result"
    }
   ],
   "source": [
    "np.array([[45, 45, 45], [30, 36, 45], [60, 70, 80]])"
   ]
  },
  {
   "cell_type": "markdown",
   "metadata": {
    "heading_collapsed": true,
    "hidden": true
   },
   "source": [
    "### Calculation\n"
   ]
  },
  {
   "cell_type": "code",
   "execution_count": 59,
   "metadata": {
    "hidden": true,
    "scrolled": true
   },
   "outputs": [
    {
     "data": {
      "text/plain": [
       "(60.94640624666488,\n",
       " 5.86498985882812e-15,\n",
       " 1,\n",
       " array([[  633.38922686, 12069.61077314],\n",
       "        [  661.61077314, 12607.38922686]]))"
      ]
     },
     "execution_count": 59,
     "metadata": {},
     "output_type": "execute_result"
    }
   ],
   "source": [
    "stats.chi2_contingency(contingency_table)"
   ]
  },
  {
   "cell_type": "code",
   "execution_count": 60,
   "metadata": {},
   "outputs": [
    {
     "data": {
      "text/plain": [
       "(60.94640624666488,\n",
       " 5.86498985882812e-15,\n",
       " 1,\n",
       " array([[  633.38922686, 12069.61077314],\n",
       "        [  661.61077314, 12607.38922686]]))"
      ]
     },
     "execution_count": 60,
     "metadata": {},
     "output_type": "execute_result"
    }
   ],
   "source": [
    "stats.chi2_contingency(pd.DataFrame([[accessories_orders, accessories_no_orders],\n",
    "                             [sneakers_orders, sneakers_no_orders]]))"
   ]
  },
  {
   "cell_type": "markdown",
   "metadata": {
    "hidden": true
   },
   "source": [
    "This extremely low $p$-value suggests that these two groups are genuinely performing differently. In particular, the desktop customers who saw the sneakers banner in May 2019 bought at a higher rate than the desktop customers who saw the accessories banner in May 2019."
   ]
  },
  {
   "cell_type": "code",
   "execution_count": 62,
   "metadata": {},
   "outputs": [
    {
     "data": {
      "text/plain": [
       "6.021553998040545"
      ]
     },
     "execution_count": 62,
     "metadata": {},
     "output_type": "execute_result"
    }
   ],
   "source": [
    "(sneakers_orders / sneakers_total) * 100"
   ]
  },
  {
   "cell_type": "code",
   "execution_count": 64,
   "metadata": {},
   "outputs": [
    {
     "data": {
      "text/plain": [
       "3.9045894670550267"
      ]
     },
     "execution_count": 64,
     "metadata": {},
     "output_type": "execute_result"
    }
   ],
   "source": [
    "(accessories_orders / accessories_total) * 100"
   ]
  },
  {
   "cell_type": "markdown",
   "metadata": {
    "heading_collapsed": true,
    "hidden": true
   },
   "source": [
    "## Interpretation"
   ]
  },
  {
   "cell_type": "code",
   "execution_count": 65,
   "metadata": {
    "hidden": true,
    "scrolled": true
   },
   "outputs": [
    {
     "data": {
      "text/plain": [
       "array([[  496, 12207],\n",
       "       [  799, 12470]])"
      ]
     },
     "execution_count": 65,
     "metadata": {},
     "output_type": "execute_result"
    }
   ],
   "source": [
    "contingency_table"
   ]
  },
  {
   "cell_type": "code",
   "execution_count": 66,
   "metadata": {},
   "outputs": [
    {
     "data": {
      "text/plain": [
       "array([0.03904589, 0.06021554])"
      ]
     },
     "execution_count": 66,
     "metadata": {},
     "output_type": "execute_result"
    }
   ],
   "source": [
    "contingency_table[:, 0] / contingency_table.sum(axis=1)"
   ]
  },
  {
   "cell_type": "code",
   "execution_count": 67,
   "metadata": {},
   "outputs": [
    {
     "data": {
      "text/plain": [
       "array([12703, 13269])"
      ]
     },
     "execution_count": 67,
     "metadata": {},
     "output_type": "execute_result"
    }
   ],
   "source": [
    "contingency_table.sum(axis=1)"
   ]
  },
  {
   "cell_type": "code",
   "execution_count": 68,
   "metadata": {
    "hidden": true
   },
   "outputs": [],
   "source": [
    "# Find the difference in conversion rate\n",
    "accessory_CR, sneaker_CR = contingency_table[:, 0] / contingency_table.sum(axis=1)"
   ]
  },
  {
   "cell_type": "code",
   "execution_count": 69,
   "metadata": {
    "hidden": true,
    "scrolled": false
   },
   "outputs": [
    {
     "name": "stdout",
     "output_type": "stream",
     "text": [
      "Conversion Rate for accessory banner:\n",
      "\t3.905%\n",
      "Conversion Rate for sneaker banner:\n",
      "\t6.022%\n",
      "\n",
      "Absolute difference of CR: 2.117%\n"
     ]
    }
   ],
   "source": [
    "print(f'Conversion Rate for accessory banner:\\n\\t{100*accessory_CR:.3f}%')\n",
    "print(f'Conversion Rate for sneaker banner:\\n\\t{100*sneaker_CR:.3f}%')\n",
    "print('')\n",
    "print(f'Absolute difference of CR: {100*(sneaker_CR-accessory_CR):.3f}%')"
   ]
  },
  {
   "cell_type": "code",
   "execution_count": 70,
   "metadata": {},
   "outputs": [
    {
     "data": {
      "text/plain": [
       "(12703, 13269)"
      ]
     },
     "execution_count": 70,
     "metadata": {},
     "output_type": "execute_result"
    }
   ],
   "source": [
    "accessories_total, sneakers_total"
   ]
  },
  {
   "cell_type": "code",
   "execution_count": 71,
   "metadata": {},
   "outputs": [
    {
     "data": {
      "text/plain": [
       "-566"
      ]
     },
     "execution_count": 71,
     "metadata": {},
     "output_type": "execute_result"
    }
   ],
   "source": [
    "accessories_total - sneakers_total"
   ]
  },
  {
   "cell_type": "code",
   "execution_count": 72,
   "metadata": {},
   "outputs": [
    {
     "data": {
      "text/plain": [
       "3.9045894670550267"
      ]
     },
     "execution_count": 72,
     "metadata": {},
     "output_type": "execute_result"
    }
   ],
   "source": [
    "496 / accessories_total * 100"
   ]
  },
  {
   "cell_type": "code",
   "execution_count": 73,
   "metadata": {},
   "outputs": [
    {
     "data": {
      "text/plain": [
       "6.021553998040545"
      ]
     },
     "execution_count": 73,
     "metadata": {},
     "output_type": "execute_result"
    }
   ],
   "source": [
    "799 / sneakers_total * 100"
   ]
  },
  {
   "cell_type": "markdown",
   "metadata": {
    "hidden": true
   },
   "source": [
    "So we can say:\n",
    "- There was a statistically significant difference at the $\\alpha$-level (confidence level)\n",
    "- The difference was about $2\\%$ in favor of the sneaker banner!"
   ]
  },
  {
   "cell_type": "markdown",
   "metadata": {
    "heading_collapsed": true
   },
   "source": [
    "# Exercise"
   ]
  },
  {
   "cell_type": "markdown",
   "metadata": {
    "hidden": true
   },
   "source": [
    "> The company is impressed with what you found and is now wondering if there is a difference in their other banner ads!\n",
    "\n",
    "With your group, look at the same month (May 2019) but compare different platforms ('mobile' vs 'desktop') and or different banner types ('accessories', 'sneakers', 'clothes', 'sports_nutrition'). Just don't repeat the same test we did above 😉"
   ]
  },
  {
   "cell_type": "markdown",
   "metadata": {
    "hidden": true
   },
   "source": [
    "Make sure you record what considerations you have for the experiment, what hypothesis test you performed ($H_0$ and $H_1$ too), and your overall conclusion/interpretation for the _business stakeholders_. Is there a follow-up you'd suggest? "
   ]
  },
  {
   "cell_type": "markdown",
   "metadata": {},
   "source": [
    "H0: There is no difference btwn desktop and mobile conversion rates\n",
    "\n",
    "HA: There is a difference btwn desktop and mobile conversion rates"
   ]
  },
  {
   "cell_type": "code",
   "execution_count": 89,
   "metadata": {},
   "outputs": [
    {
     "data": {
      "text/plain": [
       "site_version\n",
       "desktop    281479\n",
       "mobile     718521\n",
       "Name: target, dtype: int64"
      ]
     },
     "execution_count": 89,
     "metadata": {},
     "output_type": "execute_result"
    }
   ],
   "source": [
    "df.groupby('site_version').count()['target']"
   ]
  },
  {
   "cell_type": "code",
   "execution_count": 79,
   "metadata": {},
   "outputs": [
    {
     "data": {
      "text/plain": [
       "banner_show     872275\n",
       "banner_click     98330\n",
       "order            29395\n",
       "Name: title, dtype: int64"
      ]
     },
     "execution_count": 79,
     "metadata": {},
     "output_type": "execute_result"
    }
   ],
   "source": [
    "df['title'].value_counts()"
   ]
  },
  {
   "cell_type": "code",
   "execution_count": 81,
   "metadata": {},
   "outputs": [],
   "source": [
    "#create subsets for each category\n",
    "df_A = df.loc[df['site_version'] == 'desktop']\n",
    "df_B = df.loc[df['site_version'] == 'mobile']"
   ]
  },
  {
   "cell_type": "code",
   "execution_count": 84,
   "metadata": {},
   "outputs": [
    {
     "data": {
      "text/plain": [
       "(15719, 13676)"
      ]
     },
     "execution_count": 84,
     "metadata": {},
     "output_type": "execute_result"
    }
   ],
   "source": [
    "#get number that did submit orders\n",
    "desktop_orders = sum(df_A['target'])\n",
    "mobile_orders = sum(df_B['target'])\n",
    "\n",
    "desktop_orders, mobile_orders"
   ]
  },
  {
   "cell_type": "code",
   "execution_count": 85,
   "metadata": {},
   "outputs": [
    {
     "data": {
      "text/plain": [
       "(265760, 704845)"
      ]
     },
     "execution_count": 85,
     "metadata": {},
     "output_type": "execute_result"
    }
   ],
   "source": [
    "#get number that didn't submit orders\n",
    "desktop_total = len(df_A)\n",
    "mobile_total = len(df_B)\n",
    "\n",
    "desktop_no_orders = desktop_total - desktop_orders\n",
    "mobile_no_orders = mobile_total - mobile_orders\n",
    "\n",
    "desktop_no_orders, mobile_no_orders"
   ]
  },
  {
   "cell_type": "code",
   "execution_count": 87,
   "metadata": {},
   "outputs": [
    {
     "data": {
      "text/plain": [
       "array([[ 15719, 265760],\n",
       "       [ 13676, 704845]])"
      ]
     },
     "execution_count": 87,
     "metadata": {},
     "output_type": "execute_result"
    }
   ],
   "source": [
    "#create contingency table\n",
    "contingency_table = np.array([[desktop_orders, desktop_no_orders],\n",
    "                            [mobile_orders, mobile_no_orders]])\n",
    "contingency_table"
   ]
  },
  {
   "cell_type": "code",
   "execution_count": 88,
   "metadata": {},
   "outputs": [
    {
     "data": {
      "text/plain": [
       "(9604.192143184011,\n",
       " 0.0,\n",
       " 1,\n",
       " array([[  8274.075205, 273204.924795],\n",
       "        [ 21120.924795, 697400.075205]]))"
      ]
     },
     "execution_count": 88,
     "metadata": {},
     "output_type": "execute_result"
    }
   ],
   "source": [
    "#Perform chi2_contingency test\n",
    "stats.chi2_contingency(contingency_table)"
   ]
  },
  {
   "cell_type": "code",
   "execution_count": 92,
   "metadata": {},
   "outputs": [
    {
     "name": "stdout",
     "output_type": "stream",
     "text": [
      "Conversion Rate for desktop:\n",
      "\t5.584%\n",
      "Conversion Rate for mobile:\n",
      "\t1.903%\n",
      "\n",
      "Absolute difference of CR: 3.681%\n"
     ]
    }
   ],
   "source": [
    "# Find the difference in conversion rate\n",
    "desktop_CR, mobile_CR = contingency_table[:, 0] / contingency_table.sum(axis=1)\n",
    "\n",
    "print(f'Conversion Rate for desktop:\\n\\t{100*desktop_CR:.3f}%')\n",
    "print(f'Conversion Rate for mobile:\\n\\t{100*mobile_CR:.3f}%')\n",
    "print('')\n",
    "print(f'Absolute difference of CR: {100*(desktop_CR-mobile_CR):.3f}%')"
   ]
  },
  {
   "cell_type": "markdown",
   "metadata": {},
   "source": [
    "We are rejecting H0 b/c our P Value is below alpha. This means that there is a difference between Desktop and Mobile orders. Specifically, Desktop receives more orders than Mobile."
   ]
  },
  {
   "cell_type": "code",
   "execution_count": null,
   "metadata": {},
   "outputs": [],
   "source": []
  }
 ],
 "metadata": {
  "kernelspec": {
   "display_name": "Python (learn-env)",
   "language": "python",
   "name": "learn-env"
  },
  "language_info": {
   "codemirror_mode": {
    "name": "ipython",
    "version": 3
   },
   "file_extension": ".py",
   "mimetype": "text/x-python",
   "name": "python",
   "nbconvert_exporter": "python",
   "pygments_lexer": "ipython3",
   "version": "3.8.5"
  },
  "toc": {
   "base_numbering": 1,
   "nav_menu": {},
   "number_sections": true,
   "sideBar": true,
   "skip_h1_title": false,
   "title_cell": "Table of Contents",
   "title_sidebar": "TOC",
   "toc_cell": true,
   "toc_position": {
    "height": "calc(100% - 180px)",
    "left": "10px",
    "top": "150px",
    "width": "288px"
   },
   "toc_section_display": true,
   "toc_window_display": true
  }
 },
 "nbformat": 4,
 "nbformat_minor": 4
}
