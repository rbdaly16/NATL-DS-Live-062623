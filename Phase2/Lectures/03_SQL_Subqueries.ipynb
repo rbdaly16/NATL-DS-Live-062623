{
 "cells": [
  {
   "cell_type": "code",
   "execution_count": 2,
   "metadata": {},
   "outputs": [],
   "source": [
    "import pandas as pd\n",
    "import sqlite3"
   ]
  },
  {
   "cell_type": "markdown",
   "metadata": {
    "heading_collapsed": true,
    "slideshow": {
     "slide_type": "slide"
    }
   },
   "source": [
    "# Objectives"
   ]
  },
  {
   "cell_type": "markdown",
   "metadata": {
    "hidden": true,
    "slideshow": {
     "slide_type": "slide"
    }
   },
   "source": [
    "- Use SQL subqueries to nest queries\n",
    "- Identify common SQL dialects and tools\n",
    "- Query data from web databases"
   ]
  },
  {
   "cell_type": "markdown",
   "metadata": {},
   "source": [
    "![yo dawg sql meme](images/yodawg.jpeg)"
   ]
  },
  {
   "cell_type": "markdown",
   "metadata": {
    "heading_collapsed": true
   },
   "source": [
    "# SQL Subqueries"
   ]
  },
  {
   "cell_type": "markdown",
   "metadata": {
    "hidden": true
   },
   "source": [
    "Like you might nest one function within another in Python, you can nest queries in SQL. We can use a **subquery** within another query to succinctly implement queries that have multiple query steps."
   ]
  },
  {
   "cell_type": "code",
   "execution_count": 4,
   "metadata": {
    "hidden": true
   },
   "outputs": [],
   "source": [
    "conn = sqlite3.connect('data/flights.db') #method/function"
   ]
  },
  {
   "cell_type": "code",
   "execution_count": 5,
   "metadata": {},
   "outputs": [],
   "source": [
    "connection = sqlite3.Connection('data/flights.db') #class -> we give it information and it creates a unique connection specific to that database"
   ]
  },
  {
   "cell_type": "code",
   "execution_count": 6,
   "metadata": {},
   "outputs": [
    {
     "data": {
      "text/plain": [
       "(sqlite3.Connection, sqlite3.Connection)"
      ]
     },
     "execution_count": 6,
     "metadata": {},
     "output_type": "execute_result"
    }
   ],
   "source": [
    "type(conn),type(connection)"
   ]
  },
  {
   "cell_type": "markdown",
   "metadata": {
    "heading_collapsed": true,
    "hidden": true
   },
   "source": [
    "## Subqueries in `FROM`"
   ]
  },
  {
   "cell_type": "markdown",
   "metadata": {
    "hidden": true
   },
   "source": [
    "You can use a subquery in the `FROM` clause - this is useful, for example, if you want to apply multiple aggregation functions.\n",
    "\n",
    "Let say we want to get the average of the number of routes departing from all airports. First we'd need to get the total number of routes departing from all airports, then take the average."
   ]
  },
  {
   "cell_type": "code",
   "execution_count": 7,
   "metadata": {
    "hidden": true,
    "scrolled": true
   },
   "outputs": [
    {
     "data": {
      "text/html": [
       "<div>\n",
       "<style scoped>\n",
       "    .dataframe tbody tr th:only-of-type {\n",
       "        vertical-align: middle;\n",
       "    }\n",
       "\n",
       "    .dataframe tbody tr th {\n",
       "        vertical-align: top;\n",
       "    }\n",
       "\n",
       "    .dataframe thead th {\n",
       "        text-align: right;\n",
       "    }\n",
       "</style>\n",
       "<table border=\"1\" class=\"dataframe\">\n",
       "  <thead>\n",
       "    <tr style=\"text-align: right;\">\n",
       "      <th></th>\n",
       "      <th>departing_airport</th>\n",
       "      <th>num_departures</th>\n",
       "    </tr>\n",
       "  </thead>\n",
       "  <tbody>\n",
       "    <tr>\n",
       "      <th>0</th>\n",
       "      <td>AAE</td>\n",
       "      <td>9</td>\n",
       "    </tr>\n",
       "    <tr>\n",
       "      <th>1</th>\n",
       "      <td>AAL</td>\n",
       "      <td>20</td>\n",
       "    </tr>\n",
       "    <tr>\n",
       "      <th>2</th>\n",
       "      <td>AAN</td>\n",
       "      <td>2</td>\n",
       "    </tr>\n",
       "    <tr>\n",
       "      <th>3</th>\n",
       "      <td>AAQ</td>\n",
       "      <td>3</td>\n",
       "    </tr>\n",
       "    <tr>\n",
       "      <th>4</th>\n",
       "      <td>AAR</td>\n",
       "      <td>8</td>\n",
       "    </tr>\n",
       "    <tr>\n",
       "      <th>...</th>\n",
       "      <td>...</td>\n",
       "      <td>...</td>\n",
       "    </tr>\n",
       "    <tr>\n",
       "      <th>3404</th>\n",
       "      <td>ZUH</td>\n",
       "      <td>60</td>\n",
       "    </tr>\n",
       "    <tr>\n",
       "      <th>3405</th>\n",
       "      <td>ZUM</td>\n",
       "      <td>2</td>\n",
       "    </tr>\n",
       "    <tr>\n",
       "      <th>3406</th>\n",
       "      <td>ZVK</td>\n",
       "      <td>3</td>\n",
       "    </tr>\n",
       "    <tr>\n",
       "      <th>3407</th>\n",
       "      <td>ZYI</td>\n",
       "      <td>15</td>\n",
       "    </tr>\n",
       "    <tr>\n",
       "      <th>3408</th>\n",
       "      <td>ZYL</td>\n",
       "      <td>4</td>\n",
       "    </tr>\n",
       "  </tbody>\n",
       "</table>\n",
       "<p>3409 rows × 2 columns</p>\n",
       "</div>"
      ],
      "text/plain": [
       "     departing_airport  num_departures\n",
       "0                  AAE               9\n",
       "1                  AAL              20\n",
       "2                  AAN               2\n",
       "3                  AAQ               3\n",
       "4                  AAR               8\n",
       "...                ...             ...\n",
       "3404               ZUH              60\n",
       "3405               ZUM               2\n",
       "3406               ZVK               3\n",
       "3407               ZYI              15\n",
       "3408               ZYL               4\n",
       "\n",
       "[3409 rows x 2 columns]"
      ]
     },
     "execution_count": 7,
     "metadata": {},
     "output_type": "execute_result"
    }
   ],
   "source": [
    "pd.read_sql('''\n",
    "\n",
    "SELECT source AS departing_airport, COUNT() AS num_departures\n",
    "FROM routes\n",
    "GROUP BY source\n",
    "\n",
    "''', conn)"
   ]
  },
  {
   "cell_type": "markdown",
   "metadata": {
    "hidden": true
   },
   "source": [
    "We can use this query as a subquery, and take the average of the new `number_of_departures` column."
   ]
  },
  {
   "cell_type": "code",
   "execution_count": 8,
   "metadata": {
    "hidden": true,
    "scrolled": true
   },
   "outputs": [
    {
     "data": {
      "text/html": [
       "<div>\n",
       "<style scoped>\n",
       "    .dataframe tbody tr th:only-of-type {\n",
       "        vertical-align: middle;\n",
       "    }\n",
       "\n",
       "    .dataframe tbody tr th {\n",
       "        vertical-align: top;\n",
       "    }\n",
       "\n",
       "    .dataframe thead th {\n",
       "        text-align: right;\n",
       "    }\n",
       "</style>\n",
       "<table border=\"1\" class=\"dataframe\">\n",
       "  <thead>\n",
       "    <tr style=\"text-align: right;\">\n",
       "      <th></th>\n",
       "      <th>avg_num_departures</th>\n",
       "    </tr>\n",
       "  </thead>\n",
       "  <tbody>\n",
       "    <tr>\n",
       "      <th>0</th>\n",
       "      <td>19.848343</td>\n",
       "    </tr>\n",
       "  </tbody>\n",
       "</table>\n",
       "</div>"
      ],
      "text/plain": [
       "   avg_num_departures\n",
       "0           19.848343"
      ]
     },
     "execution_count": 8,
     "metadata": {},
     "output_type": "execute_result"
    }
   ],
   "source": [
    "pd.read_sql('''\n",
    "\n",
    "SELECT AVG(num_departures) AS avg_num_departures\n",
    "FROM (SELECT source AS departing_airport, COUNT() AS num_departures\n",
    "        FROM routes\n",
    "        GROUP BY source)\n",
    "\n",
    "''', conn)"
   ]
  },
  {
   "cell_type": "markdown",
   "metadata": {
    "heading_collapsed": true,
    "hidden": true
   },
   "source": [
    "## Note: Subqueries are Like New Tables!"
   ]
  },
  {
   "cell_type": "markdown",
   "metadata": {
    "hidden": true
   },
   "source": [
    "If you squint, you'll notice that the subquery is taking the place of where we might put a table!"
   ]
  },
  {
   "cell_type": "markdown",
   "metadata": {
    "hidden": true
   },
   "source": [
    "For example, checkout the SQL we wrote in our first subquery example:\n",
    "\n",
    "```sql\n",
    "SELECT \n",
    "    AVG(number_of_departures)\n",
    "FROM (\n",
    "    SELECT \n",
    "        source AS depart_airport\n",
    "        ,COUNT() AS number_of_departures\n",
    "    FROM\n",
    "        routes\n",
    "    GROUP BY\n",
    "        source\n",
    ")\n",
    "```"
   ]
  },
  {
   "cell_type": "markdown",
   "metadata": {
    "hidden": true
   },
   "source": [
    "We could imagine that some new table that returned by the subquery existed (let's call it `airport_departures`) and be placed in place of the subquery:\n",
    "\n",
    "```sql\n",
    "SELECT \n",
    "    AVG(number_of_departures)\n",
    "FROM (\n",
    "    airport_departures -- Replacing subquery with this hypothetical table\n",
    ") \n",
    "```"
   ]
  },
  {
   "cell_type": "markdown",
   "metadata": {
    "hidden": true
   },
   "source": [
    "You can actually use syntax close to this with **Common Table Expressions (CTEs)** found in the [Level Up section](#Level-Up:-Common-Table-Expressions) below."
   ]
  },
  {
   "cell_type": "markdown",
   "metadata": {
    "heading_collapsed": true,
    "hidden": true
   },
   "source": [
    "## Subqueries in `WHERE`"
   ]
  },
  {
   "cell_type": "markdown",
   "metadata": {
    "hidden": true
   },
   "source": [
    "You can use a subquery in the `WHERE` clause - this is useful, for example, if you want to filter a query based on results from another query.\n",
    "\n",
    "Let's say that we want to get a table with all of the departures and destinations for the flight routes, but I only want to include flights departing from the five countries with the most airports.\n",
    "\n",
    "To do this, we'd first need to identify the five countries that have the most airports. "
   ]
  },
  {
   "cell_type": "code",
   "execution_count": 10,
   "metadata": {
    "hidden": true
   },
   "outputs": [
    {
     "data": {
      "text/html": [
       "<div>\n",
       "<style scoped>\n",
       "    .dataframe tbody tr th:only-of-type {\n",
       "        vertical-align: middle;\n",
       "    }\n",
       "\n",
       "    .dataframe tbody tr th {\n",
       "        vertical-align: top;\n",
       "    }\n",
       "\n",
       "    .dataframe thead th {\n",
       "        text-align: right;\n",
       "    }\n",
       "</style>\n",
       "<table border=\"1\" class=\"dataframe\">\n",
       "  <thead>\n",
       "    <tr style=\"text-align: right;\">\n",
       "      <th></th>\n",
       "      <th>country</th>\n",
       "    </tr>\n",
       "  </thead>\n",
       "  <tbody>\n",
       "    <tr>\n",
       "      <th>0</th>\n",
       "      <td>United States</td>\n",
       "    </tr>\n",
       "    <tr>\n",
       "      <th>1</th>\n",
       "      <td>Canada</td>\n",
       "    </tr>\n",
       "    <tr>\n",
       "      <th>2</th>\n",
       "      <td>Germany</td>\n",
       "    </tr>\n",
       "    <tr>\n",
       "      <th>3</th>\n",
       "      <td>Australia</td>\n",
       "    </tr>\n",
       "    <tr>\n",
       "      <th>4</th>\n",
       "      <td>Russia</td>\n",
       "    </tr>\n",
       "  </tbody>\n",
       "</table>\n",
       "</div>"
      ],
      "text/plain": [
       "         country\n",
       "0  United States\n",
       "1         Canada\n",
       "2        Germany\n",
       "3      Australia\n",
       "4         Russia"
      ]
     },
     "execution_count": 10,
     "metadata": {},
     "output_type": "execute_result"
    }
   ],
   "source": [
    "pd.read_sql('''\n",
    "\n",
    "SELECT country\n",
    "FROM airports\n",
    "GROUP BY country\n",
    "ORDER BY COUNT() DESC\n",
    "LIMIT 5\n",
    "\n",
    "''', conn)"
   ]
  },
  {
   "cell_type": "markdown",
   "metadata": {
    "hidden": true
   },
   "source": [
    "I could enter these results into a new query of the routes table to get the data I want."
   ]
  },
  {
   "cell_type": "code",
   "execution_count": 12,
   "metadata": {
    "hidden": true
   },
   "outputs": [
    {
     "data": {
      "text/html": [
       "<div>\n",
       "<style scoped>\n",
       "    .dataframe tbody tr th:only-of-type {\n",
       "        vertical-align: middle;\n",
       "    }\n",
       "\n",
       "    .dataframe tbody tr th {\n",
       "        vertical-align: top;\n",
       "    }\n",
       "\n",
       "    .dataframe thead th {\n",
       "        text-align: right;\n",
       "    }\n",
       "</style>\n",
       "<table border=\"1\" class=\"dataframe\">\n",
       "  <thead>\n",
       "    <tr style=\"text-align: right;\">\n",
       "      <th></th>\n",
       "      <th>departing_airport</th>\n",
       "      <th>destination</th>\n",
       "      <th>departing_country</th>\n",
       "    </tr>\n",
       "  </thead>\n",
       "  <tbody>\n",
       "    <tr>\n",
       "      <th>0</th>\n",
       "      <td>DRW</td>\n",
       "      <td>SIN</td>\n",
       "      <td>Australia</td>\n",
       "    </tr>\n",
       "    <tr>\n",
       "      <th>1</th>\n",
       "      <td>PER</td>\n",
       "      <td>SIN</td>\n",
       "      <td>Australia</td>\n",
       "    </tr>\n",
       "    <tr>\n",
       "      <th>2</th>\n",
       "      <td>MEL</td>\n",
       "      <td>CTU</td>\n",
       "      <td>Australia</td>\n",
       "    </tr>\n",
       "    <tr>\n",
       "      <th>3</th>\n",
       "      <td>SYD</td>\n",
       "      <td>CKG</td>\n",
       "      <td>Australia</td>\n",
       "    </tr>\n",
       "    <tr>\n",
       "      <th>4</th>\n",
       "      <td>ADL</td>\n",
       "      <td>BNE</td>\n",
       "      <td>Australia</td>\n",
       "    </tr>\n",
       "    <tr>\n",
       "      <th>...</th>\n",
       "      <td>...</td>\n",
       "      <td>...</td>\n",
       "      <td>...</td>\n",
       "    </tr>\n",
       "    <tr>\n",
       "      <th>20330</th>\n",
       "      <td>SOW</td>\n",
       "      <td>FMN</td>\n",
       "      <td>United States</td>\n",
       "    </tr>\n",
       "    <tr>\n",
       "      <th>20331</th>\n",
       "      <td>SOW</td>\n",
       "      <td>PHX</td>\n",
       "      <td>United States</td>\n",
       "    </tr>\n",
       "    <tr>\n",
       "      <th>20332</th>\n",
       "      <td>SVC</td>\n",
       "      <td>PHX</td>\n",
       "      <td>United States</td>\n",
       "    </tr>\n",
       "    <tr>\n",
       "      <th>20333</th>\n",
       "      <td>VIS</td>\n",
       "      <td>LAX</td>\n",
       "      <td>United States</td>\n",
       "    </tr>\n",
       "    <tr>\n",
       "      <th>20334</th>\n",
       "      <td>WRL</td>\n",
       "      <td>CYS</td>\n",
       "      <td>United States</td>\n",
       "    </tr>\n",
       "  </tbody>\n",
       "</table>\n",
       "<p>20335 rows × 3 columns</p>\n",
       "</div>"
      ],
      "text/plain": [
       "      departing_airport destination departing_country\n",
       "0                   DRW         SIN         Australia\n",
       "1                   PER         SIN         Australia\n",
       "2                   MEL         CTU         Australia\n",
       "3                   SYD         CKG         Australia\n",
       "4                   ADL         BNE         Australia\n",
       "...                 ...         ...               ...\n",
       "20330               SOW         FMN     United States\n",
       "20331               SOW         PHX     United States\n",
       "20332               SVC         PHX     United States\n",
       "20333               VIS         LAX     United States\n",
       "20334               WRL         CYS     United States\n",
       "\n",
       "[20335 rows x 3 columns]"
      ]
     },
     "execution_count": 12,
     "metadata": {},
     "output_type": "execute_result"
    }
   ],
   "source": [
    "pd.read_sql('''\n",
    "\n",
    "SELECT r.source AS departing_airport, r.dest AS destination, a.country AS departing_country\n",
    "FROM routes AS r\n",
    "    LEFT JOIN airports AS a\n",
    "        ON r.source_id = a.id\n",
    "WHERE a.country IN ('United States', 'Canada', 'Germany', 'Australia', 'Russia')\n",
    "ORDER BY departing_country\n",
    "\n",
    "''', conn)"
   ]
  },
  {
   "cell_type": "markdown",
   "metadata": {
    "hidden": true
   },
   "source": [
    "This approach works but has a few limitations:\n",
    "\n",
    "- We have to manually enter the countries to filter them\n",
    "- The list of countries won't update with our data, so we'd have to monitor and manually change them in the future\n",
    "- We have to look at two separate queries to understand what our code is supposed to do\n",
    "- We have to run two separate queries, which might take longer than one combined query\n",
    "\n",
    "A better solution uses a subquery to get the list of 5 countries and feed it into our WHERE clause."
   ]
  },
  {
   "cell_type": "code",
   "execution_count": 13,
   "metadata": {
    "hidden": true
   },
   "outputs": [
    {
     "data": {
      "text/html": [
       "<div>\n",
       "<style scoped>\n",
       "    .dataframe tbody tr th:only-of-type {\n",
       "        vertical-align: middle;\n",
       "    }\n",
       "\n",
       "    .dataframe tbody tr th {\n",
       "        vertical-align: top;\n",
       "    }\n",
       "\n",
       "    .dataframe thead th {\n",
       "        text-align: right;\n",
       "    }\n",
       "</style>\n",
       "<table border=\"1\" class=\"dataframe\">\n",
       "  <thead>\n",
       "    <tr style=\"text-align: right;\">\n",
       "      <th></th>\n",
       "      <th>departing_airport</th>\n",
       "      <th>destination</th>\n",
       "      <th>departing_country</th>\n",
       "    </tr>\n",
       "  </thead>\n",
       "  <tbody>\n",
       "    <tr>\n",
       "      <th>0</th>\n",
       "      <td>DRW</td>\n",
       "      <td>SIN</td>\n",
       "      <td>Australia</td>\n",
       "    </tr>\n",
       "    <tr>\n",
       "      <th>1</th>\n",
       "      <td>PER</td>\n",
       "      <td>SIN</td>\n",
       "      <td>Australia</td>\n",
       "    </tr>\n",
       "    <tr>\n",
       "      <th>2</th>\n",
       "      <td>MEL</td>\n",
       "      <td>CTU</td>\n",
       "      <td>Australia</td>\n",
       "    </tr>\n",
       "    <tr>\n",
       "      <th>3</th>\n",
       "      <td>SYD</td>\n",
       "      <td>CKG</td>\n",
       "      <td>Australia</td>\n",
       "    </tr>\n",
       "    <tr>\n",
       "      <th>4</th>\n",
       "      <td>ADL</td>\n",
       "      <td>BNE</td>\n",
       "      <td>Australia</td>\n",
       "    </tr>\n",
       "    <tr>\n",
       "      <th>...</th>\n",
       "      <td>...</td>\n",
       "      <td>...</td>\n",
       "      <td>...</td>\n",
       "    </tr>\n",
       "    <tr>\n",
       "      <th>20330</th>\n",
       "      <td>SOW</td>\n",
       "      <td>FMN</td>\n",
       "      <td>United States</td>\n",
       "    </tr>\n",
       "    <tr>\n",
       "      <th>20331</th>\n",
       "      <td>SOW</td>\n",
       "      <td>PHX</td>\n",
       "      <td>United States</td>\n",
       "    </tr>\n",
       "    <tr>\n",
       "      <th>20332</th>\n",
       "      <td>SVC</td>\n",
       "      <td>PHX</td>\n",
       "      <td>United States</td>\n",
       "    </tr>\n",
       "    <tr>\n",
       "      <th>20333</th>\n",
       "      <td>VIS</td>\n",
       "      <td>LAX</td>\n",
       "      <td>United States</td>\n",
       "    </tr>\n",
       "    <tr>\n",
       "      <th>20334</th>\n",
       "      <td>WRL</td>\n",
       "      <td>CYS</td>\n",
       "      <td>United States</td>\n",
       "    </tr>\n",
       "  </tbody>\n",
       "</table>\n",
       "<p>20335 rows × 3 columns</p>\n",
       "</div>"
      ],
      "text/plain": [
       "      departing_airport destination departing_country\n",
       "0                   DRW         SIN         Australia\n",
       "1                   PER         SIN         Australia\n",
       "2                   MEL         CTU         Australia\n",
       "3                   SYD         CKG         Australia\n",
       "4                   ADL         BNE         Australia\n",
       "...                 ...         ...               ...\n",
       "20330               SOW         FMN     United States\n",
       "20331               SOW         PHX     United States\n",
       "20332               SVC         PHX     United States\n",
       "20333               VIS         LAX     United States\n",
       "20334               WRL         CYS     United States\n",
       "\n",
       "[20335 rows x 3 columns]"
      ]
     },
     "execution_count": 13,
     "metadata": {},
     "output_type": "execute_result"
    }
   ],
   "source": [
    "pd.read_sql('''\n",
    "\n",
    "SELECT r.source AS departing_airport, r.dest AS destination, a.country AS departing_country\n",
    "FROM routes AS r\n",
    "    LEFT JOIN airports AS a\n",
    "        ON r.source_id = a.id\n",
    "WHERE a.country IN (SELECT country\n",
    "                    FROM airports\n",
    "                    GROUP BY country\n",
    "                    ORDER BY COUNT() DESC\n",
    "                    LIMIT 5)\n",
    "ORDER BY departing_country\n",
    "\n",
    "''', conn)"
   ]
  },
  {
   "cell_type": "markdown",
   "metadata": {
    "heading_collapsed": true,
    "hidden": true
   },
   "source": [
    "## Level Up: Common Table Expressions"
   ]
  },
  {
   "cell_type": "markdown",
   "metadata": {
    "hidden": true
   },
   "source": [
    "Common Table Expressions (CTEs) are a more readable way to implement subqueries, using `WITH` and `AS`."
   ]
  },
  {
   "cell_type": "code",
   "execution_count": 14,
   "metadata": {
    "hidden": true
   },
   "outputs": [
    {
     "data": {
      "text/html": [
       "<div>\n",
       "<style scoped>\n",
       "    .dataframe tbody tr th:only-of-type {\n",
       "        vertical-align: middle;\n",
       "    }\n",
       "\n",
       "    .dataframe tbody tr th {\n",
       "        vertical-align: top;\n",
       "    }\n",
       "\n",
       "    .dataframe thead th {\n",
       "        text-align: right;\n",
       "    }\n",
       "</style>\n",
       "<table border=\"1\" class=\"dataframe\">\n",
       "  <thead>\n",
       "    <tr style=\"text-align: right;\">\n",
       "      <th></th>\n",
       "      <th>depart_airport</th>\n",
       "      <th>destination_airport</th>\n",
       "      <th>depart_country</th>\n",
       "    </tr>\n",
       "  </thead>\n",
       "  <tbody>\n",
       "    <tr>\n",
       "      <th>0</th>\n",
       "      <td>DRW</td>\n",
       "      <td>SIN</td>\n",
       "      <td>Australia</td>\n",
       "    </tr>\n",
       "    <tr>\n",
       "      <th>1</th>\n",
       "      <td>PER</td>\n",
       "      <td>SIN</td>\n",
       "      <td>Australia</td>\n",
       "    </tr>\n",
       "    <tr>\n",
       "      <th>2</th>\n",
       "      <td>MEL</td>\n",
       "      <td>CTU</td>\n",
       "      <td>Australia</td>\n",
       "    </tr>\n",
       "    <tr>\n",
       "      <th>3</th>\n",
       "      <td>SYD</td>\n",
       "      <td>CKG</td>\n",
       "      <td>Australia</td>\n",
       "    </tr>\n",
       "    <tr>\n",
       "      <th>4</th>\n",
       "      <td>ADL</td>\n",
       "      <td>BNE</td>\n",
       "      <td>Australia</td>\n",
       "    </tr>\n",
       "    <tr>\n",
       "      <th>...</th>\n",
       "      <td>...</td>\n",
       "      <td>...</td>\n",
       "      <td>...</td>\n",
       "    </tr>\n",
       "    <tr>\n",
       "      <th>20330</th>\n",
       "      <td>SOW</td>\n",
       "      <td>FMN</td>\n",
       "      <td>United States</td>\n",
       "    </tr>\n",
       "    <tr>\n",
       "      <th>20331</th>\n",
       "      <td>SOW</td>\n",
       "      <td>PHX</td>\n",
       "      <td>United States</td>\n",
       "    </tr>\n",
       "    <tr>\n",
       "      <th>20332</th>\n",
       "      <td>SVC</td>\n",
       "      <td>PHX</td>\n",
       "      <td>United States</td>\n",
       "    </tr>\n",
       "    <tr>\n",
       "      <th>20333</th>\n",
       "      <td>VIS</td>\n",
       "      <td>LAX</td>\n",
       "      <td>United States</td>\n",
       "    </tr>\n",
       "    <tr>\n",
       "      <th>20334</th>\n",
       "      <td>WRL</td>\n",
       "      <td>CYS</td>\n",
       "      <td>United States</td>\n",
       "    </tr>\n",
       "  </tbody>\n",
       "</table>\n",
       "<p>20335 rows × 3 columns</p>\n",
       "</div>"
      ],
      "text/plain": [
       "      depart_airport destination_airport depart_country\n",
       "0                DRW                 SIN      Australia\n",
       "1                PER                 SIN      Australia\n",
       "2                MEL                 CTU      Australia\n",
       "3                SYD                 CKG      Australia\n",
       "4                ADL                 BNE      Australia\n",
       "...              ...                 ...            ...\n",
       "20330            SOW                 FMN  United States\n",
       "20331            SOW                 PHX  United States\n",
       "20332            SVC                 PHX  United States\n",
       "20333            VIS                 LAX  United States\n",
       "20334            WRL                 CYS  United States\n",
       "\n",
       "[20335 rows x 3 columns]"
      ]
     },
     "execution_count": 14,
     "metadata": {},
     "output_type": "execute_result"
    }
   ],
   "source": [
    "pd.read_sql('''\n",
    "WITH top_5_countries AS (SELECT country\n",
    "                    FROM airports\n",
    "                    GROUP BY country\n",
    "                    ORDER BY COUNT() DESC\n",
    "                    LIMIT 5)\n",
    "\n",
    "SELECT \n",
    "    rt.source AS depart_airport\n",
    "    ,rt.dest AS destination_airport\n",
    "    ,ap.country AS depart_country\n",
    "FROM\n",
    "    routes AS rt\n",
    "    LEFT JOIN airports AS ap\n",
    "        ON rt.source_id = ap.id\n",
    "WHERE \n",
    "    ap.country IN top_5_countries\n",
    "ORDER BY \n",
    "    depart_country\n",
    "''', conn)"
   ]
  },
  {
   "cell_type": "markdown",
   "metadata": {
    "heading_collapsed": true,
    "hidden": true
   },
   "source": [
    "### Exercise"
   ]
  },
  {
   "cell_type": "markdown",
   "metadata": {
    "hidden": true
   },
   "source": [
    "Create a table listing all airlines that serve the three airports with the most outbound routes."
   ]
  },
  {
   "cell_type": "code",
   "execution_count": 17,
   "metadata": {
    "hidden": true
   },
   "outputs": [
    {
     "data": {
      "text/html": [
       "<div>\n",
       "<style scoped>\n",
       "    .dataframe tbody tr th:only-of-type {\n",
       "        vertical-align: middle;\n",
       "    }\n",
       "\n",
       "    .dataframe tbody tr th {\n",
       "        vertical-align: top;\n",
       "    }\n",
       "\n",
       "    .dataframe thead th {\n",
       "        text-align: right;\n",
       "    }\n",
       "</style>\n",
       "<table border=\"1\" class=\"dataframe\">\n",
       "  <thead>\n",
       "    <tr style=\"text-align: right;\">\n",
       "      <th></th>\n",
       "      <th>airline</th>\n",
       "    </tr>\n",
       "  </thead>\n",
       "  <tbody>\n",
       "    <tr>\n",
       "      <th>0</th>\n",
       "      <td>3E</td>\n",
       "    </tr>\n",
       "    <tr>\n",
       "      <th>1</th>\n",
       "      <td>3M</td>\n",
       "    </tr>\n",
       "    <tr>\n",
       "      <th>2</th>\n",
       "      <td>3U</td>\n",
       "    </tr>\n",
       "    <tr>\n",
       "      <th>3</th>\n",
       "      <td>5J</td>\n",
       "    </tr>\n",
       "    <tr>\n",
       "      <th>4</th>\n",
       "      <td>8L</td>\n",
       "    </tr>\n",
       "    <tr>\n",
       "      <th>...</th>\n",
       "      <td>...</td>\n",
       "    </tr>\n",
       "    <tr>\n",
       "      <th>97</th>\n",
       "      <td>WN</td>\n",
       "    </tr>\n",
       "    <tr>\n",
       "      <th>98</th>\n",
       "      <td>WS</td>\n",
       "    </tr>\n",
       "    <tr>\n",
       "      <th>99</th>\n",
       "      <td>Y4</td>\n",
       "    </tr>\n",
       "    <tr>\n",
       "      <th>100</th>\n",
       "      <td>Y7</td>\n",
       "    </tr>\n",
       "    <tr>\n",
       "      <th>101</th>\n",
       "      <td>ZH</td>\n",
       "    </tr>\n",
       "  </tbody>\n",
       "</table>\n",
       "<p>102 rows × 1 columns</p>\n",
       "</div>"
      ],
      "text/plain": [
       "    airline\n",
       "0        3E\n",
       "1        3M\n",
       "2        3U\n",
       "3        5J\n",
       "4        8L\n",
       "..      ...\n",
       "97       WN\n",
       "98       WS\n",
       "99       Y4\n",
       "100      Y7\n",
       "101      ZH\n",
       "\n",
       "[102 rows x 1 columns]"
      ]
     },
     "execution_count": 17,
     "metadata": {},
     "output_type": "execute_result"
    }
   ],
   "source": [
    "## Your work here\n",
    "pd.read_sql(\"\"\"\n",
    "\n",
    "WITH top_3_airports AS (\n",
    "                        SELECT ap.id \n",
    "                        FROM airports AS ap\n",
    "                            LEFT JOIN routes AS r\n",
    "                                ON ap.id = r.source_id\n",
    "                        GROUP BY ap.id\n",
    "                        ORDER BY COUNT() DESC\n",
    "                        LIMIT 3\n",
    "\n",
    ")\n",
    "\n",
    "SELECT r.airline\n",
    "FROM routes AS r\n",
    "WHERE r.source_id IN top_3_airports\n",
    "GROUP BY r.airline\n",
    "\n",
    "\n",
    "\"\"\",conn)"
   ]
  },
  {
   "cell_type": "code",
   "execution_count": 19,
   "metadata": {},
   "outputs": [
    {
     "data": {
      "text/html": [
       "<div>\n",
       "<style scoped>\n",
       "    .dataframe tbody tr th:only-of-type {\n",
       "        vertical-align: middle;\n",
       "    }\n",
       "\n",
       "    .dataframe tbody tr th {\n",
       "        vertical-align: top;\n",
       "    }\n",
       "\n",
       "    .dataframe thead th {\n",
       "        text-align: right;\n",
       "    }\n",
       "</style>\n",
       "<table border=\"1\" class=\"dataframe\">\n",
       "  <thead>\n",
       "    <tr style=\"text-align: right;\">\n",
       "      <th></th>\n",
       "      <th>airline</th>\n",
       "    </tr>\n",
       "  </thead>\n",
       "  <tbody>\n",
       "    <tr>\n",
       "      <th>0</th>\n",
       "      <td>3E</td>\n",
       "    </tr>\n",
       "    <tr>\n",
       "      <th>1</th>\n",
       "      <td>3M</td>\n",
       "    </tr>\n",
       "    <tr>\n",
       "      <th>2</th>\n",
       "      <td>3U</td>\n",
       "    </tr>\n",
       "    <tr>\n",
       "      <th>3</th>\n",
       "      <td>5J</td>\n",
       "    </tr>\n",
       "    <tr>\n",
       "      <th>4</th>\n",
       "      <td>8L</td>\n",
       "    </tr>\n",
       "    <tr>\n",
       "      <th>...</th>\n",
       "      <td>...</td>\n",
       "    </tr>\n",
       "    <tr>\n",
       "      <th>97</th>\n",
       "      <td>WN</td>\n",
       "    </tr>\n",
       "    <tr>\n",
       "      <th>98</th>\n",
       "      <td>WS</td>\n",
       "    </tr>\n",
       "    <tr>\n",
       "      <th>99</th>\n",
       "      <td>Y4</td>\n",
       "    </tr>\n",
       "    <tr>\n",
       "      <th>100</th>\n",
       "      <td>Y7</td>\n",
       "    </tr>\n",
       "    <tr>\n",
       "      <th>101</th>\n",
       "      <td>ZH</td>\n",
       "    </tr>\n",
       "  </tbody>\n",
       "</table>\n",
       "<p>102 rows × 1 columns</p>\n",
       "</div>"
      ],
      "text/plain": [
       "    airline\n",
       "0        3E\n",
       "1        3M\n",
       "2        3U\n",
       "3        5J\n",
       "4        8L\n",
       "..      ...\n",
       "97       WN\n",
       "98       WS\n",
       "99       Y4\n",
       "100      Y7\n",
       "101      ZH\n",
       "\n",
       "[102 rows x 1 columns]"
      ]
     },
     "execution_count": 19,
     "metadata": {},
     "output_type": "execute_result"
    }
   ],
   "source": [
    "# Can also do DISTINCT\n",
    "pd.read_sql(\"\"\"\n",
    "\n",
    "WITH top_3_airports AS (\n",
    "                        SELECT ap.id \n",
    "                        FROM airports AS ap\n",
    "                            LEFT JOIN routes AS r\n",
    "                                ON ap.id = r.source_id\n",
    "                        GROUP BY ap.id\n",
    "                        ORDER BY COUNT() DESC\n",
    "                        LIMIT 3\n",
    "\n",
    ")\n",
    "\n",
    "SELECT DISTINCT r.airline\n",
    "FROM routes AS r\n",
    "WHERE r.source_id IN top_3_airports\n",
    "\n",
    "\n",
    "\"\"\",conn)"
   ]
  },
  {
   "cell_type": "markdown",
   "metadata": {
    "hidden": true
   },
   "source": [
    "<p>\n",
    "</p>\n",
    "<details>\n",
    "    <summary><b><u>Click Here for Answer Code</u></b></summary>\n",
    "\n",
    "```sql\n",
    "WITH top_3_airports AS (\n",
    "    SELECT \n",
    "        airports.id \n",
    "    FROM \n",
    "        airports \n",
    "        LEFT JOIN routes\n",
    "            ON routes.source_id = airports.id\n",
    "    GROUP BY\n",
    "        airports.id\n",
    "    ORDER BY \n",
    "        COUNT() DESC\n",
    "    LIMIT 3\n",
    ") \n",
    "\n",
    "SELECT DISTINCT\n",
    "    rt.airline\n",
    "FROM\n",
    "    routes AS rt\n",
    "    LEFT JOIN airports AS ap\n",
    "        ON rt.source_id = ap.id\n",
    "WHERE \n",
    "    rt.source_id IN top_3_airports\n",
    "```\n",
    "</details>"
   ]
  },
  {
   "cell_type": "markdown",
   "metadata": {
    "heading_collapsed": true
   },
   "source": [
    "# SQL Versions"
   ]
  },
  {
   "cell_type": "markdown",
   "metadata": {
    "hidden": true
   },
   "source": [
    "There is no one version of SQL - there are many versions out there! What you're learning about SQL with SQLite will apply to all of them. Just keep in mind when you apply for jobs that you may see any of these listed in any given job posting, and they are all just different versions of what you know."
   ]
  },
  {
   "cell_type": "markdown",
   "metadata": {
    "heading_collapsed": true,
    "hidden": true
   },
   "source": [
    "## SQL Dialects"
   ]
  },
  {
   "cell_type": "markdown",
   "metadata": {
    "hidden": true
   },
   "source": [
    "As with dialects of spoken languages, SQL dialects have many commonalities but some differences in syntax and functionality.  Here are a few of the major players:\n",
    "\n",
    "- SQLite (we've already seen this!)\n",
    "- PostgreSQL (free and open-source!)\n",
    "- Oracle SQL\n",
    "- MySQL (half open-souce, half Oracle)\n",
    "- Microsoft SQL Server\n",
    "- Transact-SQL (extends MS SQL)"
   ]
  },
  {
   "cell_type": "markdown",
   "metadata": {
    "heading_collapsed": true,
    "hidden": true
   },
   "source": [
    "## SQLite Pros & Cons"
   ]
  },
  {
   "cell_type": "markdown",
   "metadata": {
    "hidden": true
   },
   "source": [
    "We use SQLite in this course, but it has some limitations."
   ]
  },
  {
   "cell_type": "markdown",
   "metadata": {
    "heading_collapsed": true,
    "hidden": true
   },
   "source": [
    "### Pros"
   ]
  },
  {
   "cell_type": "markdown",
   "metadata": {
    "hidden": true
   },
   "source": [
    "- Easy to set up\n",
    "- Easy to share database files\n",
    "- Uses little memory"
   ]
  },
  {
   "cell_type": "markdown",
   "metadata": {
    "heading_collapsed": true,
    "hidden": true
   },
   "source": [
    "### Cons"
   ]
  },
  {
   "cell_type": "markdown",
   "metadata": {
    "hidden": true
   },
   "source": [
    "- Limited functionality for managing users and access permissions\n",
    "- Not \"thread safe\": two edits at the same time can mess up your data"
   ]
  },
  {
   "cell_type": "markdown",
   "metadata": {
    "heading_collapsed": true,
    "hidden": true
   },
   "source": [
    "## Extra Resources: SQL Versions"
   ]
  },
  {
   "cell_type": "markdown",
   "metadata": {
    "hidden": true
   },
   "source": [
    "[What Is a SQL Dialect, and Which one Should You Learn?](https://learnsql.com/blog/what-sql-dialect-to-learn/)\n",
    "\n",
    "[SQLite vs MySQL vs PostgreSQL](https://www.digitalocean.com/community/tutorials/sqlite-vs-mysql-vs-postgresql-a-comparison-of-relational-database-management-systems)\n",
    "\n",
    "[SQL Dialect Reference](https://en.wikibooks.org/wiki/SQL_Dialects_Reference)"
   ]
  },
  {
   "cell_type": "markdown",
   "metadata": {
    "heading_collapsed": true
   },
   "source": [
    "# Web Databases: data.world"
   ]
  },
  {
   "cell_type": "markdown",
   "metadata": {
    "hidden": true
   },
   "source": [
    "For the rest of this lesson, we'll be exploring databases in [data.world](https://data.world/), a web database that we can query using SQL in our browser. For reference, you can see the instructions for creating a new project here: [Getting Started Working with Data at data.world](https://docs.data.world/en/64499-94893-Work-with-data--Projects.html)"
   ]
  },
  {
   "cell_type": "markdown",
   "metadata": {
    "heading_collapsed": true,
    "hidden": true
   },
   "source": [
    "## Step 1: Create a data.world account"
   ]
  },
  {
   "cell_type": "markdown",
   "metadata": {
    "hidden": true
   },
   "source": [
    "You will need to enter and verify your email address."
   ]
  },
  {
   "cell_type": "markdown",
   "metadata": {
    "heading_collapsed": true,
    "hidden": true
   },
   "source": [
    "## Step 2: Create a project using this [Austin AirBnB](https://data.world/jonloyens/inside-airbnb-austin) dataset"
   ]
  },
  {
   "cell_type": "markdown",
   "metadata": {
    "hidden": true
   },
   "source": [
    "Navigate to [this page](https://data.world/jonloyens/inside-airbnb-austin) and use the button at the top right of the page to create a new project using the data.\n",
    "\n",
    "![](images/data_world_austin_airbnb_new_proj.png)"
   ]
  },
  {
   "cell_type": "markdown",
   "metadata": {
    "heading_collapsed": true,
    "hidden": true
   },
   "source": [
    "## Step 3: Create a SQL query"
   ]
  },
  {
   "cell_type": "markdown",
   "metadata": {
    "hidden": true
   },
   "source": [
    "In your project, use the \"+ Add\" button to add a SQL query.\n",
    "\n",
    "![](images/data_world_add_sql_query.png)"
   ]
  },
  {
   "cell_type": "markdown",
   "metadata": {
    "heading_collapsed": true,
    "hidden": true
   },
   "source": [
    "## Step 4: Run a simple SQL query"
   ]
  },
  {
   "cell_type": "markdown",
   "metadata": {
    "hidden": true
   },
   "source": [
    "Try entering \"SELECT * FROM listings\" and clicking the \"Run Query\" button in the top right."
   ]
  },
  {
   "cell_type": "markdown",
   "metadata": {
    "heading_collapsed": true,
    "hidden": true
   },
   "source": [
    "## Step 5: Practice using SQL to explore the data"
   ]
  },
  {
   "cell_type": "markdown",
   "metadata": {
    "hidden": true
   },
   "source": [
    "Below are some exercises to practice your SQL skills and help explore the data. You will need to explore the table schemas to complete these exercises. \n",
    "\n",
    "You may find it helpful to click on the corresponding .csv files to inspect the data, or look at the columns in each table in the right sidebar."
   ]
  },
  {
   "cell_type": "markdown",
   "metadata": {
    "heading_collapsed": true,
    "hidden": true
   },
   "source": [
    "### Exercise 1: Create a table showing the number of listings in each neighborhood"
   ]
  },
  {
   "cell_type": "markdown",
   "metadata": {
    "hidden": true
   },
   "source": [
    "<details>\n",
    "    <summary><b><u>Click Here for Answer Code</u></b></summary>\n",
    "    \n",
    "```sql\n",
    "    SELECT neighbourhood, COUNT(*)\n",
    "    FROM listings\n",
    "    GROUP BY neighbourhood\n",
    "```   \n",
    "</details>"
   ]
  },
  {
   "cell_type": "markdown",
   "metadata": {
    "heading_collapsed": true,
    "hidden": true
   },
   "source": [
    "### Exercise 2: Create a table showing the 20 listings with the most reviews"
   ]
  },
  {
   "cell_type": "markdown",
   "metadata": {
    "hidden": true
   },
   "source": [
    "<details>\n",
    "    <summary><b><u>Click Here for Answer Code</u></b></summary>\n",
    "\n",
    "```sql\n",
    "    SELECT *\n",
    "    FROM listings\n",
    "    ORDER BY number_of_reviews DESC\n",
    "    LIMIT 20\n",
    "```\n",
    "</details>"
   ]
  },
  {
   "cell_type": "markdown",
   "metadata": {
    "heading_collapsed": true,
    "hidden": true
   },
   "source": [
    "### Exercise 3: Create a table showing all of the reviews for listings that are \"Bed & Breakfast\" property types."
   ]
  },
  {
   "cell_type": "markdown",
   "metadata": {
    "hidden": true
   },
   "source": [
    "<details>\n",
    "    <summary><b><u>Click Here for Answer Code</u></b></summary>\n",
    "\n",
    "```sql    \n",
    "    SELECT *\n",
    "    FROM reviews\n",
    "    INNER JOIN listings\n",
    "        ON listings.id = reviews.listing_id\n",
    "    WHERE listings.property_type = \"Bed & Breakfast\"\n",
    "```\n",
    "</details>"
   ]
  },
  {
   "cell_type": "markdown",
   "metadata": {
    "heading_collapsed": true,
    "hidden": true
   },
   "source": [
    "### Exercise 4: Run your own query using a subquery or CTE."
   ]
  },
  {
   "cell_type": "markdown",
   "metadata": {
    "hidden": true
   },
   "source": [
    "Note that the syntax and functionality for subqueries and CTEs in data.world are more limited than SQLite, so try creating simple ones."
   ]
  }
 ],
 "metadata": {
  "kernelspec": {
   "display_name": "Python (learn-env)",
   "language": "python",
   "name": "learn-env"
  },
  "language_info": {
   "codemirror_mode": {
    "name": "ipython",
    "version": 3
   },
   "file_extension": ".py",
   "mimetype": "text/x-python",
   "name": "python",
   "nbconvert_exporter": "python",
   "pygments_lexer": "ipython3",
   "version": "3.8.5"
  },
  "toc": {
   "base_numbering": 1,
   "nav_menu": {},
   "number_sections": true,
   "sideBar": true,
   "skip_h1_title": false,
   "title_cell": "Table of Contents",
   "title_sidebar": "TOC",
   "toc_cell": true,
   "toc_position": {
    "height": "calc(100% - 180px)",
    "left": "10px",
    "top": "150px",
    "width": "336px"
   },
   "toc_section_display": true,
   "toc_window_display": true
  }
 },
 "nbformat": 4,
 "nbformat_minor": 2
}
