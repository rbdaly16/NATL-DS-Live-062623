{
 "cells": [
  {
   "cell_type": "markdown",
   "metadata": {
    "index": 0
   },
   "source": [
    "# Phase 4 Code Challenge Review"
   ]
  },
  {
   "cell_type": "markdown",
   "metadata": {},
   "source": [
    "## Overview\n",
    "\n",
    "- Pipelines and gridsearching\n",
    "- Ensemble Methods\n",
    "- Natural Language Processing\n",
    "- Clustering"
   ]
  },
  {
   "cell_type": "code",
   "execution_count": 1,
   "metadata": {},
   "outputs": [],
   "source": [
    "# Basic Imports\n",
    "import pandas as pd\n",
    "import numpy as np\n",
    "import matplotlib.pyplot as plt\n",
    "from sklearn.preprocessing import StandardScaler\n",
    "from sklearn.linear_model import LogisticRegression\n",
    "from sklearn.ensemble import RandomForestClassifier\n",
    "from sklearn.model_selection import train_test_split, GridSearchCV\n",
    "from sklearn.pipeline import Pipeline"
   ]
  },
  {
   "cell_type": "code",
   "execution_count": 2,
   "metadata": {},
   "outputs": [],
   "source": [
    "# from src.call import call_on_students"
   ]
  },
  {
   "cell_type": "markdown",
   "metadata": {},
   "source": [
    "# 1) Pipelines and Gridsearching"
   ]
  },
  {
   "cell_type": "markdown",
   "metadata": {},
   "source": [
    "1. What are the benefits of using a pipline?"
   ]
  },
  {
   "cell_type": "code",
   "execution_count": 3,
   "metadata": {},
   "outputs": [],
   "source": [
    "# call_on_students(1)"
   ]
  },
  {
   "cell_type": "markdown",
   "metadata": {},
   "source": [
    "Benefits of using a pipeline is to consolidate code and streamline process. Visually pleasing and easy to see entire process.\n",
    "- flexible, grid searching, trying new models, iterations\n",
    "- reduce potential for error, reducing repitition, reducing risk of data leakage (via train and test, also via cross validation\n",
    "- simplifies workflows, condenses code\n",
    "- a lot easier to troubleshoot (subjective)"
   ]
  },
  {
   "cell_type": "markdown",
   "metadata": {},
   "source": [
    "2. What does a gridsearch achieve?"
   ]
  },
  {
   "cell_type": "code",
   "execution_count": 4,
   "metadata": {},
   "outputs": [],
   "source": [
    "# call_on_students(1)"
   ]
  },
  {
   "cell_type": "markdown",
   "metadata": {},
   "source": [
    "- optimal combination of hyperparamters from a given parameter grid\n",
    "- this can help expedite model iteration process\n",
    "- typically done with cross_val, and you can monitor/look at any metric you choose (or multiple)\n",
    "A gridsearch allows us to try multiple hyperparameters and determine which ones work best for the metric we're focusing on."
   ]
  },
  {
   "cell_type": "markdown",
   "metadata": {},
   "source": [
    "3. Set up a pipeline with a scaler and a logistic regression model on the breast cancer dataset that predicts whether the tumor is malignant (target = 1). Don't worry for now about a train-test split."
   ]
  },
  {
   "cell_type": "markdown",
   "metadata": {},
   "source": [
    "**Answer**:"
   ]
  },
  {
   "cell_type": "code",
   "execution_count": 5,
   "metadata": {},
   "outputs": [],
   "source": [
    "from sklearn.datasets import load_breast_cancer"
   ]
  },
  {
   "cell_type": "code",
   "execution_count": 11,
   "metadata": {},
   "outputs": [],
   "source": [
    "# Your code here\n",
    "data_overall = load_breast_cancer()\n",
    "data = data_overall.data\n",
    "target = data_overall.target\n",
    "log_pipe = Pipeline(steps=[('scale', StandardScaler()),\n",
    "                          ('logreg', LogisticRegression(random_state=42))])"
   ]
  },
  {
   "cell_type": "code",
   "execution_count": 12,
   "metadata": {},
   "outputs": [],
   "source": [
    "X, y = load_breast_cancer(return_X_y=True)"
   ]
  },
  {
   "cell_type": "markdown",
   "metadata": {},
   "source": [
    "4. Split the data into train and test and then gridsearch over pipelines like the one you just built to find the best-performing model. Try C (inverse regularization) values of 10, 1, and 0.1. Try out the best estimator on the test set."
   ]
  },
  {
   "cell_type": "markdown",
   "metadata": {},
   "source": [
    "**Answer**:"
   ]
  },
  {
   "cell_type": "code",
   "execution_count": 13,
   "metadata": {},
   "outputs": [
    {
     "name": "stdout",
     "output_type": "stream",
     "text": [
      "Pipeline(steps=[('scale', StandardScaler()),\n",
      "                ('logreg', LogisticRegression(C=10, random_state=42))])\n",
      "0.9764705882352942\n"
     ]
    }
   ],
   "source": [
    "# Your code here\n",
    "X_train, X_test, y_train, y_test = train_test_split(data, target, random_state=42)\n",
    "\n",
    "parameters = {'logreg__C': [10, 1, 0.1]}\n",
    "\n",
    "clf = GridSearchCV(estimator = log_pipe, param_grid = parameters)\n",
    "clf.fit(X_train, y_train)\n",
    "print(clf.best_estimator_)\n",
    "print(clf.best_score_)"
   ]
  },
  {
   "cell_type": "code",
   "execution_count": 14,
   "metadata": {},
   "outputs": [
    {
     "data": {
      "text/plain": [
       "0.972027972027972"
      ]
     },
     "execution_count": 14,
     "metadata": {},
     "output_type": "execute_result"
    }
   ],
   "source": [
    "clf_test_score = clf.best_estimator_.score(X_test, y_test)\n",
    "clf_test_score"
   ]
  },
  {
   "cell_type": "markdown",
   "metadata": {},
   "source": [
    "# 2) Ensemble Methods"
   ]
  },
  {
   "cell_type": "markdown",
   "metadata": {},
   "source": [
    "1. What sorts of ensembling methods have we looked at?"
   ]
  },
  {
   "cell_type": "markdown",
   "metadata": {},
   "source": [
    "- Bagging - Sample Bag, Random Forest, Extra Trees\n",
    "- random forest (tree based)\n",
    "- gradient boosting (tree based)\n",
    "- xgboost (tree based)\n",
    "- voting or stacking (any algo)"
   ]
  },
  {
   "cell_type": "code",
   "execution_count": null,
   "metadata": {},
   "outputs": [],
   "source": [
    "# call_on_students(1)"
   ]
  },
  {
   "cell_type": "markdown",
   "metadata": {},
   "source": [
    "2. What is random about a random forest?"
   ]
  },
  {
   "cell_type": "markdown",
   "metadata": {},
   "source": [
    "- each tree samples randomly from training data (bootstrap aggregation -> bagging)\n",
    "- above AND each decision node in each tree only looks at a random subset of features to determine best split (bootstrap aggr -> Random Forest)\n",
    "\n",
    "- Extra Trees -> each node each tree, features are random and the splitting value is random"
   ]
  },
  {
   "cell_type": "code",
   "execution_count": null,
   "metadata": {},
   "outputs": [],
   "source": [
    "# call_on_students(1)"
   ]
  },
  {
   "cell_type": "markdown",
   "metadata": {},
   "source": [
    "3. What hyperparameters of a random forest might it be useful to tune? How so?"
   ]
  },
  {
   "cell_type": "markdown",
   "metadata": {},
   "source": [
    "- max_depth -> cut the tree off at certain depth (steps) - stop tree from growing, helps prevent overfitting\n",
    "\n",
    "- n_estimators -> number of base estimators. In this case, number of trees in the forest\n",
    "\n",
    "- max_features -> how large the subset of features at each node is\n",
    "\n",
    "- max_samples -> how large each sample of training data for each tree is\n",
    "\n",
    "- min_samples_split / min_samples_leaf -> controlling when we split\n",
    "\n",
    "- criteria -> what metric do we use to determine 'best' split (gini, entropy)"
   ]
  },
  {
   "cell_type": "code",
   "execution_count": 15,
   "metadata": {},
   "outputs": [],
   "source": [
    "# call_on_students(1)"
   ]
  },
  {
   "cell_type": "markdown",
   "metadata": {},
   "source": [
    "4. Build a random forest model on the breast cancer dataset that predicts whether the tumor is malignant (target = 1). Make sure you do a train-test split!"
   ]
  },
  {
   "cell_type": "markdown",
   "metadata": {},
   "source": [
    "**Answer**:"
   ]
  },
  {
   "cell_type": "code",
   "execution_count": 17,
   "metadata": {},
   "outputs": [
    {
     "name": "stdout",
     "output_type": "stream",
     "text": [
      "{'min_samples_split': 2, 'n_estimators': 500}\n",
      "0.972027972027972\n"
     ]
    }
   ],
   "source": [
    "# Your code here\n",
    "X_train, X_test, y_train, y_test = train_test_split(data, target)\n",
    "\n",
    "random_forest = RandomForestClassifier(random_state=42)\n",
    "random_forest.fit(X_train, y_train)\n",
    "\n",
    "rf_params = {'n_estimators':[500, 100, 1000], 'min_samples_split':[2, 5, 10] }\n",
    "rf_grid_search = GridSearchCV(estimator= random_forest, param_grid=rf_params)\n",
    "rf_grid_search.fit(X_train,y_train)\n",
    "\n",
    "print(rf_grid_search.best_params_)\n",
    "print(rf_grid_search.best_estimator_.score(X_test, y_test))"
   ]
  },
  {
   "cell_type": "markdown",
   "metadata": {
    "index": 23
   },
   "source": [
    "# 3) Natural Language Processing"
   ]
  },
  {
   "cell_type": "markdown",
   "metadata": {},
   "source": [
    "## NLP Concepts\n",
    "\n",
    "### Some Example Text"
   ]
  },
  {
   "cell_type": "code",
   "execution_count": 19,
   "metadata": {
    "index": 24
   },
   "outputs": [],
   "source": [
    "# Each sentence is a document\n",
    "sentence_one = \"Harry Potter is the best young adult book about wizards\"\n",
    "sentence_two = \"Um, EXCUSE ME! Ever heard of Earth Sea?\"\n",
    "sentence_three = \"I only like to read non-fiction.  It makes me a better person.\"\n",
    "\n",
    "# The corpus is composed of all of the documents\n",
    "corpus = [sentence_one, sentence_two, sentence_three]"
   ]
  },
  {
   "cell_type": "markdown",
   "metadata": {},
   "source": [
    "### 1: NLP Pre-processing\n",
    "\n",
    "List at least three steps you can take to turn raw text like this into something that would be semantically valuable (aka ready to turn into numbers):"
   ]
  },
  {
   "cell_type": "code",
   "execution_count": 20,
   "metadata": {},
   "outputs": [],
   "source": [
    "# call_on_students(1)"
   ]
  },
  {
   "cell_type": "markdown",
   "metadata": {},
   "source": [
    "- rm punctuation\n",
    "- rm uppercase\n",
    "- rm stopwords\n",
    "- rm weird symbols (emojis, hashtags, web addresses)\n",
    "\n",
    "1. standardize with .lower()\n",
    "2. tokenize with tokenizer.tokenize()\n",
    "3. rm stop words\n",
    "4. stemming (stem of word) or lemmatizing (english root of word) words"
   ]
  },
  {
   "cell_type": "markdown",
   "metadata": {},
   "source": [
    "### 2: Describe what vectorized text would look like as a dataframe.\n",
    "\n",
    "If you vectorize the above corpus, what would the rows and columns be in the resulting dataframe (aka document term matrix)"
   ]
  },
  {
   "cell_type": "markdown",
   "metadata": {},
   "source": [
    "- rows would be each sentence and columns would be the stemmed words. Values are how many times they appear in each sentence"
   ]
  },
  {
   "cell_type": "code",
   "execution_count": 21,
   "metadata": {},
   "outputs": [],
   "source": [
    "# call_on_students(1)"
   ]
  },
  {
   "cell_type": "markdown",
   "metadata": {},
   "source": [
    "### 3: What does TF-IDF do?\n",
    "\n",
    "Also, what does TF-IDF stand for?"
   ]
  },
  {
   "cell_type": "markdown",
   "metadata": {},
   "source": [
    "Term Frequency-Inverse Document Frequency. \n",
    "- Measure of how useful a word is as an indicator. If term frequency is high in a single doc and term frequency is low across multiple docs, it is good indicator"
   ]
  },
  {
   "cell_type": "code",
   "execution_count": 22,
   "metadata": {},
   "outputs": [],
   "source": [
    "# call_on_students(1)"
   ]
  },
  {
   "cell_type": "markdown",
   "metadata": {
    "index": 33
   },
   "source": [
    "## NLP in Code\n",
    "\n",
    "### Set Up"
   ]
  },
  {
   "cell_type": "code",
   "execution_count": 23,
   "metadata": {
    "index": 34
   },
   "outputs": [],
   "source": [
    "# New section, new data\n",
    "policies = pd.read_csv('data/2020_policies_feb_24.csv')\n",
    "\n",
    "def warren_not_warren(label):\n",
    "    \n",
    "    '''Make label a binary between Elizabeth Warren\n",
    "    speeches and speeches from all other candidates'''\n",
    "    \n",
    "    if label =='warren':\n",
    "        return 1\n",
    "    else:\n",
    "        return 0\n",
    "    \n",
    "policies['candidate'] = policies['candidate'].apply(warren_not_warren)"
   ]
  },
  {
   "cell_type": "markdown",
   "metadata": {
    "index": 35
   },
   "source": [
    "The dataframe loaded above consists of policies of 2020 Democratic presidential hopefuls. The `policy` column holds text describing the policies themselves.  The `candidate` column indicates whether it was or was not an Elizabeth Warren policy."
   ]
  },
  {
   "cell_type": "code",
   "execution_count": null,
   "metadata": {
    "index": 36
   },
   "outputs": [],
   "source": [
    "policies.head()"
   ]
  },
  {
   "cell_type": "markdown",
   "metadata": {
    "index": 37
   },
   "source": [
    "The documents for activity are in the `policy` column, and the target is candidate. "
   ]
  },
  {
   "cell_type": "markdown",
   "metadata": {},
   "source": [
    "### 4: Import the Relevant Class, Then Instantiate and Fit a Count Vectorizer Object"
   ]
  },
  {
   "cell_type": "code",
   "execution_count": null,
   "metadata": {},
   "outputs": [],
   "source": [
    "# call_on_students(1)"
   ]
  },
  {
   "cell_type": "code",
   "execution_count": 24,
   "metadata": {},
   "outputs": [],
   "source": [
    "# First! Train-test split the dataset\n",
    "y = policies.pop('candidate')\n",
    "X = policies['policy']\n",
    "X_train, X_test, y_train, y_test = train_test_split(X,y, random_state=42)"
   ]
  },
  {
   "cell_type": "code",
   "execution_count": 27,
   "metadata": {},
   "outputs": [],
   "source": [
    "# Import the relevant vectorizer\n",
    "from sklearn.feature_extraction.text import CountVectorizer \n",
    "#TFIDF vectorizer\n",
    "#Hashing vectorizer - encodes tokens as numbers to mask/encode/hash tokens so people don't know our words. \n",
    "# We lose on interpratibility but keep it safe"
   ]
  },
  {
   "cell_type": "code",
   "execution_count": 26,
   "metadata": {},
   "outputs": [],
   "source": [
    "# Instantiate it\n",
    "cv = CountVectorizer(stop_words='english')"
   ]
  },
  {
   "cell_type": "code",
   "execution_count": 28,
   "metadata": {},
   "outputs": [
    {
     "data": {
      "text/plain": [
       "CountVectorizer(stop_words='english')"
      ]
     },
     "execution_count": 28,
     "metadata": {},
     "output_type": "execute_result"
    }
   ],
   "source": [
    "# Fit it\n",
    "cv.fit(X_train)"
   ]
  },
  {
   "cell_type": "code",
   "execution_count": 29,
   "metadata": {},
   "outputs": [
    {
     "data": {
      "text/plain": [
       "{'1987': 108,\n",
       " 'united': 9977,\n",
       " 'church': 1844,\n",
       " 'christ': 1837,\n",
       " 'commission': 2030,\n",
       " 'racial': 7560,\n",
       " 'justice': 5356,\n",
       " 'commissioned': 2031,\n",
       " 'studies': 9210,\n",
       " 'hazardous': 4543,\n",
       " 'waste': 10322,\n",
       " 'communities': 2052,\n",
       " 'color': 1996,\n",
       " 'years': 10554,\n",
       " 'later': 5477,\n",
       " '28': 187,\n",
       " 'ago': 649,\n",
       " 'month': 6170,\n",
       " 'delegates': 2732,\n",
       " 'national': 6270,\n",
       " 'people': 6889,\n",
       " 'environmental': 3539,\n",
       " 'leadership': 5513,\n",
       " 'summit': 9301,\n",
       " 'adopted': 556,\n",
       " '17': 61,\n",
       " 'principles': 7289,\n",
       " 'federal': 3919,\n",
       " 'government': 4348,\n",
       " 'largely': 5471,\n",
       " 'failed': 3846,\n",
       " 'live': 5660,\n",
       " 'vision': 10227,\n",
       " 'trailblazing': 9712,\n",
       " 'leaders': 5512,\n",
       " 'outlined': 6632,\n",
       " 'responsibilities': 8095,\n",
       " 'represent': 8010,\n",
       " 'predominantly': 7202,\n",
       " 'black': 1313,\n",
       " 'neighborhoods': 6332,\n",
       " 'detroit': 2889,\n",
       " 'navajo': 6287,\n",
       " 'southwest': 8900,\n",
       " 'louisiana': 5735,\n",
       " 'cancer': 1595,\n",
       " 'alley': 716,\n",
       " 'industrial': 4963,\n",
       " 'pollution': 7108,\n",
       " 'concentrated': 2127,\n",
       " 'low': 5739,\n",
       " 'income': 4908,\n",
       " 'decades': 2625,\n",
       " 'tacitly': 9420,\n",
       " 'written': 10528,\n",
       " 'called': 1572,\n",
       " 'sacrifice': 8335,\n",
       " 'zones': 10580,\n",
       " 'just': 5355,\n",
       " 'poverty': 7167,\n",
       " 'race': 7557,\n",
       " 'seminal': 8523,\n",
       " 'study': 9211,\n",
       " 'families': 3866,\n",
       " 'likely': 5623,\n",
       " 'higher': 4613,\n",
       " 'concentrations': 2129,\n",
       " 'air': 674,\n",
       " 'white': 10409,\n",
       " 'recent': 7685,\n",
       " 'whites': 10411,\n",
       " 'cause': 1683,\n",
       " 'blacks': 1316,\n",
       " 'latinxs': 5484,\n",
       " 'breathe': 1438,\n",
       " 'unsurprisingly': 10036,\n",
       " 'groups': 4421,\n",
       " 'experience': 3741,\n",
       " 'rates': 7618,\n",
       " 'childhood': 1819,\n",
       " 'asthma': 997,\n",
       " 'minority': 6069,\n",
       " 'exposed': 3782,\n",
       " 'toxins': 9684,\n",
       " 'water': 10333,\n",
       " 'including': 4902,\n",
       " 'lead': 5510,\n",
       " 'chemicals': 1803,\n",
       " 'agricultural': 659,\n",
       " 'run': 8319,\n",
       " 'racism': 7563,\n",
       " 'sources': 8895,\n",
       " 'michigan': 6011,\n",
       " 'radio': 7569,\n",
       " 'mi': 6007,\n",
       " 'data': 2580,\n",
       " 'california': 1571,\n",
       " 'department': 2788,\n",
       " 'public': 7477,\n",
       " 'health': 4555,\n",
       " 'los': 5725,\n",
       " 'angeles': 785,\n",
       " 'county': 2402,\n",
       " 'ca': 1558,\n",
       " 'coral': 2340,\n",
       " 'davenport': 2588,\n",
       " 'campbell': 1582,\n",
       " 'robertson': 8258,\n",
       " 'resettling': 8048,\n",
       " 'american': 760,\n",
       " 'climate': 1910,\n",
       " 'refugees': 7790,\n",
       " 'new': 6349,\n",
       " 'york': 10562,\n",
       " 'times': 9622,\n",
       " '2016': 138,\n",
       " 'isle': 5257,\n",
       " 'jean': 5290,\n",
       " 'charles': 1776,\n",
       " 'la': 5430,\n",
       " 'view': 10193,\n",
       " 'screen': 8444,\n",
       " 'don': 3162,\n",
       " 'tell': 9507,\n",
       " 'story': 9140,\n",
       " 've': 10152,\n",
       " 'traveled': 9765,\n",
       " 'country': 2400,\n",
       " 'heard': 4560,\n",
       " 'human': 4726,\n",
       " 'stories': 9135,\n",
       " 'met': 5993,\n",
       " 'community': 2053,\n",
       " 'members': 5968,\n",
       " 'diagnosed': 2911,\n",
       " 'linked': 5639,\n",
       " 'exposure': 3783,\n",
       " 'living': 5667,\n",
       " 'shadow': 8598,\n",
       " 'massive': 5887,\n",
       " 'oil': 6523,\n",
       " 'refinery': 7772,\n",
       " 'hampshire': 4471,\n",
       " 'talked': 9441,\n",
       " 'mothers': 6193,\n",
       " 'fighting': 3964,\n",
       " 'clean': 1894,\n",
       " 'drinking': 3222,\n",
       " 'free': 4157,\n",
       " 'harmful': 4512,\n",
       " 'pfas': 6954,\n",
       " 'children': 1821,\n",
       " 'south': 8897,\n",
       " 'carolina': 1645,\n",
       " 'vulnerable': 10259,\n",
       " 'coastal': 1941,\n",
       " 'face': 3821,\n",
       " 'greatest': 4392,\n",
       " 'threats': 9589,\n",
       " 'sea': 8451,\n",
       " 'level': 5571,\n",
       " 'rise': 8238,\n",
       " 'century': 1721,\n",
       " 'encroaching': 3443,\n",
       " 'polluters': 7106,\n",
       " 'west': 10393,\n",
       " 'virginia': 10216,\n",
       " 'saw': 8389,\n",
       " 'consequences': 2200,\n",
       " 'coal': 1937,\n",
       " 'industry': 4966,\n",
       " 'abandonment': 376,\n",
       " 'shareholders': 8620,\n",
       " 'executives': 3695,\n",
       " 'wealthy': 10354,\n",
       " 'stolen': 9124,\n",
       " 'pensions': 6887,\n",
       " 'poisoned': 7081,\n",
       " 'miners': 6056,\n",
       " 'ruined': 8310,\n",
       " 'land': 5452,\n",
       " 'didn': 2924,\n",
       " 'accident': 438,\n",
       " 'crisis': 2471,\n",
       " 'injustice': 5040,\n",
       " 'result': 8124,\n",
       " 'discrimination': 3019,\n",
       " 'compounding': 2110,\n",
       " 'overlooked': 6668,\n",
       " 'long': 5705,\n",
       " 'multiple': 6226,\n",
       " 'choices': 1830,\n",
       " 'corporate': 2350,\n",
       " 'profits': 7367,\n",
       " 'looked': 5712,\n",
       " 'way': 10341,\n",
       " 'unacceptable': 9864,\n",
       " 'change': 1756,\n",
       " 'secondary': 8471,\n",
       " 'concern': 2131,\n",
       " 'center': 1712,\n",
       " 'response': 8093,\n",
       " 'green': 4396,\n",
       " 'deal': 2603,\n",
       " 'commits': 2038,\n",
       " 'transition': 9738,\n",
       " 'workers': 10487,\n",
       " 'won': 10478,\n",
       " 'create': 2438,\n",
       " 'true': 9818,\n",
       " 'cleaning': 1896,\n",
       " 'polluted': 7104,\n",
       " 'tweaking': 9847,\n",
       " 'regulations': 7827,\n",
       " 'epa': 3548,\n",
       " 'need': 6307,\n",
       " 'prioritize': 7294,\n",
       " 'experienced': 3742,\n",
       " 'historic': 4636,\n",
       " 'disinvestment': 3045,\n",
       " 'range': 7605,\n",
       " 'needs': 6313,\n",
       " 'affordable': 617,\n",
       " 'housing': 4716,\n",
       " 'better': 1261,\n",
       " 'infrastructure': 5014,\n",
       " 'good': 4334,\n",
       " 'schools': 8424,\n",
       " 'access': 434,\n",
       " 'care': 1630,\n",
       " 'jobs': 5309,\n",
       " 'strong': 9190,\n",
       " 'resilient': 8066,\n",
       " 'prepared': 7225,\n",
       " 'properly': 7410,\n",
       " 'resourced': 8077,\n",
       " 'withstand': 10469,\n",
       " 'impacts': 4818,\n",
       " 'big': 1273,\n",
       " 'focused': 4064,\n",
       " 'led': 5535,\n",
       " 'add': 514,\n",
       " 'support': 9326,\n",
       " 'plan': 7026,\n",
       " 'fight': 3963,\n",
       " 'beginning': 1209,\n",
       " 'email': 3381,\n",
       " 'zip': 10578,\n",
       " 'submit': 9230,\n",
       " 'left': 5536,\n",
       " 'borne': 1386,\n",
       " 'brunt': 1477,\n",
       " 'lines': 5633,\n",
       " 'getting': 4289,\n",
       " 'hit': 4641,\n",
       " 'worst': 10511,\n",
       " 'local': 5680,\n",
       " 'leading': 5514,\n",
       " 'hold': 4649,\n",
       " 'responsible': 8097,\n",
       " 'combat': 2000,\n",
       " 'effects': 3325,\n",
       " '48217': 258,\n",
       " 'code': 1948,\n",
       " 'example': 3659,\n",
       " 'midst': 6022,\n",
       " 'told': 9642,\n",
       " 'banded': 1134,\n",
       " 'identify': 4767,\n",
       " 'leakages': 5517,\n",
       " 'inform': 5006,\n",
       " 'neighbors': 6334,\n",
       " 'alabama': 684,\n",
       " 'mississippi': 6103,\n",
       " 'residents': 8058,\n",
       " 'redlined': 7744,\n",
       " 'spoke': 8963,\n",
       " 'caused': 1684,\n",
       " 'inadequate': 4874,\n",
       " 'municipal': 6230,\n",
       " 'sewage': 8591,\n",
       " 'systems': 9415,\n",
       " 'tribal': 9788,\n",
       " 'nations': 6278,\n",
       " 'disproportionately': 3074,\n",
       " 'impacted': 4815,\n",
       " 'resilience': 8064,\n",
       " 'adaptation': 512,\n",
       " 'strategies': 9151,\n",
       " 'supporting': 9329,\n",
       " 'healthy': 4558,\n",
       " 'ecosystems': 3306,\n",
       " 'uplift': 10063,\n",
       " 'efforts': 3330,\n",
       " 'improve': 4862,\n",
       " 'equity': 3571,\n",
       " 'mapping': 5842,\n",
       " 'currently': 2530,\n",
       " 'maps': 5843,\n",
       " 'based': 1170,\n",
       " 'basic': 1175,\n",
       " 'demographic': 2758,\n",
       " 'indicators': 4950,\n",
       " 'risk': 8242,\n",
       " 'rigorous': 8228,\n",
       " 'interagency': 5152,\n",
       " 'effort': 3329,\n",
       " 'cumulative': 2522,\n",
       " 'disparities': 3059,\n",
       " 'vulnerabilities': 10257,\n",
       " 'cross': 2486,\n",
       " 'reference': 7763,\n",
       " 'socioeconomic': 8852,\n",
       " 'll': 5668,\n",
       " 'use': 10087,\n",
       " 'adjust': 535,\n",
       " 'permitting': 6917,\n",
       " 'rules': 8316,\n",
       " 'act': 489,\n",
       " 'authorities': 1048,\n",
       " 'consider': 2207,\n",
       " 'impact': 4814,\n",
       " 'overlapping': 6667,\n",
       " 'make': 5798,\n",
       " 'publicly': 7481,\n",
       " 'available': 1071,\n",
       " 'online': 6540,\n",
       " 'help': 4588,\n",
       " 'measure': 5935,\n",
       " 'implement': 4832,\n",
       " 'investments': 5217,\n",
       " 'identifying': 4768,\n",
       " 'step': 9091,\n",
       " 'involve': 5228,\n",
       " 'deploying': 2802,\n",
       " 'trillions': 9803,\n",
       " 'dollars': 3155,\n",
       " 'transform': 9730,\n",
       " 'source': 8894,\n",
       " 'energy': 3464,\n",
       " 'doing': 3149,\n",
       " 'resources': 8079,\n",
       " 'remediate': 7925,\n",
       " 'injustices': 5041,\n",
       " 'friend': 4171,\n",
       " 'governor': 4351,\n",
       " 'jay': 5288,\n",
       " 'inslee': 5067,\n",
       " 'rightly': 8226,\n",
       " 'challenged': 1745,\n",
       " 'fund': 4203,\n",
       " 'passed': 6806,\n",
       " 'laws': 5498,\n",
       " 'direct': 2962,\n",
       " 'funding': 4208,\n",
       " 'specifically': 8928,\n",
       " 'frontline': 4177,\n",
       " 'fenceline': 3944,\n",
       " 'proposed': 7420,\n",
       " 'investment': 5216,\n",
       " 'commitment': 2036,\n",
       " 'funnel': 4214,\n",
       " 'trillion': 9802,\n",
       " 'areas': 901,\n",
       " 'decade': 2624,\n",
       " 'strengthen': 9165,\n",
       " 'tools': 9657,\n",
       " 'mitigate': 6113,\n",
       " 'harms': 4515,\n",
       " 'signed': 8714,\n",
       " 'law': 5494,\n",
       " '1970': 98,\n",
       " 'policy': 7089,\n",
       " 'provides': 7460,\n",
       " 'original': 6607,\n",
       " 'authority': 1049,\n",
       " 'existing': 3712,\n",
       " 'protections': 7442,\n",
       " 'clear': 1899,\n",
       " 'eliminate': 3374,\n",
       " 'dependence': 2794,\n",
       " 'fossil': 4125,\n",
       " 'fuels': 4190,\n",
       " 'trump': 9820,\n",
       " 'administration': 544,\n",
       " 'tried': 9797,\n",
       " 'weaken': 10345,\n",
       " 'nepa': 6336,\n",
       " 'goal': 4323,\n",
       " 'expediting': 3733,\n",
       " 'fuel': 4187,\n",
       " 'projects': 7385,\n",
       " 'time': 9620,\n",
       " 'moved': 6208,\n",
       " 'devalue': 2890,\n",
       " 'consideration': 2208,\n",
       " 'decisions': 2645,\n",
       " 'entirely': 3524,\n",
       " 'emergency': 3400,\n",
       " 'world': 10498,\n",
       " 'facing': 3833,\n",
       " 'president': 7246,\n",
       " 'mandate': 5822,\n",
       " 'agencies': 636,\n",
       " 'rulemaking': 8314,\n",
       " 'processes': 7332,\n",
       " 'action': 493,\n",
       " 'mainstreamed': 5789,\n",
       " 'does': 3147,\n",
       " 'standard': 9034,\n",
       " 'requires': 8032,\n",
       " 'merely': 5981,\n",
       " 'assess': 965,\n",
       " 'negative': 6315,\n",
       " 'warren': 10316,\n",
       " 'greater': 4391,\n",
       " 'say': 8390,\n",
       " 'sited': 8747,\n",
       " 'today': 9637,\n",
       " 'desires': 2852,\n",
       " 'discounted': 3007,\n",
       " 'disregarded': 3080,\n",
       " 'involved': 5229,\n",
       " 'proceed': 7326,\n",
       " 'unless': 9992,\n",
       " 'developers': 2898,\n",
       " 'obtained': 6470,\n",
       " 'prior': 7292,\n",
       " 'informed': 5011,\n",
       " 'consent': 2198,\n",
       " 'governments': 4350,\n",
       " 'concerned': 2132,\n",
       " 'extent': 3800,\n",
       " 'executive': 3694,\n",
       " 'protect': 7438,\n",
       " 'voice': 10238,\n",
       " 'process': 7330,\n",
       " 'reflect': 7774,\n",
       " 'realities': 7652,\n",
       " 'build': 1496,\n",
       " 'wealth': 10351,\n",
       " 'risks': 8246,\n",
       " 'subject': 9225,\n",
       " 'hazards': 4544,\n",
       " 'like': 5620,\n",
       " 'coincidence': 1966,\n",
       " 'racist': 7564,\n",
       " 'officially': 6512,\n",
       " 'sanctioned': 8365,\n",
       " 'segregation': 8505,\n",
       " 'denied': 2775,\n",
       " 'opportunity': 6568,\n",
       " 'choose': 1832,\n",
       " 'best': 1255,\n",
       " 'neighborhood': 6331,\n",
       " 'targeted': 9456,\n",
       " 'mortgages': 6189,\n",
       " 'financial': 3987,\n",
       " 'includes': 4901,\n",
       " 'kind': 5395,\n",
       " 'payment': 6849,\n",
       " 'assistance': 977,\n",
       " 'program': 7368,\n",
       " 'grants': 4380,\n",
       " 'term': 9526,\n",
       " 'buy': 1548,\n",
       " 'homes': 4673,\n",
       " 'choice': 1829,\n",
       " 'start': 9044,\n",
       " 'reverse': 8169,\n",
       " 'damage': 2563,\n",
       " 'homeowners': 4671,\n",
       " 'owe': 6700,\n",
       " 'worth': 10512,\n",
       " 'used': 10088,\n",
       " 'preserve': 7241,\n",
       " 'revitalize': 8182,\n",
       " 'economic': 3298,\n",
       " 'opportunities': 6567,\n",
       " 'created': 2439,\n",
       " 'sector': 8479,\n",
       " 'right': 8223,\n",
       " 'planning': 7032,\n",
       " 'lift': 5612,\n",
       " 'repression': 8018,\n",
       " 'putting': 7525,\n",
       " 'path': 6818,\n",
       " 'future': 4222,\n",
       " 'expand': 3718,\n",
       " 'suffer': 9275,\n",
       " 'certain': 1726,\n",
       " 'cancers': 1596,\n",
       " 'illnesses': 4793,\n",
       " 'associated': 985,\n",
       " 'matters': 5903,\n",
       " 'worse': 10504,\n",
       " 'quality': 7534,\n",
       " 'medicare': 5951,\n",
       " 'high': 4612,\n",
       " 'lower': 5740,\n",
       " 'cost': 2372,\n",
       " 'allowing': 732,\n",
       " 'disadvantaged': 2978,\n",
       " 'lifesaving': 5606,\n",
       " 'services': 8569,\n",
       " 'providing': 7461,\n",
       " 'coverage': 2418,\n",
       " 'simplified': 8731,\n",
       " 'easier': 3285,\n",
       " 'quickly': 7545,\n",
       " 'tailor': 9430,\n",
       " 'responses': 8094,\n",
       " 'specific': 8927,\n",
       " 'disasters': 2989,\n",
       " 'affected': 601,\n",
       " 'occur': 6480,\n",
       " 'research': 8037,\n",
       " 'invested': 5207,\n",
       " 'broad': 1458,\n",
       " 'intended': 5134,\n",
       " 'boats': 1346,\n",
       " 'leave': 5531,\n",
       " 'calls': 1575,\n",
       " 'size': 8756,\n",
       " 'fits': 4020,\n",
       " 'solutions': 8872,\n",
       " 'instead': 5089,\n",
       " 'account': 452,\n",
       " 'unique': 9974,\n",
       " 'challenges': 1746,\n",
       " 'individual': 4957,\n",
       " '400': 235,\n",
       " 'billion': 1284,\n",
       " 'development': 2900,\n",
       " 'place': 7012,\n",
       " 'interventions': 5190,\n",
       " 'targeting': 9457,\n",
       " 'population': 7120,\n",
       " '2003': 125,\n",
       " '2015': 137,\n",
       " 'christopher': 1839,\n",
       " 'tessum': 9544,\n",
       " 'et': 3609,\n",
       " 'al': 683,\n",
       " 'inequity': 4974,\n",
       " 'consumption': 2245,\n",
       " 'goods': 4335,\n",
       " 'adds': 527,\n",
       " 'ethnic': 3613,\n",
       " 'proceedings': 7328,\n",
       " 'academy': 423,\n",
       " 'sciences': 8426,\n",
       " 'march': 5845,\n",
       " '2019': 141,\n",
       " 'worker': 10486,\n",
       " 'untouched': 10041,\n",
       " 'represents': 8016,\n",
       " 'generation': 4266,\n",
       " 'millions': 6049,\n",
       " 'paying': 6848,\n",
       " 'renewable': 7950,\n",
       " 'manufacturing': 5840,\n",
       " 'unleash': 9989,\n",
       " 'innovation': 5046,\n",
       " 'creativity': 2444,\n",
       " 'rebuild': 7676,\n",
       " 'unions': 9973,\n",
       " 'real': 7648,\n",
       " 'progress': 7373,\n",
       " 'directly': 2968,\n",
       " 'confront': 2167,\n",
       " 'inequality': 4971,\n",
       " 'embedded': 3389,\n",
       " 'economy': 3304,\n",
       " 'task': 9461,\n",
       " 'huge': 4724,\n",
       " 'demands': 2749,\n",
       " 'require': 8028,\n",
       " 'retrofits': 8153,\n",
       " 'nation': 6269,\n",
       " 'base': 1169,\n",
       " 'readjusting': 7645,\n",
       " 'approach': 871,\n",
       " 'ensure': 3509,\n",
       " 'systematically': 9413,\n",
       " 'harmed': 4511,\n",
       " 'know': 5417,\n",
       " 'things': 9569,\n",
       " 'manufacture': 5836,\n",
       " 'skilled': 8763,\n",
       " 'contractors': 2279,\n",
       " 'execute': 3692,\n",
       " 'large': 5470,\n",
       " 'construction': 2233,\n",
       " 'engineering': 3481,\n",
       " 'training': 9717,\n",
       " 'joint': 5320,\n",
       " 'labor': 5436,\n",
       " 'management': 5815,\n",
       " 'apprenticeships': 870,\n",
       " 'continuous': 2271,\n",
       " 'supply': 9325,\n",
       " 'great': 4390,\n",
       " 'moment': 6150,\n",
       " 'unity': 9980,\n",
       " 'common': 2045,\n",
       " 'purpose': 7509,\n",
       " 'lives': 5664,\n",
       " 'transformed': 9734,\n",
       " 'succeed': 9261,\n",
       " 'skills': 8764,\n",
       " 'job': 5307,\n",
       " 'room': 8284,\n",
       " 'partners': 6797,\n",
       " 'wage': 10266,\n",
       " 'forced': 4081,\n",
       " 'impossible': 4853,\n",
       " 'superior': 9310,\n",
       " 'wages': 10268,\n",
       " 'benefits': 1248,\n",
       " 'pay': 6841,\n",
       " 'far': 3873,\n",
       " 'tension': 9520,\n",
       " 'transitioning': 9741,\n",
       " 'creating': 2441,\n",
       " 'middle': 6019,\n",
       " 'class': 1882,\n",
       " 'union': 9968,\n",
       " 'coupled': 2404,\n",
       " 'strongest': 9192,\n",
       " 'possible': 7146,\n",
       " 'instance': 5087,\n",
       " 'makes': 5800,\n",
       " 'procurement': 7337,\n",
       " 'domestic': 3158,\n",
       " 'contingent': 2264,\n",
       " 'companies': 2060,\n",
       " 'fair': 3852,\n",
       " 'paid': 6729,\n",
       " 'family': 3867,\n",
       " 'medical': 5949,\n",
       " 'scheduling': 8418,\n",
       " 'practices': 7177,\n",
       " 'collective': 1987,\n",
       " 'bargaining': 1160,\n",
       " 'rights': 8227,\n",
       " 'similarly': 8726,\n",
       " '100': 4,\n",
       " 'retrofitting': 8154,\n",
       " 'buildings': 1499,\n",
       " 'reengineering': 7757,\n",
       " 'electrical': 3353,\n",
       " 'grid': 4403,\n",
       " 'adapting': 513,\n",
       " 'prevailing': 7261,\n",
       " 'determined': 2881,\n",
       " 'working': 10490,\n",
       " 'starts': 9047,\n",
       " 'person': 6934,\n",
       " 'sitting': 8751,\n",
       " 'house': 4711,\n",
       " 'america': 759,\n",
       " 'ways': 10342,\n",
       " 'honor': 4678,\n",
       " 'rig': 8220,\n",
       " 'pipeline': 7005,\n",
       " 'builders': 1497,\n",
       " 'given': 4308,\n",
       " 'life': 5602,\n",
       " 'blood': 1338,\n",
       " 'powered': 7169,\n",
       " '20th': 155,\n",
       " 'return': 8157,\n",
       " 'deserve': 2838,\n",
       " 'platitudes': 7045,\n",
       " 'expect': 3726,\n",
       " 'reengineer': 7756,\n",
       " 'day': 2590,\n",
       " 'work': 10484,\n",
       " 'committed': 2039,\n",
       " 'guaranteed': 4432,\n",
       " 'benefit': 1245,\n",
       " 'parity': 6771,\n",
       " 'industries': 4965,\n",
       " 'americans': 761,\n",
       " 'employment': 3420,\n",
       " 'wish': 10460,\n",
       " 'retire': 8139,\n",
       " 'dignity': 2945,\n",
       " 'security': 8489,\n",
       " 'promised': 7390,\n",
       " 'early': 3272,\n",
       " 'retirement': 8143,\n",
       " 'defend': 2695,\n",
       " 'secure': 8482,\n",
       " 'employers': 3418,\n",
       " 'promises': 7391,\n",
       " 'fought': 4129,\n",
       " 'retired': 8140,\n",
       " 'continue': 2266,\n",
       " 'maintain': 5790,\n",
       " 'solvency': 8875,\n",
       " 'multi': 6218,\n",
       " 'employer': 3417,\n",
       " 'pension': 6886,\n",
       " 'plans': 7033,\n",
       " 'earned': 3275,\n",
       " 'empower': 3422,\n",
       " 'defending': 2700,\n",
       " 'recognizing': 7703,\n",
       " 'value': 10130,\n",
       " 'defined': 2711,\n",
       " 'pushing': 7521,\n",
       " 'pass': 6804,\n",
       " 'butch': 1546,\n",
       " 'lewis': 5581,\n",
       " 'loan': 5672,\n",
       " 'financially': 3988,\n",
       " 'distressed': 3103,\n",
       " 'social': 8847,\n",
       " 'increase': 4920,\n",
       " '200': 121,\n",
       " 'beneficiary': 1244,\n",
       " 'lifting': 5613,\n",
       " 'nearly': 6302,\n",
       " 'million': 6045,\n",
       " 'seniors': 8533,\n",
       " 'expanding': 3720,\n",
       " 'disabilities': 2974,\n",
       " 'safety': 8351,\n",
       " 'committees': 2041,\n",
       " '50': 263,\n",
       " '000': 0,\n",
       " 'died': 2926,\n",
       " 'occupational': 6476,\n",
       " 'related': 7881,\n",
       " 'diseases': 3029,\n",
       " 'rolled': 8276,\n",
       " 'limit': 5625,\n",
       " 'requirements': 8031,\n",
       " 'facility': 3832,\n",
       " 'inspections': 5072,\n",
       " 'jeopardizing': 5298,\n",
       " 'power': 7168,\n",
       " 'safe': 8345,\n",
       " 'safer': 8350,\n",
       " 'reinstate': 7855,\n",
       " 'eliminated': 3375,\n",
       " 'representation': 8011,\n",
       " 'force': 4080,\n",
       " 'obligations': 6456,\n",
       " 'matter': 5902,\n",
       " 'tighten': 9612,\n",
       " 'bankruptcy': 1144,\n",
       " 'prevent': 7264,\n",
       " 'evading': 3624,\n",
       " 'responsibility': 8096,\n",
       " 'helped': 4589,\n",
       " 'pollute': 7103,\n",
       " 'senate': 8526,\n",
       " 'standing': 9038,\n",
       " 'congress': 2178,\n",
       " 'legislation': 5547,\n",
       " 'changes': 1759,\n",
       " 'reality': 7653,\n",
       " 'franklin': 4153,\n",
       " 'roosevelt': 8286,\n",
       " 'inspiration': 5075,\n",
       " 'scale': 8396,\n",
       " 'mobilization': 6123,\n",
       " 'defeat': 2690,\n",
       " 'perfect': 6897,\n",
       " 'truth': 9824,\n",
       " 'policies': 7087,\n",
       " 'tainted': 9433,\n",
       " 'structural': 9195,\n",
       " 'deindustrialization': 2724,\n",
       " 'prolonged': 7387,\n",
       " 'lose': 5726,\n",
       " 'policymakers': 7090,\n",
       " 'thought': 9580,\n",
       " 'dump': 3249,\n",
       " 'refuse': 7797,\n",
       " 'vanished': 10138,\n",
       " 'poor': 7110,\n",
       " 'dependent': 2796,\n",
       " 'carbon': 1623,\n",
       " 'asked': 951,\n",
       " 'bear': 1193,\n",
       " 'costs': 2377,\n",
       " 'replicate': 7999,\n",
       " 'failings': 3848,\n",
       " 'limitations': 5627,\n",
       " 'works': 10494,\n",
       " 'leaves': 5532,\n",
       " 'prioritizing': 7297,\n",
       " 'highest': 4614,\n",
       " 'levels': 5573,\n",
       " 'enact': 3434,\n",
       " 'afterthought': 632,\n",
       " 'central': 1716,\n",
       " 'means': 5930,\n",
       " 'structuring': 9200,\n",
       " 'centering': 1714,\n",
       " 'implementing': 4836,\n",
       " 'ensuring': 3512,\n",
       " 'decision': 2644,\n",
       " 'making': 5802,\n",
       " 'elevate': 3365,\n",
       " 'council': 2379,\n",
       " 'broader': 1461,\n",
       " 'priority': 7298,\n",
       " 'update': 10050,\n",
       " '1994': 114,\n",
       " 'order': 6588,\n",
       " 'directed': 2963,\n",
       " 'achieving': 474,\n",
       " 'missions': 6102,\n",
       " 'cabinet': 1559,\n",
       " 'raise': 7582,\n",
       " 'advisory': 590,\n",
       " 'report': 8001,\n",
       " 'bringing': 1455,\n",
       " 'voices': 10239,\n",
       " 'bring': 1454,\n",
       " 'days': 2593,\n",
       " 'office': 6506,\n",
       " 'contributions': 2290,\n",
       " 'activists': 499,\n",
       " 'listen': 5649,\n",
       " 'ideas': 4761,\n",
       " 'dramatic': 3206,\n",
       " 'cuts': 2546,\n",
       " 'civil': 1866,\n",
       " 'threatened': 9586,\n",
       " 'restore': 8107,\n",
       " 'grow': 4422,\n",
       " 'offices': 6510,\n",
       " 'renewed': 7954,\n",
       " 'environment': 3538,\n",
       " 'small': 8819,\n",
       " 'grant': 4375,\n",
       " 'programs': 7372,\n",
       " 'condition': 2143,\n",
       " 'competitive': 2080,\n",
       " 'funds': 4212,\n",
       " 'state': 9055,\n",
       " 'regional': 7810,\n",
       " 'stay': 9071,\n",
       " 'open': 6544,\n",
       " 'provide': 7456,\n",
       " 'capacity': 1607,\n",
       " 'historically': 4638,\n",
       " 'rejected': 7874,\n",
       " 'cases': 1658,\n",
       " 'brought': 1470,\n",
       " 'review': 8173,\n",
       " 'aggressively': 647,\n",
       " 'pursue': 7513,\n",
       " 'bolster': 1357,\n",
       " 'cdc': 1694,\n",
       " 'play': 7046,\n",
       " 'larger': 5472,\n",
       " 'role': 8271,\n",
       " 'links': 5641,\n",
       " 'outcomes': 6622,\n",
       " 'fully': 4198,\n",
       " 'disease': 3028,\n",
       " 'control': 2293,\n",
       " 'poisoning': 7082,\n",
       " 'prevention': 7269,\n",
       " 'investigations': 5213,\n",
       " 'additional': 521,\n",
       " 'independent': 4939,\n",
       " 'diminish': 2951,\n",
       " 'influence': 4998,\n",
       " 'powerful': 7170,\n",
       " 'corporations': 2352,\n",
       " 'exploiting': 3768,\n",
       " 'influencing': 5002,\n",
       " 'regulatory': 7829,\n",
       " 'placing': 7017,\n",
       " 'representatives': 8013,\n",
       " 'positions': 7139,\n",
       " 'end': 3444,\n",
       " 'washington': 10320,\n",
       " 'corruption': 2368,\n",
       " 'slam': 8776,\n",
       " 'shut': 8699,\n",
       " 'revolving': 8192,\n",
       " 'door': 3172,\n",
       " 'reducing': 7751,\n",
       " 'ability': 386,\n",
       " 'promulgated': 7403,\n",
       " 'households': 4714,\n",
       " 'struggle': 9201,\n",
       " 'bills': 1288,\n",
       " 'native': 6280,\n",
       " 'latinx': 5483,\n",
       " 'insecure': 5058,\n",
       " 'renters': 7965,\n",
       " 'landlords': 5456,\n",
       " 'unwilling': 10046,\n",
       " 'invest': 5206,\n",
       " 'weatherization': 10361,\n",
       " 'cheaper': 1790,\n",
       " 'adoption': 559,\n",
       " 'unequal': 9949,\n",
       " 'accounting': 457,\n",
       " 'differences': 2932,\n",
       " 'states': 9058,\n",
       " 'zero': 10574,\n",
       " 'emission': 3402,\n",
       " 'electricity': 3356,\n",
       " '2035': 152,\n",
       " 'integral': 5122,\n",
       " 'address': 523,\n",
       " 'burdens': 1517,\n",
       " 'particularly': 6789,\n",
       " 'rural': 8325,\n",
       " 'spending': 8943,\n",
       " 'older': 6527,\n",
       " 'mobile': 6121,\n",
       " 'weatherized': 10363,\n",
       " 'lack': 5440,\n",
       " 'efficient': 3327,\n",
       " 'upgrades': 10058,\n",
       " 'meet': 5957,\n",
       " 'annually': 800,\n",
       " 'efficiency': 3326,\n",
       " 'initiative': 5032,\n",
       " 'addition': 520,\n",
       " '10': 3,\n",
       " 'located': 5685,\n",
       " 'modernization': 6136,\n",
       " 'targets': 9458,\n",
       " 'jurisdictions': 5352,\n",
       " 'majority': 5797,\n",
       " 'struggling': 9204,\n",
       " 'aftermath': 629,\n",
       " '2008': 130,\n",
       " 'crash': 2435,\n",
       " 'organize': 6600,\n",
       " 'consumer': 2242,\n",
       " 'owned': 6704,\n",
       " 'cooperatives': 2324,\n",
       " 'established': 3599,\n",
       " 'electrify': 3359,\n",
       " 'serve': 8559,\n",
       " 'estimated': 3606,\n",
       " '42': 242,\n",
       " 'ops': 6577,\n",
       " 'assets': 971,\n",
       " 'locked': 5690,\n",
       " 'contracts': 2280,\n",
       " 'dirty': 2973,\n",
       " 'speed': 8940,\n",
       " 'offer': 6501,\n",
       " 'write': 10526,\n",
       " 'debt': 2619,\n",
       " 'restructure': 8120,\n",
       " 'loans': 5673,\n",
       " 'financing': 3989,\n",
       " 'transmission': 9746,\n",
       " 'utilities': 10102,\n",
       " 'service': 8563,\n",
       " 'extend': 3793,\n",
       " 'bonds': 1366,\n",
       " 'allow': 728,\n",
       " 'nonprofits': 6402,\n",
       " 'tax': 9467,\n",
       " 'revenue': 8167,\n",
       " 'incentives': 4884,\n",
       " 'dedicated': 2669,\n",
       " 'marketing': 5862,\n",
       " 'administrations': 545,\n",
       " 'tennessee': 9518,\n",
       " 'valley': 10125,\n",
       " 'appalachian': 832,\n",
       " 'deploy': 2800,\n",
       " 'accelerating': 427,\n",
       " 'reduce': 7748,\n",
       " 'emissions': 3403,\n",
       " 'consumers': 2243,\n",
       " 'utility': 10103,\n",
       " 'equities': 3570,\n",
       " 'host': 4696,\n",
       " 'entitled': 3526,\n",
       " 'receive': 7681,\n",
       " 'share': 8617,\n",
       " 'offered': 6502,\n",
       " 'subsidies': 9241,\n",
       " 'locate': 5684,\n",
       " 'particular': 6788,\n",
       " 'area': 900,\n",
       " 'corresponding': 2363,\n",
       " 'agreements': 656,\n",
       " 'imbalances': 4798,\n",
       " 'project': 7382,\n",
       " 'setting': 8575,\n",
       " ...}"
      ]
     },
     "execution_count": 29,
     "metadata": {},
     "output_type": "execute_result"
    }
   ],
   "source": [
    "cv.vocabulary_"
   ]
  },
  {
   "cell_type": "markdown",
   "metadata": {},
   "source": [
    "#### BONUS: Hyperparameters to tweak\n",
    "- ngram_range: do we want single word tokens, bigrams, or more\n",
    "- max_df / min_df: max and min frequency for a token to be returned as an actual token\n",
    "- max_features: hard limit on the number of tokens returned"
   ]
  },
  {
   "cell_type": "markdown",
   "metadata": {},
   "source": [
    "### 5: Vectorize Your Text, Then Model"
   ]
  },
  {
   "cell_type": "code",
   "execution_count": 30,
   "metadata": {},
   "outputs": [],
   "source": [
    "# call_on_students(1)"
   ]
  },
  {
   "cell_type": "code",
   "execution_count": 31,
   "metadata": {
    "index": 42
   },
   "outputs": [],
   "source": [
    "# Code here to transform train and test sets with the vectorizer\n",
    "X_train_vectorized = cv.transform(X_train)\n",
    "X_test_vectorized = cv.transform(X_test)"
   ]
  },
  {
   "cell_type": "code",
   "execution_count": 33,
   "metadata": {},
   "outputs": [
    {
     "data": {
      "text/plain": [
       "((141, 10585), (48, 10585))"
      ]
     },
     "execution_count": 33,
     "metadata": {},
     "output_type": "execute_result"
    }
   ],
   "source": [
    "X_train_vectorized.shape, X_test_vectorized.shape"
   ]
  },
  {
   "cell_type": "code",
   "execution_count": 34,
   "metadata": {},
   "outputs": [
    {
     "name": "stdout",
     "output_type": "stream",
     "text": [
      "['000', '02', '09', '10', '100', '100mbps', '100th', '101', '105', '1099', '1099s', '10americans', '10mbps', '10th', '11', '110', '111', '1115', '112', '113', '115', '116', '117', '11th', '12', '120', '1200', '123', '125', '126', '127', '128', '12898', '129', '13', '130', '1300', '132', '133', '1332', '134', '138', '13867', '13868', '14', '140', '142', '143', '145', '149', '15', '150', '1501', '1521', '155', '15th', '16', '160', '161', '162', '163', '17', '170', '171', '175', '18', '180', '1800s', '184', '185', '188', '1890', '18th', '19', '190', '1910', '1911', '1915', '1916', '1920s', '1921', '1930', '1930s', '1935', '1940s', '1944', '1946', '195', '1950s', '1955', '1958', '1960', '1960s', '1961', '1963', '1964', '1965', '1967', '1970', '1970s', '1972', '1974', '1975', '1978', '1980', '1980s', '1982', '1983', '1987', '1988', '1990', '1990s', '1992', '1993', '1994', '1995', '1996', '1997', '1999', '19th', '20', '200', '2000', '2000s', '2001', '2003', '2004', '2005', '2006', '2007', '2008', '2009', '2010', '2011', '2012', '2013', '2014', '2015', '2016', '2017', '2018', '2019', '2020', '2021', '2022', '2023', '2024', '2025', '2026', '2028', '2029', '2030', '2035', '2040', '2050', '20th', '21', '210', '213', '215', '216', '21st', '22', '220', '22nd', '23', '233', '234', '236', '238', '24', '240', '248', '24th', '25', '250', '2501', '255', '26', '260', '262', '263', '26th', '27', '274', '275', '27th', '28', '280', '281', '282', '285', '286', '287', '29', '291', '29th', '2a', '2c', '30', '300', '301', '304', '307', '30th', '31', '310', '311', '316', '318', '31st', '32', '322', '33', '331', '333', '34', '340', '35', '350', '354', '35s', '35w', '36', '37', '373', '378', '38', '380', '389', '39', '399', '3d', '3rd', '40', '400', '401', '405', '407', '408', '41', '410', '42', '425', '43', '430', '44', '440', '444', '448', '45', '450', '457', '46', '460', '465m', '47', '48', '48217', '484', '49', '4h', '4th', '50', '500', '500m', '501', '501c4s', '503', '504', '506', '508', '50m', '51', '515', '52', '523', '526', '529', '53', '54', '55', '550', '56', '560', '57', '58', '580', '5th', '60', '600', '607', '61', '618', '62', '621', '625', '63', '636', '638', '64', '640', '645', '65', '650', '66', '660', '661', '68', '681', '69', '690', '691', '698', '70', '700', '706', '71', '712', '714', '72', '73', '74', '748', '75', '750', '76', '763', '77', '770', '771', '78', '79', '798', '7th', '80', '800', '81', '811', '82', '83', '834', '84', '85', '850', '852', '86', '87', '875', '88', '887', '890', '896', '8th', '90', '900', '905', '91', '911', '93', '930', '94', '95', '950', '96', '963', '964', '97', '970', '98', '99', '__________________', 'aac', 'abandon', 'abandoned', 'abandoning', 'abandonment', 'abatement', 'abbvie', 'abdicated', 'abdications', 'abets', 'abetting', 'abide', 'abiding', 'abilities', 'ability', 'abject', 'able', 'ableism', 'abolish', 'abortion', 'abortions', 'abound', 'aboveground', 'abroad', 'abrogate', 'abruptly', 'absence', 'absent', 'absentee', 'absenteeism', 'absolute', 'absolutely', 'absorb', 'absorbed', 'absorbing', 'absorbs', 'abstinence', 'absurd', 'abundance', 'abuse', 'abused', 'abuser', 'abuses', 'abusing', 'abusive', 'abysmal', 'aca', 'academia', 'academic', 'academics', 'academies', 'academy', 'accelerant', 'accelerate', 'accelerated', 'accelerating', 'accept', 'acceptability', 'acceptable', 'accepted', 'accepting', 'accepts', 'access', 'accessibility', 'accessible', 'accessing', 'accident', 'accidentally', 'accidents', 'accommodate', 'accommodations', 'accompanied', 'accompanying', 'accomplish', 'accomplishes', 'accomplishing', 'accomplishment', 'accord', 'according', 'accordingly', 'account', 'accountability', 'accountable', 'accountants', 'accounted', 'accounting', 'accounts', 'accreditation', 'accredited', 'accrue', 'accumulated', 'accumulating', 'accuracy', 'accurate', 'accurately', 'accusations', 'accused', 'achievable', 'achieve', 'achieved', 'achievement', 'achievements', 'achieving', 'acidification', 'ackerman', 'acknowledge', 'acknowledges', 'acknowledging', 'acquire', 'acquired', 'acquiring', 'acquisition', 'acquisitions', 'acquitted', 'acre', 'acreage', 'acres', 'act', 'actblue', 'acted', 'acting', 'action', 'actions', 'active', 'actively', 'activism', 'activist', 'activists', 'activities', 'activity', 'actors', 'acts', 'actual', 'actually', 'acute', 'ad', 'ada', 'adamant', 'adams', 'adapt', 'adaptation', 'adapting', 'add', 'added', 'addicted', 'addiction', 'addictive', 'adding', 'addition', 'additional', 'additionally', 'address', 'addressed', 'addresses', 'addressing', 'adds', 'adequate', 'adequately', 'adhere', 'adhering', 'adjacent', 'adjudicate', 'adjudication', 'adjust', 'adjusted', 'adjusting', 'adjustment', 'adjustments', 'administer', 'administered', 'administering', 'administers', 'administration', 'administrations', 'administrative', 'administrator', 'administrators', 'admission', 'admissions', 'admit', 'admitted', 'admitting', 'adolescent', 'adopt', 'adopted', 'adoptees', 'adopting', 'adoption', 'adoptive', 'adopts', 'ads', 'adult', 'adulthood', 'adults', 'advance', 'advanced', 'advancement', 'advancements', 'advances', 'advancing', 'advantage', 'advantaged', 'advantages', 'adversaries', 'adversary', 'adverse', 'advertise', 'advertised', 'advertisers', 'advertising', 'advice', 'advise', 'advised', 'adviser', 'advisers', 'advising', 'advisor', 'advisors', 'advisory', 'advocacy', 'advocate', 'advocated', 'advocates', 'advocating', 'aerospace', 'aesthetic', 'affair', 'affairs', 'affect', 'affected', 'affecting', 'affects', 'affiliated', 'affiliation', 'affirm', 'affirmation', 'affirmative', 'affirmatively', 'affirmed', 'affirming', 'affirms', 'afflicted', 'affluent', 'afford', 'affordability', 'affordable', 'affordably', 'afforded', 'affording', 'afghanistan', 'afl', 'afloat', 'afraid', 'africa', 'african', 'aft', 'aftereffects', 'aftermath', 'afternoon', 'afterschool', 'afterthought', 'ag', 'age', 'aged', 'agencies', 'agency', 'agenda', 'agendas', 'agent', 'agents', 'ages', 'aggregate', 'aggregation', 'aggression', 'aggressive', 'aggressively', 'aging', 'ago', 'agonizingly', 'agrarian', 'agree', 'agreed', 'agreeing', 'agreement', 'agreements', 'agribusiness', 'agribusinesses', 'agricultural', 'agriculture', 'agroforestry', 'ahead', 'aid', 'aide', 'aided', 'aides', 'aiding', 'aids', 'ailes', 'aim', 'aimed', 'aiming', 'aims', 'air', 'aircraft', 'airline', 'airlines', 'airplane', 'airplanes', 'airport', 'airports', 'aisle', 'al', 'alabama', 'alan', 'alarm', 'alarming', 'alaska', 'alcohol', 'alcoholism', 'alden', 'alert', 'alerts', 'alex', 'alexandria', 'algae', 'algal', 'algorithm', 'algorithmic', 'algorithms', 'align', 'aligned', 'aligning', 'alignment', 'alike', 'alimony', 'alive', 'allegations', 'alleged', 'allegedly', 'allegiance', 'alleging', 'allergic', 'alleviate', 'alleviating', 'alley', 'alliance', 'alliances', 'allies', 'allocate', 'allocated', 'allocates', 'allocating', 'allocation', 'allocations', 'allotments', 'allotted', 'allow', 'allowable', 'allowances', 'allowed', 'allowing', 'allows', 'allure', 'alma', 'alongside', 'als', 'alstott', 'altered', 'altering', 'alternative', 'alternatives', 'altogether', 'alumni', 'alzheimer', 'amazon', 'ambassadors', 'amber', 'ambiguity', 'ambitious', 'ambulance', 'ambulances', 'ame', 'amend', 'amending', 'amendment', 'amendments', 'amends', 'america', 'american', 'americans', 'americorps', 'amgen', 'amid', 'ammunition', 'amnesia', 'amounted', 'amounting', 'amounts', 'ample', 'amplifies', 'amtrak', 'amy', 'anaerobic', 'analogue', 'analyses', 'analysis', 'analytics', 'analyze', 'anc', 'anchor', 'anchored', 'andrew', 'anesthesiologist', 'angeles', 'angle', 'anglers', 'angry', 'animal', 'animals', 'anita', 'ankle', 'anna', 'anne', 'anniversary', 'announce', 'announced', 'announcing', 'annual', 'annually', 'anonymous', 'anonymously', 'answer', 'answering', 'answers', 'anthem', 'anthony', 'anthrax', 'anti', 'antibiotic', 'antibiotics', 'anticipated', 'anticipation', 'anticompetitive', 'antidiscrimination', 'antiquities', 'antitrust', 'antonin', 'antonio', 'anxiety', 'anybody', 'anytime', 'anyways', 'apache', 'apart', 'apartment', 'apartments', 'apathy', 'apiece', 'apollo', 'appalachia', 'appalachian', 'appalling', 'apparatus', 'apparent', 'apparently', 'appeal', 'appealing', 'appeals', 'appear', 'appearance', 'appeared', 'appears', 'appellate', 'applauded', 'apple', 'appliance', 'appliances', 'applicants', 'application', 'applications', 'applied', 'applies', 'apply', 'applying', 'appoint', 'appointed', 'appointees', 'appointing', 'appointment', 'appointments', 'apportioned', 'appraisals', 'appraise', 'appraised', 'appreciate', 'appreciation', 'apprentices', 'apprenticeship', 'apprenticeships', 'approach', 'approached', 'approaches', 'approaching', 'appropriate', 'appropriated', 'appropriately', 'appropriating', 'appropriations', 'approval', 'approvals', 'approve', 'approved', 'approves', 'approving', 'approximately', 'apr', 'april', 'aquifer', 'arabia', 'arable', 'arbiter', 'arbitrarily', 'arbitrary', 'arbitration', 'arbitrators', 'architectural', 'arctic', 'ardell', 'area', 'areas', 'aren', 'arena', 'argue', 'argued', 'argues', 'arguing', 'argument', 'arguments', 'ari', 'arising', 'arizona', 'arkansas', 'arm', 'armed', 'armies', 'arming', 'arms', 'army', 'arose', 'arpa', 'arrange', 'arrangement', 'arrangements', 'arranging', 'array', 'arrested', 'arresting', 'arrests', 'arrivals', 'arrive', 'arrived', 'arsenal', 'art', 'arthritis', 'article', 'articles', 'articulated', 'articulating', 'artifacts', 'artificial', 'artificially', 'artist', 'arts', 'asbestos', 'asia', 'asian', 'aside', 'asides', 'ask', 'asked', 'asking', 'asks', 'asl', 'aspect', 'aspects', 'asphalt', 'aspirations', 'assault', 'assaulted', 'assaults', 'assembled', 'assembly', 'asserting', 'assess', 'assessed', 'assessing', 'assessment', 'assessments', 'asset', 'assets', 'assign', 'assigned', 'assignment', 'assignments', 'assist', 'assistance', 'assistant', 'assistants', 'assisted', 'assisting', 'assistive', 'assists', 'associate', 'associated', 'associates', 'association', 'associations', 'assortment', 'assume', 'assumed', 'assumes', 'assuming', 'assumptions', 'assurance', 'assure', 'asthma', 'astonishing', 'astounding', 'astronomical', 'asylees', 'asylum', 'athletes', 'atlantic', 'atm', 'atmosphere', 'atmospheric', 'attach', 'attache', 'attached', 'attack', 'attacked', 'attacking', 'attacks', 'attained', 'attainment', 'attempt', 'attempted', 'attempting', 'attempts', 'attend', 'attendance', 'attendants', 'attended', 'attending', 'attention', 'attentiveness', 'attorney', 'attorneys', 'attract', 'attracting', 'attractive', 'attribute', 'attrition', 'audio', 'audit', 'audited', 'auditing', 'audits', 'aug', 'augmentative', 'august', 'aunt', 'australia', 'authentic', 'authored', 'authoritarianism', 'authorities', 'authority', 'authorization', 'authorizations', 'authorize', 'authorized', 'authorizers', 'authorizes', 'authorizing', 'authors', 'autism', 'autistic', 'auto', 'autocrats', 'automaker', 'automated', 'automatic', 'automatically', 'automation', 'automobile', 'automotive', 'autonomy', 'availability', 'available', 'avalanche', 'avenues', 'average', 'avert', 'aviation', 'avoid', 'avoidance', 'avoiding', 'avonte', 'awaiting', 'award', 'awarded', 'awardees', 'awarding', 'awards', 'aware', 'awareness', 'away', 'awfully', 'axed', 'babies', 'baby', 'babysitter', 'bachelor', 'backbone', 'backed', 'backfill', 'backfilling', 'background', 'backgrounds', 'backlog', 'backlogged', 'backlogs', 'backpackers', 'backs', 'backslid', 'backup', 'backwards', 'backyard', 'backyards', 'bacon', 'bacterial', 'bad', 'badly', 'baer', 'bag', 'baggage', 'bags', 'bail', 'bailed', 'bailey', 'bailout', 'bailouts', 'baked', 'balance', 'balances', 'balancing', 'bale', 'ballot', 'ballots', 'ban', 'band', 'banded', 'bank', 'banked', 'banker', 'bankers', 'banking', 'bankroll', 'bankrolled', 'bankrupt', 'bankruptcies', 'bankruptcy', 'bankrupted', 'bankrupting', 'banks', 'banned', 'banning', 'bans', 'bar', 'barack', 'baradaran', 'barbarism', 'barda', 'bare', 'barely', 'bargain', 'bargained', 'bargaining', 'barometer', 'barr', 'barred', 'barrier', 'barriers', 'barring', 'barry', 'bars', 'base', 'based', 'baseline', 'baseload', 'basement', 'bases', 'basic', 'basically', 'basics', 'basin', 'basis', 'bat', 'batteries', 'battery', 'battle', 'battleground', 'battlegrounds', 'battling', 'bay', 'bayer', 'bayh', 'bayou', 'bays', 'beacon', 'bear', 'bearing', 'bears', 'beat', 'beating', 'beautiful', 'beauty', 'bedrock', 'bedroom', 'beds', 'bee', 'beef', 'beefing', 'beer', 'began', 'begin', 'beginning', 'begins', 'begun', 'behalf', 'behavior', 'behavioral', 'behaviors', 'behemoth', 'behold', 'beholden', 'beings', 'belief', 'beliefs', 'believe', 'believed', 'believes', 'bell', 'bells', 'bellwethers', 'belly', 'belong', 'belonged', 'belonging', 'belongings', 'belongs', 'beloved', 'belt', 'ben', 'bench', 'benchmark', 'benchmarked', 'benchmarking', 'benchmarks', 'beneficial', 'beneficiaries', 'beneficiary', 'benefit', 'benefited', 'benefiting', 'benefits', 'benefitted', 'bent', 'benzene', 'berkeley', 'bernie', 'berwick', 'best', 'bet', 'beth', 'bets', 'betsey', 'betsy', 'better', 'bezos', 'bias', 'biases', 'bicycle', 'bid', 'bidder', 'bidding', 'biden', 'bidens', 'bie', 'biennial', 'big', 'bigger', 'biggest', 'bigoted', 'bigotry', 'bigwigs', 'bike', 'bilateral', 'bilingual', 'bilking', 'billing', 'billion', 'billionaire', 'billionaires', 'billions', 'bills', 'binary', 'bind', 'binding', 'bing', 'biobased', 'biodiesel', 'biodiversity', 'bioenergy', 'biofuel', 'biofuels', 'biogas', 'biological', 'biomass', 'biomedical', 'biosimilar', 'biosimilars', 'biotech', 'biotechnology', 'bipartisan', 'birth', 'birthday', 'birthing', 'birthright', 'bit', 'black', 'blacklisting', 'blackrock', 'blacks', 'bladder', 'blame', 'blaming', 'bland', 'blanket', 'blatantly', 'bleaching', 'bleak', 'bleed', 'bleeding', 'blender', 'blighted', 'blind', 'blindness', 'blm', 'bloated', 'block', 'blockades', 'blocked', 'blocking', 'blocks', 'blood', 'blooms', 'blow', 'blown', 'blue', 'blunt', 'board', 'boards', 'boats', 'bodied', 'bodies', 'bodily', 'body', 'boeing', 'boem', 'bogged', 'boilers', 'bold', 'boldly', 'bolster', 'bolstering', 'bolsters', 'bomb', 'bombs', 'bona', 'bond', 'bondholders', 'bonding', 'bonds', 'bondsman', 'bono', 'bonus', 'bonuses', 'book', 'booker', 'booking', 'books', 'boom', 'boomers', 'boon', 'boost', 'boosted', 'boosting', 'booted', 'border', 'borders', 'boring', 'born', 'borne', 'borrow', 'borrowed', 'borrower', 'borrowers', 'borrowing', 'boss', 'bosses', 'boston', 'bought', 'bound', 'boundaries', 'boundary', 'bout', 'bowed', 'box', 'boy', 'boycotts', 'boyd', 'boyfriend', 'bp', 'bracket', 'brackets', 'brady', 'braille', 'brain', 'brainer', 'braking', 'branch', 'branches', 'brand', 'branded', 'brandeis', 'brass', 'brave', 'bravely', 'brazil', 'breach', 'breached', 'breaches', 'breaching', 'breadwinners', 'break', 'breakaway', 'breakers', 'breakfast', 'breaking', 'breaks', 'breakthrough', 'breakthroughs', 'breakup', 'breast', 'breathe', 'breathtaking', 'breeze', 'bren', 'brett', 'brexit', 'brian', 'bribe', 'bribery', 'bribes', 'bridge', 'bridges', 'bridging', 'bright', 'brighter', 'brightest', 'bring', 'bringing', 'brings', 'brink', 'broad', 'broadband', 'broaden', 'broader', 'broadly', 'broilers', 'broke', 'broken', 'broker', 'brokers', 'brother', 'brothers', 'brought', 'brown', 'brownfield', 'brownfields', 'browning', 'browsing', 'bruce', 'brunt', 'brushed', 'brutality', 'bryan', 'bryce', 'bsee', 'bubble', 'buck', 'buckle', 'buckley', 'bucks', 'buddy', 'budge', 'budged', 'budget', 'budgetary', 'budgeting', 'budgets', 'bug', 'build', 'builders', 'building', 'buildings', 'buildout', 'builds', 'built', 'bulbs', 'bulk', 'bulldozed', 'bully', 'bullying', 'bump', 'bunch', 'bundled', 'bundles', 'bundling', 'bunker', 'buprenorphine', 'burden', 'burdened', 'burdens', 'burdensome', 'bureau', 'bureaucracy', 'bureaucratic', 'bureaus', 'burgeoning', 'buried', 'burlington', 'burn', 'burned', 'burning', 'burnout', 'burrow', 'burrowing', 'burst', 'bury', 'burying', 'bus', 'buses', 'bush', 'bushel', 'business', 'businesses', 'businessman', 'businesspeople', 'bust', 'busting', 'busy', 'butch', 'butcher', 'buy', 'buyback', 'buybacks', 'buyer', 'buyers', 'buying', 'buys', 'bypass', 'byproducts', 'byrd', 'ca', 'cabinet', 'cable', 'cables', 'cafos', 'cages', 'calculate', 'calculated', 'calculates', 'calculating', 'calculation', 'calculator', 'caliburn', 'california', 'called', 'callers', 'calling', 'calls', 'came', 'cameras', 'cameron', 'campaign', 'campaigning', 'campaigns', 'campbell', 'camps', 'campus', 'campuses', 'canada', 'cancel', 'canceled', 'canceling', 'cancellation', 'cancellations', 'cancelled', 'cancelling', 'cancels', 'cancer', 'cancers', 'candidate', 'candidates', 'cannabis', 'cannabiz', 'cantwell', 'canyon', 'cap', 'capabilities', 'capability', 'capable', 'capacity', 'cape', 'capital', 'capitalism', 'capitalists', 'capitalize', 'capitalizing', 'capitation', 'capitol', 'capped', 'capping', 'caps', 'captioning', 'captive', 'capture', 'car', 'carbon', 'carcieri', 'carcinogen', 'card', 'cardiac', 'cardiovascular', 'cards', 'care', 'cared', 'career', 'careers', 'careful', 'carefully', 'caregiver', 'caregivers', 'caregiving', 'cares', 'caretaker', 'caretakers', 'cargo', 'caribbean', 'caring', 'carolina', 'carp', 'carried', 'carriers', 'carry', 'carrying', 'cars', 'carson', 'cartels', 'carve', 'cascading', 'case', 'caseload', 'cases', 'caseworkers', 'casey', 'cash', 'cashed', 'casher', 'cashing', 'cast', 'casting', 'casual', 'catastrophe', 'catastrophes', 'catastrophic', 'catch', 'catching', 'categorical', 'categorically', 'categories', 'categorized', 'category', 'cater', 'catering', 'cattle', 'caucus', 'caught', 'cause', 'caused', 'causes', 'causing', 'cayman', 'cbo', 'cbp', 'ccc', 'ccdbg', 'ccr', 'cda', 'cdc', 'cdctc', 'cdfi', 'cdfis', 'cdr', 'ceiling', 'ceilings', 'celebrities', 'cell', 'cells', 'cellulosic', 'celsius', 'cement', 'cemetery', 'censor', 'censoring', 'census', 'cent', 'center', 'centered', 'centering', 'centers', 'central', 'centralize', 'centralized', 'cents', 'centuries', 'century', 'ceo', 'ceos', 'cepi', 'cerebral', 'certain', 'certainly', 'certainty', 'certificate', 'certificates', 'certification', 'certifications', 'certified', 'certifies', 'certify', 'cfpb', 'chaco', 'chain', 'chains', 'chair', 'chairman', 'chairperson', 'chairs', 'challenge', 'challenged', 'challenges', 'challenging', 'chamber', 'chambers', 'champion', 'championed', 'championing', 'champlain', 'chance', 'chances', 'change', 'changed', 'changer', 'changes', 'changing', 'channel', 'channeled', 'channels', 'chanted', 'chaos', 'chapter', 'chapters', 'character', 'characteristics', 'characterized', 'charge', 'charged', 'charges', 'charging', 'charitable', 'charles', 'charleston', 'charlottesville', 'charm', 'chart', 'charter', 'chartered', 'charters', 'charting', 'charts', 'chase', 'chats', 'chattanooga', 'cheap', 'cheaper', 'cheapest', 'cheaply', 'cheated', 'cheating', 'check', 'checked', 'checking', 'checkoff', 'checks', 'cheering', 'chemchina', 'chemical', 'chemicals', 'chemistry', 'chemo', 'cheney', 'chernobyl', 'chesapeake', 'chevrolet', 'chevron', 'chicago', 'chicken', 'chickens', 'chicks', 'chief', 'child', 'childbirth', 'childcare', 'childhood', 'childless', 'children', 'chile', 'china', 'chinese', 'chip', 'chipped', 'chipping', 'choctaw', 'choice', 'choices', 'choking', 'choose', 'chooses', 'choosing', 'chosen', 'chris', 'christ', 'christine', 'christopher', 'chronic', 'chronically', 'chubb', 'chunk', 'church', 'churning', 'cigarette', 'cindy', 'cio', 'circle', 'circuit', 'circuitry', 'circuits', 'circumstances', 'circumvent', 'circumventing', 'cite', 'cited', 'citibank', 'cities', 'citigroup', 'citizen', 'citizens', 'citizenship', 'city', 'civics', 'civil', 'civilian', 'civilians', 'cjrf', 'claim', 'claimants', 'claimed', 'claiming', 'claims', 'clamp', 'clarence', 'clarification', 'clarifies', 'clarify', 'clarifying', 'clarity', 'class', 'classes', 'classification', 'classified', 'classifies', 'classify', 'classroom', 'classrooms', 'clause', 'clauses', 'claw', 'clawback', 'clean', 'cleaner', 'cleaning', 'cleanse', 'cleanup', 'clear', 'clearance', 'cleared', 'clearing', 'clearly', 'clemency', 'clerks', 'cleveland', 'client', 'clients', 'cliff', 'climate', 'climates', 'climb', 'climbed', 'cling', 'clinic', 'clinical', 'clinicians', 'clinics', 'clinton', 'clock', 'close', 'closed', 'closely', 'closer', 'closes', 'closing', 'closures', 'cloud', 'club', 'clubs', 'clunkers', 'clustered', 'clyburn', 'cms', 'cnn', 'coaching', 'coal', 'coalition', 'coalitions', 'coast', 'coastal', 'coaster', 'coastline', 'coasts', 'coca', 'cocaine', 'cod', 'code', 'codes', 'codified', 'codify', 'codifying', 'coding', 'coelho', 'coerce', 'coexist', 'coffee', 'cognitive', 'cohen', 'coherent', 'cohesion', 'cohn', 'cohort', 'cohorts', 'coincided', 'coincidence', 'cokley', 'cola', 'cold', 'coldest', 'collaborate', 'collaborating', 'collaboration', 'collaborative', 'collaboratives', 'collapse', 'collapsed', 'collar', 'collateral', 'colleague', 'colleagues', 'collect', 'collected', 'collecting', 'collection', 'collections', 'collective', 'collectively', 'collector', 'collectors', 'collects', 'college', 'colleges', 'collins', 'colonial', 'color', 'colorado', 'columbia', 'com', 'combat', 'combating', 'combats', 'combatting', 'combination', 'combine', 'combined', 'combining', 'comcast', 'come', 'comedians', 'comes', 'comey', 'comfortable', 'coming', 'command', 'commander', 'commands', 'commensurate', 'comment', 'commenting', 'comments', 'commerce', 'commercial', 'commercialization', 'commercialize', 'commercialized', 'commercializing', 'commissaries', 'commissary', 'commission', 'commissioned', 'commissioner', 'commissioners', 'commissions', 'commit', 'commitment', 'commitments', 'commits', 'committed', 'committee', 'committees', 'committing', 'commodities', 'commodity', 'common', 'commonly', 'commonsense', 'communicable', 'communicate', 'communication', 'communications', 'communities', 'community', 'commute', 'commuter', 'commuters', 'commutes', 'commuting', 'compact', 'companies', 'company', 'comparable', 'comparatively', 'compared', 'comparing', 'comparison', 'compassionate', 'compel', 'compelling', 'compensate', 'compensated', 'compensating', 'compensation', 'compete', 'competency', 'competent', 'competes', 'competing', 'competition', 'competitive', 'competitiveness', 'competitor', 'competitors', 'compiling', 'complain', 'complaint', 'complaints', 'complement', 'complements', 'complete', 'completed', 'completely', 'completing', 'completion', 'complex', 'complexities', 'complexity', 'compliance', 'compliant', 'complicated', 'complications', 'comply', 'complying', 'component', 'components', 'comports', 'composite', 'composting', 'compounded', 'compounding', 'comprehensive', 'comprehensively', 'compressor', 'comprise', 'comprised', 'comprising', 'compromise', 'compromised', 'compulsory', 'computer', 'computers', 'computing', 'conceal', 'concealed', 'concede', 'concentrate', 'concentrated', 'concentration', 'concentrations', 'concept', 'concern', 'concerned', 'concerns', 'concessions', 'conclude', 'concluded', 'conclusion', 'conclusions', 'concocted', 'concrete', 'condemn', 'condemning', 'condition', 'conditional', 'conditioning', 'conditions', 'condo', 'condominiums', 'conduct', 'conducted', 'conducting', 'conduit', 'conduits', 'conference', 'conferences', 'confidence', 'confident', 'confidential', 'confinement', 'confirm', 'confirmation', 'confirmed', 'conflict', 'conflicted', 'conflicts', 'conforming', 'confront', 'confronted', 'confronting', 'confused', 'confusing', 'congestion', 'conglomerate', 'conglomerates', 'conglomerations', 'congo', 'congratulations', 'congress', 'congresses', 'congressional', 'congressionally', 'congressman', 'congressmembers', 'congresswoman', 'conjunction', 'connect', 'connected', 'connecticut', 'connecting', 'connection', 'connections', 'connectivity', 'connects', 'conrad', 'conscious', 'consecutive', 'consensus', 'consent', 'consequence', 'consequences', 'conservation', 'conservative', 'conservators', 'conservatorship', 'conserve', 'conserving', 'consider', 'consideration', 'considerations', 'considered', 'considering', 'considers', 'consistent', 'consistently', 'consolidate', 'consolidated', 'consolidating', 'consolidation', 'consortium', 'consortiums', 'conspiracy', 'constant', 'constantly', 'constituents', 'constitution', 'constitutional', 'constitutionality', 'constrained', 'constraints', 'construct', 'constructed', 'constructing', 'construction', 'construed', 'consult', 'consultancies', 'consultants', 'consultation', 'consultations', 'consulted', 'consulting', 'consumer', 'consumers', 'consuming', 'consumption', 'contact', 'contacting', 'contacts', 'contagious', 'contain', 'container', 'containing', 'contains', 'contaminated', 'contamination', 'contemplates', 'content', 'contents', 'context', 'contexts', 'contiguous', 'continental', 'contingency', 'contingent', 'continually', 'continue', 'continued', 'continues', 'continuing', 'continuity', 'continuous', 'contraband', 'contraception', 'contraceptive', 'contract', 'contracted', 'contracting', 'contractor', 'contractors', 'contracts', 'contradictory', 'contrary', 'contrast', 'contravening', 'contribute', 'contributed', 'contributes', 'contributing', 'contribution', 'contributions', 'contributor', 'contributors', 'control', 'controlled', 'controllers', 'controlling', 'controls', 'convene', 'convenient', 'convention', 'conventional', 'conventions', 'converge', 'conversation', 'conversations', 'conversion', 'convert', 'converted', 'converting', 'convicted', 'conviction', 'convictions', 'convince', 'convinced', 'conway', 'cook', 'cooling', 'coons', 'cooperate', 'cooperates', 'cooperation', 'cooperative', 'cooperatively', 'cooperatives', 'coordinate', 'coordinated', 'coordinates', 'coordinating', 'coordination', 'coordinator', 'coordinators', 'copa', 'copayments', 'copays', 'cope', 'copies', 'copper', 'cops', 'copying', 'coral', 'cord', 'core', 'corinthian', 'corn', 'corner', 'cornered', 'corners', 'coronavirus', 'corp', 'corporate', 'corporation', 'corporations', 'corporatization', 'corps', 'corpus', 'correct', 'correction', 'correctional', 'corrections', 'corrective', 'correctly', 'correlated', 'corresponding', 'corresponds', 'corridors', 'corrupt', 'corrupting', 'corruption', 'cortez', 'cory', 'cosponsored', 'cost', 'costing', 'costlier', 'costliest', 'costly', 'costs', 'couldn', 'council', 'councils', 'counsel', 'counseling', 'counselor', 'counselors', 'counsels', 'count', 'counted', 'counter', 'counterfeit', 'countering', 'countermeasure', 'countermeasures', 'counterparts', 'counterproductive', 'counterterrorism', 'counties', 'counting', 'countless', 'countries', 'country', 'counts', 'county', 'couple', 'coupled', 'couples', 'coupling', 'courage', 'course', 'courses', 'coursework', 'coursing', 'court', 'courthouses', 'courtroom', 'courts', 'cousin', 'cover', 'coverage', 'covered', 'covering', 'covers', 'cowardly', 'cozied', 'coziness', 'cozy', 'cozying', 'cpi', 'cra', 'crack', 'cracking', 'cracks', 'craft', 'crafting', 'crammed', 'crash', 'crashes', 'crdc', 'create', 'created', 'creates', 'creating', 'creation', 'creative', 'creativity', 'creators', 'credential', 'credentials', 'credibility', 'credible', 'credit', 'credited', 'creditor', 'creditors', 'credits', 'creditworthiness', 'creditworthy', 'creed', 'crescent', 'crews', 'crime', 'crimes', 'criminal', 'criminalization', 'criminalize', 'criminalizing', 'criminals', 'cripple', 'cripples', 'crippling', 'crises', 'crisis', 'criteria', 'critic', 'critical', 'critically', 'criticize', 'criticized', 'crohn', 'croix', 'cronies', 'crooks', 'crop', 'cropland', 'cropping', 'crops', 'cross', 'crosses', 'crossing', 'crow', 'crowd', 'crowding', 'crp', 'crucial', 'crucially', 'crude', 'cruel', 'cruelty', 'crumble', 'crumbled', 'crumbles', 'crumbling', 'crunch', 'crush', 'crushed', 'crushes', 'crushing', 'crypto', 'cryptocurrencies', 'crystal', 'csp', 'ct', 'cta', 'culprits', 'cultivate', 'cultural', 'culturally', 'culture', 'cultures', 'culverts', 'cumbersome', 'cummings', 'cumulative', 'curb', 'cure', 'cures', 'curiosity', 'currencies', 'currency', 'current', 'currently', 'curricula', 'curriculum', 'curry', 'curtail', 'curtailed', 'curtailing', 'curtis', 'curve', 'cushy', 'cusp', 'custody', 'customer', 'customers', 'customs', 'cut', 'cuts', 'cutting', 'cvs', 'cyber', 'cyberattacks', 'cybersecurity', 'cycle', 'cycles', 'cycling', 'd2', 'daca', 'dad', 'daddy', 'daily', 'dairy', 'dakota', 'dam', 'damage', 'damaged', 'damages', 'damaging', 'damn', 'dams', 'danger', 'dangerous', 'dangerously', 'dangers', 'dangle', 'dangled', 'danone', 'daraprim', 'dare', 'dark', 'dart', 'data', 'database', 'databases', 'date', 'dated', 'dates', 'dating', 'daughter', 'davenport', 'davis', 'day', 'daycare', 'daycares', 'days', 'dayton', 'dc', 'dea', 'dead', 'deadbeat', 'deadliest', 'deadline', 'deadly', 'deaf', 'deal', 'dealer', 'dealers', 'dealerships', 'dealing', 'dealings', 'deals', 'dear', 'death', 'deaths', 'deb', 'debate', 'debates', 'debating', 'debbie', 'debit', 'debt', 'debtor', 'debtors', 'debts', 'dec', 'decade', 'decades', 'decamped', 'decarbonization', 'decarbonize', 'decarbonized', 'decarbonizing', 'decay', 'decaying', 'deceased', 'deceiving', 'december', 'decent', 'deceptive', 'decertified', 'decide', 'decided', 'deciding', 'decimate', 'decimated', 'decision', 'decisions', 'decisive', 'decisively', 'deck', 'declaration', 'declare', 'declared', 'declaring', 'declassify', 'declassifying', 'decline', 'declined', 'declines', 'declining', 'decoder', 'decontaminate', 'decrease', 'decreased', 'decreasing', 'decrees', 'decrepit', 'decriminalize', 'decriminalizing', 'dedicate', 'dedicated', 'dedicates', 'dedicating', 'deduct', 'deducted', 'deductible', 'deductibles', 'deduction', 'deductions', 'deed', 'deeming', 'deep', 'deepening', 'deeper', 'deepest', 'deeply', 'deepwater', 'deere', 'default', 'defaulted', 'defaults', 'defeat', 'defeated', 'defeating', 'defective', 'defects', 'defend', 'defendant', 'defendants', 'defender', 'defenders', 'defending', 'defense', 'defer', 'deference', 'deferment', 'deferrals', 'deferred', 'deficiencies', 'deficient', 'deficit', 'define', 'defined', 'defines', 'defining', 'definition', 'definitions', 'defraud', 'defrauded', 'defund', 'degradation', 'degrades', 'degree', 'degrees', 'dehumanize', 'deindustrialization', 'delano', 'delaware', 'delay', 'delayed', 'delaying', 'delays', 'delegate', 'delegates', 'delete', 'deleting', 'deliberate', 'deliberately', 'delinquency', 'deliver', 'delivered', 'delivering', 'delivers', 'delivery', 'delta', 'demagogue', 'demagogues', 'demand', 'demanded', 'demanding', 'demands', 'demeaning', 'dementia', 'democracies', 'democracy', 'democrat', 'democratic', 'democratically', 'democrats', 'demographic', 'demographics', 'demolition', 'demonizes', 'demonizing', 'demonstrate', 'demonstrated', 'demonstrates', 'demonstrating', 'demonstration', 'demonstrations', 'demoting', 'demystifying', 'denali', 'denial', 'denialism', 'denials', 'denied', 'denier', 'denigration', 'denmark', 'densely', 'dent', 'dental', 'dentists', 'dentures', 'denver', 'deny', 'denying', 'depart', 'department', 'departments', 'departure', 'departures', 'depend', 'depended', 'dependence', 'dependency', 'dependent', 'dependents', 'depending', 'depends', 'deploy', 'deployed', 'deploying', 'deployment', 'deployments', 'depoliticize', 'deporation', 'deportation', 'deportations', 'deported', 'deporting', 'deposit', 'deposits', 'depreciation', 'depressed', 'depression', 'deprioritized', 'deprivation', 'deprive', 'deprived', 'deprives', 'depriving', 'deputy', 'derailed', 'derailments', 'deregulating', 'deregulation', 'derelict', 'derivatives', 'descended', 'described', 'describes', 'description', 'desecrated', 'desegregate', 'desegregation', 'desert', 'deserts', 'deserve', 'deserved', 'deserves', 'design', 'designate', 'designated', 'designates', 'designating', 'designation', 'designations', 'designed', 'designer', 'designing', 'desire', 'desires', 'desks', 'despair', 'desperate', 'desperately', 'despite', 'destabilizing', 'destinations', 'destitution', 'destroy', 'destroyed', 'destroying', 'destroys', 'destruction', 'destructive', 'detailed', 'detailing', 'details', 'detained', 'detainees', 'detaining', 'detect', 'detection', 'detention', 'detentions', 'deter', 'determination', 'determinations', 'determine', 'determined', 'determines', 'determining', 'deterrence', 'deterrent', 'deterring', 'deters', 'detrimental', 'detroit', 'devalue', 'devastate', 'devastated', 'devastating', 'devastation', 'develop', 'developed', 'developer', 'developers', 'developing', 'development', 'developmental', 'developments', 'device', 'devices', 'devos', 'devote', 'devoted', 'dhs', 'diabetes', 'diagnose', 'diagnosed', 'diagnosis', 'diagnostic', 'diagnostics', 'dialing', 'dialysis', 'dianne', 'diaper', 'diapers', 'dick', 'dictating', 'dictators', 'did', 'didn', 'die', 'died', 'diem', 'dies', 'diesel', 'differ', 'difference', 'differences', 'different', 'differential', 'differentiator', 'differently', 'differing', 'difficult', 'difficulties', 'difficulty', 'dig', 'digesters', 'digital', 'dignified', 'dignity', 'dilute', 'diluted', 'dime', 'dimensional', 'dimes', 'diminish', 'diminished', 'dinner', 'dioxide', 'diploma', 'diplomacy', 'diplomas', 'diplomatic', 'diplomats', 'dipped', 'dire', 'direct', 'directed', 'directing', 'direction', 'directions', 'directives', 'directly', 'director', 'directors', 'directs', 'dirt', 'dirty', 'disabilities', 'disability', 'disabled', 'disadvantage', 'disadvantaged', 'disadvantages', 'disaggregated', 'disallowing', 'disappear', 'disappearance', 'disappeared', 'disappearing', 'disappears', 'disappointed', 'disaster', 'disasters', 'disastrous', 'discarded', 'discharge', 'dischargeable', 'discharged', 'discharges', 'discharging', 'disciplinary', 'discipline', 'disclaimer', 'disclose', 'disclosed', 'disclosing', 'disclosure', 'disclosures', 'disconnected', 'discount', 'discounted', 'discounts', 'discourage', 'discouraging', 'discovered', 'discoveries', 'discovery', 'discretion', 'discretionary', 'discriminate', 'discriminated', 'discriminating', 'discrimination', 'discriminatorily', 'discriminatory', 'discriminatorypractices', 'discuss', 'discussed', 'discussing', 'discussion', 'discussions', 'disease', 'diseases', 'disenfranchise', 'disenfranchisement', 'disfavors', 'disgorge', 'disgrace', 'disgraced', 'disgraceful', 'disgracefully', 'disguise', 'disgusting', 'dishonest', 'dishonorable', 'disincentives', 'disinformation', 'disinterested', 'disinvestment', 'dismal', 'dismantle', 'dismantled', 'dismantling', 'dismiss', 'dismissal', 'dismissals', 'dismissed', 'dismissing', 'disobedience', 'disorder', 'disorders', 'disparate', 'disparities', 'disparity', 'dispatched', 'dispensaries', 'dispensing', 'displace', 'displaced', 'displacement', 'displacing', 'disposal', 'dispose', 'disposed', 'disposition', 'disproportionality', 'disproportionate', 'disproportionately', 'dispute', 'disputes', 'disqualified', 'disqualifies', 'disregard', 'disregarded', 'disrepair', 'disreputable', 'disrespect', 'disrespects', 'disrupt', 'disrupting', 'disruption', 'disseminate', 'disseminated', 'dissemination', 'disservice', 'distance', 'distances', 'distant', 'distinct', 'distinguishing', 'distort', 'distortions', 'distorts', 'distract', 'distracted', 'distress', 'distressed', 'distribute', 'distributed', 'distributing', 'distribution', 'distributors', 'district', 'districts', 'distrust', 'disturbing', 'ditch', 'diverse', 'diversify', 'diversifying', 'diversion', 'diversity', 'divert', 'diverted', 'diverting', 'diverts', 'divest', 'divesting', 'divestment', 'divide', 'divided', 'dividend', 'dividends', 'divides', 'division', 'divorce', 'dnc', 'dockets', 'doctor', 'doctoral', 'doctors', 'doctrine', 'document', 'documentation', 'documented', 'documenting', 'documents', 'dod', 'dodging', 'doe', 'does', 'doesn', 'doing', 'doj', 'dojo', 'dol', 'dole', 'dollar', 'dollars', 'domain', 'domenici', 'domestic', 'dominance', 'dominant', 'dominate', 'don', 'donald', 'donate', 'donated', 'donating', 'donation', 'donations', 'donor', 'donors', 'donut', 'door', 'doors', 'dose', 'doses', 'double', 'doubleclick', 'doubled', 'doubling', 'doubt', 'douglas', 'douglass', 'doula', 'dow', 'downey', 'downing', 'download', 'downpayment', 'downplay', 'downside', 'downstream', 'downturn', 'downward', 'dozen', 'dozens', 'dr', 'draconian', 'draft', 'drafted', 'drafts', 'drag', 'drain', 'drainage', 'drained', 'draining', 'dramatic', 'dramatically', 'drastic', 'drastically', 'draw', 'drawing', 'drawn', 'draws', 'dream', 'dreamers', 'dreams', 'dress', 'drift', 'drill', 'drilling', 'drink', 'drinking', 'drive', 'driven', 'driver', 'drivers', 'drives', 'driving', 'drm', 'drop', 'dropped', 'dropping', 'drops', 'drought', 'droughts', 'drove', 'droves', 'drown', 'drowned', 'drowning', 'drug', 'drugs', 'drunk', 'dry', 'dual', 'dublin', 'dues', 'dug', 'dump', 'dumping', 'duplicate', 'duplicative', 'dupont', 'durable', 'duration', 'durbin', 'dust', 'duties', 'duty', 'dwight', 'dwis', 'dying', 'dynamic', 'dynamics', 'dynasty', 'dysfunctional', 'dystrophy', 'e15', 'eager', 'earlier', 'earliest', 'early', 'earmarked', 'earn', 'earned', 'earner', 'earners', 'earning', 'earnings', 'ears', 'earth', 'ease', 'easement', 'easements', 'easier', 'easily', 'east', 'easy', 'eat', 'eaten', 'eating', 'ebola', 'ebt', 'ece', 'ecological', 'ecologically', 'ecology', 'economic', 'economically', 'economics', 'economies', 'economist', 'economists', 'economy', 'ecosystem', 'ecosystems', 'ed', 'eda', 'edge', 'editorial', 'educate', 'educated', 'educating', 'education', 'educational', 'educator', 'educators', 'edward', 'edwards', 'eeoc', 'effect', 'effective', 'effectively', 'effectiveness', 'effects', 'efficiency', 'efficient', 'efficiently', 'effort', 'efforts', 'egg', 'egged', 'eggs', 'egregious', 'egypt', 'eighteen', 'eighteenth', 'eighty', 'eisenhower', 'eitc', 'el', 'elaborate', 'elder', 'elderly', 'elect', 'elected', 'electing', 'election', 'electioneering', 'elections', 'electoral', 'electric', 'electrical', 'electrician', 'electricians', 'electricity', 'electrification', 'electrified', 'electrify', 'electrifying', 'electronic', 'element', 'elementary', 'elements', 'elevate', 'elevated', 'elevating', 'eleventh', 'eli', 'elicit', 'eligibility', 'eligible', 'elijah', 'eliminate', 'eliminated', 'eliminates', 'eliminating', 'elimination', 'elites', 'elizabeth', 'email', 'eman', 'emanuel', 'embargoed', 'embarrassment', 'embassies', 'embattled', 'embed', 'embedded', 'embodied', 'embody', 'embrace', 'embraced', 'embraces', 'embracing', 'emerge', 'emerged', 'emergence', 'emergencies', 'emergency', 'emerging', 'emission', 'emissions', 'emitted', 'emitter', 'emitting', 'emmanuel', 'emotional', 'emotionally', 'empathy', 'emphasis', 'emphasize', 'employ', 'employed', 'employee', 'employees', 'employer', 'employers', 'employing', 'employment', 'employs', 'empower', 'empowered', 'empowering', 'empowerment', 'empowers', 'emts', 'enable', 'enabled', 'enablement', 'enablers', 'enables', 'enabling', 'enact', 'enacted', 'enacting', 'enactment', 'encounter', 'encourage', 'encouraged', 'encourages', 'encouraging', 'encroaching', 'end', 'endanger', 'endangering', 'endangers', 'ended', 'endemic', 'ending', 'endless', 'endocarditis', 'endorsed', 'endowments', 'endrew', 'ends', 'endured', 'enduring', 'enemies', 'enemy', 'energetic', 'energies', 'energize', 'energy', 'enforce', 'enforceable', 'enforced', 'enforcement', 'enforcers', 'enforces', 'enforcing', 'enfranchise', 'enfranchisement', 'engage', 'engaged', 'engagement', 'engagements', 'engages', 'engaging', 'engine', 'engineering', 'engineers', 'engines', 'english', 'enhance', 'enhanced', 'enhancement', 'enhancements', 'enhances', 'enhancing', 'enjoin', 'enjoy', 'enjoyable', 'enjoyed', 'enjoys', 'enlisted', 'enormous', 'enrich', 'enriched', 'enriches', 'enriching', 'enroll', 'enrolled', 'enrollee', 'enrollees', 'enrolling', 'enrollment', 'enrolls', 'ensure', 'ensured', 'ensures', 'ensuring', 'entangled', 'enter', 'entered', 'entering', 'enterprise', 'enterprises', 'enterprising', 'enters', 'enthusiastically', 'enthusiasts', 'entire', 'entirely', 'entities', 'entitled', 'entitlement', 'entity', 'entrants', 'entrench', 'entrenched', 'entrepreneur', 'entrepreneurial', 'entrepreneurs', 'entrepreneurship', 'entrusted', 'entry', 'environment', 'environmental', 'environmentalist', 'environmentalists', 'environmentally', 'environments', 'enviroscreen', 'envisioned', 'envisions', 'envoy', 'epa', 'epi', 'epidemic', 'epidemics', 'epidemiology', 'epidural', 'epinephrine', 'epipen', 'epipens', 'episode', 'eqip', 'equal', 'equality', 'equalize', 'equalizer', 'equally', 'equifax', 'equip', 'equipment', 'equipped', 'equitable', 'equitably', 'equities', 'equity', 'equivalent', 'er', 'era', 'eradicate', 'eradicating', 'eras', 'eric', 'erisa', 'erode', 'eroded', 'erodes', 'eroding', 'erosion', 'errands', 'ers', 'escalante', 'escalation', 'escape', 'escaped', 'escapes', 'esl', 'especially', 'essa', 'essence', 'essential', 'essentially', 'establish', 'established', 'establishes', 'establishing', 'establishment', 'estate', 'esteem', 'estimate', 'estimated', 'estimates', 'estuarine', 'et', 'ethical', 'ethically', 'ethics', 'ethnic', 'ethnicity', 'eugene', 'europe', 'european', 'ev', 'evacuated', 'evacuating', 'evacuation', 'evade', 'evaded', 'evading', 'evaluate', 'evaluated', 'evaluating', 'evaluation', 'evaluations', 'evasion', 'evenly', 'event', 'events', 'eventual', 'eventually', 'everybody', 'everyday', 'evict', 'evicted', 'evicting', 'eviction', 'evictions', 'evidence', 'evidenced', 'evolving', 'evzio', 'ex', 'exacerbate', 'exacerbated', 'exacerbating', 'exact', 'exactly', 'exaggerate', 'exam', 'examination', 'examine', 'examined', 'examines', 'example', 'examples', 'exams', 'exceed', 'exceeded', 'exceeding', 'exceeds', 'excel', 'excellence', 'excellent', 'exception', 'exceptional', 'exceptions', 'excess', 'excesses', 'excessive', 'exchange', 'exchanged', 'exchanges', 'excise', 'excises', 'exclude', 'excluded', 'excludes', 'excluding', 'exclusion', 'exclusionary', 'exclusions', 'exclusive', 'exclusively', 'exclusivity', 'excuse', 'execs', 'execute', 'executed', 'executive', 'executives', 'exempt', 'exempted', 'exemption', 'exemptions', 'exercise', 'exercising', 'exerted', 'exhaust', 'exhibit', 'exigency', 'exile', 'exist', 'existed', 'existence', 'existent', 'existential', 'existing', 'exists', 'exit', 'exonerated', 'exonerating', 'exorbitant', 'expand', 'expanded', 'expanding', 'expands', 'expansion', 'expansions', 'expansive', 'expatriate', 'expect', 'expectancy', 'expectation', 'expectations', 'expected', 'expedite', 'expedited', 'expediting', 'expendable', 'expenditure', 'expenditures', 'expense', 'expenses', 'expensing', 'expensive', 'experience', 'experienced', 'experiences', 'experiencesinto', 'experiencing', 'experiment', 'experimental', 'experimentation', 'experimenting', 'expert', 'expertise', 'experts', 'expiration', 'expire', 'expired', 'explain', 'explained', 'explaining', 'explanation', 'explanations', 'explicit', 'explicitly', 'exploded', 'exploit', 'exploitation', 'exploitative', 'exploited', 'exploiting', 'exploits', 'exploration', 'explore', 'exploring', 'explosion', 'explosions', 'explosives', 'exponentially', 'export', 'exported', 'exporting', 'exports', 'expose', 'exposed', 'exposure', 'express', 'expressed', 'expression', 'expressly', 'expulsion', 'expulsions', 'expunge', 'expunged', 'expungement', 'extend', 'extended', 'extending', 'extends', 'extension', 'extensions', 'extensive', 'extent', 'extort', 'extorted', 'extortive', 'extra', 'extract', 'extracting', 'extraction', 'extraordinarily', 'extraordinary', 'extravagant', 'extreme', 'extremely', 'extremism', 'extremist', 'extremists', 'exxon', 'eye', 'eyeglasses', 'eyes', 'fabric', 'face', 'facebook', 'faced', 'faces', 'facial', 'facially', 'facilitate', 'facilitates', 'facilitating', 'facilitator', 'facilities', 'facility', 'facing', 'fact', 'facto', 'factor', 'factored', 'factories', 'factors', 'factory', 'facts', 'factual', 'faculty', 'fahrenheit', 'fail', 'failed', 'failing', 'failings', 'fails', 'failure', 'failures', 'fair', 'faircloth', 'fairer', 'fairly', 'fairness', 'faith', 'fake', 'fall', 'fallen', 'falling', 'falls', 'false', 'falsely', 'falsify', 'families', 'family', 'famines', 'famous', 'famously', 'fancy', 'fannie', 'far', 'fares', 'fargo', 'farm', 'farmed', 'farmer', 'farmers', 'farming', 'farmland', 'farms', 'farmworkers', 'fascism', 'fashion', 'fast', 'faster', 'fastest', 'fat', 'fatalities', 'fatally', 'fatca', 'fate', 'father', 'fathers', 'fault', 'faulty', 'favor', 'favorable', 'favored', 'favoring', 'favors', 'fbi', 'fcc', 'fcs', 'fda', 'fdic', 'fdr', 'fea', 'fear', 'fears', 'feasibility', 'feasible', 'feature', 'features', 'february', 'fec', 'fed', 'federal', 'federalist', 'federalized', 'federally', 'fee', 'feed', 'feedback', 'feeding', 'feeds', 'feel', 'feeling', 'feels', 'fees', 'feet', 'feingold', 'feinstein', 'fell', 'fellow', 'fellowship', 'felonies', 'felony', 'felt', 'fema', 'female', 'fence', 'fenceline', 'fentanyl', 'ferpa', 'ferrell', 'ferris', 'ferry', 'fertility', 'fertilizer', 'fertilizers', 'festering', 'fewer', 'fiber', 'fica', 'fide', 'fidelity', 'fiduciary', 'field', 'fields', 'fifth', 'fight', 'fighting', 'fights', 'figure', 'figured', 'figures', 'file', 'filed', 'filer', 'filers', 'filibuster', 'filing', 'filings', 'filipino', 'filled', 'filling', 'filtering', 'final', 'finalized', 'finalizing', 'finally', 'finance', 'financed', 'finances', 'financial', 'financially', 'financing', 'finding', 'findings', 'finds', 'fine', 'fines', 'finish', 'finished', 'finishing', 'firearm', 'firearms', 'fired', 'firefighters', 'firefighting', 'fires', 'firing', 'firm', 'firmer', 'firmly', 'firms', 'firsthand', 'fiscal', 'fiscally', 'fish', 'fisheries', 'fishermen', 'fishers', 'fishery', 'fishing', 'fit', 'fitful', 'fits', 'fivefold', 'fix', 'fixed', 'fixes', 'fixing', 'flag', 'flagged', 'flagrant', 'flags', 'flashing', 'flat', 'flats', 'flawed', 'flaws', 'fled', 'fledged', 'fleeing', 'fleet', 'fleets', 'flew', 'flex', 'flexibility', 'flexible', 'flight', 'flint', 'flipping', 'floating', 'flock', 'flood', 'flooded', 'flooding', 'floods', 'floor', 'floors', 'flora', 'florida', 'flourish', 'flourishing', 'flow', 'flows', 'flu', 'flying', 'focus', 'focused', 'focuses', 'focusing', 'foia', 'fold', 'folded', 'follow', 'followed', 'following', 'follows', 'food', 'foods', 'foolish', 'foot', 'footing', 'footprint', 'force', 'forced', 'forces', 'forcible', 'forcibly', 'forcing', 'forecasting', 'foreclose', 'foreclosure', 'foreclosures', 'foreign', 'foremen', 'foresaw', 'forest', 'foresters', 'forestry', 'forests', 'forever', 'forfeit', 'forfeiture', 'forfeitures', 'forge', 'forget', 'forgets', 'forgetting', 'forgiveness', 'forgo', 'form', 'formal', 'formaldehyde', 'formally', 'formation', 'formidable', 'forming', 'forms', 'formula', 'formulaic', 'formulas', 'forsman', 'forth', 'fortunate', 'fortunately', 'fortune', 'fortunes', 'forward', 'fossil', 'foster', 'fostering', 'fosters', 'fought', 'foundation', 'foundational', 'foundations', 'founded', 'founder', 'founders', 'founding', 'fourseniors', 'fourth', 'fox', 'fpl', 'fracked', 'fracking', 'fraction', 'fractionated', 'fractured', 'fragile', 'framework', 'frameworks', 'france', 'franchise', 'franchisee', 'francisco', 'franklin', 'fraud', 'fraudulent', 'freddie', 'free', 'freedom', 'freedoms', 'freeing', 'freely', 'freeze', 'freezing', 'freight', 'french', 'frequency', 'frequent', 'frequently', 'fresh', 'freshwater', 'friend', 'friendly', 'friends', 'friendship', 'frighten', 'frisk', 'frontline', 'frontlines', 'fronts', 'frozen', 'fruit', 'fruits', 'frustrating', 'fsa', 'fsoc', 'ftc', 'fuel', 'fueled', 'fueling', 'fuels', 'fukushima', 'fuld', 'fulfill', 'fulfilled', 'fulfilling', 'fuller', 'fullest', 'fully', 'function', 'functionally', 'functioning', 'functions', 'fund', 'fundamental', 'fundamentally', 'fundamentals', 'funded', 'funding', 'fundraise', 'fundraisers', 'fundraising', 'funds', 'fungal', 'funnel', 'funneled', 'funneling', 'furnaces', 'furniture', 'furthering', 'furthermore', 'futility', 'future', 'futures', 'gabriel', 'gag', 'gain', 'gained', 'gainful', 'gains', 'galling', 'gallons', 'gallup', 'game', 'gamed', 'games', 'gaming', 'gang', 'gangs', 'gap', 'gaps', 'gardens', 'garner', 'garnished', 'garnishments', 'gary', 'gas', 'gases', 'gasoline', 'gasses', 'gather', 'gathering', 'gave', 'gavin', 'gdp', 'gear', 'gears', 'ged', 'gen', 'gender', 'general', 'generally', 'generate', 'generated', 'generates', 'generating', 'generation', 'generational', 'generations', 'generic', 'generics', 'generous', 'genetech', 'gentrification', 'gentrified', 'gentrifying', 'genuine', 'genuinely', 'geoengineering', 'geographic', 'geographical', 'geography', 'geologic', 'george', 'georgia', 'geothermal', 'germany', 'gerrymandering', 'gets', 'getting', 'ghsa', 'giant', 'giants', 'gideon', 'gifts', 'gig', 'gigatons', 'gigs', 'gilbert', 'gilded', 'gilead', 'gillibrand', 'gimmick', 'gingrich', 'gipsa', 'girls', 'giveaway', 'giveaways', 'given', 'gives', 'giving', 'glad', 'glaring', 'glass', 'gleason', 'glitch', 'global', 'globalized', 'globally', 'globe', 'gloom', 'glosses', 'goading', 'goal', 'goals', 'gobbling', 'goes', 'gofundme', 'going', 'gold', 'golden', 'goldman', 'golf', 'gone', 'good', 'goods', 'google', 'gop', 'gore', 'gorsuch', 'got', 'gotten', 'gouge', 'gouging', 'govern', 'governance', 'governed', 'governing', 'government', 'governmental', 'governments', 'governor', 'governors', 'gpo', 'gps', 'grab', 'grace', 'grade', 'grades', 'gradual', 'gradually', 'graduate', 'graduated', 'graduates', 'graduating', 'graduation', 'graft', 'grain', 'grand', 'grandchildren', 'granddaughter', 'grandfathered', 'grandkids', 'grandpa', 'grandparents', 'grant', 'granted', 'granting', 'grantmaking', 'grantor', 'grants', 'granular', 'grapple', 'grasslands', 'grassroots', 'grateful', 'gratitude', 'grave', 'gravity', 'gray', 'great', 'greater', 'greatest', 'greatly', 'greed', 'greedy', 'green', 'greener', 'greenhouse', 'greenland', 'greenspan', 'greeted', 'grew', 'grid', 'grids', 'grievances', 'grigsby', 'grijalva', 'grim', 'grimm', 'grind', 'grip', 'groceries', 'grocery', 'gross', 'ground', 'groundbreaking', 'grounded', 'grounds', 'groundwork', 'group', 'groups', 'grow', 'growers', 'growing', 'grown', 'grows', 'growth', 'grudge', 'grumman', 'gt', 'guarantee', 'guaranteed', 'guaranteeing', 'guarantees', 'guard', 'guardian', 'guardians', 'guardianship', 'guarding', 'guatemala', 'guatemalan', 'guess', 'guidance', 'guide', 'guidelines', 'guilty', 'gulf', 'gun', 'gunman', 'guns', 'gut', 'gutless', 'gutted', 'guys', 'haaland', 'habeas', 'habitable', 'habitat', 'habitats', 'hackers', 'hadn', 'hairstyle', 'half', 'halfway', 'hall', 'halls', 'hallucinogen', 'halt', 'halting', 'halved', 'hampshire', 'hamstrung', 'hand', 'handcuffs', 'handed', 'handful', 'handgun', 'handguns', 'handicapped', 'handing', 'handle', 'handled', 'handles', 'handling', 'handmarked', 'handouts', 'hands', 'handy', 'hanging', 'haphazard', 'happen', 'happened', 'happening', 'happens', 'happier', 'happiness', 'happy', 'harass', 'harassing', 'harassment', 'harbor', 'hard', 'harder', 'hardest', 'hardly', 'hardship', 'hardware', 'hardworking', 'harkin', 'harm', 'harmed', 'harmful', 'harming', 'harmless', 'harms', 'harness', 'harnessing', 'harris', 'harry', 'harsh', 'harsher', 'hartley', 'harvard', 'harvest', 'harvesting', 'harvey', 'harvoni', 'harwood', 'hasn', 'hassle', 'hate', 'hateful', 'hatred', 'haul', 'haven', 'havens', 'having', 'havoc', 'hawaiian', 'hawaiians', 'hawkins', 'hazard', 'hazardous', 'hazards', 'hbcu', 'hbcus', 'hbgi', 'head', 'headed', 'headlines', 'headlong', 'heads', 'heal', 'healing', 'health', 'healthcare', 'healthier', 'healthy', 'hear', 'heard', 'hearing', 'hearings', 'hears', 'heart', 'heartbreaking', 'heartland', 'heartless', 'heat', 'heaters', 'heating', 'heatwaves', 'heavily', 'heavy', 'heck', 'heckman', 'hectare', 'hedge', 'heels', 'hefty', 'height', 'heighten', 'heightened', 'heinrich', 'heir', 'heirs', 'held', 'hell', 'help', 'helped', 'helpful', 'helping', 'helps', 'hemisphere', 'hemp', 'hennepin', 'hepatitis', 'herbicide', 'heritage', 'hernandez', 'heroes', 'heroic', 'heroin', 'hesitant', 'hesitate', 'heumann', 'hfcs', 'hheatt', 'hhs', 'hidden', 'hide', 'hiding', 'high', 'higher', 'highest', 'highlight', 'highlights', 'highly', 'highway', 'highways', 'hijacked', 'hike', 'hikers', 'hikes', 'hill', 'hinder', 'hindering', 'hint', 'hipaa', 'hire', 'hired', 'hires', 'hiring', 'hirono', 'hispanic', 'hispanics', 'historic', 'historical', 'historically', 'histories', 'history', 'hit', 'hits', 'hitting', 'hiv', 'hobbled', 'hoever', 'hog', 'hogs', 'hold', 'holder', 'holders', 'holding', 'holdings', 'holds', 'hole', 'holiday', 'holidays', 'holistic', 'hollow', 'hollowed', 'hollowing', 'home', 'homebuyer', 'homebuyers', 'homegrown', 'homeland', 'homelands', 'homeless', 'homelessness', 'homeowner', 'homeowners', 'homeownership', 'homes', 'homestead', 'homicide', 'homicides', 'honest', 'honor', 'honorable', 'honored', 'honoring', 'hook', 'hope', 'hopelessly', 'hoping', 'hordes', 'horizon', 'horizons', 'horizontal', 'horizontally', 'horrified', 'horror', 'hospital', 'hospitality', 'hospitals', 'host', 'hostage', 'hosted', 'hostile', 'hosting', 'hosts', 'hot', 'hotbeds', 'hotel', 'hotels', 'hotline', 'hottest', 'hour', 'hourly', 'hours', 'house', 'housed', 'household', 'households', 'houses', 'housing', 'houston', 'howard', 'hpp', 'huawei', 'hubert', 'hubs', 'hud', 'huge', 'hugely', 'human', 'humana', 'humane', 'humanitarian', 'humanity', 'humans', 'humira', 'humphrey', 'hundredfold', 'hundreds', 'hunger', 'hungry', 'hunters', 'hunting', 'hurdles', 'hurricane', 'hurricanes', 'hurt', 'hurting', 'hurtling', 'hurts', 'husband', 'hush', 'hyde', 'hydroelectric', 'hydrofluorocarbons', 'hygienic', 'hygienists', 'hypertension', 'ice', 'iceberg', 'iceland', 'id', 'idea', 'ideal', 'ideas', 'identical', 'identifiable', 'identification', 'identified', 'identifies', 'identify', 'identifying', 'identities', 'identity', 'ideological', 'ideologies', 'ideologues', 'ideology', 'idling', 'iep', 'ieps', 'ies', 'ig', 'ignition', 'ignore', 'ignored', 'ignoring', 'ihs', 'ii', 'iii', 'ilhan', 'ill', 'illegal', 'illegally', 'illicit', 'illness', 'illnesses', 'ills', 'illusion', 'illustration', 'imagine', 'imbalances', 'imbues', 'imd', 'immeasurable', 'immediate', 'immediately', 'immense', 'immersion', 'immigrant', 'immigrants', 'immigration', 'immoral', 'immune', 'immunity', 'immunizations', 'immunize', 'impact', 'impacted', 'impactful', 'impacting', 'impacts', 'impaired', 'impairments', 'impartial', 'impartiality', 'impeach', 'impeachable', 'impeached', 'impeachment', 'impede', 'impediments', 'imperative', 'implant', 'implausibly', 'implement', 'implementation', 'implementations', 'implemented', 'implementing', 'implicate', 'implications', 'implicit', 'import', 'importance', 'important', 'importantly', 'importation', 'imported', 'importer', 'imports', 'impose', 'imposed', 'imposes', 'imposing', 'imposition', 'impossible', 'imposts', 'impression', 'imprison', 'imprisoned', 'imprisonment', 'imprisons', 'improperly', 'impropriety', 'improve', 'improved', 'improvement', 'improvements', 'improves', 'improving', 'impunity', 'inability', 'inaccessibility', 'inaccessible', 'inaccurate', 'inaction', 'inadequate', 'inappropriately', 'inaugural', 'inauguration', 'inaugurations', 'incarcerate', 'incarcerated', 'incarcerating', 'incarceration', 'incentive', 'incentives', 'incentivize', 'incentivized', 'incentivizes', 'incentivizing', 'incest', 'inch', 'incidence', 'incidences', 'incident', 'incidents', 'incinerators', 'incite', 'incited', 'incitement', 'include', 'included', 'includes', 'including', 'inclusion', 'inclusionary', 'inclusive', 'inclusiveness', 'inclusivity', 'income', 'incomes', 'incoming', 'incompatible', 'incompetence', 'incomplete', 'inconsistent', 'incorporate', 'incorporated', 'incorporates', 'incorporating', 'incorrect', 'increase', 'increased', 'increases', 'increasing', 'increasingly', 'incredible', 'incredibly', 'incubator', 'incubators', 'incur', 'incurred', 'incurring', 'indebtedness', 'indefensible', 'indefinitely', 'indegenous', 'indemnity', 'indentured', 'independence', 'independent', 'independently', 'index', 'india', 'indian', 'indiana', 'indians', 'indicate', 'indicated', 'indicating', 'indicator', 'indicators', 'indict', 'indicted', 'indictment', 'indigenous', 'indigent', 'indirect', 'individual', 'individualized', 'individuals', 'induce', 'induced', 'induces', 'industrial', 'industrialized', 'industries', 'industry', 'ineffective', 'inefficient', 'ineligible', 'inequalities', 'inequality', 'inequitable', 'inequities', 'inequity', 'inevitable', 'inevitably', 'inexpensive', 'inextricably', 'infamous', 'infancy', 'infant', 'infants', 'infeasible', 'infected', 'infection', 'infections', 'infectious', 'inferior', 'infestation', 'infested', 'infiltrating', 'inflammatory', 'inflate', 'inflated', 'inflation', 'inflexible', 'inflict', 'influence', 'influenced', 'influencers', 'influences', 'influencing', 'influential', 'influenza', 'influx', 'inform', 'informal', 'informally', 'informatics', 'information', 'informed', 'informing', 'infractions', 'infrastructure', 'infringe', 'infuse', 'infusion', 'ingenuity', 'ingredient', 'inhabitants', 'inherent', 'inheritances', 'inherited', 'inheriting', 'inhibit', 'inhibits', 'inhumane', 'initial', 'initially', 'initiate', 'initiated', 'initiative', 'initiatives', 'injection', 'injector', 'injectors', 'injured', 'injuries', 'injury', 'injustice', 'injustices', 'inland', 'inmates', 'innocent', 'innovate', 'innovation', 'innovations', 'innovative', 'innovators', 'innumerable', 'inpatient', 'input', 'inputs', 'inquiries', 'inquiry', 'inroads', 'ins', 'insecure', 'insecurity', 'inserting', 'inside', 'insider', 'insiders', 'insidious', 'insist', 'insists', 'inslee', 'insolvent', 'inspect', 'inspected', 'inspection', 'inspections', 'inspector', 'inspectors', 'inspiration', 'inspire', 'inspired', 'inspires', 'inspiring', 'instability', 'instagram', 'install', 'installation', 'installed', 'installer', 'installing', 'instance', 'instant', 'instead', 'instigate', 'institute', 'instituted', 'institutes', 'instituting', 'institution', 'institutional', 'institutionalize', 'institutionalized', 'institutions', 'instruct', 'instructed', 'instructing', 'instruction', 'instructional', 'instrumental', 'instruments', 'insufficient', 'insulate', 'insulation', 'insulin', 'insult', 'insurance', 'insure', 'insured', 'insurer', 'insurers', 'insuring', 'insurmountable', 'intact', 'intake', 'intangible', 'integral', 'integrate', 'integrated', 'integrates', 'integrating', 'integration', 'integrity', 'intellectual', 'intellectually', 'intelligence', 'intelligent', 'intend', 'intended', 'intends', 'intense', 'intensified', 'intensifying', 'intensity', 'intensive', 'intent', 'intention', 'intentional', 'intentionally', 'intentions', 'inter', 'interact', 'interacted', 'interacting', 'interaction', 'interactions', 'interagency', 'intercity', 'interconnectedness', 'interested', 'interests', 'interface', 'interfere', 'interference', 'interfering', 'intergovernmental', 'interim', 'interior', 'interlock', 'interlocking', 'intermediate', 'internal', 'international', 'internationally', 'internet', 'internship', 'interoperability', 'interoperable', 'interpretation', 'interpreted', 'interpreters', 'interregional', 'interrelation', 'interrupt', 'interruption', 'interruptions', 'intersection', 'intersectional', 'interstate', 'intertwined', 'intertwining', 'intervene', 'intervening', 'intervention', 'interventions', 'interviewed', 'intimate', 'intimidation', 'intolerance', 'introduce', 'introduced', 'introducing', 'introduction', 'intrusion', 'invalidate', 'invaluable', 'invasive', 'invented', 'invents', 'inverted', 'invest', 'invested', 'investigate', 'investigated', 'investigates', 'investigating', 'investigation', 'investigations', 'investigative', 'investing', 'investment', 'investments', 'investor', 'investors', 'invests', 'invigorate', 'invite', 'invited', 'invites', 'inviting', 'involuntarily', 'involuntary', 'involve', 'involved', 'involvement', 'involving', 'ionized', 'iowa', 'iowans', 'ipcc', 'iran', 'iraq', 'ireland', 'irma', 'iron', 'ironically', 'ironworkers', 'irregular', 'irrelevant', 'irreparable', 'irreplaceable', 'irresponsibility', 'irresponsible', 'irreversible', 'irreversibly', 'irs', 'isakson', 'isds', 'island', 'islander', 'islands', 'isle', 'isn', 'isolate', 'isolated', 'isolation', 'isp', 'isps', 'issue', 'issued', 'issues', 'issuing', 'italy', 'itc', 'item', 'items', 'ix', 'jack', 'jacking', 'jackson', 'jail', 'jailed', 'jailer', 'jailing', 'jails', 'james', 'jammed', 'jan', 'janitor', 'japan', 'jar', 'jared', 'jay', 'jayapal', 'jean', 'jeanne', 'jeff', 'jemez', 'jennifer', 'jennings', 'jeopardize', 'jeopardizes', 'jeopardizing', 'jersey', 'jessica', 'jewelry', 'jewish', 'jews', 'jill', 'jim', 'jinping', 'job', 'joblessness', 'jobs', 'jobseekers', 'joe', 'joel', 'john', 'johnny', 'johnson', 'join', 'joined', 'joining', 'joins', 'joint', 'jointly', 'jon', 'jonathan', 'jorwic', 'jose', 'journalists', 'joy', 'joyce', 'jpmorgan', 'jr', 'judge', 'judged', 'judges', 'judgments', 'judicial', 'judiciary', 'judith', 'juicy', 'jul', 'july', 'jump', 'jumped', 'jumpstart', 'jumpstarts', 'jun', 'junction', 'june', 'junk', 'juries', 'jurisdiction', 'jurisdictional', 'jurisdictions', 'jurors', 'jury', 'just', 'justice', 'justices', 'justification', 'justify', 'justin', 'juvenile', 'juveniles', 'kaléo', 'kamala', 'kaplan', 'kari', 'kate', 'katrina', 'kavanaugh', 'keeping', 'keeps', 'kelly', 'kellyanne', 'kelp', 'kennedy', 'kept', 'kevin', 'key', 'keystone', 'kick', 'kickbacks', 'kicked', 'kicker', 'kicking', 'kickoff', 'kickstarter', 'kid', 'kids', 'kigali', 'kill', 'killed', 'killer', 'killing', 'kilowatt', 'kind', 'kindergarten', 'kinds', 'king', 'kingdom', 'kingpin', 'kingpins', 'kirsten', 'kit', 'kitchen', 'kitchens', 'kits', 'kkk', 'kleptocracy', 'kleptocratic', 'kleptocrats', 'kline', 'klobuchar', 'knee', 'knew', 'knife', 'knocked', 'know', 'knowing', 'knowingly', 'knowledge', 'known', 'knows', 'koch', 'korea', 'korean', 'kozinski', 'kremlin', 'kushner', 'kyl', 'la', 'lab', 'label', 'labeled', 'labeling', 'labels', 'labor', 'laborers', 'labour', 'labs', 'lack', 'lacked', 'lacking', 'lacks', 'lactation', 'ladder', 'lafayette', 'lag', 'lago', 'laid', 'lakes', 'lamp', 'land', 'landed', 'landing', 'landlord', 'landlords', 'landmark', 'landmarks', 'landowners', 'landownership', 'lands', 'landscape', 'landscapes', 'language', 'languages', 'languish', 'lapse', 'lapsed', 'laquan', 'large', 'largely', 'larger', 'largest', 'lasting', 'lastly', 'late', 'later', 'latest', 'latina', 'latinas', 'latino', 'latinos', 'latinx', 'latinxs', 'launch', 'launched', 'launches', 'launching', 'launder', 'laundered', 'launderers', 'laundering', 'lauren', 'law', 'lawful', 'lawmakers', 'lawns', 'laws', 'lawsuit', 'lawsuits', 'lawyer', 'lawyers', 'lax', 'lay', 'layering', 'layers', 'laying', 'lays', 'laziness', 'lead', 'leader', 'leaders', 'leadership', 'leading', 'leads', 'leakage', 'leakages', 'leaked', 'leakiest', 'leaking', 'leaks', 'leaky', 'leap', 'learn', 'learned', 'learners', 'learning', 'lease', 'leases', 'leasing', 'leave', 'leaves', 'leaving', 'lebanon', 'led', 'left', 'leg', 'legacy', 'legal', 'legality', 'legalization', 'legalize', 'legalized', 'legalizing', 'legally', 'legislate', 'legislation', 'legislative', 'legislators', 'legislatures', 'legitimacy', 'legitimate', 'legitimately', 'lehman', 'lend', 'lender', 'lenders', 'lending', 'length', 'leonard', 'leptospirosis', 'lesser', 'lesson', 'lessons', 'let', 'lets', 'letter', 'letters', 'letting', 'levees', 'level', 'leveling', 'levels', 'leverage', 'leveraged', 'leverages', 'leveraging', 'levers', 'levied', 'levies', 'lewis', 'lgbtq', 'liabilities', 'liability', 'liable', 'liaison', 'liam', 'liberties', 'libraries', 'library', 'licence', 'license', 'licensed', 'licensees', 'licenses', 'licensing', 'licensure', 'lie', 'lied', 'lies', 'lieu', 'life', 'lifeblood', 'lifeline', 'lifelong', 'lifesaving', 'lifespan', 'lifestyle', 'lifestyles', 'lifetime', 'lifetimes', 'lift', 'lifting', 'lifts', 'light', 'lightbulbs', 'lights', 'liheap', 'lihtc', 'like', 'likelihood', 'likeliness', 'likely', 'lilly', 'limit', 'limitation', 'limitations', 'limited', 'limiting', 'limits', 'limp', 'line', 'lines', 'linger', 'linguistic', 'linguistically', 'lining', 'link', 'linked', 'linking', 'links', 'lion', 'lionel', 'lip', 'liquidated', 'liquidity', 'list', 'listed', 'listen', 'listening', 'lists', 'literacy', 'literally', 'litigant', 'litigants', 'litigation', 'littered', 'little', 'livable', 'live', 'lived', 'livelihoods', 'liver', 'lives', 'livestock', 'livestream', 'living', 'll', 'llcs', 'load', 'loading', 'loan', 'loans', 'lobbied', 'lobbies', 'lobby', 'lobbying', 'lobbyist', 'lobbyists', 'local', 'localities', 'locality', 'locally', 'locate', 'located', 'location', 'locations', 'locative', 'lock', 'locked', 'lockheed', 'locking', 'locks', 'lodged', 'lodges', 'lodging', 'log', 'logan', 'logged', 'lois', 'london', 'lone', 'loneliness', 'lonely', 'long', 'longer', 'longest', 'longshoremen', 'longstanding', 'longtime', 'look', 'looked', 'looking', 'looks', 'looming', 'looms', 'loophole', 'loopholes', 'loosen', 'loosened', 'loot', 'looting', 'lopsided', 'loretta', 'los', 'lose', 'loses', 'losing', 'loss', 'losses', 'lost', 'lot', 'lots', 'loud', 'louisiana', 'lousy', 'love', 'loved', 'low', 'lower', 'lowered', 'lowering', 'lowers', 'lowest', 'lows', 'loyalty', 'lte', 'ltss', 'luck', 'lucky', 'lucrative', 'ludicrously', 'lugged', 'lump', 'lunar', 'lunch', 'lunches', 'lung', 'lures', 'luring', 'luther', 'luxury', 'lwcf', 'lying', 'lyme', 'lynch', 'lynching', 'lyng', 'mac', 'machine', 'machinery', 'machines', 'machinists', 'macpac', 'mae', 'magallanes', 'magazine', 'magazines', 'magnates', 'magnet', 'magnets', 'magnitude', 'magnuson', 'mail', 'mailing', 'main', 'maine', 'mainstream', 'mainstreamed', 'maintain', 'maintained', 'maintaining', 'maintains', 'maintenance', 'majestic', 'major', 'majority', 'make', 'makers', 'makes', 'makeshift', 'making', 'malaria', 'malaysian', 'male', 'malfeasance', 'malfunctioning', 'malign', 'maltreatment', 'mamas', 'man', 'manafort', 'manage', 'managed', 'management', 'manager', 'managers', 'manages', 'managing', 'manchester', 'manchin', 'mandate', 'mandated', 'mandates', 'mandating', 'mandatory', 'maneuvers', 'mangrove', 'mangroves', 'manifesto', 'manipulate', 'manipulating', 'manipulation', 'manner', 'manuals', 'manufacture', 'manufactured', 'manufacturer', 'manufacturers', 'manufacturing', 'map', 'mapping', 'maps', 'mar', 'march', 'marches', 'marching', 'marcus', 'margin', 'marginal', 'marginalized', 'margins', 'maria', 'mariana', 'marijuana', 'marine', 'marital', 'maritime', 'mark', 'marked', 'market', 'marketing', 'marketplace', 'marketplaces', 'markets', 'markey', 'marks', 'markups', 'marquette', 'marriage', 'married', 'marry', 'marrying', 'marshaling', 'marshall', 'marshals', 'martial', 'martin', 'maryanne', 'maryland', 'mashpee', 'mask', 'masks', 'masquerading', 'mass', 'massachusetts', 'massive', 'massively', 'master', 'mat', 'match', 'matches', 'matching', 'matchmaker', 'material', 'materials', 'maternal', 'maternity', 'math', 'mathematics', 'mathis', 'matter', 'matters', 'matthew', 'mattis', 'mature', 'maturities', 'maximization', 'maximize', 'maximizing', 'maximum', 'maybe', 'mayonnaise', 'mayor', 'mayors', 'maze', 'mbps', 'mcallen', 'mccain', 'mcconnell', 'mcdonald', 'mcdonnell', 'mckinney', 'meal', 'meals', 'mean', 'meaning', 'meaningful', 'meaningfully', 'means', 'meant', 'meantime', 'measles', 'measurable', 'measure', 'measured', 'measurement', 'measures', 'measuring', 'meat', 'meatpackers', 'meatpacking', 'mechanism', 'mechanisms', 'media', 'median', 'mediation', 'medicaid', 'medical', 'medically', 'medicare', 'medication', 'medications', 'medicine', 'medicines', 'medium', 'meet', 'meeting', 'meetings', 'meets', 'mega', 'megawatts', 'meharry', 'mehrsa', 'meltdown', 'melting', 'member', 'members', 'membership', 'memo', 'men', 'mental', 'mention', 'mentoring', 'mentorship', 'menu', 'mercenaries', 'merck', 'mercury', 'mere', 'merely', 'merge', 'merged', 'merger', 'mergers', 'merging', 'merit', 'meritorious', 'mess', 'message', 'messages', 'messi', 'met', 'metal', 'metering', 'meters', 'methamphetamine', 'methane', 'method', 'methodological', 'methods', 'metrics', 'metropolitan', 'mexican', 'mexico', 'mfp', 'mi', 'miami', 'mice', 'michael', 'michigan', 'michigans', 'mick', 'microgrant', 'microgrid', 'microsoft', 'mid', 'midcentury', 'middle', 'middleman', 'middlemen', 'midst', 'midwest', 'midwestern', 'miechv', 'migraines', 'migrant', 'migrants', 'migrated', 'migration', 'mike', 'milbern', 'mile', 'miles', 'milestone', 'milestones', 'militant', 'militarism', 'militarization', 'military', 'milk', 'millennials', 'miller', 'milligram', 'million', 'millionaire', 'millionaires', 'millionchildren', 'millions', 'min', 'mind', 'minded', 'minds', 'miner', 'mineral', 'miners', 'mines', 'minimal', 'minimize', 'minimizing', 'minimum', 'minimums', 'mining', 'minister', 'minneapolis', 'minnesota', 'minor', 'minorities', 'minority', 'minors', 'minute', 'minutes', 'miracle', 'miracles', 'mirage', 'mired', 'mirrors', 'misbehavior', 'miscategorization', 'misclassification', 'misclassified', 'misclassify', 'misclassifying', 'misconduct', 'miscounting', 'misdemeanor', 'misguided', 'mishandling', 'misinformation', 'mislead', 'misleading', 'misleads', 'mismanaged', 'mismanagement', 'misreporting', 'misrepresent', 'miss', 'missed', 'misses', 'missing', 'mission', 'missions', 'mississippi', 'missouri', 'mistake', 'mistakes', 'mistreat', 'mistreated', 'mistreatment', 'misuse', 'mit', 'mitch', 'mitigate', 'mitigates', 'mitigating', 'mitigation', 'mix', 'mixed', 'mn', 'mobil', 'mobile', 'mobility', 'mobilization', 'mobilize', 'mobilized', 'mobilizing', 'mobley', 'mode', 'model', 'modeled', 'modeling', 'models', 'moderate', 'moderately', 'modern', 'modernization', 'modernize', 'modernizes', 'modernizing', 'modest', 'modestly', 'modification', 'modifications', 'modifies', 'modify', 'modifying', 'modular', 'mold', 'mom', 'moment', 'moms', 'momsrising', 'monetary', 'money', 'monitor', 'monitored', 'monitoring', 'monitors', 'monopolies', 'monopolistic', 'monopolization', 'monopolize', 'monopoly', 'monopsony', 'monsanto', 'monstrous', 'montana', 'montes', 'montgomery', 'month', 'monthly', 'months', 'monument', 'monumental', 'monuments', 'moody', 'moon', 'moral', 'morale', 'morally', 'moratorium', 'morbidity', 'morgan', 'morning', 'morris', 'mortality', 'mortgage', 'mortgaged', 'mortgages', 'mosques', 'mosquitos', 'mother', 'mothers', 'motion', 'motions', 'motivated', 'motivation', 'motivations', 'motive', 'motor', 'motors', 'motto', 'mountain', 'mountains', 'mountaintop', 'mounting', 'mouth', 'moved', 'movement', 'movements', 'moves', 'moving', 'mr', 'msi', 'msis', 'mst', 'mueller', 'multi', 'multiemployer', 'multifaceted', 'multifamily', 'multilateral', 'multilateralism', 'multinational', 'multinationals', 'multiple', 'multiplied', 'multiply', 'mulvaney', 'municipal', 'municipalities', 'municipality', 'municipally', 'mup', 'murdered', 'murders', 'murphy', 'murray', 'muscle', 'muscles', 'muscular', 'musculoskeletal', 'mushrooming', 'music', 'musicians', 'muslim', 'mussels', 'mutual', 'mylan', 'myriad', 'mystery', 'mythical', 'naacp', 'nafta', 'nahasda', 'nail', 'naloxone', 'named', 'names', 'naming', 'narcan', 'narratives', 'narrow', 'narrowing', 'narrowly', 'nasa', 'nasal', 'nascent', 'nation', 'national', 'nationalism', 'nationalist', 'nationalists', 'nationality', 'nationalizing', 'nationally', 'nationals', 'nations', 'nationwide', 'native', 'natives', 'natural', 'naturalization', 'naturalize', 'naturally', 'nature', 'navajo', 'navigate', 'navigation', 'navigators', 'nazi', 'nazis', 'nbc', 'ncd', 'ncsl', 'ne', 'nea', 'near', 'nearby', 'nearest', 'nearing', 'nearly', 'necessarily', 'necessary', 'necessities', 'necessity', 'need', 'needed', 'needing', 'needle', 'needless', 'needlessly', 'needs', 'needy', 'negative', 'negatively', 'neglect', 'neglected', 'neglecting', 'negligence', 'negligently', 'negotiables', 'negotiate', 'negotiated', 'negotiating', 'negotiation', 'negotiations', 'negotiator', 'negotiators', 'neighbor', 'neighborhood', 'neighborhoods', 'neighboring', 'neighbors', 'neo', 'nepa', 'nest', 'net', 'netherlands', 'network', 'networking', 'networks', 'neurodevelopmental', 'neutral', 'neutrality', 'neutralize', 'neutrally', 'nevada', 'new', 'newark', 'newborn', 'newcomers', 'newer', 'newly', 'news', 'newspaper', 'newspaperman', 'newspapers', 'newsroom', 'ngo', 'ngos', 'nho', 'nhsc', 'nicholson', 'nickel', 'nicknamed', 'nicole', 'nidilrr', 'night', 'nights', 'nih', 'niit', 'nile', 'ninety', 'ninth', 'nist', 'nixon', 'nlra', 'nlrb', 'nls', 'noaa', 'nobel', 'noise', 'nominally', 'nominate', 'nominated', 'nominating', 'nomination', 'nominations', 'nominee', 'nominees', 'non', 'noncompete', 'nondiscrimination', 'nondiscriminatory', 'nonetheless', 'nonexistent', 'nonfiler', 'nonpartisan', 'nonpoint', 'nonprofit', 'nonprofits', 'nonsense', 'nonwhite', 'nordisk', 'norm', 'normal', 'normally', 'north', 'northeastern', 'northern', 'northrop', 'northwest', 'note', 'noted', 'notice', 'notices', 'notification', 'notify', 'notions', 'notorious', 'novartis', 'novel', 'november', 'novo', 'nra', 'nuanced', 'nuclear', 'nuisance', 'number', 'numbers', 'numerous', 'nurse', 'nurses', 'nursing', 'nurture', 'nurtured', 'nurturing', 'nutrition', 'nutritional', 'nutritious', 'oaa', 'oak', 'oascr', 'oath', 'obama', 'obesity', 'object', 'objective', 'objectively', 'objectives', 'objectivity', 'obligated', 'obligates', 'obligation', 'obligations', 'obliged', 'obscene', 'obscure', 'obscured', 'observers', 'observing', 'obsessive', 'obstacle', 'obstacles', 'obstetrician', 'obstruct', 'obstruction', 'obtain', 'obtained', 'obtaining', 'obvious', 'obviously', 'ocasio', 'occidental', 'occupational', 'occupations', 'occupied', 'occupy', 'occur', 'occured', 'occurred', 'occurring', 'occurs', 'ocean', 'oceanic', 'oceans', 'oco', 'ocr', 'oct', 'october', 'odds', 'odep', 'oecd', 'ofccp', 'offenders', 'offending', 'offense', 'offenses', 'offensive', 'offer', 'offered', 'offering', 'offerings', 'offers', 'office', 'officeholders', 'officer', 'officers', 'offices', 'official', 'officially', 'officials', 'offload', 'offloading', 'offs', 'offset', 'offshore', 'offshoring', 'ogallala', 'ogc', 'ohio', 'oil', 'oklahoma', 'olc', 'old', 'older', 'oldest', 'olds', 'oligarchs', 'oliphant', 'olmstead', 'omaha', 'omar', 'ombudsman', 'ominously', 'onerous', 'ones', 'ongoing', 'online', 'onshore', 'onslaught', 'opaque', 'open', 'opened', 'opening', 'openly', 'opens', 'opensecrets', 'operate', 'operated', 'operates', 'operating', 'operation', 'operations', 'operative', 'operatives', 'operator', 'operators', 'opic', 'opinion', 'opinions', 'opioid', 'opioids', 'opm', 'opponents', 'opportunities', 'opportunity', 'oppose', 'opposed', 'opposes', 'opposing', 'opposite', 'opposition', 'oppression', 'oppressive', 'ops', 'opt', 'optimism', 'optimistic', 'optimize', 'option', 'optional', 'options', 'oral', 'orange', 'orbit', 'order', 'ordered', 'orders', 'ordinances', 'ordinary', 'ore', 'oregon', 'org', 'organ', 'organic', 'organization', 'organizations', 'organize', 'organized', 'organizing', 'orientation', 'orientations', 'oriented', 'origin', 'original', 'originally', 'origins', 'orleans', 'oroville', 'orphan', 'oscar', 'otmr', 'ought', 'ounce', 'ousted', 'outageously', 'outbreak', 'outbreaks', 'outcome', 'outcomes', 'outdated', 'outdoor', 'outdoors', 'outer', 'outgoing', 'outlaw', 'outlaws', 'outlets', 'outliers', 'outlined', 'outlines', 'outlining', 'outlive', 'outpatient', 'output', 'outrage', 'outraged', 'outrageous', 'outrageously', 'outreach', 'outright', 'outs', 'outside', 'outsized', 'outsource', 'outsourced', 'outsourcing', 'outstanding', 'oval', 'overall', 'overblown', 'overcome', 'overcrowded', 'overcrowding', 'overdose', 'overdoses', 'overdraft', 'overdue', 'overfished', 'overfishing', 'overhang', 'overhaul', 'overhauling', 'overhauls', 'overlapping', 'overlooked', 'overly', 'overnight', 'overpaid', 'overpayment', 'overpayments', 'overpays', 'overpriced', 'overproduced', 'overproduction', 'overrepresented', 'overriding', 'overrule', 'overseas', 'oversee', 'overseeing', 'overseen', 'oversees', 'oversight', 'overstated', 'overstressed', 'overtime', 'overtly', 'overturn', 'overturned', 'overturning', 'overturns', 'overuse', 'overwhelm', 'overwhelming', 'overwhelmingly', 'overwhelms', 'owe', 'owed', 'owens', 'owes', 'owned', 'owner', 'owners', 'ownership', 'owning', 'owns', 'oxygen', 'oyster', 'pace', 'pacer', 'pacific', 'package', 'packaged', 'packages', 'packaging', 'packed', 'packers', 'packing', 'pacs', 'pacts', 'pad', 'padlock', 'pads', 'page', 'pages', 'paid', 'pain', 'painful', 'painfully', 'painstaking', 'paint', 'painted', 'pair', 'pakistan', 'palm', 'palsy', 'panama', 'panamanian', 'pandemic', 'pandemics', 'panel', 'paneled', 'panels', 'pantries', 'paper', 'papering', 'papers', 'paperwork', 'par', 'parachute', 'parachutes', 'parade', 'paradise', 'paraeducators', 'parallel', 'paramedicine', 'paramedics', 'paraprofessionals', 'pardon', 'pardons', 'parent', 'parental', 'parenthood', 'parenting', 'parents', 'pares', 'paris', 'parity', 'park', 'parked', 'parkinson', 'parkland', 'parks', 'parlay', 'parole', 'partially', 'participant', 'participants', 'participate', 'participated', 'participates', 'participating', 'participation', 'participatory', 'particular', 'particularly', 'particulate', 'parties', 'partisan', 'partition', 'partner', 'partnered', 'partnering', 'partners', 'partnership', 'partnerships', 'parts', 'party', 'pase', 'paso', 'pass', 'passage', 'passed', 'passenger', 'passing', 'passionate', 'passthrough', 'past', 'pasture', 'patagonia', 'patchwork', 'patent', 'patented', 'patents', 'path', 'pathetic', 'pathogens', 'paths', 'pathway', 'pathways', 'patient', 'patients', 'patrick', 'patriotic', 'patriotism', 'patronizing', 'patrons', 'pattern', 'patterns', 'patty', 'paul', 'paused', 'pave', 'paved', 'pavement', 'paving', 'pavr', 'pay', 'payback', 'paycheck', 'paychecks', 'payday', 'payer', 'payers', 'paying', 'payment', 'payments', 'payoffs', 'payouts', 'payroll', 'pays', 'paywalls', 'pcori', 'peace', 'peaceful', 'peacetime', 'peak', 'peanuts', 'pearson', 'peco', 'peddlers', 'peddling', 'pedestrian', 'pediatric', 'pediatricians', 'pediatrics', 'peer', 'peers', 'pekingese', 'pell', 'pen', 'penalize', 'penalized', 'penalizing', 'penalties', 'penalty', 'pence', 'pending', 'pennies', 'pennsylvania', 'penny', 'pens', 'pension', 'pensions', 'pentagon', 'people', 'peoples', 'peppered', 'pepsi', 'perceived', 'percent', 'percentage', 'percentages', 'perfect', 'perfectly', 'perform', 'performance', 'performed', 'performing', 'period', 'periodic', 'periodically', 'periods', 'perjury', 'perk', 'permanent', 'permanently', 'permissible', 'permission', 'permissive', 'permit', 'permits', 'permitted', 'permitting', 'pernicious', 'perpetrated', 'perpetrator', 'perpetrators', 'perpetual', 'perpetuate', 'perpetuates', 'perpetuating', 'perpetuity', 'persecute', 'persecuted', 'persist', 'persisted', 'persistent', 'persistently', 'persists', 'person', 'personal', 'personally', 'personnel', 'persons', 'perspective', 'perspectives', 'persuader', 'pervade', 'pervasive', 'perverse', 'perverting', 'pesticide', 'pesticides', 'pete', 'petition', 'petitioning', 'petitions', 'petrochemical', 'petroleum', 'pfas', 'pfizer', 'pharma', 'pharmaceutical', 'pharmaceuticals', 'pharmacies', 'pharmacists', 'pharmacy', 'phase', 'phased', 'phases', 'phasing', 'phd', 'phemce', 'phep', 'philadelphia', 'philip', 'philosophy', 'phone', 'phones', 'photocopier', 'photocopying', 'phrase', 'phrases', 'phrma', 'physical', 'physically', 'physician', 'physicians', 'pick', 'picked', 'picking', 'picture', 'piece', 'pieces', 'pigford', 'pile', 'piled', 'piles', 'pill', 'pillage', 'pillaging', 'pillar', 'pillars', 'pills', 'pilot', 'piloting', 'pilots', 'pine', 'pioneering', 'pipefitters', 'pipeline', 'pipelines', 'pipes', 'pit', 'pitch', 'pits', 'pittsburgh', 'place', 'placed', 'placement', 'placements', 'places', 'placing', 'plague', 'plagued', 'plagues', 'plaguing', 'plain', 'plainly', 'plains', 'plaintiffs', 'plan', 'plane', 'planes', 'planet', 'plank', 'planned', 'planning', 'plans', 'plant', 'plantation', 'planted', 'planting', 'plants', 'plastered', 'plastic', 'plastics', 'plates', 'platform', 'platforms', 'platitudes', 'play', 'playbook', 'played', 'players', 'playing', 'plays', 'plea', 'plead', 'pleading', 'pledge', 'pledged', 'pledges', 'plenary', 'plenty', 'plowed', 'plucking', 'plugging', 'plugs', 'plummeted', 'plunge', 'plus', 'plyler', 'pma', 'pmas', 'poach', 'pocket', 'pocketbooks', 'pocketed', 'pocketing', 'pockets', 'podiatry', 'point', 'pointed', 'points', 'poison', 'poisoned', 'poisoning', 'poisons', 'poland', 'poles', 'police', 'policies', 'policing', 'policy', 'policymakers', 'policymaking', 'polio', 'politburo', 'political', 'politician', 'politicians', 'politicize', 'politics', 'poll', 'polling', 'polls', 'pollutants', 'pollute', 'polluted', 'polluter', 'polluters', 'polluting', 'pollution', 'polyfluoroalkyl', 'poor', 'poorer', 'poorest', 'poorly', 'pop', 'popping', 'popular', 'popularity', 'popularized', 'populated', 'population', 'populations', 'populists', 'pork', 'pornographers', 'pornography', 'port', 'portability', 'portable', 'portal', 'portfolio', 'portion', 'portions', 'ports', 'pose', 'posed', 'poses', 'position', 'positioned', 'positions', 'positive', 'possess', 'possesses', 'possessing', 'possession', 'possibility', 'possible', 'possibly', 'post', 'postal', 'poster', 'postfix', 'posting', 'postmaster', 'postpartum', 'posts', 'postsecondary', 'potent', 'potential', 'potentially', 'pothole', 'poultry', 'pound', 'pounds', 'pour', 'poured', 'pouring', 'poverty', 'power', 'powered', 'powerful', 'powering', 'powerless', 'powers', 'practicable', 'practically', 'practice', 'practices', 'practitioner', 'practitioners', 'prairie', 'praise', 'praised', 'pramila', 'pray', 'pre', 'precarious', 'precaution', 'precedent', 'precipitously', 'precision', 'preclearance', 'precondition', 'preconditions', 'predators', 'predatory', 'predicated', 'predict', 'predictability', 'predictable', 'predictor', 'predicts', 'predominantly', 'preempt', 'preemption', 'preempts', 'prefer', 'preference', 'preferences', 'preferential', 'preferred', 'prefix', 'pregnancies', 'pregnancy', 'pregnant', 'prejudice', 'premise', 'premium', 'premiums', 'prenatal', 'prep', 'prepaid', 'preparation', 'preparatory', 'prepare', 'prepared', 'preparedness', 'prepares', 'preparing', 'preschool', 'preschoolers', 'preschools', 'prescribed', 'prescribing', 'prescription', 'prescriptions', 'presence', 'present', 'presented', 'presents', 'preservation', 'preserve', 'preserves', 'preserving', 'presided', 'presidency', 'president', 'presidential', 'presidents', 'presiding', 'press', 'pressing', 'pressure', 'pressured', 'pressures', 'pressuring', 'presumed', 'presumption', 'pretended', 'pretrial', 'pretty', 'prevailing', 'prevalence', 'prevalent', 'prevent', 'preventable', 'preventative', 'prevented', 'preventing', 'prevention', 'preventive', 'prevents', 'previous', 'previously', 'prey', 'preyed', 'price', 'priced', 'prices', 'pricing', 'pride', 'primarily', 'primary', 'prime', 'primed', 'principal', 'principally', 'principals', 'principle', 'principles', 'print', 'printing', 'prior', 'priorities', 'prioritize', 'prioritized', 'prioritizes', 'prioritizing', 'priority', 'prison', 'prisoner', 'prisoners', 'prisons', 'pristine', 'privacy', 'private', 'privately', 'privatization', 'privatize', 'privatizing', 'privilege', 'privileged', 'privileges', 'prize', 'pro', 'proactive', 'proactively', 'probable', 'probably', 'probation', 'problem', 'problematic', 'problems', 'procedural', 'procedure', 'procedures', 'proceed', 'proceeding', 'proceedings', 'proceeds', 'process', 'processed', 'processes', 'processing', 'processors', 'procure', 'procured', 'procurement', 'procures', 'produce', 'produced', 'producer', 'producers', 'produces', 'producing', 'product', 'production', 'productive', 'productivity', 'products', 'profession', 'professional', 'professionals', 'professor', 'professors', 'proficiency', 'profile', 'profiling', 'profit', 'profitability', 'profitable', 'profitably', 'profited', 'profiteer', 'profiteering', 'profiteers', 'profiting', 'profits', 'program', 'programmatic', 'programme', 'programming', 'programs', 'progress', 'progressive', 'progressively', 'prohibit', 'prohibited', 'prohibiting', 'prohibition', 'prohibitions', 'prohibits', 'project', 'projected', 'projections', 'projects', 'proliferation', 'prolonged', 'prominently', 'promise', 'promised', 'promises', 'promising', 'promote', 'promoted', 'promotes', 'promoting', 'promotion', 'promotions', 'prompt', 'prompted', 'prompting', 'promptly', 'promulgated', 'prone', 'pronounced', 'proof', 'propaganda', 'propane', 'proper', 'properly', 'properties', 'property', 'prophylaxis', 'proponent', 'proportion', 'proportions', 'proposal', 'proposals', 'propose', 'proposed', 'proposes', 'proposing', 'proposition', 'proprietary', 'propublica', 'prosecute', 'prosecuted', 'prosecuting', 'prosecution', 'prosecutions', 'prosecutor', 'prosecutorial', 'prosecutors', 'prositution', 'prospect', 'prospective', 'prosperity', 'protect', 'protected', 'protecting', 'protection', 'protections', 'protective', 'protects', 'protein', 'protest', 'protested', 'protesters', 'protestors', 'protests', 'protocols', 'proud', 'prove', 'proved', 'proven', 'provide', 'provided', 'provider', 'providers', 'provides', 'providing', 'proving', 'provision', 'provisioning', 'provisions', 'proviso', 'provoke', 'prowl', 'proximity', 'pseudoscience', 'psoriasis', 'psychiatrist', 'psychological', 'psychologist', 'psychologists', 'ptsd', 'public', 'publication', 'publications', 'publicized', 'publicly', 'publish', 'published', 'publishers', 'publishing', 'puerto', 'pulitzer', 'pull', 'pulled', 'pulmonary', 'pumped', 'pumps', 'punish', 'punishable', 'punishes', 'punishing', 'punishment', 'punishments', 'punitive', 'pupil', 'purchase', 'purchased', 'purchaser', 'purchasers', 'purchases', 'purchasing', 'purely', 'purging', 'purpose', 'purposefully', 'purposes', 'pursuant', 'pursue', 'pursued', 'pursuing', 'pursuit', 'purview', 'push', 'pushed', 'pushes', 'pushing', 'pushout', 'putin', 'puts', 'putting', 'quadruple', 'quadrupling', 'qualcomm', 'qualifications', 'qualified', 'qualifies', 'qualify', 'qualifying', 'quality', 'quarantine', 'quarter', 'quarterly', 'quarters', 'question', 'questionnaires', 'questions', 'queues', 'quick', 'quicker', 'quickly', 'quid', 'quietly', 'quinault', 'quintuple', 'quintupled', 'quintupling', 'quit', 'quite', 'quo', 'r2', 'r2d2', 'race', 'races', 'rachel', 'racial', 'racialized', 'racially', 'racism', 'racist', 'racists', 'radiation', 'radical', 'radically', 'radio', 'radiological', 'raft', 'raged', 'ragged', 'raids', 'rail', 'railed', 'railroad', 'railroads', 'railways', 'rain', 'rainforest', 'raise', 'raised', 'raises', 'raising', 'rake', 'raked', 'raking', 'rallied', 'rally', 'ram', 'rammed', 'ramp', 'rampant', 'ramped', 'ramping', 'ran', 'ranch', 'rancher', 'ranchers', 'ranches', 'randolph', 'random', 'rang', 'range', 'rangers', 'ranging', 'rank', 'ranked', 'ranking', 'ranks', 'rape', 'rapid', 'rapidly', 'rare', 'rarely', 'rate', 'rates', 'ratica', 'ratification', 'ratify', 'rating', 'ratings', 'ratio', 'ration', 'rationing', 'ratios', 'ravaged', 'raw', 'raytheon', 'razor', 'raúl', 'reaadi', 'reach', 'reached', 'reaches', 'reaching', 'reactionary', 'reactions', 'read', 'readers', 'readi', 'readiness', 'reading', 'readjusting', 'ready', 'reagan', 'real', 'realign', 'realignment', 'realistic', 'realities', 'reality', 'realize', 'reallocate', 'really', 'realtors', 'reap', 'reaping', 'reason', 'reasonable', 'reasonably', 'reasons', 'reassert', 'reasserting', 'reassess', 'reassessment', 'reauthorization', 'reauthorize', 'reauthorizes', 'reauthorizing', 'rebalance', 'rebate', 'rebates', 'rebecca', 'rebuild', 'rebuilding', 'rebuilds', 'rebuilt', 'receipt', 'receive', 'received', 'receives', 'receiving', 'recent', 'recentering', 'recently', 'recession', 'recharge', 'recidivism', 'recipe', 'recipient', 'recipients', 'reckless', 'reclaim', 'reclamation', 'reclassify', 'recognition', 'recognizance', 'recognize', 'recognized', 'recognizes', 'recognizing', 'recommend', 'recommendation', 'recommendations', 'recommended', 'recommends', 'recommit', 'recommitting', 'reconcile', 'reconciliation', 'reconsider', 'reconstruction', 'record', 'recorder', 'records', 'recoup', 'recourse', 'recover', 'recovered', 'recovering', 'recovery', 'recreation', 'recreational', 'recruit', 'recruited', 'recruiter', 'recruiting', 'recruitment', 'recurring', 'recusal', 'recuse', 'recusing', 'recycled', 'recycling', 'red', 'redfored', 'redirect', 'redirected', 'redirecting', 'redistribute', 'redistributing', 'redlined', 'redlining', 'redress', 'redressing', 'reduce', 'reduced', 'reduces', 'reducing', 'reduction', 'reductions', 'reefs', 'reek', 'reengineer', 'reengineering', 'reentry', 'reestablish', 'reestablished', 'reestablishing', 'refer', 'reference', 'references', 'referrals', 'referred', 'referring', 'refill', 'refinance', 'refinancing', 'refineries', 'refinery', 'refining', 'reflect', 'reflected', 'reflecting', 'reflection', 'reflects', 'refocus', 'reforestation', 'reforested', 'reform', 'reformers', 'reforming', 'reforms', 'refrigerate', 'refrigerated', 'refuge', 'refugee', 'refugees', 'refuges', 'refundable', 'refunds', 'refurbish', 'refurbishing', 'refusal', 'refuse', 'refused', 'refuses', 'refusing', 'regain', 'regard', 'regarding', 'regardless', 'regenerative', 'regeneratively', 'regime', 'regimes', 'region', 'regional', 'regionalization', 'regionally', 'regions', 'register', 'registered', 'registering', 'registration', 'registries', 'registry', 'regressive', 'regular', 'regularly', 'regulate', 'regulated', 'regulating', 'regulation', 'regulations', 'regulators', 'regulatory', 'rehab', 'rehabiliation', 'rehabilitate', 'rehabilitated', 'rehabilitating', 'rehabilitation', 'rehabilitative', 'reid', 'reign', 'reimagined', 'reimbursable', 'reimburse', 'reimbursed', 'reimbursement', 'reimbursements', 'reimburses', 'reimbursing', 'reimplement', 'rein', 'reincarceration', 'reinforce', 'reinforced', 'reinforces', 'reinforcing', 'reining', 'reinstate', 'reinstated', 'reinstatement', 'reinstates', 'reinstating', 'reinstitute', 'reinstituting', 'reinsurance', 'reintegrate', 'reintegration', 'reinterpret', 'reinventing', 'reinvest', 'reinvested', 'reinvesting', 'reinvestment', 'reinvigorate', 'reissue', 'reject', 'rejected', 'rejecting', 'rejection', 'rejoin', 'rejoining', 'rekia', 'relate', 'related', 'relating', 'relations', 'relationship', 'relationships', 'relative', 'relatively', 'relatives', 'relax', 'release', 'released', 'releases', 'releasing', 'relending', 'relentless', 'relevant', 'reliability', 'reliable', 'reliably', 'reliance', 'reliant', 'relied', 'relief', 'relies', 'relieve', 'relieves', 'relieving', 'religion', 'religions', 'religious', 'relocate', 'relocating', 'relocation', 'relocations', 'reluctant', 'rely', 'relying', 'remain', 'remained', 'remaining', 'remains', 'remake', 'remark', 'remedial', 'remediate', 'remediated', 'remediating', 'remediation', 'remedies', 'remedy', 'remedying', 'remember', 'remind', 'reminder', 'remittances', 'remote', 'removal', 'remove', 'removed', 'removes', 'removing', 'remunerate', 'renaissance', 'rendered', 'rendering', 'renegotiate', 'renegotiated', 'renegotiating', 'renew', 'renewable', 'renewables', 'renewal', 'renewals', 'renewed', 'renewing', 'renounces', 'renouncing', 'renovate', 'renovated', 'renovation', 'renovations', 'rent', 'rental', 'rentals', 'renters', 'renting', 'rents', 'reopen', 'reopening', 'reorganize', 'reorganizing', 'reorient', 'reorienting', 'rep', 'repaid', 'repair', 'repaired', 'repairing', 'repairs', 'repatriate', 'repay', 'repaying', 'repayment', 'repayments', 'repeal', 'repealed', 'repealing', 'repeals', 'repeat', 'repeated', 'repeatedly', 'replace', 'replaced', 'replacement', 'replacements', 'replaces', 'replacing', 'replenish', 'replicate', 'replicating', 'report', 'reported', 'reportedly', 'reporters', 'reporting', 'reports', 'repository', 'repower', 'repowering', 'represent', 'representation', 'representative', 'representatives', 'represented', 'representing', 'represents', 'repress', 'repression', 'repressive', 'reproach', 'reproductive', 'republic', 'republican', 'republicans', 'repurposing', 'request', 'requests', 'require', 'required', 'requirement', 'requirements', 'requires', 'requiring', 'rescind', 'rescinded', 'rescinding', 'research', 'researchers', 'researching', 'resemble', 'reservation', 'reservations', 'reserve', 'reserved', 'reserves', 'reservoir', 'resettle', 'resettling', 'reshape', 'reshaped', 'reside', 'residence', 'residences', 'residencies', 'residency', 'resident', 'residential', 'residents', 'resign', 'resignations', 'resigned', 'resigning', 'resigns', 'resilience', 'resiliency', 'resilient', 'resist', 'resistance', 'resistant', 'resisted', 'resolution', 'resolve', 'resolved', 'resolving', 'resort', 'resource', 'resourced', 'resourceful', 'resources', 'respect', 'respected', 'respecting', 'respectively', 'respects', 'respiratory', 'respite', 'respond', 'responded', 'respondents', 'responder', 'responders', 'responding', 'response', 'responses', 'responsibilities', 'responsibility', 'responsible', 'responsibly', 'responsive', 'rest', 'restart', 'restarting', 'restaurant', 'rested', 'restoration', 'restorative', 'restore', 'restored', 'restores', 'restoring', 'restrained', 'restraint', 'restrict', 'restricted', 'restricting', 'restriction', 'restrictions', 'restrictive', 'restricts', 'restructure', 'restructured', 'restructures', 'restructuring', 'result', 'resulted', 'resulting', 'results', 'resume', 'retail', 'retailer', 'retain', 'retained', 'retaining', 'retaliation', 'retaliatory', 'retention', 'rethink', 'rethinking', 'retire', 'retired', 'retiree', 'retirees', 'retirement', 'retirements', 'retiring', 'retraining', 'retreat', 'retreats', 'retrieve', 'retroactive', 'retroactively', 'retrofit', 'retrofits', 'retrofitting', 'retrospective', 'rett', 'return', 'returned', 'returning', 'returns', 'reunification', 'reunify', 'reunite', 'reuniting', 'revealed', 'revealing', 'revenue', 'revenues', 'reverse', 'reversed', 'reverses', 'reversing', 'review', 'reviewed', 'reviewers', 'reviewing', 'reviews', 'revise', 'revised', 'revises', 'revitalization', 'revitalize', 'revitalizing', 'revive', 'reviving', 'revocable', 'revoke', 'revoked', 'revolutionary', 'revolutionize', 'revolutionizing', 'revolving', 'reward', 'rewarded', 'rewarding', 'rewards', 'rewrite', 'rewriting', 'rfra', 'rfs', 'rhetoric', 'rhode', 'ribbon', 'rican', 'ricans', 'rice', 'rich', 'richer', 'richest', 'rico', 'rid', 'ride', 'riders', 'ridership', 'ridge', 'ridiculous', 'riding', 'rifle', 'rifles', 'rig', 'rigged', 'rigging', 'right', 'rightfully', 'righting', 'rightly', 'rights', 'rigorous', 'rigorously', 'ringing', 'rings', 'rip', 'ripe', 'ripest', 'ripped', 'ripping', 'ripple', 'rise', 'risen', 'rises', 'rising', 'risk', 'risked', 'riskier', 'risking', 'risks', 'risky', 'rival', 'river', 'rivers', 'road', 'roadmap', 'roads', 'roamed', 'robbed', 'robert', 'roberts', 'robertson', 'robocalls', 'robs', 'robust', 'roche', 'rock', 'rocketing', 'rockier', 'rodale', 'rodríguez', 'roe', 'roger', 'roldán', 'role', 'roles', 'roll', 'rollback', 'rollbacks', 'rolled', 'roller', 'rolling', 'rolls', 'rolodex', 'ronald', 'roof', 'roofs', 'room', 'rooms', 'roosevelt', 'root', 'rooted', 'rooting', 'roots', 'rosa', 'rose', 'roughly', 'roughy', 'round', 'rounded', 'rounds', 'roundtable', 'roundtables', 'route', 'routes', 'routine', 'routinely', 'row', 'royalties', 'royalty', 'rubber', 'rug', 'ruin', 'ruined', 'ruining', 'rule', 'ruled', 'rulemaking', 'rulemakings', 'rules', 'ruling', 'rulings', 'run', 'runaway', 'runaways', 'running', 'runoff', 'runs', 'rural', 'russ', 'russia', 'russian', 'rust', 'ruthlessly', 'ryan', 'sabotage', 'sachs', 'sacred', 'sacrifice', 'sacrificed', 'sacrifices', 'sacrificesafety', 'sacrificing', 'sad', 'saddled', 'saddles', 'sadly', 'saez', 'safe', 'safeguard', 'safeguarding', 'safeguards', 'safely', 'safer', 'safety', 'said', 'sailors', 'sake', 'salaried', 'salaries', 'salary', 'salazar', 'sale', 'sales', 'salt', 'salts', 'samoa', 'san', 'sanctioned', 'sanctioning', 'sanctions', 'sanders', 'sandoval', 'sandra', 'sandy', 'sanitation', 'sank', 'sanofi', 'sap', 'sars', 'sat', 'satisfaction', 'satisfy', 'saudi', 'saundra', 'savage', 'save', 'saved', 'savers', 'saves', 'saving', 'savings', 'saw', 'say', 'saying', 'says', 'sba', 'sbir', 'sbttr', 'scale', 'scaled', 'scales', 'scalia', 'scaling', 'scam', 'scammed', 'scammers', 'scams', 'scan', 'scandals', 'scapegoated', 'scare', 'scared', 'scarier', 'scattered', 'scenario', 'scenes', 'scenic', 'schedule', 'scheduled', 'schedules', 'scheduling', 'schemes', 'scholars', 'scholarship', 'scholarships', 'school', 'schools', 'science', 'sciences', 'scientific', 'scientists', 'scoop', 'scooped', 'scooping', 'scope', 'score', 'scorecard', 'scored', 'scores', 'scott', 'scourge', 'scrambled', 'scrambling', 'scrap', 'scraps', 'scratch', 'screen', 'screened', 'screening', 'screenings', 'scrutinize', 'scrutiny', 'scuttled', 'sea', 'seafood', 'seagrass', 'sealed', 'sealing', 'seaports', 'search', 'seas', 'seashore', 'season', 'seat', 'seated', 'seattle', 'seawalls', 'seawater', 'seaweed', 'sec', 'secluded', 'seclusion', 'second', 'secondary', 'seconds', 'secret', 'secretaries', 'secretary', 'secretive', 'section', 'sections', 'sector', 'sectoral', 'sectors', 'secure', 'secured', 'securely', 'secures', 'securing', 'securities', 'securitized', 'security', 'seed', 'seeded', 'seeds', 'seeing', 'seek', 'seekers', 'seeking', 'seeks', 'seemingly', 'seen', 'seeping', 'sees', 'segregate', 'segregated', 'segregates', 'segregation', 'segregationist', 'seismic', 'seize', 'seized', 'seizing', 'select', 'selected', 'selecting', 'selection', 'self', 'selfie', 'selfless', 'sell', 'sellers', 'selling', 'semester', 'semiautomatic', 'seminal', 'seminars', 'semitic', 'senate', 'senator', 'senators', 'send', 'sending', 'sends', 'senior', 'seniors', 'sense', 'sensible', 'sensitive', 'sent', 'sentence', 'sentenced', 'sentences', 'sentencing', 'sep', 'separate', 'separated', 'separately', 'separating', 'separation', 'september', 'septic', 'sequester', 'sequestered', 'sequestering', 'sequestration', 'serena', 'series', 'seriously', 'servant', 'servants', 'serve', 'served', 'server', 'serves', 'service', 'serviced', 'servicemember', 'servicemembers', 'servicer', 'servicers', 'services', 'servicing', 'serving', 'sessions', 'set', 'sets', 'setting', 'settings', 'settled', 'settlement', 'settlements', 'settlers', 'settles', 'settling', 'seven', 'seventeen', 'seventh', 'seventy', 'severance', 'severe', 'severely', 'severity', 'sewage', 'sewer', 'sewers', 'sex', 'sexism', 'sexual', 'sexualized', 'shadow', 'shadows', 'shadowy', 'shady', 'shaheen', 'shake', 'shaky', 'shall', 'shallow', 'sham', 'shame', 'shameful', 'shamefully', 'shamelessly', 'shaming', 'shanahan', 'shape', 'shapes', 'shaping', 'share', 'shared', 'shareholder', 'shareholders', 'shares', 'sharing', 'sharks', 'sharp', 'sharply', 'sheets', 'shelf', 'shell', 'shelled', 'shellfish', 'shelter', 'sheltered', 'sheltering', 'shelters', 'shepard', 'shepherded', 'sheriff', 'sherrod', 'shield', 'shielded', 'shielding', 'shift', 'shifted', 'shifting', 'shifts', 'shine', 'shined', 'shining', 'ship', 'shipbuilding', 'shipped', 'shippers', 'shipping', 'ships', 'shirking', 'shkreli', 'shock', 'shocking', 'shocks', 'shoes', 'shooter', 'shooting', 'shootings', 'shopko', 'shopping', 'shops', 'shore', 'shores', 'shoring', 'short', 'shortage', 'shortages', 'shortchanges', 'shortchanging', 'shortcomings', 'shorter', 'shortfall', 'shortfalls', 'shortly', 'shot', 'shots', 'shoulder', 'shoulders', 'shouldn', 'shoveled', 'shoving', 'showed', 'showered', 'showering', 'showing', 'shown', 'shows', 'shredding', 'shrink', 'shrinking', 'shrug', 'shrunk', 'shuffled', 'shut', 'shutdown', 'shutdowns', 'shutoffs', 'shuts', 'shutting', 'siblings', 'sick', 'sicker', 'sidelines', 'sides', 'sight', 'sign', 'signal', 'signaling', 'signed', 'significance', 'significant', 'significantly', 'signing', 'signs', 'signup', 'silent', 'silently', 'silver', 'similar', 'similarities', 'similarly', 'simon', 'simple', 'simpler', 'simplification', 'simplified', 'simplifies', 'simplify', 'simplifying', 'simply', 'simpson', 'simultaneous', 'simultaneously', 'singapore', 'single', 'singles', 'siphon', 'siphoning', 'sister', 'sit', 'site', 'sited', 'sites', 'siting', 'sits', 'sitting', 'situated', 'situation', 'situations', 'sixth', 'size', 'sized', 'sizes', 'skeptical', 'ski', 'skidding', 'skill', 'skilled', 'skills', 'skimp', 'skin', 'skip', 'skipped', 'skipping', 'skirted', 'sky', 'skyrocket', 'skyrocketed', 'skyrocketing', 'skyscraper', 'slam', 'slanted', 'slaps', 'slash', 'slashed', 'slashes', 'slashing', 'slate', 'slated', 'slaughter', 'slaughtered', 'slaughterhouse', 'slaughterhouses', 'slave', 'slavery', 'slaves', 'slay', 'sleek', 'sleep', 'sleeping', 'sleepless', 'sleeves', 'slew', 'slice', 'slide', 'sliding', 'slightest', 'slightly', 'slipped', 'slipping', 'slithers', 'sloan', 'slogans', 'slopes', 'slow', 'slowdown', 'slower', 'slowing', 'slowly', 'sluggish', 'slump', 'slumped', 'slush', 'small', 'smaller', 'smallest', 'smallpox', 'smart', 'smarter', 'smell', 'smith', 'smithfield', 'smoking', 'smooth', 'smother', 'sms', 'smuggling', 'snacks', 'snake', 'snap', 'snapped', 'sneaky', 'snow', 'sns', 'snuff', 'snuffed', 'soap', 'soar', 'soaring', 'soccer', 'sociability', 'social', 'socially', 'societal', 'societies', 'society', 'socioeconomic', 'sociological', 'sod', 'sodomy', 'sodsaver', 'soft', 'software', 'soil', 'soils', 'solar', 'sold', 'sole', 'solely', 'solemn', 'solicit', 'solicited', 'soliciting', 'solidly', 'solitary', 'solution', 'solutions', 'solve', 'solved', 'solvency', 'solvent', 'solves', 'solving', 'someday', 'somewhat', 'son', 'soon', 'soot', 'sort', 'sorts', 'sought', 'sound', 'sounded', 'sounding', 'soundly', 'soundness', 'sounds', 'soup', 'source', 'sources', 'sourcing', 'south', 'southeast', 'southern', 'southwest', 'sovereign', 'sovereigns', 'sovereignty', 'sows', 'soybean', 'space', 'spaces', 'spain', 'span', 'spanish', 'spared', 'spawned', 'speak', 'speakers', 'speaking', 'spearheaded', 'spearheading', 'special', 'specialist', 'specialists', 'specialize', 'specialized', 'specializing', 'specialties', 'specialty', 'species', 'specific', 'specifically', 'specified', 'specimens', 'spectacular', 'spectacularly', 'spectrum', 'speculating', 'speculation', 'speculative', 'speculators', 'speech', 'speeches', 'speed', 'speeds', 'spend', 'spending', 'spends', 'spendthrift', 'spent', 'spewed', 'spike', 'spiked', 'spikes', 'spill', 'spilled', 'spillover', 'spills', 'spillway', 'spin', 'spinal', 'spinning', 'spiral', 'spiraling', 'split', 'splitting', 'spoke', 'spoken', 'sponsor', 'sponsored', 'sponsors', 'sponsorship', 'sports', 'spot', 'spousal', 'spouse', 'spouses', 'spouting', 'sprawl', 'spray', 'spread', 'spreading', 'spreads', 'spring', 'springs', 'spun', 'spur', 'spurred', 'spurring', 'spurs', 'squash', 'squashing', 'squeeze', 'squeezed', 'squeezes', 'squeezing', 'srf', 'ssa', 'ssdi', 'ssi', 'st', 'stabenow', 'stability', 'stabilization', 'stabilize', 'stabilizing', 'stable', 'stacey', 'stack', 'stacking', 'stacks', 'staff', 'staffed', 'staffer', 'staffers', 'staffing', 'stafford', 'stage', 'stages', 'staggering', 'staggeringly', 'stagnant', 'stagnated', 'stagnation', 'stain', 'staircase', 'stake', 'stakeholder', 'stakeholders', 'stakes', 'stalkers', 'stalking', 'stall', 'stalled', 'stamp', 'stance', 'stand', 'standard', 'standardize', 'standardized', 'standards', 'standing', 'stands', 'stanley', 'star', 'staring', 'stark', 'start', 'started', 'starting', 'starts', 'startup', 'startups', 'starvation', 'starved', 'starving', 'stash', 'stashed', 'state', 'statement', 'statements', 'states', 'statewide', 'station', 'stationed', 'stations', 'statistic', 'statistics', 'status', 'statute', 'statutes', 'statutorily', 'statutory', 'stave', 'stay', 'stayed', 'staying', 'stays', 'steadily', 'steady', 'steagall', 'steal', 'stealing', 'stealth', 'steamroll', 'steel', 'steelworkers', 'steep', 'steeper', 'steer', 'steering', 'stem', 'stemming', 'stems', 'step', 'stephen', 'stepped', 'stepping', 'steps', 'steve', 'stevens', 'stevenson', 'steward', 'stewards', 'stewardship', 'sti', 'stick', 'stiff', 'stifle', 'stifled', 'stifles', 'stigma', 'stillwater', 'stimulate', 'stimulating', 'stimulus', 'sting', 'stings', 'stingy', 'stitches', 'stock', 'stockpile', 'stockpiles', 'stocks', 'stockyards', 'stoked', 'stole', 'stolen', 'stood', 'stop', 'stopped', 'stopping', 'stops', 'storage', 'storageshot', 'store', 'stored', 'stores', 'stories', 'storing', 'storm', 'storms', 'stormwater', 'story', 'straight', 'straighten', 'straightforward', 'strain', 'stranded', 'strangle', 'stranglehold', 'strapped', 'strategic', 'strategically', 'strategies', 'strategy', 'stratification', 'straw', 'strayed', 'stream', 'streamline', 'streamlined', 'streamlines', 'streamlining', 'streams', 'street', 'streets', 'strength', 'strengthen', 'strengthened', 'strengthening', 'strengthens', 'strengths', 'stress', 'stressed', 'stresses', 'stretch', 'stretched', 'strict', 'stricter', 'strictest', 'strictly', 'strides', 'strike', 'strikes', 'striking', 'stringent', 'strings', 'strip', 'stripped', 'stripping', 'stroke', 'strokes', 'strong', 'stronger', 'strongest', 'strongly', 'struck', 'structural', 'structurally', 'structure', 'structured', 'structures', 'structuring', 'struggle', 'struggled', 'struggles', 'struggling', 'stubs', 'stuck', 'student', 'students', 'studied', 'studies', 'study', 'studying', 'stuff', 'stumbling', 'stumpf', 'stunning', 'stupid', 'style', 'stymied', 'sub', 'subcommittee', 'subcontract', 'subcontractors', 'subdivisions', 'subject', 'subjected', 'subjecting', 'subjects', 'subminimum', 'submit', 'submitted', 'submitting', 'subnational', 'subordinates', 'subpoenas', 'subprime', 'subscribe', 'subsequent', 'subsidiaries', 'subsidiary', 'subsidies', 'subsidization', 'subsidize', 'subsidized', 'subsidizing', 'subsidy', 'substance', 'substances', 'substandard', 'substantial', 'substantially', 'substantiated', 'substantive', 'substantively', 'substations', 'substitute', 'substitutes', 'substitution', 'suburb', 'suburban', 'succeed', 'succeeding', 'succeeds', 'success', 'successes', 'successful', 'successfully', 'succumbs', 'suck', 'sucked', 'sucking', 'sudan', 'sue', 'sued', 'suffer', 'suffered', 'suffering', 'suffers', 'sufficiency', 'sufficient', 'sufficiently', 'suffocated', 'suffocates', 'suggest', 'suggested', 'suggesting', 'suggestions', 'suggests', 'suicide', 'suicides', 'suing', 'suit', 'suitcases', 'suite', 'suites', 'suits', 'sullivan', 'sum', 'summary', 'summer', 'summit', 'sums', 'sun', 'sunfolding', 'sunlight', 'sunset', 'sunshot', 'super', 'superfund', 'superior', 'superiority', 'superpower', 'superstorm', 'supervise', 'supervised', 'supervision', 'supervisor', 'supplant', 'supplement', 'supplemental', 'supplemented', 'supplier', 'suppliers', 'supplies', 'supply', 'support', 'supported', 'supporter', 'supporting', 'supportive', 'supports', 'supposed', 'suppress', 'suppressed', 'suppressing', 'suppression', 'supremacist', 'supremacists', 'supremacy', 'supreme', 'suquamish', 'sure', 'surely', 'surface', 'surfaced', 'surge', 'surged', 'surgeries', 'surgery', 'surges', 'surging', 'surpass', 'surplus', 'surpluses', 'surprise', 'surprised', 'surprising', 'surrender', 'surrendering', 'surrounded', 'surrounding', 'surtax', 'surveillance', 'survey', 'surveyed', 'surveys', 'survival', 'survive', 'survives', 'surviving', 'survivor', 'survivors', 'susan', 'suspected', 'suspend', 'suspended', 'suspension', 'suspensions', 'suspicious', 'sustain', 'sustainability', 'sustainable', 'sustainably', 'sustained', 'sustaining', 'swaps', 'swarm', 'swarmed', 'swaths', 'swear', 'sweat', 'sweatbox', 'sweden', 'swedish', 'sweep', 'sweeping', 'sweetheart', 'swift', 'swiftest', 'swiftly', 'swimming', 'switch', 'switzerland', 'swooped', 'sworn', 'symantec', 'synagogue', 'syndrome', 'syngenta', 'synthetic', 'syria', 'systematic', 'systematically', 'systemic', 'systems', 'tab', 'table', 'tables', 'tablet', 'tacitly', 'tackle', 'tackled', 'tackles', 'tackling', 'tactic', 'tactics', 'taft', 'tag', 'tags', 'tailor', 'tailored', 'tailoring', 'tainted', 'takeaway', 'taken', 'takes', 'taking', 'talent', 'talented', 'talk', 'talked', 'talking', 'talks', 'tamir', 'tamp', 'tanf', 'tanker', 'tanking', 'tanks', 'tap', 'tape', 'tapered', 'tapped', 'tapping', 'target', 'targeted', 'targeting', 'targets', 'tariff', 'tariffs', 'task', 'tasked', 'taskforce', 'tasking', 'tatum', 'taught', 'tax', 'taxation', 'taxed', 'taxes', 'taxing', 'taxpayer', 'taxpayers', 'teach', 'teacher', 'teachers', 'teaches', 'teaching', 'team', 'teamed', 'teams', 'teamsters', 'tearing', 'tears', 'tech', 'technical', 'technically', 'technician', 'technicians', 'techniques', 'technological', 'technologically', 'technologies', 'technology', 'ted', 'teddy', 'teen', 'teenagers', 'teetering', 'tele', 'telecom', 'telecommunications', 'telehealth', 'telemedicine', 'telephone', 'television', 'tell', 'telling', 'tells', 'temperatures', 'temporarily', 'temporary', 'tenant', 'tenants', 'tend', 'tends', 'tenfold', 'tennessee', 'tens', 'tension', 'tenth', 'tents', 'tenuous', 'tenure', 'tepid', 'term', 'terminate', 'terminating', 'termination', 'terms', 'terrible', 'terribly', 'terrific', 'terrifying', 'territories', 'territory', 'terror', 'terrorism', 'terrorist', 'terrorists', 'terrorize', 'terrorized', 'tesla', 'tessum', 'test', 'tested', 'testers', 'testified', 'testimony', 'testing', 'tests', 'teva', 'texas', 'text', 'texts', 'thank', 'thanks', 'theft', 'theodore', 'theories', 'theory', 'therapeutic', 'therapies', 'therapists', 'therapy', 'theresa', 'thicket', 'thing', 'things', 'think', 'thinking', 'thinks', 'thinner', 'thirds', 'thirteen', 'thirty', 'thomas', 'thorough', 'thoroughly', 'thought', 'thoughtful', 'thousand', 'thousands', 'threat', 'threaten', 'threatened', 'threatening', 'threatens', 'threats', 'threshold', 'thresholds', 'thrift', 'thrifty', 'thrive', 'thrives', 'thriving', 'throttling', 'throw', 'throwing', 'thrown', 'thurgood', 'thursday', 'ticket', 'ticketing', 'tide', 'tie', 'tied', 'tiered', 'ties', 'tiger', 'tight', 'tighten', 'tightening', 'tightens', 'tighter', 'tilt', 'tilted', 'tilts', 'tim', 'time', 'timely', 'times', 'timing', 'timothy', 'tip', 'tipped', 'tipping', 'tirado', 'tired', 'tireless', 'tirelessly', 'title', 'titled', 'titles', 'tiwahe', 'tobacco', 'today', 'todd', 'toddlers', 'toiling', 'toils', 'told', 'tolerance', 'tolerate', 'tolerated', 'toll', 'tom', 'tomorrow', 'ton', 'tonight', 'tons', 'tony', 'took', 'tool', 'toolbox', 'toolkit', 'tools', 'tooth', 'toothbrushes', 'toothless', 'toothpaste', 'topics', 'topped', 'topsoil', 'torn', 'torpedo', 'torrent', 'torture', 'total', 'totaling', 'totally', 'touch', 'touched', 'tough', 'toughen', 'tougher', 'toughest', 'tourism', 'touted', 'towers', 'town', 'towns', 'toxic', 'toxins', 'toys', 'trace', 'traceable', 'traced', 'tracing', 'track', 'tracked', 'tracking', 'tracks', 'tractor', 'tractors', 'trade', 'traded', 'traders', 'trades', 'trading', 'tradition', 'traditional', 'traditionally', 'traffic', 'trafficked', 'traffickers', 'trafficking', 'tragedy', 'tragic', 'tragically', 'trail', 'trailblazing', 'trailer', 'trails', 'train', 'trained', 'training', 'trainings', 'trains', 'trample', 'trampled', 'trans', 'transact', 'transaction', 'transactions', 'transfer', 'transferable', 'transferred', 'transfers', 'transform', 'transformation', 'transformational', 'transformative', 'transformed', 'transforming', 'transgender', 'transit', 'transition', 'transitional', 'transitioned', 'transitioning', 'transitions', 'translated', 'translating', 'translation', 'transmission', 'transmit', 'transnational', 'transparency', 'transparent', 'transparently', 'transplant', 'transplants', 'transport', 'transportation', 'transported', 'trap', 'trapped', 'trapping', 'traps', 'trash', 'trauma', 'traumatized', 'travel', 'traveled', 'travelers', 'traveling', 'treading', 'treasure', 'treasures', 'treasury', 'treat', 'treated', 'treaties', 'treating', 'treatment', 'treatments', 'treats', 'treaty', 'tree', 'trees', 'tremendous', 'trend', 'trends', 'trial', 'trials', 'triangle', 'tribal', 'tribally', 'tribe', 'tribes', 'tricare', 'trick', 'tricking', 'tricks', 'tricky', 'tried', 'tries', 'trigger', 'triggered', 'triggers', 'trillion', 'trillions', 'trio', 'trip', 'triple', 'tripling', 'trips', 'troops', 'tropical', 'trouble', 'troubles', 'truancy', 'truck', 'truckers', 'trucking', 'trucks', 'true', 'truly', 'trump', 'trust', 'trustbusters', 'trusts', 'truth', 'truvada', 'try', 'trying', 'tsa', 'tuberculosis', 'tucked', 'tuition', 'tumbling', 'tune', 'turbine', 'turbines', 'turbocharge', 'turing', 'turkey', 'turmoil', 'turn', 'turned', 'turning', 'turnover', 'turns', 'tutoring', 'tv', 'tweaking', 'tweet', 'tweets', 'twice', 'twin', 'tying', 'type', 'types', 'typical', 'typically', 'tyson', 'udall', 'ukraine', 'ultimate', 'ultimately', 'ultra', 'unable', 'unacceptable', 'unacceptably', 'unaccompanied', 'unaccountable', 'unaffordable', 'unambiguous', 'unanimous', 'unanimously', 'unarmed', 'unauthorized', 'unavoidable', 'unaware', 'unbanked', 'unbiased', 'uncategorized', 'uncertain', 'uncertainty', 'unchecked', 'unclassified', 'uncollected', 'uncomfortable', 'uncompensated', 'unconnected', 'unconscionable', 'unconstitutional', 'uncover', 'uncovered', 'undemocratic', 'underbanked', 'undercount', 'undercut', 'undercutting', 'underdevelopment', 'underestimate', 'underfunded', 'underfunding', 'underfunds', 'undergo', 'undergoing', 'undergone', 'undergrad', 'undergraduate', 'undergraduates', 'underground', 'underinsured', 'underinvesting', 'underinvestment', 'underlie', 'underlying', 'undermine', 'undermined', 'undermines', 'undermining', 'undernourishment', 'underpaying', 'underpin', 'underreporting', 'underrepresentation', 'underrepresented', 'underserved', 'understaffing', 'understand', 'understanding', 'understands', 'understatement', 'understood', 'undertake', 'undertaken', 'undertaking', 'underutilized', 'underwater', 'underwood', 'underwrite', 'underwritten', 'undeterred', 'undisclosed', 'undo', 'undocumented', 'undoing', 'undone', 'undue', 'unearned', 'unearth', 'unemployed', 'unemployment', 'unequal', 'uneven', 'unexpected', 'unfair', 'unfairly', 'unforeseen', 'unfortunate', 'unfortunately', 'unhealthy', 'unified', 'uniform', 'uniformed', 'uninformed', 'uninsured', 'unintended', 'unintentional', 'unintentionally', 'uninterested', 'uninteresting', 'union', 'unionization', 'unionize', 'unionized', 'unionizing', 'unions', 'unique', 'uniquely', 'unit', 'united', 'unitedhealth', 'units', 'unity', 'universal', 'universities', 'university', 'unjust', 'unjustly', 'unknown', 'unlawful', 'unlawfully', 'unleash', 'unleashed', 'unleashing', 'unless', 'unlike', 'unlikely', 'unlimited', 'unloaded', 'unlock', 'unlocking', 'unmaintained', 'unmarried', 'unmet', 'unnatural', 'unnecessarily', 'unnecessary', 'unnoticed', 'unoccupied', 'unopened', 'unpaid', 'unparalleled', 'unpaved', 'unplanned', 'unprecedented', 'unpredictable', 'unprepared', 'unproductive', 'unprotected', 'unraveled', 'unreasonable', 'unredacted', 'unregistered', 'unregulated', 'unrelated', 'unrelenting', 'unreliable', 'unreported', 'unrestrained', 'unsafe', 'unsanitary', 'unscientific', 'unscrupulous', 'unsecure', 'unseen', 'unserved', 'unsolicited', 'unstable', 'unsurprisingly', 'unsuspecting', 'unsustainable', 'untenable', 'unthinkable', 'untouched', 'untreated', 'untrustworthy', 'unused', 'unusual', 'unwilling', 'unwillingness', 'unwind', 'unwinding', 'update', 'updated', 'updates', 'updating', 'upend', 'upended', 'upfront', 'upgrade', 'upgrades', 'upgrading', 'upheaval', 'uphold', 'upholding', 'uplift', 'upload', 'upper', 'uproot', 'ups', 'upset', 'upside', 'upstream', 'upwards', 'uranium', 'urban', 'urbanization', 'urbanize', 'urge', 'urged', 'urgency', 'urgent', 'urgently', 'urging', 'uruguay', 'usa', 'usage', 'usaid', 'usda', 'use', 'used', 'useless', 'user', 'users', 'uses', 'ushered', 'ushering', 'using', 'usps', 'ustr', 'usual', 'usually', 'usury', 'utah', 'utilities', 'utility', 'utilization', 'utilize', 'utilizes', 'utilizing', 'utter', 'va', 'vacancies', 'vacant', 'vacate', 'vacated', 'vacation', 'vaccinate', 'vaccination', 'vaccine', 'vaccines', 'vacuum', 'vacuuming', 'vague', 'valeo', 'valid', 'validate', 'valley', 'valleys', 'valuable', 'valuation', 'valuations', 'value', 'valued', 'values', 'valuing', 'valve', 'vampires', 'vandalism', 'vanish', 'vanished', 'variable', 'variation', 'variations', 'varied', 'varies', 'varieties', 'variety', 'various', 'vary', 'vash', 'vast', 'vastly', 'vawa', 've', 'vegetable', 'vegetables', 'vehicle', 'vehicles', 'ventilators', 'vento', 'venture', 'ventures', 'venue', 'verification', 'verified', 'verify', 'verifying', 'verizon', 'vermont', 'version', 'versions', 'vertical', 'vertically', 'vessels', 'vested', 'vet', 'veteran', 'veterans', 'veto', 'vetoed', 'vi', 'viable', 'vial', 'vibrant', 'vice', 'vicious', 'victim', 'victims', 'victoria', 'victories', 'victory', 'video', 'videos', 'vietnam', 'view', 'views', 'vigilant', 'vigilantly', 'vigorous', 'vigorously', 'viktor', 'villages', 'vincent', 'vincristine', 'vindicate', 'vindictive', 'violate', 'violated', 'violates', 'violating', 'violation', 'violations', 'violators', 'violence', 'violent', 'vip', 'virgin', 'virginia', 'virtual', 'virtually', 'virtue', 'virus', 'viruses', 'visa', 'visas', 'vise', 'visibility', 'visible', 'vision', 'visit', 'visited', 'visiting', 'visitors', 'visits', 'visual', 'vital', 'vitality', 'vladimir', 'vocational', 'voice', 'voices', 'volatile', 'volt', 'volume', 'voluntarily', 'voluntary', 'volunteer', 'volunteers', 'vote', 'voted', 'voter', 'voters', 'votes', 'voting', 'voucher', 'vouchers', 'vra', 'vs', 'vulnerabilities', 'vulnerability', 'vulnerable', 'vulture', 'vultures', 'wabtec', 'wachovia', 'wade', 'wafting', 'wage', 'waged', 'wages', 'waging', 'wagner', 'wagon', 'wainwright', 'wait', 'waited', 'waiting', 'waitlist', 'waitlists', 'waitressing', 'waits', 'waive', 'waiver', 'waivers', 'waives', 'wake', 'walk', 'walkable', 'walked', 'walker', 'walking', 'wall', 'wallet', 'walls', 'walmart', 'walter', 'walton', 'waltons', 'wampanoag', 'want', 'wanted', 'wanting', 'wants', 'war', 'wards', 'warehouse', 'warehouses', 'warm', 'warmaking', 'warmer', 'warming', 'warned', 'warning', 'warnings', 'warped', 'warrant', 'warrantless', 'warren', 'warrior', 'wars', 'washed', 'washington', 'wasn', 'waste', 'wasted', 'wasteful', 'wastes', 'wastewater', 'wasting', 'watch', 'watchdog', 'watchdogs', 'watched', 'watching', 'water', 'waterborne', 'watergate', 'waters', 'waterways', 'wave', 'waved', 'waves', 'way', 'ways', 'waze', 'weak', 'weaken', 'weakened', 'weakening', 'weaker', 'weakest', 'weakness', 'wealth', 'wealthier', 'wealthiest', 'wealthy', 'weapon', 'weaponization', 'weaponized', 'weaponizing', 'weapons', 'weather', 'weatherization', 'weatherize', 'weatherized', 'weatherizing', 'weave', 'web', 'websites', 'wednesday', 'week', 'weekdays', 'weekend', 'weekends', 'weekly', 'weeks', 'weigh', 'weighed', 'weighing', 'weight', 'weighted', 'welcome', 'welcomed', 'welcomes', 'welcoming', 'welfare', 'wellbeing', 'wellhead', 'wellness', 'wells', 'wellstone', 'went', 'wep', 'weren', 'west', 'western', 'westin', 'wetland', 'wetlands', 'whack', 'whatsapp', 'wheeler', 'wheels', 'whichever', 'whihbcu', 'whim', 'whims', 'whispering', 'whistleblower', 'whistleblowers', 'white', 'whiter', 'whites', 'wholeheartedly', 'wholesale', 'wholesalers', 'wholly', 'whopping', 'wic', 'wide', 'widely', 'widening', 'widens', 'wider', 'widespread', 'widow', 'widowed', 'widowers', 'widowhood', 'widows', 'wield', 'wife', 'wild', 'wilderness', 'wildfire', 'wildfires', 'wildlife', 'wilkie', 'willfully', 'willi', 'william', 'willing', 'wily', 'win', 'wind', 'windfall', 'window', 'windows', 'wing', 'winning', 'wins', 'winter', 'wioa', 'wipe', 'wiped', 'wiping', 'wired', 'wireless', 'wires', 'wiring', 'wisely', 'wish', 'withdraw', 'withdrawal', 'withdrawals', 'withdrawing', 'withdrew', 'withheld', 'withhold', 'withholding', 'withstand', 'withstanding', 'witness', 'witnessed', 'witnesses', 'witnessing', 'woefully', 'woman', 'women', 'won', 'wonder', 'wondering', 'wood', 'word', 'words', 'work', 'worked', 'worker', 'workers', 'workforce', 'workgroup', 'working', 'workload', 'workplace', 'workplaces', 'works', 'workshops', 'worksites', 'workweek', 'world', 'worldcom', 'worldwide', 'worried', 'worry', 'worrying', 'worse', 'worsened', 'worsening', 'worsens', 'worship', 'worshippers', 'worships', 'worst', 'worth', 'worthless', 'wouldn', 'wounded', 'woven', 'wrap', 'wraparound', 'wrath', 'wreak', 'wreckage', 'wrestle', 'wring', 'wringing', 'wrist', 'write', 'writing', 'written', 'wrong', 'wrongdoers', 'wrongdoing', 'wrongdoings', 'wronged', 'wrongful', 'wrongfully', 'wrongheaded', 'wrongly', 'wrongs', 'wrote', 'wrought', 'wto', 'wwii', 'xenophobe', 'xenophobia', 'xenophobic', 'xerox', 'xers', 'xi', 'xl', 'yachts', 'yale', 'year', 'yearly', 'years', 'yellow', 'yelp', 'yemen', 'yes', 'yesterday', 'yield', 'yields', 'york', 'young', 'younger', 'youngest', 'youth', 'zambrano', 'zandi', 'zappos', 'zealand', 'zealots', 'zebra', 'zemdri', 'zero', 'zeroes', 'zika', 'zinke', 'zip', 'zombie', 'zones', 'zoning', 'zorc', 'zuckerberg', 'zucman']\n"
     ]
    }
   ],
   "source": [
    "print(cv.get_feature_names())"
   ]
  },
  {
   "cell_type": "code",
   "execution_count": 35,
   "metadata": {
    "index": 44
   },
   "outputs": [
    {
     "data": {
      "text/plain": [
       "RandomForestClassifier(random_state=42)"
      ]
     },
     "execution_count": 35,
     "metadata": {},
     "output_type": "execute_result"
    }
   ],
   "source": [
    "# Code here to instantiate and fit a Random Forest model\n",
    "rf = RandomForestClassifier(random_state=42)\n",
    "rf.fit(X_train_vectorized, y_train)"
   ]
  },
  {
   "cell_type": "code",
   "execution_count": 36,
   "metadata": {},
   "outputs": [
    {
     "data": {
      "text/plain": [
       "0.9375"
      ]
     },
     "execution_count": 36,
     "metadata": {},
     "output_type": "execute_result"
    }
   ],
   "source": [
    "# Code here to evaluate your model on the test set\n",
    "rf.score(X_test_vectorized, y_test)"
   ]
  },
  {
   "cell_type": "markdown",
   "metadata": {
    "index": 83
   },
   "source": [
    "# 4) Clustering"
   ]
  },
  {
   "cell_type": "markdown",
   "metadata": {
    "index": 83
   },
   "source": [
    "## Clustering Concepts"
   ]
  },
  {
   "cell_type": "markdown",
   "metadata": {
    "index": 83
   },
   "source": [
    "### 1: Describe how the K-Means algorithm updates its cluster centers after initialization."
   ]
  },
  {
   "cell_type": "code",
   "execution_count": null,
   "metadata": {
    "index": 83
   },
   "outputs": [],
   "source": [
    "# call_on_students(1)"
   ]
  },
  {
   "cell_type": "markdown",
   "metadata": {},
   "source": [
    "K-Means updates its cluster centers by calculating distances to nearest points and calculating average\n",
    "\n",
    "   - Initialization is random\n",
    "   - remeasures distance from all points to centers\n",
    "   - reassign points to their respective closest cluster center\n",
    "   - updating the center based on new points assigned to it"
   ]
  },
  {
   "cell_type": "markdown",
   "metadata": {
    "index": 83
   },
   "source": [
    "### 2: What is inertia, and how does K-Means use inertia to determine the best estimator?"
   ]
  },
  {
   "cell_type": "markdown",
   "metadata": {
    "index": 83
   },
   "source": [
    "Please also describe the method you can use to evaluate clustering using inertia.\n",
    "\n",
    "Documentation, for reference: https://scikit-learn.org/stable/modules/generated/sklearn.cluster.KMeans.html"
   ]
  },
  {
   "cell_type": "markdown",
   "metadata": {},
   "source": [
    "\n",
    "- Inertia is the SSE (sum of squares errors) between the data points and the cluster center. The K-Means algorithm tries to minimize this value.\n",
    "- Inertia is used in the Elbow plot method to find best k\n",
    "    - want to find the elbow of the plot, point of greatest change\n",
    "- K means tries to minimize within cluster distance (Intra, inertia and silhouette) and maximize between cluster distance(Inter, silhouette)"
   ]
  },
  {
   "cell_type": "code",
   "execution_count": null,
   "metadata": {
    "index": 83
   },
   "outputs": [],
   "source": [
    "# call_on_students(1)"
   ]
  },
  {
   "cell_type": "markdown",
   "metadata": {
    "index": 83
   },
   "source": [
    "### 3: What other metric do we have to score the clusters which are formed?"
   ]
  },
  {
   "cell_type": "markdown",
   "metadata": {
    "index": 83
   },
   "source": [
    "Describe the difference between it and inertia."
   ]
  },
  {
   "cell_type": "markdown",
   "metadata": {},
   "source": [
    "- Silhouette score takes into consideration cohesion of cluster and distance from other clusters. Ranges from -1 to 1 with 1 being good clustering\n",
    "\n",
    "- Silhouette score (closer to 1 to better), as opposed to inertia where you're looking for elbow"
   ]
  },
  {
   "cell_type": "code",
   "execution_count": null,
   "metadata": {
    "index": 83
   },
   "outputs": [],
   "source": [
    "# call_on_students(1)"
   ]
  },
  {
   "cell_type": "markdown",
   "metadata": {
    "index": 83
   },
   "source": [
    "## Clustering in Code with Heirarchical Agglomerative Clustering"
   ]
  },
  {
   "cell_type": "markdown",
   "metadata": {
    "index": 83
   },
   "source": [
    "After the above conceptual review of KMeans, let's practice coding with agglomerative clustering."
   ]
  },
  {
   "cell_type": "markdown",
   "metadata": {
    "index": 83
   },
   "source": [
    "### Set Up"
   ]
  },
  {
   "cell_type": "code",
   "execution_count": 39,
   "metadata": {
    "index": 83
   },
   "outputs": [],
   "source": [
    "# New dataset for this section!\n",
    "from sklearn.datasets import load_iris\n",
    "\n",
    "data = load_iris()\n",
    "X = pd.DataFrame(data['data'])"
   ]
  },
  {
   "cell_type": "markdown",
   "metadata": {
    "index": 83
   },
   "source": [
    "### 4: Prepare our Data for Clustering"
   ]
  },
  {
   "cell_type": "markdown",
   "metadata": {
    "index": 83
   },
   "source": [
    "What steps do we need to take to preprocess our data effectively?\n",
    "\n",
    "- scaling is vitally important b/c it relies solely on distance"
   ]
  },
  {
   "cell_type": "code",
   "execution_count": 40,
   "metadata": {
    "index": 83
   },
   "outputs": [],
   "source": [
    "# call_on_students(1)"
   ]
  },
  {
   "cell_type": "code",
   "execution_count": 41,
   "metadata": {
    "index": 83
   },
   "outputs": [],
   "source": [
    "# Code to preprocess the data\n",
    "scaler = StandardScaler()\n",
    "# Name the processed data X_processed\n",
    "X_processed = scaler.fit_transform(X)"
   ]
  },
  {
   "cell_type": "markdown",
   "metadata": {
    "index": 83
   },
   "source": [
    "### 5: Import the Relevant Class, Then Instantiate and Fit a Hierarchical Agglomerative Clustering Object"
   ]
  },
  {
   "cell_type": "markdown",
   "metadata": {
    "index": 83
   },
   "source": [
    "Let's use `n_clusters = 2` to start (default)"
   ]
  },
  {
   "cell_type": "code",
   "execution_count": 42,
   "metadata": {
    "index": 83
   },
   "outputs": [],
   "source": [
    "# call_on_students(1)"
   ]
  },
  {
   "cell_type": "code",
   "execution_count": 43,
   "metadata": {
    "index": 83
   },
   "outputs": [
    {
     "data": {
      "text/plain": [
       "AgglomerativeClustering()"
      ]
     },
     "execution_count": 43,
     "metadata": {},
     "output_type": "execute_result"
    }
   ],
   "source": [
    "# Import the relevent clustering algorithm\n",
    "from sklearn.cluster import AgglomerativeClustering\n",
    "\n",
    "# Instantiate and fit\n",
    "cluster = AgglomerativeClustering(n_clusters=2)\n",
    "cluster.fit(X_processed)"
   ]
  },
  {
   "cell_type": "code",
   "execution_count": 44,
   "metadata": {
    "index": 83
   },
   "outputs": [
    {
     "data": {
      "text/plain": [
       "0.5770346019475989"
      ]
     },
     "execution_count": 44,
     "metadata": {},
     "output_type": "execute_result"
    }
   ],
   "source": [
    "# Calculate a silhouette score\n",
    "from sklearn.metrics import silhouette_score\n",
    "labels = cluster.fit_predict(X_processed)\n",
    "cluster_sil_score = silhouette_score(X_processed, labels)\n",
    "cluster_sil_score"
   ]
  },
  {
   "cell_type": "markdown",
   "metadata": {
    "index": 83
   },
   "source": [
    "### 6: Write a Function to Test Different Options for `n_clusters`"
   ]
  },
  {
   "cell_type": "markdown",
   "metadata": {
    "index": 83
   },
   "source": [
    "The function should take in the number for `n_clusters` and the data to cluster, fit a new clustering model using that parameter to the data, print the silhouette score, then return the labels attribute from the fit clustering model."
   ]
  },
  {
   "cell_type": "code",
   "execution_count": 45,
   "metadata": {
    "index": 83
   },
   "outputs": [],
   "source": [
    "# call_on_students(1)\n",
    "def test_clusters(n_clusters, data):\n",
    "    # Instantiate and fit\n",
    "    cluster = AgglomerativeClustering(n_clusters=n_clusters)\n",
    "    cluster.fit(data)\n",
    "    \n",
    "    #print silheoutte score\n",
    "    labels = cluster.fit_predict(data)\n",
    "    cluster_sil_score = silhouette_score(data, labels)\n",
    "    print(cluster_sil_score)\n",
    "    return cluster.labels_"
   ]
  },
  {
   "cell_type": "code",
   "execution_count": null,
   "metadata": {
    "scrolled": true
   },
   "outputs": [],
   "source": [
    "test_clusters(2, X_processed)"
   ]
  },
  {
   "cell_type": "code",
   "execution_count": 47,
   "metadata": {},
   "outputs": [
    {
     "name": "stdout",
     "output_type": "stream",
     "text": [
      "0.5770346019475989\n",
      "0.446689041028591\n",
      "0.4006363159855973\n",
      "0.33058726295230545\n",
      "0.3148548010051283\n",
      "0.316969830299128\n",
      "0.310946529007258\n",
      "0.31143422475471655\n"
     ]
    }
   ],
   "source": [
    "for k in range(2, 10):\n",
    "    test_clusters(k, X_processed)"
   ]
  },
  {
   "cell_type": "code",
   "execution_count": null,
   "metadata": {},
   "outputs": [],
   "source": []
  }
 ],
 "metadata": {
  "kernelspec": {
   "display_name": "Python (learn-env)",
   "language": "python",
   "name": "learn-env"
  },
  "language_info": {
   "codemirror_mode": {
    "name": "ipython",
    "version": 3
   },
   "file_extension": ".py",
   "mimetype": "text/x-python",
   "name": "python",
   "nbconvert_exporter": "python",
   "pygments_lexer": "ipython3",
   "version": "3.8.5"
  },
  "toc": {
   "base_numbering": 1,
   "nav_menu": {},
   "number_sections": true,
   "sideBar": true,
   "skip_h1_title": false,
   "title_cell": "Table of Contents",
   "title_sidebar": "Contents",
   "toc_cell": false,
   "toc_position": {},
   "toc_section_display": true,
   "toc_window_display": false
  },
  "varInspector": {
   "cols": {
    "lenName": 16,
    "lenType": 16,
    "lenVar": 40
   },
   "kernels_config": {
    "python": {
     "delete_cmd_postfix": "",
     "delete_cmd_prefix": "del ",
     "library": "var_list.py",
     "varRefreshCmd": "print(var_dic_list())"
    },
    "r": {
     "delete_cmd_postfix": ") ",
     "delete_cmd_prefix": "rm(",
     "library": "var_list.r",
     "varRefreshCmd": "cat(var_dic_list()) "
    }
   },
   "types_to_exclude": [
    "module",
    "function",
    "builtin_function_or_method",
    "instance",
    "_Feature"
   ],
   "window_display": false
  }
 },
 "nbformat": 4,
 "nbformat_minor": 4
}
