{
 "cells": [
  {
   "cell_type": "markdown",
   "metadata": {},
   "source": [
    "# Model Tuning: Grid Search + Pipeline"
   ]
  },
  {
   "cell_type": "code",
   "execution_count": 10,
   "metadata": {
    "ExecuteTime": {
     "end_time": "2021-10-28T04:05:08.822957Z",
     "start_time": "2021-10-28T04:05:08.819534Z"
    }
   },
   "outputs": [],
   "source": [
    "import numpy as np\n",
    "import pandas as pd\n",
    "from matplotlib import pyplot as plt\n",
    "import seaborn as sns\n",
    "from scipy import stats as stats\n",
    "\n",
    "from sklearn.linear_model import LogisticRegression\n",
    "from sklearn.neighbors import KNeighborsClassifier\n",
    "from sklearn.tree import DecisionTreeClassifier\n",
    "\n",
    "from sklearn.metrics import precision_score, recall_score\n",
    "from sklearn.model_selection import train_test_split, GridSearchCV,\\\n",
    "cross_val_score, RandomizedSearchCV\n",
    "\n",
    "from sklearn.preprocessing import OneHotEncoder, StandardScaler\n",
    "from sklearn.impute import SimpleImputer\n",
    "from sklearn.pipeline import Pipeline\n",
    "from sklearn.compose import ColumnTransformer"
   ]
  },
  {
   "cell_type": "markdown",
   "metadata": {
    "heading_collapsed": true
   },
   "source": [
    "# Objectives"
   ]
  },
  {
   "cell_type": "markdown",
   "metadata": {
    "hidden": true
   },
   "source": [
    "- Explain what hyperparameters are\n",
    "- Describe the purpose of grid searching\n",
    "- Implement grid searching for the purposes of model optimization."
   ]
  },
  {
   "cell_type": "markdown",
   "metadata": {
    "heading_collapsed": true
   },
   "source": [
    "# Model Tuning"
   ]
  },
  {
   "cell_type": "markdown",
   "metadata": {
    "hidden": true
   },
   "source": [
    "![](https://imgs.xkcd.com/comics/machine_learning.png)"
   ]
  },
  {
   "cell_type": "markdown",
   "metadata": {
    "heading_collapsed": true,
    "hidden": true
   },
   "source": [
    "## Hyperparameters"
   ]
  },
  {
   "cell_type": "markdown",
   "metadata": {
    "hidden": true
   },
   "source": [
    "Many of the models we have looked at are really *families* of models in the sense that they make use of **hyperparameters**."
   ]
  },
  {
   "cell_type": "markdown",
   "metadata": {
    "hidden": true
   },
   "source": [
    "Thus for example the $k$-nearest-neighbors algorithm allows us to make:\n",
    "\n",
    "- a 1-nearest-neighbor model\n",
    "- a 2-nearest-neighbors model\n",
    "- a 3-nearest-neighbors model\n",
    "- etc."
   ]
  },
  {
   "cell_type": "markdown",
   "metadata": {
    "hidden": true
   },
   "source": [
    "Or, for another example, the decision tree algorithm allows us to make:\n",
    "\n",
    "- a classifier that branches according to information gain\n",
    "- a classifier that branches according to Gini impurity\n",
    "- a regressor that branches according to mean squared error\n",
    "- etc."
   ]
  },
  {
   "cell_type": "markdown",
   "metadata": {
    "hidden": true
   },
   "source": [
    "Depending on the sort of problem and data at hand, it is natural to experiment with different values of these hyperparameters to try to improve model performance."
   ]
  },
  {
   "cell_type": "markdown",
   "metadata": {
    "hidden": true
   },
   "source": [
    "> We can think of these **hyperparameters** as _dials_ of the base model\n",
    "\n",
    "<img width=60% src='images/dials.png'/>"
   ]
  },
  {
   "cell_type": "markdown",
   "metadata": {
    "heading_collapsed": true,
    "hidden": true
   },
   "source": [
    "### Difference from Parametric / Non-Parametric Models"
   ]
  },
  {
   "cell_type": "markdown",
   "metadata": {
    "hidden": true
   },
   "source": [
    "Contrast the notion of hyperparameters with the distinction between parametric and non-parametric models."
   ]
  },
  {
   "cell_type": "markdown",
   "metadata": {
    "hidden": true
   },
   "source": [
    "A linear regression model is parametric in the sense that we start with a given model *form* and we then search for the optimal parameters to fill in that form. But *those* parameters are not the sort we might tweak for the purposes of improving model performance. On the contrary, there is one best set of parameters, and the training of the model is a matter of finding those optimal values."
   ]
  },
  {
   "cell_type": "markdown",
   "metadata": {
    "heading_collapsed": true,
    "hidden": true
   },
   "source": [
    "## Data Example"
   ]
  },
  {
   "cell_type": "markdown",
   "metadata": {
    "hidden": true
   },
   "source": [
    "![Penguins](https://raw.githubusercontent.com/allisonhorst/palmerpenguins/69530276d74b99df81cc385f4e95c644da69ebfa/man/figures/lter_penguins.png)\n",
    "\n",
    "> Images source: @allison_horst [github.com/allisonhorst/penguins](github.com/allisonhorst/penguins)"
   ]
  },
  {
   "cell_type": "code",
   "execution_count": 11,
   "metadata": {
    "ExecuteTime": {
     "end_time": "2021-10-28T03:33:19.245056Z",
     "start_time": "2021-10-28T03:33:19.234933Z"
    },
    "hidden": true
   },
   "outputs": [],
   "source": [
    "penguins = sns.load_dataset('penguins')"
   ]
  },
  {
   "cell_type": "markdown",
   "metadata": {
    "hidden": true
   },
   "source": [
    "![Bill length & depth](https://raw.githubusercontent.com/allisonhorst/palmerpenguins/69530276d74b99df81cc385f4e95c644da69ebfa/man/figures/culmen_depth.png)\n",
    "\n",
    "> Images source: @allison_horst [github.com/allisonhorst/penguins](github.com/allisonhorst/penguins)"
   ]
  },
  {
   "cell_type": "code",
   "execution_count": 12,
   "metadata": {
    "ExecuteTime": {
     "end_time": "2021-10-28T03:33:20.583442Z",
     "start_time": "2021-10-28T03:33:20.566368Z"
    },
    "hidden": true
   },
   "outputs": [
    {
     "data": {
      "text/html": [
       "<div>\n",
       "<style scoped>\n",
       "    .dataframe tbody tr th:only-of-type {\n",
       "        vertical-align: middle;\n",
       "    }\n",
       "\n",
       "    .dataframe tbody tr th {\n",
       "        vertical-align: top;\n",
       "    }\n",
       "\n",
       "    .dataframe thead th {\n",
       "        text-align: right;\n",
       "    }\n",
       "</style>\n",
       "<table border=\"1\" class=\"dataframe\">\n",
       "  <thead>\n",
       "    <tr style=\"text-align: right;\">\n",
       "      <th></th>\n",
       "      <th>species</th>\n",
       "      <th>island</th>\n",
       "      <th>bill_length_mm</th>\n",
       "      <th>bill_depth_mm</th>\n",
       "      <th>flipper_length_mm</th>\n",
       "      <th>body_mass_g</th>\n",
       "      <th>sex</th>\n",
       "    </tr>\n",
       "  </thead>\n",
       "  <tbody>\n",
       "    <tr>\n",
       "      <th>0</th>\n",
       "      <td>Adelie</td>\n",
       "      <td>Torgersen</td>\n",
       "      <td>39.1</td>\n",
       "      <td>18.7</td>\n",
       "      <td>181.0</td>\n",
       "      <td>3750.0</td>\n",
       "      <td>Male</td>\n",
       "    </tr>\n",
       "    <tr>\n",
       "      <th>1</th>\n",
       "      <td>Adelie</td>\n",
       "      <td>Torgersen</td>\n",
       "      <td>39.5</td>\n",
       "      <td>17.4</td>\n",
       "      <td>186.0</td>\n",
       "      <td>3800.0</td>\n",
       "      <td>Female</td>\n",
       "    </tr>\n",
       "    <tr>\n",
       "      <th>2</th>\n",
       "      <td>Adelie</td>\n",
       "      <td>Torgersen</td>\n",
       "      <td>40.3</td>\n",
       "      <td>18.0</td>\n",
       "      <td>195.0</td>\n",
       "      <td>3250.0</td>\n",
       "      <td>Female</td>\n",
       "    </tr>\n",
       "    <tr>\n",
       "      <th>3</th>\n",
       "      <td>Adelie</td>\n",
       "      <td>Torgersen</td>\n",
       "      <td>NaN</td>\n",
       "      <td>NaN</td>\n",
       "      <td>NaN</td>\n",
       "      <td>NaN</td>\n",
       "      <td>NaN</td>\n",
       "    </tr>\n",
       "    <tr>\n",
       "      <th>4</th>\n",
       "      <td>Adelie</td>\n",
       "      <td>Torgersen</td>\n",
       "      <td>36.7</td>\n",
       "      <td>19.3</td>\n",
       "      <td>193.0</td>\n",
       "      <td>3450.0</td>\n",
       "      <td>Female</td>\n",
       "    </tr>\n",
       "  </tbody>\n",
       "</table>\n",
       "</div>"
      ],
      "text/plain": [
       "  species     island  bill_length_mm  bill_depth_mm  flipper_length_mm  \\\n",
       "0  Adelie  Torgersen            39.1           18.7              181.0   \n",
       "1  Adelie  Torgersen            39.5           17.4              186.0   \n",
       "2  Adelie  Torgersen            40.3           18.0              195.0   \n",
       "3  Adelie  Torgersen             NaN            NaN                NaN   \n",
       "4  Adelie  Torgersen            36.7           19.3              193.0   \n",
       "\n",
       "   body_mass_g     sex  \n",
       "0       3750.0    Male  \n",
       "1       3800.0  Female  \n",
       "2       3250.0  Female  \n",
       "3          NaN     NaN  \n",
       "4       3450.0  Female  "
      ]
     },
     "execution_count": 12,
     "metadata": {},
     "output_type": "execute_result"
    }
   ],
   "source": [
    "penguins.head()"
   ]
  },
  {
   "cell_type": "code",
   "execution_count": 13,
   "metadata": {
    "ExecuteTime": {
     "end_time": "2021-10-28T03:33:21.461254Z",
     "start_time": "2021-10-28T03:33:21.450522Z"
    },
    "scrolled": true
   },
   "outputs": [
    {
     "name": "stdout",
     "output_type": "stream",
     "text": [
      "<class 'pandas.core.frame.DataFrame'>\n",
      "RangeIndex: 344 entries, 0 to 343\n",
      "Data columns (total 7 columns):\n",
      " #   Column             Non-Null Count  Dtype  \n",
      "---  ------             --------------  -----  \n",
      " 0   species            344 non-null    object \n",
      " 1   island             344 non-null    object \n",
      " 2   bill_length_mm     342 non-null    float64\n",
      " 3   bill_depth_mm      342 non-null    float64\n",
      " 4   flipper_length_mm  342 non-null    float64\n",
      " 5   body_mass_g        342 non-null    float64\n",
      " 6   sex                333 non-null    object \n",
      "dtypes: float64(4), object(3)\n",
      "memory usage: 18.9+ KB\n"
     ]
    }
   ],
   "source": [
    "penguins.info()"
   ]
  },
  {
   "cell_type": "code",
   "execution_count": 14,
   "metadata": {},
   "outputs": [
    {
     "data": {
      "text/html": [
       "<div>\n",
       "<style scoped>\n",
       "    .dataframe tbody tr th:only-of-type {\n",
       "        vertical-align: middle;\n",
       "    }\n",
       "\n",
       "    .dataframe tbody tr th {\n",
       "        vertical-align: top;\n",
       "    }\n",
       "\n",
       "    .dataframe thead th {\n",
       "        text-align: right;\n",
       "    }\n",
       "</style>\n",
       "<table border=\"1\" class=\"dataframe\">\n",
       "  <thead>\n",
       "    <tr style=\"text-align: right;\">\n",
       "      <th></th>\n",
       "      <th>bill_length_mm</th>\n",
       "      <th>bill_depth_mm</th>\n",
       "      <th>flipper_length_mm</th>\n",
       "      <th>body_mass_g</th>\n",
       "    </tr>\n",
       "  </thead>\n",
       "  <tbody>\n",
       "    <tr>\n",
       "      <th>count</th>\n",
       "      <td>342.000000</td>\n",
       "      <td>342.000000</td>\n",
       "      <td>342.000000</td>\n",
       "      <td>342.000000</td>\n",
       "    </tr>\n",
       "    <tr>\n",
       "      <th>mean</th>\n",
       "      <td>43.921930</td>\n",
       "      <td>17.151170</td>\n",
       "      <td>200.915205</td>\n",
       "      <td>4201.754386</td>\n",
       "    </tr>\n",
       "    <tr>\n",
       "      <th>std</th>\n",
       "      <td>5.459584</td>\n",
       "      <td>1.974793</td>\n",
       "      <td>14.061714</td>\n",
       "      <td>801.954536</td>\n",
       "    </tr>\n",
       "    <tr>\n",
       "      <th>min</th>\n",
       "      <td>32.100000</td>\n",
       "      <td>13.100000</td>\n",
       "      <td>172.000000</td>\n",
       "      <td>2700.000000</td>\n",
       "    </tr>\n",
       "    <tr>\n",
       "      <th>25%</th>\n",
       "      <td>39.225000</td>\n",
       "      <td>15.600000</td>\n",
       "      <td>190.000000</td>\n",
       "      <td>3550.000000</td>\n",
       "    </tr>\n",
       "    <tr>\n",
       "      <th>50%</th>\n",
       "      <td>44.450000</td>\n",
       "      <td>17.300000</td>\n",
       "      <td>197.000000</td>\n",
       "      <td>4050.000000</td>\n",
       "    </tr>\n",
       "    <tr>\n",
       "      <th>75%</th>\n",
       "      <td>48.500000</td>\n",
       "      <td>18.700000</td>\n",
       "      <td>213.000000</td>\n",
       "      <td>4750.000000</td>\n",
       "    </tr>\n",
       "    <tr>\n",
       "      <th>max</th>\n",
       "      <td>59.600000</td>\n",
       "      <td>21.500000</td>\n",
       "      <td>231.000000</td>\n",
       "      <td>6300.000000</td>\n",
       "    </tr>\n",
       "  </tbody>\n",
       "</table>\n",
       "</div>"
      ],
      "text/plain": [
       "       bill_length_mm  bill_depth_mm  flipper_length_mm  body_mass_g\n",
       "count      342.000000     342.000000         342.000000   342.000000\n",
       "mean        43.921930      17.151170         200.915205  4201.754386\n",
       "std          5.459584       1.974793          14.061714   801.954536\n",
       "min         32.100000      13.100000         172.000000  2700.000000\n",
       "25%         39.225000      15.600000         190.000000  3550.000000\n",
       "50%         44.450000      17.300000         197.000000  4050.000000\n",
       "75%         48.500000      18.700000         213.000000  4750.000000\n",
       "max         59.600000      21.500000         231.000000  6300.000000"
      ]
     },
     "execution_count": 14,
     "metadata": {},
     "output_type": "execute_result"
    }
   ],
   "source": [
    "penguins.describe()"
   ]
  },
  {
   "cell_type": "markdown",
   "metadata": {
    "heading_collapsed": true,
    "hidden": true
   },
   "source": [
    "### Data Prep"
   ]
  },
  {
   "cell_type": "markdown",
   "metadata": {
    "hidden": true
   },
   "source": [
    "We'll try to predict species given the other columns' values. Let's dummy-out `island` and `sex`:"
   ]
  },
  {
   "cell_type": "code",
   "execution_count": 17,
   "metadata": {
    "ExecuteTime": {
     "end_time": "2021-10-28T03:33:22.756858Z",
     "start_time": "2021-10-28T03:33:22.751784Z"
    },
    "hidden": true
   },
   "outputs": [
    {
     "data": {
      "text/plain": [
       "0"
      ]
     },
     "execution_count": 17,
     "metadata": {},
     "output_type": "execute_result"
    }
   ],
   "source": [
    "penguins.isna().sum().sum()"
   ]
  },
  {
   "cell_type": "code",
   "execution_count": 16,
   "metadata": {
    "ExecuteTime": {
     "end_time": "2021-10-28T03:33:23.129535Z",
     "start_time": "2021-10-28T03:33:23.109712Z"
    },
    "hidden": true
   },
   "outputs": [],
   "source": [
    "penguins = penguins.dropna()"
   ]
  },
  {
   "cell_type": "code",
   "execution_count": 18,
   "metadata": {
    "ExecuteTime": {
     "end_time": "2021-10-28T03:33:23.154283Z",
     "start_time": "2021-10-28T03:33:23.151406Z"
    },
    "hidden": true,
    "scrolled": true
   },
   "outputs": [
    {
     "data": {
      "text/plain": [
       "0      Adelie\n",
       "1      Adelie\n",
       "2      Adelie\n",
       "4      Adelie\n",
       "5      Adelie\n",
       "        ...  \n",
       "338    Gentoo\n",
       "340    Gentoo\n",
       "341    Gentoo\n",
       "342    Gentoo\n",
       "343    Gentoo\n",
       "Name: species, Length: 333, dtype: object"
      ]
     },
     "execution_count": 18,
     "metadata": {},
     "output_type": "execute_result"
    }
   ],
   "source": [
    "y = penguins.pop('species')\n",
    "y"
   ]
  },
  {
   "cell_type": "code",
   "execution_count": 19,
   "metadata": {},
   "outputs": [
    {
     "data": {
      "text/html": [
       "<div>\n",
       "<style scoped>\n",
       "    .dataframe tbody tr th:only-of-type {\n",
       "        vertical-align: middle;\n",
       "    }\n",
       "\n",
       "    .dataframe tbody tr th {\n",
       "        vertical-align: top;\n",
       "    }\n",
       "\n",
       "    .dataframe thead th {\n",
       "        text-align: right;\n",
       "    }\n",
       "</style>\n",
       "<table border=\"1\" class=\"dataframe\">\n",
       "  <thead>\n",
       "    <tr style=\"text-align: right;\">\n",
       "      <th></th>\n",
       "      <th>island</th>\n",
       "      <th>bill_length_mm</th>\n",
       "      <th>bill_depth_mm</th>\n",
       "      <th>flipper_length_mm</th>\n",
       "      <th>body_mass_g</th>\n",
       "      <th>sex</th>\n",
       "    </tr>\n",
       "  </thead>\n",
       "  <tbody>\n",
       "    <tr>\n",
       "      <th>0</th>\n",
       "      <td>Torgersen</td>\n",
       "      <td>39.1</td>\n",
       "      <td>18.7</td>\n",
       "      <td>181.0</td>\n",
       "      <td>3750.0</td>\n",
       "      <td>Male</td>\n",
       "    </tr>\n",
       "    <tr>\n",
       "      <th>1</th>\n",
       "      <td>Torgersen</td>\n",
       "      <td>39.5</td>\n",
       "      <td>17.4</td>\n",
       "      <td>186.0</td>\n",
       "      <td>3800.0</td>\n",
       "      <td>Female</td>\n",
       "    </tr>\n",
       "    <tr>\n",
       "      <th>2</th>\n",
       "      <td>Torgersen</td>\n",
       "      <td>40.3</td>\n",
       "      <td>18.0</td>\n",
       "      <td>195.0</td>\n",
       "      <td>3250.0</td>\n",
       "      <td>Female</td>\n",
       "    </tr>\n",
       "    <tr>\n",
       "      <th>4</th>\n",
       "      <td>Torgersen</td>\n",
       "      <td>36.7</td>\n",
       "      <td>19.3</td>\n",
       "      <td>193.0</td>\n",
       "      <td>3450.0</td>\n",
       "      <td>Female</td>\n",
       "    </tr>\n",
       "    <tr>\n",
       "      <th>5</th>\n",
       "      <td>Torgersen</td>\n",
       "      <td>39.3</td>\n",
       "      <td>20.6</td>\n",
       "      <td>190.0</td>\n",
       "      <td>3650.0</td>\n",
       "      <td>Male</td>\n",
       "    </tr>\n",
       "    <tr>\n",
       "      <th>...</th>\n",
       "      <td>...</td>\n",
       "      <td>...</td>\n",
       "      <td>...</td>\n",
       "      <td>...</td>\n",
       "      <td>...</td>\n",
       "      <td>...</td>\n",
       "    </tr>\n",
       "    <tr>\n",
       "      <th>338</th>\n",
       "      <td>Biscoe</td>\n",
       "      <td>47.2</td>\n",
       "      <td>13.7</td>\n",
       "      <td>214.0</td>\n",
       "      <td>4925.0</td>\n",
       "      <td>Female</td>\n",
       "    </tr>\n",
       "    <tr>\n",
       "      <th>340</th>\n",
       "      <td>Biscoe</td>\n",
       "      <td>46.8</td>\n",
       "      <td>14.3</td>\n",
       "      <td>215.0</td>\n",
       "      <td>4850.0</td>\n",
       "      <td>Female</td>\n",
       "    </tr>\n",
       "    <tr>\n",
       "      <th>341</th>\n",
       "      <td>Biscoe</td>\n",
       "      <td>50.4</td>\n",
       "      <td>15.7</td>\n",
       "      <td>222.0</td>\n",
       "      <td>5750.0</td>\n",
       "      <td>Male</td>\n",
       "    </tr>\n",
       "    <tr>\n",
       "      <th>342</th>\n",
       "      <td>Biscoe</td>\n",
       "      <td>45.2</td>\n",
       "      <td>14.8</td>\n",
       "      <td>212.0</td>\n",
       "      <td>5200.0</td>\n",
       "      <td>Female</td>\n",
       "    </tr>\n",
       "    <tr>\n",
       "      <th>343</th>\n",
       "      <td>Biscoe</td>\n",
       "      <td>49.9</td>\n",
       "      <td>16.1</td>\n",
       "      <td>213.0</td>\n",
       "      <td>5400.0</td>\n",
       "      <td>Male</td>\n",
       "    </tr>\n",
       "  </tbody>\n",
       "</table>\n",
       "<p>333 rows × 6 columns</p>\n",
       "</div>"
      ],
      "text/plain": [
       "        island  bill_length_mm  bill_depth_mm  flipper_length_mm  body_mass_g  \\\n",
       "0    Torgersen            39.1           18.7              181.0       3750.0   \n",
       "1    Torgersen            39.5           17.4              186.0       3800.0   \n",
       "2    Torgersen            40.3           18.0              195.0       3250.0   \n",
       "4    Torgersen            36.7           19.3              193.0       3450.0   \n",
       "5    Torgersen            39.3           20.6              190.0       3650.0   \n",
       "..         ...             ...            ...                ...          ...   \n",
       "338     Biscoe            47.2           13.7              214.0       4925.0   \n",
       "340     Biscoe            46.8           14.3              215.0       4850.0   \n",
       "341     Biscoe            50.4           15.7              222.0       5750.0   \n",
       "342     Biscoe            45.2           14.8              212.0       5200.0   \n",
       "343     Biscoe            49.9           16.1              213.0       5400.0   \n",
       "\n",
       "        sex  \n",
       "0      Male  \n",
       "1    Female  \n",
       "2    Female  \n",
       "4    Female  \n",
       "5      Male  \n",
       "..      ...  \n",
       "338  Female  \n",
       "340  Female  \n",
       "341    Male  \n",
       "342  Female  \n",
       "343    Male  \n",
       "\n",
       "[333 rows x 6 columns]"
      ]
     },
     "execution_count": 19,
     "metadata": {},
     "output_type": "execute_result"
    }
   ],
   "source": [
    "penguins"
   ]
  },
  {
   "cell_type": "code",
   "execution_count": 20,
   "metadata": {
    "ExecuteTime": {
     "end_time": "2021-10-28T03:33:23.343753Z",
     "start_time": "2021-10-28T03:33:23.339442Z"
    },
    "hidden": true
   },
   "outputs": [],
   "source": [
    "# Note we're dedicating a lot of data to the testing set just for demonstrative purposes\n",
    "X_train, X_test, y_train, y_test = train_test_split(\n",
    "    penguins, y, test_size=0.5, random_state=42)"
   ]
  },
  {
   "cell_type": "code",
   "execution_count": 21,
   "metadata": {
    "ExecuteTime": {
     "end_time": "2021-10-28T03:33:23.689260Z",
     "start_time": "2021-10-28T03:33:23.683728Z"
    },
    "hidden": true
   },
   "outputs": [],
   "source": [
    "X_train_cat = X_train.select_dtypes('object')\n",
    "\n",
    "ohe = OneHotEncoder(\n",
    "    drop='first',\n",
    "    sparse=False)\n",
    "\n",
    "dums = ohe.fit_transform(X_train_cat)\n",
    "dums_df = pd.DataFrame(dums,\n",
    "                       columns=ohe.get_feature_names(),\n",
    "                       index=X_train_cat.index)"
   ]
  },
  {
   "cell_type": "code",
   "execution_count": 22,
   "metadata": {
    "ExecuteTime": {
     "end_time": "2021-10-28T03:33:23.749194Z",
     "start_time": "2021-10-28T03:33:23.740492Z"
    }
   },
   "outputs": [
    {
     "data": {
      "text/html": [
       "<div>\n",
       "<style scoped>\n",
       "    .dataframe tbody tr th:only-of-type {\n",
       "        vertical-align: middle;\n",
       "    }\n",
       "\n",
       "    .dataframe tbody tr th {\n",
       "        vertical-align: top;\n",
       "    }\n",
       "\n",
       "    .dataframe thead th {\n",
       "        text-align: right;\n",
       "    }\n",
       "</style>\n",
       "<table border=\"1\" class=\"dataframe\">\n",
       "  <thead>\n",
       "    <tr style=\"text-align: right;\">\n",
       "      <th></th>\n",
       "      <th>x0_Dream</th>\n",
       "      <th>x0_Torgersen</th>\n",
       "      <th>x1_Male</th>\n",
       "    </tr>\n",
       "  </thead>\n",
       "  <tbody>\n",
       "    <tr>\n",
       "      <th>160</th>\n",
       "      <td>1.0</td>\n",
       "      <td>0.0</td>\n",
       "      <td>0.0</td>\n",
       "    </tr>\n",
       "    <tr>\n",
       "      <th>237</th>\n",
       "      <td>0.0</td>\n",
       "      <td>0.0</td>\n",
       "      <td>1.0</td>\n",
       "    </tr>\n",
       "    <tr>\n",
       "      <th>2</th>\n",
       "      <td>0.0</td>\n",
       "      <td>1.0</td>\n",
       "      <td>0.0</td>\n",
       "    </tr>\n",
       "    <tr>\n",
       "      <th>121</th>\n",
       "      <td>0.0</td>\n",
       "      <td>1.0</td>\n",
       "      <td>1.0</td>\n",
       "    </tr>\n",
       "    <tr>\n",
       "      <th>179</th>\n",
       "      <td>1.0</td>\n",
       "      <td>0.0</td>\n",
       "      <td>1.0</td>\n",
       "    </tr>\n",
       "  </tbody>\n",
       "</table>\n",
       "</div>"
      ],
      "text/plain": [
       "     x0_Dream  x0_Torgersen  x1_Male\n",
       "160       1.0           0.0      0.0\n",
       "237       0.0           0.0      1.0\n",
       "2         0.0           1.0      0.0\n",
       "121       0.0           1.0      1.0\n",
       "179       1.0           0.0      1.0"
      ]
     },
     "execution_count": 22,
     "metadata": {},
     "output_type": "execute_result"
    }
   ],
   "source": [
    "dums_df.head()"
   ]
  },
  {
   "cell_type": "code",
   "execution_count": 24,
   "metadata": {
    "ExecuteTime": {
     "end_time": "2021-10-28T03:33:23.903884Z",
     "start_time": "2021-10-28T03:33:23.896009Z"
    },
    "hidden": true
   },
   "outputs": [
    {
     "data": {
      "text/html": [
       "<div>\n",
       "<style scoped>\n",
       "    .dataframe tbody tr th:only-of-type {\n",
       "        vertical-align: middle;\n",
       "    }\n",
       "\n",
       "    .dataframe tbody tr th {\n",
       "        vertical-align: top;\n",
       "    }\n",
       "\n",
       "    .dataframe thead th {\n",
       "        text-align: right;\n",
       "    }\n",
       "</style>\n",
       "<table border=\"1\" class=\"dataframe\">\n",
       "  <thead>\n",
       "    <tr style=\"text-align: right;\">\n",
       "      <th></th>\n",
       "      <th>0</th>\n",
       "      <th>1</th>\n",
       "      <th>2</th>\n",
       "      <th>3</th>\n",
       "    </tr>\n",
       "  </thead>\n",
       "  <tbody>\n",
       "    <tr>\n",
       "      <th>160</th>\n",
       "      <td>0.362748</td>\n",
       "      <td>0.903276</td>\n",
       "      <td>-0.472344</td>\n",
       "      <td>-0.094599</td>\n",
       "    </tr>\n",
       "    <tr>\n",
       "      <th>237</th>\n",
       "      <td>0.973499</td>\n",
       "      <td>-0.977375</td>\n",
       "      <td>1.408317</td>\n",
       "      <td>2.512546</td>\n",
       "    </tr>\n",
       "    <tr>\n",
       "      <th>2</th>\n",
       "      <td>-0.725152</td>\n",
       "      <td>0.445820</td>\n",
       "      <td>-0.472344</td>\n",
       "      <td>-1.185963</td>\n",
       "    </tr>\n",
       "    <tr>\n",
       "      <th>121</th>\n",
       "      <td>-1.221387</td>\n",
       "      <td>1.360731</td>\n",
       "      <td>-0.255345</td>\n",
       "      <td>-0.882806</td>\n",
       "    </tr>\n",
       "    <tr>\n",
       "      <th>179</th>\n",
       "      <td>1.030757</td>\n",
       "      <td>0.954104</td>\n",
       "      <td>-0.110678</td>\n",
       "      <td>-0.519018</td>\n",
       "    </tr>\n",
       "    <tr>\n",
       "      <th>...</th>\n",
       "      <td>...</td>\n",
       "      <td>...</td>\n",
       "      <td>...</td>\n",
       "      <td>...</td>\n",
       "    </tr>\n",
       "    <tr>\n",
       "      <th>194</th>\n",
       "      <td>1.297960</td>\n",
       "      <td>1.004932</td>\n",
       "      <td>-0.400011</td>\n",
       "      <td>-0.822175</td>\n",
       "    </tr>\n",
       "    <tr>\n",
       "      <th>77</th>\n",
       "      <td>-1.316816</td>\n",
       "      <td>1.157417</td>\n",
       "      <td>-1.268008</td>\n",
       "      <td>-0.397756</td>\n",
       "    </tr>\n",
       "    <tr>\n",
       "      <th>112</th>\n",
       "      <td>-0.839667</td>\n",
       "      <td>0.293335</td>\n",
       "      <td>-0.617010</td>\n",
       "      <td>-1.246594</td>\n",
       "    </tr>\n",
       "    <tr>\n",
       "      <th>277</th>\n",
       "      <td>0.267318</td>\n",
       "      <td>-1.079032</td>\n",
       "      <td>1.335984</td>\n",
       "      <td>0.936132</td>\n",
       "    </tr>\n",
       "    <tr>\n",
       "      <th>108</th>\n",
       "      <td>-1.145043</td>\n",
       "      <td>-0.062464</td>\n",
       "      <td>-1.485007</td>\n",
       "      <td>-1.276910</td>\n",
       "    </tr>\n",
       "  </tbody>\n",
       "</table>\n",
       "<p>166 rows × 4 columns</p>\n",
       "</div>"
      ],
      "text/plain": [
       "            0         1         2         3\n",
       "160  0.362748  0.903276 -0.472344 -0.094599\n",
       "237  0.973499 -0.977375  1.408317  2.512546\n",
       "2   -0.725152  0.445820 -0.472344 -1.185963\n",
       "121 -1.221387  1.360731 -0.255345 -0.882806\n",
       "179  1.030757  0.954104 -0.110678 -0.519018\n",
       "..        ...       ...       ...       ...\n",
       "194  1.297960  1.004932 -0.400011 -0.822175\n",
       "77  -1.316816  1.157417 -1.268008 -0.397756\n",
       "112 -0.839667  0.293335 -0.617010 -1.246594\n",
       "277  0.267318 -1.079032  1.335984  0.936132\n",
       "108 -1.145043 -0.062464 -1.485007 -1.276910\n",
       "\n",
       "[166 rows x 4 columns]"
      ]
     },
     "execution_count": 24,
     "metadata": {},
     "output_type": "execute_result"
    }
   ],
   "source": [
    "X_train_nums = X_train.select_dtypes('float64')\n",
    "\n",
    "ss = StandardScaler()\n",
    "\n",
    "ss.fit(X_train_nums)\n",
    "nums_df = pd.DataFrame(ss.transform(X_train_nums),\n",
    "                      index=X_train_nums.index)\n",
    "nums_df"
   ]
  },
  {
   "cell_type": "code",
   "execution_count": 25,
   "metadata": {
    "ExecuteTime": {
     "end_time": "2021-10-28T03:33:24.209621Z",
     "start_time": "2021-10-28T03:33:24.206439Z"
    },
    "hidden": true,
    "scrolled": true
   },
   "outputs": [],
   "source": [
    "X_train_clean = pd.concat([nums_df, dums_df], axis=1)"
   ]
  },
  {
   "cell_type": "code",
   "execution_count": 26,
   "metadata": {
    "ExecuteTime": {
     "end_time": "2021-10-28T03:33:24.632509Z",
     "start_time": "2021-10-28T03:33:24.620549Z"
    },
    "hidden": true
   },
   "outputs": [
    {
     "data": {
      "text/html": [
       "<div>\n",
       "<style scoped>\n",
       "    .dataframe tbody tr th:only-of-type {\n",
       "        vertical-align: middle;\n",
       "    }\n",
       "\n",
       "    .dataframe tbody tr th {\n",
       "        vertical-align: top;\n",
       "    }\n",
       "\n",
       "    .dataframe thead th {\n",
       "        text-align: right;\n",
       "    }\n",
       "</style>\n",
       "<table border=\"1\" class=\"dataframe\">\n",
       "  <thead>\n",
       "    <tr style=\"text-align: right;\">\n",
       "      <th></th>\n",
       "      <th>0</th>\n",
       "      <th>1</th>\n",
       "      <th>2</th>\n",
       "      <th>3</th>\n",
       "      <th>x0_Dream</th>\n",
       "      <th>x0_Torgersen</th>\n",
       "      <th>x1_Male</th>\n",
       "    </tr>\n",
       "  </thead>\n",
       "  <tbody>\n",
       "    <tr>\n",
       "      <th>160</th>\n",
       "      <td>0.362748</td>\n",
       "      <td>0.903276</td>\n",
       "      <td>-0.472344</td>\n",
       "      <td>-0.094599</td>\n",
       "      <td>1.0</td>\n",
       "      <td>0.0</td>\n",
       "      <td>0.0</td>\n",
       "    </tr>\n",
       "    <tr>\n",
       "      <th>237</th>\n",
       "      <td>0.973499</td>\n",
       "      <td>-0.977375</td>\n",
       "      <td>1.408317</td>\n",
       "      <td>2.512546</td>\n",
       "      <td>0.0</td>\n",
       "      <td>0.0</td>\n",
       "      <td>1.0</td>\n",
       "    </tr>\n",
       "    <tr>\n",
       "      <th>2</th>\n",
       "      <td>-0.725152</td>\n",
       "      <td>0.445820</td>\n",
       "      <td>-0.472344</td>\n",
       "      <td>-1.185963</td>\n",
       "      <td>0.0</td>\n",
       "      <td>1.0</td>\n",
       "      <td>0.0</td>\n",
       "    </tr>\n",
       "    <tr>\n",
       "      <th>121</th>\n",
       "      <td>-1.221387</td>\n",
       "      <td>1.360731</td>\n",
       "      <td>-0.255345</td>\n",
       "      <td>-0.882806</td>\n",
       "      <td>0.0</td>\n",
       "      <td>1.0</td>\n",
       "      <td>1.0</td>\n",
       "    </tr>\n",
       "    <tr>\n",
       "      <th>179</th>\n",
       "      <td>1.030757</td>\n",
       "      <td>0.954104</td>\n",
       "      <td>-0.110678</td>\n",
       "      <td>-0.519018</td>\n",
       "      <td>1.0</td>\n",
       "      <td>0.0</td>\n",
       "      <td>1.0</td>\n",
       "    </tr>\n",
       "  </tbody>\n",
       "</table>\n",
       "</div>"
      ],
      "text/plain": [
       "            0         1         2         3  x0_Dream  x0_Torgersen  x1_Male\n",
       "160  0.362748  0.903276 -0.472344 -0.094599       1.0           0.0      0.0\n",
       "237  0.973499 -0.977375  1.408317  2.512546       0.0           0.0      1.0\n",
       "2   -0.725152  0.445820 -0.472344 -1.185963       0.0           1.0      0.0\n",
       "121 -1.221387  1.360731 -0.255345 -0.882806       0.0           1.0      1.0\n",
       "179  1.030757  0.954104 -0.110678 -0.519018       1.0           0.0      1.0"
      ]
     },
     "execution_count": 26,
     "metadata": {},
     "output_type": "execute_result"
    }
   ],
   "source": [
    "X_train_clean.head()"
   ]
  },
  {
   "cell_type": "markdown",
   "metadata": {
    "heading_collapsed": true,
    "hidden": true
   },
   "source": [
    "#### Preparing the Test Set"
   ]
  },
  {
   "cell_type": "code",
   "execution_count": 27,
   "metadata": {
    "ExecuteTime": {
     "end_time": "2021-10-28T03:33:25.300049Z",
     "start_time": "2021-10-28T03:33:25.294945Z"
    },
    "hidden": true
   },
   "outputs": [],
   "source": [
    "X_test_cat = X_test.select_dtypes('object')\n",
    "\n",
    "test_dums = ohe.transform(X_test_cat)\n",
    "test_dums_df = pd.DataFrame(test_dums,\n",
    "                       columns=ohe.get_feature_names(),\n",
    "                      index=X_test_cat.index)"
   ]
  },
  {
   "cell_type": "code",
   "execution_count": 28,
   "metadata": {
    "ExecuteTime": {
     "end_time": "2021-10-28T03:33:25.700016Z",
     "start_time": "2021-10-28T03:33:25.695249Z"
    },
    "hidden": true
   },
   "outputs": [],
   "source": [
    "X_test_nums = X_test.select_dtypes('float64')\n",
    "\n",
    "test_nums = ss.transform(X_test_nums)\n",
    "test_nums_df = pd.DataFrame(test_nums,\n",
    "                           index=X_test_nums.index)"
   ]
  },
  {
   "cell_type": "code",
   "execution_count": 29,
   "metadata": {
    "ExecuteTime": {
     "end_time": "2021-10-28T03:33:25.735115Z",
     "start_time": "2021-10-28T03:33:25.732029Z"
    },
    "hidden": true
   },
   "outputs": [],
   "source": [
    "X_test_clean = pd.concat([test_nums_df,\n",
    "                 test_dums_df], axis=1)"
   ]
  },
  {
   "cell_type": "code",
   "execution_count": 30,
   "metadata": {
    "ExecuteTime": {
     "end_time": "2021-10-28T03:33:25.869137Z",
     "start_time": "2021-10-28T03:33:25.857740Z"
    },
    "hidden": true
   },
   "outputs": [
    {
     "data": {
      "text/html": [
       "<div>\n",
       "<style scoped>\n",
       "    .dataframe tbody tr th:only-of-type {\n",
       "        vertical-align: middle;\n",
       "    }\n",
       "\n",
       "    .dataframe tbody tr th {\n",
       "        vertical-align: top;\n",
       "    }\n",
       "\n",
       "    .dataframe thead th {\n",
       "        text-align: right;\n",
       "    }\n",
       "</style>\n",
       "<table border=\"1\" class=\"dataframe\">\n",
       "  <thead>\n",
       "    <tr style=\"text-align: right;\">\n",
       "      <th></th>\n",
       "      <th>0</th>\n",
       "      <th>1</th>\n",
       "      <th>2</th>\n",
       "      <th>3</th>\n",
       "      <th>x0_Dream</th>\n",
       "      <th>x0_Torgersen</th>\n",
       "      <th>x1_Male</th>\n",
       "    </tr>\n",
       "  </thead>\n",
       "  <tbody>\n",
       "    <tr>\n",
       "      <th>30</th>\n",
       "      <td>-0.877839</td>\n",
       "      <td>-0.214949</td>\n",
       "      <td>-1.702007</td>\n",
       "      <td>-1.185963</td>\n",
       "      <td>1.0</td>\n",
       "      <td>0.0</td>\n",
       "      <td>0.0</td>\n",
       "    </tr>\n",
       "    <tr>\n",
       "      <th>317</th>\n",
       "      <td>0.534522</td>\n",
       "      <td>-1.282345</td>\n",
       "      <td>1.480650</td>\n",
       "      <td>0.784554</td>\n",
       "      <td>0.0</td>\n",
       "      <td>0.0</td>\n",
       "      <td>0.0</td>\n",
       "    </tr>\n",
       "    <tr>\n",
       "      <th>79</th>\n",
       "      <td>-0.381604</td>\n",
       "      <td>1.004932</td>\n",
       "      <td>-0.472344</td>\n",
       "      <td>-0.276493</td>\n",
       "      <td>0.0</td>\n",
       "      <td>1.0</td>\n",
       "      <td>1.0</td>\n",
       "    </tr>\n",
       "    <tr>\n",
       "      <th>201</th>\n",
       "      <td>1.088015</td>\n",
       "      <td>0.090021</td>\n",
       "      <td>-0.255345</td>\n",
       "      <td>-0.670597</td>\n",
       "      <td>1.0</td>\n",
       "      <td>0.0</td>\n",
       "      <td>0.0</td>\n",
       "    </tr>\n",
       "    <tr>\n",
       "      <th>63</th>\n",
       "      <td>-0.572464</td>\n",
       "      <td>0.547477</td>\n",
       "      <td>-0.689343</td>\n",
       "      <td>-0.215862</td>\n",
       "      <td>0.0</td>\n",
       "      <td>0.0</td>\n",
       "      <td>1.0</td>\n",
       "    </tr>\n",
       "  </tbody>\n",
       "</table>\n",
       "</div>"
      ],
      "text/plain": [
       "            0         1         2         3  x0_Dream  x0_Torgersen  x1_Male\n",
       "30  -0.877839 -0.214949 -1.702007 -1.185963       1.0           0.0      0.0\n",
       "317  0.534522 -1.282345  1.480650  0.784554       0.0           0.0      0.0\n",
       "79  -0.381604  1.004932 -0.472344 -0.276493       0.0           1.0      1.0\n",
       "201  1.088015  0.090021 -0.255345 -0.670597       1.0           0.0      0.0\n",
       "63  -0.572464  0.547477 -0.689343 -0.215862       0.0           0.0      1.0"
      ]
     },
     "execution_count": 30,
     "metadata": {},
     "output_type": "execute_result"
    }
   ],
   "source": [
    "X_test_clean.head()"
   ]
  },
  {
   "cell_type": "markdown",
   "metadata": {
    "heading_collapsed": true,
    "hidden": true
   },
   "source": [
    "### Trying Different Models & Values"
   ]
  },
  {
   "cell_type": "markdown",
   "metadata": {
    "heading_collapsed": true,
    "hidden": true
   },
   "source": [
    "#### $k$-Nearest Neighbors Model"
   ]
  },
  {
   "cell_type": "code",
   "execution_count": 31,
   "metadata": {
    "ExecuteTime": {
     "end_time": "2021-10-28T03:33:26.801778Z",
     "start_time": "2021-10-28T03:33:26.794694Z"
    },
    "hidden": true,
    "scrolled": true
   },
   "outputs": [
    {
     "data": {
      "text/plain": [
       "KNeighborsClassifier()"
      ]
     },
     "execution_count": 31,
     "metadata": {},
     "output_type": "execute_result"
    }
   ],
   "source": [
    "knn_model = KNeighborsClassifier()\n",
    "\n",
    "knn_model.fit(X_train_clean, y_train)"
   ]
  },
  {
   "cell_type": "code",
   "execution_count": 32,
   "metadata": {
    "ExecuteTime": {
     "end_time": "2021-10-28T03:33:26.961501Z",
     "start_time": "2021-10-28T03:33:26.895197Z"
    },
    "hidden": true
   },
   "outputs": [
    {
     "data": {
      "text/plain": [
       "array([1.        , 1.        , 1.        , 1.        , 1.        ,\n",
       "       0.94117647, 1.        , 1.        , 1.        , 1.        ])"
      ]
     },
     "execution_count": 32,
     "metadata": {},
     "output_type": "execute_result"
    }
   ],
   "source": [
    "scores = cross_val_score(estimator=knn_model, X=X_train_clean,\n",
    "               y=y_train, cv=10)\n",
    "scores"
   ]
  },
  {
   "cell_type": "code",
   "execution_count": 33,
   "metadata": {
    "ExecuteTime": {
     "end_time": "2021-10-28T03:33:27.122508Z",
     "start_time": "2021-10-28T03:33:27.119125Z"
    },
    "hidden": true
   },
   "outputs": [
    {
     "data": {
      "text/plain": [
       "1.0"
      ]
     },
     "execution_count": 33,
     "metadata": {},
     "output_type": "execute_result"
    }
   ],
   "source": [
    "np.median(scores)"
   ]
  },
  {
   "cell_type": "code",
   "execution_count": 34,
   "metadata": {
    "ExecuteTime": {
     "end_time": "2021-10-28T03:33:27.351936Z",
     "start_time": "2021-10-28T03:33:27.338740Z"
    },
    "hidden": true
   },
   "outputs": [
    {
     "data": {
      "text/plain": [
       "0.9880239520958084"
      ]
     },
     "execution_count": 34,
     "metadata": {},
     "output_type": "execute_result"
    }
   ],
   "source": [
    "knn_model.score(X_test_clean, y_test)"
   ]
  },
  {
   "cell_type": "markdown",
   "metadata": {
    "heading_collapsed": true,
    "hidden": true
   },
   "source": [
    "##### Decreasing $k$"
   ]
  },
  {
   "cell_type": "code",
   "execution_count": 43,
   "metadata": {
    "ExecuteTime": {
     "end_time": "2021-10-28T03:33:27.831023Z",
     "start_time": "2021-10-28T03:33:27.823775Z"
    },
    "hidden": true
   },
   "outputs": [
    {
     "data": {
      "text/plain": [
       "KNeighborsClassifier(n_neighbors=3)"
      ]
     },
     "execution_count": 43,
     "metadata": {},
     "output_type": "execute_result"
    }
   ],
   "source": [
    "knn3 = KNeighborsClassifier(n_neighbors=3)\n",
    "\n",
    "knn3.fit(X_train_clean, y_train)"
   ]
  },
  {
   "cell_type": "code",
   "execution_count": 44,
   "metadata": {
    "ExecuteTime": {
     "end_time": "2021-10-28T03:33:27.877668Z",
     "start_time": "2021-10-28T03:33:27.865783Z"
    },
    "hidden": true
   },
   "outputs": [
    {
     "data": {
      "text/plain": [
       "0.9940119760479041"
      ]
     },
     "execution_count": 44,
     "metadata": {},
     "output_type": "execute_result"
    }
   ],
   "source": [
    "knn3.score(X_test_clean, y_test)"
   ]
  },
  {
   "cell_type": "markdown",
   "metadata": {
    "heading_collapsed": true,
    "hidden": true
   },
   "source": [
    "#### Decision Tree"
   ]
  },
  {
   "cell_type": "code",
   "execution_count": 45,
   "metadata": {
    "ExecuteTime": {
     "end_time": "2021-10-28T03:33:29.217048Z",
     "start_time": "2021-10-28T03:33:29.210785Z"
    },
    "hidden": true
   },
   "outputs": [
    {
     "data": {
      "text/plain": [
       "DecisionTreeClassifier(random_state=10)"
      ]
     },
     "execution_count": 45,
     "metadata": {},
     "output_type": "execute_result"
    }
   ],
   "source": [
    "ct = DecisionTreeClassifier(random_state=10)\n",
    "\n",
    "ct.fit(X_train_clean, y_train)"
   ]
  },
  {
   "cell_type": "code",
   "execution_count": 46,
   "metadata": {
    "ExecuteTime": {
     "end_time": "2021-10-28T03:33:29.257276Z",
     "start_time": "2021-10-28T03:33:29.251732Z"
    },
    "hidden": true
   },
   "outputs": [
    {
     "data": {
      "text/plain": [
       "0.9760479041916168"
      ]
     },
     "execution_count": 46,
     "metadata": {},
     "output_type": "execute_result"
    }
   ],
   "source": [
    "ct.score(X_test_clean, y_test)"
   ]
  },
  {
   "cell_type": "markdown",
   "metadata": {
    "heading_collapsed": true,
    "hidden": true
   },
   "source": [
    "##### Changing the branching criterion"
   ]
  },
  {
   "cell_type": "code",
   "execution_count": 47,
   "metadata": {
    "ExecuteTime": {
     "end_time": "2021-10-28T03:33:29.988524Z",
     "start_time": "2021-10-28T03:33:29.982468Z"
    },
    "hidden": true
   },
   "outputs": [
    {
     "data": {
      "text/plain": [
       "DecisionTreeClassifier(criterion='entropy', random_state=10)"
      ]
     },
     "execution_count": 47,
     "metadata": {},
     "output_type": "execute_result"
    }
   ],
   "source": [
    "ct = DecisionTreeClassifier(criterion='entropy',\n",
    "                          random_state=10)\n",
    "\n",
    "ct.fit(X_train_clean, y_train)"
   ]
  },
  {
   "cell_type": "code",
   "execution_count": 48,
   "metadata": {
    "ExecuteTime": {
     "end_time": "2021-10-28T03:33:30.469779Z",
     "start_time": "2021-10-28T03:33:30.463825Z"
    },
    "hidden": true
   },
   "outputs": [
    {
     "data": {
      "text/plain": [
       "0.9760479041916168"
      ]
     },
     "execution_count": 48,
     "metadata": {},
     "output_type": "execute_result"
    }
   ],
   "source": [
    "ct.score(X_test_clean, y_test)"
   ]
  },
  {
   "cell_type": "markdown",
   "metadata": {
    "heading_collapsed": true
   },
   "source": [
    "# Automatically Searching with Grid Search"
   ]
  },
  {
   "cell_type": "markdown",
   "metadata": {
    "hidden": true
   },
   "source": [
    "It's not a bad idea to experiment with the values of your models' hyperparameters a bit as you're getting a feel for your models' performance. But there are more systematic ways of going about the search for optimal hyperparameters. One method of hyperparameter tuning is **grid searching**. "
   ]
  },
  {
   "cell_type": "markdown",
   "metadata": {
    "hidden": true
   },
   "source": [
    "The idea is to build multiple models with different hyperparameter values and then see which one performs the best. The hyperparameters and the values to try form a sort of *grid* along which we are looking for the best performance. For example:\n",
    "\n",
    "\n",
    "    1           | 'minkowski' | 'uniform'\n",
    "    3           | 'manhattan' | 'distance'\n",
    "    5           |\n",
    "    ______________________________________\n",
    "    n_neighbors | metric      | weights"
   ]
  },
  {
   "cell_type": "markdown",
   "metadata": {
    "hidden": true
   },
   "source": [
    "Scikit-Learn has a [`GridSearchCV`](https://scikit-learn.org/stable/modules/generated/sklearn.model_selection.GridSearchCV.html) class whose `fit()` method runs this procedure. Note that this can be quite computationally expensive since:\n",
    "\n",
    "- A model is constructed for each combination of hyperparameter values that we input; and\n",
    "- Each model is cross-validated."
   ]
  },
  {
   "cell_type": "code",
   "execution_count": 50,
   "metadata": {},
   "outputs": [
    {
     "data": {
      "text/plain": [
       "60"
      ]
     },
     "execution_count": 50,
     "metadata": {},
     "output_type": "execute_result"
    }
   ],
   "source": [
    "3 * 2 * 2 * 5"
   ]
  },
  {
   "cell_type": "markdown",
   "metadata": {
    "heading_collapsed": true,
    "hidden": true
   },
   "source": [
    "### `GridSearchCV`"
   ]
  },
  {
   "cell_type": "code",
   "execution_count": 51,
   "metadata": {
    "ExecuteTime": {
     "end_time": "2021-10-28T03:33:34.611150Z",
     "start_time": "2021-10-28T03:33:34.608300Z"
    },
    "hidden": true
   },
   "outputs": [],
   "source": [
    "# Define the parameter grid\n",
    "\n",
    "grid = {'n_neighbors': [1, 3, 5],\n",
    "       'metric': ['minkowski', 'manhattan'],\n",
    "       'weights': ['uniform', 'distance']}"
   ]
  },
  {
   "cell_type": "markdown",
   "metadata": {
    "hidden": true
   },
   "source": [
    "**Question: How many models will we be constructing with this grid?**"
   ]
  },
  {
   "cell_type": "code",
   "execution_count": 75,
   "metadata": {
    "ExecuteTime": {
     "end_time": "2021-10-28T03:33:35.802959Z",
     "start_time": "2021-10-28T03:33:35.800647Z"
    },
    "hidden": true
   },
   "outputs": [],
   "source": [
    "# Initialize the grid search object with five-fold cross-validation\n",
    "\n",
    "gs = GridSearchCV(estimator=knn_model, param_grid=grid, verbose=2)"
   ]
  },
  {
   "cell_type": "code",
   "execution_count": 76,
   "metadata": {
    "ExecuteTime": {
     "end_time": "2021-10-28T03:33:38.433413Z",
     "start_time": "2021-10-28T03:33:38.076112Z"
    },
    "hidden": true
   },
   "outputs": [
    {
     "name": "stdout",
     "output_type": "stream",
     "text": [
      "Fitting 5 folds for each of 12 candidates, totalling 60 fits\n",
      "[CV] metric=minkowski, n_neighbors=1, weights=uniform ................\n",
      "[CV] . metric=minkowski, n_neighbors=1, weights=uniform, total=   0.0s\n",
      "[CV] metric=minkowski, n_neighbors=1, weights=uniform ................\n",
      "[CV] . metric=minkowski, n_neighbors=1, weights=uniform, total=   0.0s\n",
      "[CV] metric=minkowski, n_neighbors=1, weights=uniform ................\n",
      "[CV] . metric=minkowski, n_neighbors=1, weights=uniform, total=   0.0s\n",
      "[CV] metric=minkowski, n_neighbors=1, weights=uniform ................\n",
      "[CV] . metric=minkowski, n_neighbors=1, weights=uniform, total=   0.0s\n",
      "[CV] metric=minkowski, n_neighbors=1, weights=uniform ................\n",
      "[CV] . metric=minkowski, n_neighbors=1, weights=uniform, total=   0.0s\n",
      "[CV] metric=minkowski, n_neighbors=1, weights=distance ...............\n",
      "[CV]  metric=minkowski, n_neighbors=1, weights=distance, total=   0.0s\n",
      "[CV] metric=minkowski, n_neighbors=1, weights=distance ...............\n",
      "[CV]  metric=minkowski, n_neighbors=1, weights=distance, total=   0.0s\n",
      "[CV] metric=minkowski, n_neighbors=1, weights=distance ...............\n",
      "[CV]  metric=minkowski, n_neighbors=1, weights=distance, total=   0.0s\n",
      "[CV] metric=minkowski, n_neighbors=1, weights=distance ...............\n",
      "[CV]  metric=minkowski, n_neighbors=1, weights=distance, total=   0.0s\n",
      "[CV] metric=minkowski, n_neighbors=1, weights=distance ...............\n",
      "[CV]  metric=minkowski, n_neighbors=1, weights=distance, total=   0.0s\n",
      "[CV] metric=minkowski, n_neighbors=3, weights=uniform ................\n",
      "[CV] . metric=minkowski, n_neighbors=3, weights=uniform, total=   0.0s\n",
      "[CV] metric=minkowski, n_neighbors=3, weights=uniform ................\n",
      "[CV] . metric=minkowski, n_neighbors=3, weights=uniform, total=   0.0s\n",
      "[CV] metric=minkowski, n_neighbors=3, weights=uniform ................\n",
      "[CV] . metric=minkowski, n_neighbors=3, weights=uniform, total=   0.0s\n",
      "[CV] metric=minkowski, n_neighbors=3, weights=uniform ................\n",
      "[CV] . metric=minkowski, n_neighbors=3, weights=uniform, total=   0.0s\n",
      "[CV] metric=minkowski, n_neighbors=3, weights=uniform ................\n",
      "[CV] . metric=minkowski, n_neighbors=3, weights=uniform, total=   0.0s\n",
      "[CV] metric=minkowski, n_neighbors=3, weights=distance ...............\n",
      "[CV]  metric=minkowski, n_neighbors=3, weights=distance, total=   0.0s\n",
      "[CV] metric=minkowski, n_neighbors=3, weights=distance ...............\n",
      "[CV]  metric=minkowski, n_neighbors=3, weights=distance, total=   0.0s\n",
      "[CV] metric=minkowski, n_neighbors=3, weights=distance ...............\n",
      "[CV]  metric=minkowski, n_neighbors=3, weights=distance, total=   0.0s\n",
      "[CV] metric=minkowski, n_neighbors=3, weights=distance ...............\n",
      "[CV]  metric=minkowski, n_neighbors=3, weights=distance, total=   0.0s\n",
      "[CV] metric=minkowski, n_neighbors=3, weights=distance ...............\n",
      "[CV]  metric=minkowski, n_neighbors=3, weights=distance, total=   0.0s\n",
      "[CV] metric=minkowski, n_neighbors=5, weights=uniform ................\n",
      "[CV] . metric=minkowski, n_neighbors=5, weights=uniform, total=   0.0s\n",
      "[CV] metric=minkowski, n_neighbors=5, weights=uniform ................\n",
      "[CV] . metric=minkowski, n_neighbors=5, weights=uniform, total=   0.0s\n",
      "[CV] metric=minkowski, n_neighbors=5, weights=uniform ................\n",
      "[CV] . metric=minkowski, n_neighbors=5, weights=uniform, total=   0.0s\n",
      "[CV] metric=minkowski, n_neighbors=5, weights=uniform ................\n",
      "[CV] . metric=minkowski, n_neighbors=5, weights=uniform, total=   0.0s\n",
      "[CV] metric=minkowski, n_neighbors=5, weights=uniform ................\n",
      "[CV] . metric=minkowski, n_neighbors=5, weights=uniform, total=   0.0s\n",
      "[CV] metric=minkowski, n_neighbors=5, weights=distance ...............\n",
      "[CV]  metric=minkowski, n_neighbors=5, weights=distance, total=   0.0s\n",
      "[CV] metric=minkowski, n_neighbors=5, weights=distance ...............\n",
      "[CV]  metric=minkowski, n_neighbors=5, weights=distance, total=   0.0s\n",
      "[CV] metric=minkowski, n_neighbors=5, weights=distance ...............\n",
      "[CV]  metric=minkowski, n_neighbors=5, weights=distance, total=   0.0s\n",
      "[CV] metric=minkowski, n_neighbors=5, weights=distance ...............\n",
      "[CV]  metric=minkowski, n_neighbors=5, weights=distance, total=   0.0s\n",
      "[CV] metric=minkowski, n_neighbors=5, weights=distance ...............\n",
      "[CV]  metric=minkowski, n_neighbors=5, weights=distance, total=   0.0s\n",
      "[CV] metric=manhattan, n_neighbors=1, weights=uniform ................\n",
      "[CV] . metric=manhattan, n_neighbors=1, weights=uniform, total=   0.0s\n",
      "[CV] metric=manhattan, n_neighbors=1, weights=uniform ................\n",
      "[CV] . metric=manhattan, n_neighbors=1, weights=uniform, total=   0.0s\n",
      "[CV] metric=manhattan, n_neighbors=1, weights=uniform ................\n",
      "[CV] . metric=manhattan, n_neighbors=1, weights=uniform, total=   0.0s\n",
      "[CV] metric=manhattan, n_neighbors=1, weights=uniform ................\n",
      "[CV] . metric=manhattan, n_neighbors=1, weights=uniform, total=   0.0s\n",
      "[CV] metric=manhattan, n_neighbors=1, weights=uniform ................\n",
      "[CV] . metric=manhattan, n_neighbors=1, weights=uniform, total=   0.0s\n",
      "[CV] metric=manhattan, n_neighbors=1, weights=distance ...............\n",
      "[CV]  metric=manhattan, n_neighbors=1, weights=distance, total=   0.0s\n",
      "[CV] metric=manhattan, n_neighbors=1, weights=distance ...............\n",
      "[CV]  metric=manhattan, n_neighbors=1, weights=distance, total=   0.0s\n",
      "[CV] metric=manhattan, n_neighbors=1, weights=distance ...............\n",
      "[CV]  metric=manhattan, n_neighbors=1, weights=distance, total=   0.0s\n",
      "[CV] metric=manhattan, n_neighbors=1, weights=distance ...............\n",
      "[CV]  metric=manhattan, n_neighbors=1, weights=distance, total=   0.0s\n",
      "[CV] metric=manhattan, n_neighbors=1, weights=distance ...............\n",
      "[CV]  metric=manhattan, n_neighbors=1, weights=distance, total=   0.0s\n",
      "[CV] metric=manhattan, n_neighbors=3, weights=uniform ................\n",
      "[CV] . metric=manhattan, n_neighbors=3, weights=uniform, total=   0.0s\n",
      "[CV] metric=manhattan, n_neighbors=3, weights=uniform ................\n",
      "[CV] . metric=manhattan, n_neighbors=3, weights=uniform, total=   0.0s\n",
      "[CV] metric=manhattan, n_neighbors=3, weights=uniform ................\n",
      "[CV] . metric=manhattan, n_neighbors=3, weights=uniform, total=   0.0s\n",
      "[CV] metric=manhattan, n_neighbors=3, weights=uniform ................\n",
      "[CV] . metric=manhattan, n_neighbors=3, weights=uniform, total=   0.0s\n",
      "[CV] metric=manhattan, n_neighbors=3, weights=uniform ................\n",
      "[CV] . metric=manhattan, n_neighbors=3, weights=uniform, total=   0.0s\n",
      "[CV] metric=manhattan, n_neighbors=3, weights=distance ...............\n",
      "[CV]  metric=manhattan, n_neighbors=3, weights=distance, total=   0.0s\n",
      "[CV] metric=manhattan, n_neighbors=3, weights=distance ...............\n"
     ]
    },
    {
     "name": "stderr",
     "output_type": "stream",
     "text": [
      "[Parallel(n_jobs=1)]: Using backend SequentialBackend with 1 concurrent workers.\n",
      "[Parallel(n_jobs=1)]: Done   1 out of   1 | elapsed:    0.0s remaining:    0.0s\n"
     ]
    },
    {
     "name": "stdout",
     "output_type": "stream",
     "text": [
      "[CV]  metric=manhattan, n_neighbors=3, weights=distance, total=   0.0s\n",
      "[CV] metric=manhattan, n_neighbors=3, weights=distance ...............\n",
      "[CV]  metric=manhattan, n_neighbors=3, weights=distance, total=   0.0s\n",
      "[CV] metric=manhattan, n_neighbors=3, weights=distance ...............\n",
      "[CV]  metric=manhattan, n_neighbors=3, weights=distance, total=   0.0s\n",
      "[CV] metric=manhattan, n_neighbors=3, weights=distance ...............\n",
      "[CV]  metric=manhattan, n_neighbors=3, weights=distance, total=   0.0s\n",
      "[CV] metric=manhattan, n_neighbors=5, weights=uniform ................\n",
      "[CV] . metric=manhattan, n_neighbors=5, weights=uniform, total=   0.0s\n",
      "[CV] metric=manhattan, n_neighbors=5, weights=uniform ................\n",
      "[CV] . metric=manhattan, n_neighbors=5, weights=uniform, total=   0.0s\n",
      "[CV] metric=manhattan, n_neighbors=5, weights=uniform ................\n",
      "[CV] . metric=manhattan, n_neighbors=5, weights=uniform, total=   0.0s\n",
      "[CV] metric=manhattan, n_neighbors=5, weights=uniform ................\n",
      "[CV] . metric=manhattan, n_neighbors=5, weights=uniform, total=   0.0s\n",
      "[CV] metric=manhattan, n_neighbors=5, weights=uniform ................\n",
      "[CV] . metric=manhattan, n_neighbors=5, weights=uniform, total=   0.0s\n",
      "[CV] metric=manhattan, n_neighbors=5, weights=distance ...............\n",
      "[CV]  metric=manhattan, n_neighbors=5, weights=distance, total=   0.0s\n",
      "[CV] metric=manhattan, n_neighbors=5, weights=distance ...............\n",
      "[CV]  metric=manhattan, n_neighbors=5, weights=distance, total=   0.0s\n",
      "[CV] metric=manhattan, n_neighbors=5, weights=distance ...............\n",
      "[CV]  metric=manhattan, n_neighbors=5, weights=distance, total=   0.0s\n",
      "[CV] metric=manhattan, n_neighbors=5, weights=distance ...............\n",
      "[CV]  metric=manhattan, n_neighbors=5, weights=distance, total=   0.0s\n",
      "[CV] metric=manhattan, n_neighbors=5, weights=distance ...............\n",
      "[CV]  metric=manhattan, n_neighbors=5, weights=distance, total=   0.0s\n"
     ]
    },
    {
     "name": "stderr",
     "output_type": "stream",
     "text": [
      "[Parallel(n_jobs=1)]: Done  60 out of  60 | elapsed:    0.2s finished\n"
     ]
    },
    {
     "data": {
      "text/plain": [
       "GridSearchCV(estimator=KNeighborsClassifier(),\n",
       "             param_grid={'metric': ['minkowski', 'manhattan'],\n",
       "                         'n_neighbors': [1, 3, 5],\n",
       "                         'weights': ['uniform', 'distance']},\n",
       "             verbose=2)"
      ]
     },
     "execution_count": 76,
     "metadata": {},
     "output_type": "execute_result"
    }
   ],
   "source": [
    "gs.fit(X_train_clean, y_train)"
   ]
  },
  {
   "cell_type": "code",
   "execution_count": 66,
   "metadata": {
    "ExecuteTime": {
     "end_time": "2021-10-28T03:33:38.438408Z",
     "start_time": "2021-10-28T03:33:38.435309Z"
    },
    "hidden": true
   },
   "outputs": [
    {
     "data": {
      "text/plain": [
       "{'metric': 'minkowski', 'n_neighbors': 1, 'weights': 'uniform'}"
      ]
     },
     "execution_count": 66,
     "metadata": {},
     "output_type": "execute_result"
    }
   ],
   "source": [
    "gs.best_params_"
   ]
  },
  {
   "cell_type": "code",
   "execution_count": 67,
   "metadata": {
    "ExecuteTime": {
     "end_time": "2021-10-28T03:33:38.739396Z",
     "start_time": "2021-10-28T03:33:38.736044Z"
    },
    "hidden": true
   },
   "outputs": [
    {
     "data": {
      "text/plain": [
       "0.9939393939393939"
      ]
     },
     "execution_count": 67,
     "metadata": {},
     "output_type": "execute_result"
    }
   ],
   "source": [
    "gs.best_score_"
   ]
  },
  {
   "cell_type": "code",
   "execution_count": 69,
   "metadata": {
    "ExecuteTime": {
     "end_time": "2021-10-28T03:33:40.999187Z",
     "start_time": "2021-10-28T03:33:40.984761Z"
    },
    "hidden": true,
    "scrolled": true
   },
   "outputs": [
    {
     "data": {
      "text/plain": [
       "0.9940119760479041"
      ]
     },
     "execution_count": 69,
     "metadata": {},
     "output_type": "execute_result"
    }
   ],
   "source": [
    "gs.best_estimator_.score(X_test_clean, y_test)"
   ]
  },
  {
   "cell_type": "code",
   "execution_count": 70,
   "metadata": {},
   "outputs": [],
   "source": [
    "final_model = gs.best_index_"
   ]
  },
  {
   "cell_type": "code",
   "execution_count": 71,
   "metadata": {
    "ExecuteTime": {
     "end_time": "2021-10-28T03:33:41.214030Z",
     "start_time": "2021-10-28T03:33:41.205532Z"
    },
    "hidden": true,
    "scrolled": true
   },
   "outputs": [
    {
     "data": {
      "text/plain": [
       "{'mean_fit_time': array([0.00337934, 0.00198727, 0.00152802, 0.00124826, 0.00111966,\n",
       "        0.00124803, 0.00111523, 0.00117135, 0.00118923, 0.00114727,\n",
       "        0.00113935, 0.00127907]),\n",
       " 'std_fit_time': array([1.34162665e-03, 2.63550205e-04, 1.48674584e-04, 8.18745647e-05,\n",
       "        6.81045332e-05, 2.18742860e-04, 9.29686462e-05, 8.12742324e-05,\n",
       "        1.89670454e-04, 7.16400819e-05, 2.42463138e-05, 2.58516306e-04]),\n",
       " 'mean_score_time': array([0.00521016, 0.00197277, 0.0026041 , 0.00133886, 0.00182695,\n",
       "        0.00136561, 0.00176663, 0.00127077, 0.00187721, 0.00127897,\n",
       "        0.00189958, 0.00161119]),\n",
       " 'std_score_time': array([1.29782156e-03, 2.32171253e-04, 2.91774183e-04, 6.90849008e-05,\n",
       "        1.33961661e-04, 4.68436146e-05, 1.03669750e-04, 1.11838900e-04,\n",
       "        6.71536052e-05, 9.93074029e-05, 2.21017166e-04, 3.20256182e-04]),\n",
       " 'param_metric': masked_array(data=['minkowski', 'minkowski', 'minkowski', 'minkowski',\n",
       "                    'minkowski', 'minkowski', 'manhattan', 'manhattan',\n",
       "                    'manhattan', 'manhattan', 'manhattan', 'manhattan'],\n",
       "              mask=[False, False, False, False, False, False, False, False,\n",
       "                    False, False, False, False],\n",
       "        fill_value='?',\n",
       "             dtype=object),\n",
       " 'param_n_neighbors': masked_array(data=[1, 1, 3, 3, 5, 5, 1, 1, 3, 3, 5, 5],\n",
       "              mask=[False, False, False, False, False, False, False, False,\n",
       "                    False, False, False, False],\n",
       "        fill_value='?',\n",
       "             dtype=object),\n",
       " 'param_weights': masked_array(data=['uniform', 'distance', 'uniform', 'distance',\n",
       "                    'uniform', 'distance', 'uniform', 'distance',\n",
       "                    'uniform', 'distance', 'uniform', 'distance'],\n",
       "              mask=[False, False, False, False, False, False, False, False,\n",
       "                    False, False, False, False],\n",
       "        fill_value='?',\n",
       "             dtype=object),\n",
       " 'params': [{'metric': 'minkowski', 'n_neighbors': 1, 'weights': 'uniform'},\n",
       "  {'metric': 'minkowski', 'n_neighbors': 1, 'weights': 'distance'},\n",
       "  {'metric': 'minkowski', 'n_neighbors': 3, 'weights': 'uniform'},\n",
       "  {'metric': 'minkowski', 'n_neighbors': 3, 'weights': 'distance'},\n",
       "  {'metric': 'minkowski', 'n_neighbors': 5, 'weights': 'uniform'},\n",
       "  {'metric': 'minkowski', 'n_neighbors': 5, 'weights': 'distance'},\n",
       "  {'metric': 'manhattan', 'n_neighbors': 1, 'weights': 'uniform'},\n",
       "  {'metric': 'manhattan', 'n_neighbors': 1, 'weights': 'distance'},\n",
       "  {'metric': 'manhattan', 'n_neighbors': 3, 'weights': 'uniform'},\n",
       "  {'metric': 'manhattan', 'n_neighbors': 3, 'weights': 'distance'},\n",
       "  {'metric': 'manhattan', 'n_neighbors': 5, 'weights': 'uniform'},\n",
       "  {'metric': 'manhattan', 'n_neighbors': 5, 'weights': 'distance'}],\n",
       " 'split0_test_score': array([1., 1., 1., 1., 1., 1., 1., 1., 1., 1., 1., 1.]),\n",
       " 'split1_test_score': array([1., 1., 1., 1., 1., 1., 1., 1., 1., 1., 1., 1.]),\n",
       " 'split2_test_score': array([0.96969697, 0.96969697, 0.96969697, 0.96969697, 0.96969697,\n",
       "        0.96969697, 0.96969697, 0.96969697, 0.96969697, 0.96969697,\n",
       "        0.96969697, 0.96969697]),\n",
       " 'split3_test_score': array([1., 1., 1., 1., 1., 1., 1., 1., 1., 1., 1., 1.]),\n",
       " 'split4_test_score': array([1., 1., 1., 1., 1., 1., 1., 1., 1., 1., 1., 1.]),\n",
       " 'mean_test_score': array([0.99393939, 0.99393939, 0.99393939, 0.99393939, 0.99393939,\n",
       "        0.99393939, 0.99393939, 0.99393939, 0.99393939, 0.99393939,\n",
       "        0.99393939, 0.99393939]),\n",
       " 'std_test_score': array([0.01212121, 0.01212121, 0.01212121, 0.01212121, 0.01212121,\n",
       "        0.01212121, 0.01212121, 0.01212121, 0.01212121, 0.01212121,\n",
       "        0.01212121, 0.01212121]),\n",
       " 'rank_test_score': array([1, 1, 1, 1, 1, 1, 1, 1, 1, 1, 1, 1], dtype=int32)}"
      ]
     },
     "execution_count": 71,
     "metadata": {},
     "output_type": "execute_result"
    }
   ],
   "source": [
    "gs.cv_results_"
   ]
  },
  {
   "cell_type": "code",
   "execution_count": 72,
   "metadata": {
    "ExecuteTime": {
     "end_time": "2021-10-28T03:33:41.818645Z",
     "start_time": "2021-10-28T03:33:41.790982Z"
    },
    "hidden": true
   },
   "outputs": [
    {
     "data": {
      "text/html": [
       "<div>\n",
       "<style scoped>\n",
       "    .dataframe tbody tr th:only-of-type {\n",
       "        vertical-align: middle;\n",
       "    }\n",
       "\n",
       "    .dataframe tbody tr th {\n",
       "        vertical-align: top;\n",
       "    }\n",
       "\n",
       "    .dataframe thead th {\n",
       "        text-align: right;\n",
       "    }\n",
       "</style>\n",
       "<table border=\"1\" class=\"dataframe\">\n",
       "  <thead>\n",
       "    <tr style=\"text-align: right;\">\n",
       "      <th></th>\n",
       "      <th>mean_fit_time</th>\n",
       "      <th>std_fit_time</th>\n",
       "      <th>mean_score_time</th>\n",
       "      <th>std_score_time</th>\n",
       "      <th>param_metric</th>\n",
       "      <th>param_n_neighbors</th>\n",
       "      <th>param_weights</th>\n",
       "      <th>params</th>\n",
       "      <th>split0_test_score</th>\n",
       "      <th>split1_test_score</th>\n",
       "      <th>split2_test_score</th>\n",
       "      <th>split3_test_score</th>\n",
       "      <th>split4_test_score</th>\n",
       "      <th>mean_test_score</th>\n",
       "      <th>std_test_score</th>\n",
       "      <th>rank_test_score</th>\n",
       "    </tr>\n",
       "  </thead>\n",
       "  <tbody>\n",
       "    <tr>\n",
       "      <th>0</th>\n",
       "      <td>0.003379</td>\n",
       "      <td>0.001342</td>\n",
       "      <td>0.005210</td>\n",
       "      <td>0.001298</td>\n",
       "      <td>minkowski</td>\n",
       "      <td>1</td>\n",
       "      <td>uniform</td>\n",
       "      <td>{'metric': 'minkowski', 'n_neighbors': 1, 'wei...</td>\n",
       "      <td>1.0</td>\n",
       "      <td>1.0</td>\n",
       "      <td>0.969697</td>\n",
       "      <td>1.0</td>\n",
       "      <td>1.0</td>\n",
       "      <td>0.993939</td>\n",
       "      <td>0.012121</td>\n",
       "      <td>1</td>\n",
       "    </tr>\n",
       "    <tr>\n",
       "      <th>1</th>\n",
       "      <td>0.001987</td>\n",
       "      <td>0.000264</td>\n",
       "      <td>0.001973</td>\n",
       "      <td>0.000232</td>\n",
       "      <td>minkowski</td>\n",
       "      <td>1</td>\n",
       "      <td>distance</td>\n",
       "      <td>{'metric': 'minkowski', 'n_neighbors': 1, 'wei...</td>\n",
       "      <td>1.0</td>\n",
       "      <td>1.0</td>\n",
       "      <td>0.969697</td>\n",
       "      <td>1.0</td>\n",
       "      <td>1.0</td>\n",
       "      <td>0.993939</td>\n",
       "      <td>0.012121</td>\n",
       "      <td>1</td>\n",
       "    </tr>\n",
       "    <tr>\n",
       "      <th>2</th>\n",
       "      <td>0.001528</td>\n",
       "      <td>0.000149</td>\n",
       "      <td>0.002604</td>\n",
       "      <td>0.000292</td>\n",
       "      <td>minkowski</td>\n",
       "      <td>3</td>\n",
       "      <td>uniform</td>\n",
       "      <td>{'metric': 'minkowski', 'n_neighbors': 3, 'wei...</td>\n",
       "      <td>1.0</td>\n",
       "      <td>1.0</td>\n",
       "      <td>0.969697</td>\n",
       "      <td>1.0</td>\n",
       "      <td>1.0</td>\n",
       "      <td>0.993939</td>\n",
       "      <td>0.012121</td>\n",
       "      <td>1</td>\n",
       "    </tr>\n",
       "    <tr>\n",
       "      <th>3</th>\n",
       "      <td>0.001248</td>\n",
       "      <td>0.000082</td>\n",
       "      <td>0.001339</td>\n",
       "      <td>0.000069</td>\n",
       "      <td>minkowski</td>\n",
       "      <td>3</td>\n",
       "      <td>distance</td>\n",
       "      <td>{'metric': 'minkowski', 'n_neighbors': 3, 'wei...</td>\n",
       "      <td>1.0</td>\n",
       "      <td>1.0</td>\n",
       "      <td>0.969697</td>\n",
       "      <td>1.0</td>\n",
       "      <td>1.0</td>\n",
       "      <td>0.993939</td>\n",
       "      <td>0.012121</td>\n",
       "      <td>1</td>\n",
       "    </tr>\n",
       "    <tr>\n",
       "      <th>4</th>\n",
       "      <td>0.001120</td>\n",
       "      <td>0.000068</td>\n",
       "      <td>0.001827</td>\n",
       "      <td>0.000134</td>\n",
       "      <td>minkowski</td>\n",
       "      <td>5</td>\n",
       "      <td>uniform</td>\n",
       "      <td>{'metric': 'minkowski', 'n_neighbors': 5, 'wei...</td>\n",
       "      <td>1.0</td>\n",
       "      <td>1.0</td>\n",
       "      <td>0.969697</td>\n",
       "      <td>1.0</td>\n",
       "      <td>1.0</td>\n",
       "      <td>0.993939</td>\n",
       "      <td>0.012121</td>\n",
       "      <td>1</td>\n",
       "    </tr>\n",
       "    <tr>\n",
       "      <th>5</th>\n",
       "      <td>0.001248</td>\n",
       "      <td>0.000219</td>\n",
       "      <td>0.001366</td>\n",
       "      <td>0.000047</td>\n",
       "      <td>minkowski</td>\n",
       "      <td>5</td>\n",
       "      <td>distance</td>\n",
       "      <td>{'metric': 'minkowski', 'n_neighbors': 5, 'wei...</td>\n",
       "      <td>1.0</td>\n",
       "      <td>1.0</td>\n",
       "      <td>0.969697</td>\n",
       "      <td>1.0</td>\n",
       "      <td>1.0</td>\n",
       "      <td>0.993939</td>\n",
       "      <td>0.012121</td>\n",
       "      <td>1</td>\n",
       "    </tr>\n",
       "    <tr>\n",
       "      <th>6</th>\n",
       "      <td>0.001115</td>\n",
       "      <td>0.000093</td>\n",
       "      <td>0.001767</td>\n",
       "      <td>0.000104</td>\n",
       "      <td>manhattan</td>\n",
       "      <td>1</td>\n",
       "      <td>uniform</td>\n",
       "      <td>{'metric': 'manhattan', 'n_neighbors': 1, 'wei...</td>\n",
       "      <td>1.0</td>\n",
       "      <td>1.0</td>\n",
       "      <td>0.969697</td>\n",
       "      <td>1.0</td>\n",
       "      <td>1.0</td>\n",
       "      <td>0.993939</td>\n",
       "      <td>0.012121</td>\n",
       "      <td>1</td>\n",
       "    </tr>\n",
       "    <tr>\n",
       "      <th>7</th>\n",
       "      <td>0.001171</td>\n",
       "      <td>0.000081</td>\n",
       "      <td>0.001271</td>\n",
       "      <td>0.000112</td>\n",
       "      <td>manhattan</td>\n",
       "      <td>1</td>\n",
       "      <td>distance</td>\n",
       "      <td>{'metric': 'manhattan', 'n_neighbors': 1, 'wei...</td>\n",
       "      <td>1.0</td>\n",
       "      <td>1.0</td>\n",
       "      <td>0.969697</td>\n",
       "      <td>1.0</td>\n",
       "      <td>1.0</td>\n",
       "      <td>0.993939</td>\n",
       "      <td>0.012121</td>\n",
       "      <td>1</td>\n",
       "    </tr>\n",
       "    <tr>\n",
       "      <th>8</th>\n",
       "      <td>0.001189</td>\n",
       "      <td>0.000190</td>\n",
       "      <td>0.001877</td>\n",
       "      <td>0.000067</td>\n",
       "      <td>manhattan</td>\n",
       "      <td>3</td>\n",
       "      <td>uniform</td>\n",
       "      <td>{'metric': 'manhattan', 'n_neighbors': 3, 'wei...</td>\n",
       "      <td>1.0</td>\n",
       "      <td>1.0</td>\n",
       "      <td>0.969697</td>\n",
       "      <td>1.0</td>\n",
       "      <td>1.0</td>\n",
       "      <td>0.993939</td>\n",
       "      <td>0.012121</td>\n",
       "      <td>1</td>\n",
       "    </tr>\n",
       "    <tr>\n",
       "      <th>9</th>\n",
       "      <td>0.001147</td>\n",
       "      <td>0.000072</td>\n",
       "      <td>0.001279</td>\n",
       "      <td>0.000099</td>\n",
       "      <td>manhattan</td>\n",
       "      <td>3</td>\n",
       "      <td>distance</td>\n",
       "      <td>{'metric': 'manhattan', 'n_neighbors': 3, 'wei...</td>\n",
       "      <td>1.0</td>\n",
       "      <td>1.0</td>\n",
       "      <td>0.969697</td>\n",
       "      <td>1.0</td>\n",
       "      <td>1.0</td>\n",
       "      <td>0.993939</td>\n",
       "      <td>0.012121</td>\n",
       "      <td>1</td>\n",
       "    </tr>\n",
       "    <tr>\n",
       "      <th>10</th>\n",
       "      <td>0.001139</td>\n",
       "      <td>0.000024</td>\n",
       "      <td>0.001900</td>\n",
       "      <td>0.000221</td>\n",
       "      <td>manhattan</td>\n",
       "      <td>5</td>\n",
       "      <td>uniform</td>\n",
       "      <td>{'metric': 'manhattan', 'n_neighbors': 5, 'wei...</td>\n",
       "      <td>1.0</td>\n",
       "      <td>1.0</td>\n",
       "      <td>0.969697</td>\n",
       "      <td>1.0</td>\n",
       "      <td>1.0</td>\n",
       "      <td>0.993939</td>\n",
       "      <td>0.012121</td>\n",
       "      <td>1</td>\n",
       "    </tr>\n",
       "    <tr>\n",
       "      <th>11</th>\n",
       "      <td>0.001279</td>\n",
       "      <td>0.000259</td>\n",
       "      <td>0.001611</td>\n",
       "      <td>0.000320</td>\n",
       "      <td>manhattan</td>\n",
       "      <td>5</td>\n",
       "      <td>distance</td>\n",
       "      <td>{'metric': 'manhattan', 'n_neighbors': 5, 'wei...</td>\n",
       "      <td>1.0</td>\n",
       "      <td>1.0</td>\n",
       "      <td>0.969697</td>\n",
       "      <td>1.0</td>\n",
       "      <td>1.0</td>\n",
       "      <td>0.993939</td>\n",
       "      <td>0.012121</td>\n",
       "      <td>1</td>\n",
       "    </tr>\n",
       "  </tbody>\n",
       "</table>\n",
       "</div>"
      ],
      "text/plain": [
       "    mean_fit_time  std_fit_time  mean_score_time  std_score_time param_metric  \\\n",
       "0        0.003379      0.001342         0.005210        0.001298    minkowski   \n",
       "1        0.001987      0.000264         0.001973        0.000232    minkowski   \n",
       "2        0.001528      0.000149         0.002604        0.000292    minkowski   \n",
       "3        0.001248      0.000082         0.001339        0.000069    minkowski   \n",
       "4        0.001120      0.000068         0.001827        0.000134    minkowski   \n",
       "5        0.001248      0.000219         0.001366        0.000047    minkowski   \n",
       "6        0.001115      0.000093         0.001767        0.000104    manhattan   \n",
       "7        0.001171      0.000081         0.001271        0.000112    manhattan   \n",
       "8        0.001189      0.000190         0.001877        0.000067    manhattan   \n",
       "9        0.001147      0.000072         0.001279        0.000099    manhattan   \n",
       "10       0.001139      0.000024         0.001900        0.000221    manhattan   \n",
       "11       0.001279      0.000259         0.001611        0.000320    manhattan   \n",
       "\n",
       "   param_n_neighbors param_weights  \\\n",
       "0                  1       uniform   \n",
       "1                  1      distance   \n",
       "2                  3       uniform   \n",
       "3                  3      distance   \n",
       "4                  5       uniform   \n",
       "5                  5      distance   \n",
       "6                  1       uniform   \n",
       "7                  1      distance   \n",
       "8                  3       uniform   \n",
       "9                  3      distance   \n",
       "10                 5       uniform   \n",
       "11                 5      distance   \n",
       "\n",
       "                                               params  split0_test_score  \\\n",
       "0   {'metric': 'minkowski', 'n_neighbors': 1, 'wei...                1.0   \n",
       "1   {'metric': 'minkowski', 'n_neighbors': 1, 'wei...                1.0   \n",
       "2   {'metric': 'minkowski', 'n_neighbors': 3, 'wei...                1.0   \n",
       "3   {'metric': 'minkowski', 'n_neighbors': 3, 'wei...                1.0   \n",
       "4   {'metric': 'minkowski', 'n_neighbors': 5, 'wei...                1.0   \n",
       "5   {'metric': 'minkowski', 'n_neighbors': 5, 'wei...                1.0   \n",
       "6   {'metric': 'manhattan', 'n_neighbors': 1, 'wei...                1.0   \n",
       "7   {'metric': 'manhattan', 'n_neighbors': 1, 'wei...                1.0   \n",
       "8   {'metric': 'manhattan', 'n_neighbors': 3, 'wei...                1.0   \n",
       "9   {'metric': 'manhattan', 'n_neighbors': 3, 'wei...                1.0   \n",
       "10  {'metric': 'manhattan', 'n_neighbors': 5, 'wei...                1.0   \n",
       "11  {'metric': 'manhattan', 'n_neighbors': 5, 'wei...                1.0   \n",
       "\n",
       "    split1_test_score  split2_test_score  split3_test_score  \\\n",
       "0                 1.0           0.969697                1.0   \n",
       "1                 1.0           0.969697                1.0   \n",
       "2                 1.0           0.969697                1.0   \n",
       "3                 1.0           0.969697                1.0   \n",
       "4                 1.0           0.969697                1.0   \n",
       "5                 1.0           0.969697                1.0   \n",
       "6                 1.0           0.969697                1.0   \n",
       "7                 1.0           0.969697                1.0   \n",
       "8                 1.0           0.969697                1.0   \n",
       "9                 1.0           0.969697                1.0   \n",
       "10                1.0           0.969697                1.0   \n",
       "11                1.0           0.969697                1.0   \n",
       "\n",
       "    split4_test_score  mean_test_score  std_test_score  rank_test_score  \n",
       "0                 1.0         0.993939        0.012121                1  \n",
       "1                 1.0         0.993939        0.012121                1  \n",
       "2                 1.0         0.993939        0.012121                1  \n",
       "3                 1.0         0.993939        0.012121                1  \n",
       "4                 1.0         0.993939        0.012121                1  \n",
       "5                 1.0         0.993939        0.012121                1  \n",
       "6                 1.0         0.993939        0.012121                1  \n",
       "7                 1.0         0.993939        0.012121                1  \n",
       "8                 1.0         0.993939        0.012121                1  \n",
       "9                 1.0         0.993939        0.012121                1  \n",
       "10                1.0         0.993939        0.012121                1  \n",
       "11                1.0         0.993939        0.012121                1  "
      ]
     },
     "execution_count": 72,
     "metadata": {},
     "output_type": "execute_result"
    }
   ],
   "source": [
    "pd.DataFrame(gs.cv_results_)"
   ]
  },
  {
   "cell_type": "markdown",
   "metadata": {
    "heading_collapsed": true,
    "hidden": true
   },
   "source": [
    "### Choice of Grid Values"
   ]
  },
  {
   "cell_type": "markdown",
   "metadata": {
    "hidden": true
   },
   "source": [
    "Which values should you pick for your grid? Intuitively, you should try both \"large\" and \"small\" values, but of course what counts as large and small will really depend on the type of hyperparameter."
   ]
  },
  {
   "cell_type": "markdown",
   "metadata": {
    "hidden": true
   },
   "source": [
    "- ALWAYS INCLUDE THE DEFAULT IN YOUR FIRST SEARCH\n",
    "- For a k-nearest neighbors model, 1 or 3 would be a small value for the number of neighbors and 15 or 17 would be a large value.\n",
    "- For a decision tree model, what counts as a small `max_depth` will really depend on the size of your training data. A `max_depth` of 5 would likely have little effect on a very small dataset but, at the same time, it would probably significantly decrease the variance of a model where the dataset is large.\n",
    "- For a logistic regression's regularization constant, you may want to try a set of values that are exponentially separated, like \\[1, 10, 100, 1000\\].\n",
    "- **If a grid search finds optimal values at the ends of your hyperparameter ranges, you might try another grid search with more extreme values.**"
   ]
  },
  {
   "cell_type": "code",
   "execution_count": 77,
   "metadata": {},
   "outputs": [],
   "source": [
    "#n_neighbors_grid = [1, 3, 5, 7, 9] - best param was 9\n",
    "#next grid search might run somehting like [9, 11, 13, 15, 17]"
   ]
  },
  {
   "cell_type": "markdown",
   "metadata": {
    "heading_collapsed": true,
    "hidden": true
   },
   "source": [
    "### Exercise"
   ]
  },
  {
   "cell_type": "markdown",
   "metadata": {
    "hidden": true
   },
   "source": [
    "Do a grid search on a **decision tree model** of penguin species. What are the optimal values for the hyperparameters you've chosen?"
   ]
  },
  {
   "cell_type": "code",
   "execution_count": null,
   "metadata": {
    "hidden": true
   },
   "outputs": [],
   "source": [
    "\n",
    "\n"
   ]
  },
  {
   "cell_type": "markdown",
   "metadata": {
    "heading_collapsed": true
   },
   "source": [
    "# Better Process: Pipelines"
   ]
  },
  {
   "cell_type": "markdown",
   "metadata": {
    "hidden": true
   },
   "source": [
    "> **Pipelines** can keep our code neat and clean all the way from gathering & cleaning our data, to creating models & fine-tuning them!"
   ]
  },
  {
   "cell_type": "markdown",
   "metadata": {
    "hidden": true
   },
   "source": [
    "![](https://imgs.xkcd.com/comics/data_pipeline.png)"
   ]
  },
  {
   "cell_type": "markdown",
   "metadata": {
    "hidden": true
   },
   "source": [
    "The `Pipeline` class from [Scikit-Learn's API](https://scikit-learn.org/stable/modules/generated/sklearn.pipeline.Pipeline.html) is especially convenient since it allows us to use our other Estimators that we know and love!"
   ]
  },
  {
   "cell_type": "markdown",
   "metadata": {
    "heading_collapsed": true,
    "hidden": true
   },
   "source": [
    "## Advantages of `Pipeline`"
   ]
  },
  {
   "cell_type": "markdown",
   "metadata": {
    "heading_collapsed": true,
    "hidden": true
   },
   "source": [
    "### Reduces Complexity"
   ]
  },
  {
   "cell_type": "markdown",
   "metadata": {
    "hidden": true
   },
   "source": [
    "> You can focus on particular parts of the pipeline one at a time and debug or adjust parts as needed."
   ]
  },
  {
   "cell_type": "markdown",
   "metadata": {
    "heading_collapsed": true,
    "hidden": true
   },
   "source": [
    "### Convenient"
   ]
  },
  {
   "cell_type": "markdown",
   "metadata": {
    "hidden": true
   },
   "source": [
    "> The pipeline summarizes your fine-detail steps. That way you can focus on the big-picture aspects."
   ]
  },
  {
   "cell_type": "markdown",
   "metadata": {
    "heading_collapsed": true,
    "hidden": true
   },
   "source": [
    "### Flexible"
   ]
  },
  {
   "cell_type": "markdown",
   "metadata": {
    "hidden": true
   },
   "source": [
    "> You can use pipelines with different models and with GridSearch."
   ]
  },
  {
   "cell_type": "markdown",
   "metadata": {
    "heading_collapsed": true,
    "hidden": true
   },
   "source": [
    "### Prevent Mistakes"
   ]
  },
  {
   "cell_type": "markdown",
   "metadata": {
    "hidden": true
   },
   "source": [
    "> We can focus on one section at a time.\n",
    ">\n",
    "> We also can ensure data leakage between our training and doesn't occur between our training dataset and validation/testing datasets!"
   ]
  },
  {
   "cell_type": "markdown",
   "metadata": {
    "heading_collapsed": true,
    "hidden": true
   },
   "source": [
    "## Example of Using `Pipeline`"
   ]
  },
  {
   "cell_type": "code",
   "execution_count": 78,
   "metadata": {
    "ExecuteTime": {
     "end_time": "2021-10-28T03:33:53.002370Z",
     "start_time": "2021-10-28T03:33:52.905962Z"
    },
    "hidden": true
   },
   "outputs": [],
   "source": [
    "# Getting some data\n",
    "from sklearn import datasets\n",
    "\n",
    "iris = datasets.load_iris()\n",
    "X = iris.data\n",
    "y = iris.target\n",
    "\n",
    "# Split\n",
    "X_train, X_test, y_train, y_test = train_test_split(X, y, test_size=0.2, \n",
    "                                                    random_state=27)"
   ]
  },
  {
   "cell_type": "markdown",
   "metadata": {
    "heading_collapsed": true,
    "hidden": true
   },
   "source": [
    "### Without the Pipeline class"
   ]
  },
  {
   "cell_type": "code",
   "execution_count": 79,
   "metadata": {
    "ExecuteTime": {
     "end_time": "2021-10-28T03:33:54.664937Z",
     "start_time": "2021-10-28T03:33:54.657819Z"
    },
    "hidden": true
   },
   "outputs": [
    {
     "name": "stdout",
     "output_type": "stream",
     "text": [
      "[2 0 2 2 1 1 1 2 2 0 1 1 0 1 1 1 0 2 2 2 1 0 1 0 2 2 1 0 1 2]\n"
     ]
    }
   ],
   "source": [
    "# Define transformers (will adjust/massage the data)\n",
    "imputer = SimpleImputer(strategy=\"median\") # replaces missing values\n",
    "std_scaler = StandardScaler() # scales the data\n",
    "\n",
    "# Define the classifier (predictor) to train\n",
    "rf_clf = DecisionTreeClassifier(random_state=42)\n",
    "\n",
    "# Have the classifer (and full pipeline) learn/train/fit from the data\n",
    "X_train_filled = imputer.fit_transform(X_train)\n",
    "X_train_scaled = std_scaler.fit_transform(X_train_filled)\n",
    "rf_clf.fit(X_train_scaled, y_train)\n",
    "\n",
    "# Predict using the trained classifier (still need to do the transformations)\n",
    "X_test_filled = imputer.transform(X_test)\n",
    "X_test_scaled = std_scaler.transform(X_test_filled)\n",
    "y_pred = rf_clf.predict(X_test_scaled)\n",
    "print(y_pred)"
   ]
  },
  {
   "cell_type": "markdown",
   "metadata": {
    "hidden": true
   },
   "source": [
    "> Note that if we were to add more steps in this process, we'd have to change both the *training* and *testing* processes."
   ]
  },
  {
   "cell_type": "markdown",
   "metadata": {
    "heading_collapsed": true,
    "hidden": true
   },
   "source": [
    "### With `Pipeline` Class"
   ]
  },
  {
   "cell_type": "code",
   "execution_count": 80,
   "metadata": {
    "ExecuteTime": {
     "end_time": "2021-10-28T03:33:58.205429Z",
     "start_time": "2021-10-28T03:33:58.198897Z"
    },
    "hidden": true
   },
   "outputs": [
    {
     "name": "stdout",
     "output_type": "stream",
     "text": [
      "[2 0 2 2 1 1 1 2 2 0 1 1 0 1 1 1 0 2 2 2 1 0 1 0 2 2 1 0 1 2]\n"
     ]
    }
   ],
   "source": [
    "pipeline = Pipeline([\n",
    "        ('imputer', SimpleImputer(strategy=\"median\")), \n",
    "        ('std_scaler', StandardScaler()),\n",
    "        ('rf_clf', DecisionTreeClassifier(random_state=42)),\n",
    "])\n",
    "\n",
    "\n",
    "# Train the pipeline (tranformations & predictor)\n",
    "pipeline.fit(X_train, y_train)\n",
    "\n",
    "# Predict using the pipeline (includes the transfomers & trained predictor)\n",
    "predicted = pipeline.predict(X_test)\n",
    "print(predicted)"
   ]
  },
  {
   "cell_type": "code",
   "execution_count": 81,
   "metadata": {
    "scrolled": true
   },
   "outputs": [
    {
     "data": {
      "text/plain": [
       "SimpleImputer(strategy='median')"
      ]
     },
     "execution_count": 81,
     "metadata": {},
     "output_type": "execute_result"
    }
   ],
   "source": [
    "pipeline['imputer']"
   ]
  },
  {
   "cell_type": "code",
   "execution_count": 83,
   "metadata": {},
   "outputs": [
    {
     "data": {
      "text/plain": [
       "{'imputer': SimpleImputer(strategy='median'),\n",
       " 'std_scaler': StandardScaler(),\n",
       " 'rf_clf': DecisionTreeClassifier(random_state=42)}"
      ]
     },
     "execution_count": 83,
     "metadata": {},
     "output_type": "execute_result"
    }
   ],
   "source": [
    "pipeline.named_steps"
   ]
  },
  {
   "cell_type": "code",
   "execution_count": 85,
   "metadata": {},
   "outputs": [
    {
     "data": {
      "text/plain": [
       "array([0.        , 0.03338202, 0.55667565, 0.40994234])"
      ]
     },
     "execution_count": 85,
     "metadata": {},
     "output_type": "execute_result"
    }
   ],
   "source": [
    "pipeline['rf_clf'].feature_importances_"
   ]
  },
  {
   "cell_type": "markdown",
   "metadata": {
    "hidden": true
   },
   "source": [
    "> If we need to change our process, we change it _just once_ in the Pipeline"
   ]
  },
  {
   "cell_type": "markdown",
   "metadata": {
    "heading_collapsed": true,
    "hidden": true
   },
   "source": [
    "## Grid Searching a Pipeline"
   ]
  },
  {
   "cell_type": "markdown",
   "metadata": {
    "hidden": true
   },
   "source": [
    "> Let's first get our data prepared like we did before"
   ]
  },
  {
   "cell_type": "code",
   "execution_count": 86,
   "metadata": {
    "ExecuteTime": {
     "end_time": "2021-10-28T03:34:01.754929Z",
     "start_time": "2021-10-28T03:34:01.746719Z"
    },
    "hidden": true
   },
   "outputs": [],
   "source": [
    "penguins = sns.load_dataset('penguins')\n",
    "penguins = penguins.dropna()"
   ]
  },
  {
   "cell_type": "code",
   "execution_count": 87,
   "metadata": {
    "ExecuteTime": {
     "end_time": "2021-10-28T03:34:02.556723Z",
     "start_time": "2021-10-28T03:34:02.552362Z"
    },
    "hidden": true
   },
   "outputs": [],
   "source": [
    "y = penguins.pop('species')\n",
    "X_train, X_test, y_train, y_test = train_test_split(\n",
    "    penguins, y, test_size=0.5, random_state=42)"
   ]
  },
  {
   "cell_type": "code",
   "execution_count": 88,
   "metadata": {
    "ExecuteTime": {
     "end_time": "2021-10-28T03:34:03.045865Z",
     "start_time": "2021-10-28T03:34:03.037423Z"
    },
    "hidden": true
   },
   "outputs": [],
   "source": [
    "X_train_nums = X_train.select_dtypes('float64')\n",
    "\n",
    "ss = StandardScaler()\n",
    "\n",
    "ss.fit(X_train_nums)\n",
    "nums_df = pd.DataFrame(ss.transform(X_train_nums),\n",
    "                      index=X_train_nums.index)"
   ]
  },
  {
   "cell_type": "code",
   "execution_count": 89,
   "metadata": {
    "ExecuteTime": {
     "end_time": "2021-10-28T03:34:04.617701Z",
     "start_time": "2021-10-28T03:34:04.611557Z"
    },
    "hidden": true
   },
   "outputs": [],
   "source": [
    "X_train_cat = X_train.select_dtypes('object')\n",
    "\n",
    "ohe = OneHotEncoder(\n",
    "    drop='first',\n",
    "    sparse=False)\n",
    "\n",
    "dums = ohe.fit_transform(X_train_cat)\n",
    "dums_df = pd.DataFrame(dums,\n",
    "                       columns=ohe.get_feature_names(),\n",
    "                       index=X_train_cat.index)"
   ]
  },
  {
   "cell_type": "markdown",
   "metadata": {
    "hidden": true
   },
   "source": [
    "> Intermediary step to treat categorical and numerical data differently"
   ]
  },
  {
   "cell_type": "markdown",
   "metadata": {},
   "source": [
    "### Using `ColumnTransformer`"
   ]
  },
  {
   "cell_type": "code",
   "execution_count": 90,
   "metadata": {
    "ExecuteTime": {
     "end_time": "2021-10-28T03:34:07.230978Z",
     "start_time": "2021-10-28T03:34:07.226999Z"
    }
   },
   "outputs": [
    {
     "data": {
      "text/plain": [
       "Index(['bill_length_mm', 'bill_depth_mm', 'flipper_length_mm', 'body_mass_g'], dtype='object')"
      ]
     },
     "execution_count": 90,
     "metadata": {},
     "output_type": "execute_result"
    }
   ],
   "source": [
    "X_train_nums.columns"
   ]
  },
  {
   "cell_type": "code",
   "execution_count": 98,
   "metadata": {
    "ExecuteTime": {
     "end_time": "2021-10-28T03:34:07.623709Z",
     "start_time": "2021-10-28T03:34:07.620047Z"
    },
    "hidden": true
   },
   "outputs": [],
   "source": [
    "numerical_pipeline = Pipeline(steps=[('ss', StandardScaler())])\n",
    "\n",
    "categorical_pipeline = Pipeline(steps=[('ohe', OneHotEncoder(sparse=False, \n",
    "                                                            handle_unknown='ignore'))])\n",
    "transformer = ColumnTransformer(transformers=[\n",
    "    ('num', numerical_pipeline, X_train_nums.columns),\n",
    "    ('cat', categorical_pipeline, X_train_cat.columns)])"
   ]
  },
  {
   "cell_type": "code",
   "execution_count": 120,
   "metadata": {},
   "outputs": [],
   "source": [
    "transformer2 = ColumnTransformer(transformers=[\n",
    "    ('num', StandardScaler(), X_train_nums.columns),\n",
    "    ('cat', categorical_pipeline, X_train_cat.columns)])"
   ]
  },
  {
   "cell_type": "code",
   "execution_count": 99,
   "metadata": {
    "ExecuteTime": {
     "end_time": "2021-10-28T03:34:09.542917Z",
     "start_time": "2021-10-28T03:34:09.540088Z"
    },
    "hidden": true
   },
   "outputs": [],
   "source": [
    "model_pipe = Pipeline(steps=[('col_tr', transformer),\n",
    "                             ('knn', KNeighborsClassifier())])"
   ]
  },
  {
   "cell_type": "code",
   "execution_count": 121,
   "metadata": {},
   "outputs": [],
   "source": [
    "model_pipe2 = Pipeline(steps=[('col_tr', transformer2),\n",
    "                             ('knn', KNeighborsClassifier())])"
   ]
  },
  {
   "cell_type": "markdown",
   "metadata": {
    "hidden": true
   },
   "source": [
    "> Finally showing we can fit the full pipeline"
   ]
  },
  {
   "cell_type": "code",
   "execution_count": 122,
   "metadata": {
    "scrolled": true
   },
   "outputs": [
    {
     "data": {
      "text/plain": [
       "Pipeline(steps=[('col_tr',\n",
       "                 ColumnTransformer(transformers=[('num',\n",
       "                                                  Pipeline(steps=[('ss',\n",
       "                                                                   StandardScaler())]),\n",
       "                                                  Index(['bill_length_mm', 'bill_depth_mm', 'flipper_length_mm', 'body_mass_g'], dtype='object')),\n",
       "                                                 ('cat',\n",
       "                                                  Pipeline(steps=[('ohe',\n",
       "                                                                   OneHotEncoder(handle_unknown='ignore',\n",
       "                                                                                 sparse=False))]),\n",
       "                                                  Index(['island', 'sex'], dtype='object'))])),\n",
       "                ('knn', KNeighborsClassifier())])"
      ]
     },
     "execution_count": 122,
     "metadata": {},
     "output_type": "execute_result"
    }
   ],
   "source": [
    "model_pipe.fit(X_train, y_train)"
   ]
  },
  {
   "cell_type": "code",
   "execution_count": 123,
   "metadata": {},
   "outputs": [
    {
     "data": {
      "text/plain": [
       "0.9880239520958084"
      ]
     },
     "execution_count": 123,
     "metadata": {},
     "output_type": "execute_result"
    }
   ],
   "source": [
    "model_pipe.score(X_test, y_test)"
   ]
  },
  {
   "cell_type": "code",
   "execution_count": 100,
   "metadata": {
    "ExecuteTime": {
     "end_time": "2021-10-28T03:34:13.295438Z",
     "start_time": "2021-10-28T03:34:13.263487Z"
    },
    "hidden": true
   },
   "outputs": [
    {
     "data": {
      "text/plain": [
       "Pipeline(steps=[('col_tr',\n",
       "                 ColumnTransformer(transformers=[('num',\n",
       "                                                  Pipeline(steps=[('ss',\n",
       "                                                                   StandardScaler())]),\n",
       "                                                  Index(['bill_length_mm', 'bill_depth_mm', 'flipper_length_mm', 'body_mass_g'], dtype='object')),\n",
       "                                                 ('cat',\n",
       "                                                  Pipeline(steps=[('ohe',\n",
       "                                                                   OneHotEncoder(handle_unknown='ignore',\n",
       "                                                                                 sparse=False))]),\n",
       "                                                  Index(['island', 'sex'], dtype='object'))])),\n",
       "                ('knn', KNeighborsClassifier())])"
      ]
     },
     "execution_count": 100,
     "metadata": {},
     "output_type": "execute_result"
    }
   ],
   "source": [
    "model_pipe.fit(X_train, y_train)"
   ]
  },
  {
   "cell_type": "code",
   "execution_count": 101,
   "metadata": {
    "ExecuteTime": {
     "end_time": "2021-10-28T03:34:13.618940Z",
     "start_time": "2021-10-28T03:34:13.603520Z"
    },
    "hidden": true,
    "scrolled": true
   },
   "outputs": [
    {
     "data": {
      "text/plain": [
       "0.9939759036144579"
      ]
     },
     "execution_count": 101,
     "metadata": {},
     "output_type": "execute_result"
    }
   ],
   "source": [
    "model_pipe.score(X_train, y_train)"
   ]
  },
  {
   "cell_type": "code",
   "execution_count": 102,
   "metadata": {},
   "outputs": [
    {
     "data": {
      "text/plain": [
       "0.9880239520958084"
      ]
     },
     "execution_count": 102,
     "metadata": {},
     "output_type": "execute_result"
    }
   ],
   "source": [
    "model_pipe.score(X_test, y_test)"
   ]
  },
  {
   "cell_type": "markdown",
   "metadata": {
    "hidden": true
   },
   "source": [
    "> Performing grid search on the full pipeline"
   ]
  },
  {
   "cell_type": "code",
   "execution_count": 117,
   "metadata": {},
   "outputs": [
    {
     "data": {
      "text/plain": [
       "{'col_tr': ColumnTransformer(transformers=[('num',\n",
       "                                  Pipeline(steps=[('ss', StandardScaler())]),\n",
       "                                  Index(['bill_length_mm', 'bill_depth_mm', 'flipper_length_mm', 'body_mass_g'], dtype='object')),\n",
       "                                 ('cat',\n",
       "                                  Pipeline(steps=[('ohe',\n",
       "                                                   OneHotEncoder(handle_unknown='ignore',\n",
       "                                                                 sparse=False))]),\n",
       "                                  Index(['island', 'sex'], dtype='object'))]),\n",
       " 'knn': KNeighborsClassifier()}"
      ]
     },
     "execution_count": 117,
     "metadata": {},
     "output_type": "execute_result"
    }
   ],
   "source": [
    "model_pipe.named_steps"
   ]
  },
  {
   "cell_type": "code",
   "execution_count": 105,
   "metadata": {},
   "outputs": [
    {
     "data": {
      "text/plain": [
       "KNeighborsClassifier()"
      ]
     },
     "execution_count": 105,
     "metadata": {},
     "output_type": "execute_result"
    }
   ],
   "source": [
    "model_pipe.named_steps['knn']"
   ]
  },
  {
   "cell_type": "code",
   "execution_count": 119,
   "metadata": {},
   "outputs": [
    {
     "data": {
      "text/plain": [
       "{'num': Pipeline(steps=[('ss', StandardScaler())]),\n",
       " 'cat': Pipeline(steps=[('ohe', OneHotEncoder(handle_unknown='ignore', sparse=False))])}"
      ]
     },
     "execution_count": 119,
     "metadata": {},
     "output_type": "execute_result"
    }
   ],
   "source": [
    "model_pipe['col_tr'].named_transformers_"
   ]
  },
  {
   "cell_type": "code",
   "execution_count": 130,
   "metadata": {
    "ExecuteTime": {
     "end_time": "2021-10-28T03:34:16.220781Z",
     "start_time": "2021-10-28T03:34:16.217965Z"
    },
    "hidden": true
   },
   "outputs": [],
   "source": [
    "pipe_grid = {'knn__n_neighbors': [3, 5, 7],\n",
    "             'knn__p': [1, 2, 3],\n",
    "             'col_tr__num__ss__with_std': [True, False]}\n",
    "gs_pipe = GridSearchCV(estimator=model_pipe, param_grid=pipe_grid, verbose=2)"
   ]
  },
  {
   "cell_type": "code",
   "execution_count": 131,
   "metadata": {
    "ExecuteTime": {
     "end_time": "2021-10-28T03:34:17.181559Z",
     "start_time": "2021-10-28T03:34:16.542973Z"
    },
    "hidden": true
   },
   "outputs": [
    {
     "name": "stdout",
     "output_type": "stream",
     "text": [
      "Fitting 5 folds for each of 18 candidates, totalling 90 fits\n",
      "[CV] col_tr__num__ss__with_std=True, knn__n_neighbors=3, knn__p=1 ....\n",
      "[CV]  col_tr__num__ss__with_std=True, knn__n_neighbors=3, knn__p=1, total=   0.0s\n",
      "[CV] col_tr__num__ss__with_std=True, knn__n_neighbors=3, knn__p=1 ....\n",
      "[CV]  col_tr__num__ss__with_std=True, knn__n_neighbors=3, knn__p=1, total=   0.0s\n",
      "[CV] col_tr__num__ss__with_std=True, knn__n_neighbors=3, knn__p=1 ....\n",
      "[CV]  col_tr__num__ss__with_std=True, knn__n_neighbors=3, knn__p=1, total=   0.0s\n",
      "[CV] col_tr__num__ss__with_std=True, knn__n_neighbors=3, knn__p=1 ....\n",
      "[CV]  col_tr__num__ss__with_std=True, knn__n_neighbors=3, knn__p=1, total=   0.0s\n",
      "[CV] col_tr__num__ss__with_std=True, knn__n_neighbors=3, knn__p=1 ....\n",
      "[CV]  col_tr__num__ss__with_std=True, knn__n_neighbors=3, knn__p=1, total=   0.0s\n",
      "[CV] col_tr__num__ss__with_std=True, knn__n_neighbors=3, knn__p=2 ....\n",
      "[CV]  col_tr__num__ss__with_std=True, knn__n_neighbors=3, knn__p=2, total=   0.0s\n",
      "[CV] col_tr__num__ss__with_std=True, knn__n_neighbors=3, knn__p=2 ....\n",
      "[CV]  col_tr__num__ss__with_std=True, knn__n_neighbors=3, knn__p=2, total=   0.0s\n",
      "[CV] col_tr__num__ss__with_std=True, knn__n_neighbors=3, knn__p=2 ....\n",
      "[CV]  col_tr__num__ss__with_std=True, knn__n_neighbors=3, knn__p=2, total=   0.0s\n",
      "[CV] col_tr__num__ss__with_std=True, knn__n_neighbors=3, knn__p=2 ....\n",
      "[CV]  col_tr__num__ss__with_std=True, knn__n_neighbors=3, knn__p=2, total=   0.0s\n",
      "[CV] col_tr__num__ss__with_std=True, knn__n_neighbors=3, knn__p=2 ....\n",
      "[CV]  col_tr__num__ss__with_std=True, knn__n_neighbors=3, knn__p=2, total=   0.0s\n",
      "[CV] col_tr__num__ss__with_std=True, knn__n_neighbors=3, knn__p=3 ....\n",
      "[CV]  col_tr__num__ss__with_std=True, knn__n_neighbors=3, knn__p=3, total=   0.0s\n",
      "[CV] col_tr__num__ss__with_std=True, knn__n_neighbors=3, knn__p=3 ....\n",
      "[CV]  col_tr__num__ss__with_std=True, knn__n_neighbors=3, knn__p=3, total=   0.0s\n",
      "[CV] col_tr__num__ss__with_std=True, knn__n_neighbors=3, knn__p=3 ....\n",
      "[CV]  col_tr__num__ss__with_std=True, knn__n_neighbors=3, knn__p=3, total=   0.0s\n",
      "[CV] col_tr__num__ss__with_std=True, knn__n_neighbors=3, knn__p=3 ....\n",
      "[CV]  col_tr__num__ss__with_std=True, knn__n_neighbors=3, knn__p=3, total=   0.0s\n",
      "[CV] col_tr__num__ss__with_std=True, knn__n_neighbors=3, knn__p=3 ....\n",
      "[CV]  col_tr__num__ss__with_std=True, knn__n_neighbors=3, knn__p=3, total=   0.0s\n",
      "[CV] col_tr__num__ss__with_std=True, knn__n_neighbors=5, knn__p=1 ....\n",
      "[CV]  col_tr__num__ss__with_std=True, knn__n_neighbors=5, knn__p=1, total=   0.0s\n",
      "[CV] col_tr__num__ss__with_std=True, knn__n_neighbors=5, knn__p=1 ....\n",
      "[CV]  col_tr__num__ss__with_std=True, knn__n_neighbors=5, knn__p=1, total=   0.0s\n",
      "[CV] col_tr__num__ss__with_std=True, knn__n_neighbors=5, knn__p=1 ....\n"
     ]
    },
    {
     "name": "stderr",
     "output_type": "stream",
     "text": [
      "[Parallel(n_jobs=1)]: Using backend SequentialBackend with 1 concurrent workers.\n",
      "[Parallel(n_jobs=1)]: Done   1 out of   1 | elapsed:    0.0s remaining:    0.0s\n"
     ]
    },
    {
     "name": "stdout",
     "output_type": "stream",
     "text": [
      "[CV]  col_tr__num__ss__with_std=True, knn__n_neighbors=5, knn__p=1, total=   0.0s\n",
      "[CV] col_tr__num__ss__with_std=True, knn__n_neighbors=5, knn__p=1 ....\n",
      "[CV]  col_tr__num__ss__with_std=True, knn__n_neighbors=5, knn__p=1, total=   0.0s\n",
      "[CV] col_tr__num__ss__with_std=True, knn__n_neighbors=5, knn__p=1 ....\n",
      "[CV]  col_tr__num__ss__with_std=True, knn__n_neighbors=5, knn__p=1, total=   0.0s\n",
      "[CV] col_tr__num__ss__with_std=True, knn__n_neighbors=5, knn__p=2 ....\n",
      "[CV]  col_tr__num__ss__with_std=True, knn__n_neighbors=5, knn__p=2, total=   0.0s\n",
      "[CV] col_tr__num__ss__with_std=True, knn__n_neighbors=5, knn__p=2 ....\n",
      "[CV]  col_tr__num__ss__with_std=True, knn__n_neighbors=5, knn__p=2, total=   0.0s\n",
      "[CV] col_tr__num__ss__with_std=True, knn__n_neighbors=5, knn__p=2 ....\n",
      "[CV]  col_tr__num__ss__with_std=True, knn__n_neighbors=5, knn__p=2, total=   0.0s\n",
      "[CV] col_tr__num__ss__with_std=True, knn__n_neighbors=5, knn__p=2 ....\n",
      "[CV]  col_tr__num__ss__with_std=True, knn__n_neighbors=5, knn__p=2, total=   0.0s\n",
      "[CV] col_tr__num__ss__with_std=True, knn__n_neighbors=5, knn__p=2 ....\n",
      "[CV]  col_tr__num__ss__with_std=True, knn__n_neighbors=5, knn__p=2, total=   0.0s\n",
      "[CV] col_tr__num__ss__with_std=True, knn__n_neighbors=5, knn__p=3 ....\n",
      "[CV]  col_tr__num__ss__with_std=True, knn__n_neighbors=5, knn__p=3, total=   0.0s\n",
      "[CV] col_tr__num__ss__with_std=True, knn__n_neighbors=5, knn__p=3 ....\n",
      "[CV]  col_tr__num__ss__with_std=True, knn__n_neighbors=5, knn__p=3, total=   0.0s\n",
      "[CV] col_tr__num__ss__with_std=True, knn__n_neighbors=5, knn__p=3 ....\n",
      "[CV]  col_tr__num__ss__with_std=True, knn__n_neighbors=5, knn__p=3, total=   0.0s\n",
      "[CV] col_tr__num__ss__with_std=True, knn__n_neighbors=5, knn__p=3 ....\n",
      "[CV]  col_tr__num__ss__with_std=True, knn__n_neighbors=5, knn__p=3, total=   0.0s\n",
      "[CV] col_tr__num__ss__with_std=True, knn__n_neighbors=5, knn__p=3 ....\n",
      "[CV]  col_tr__num__ss__with_std=True, knn__n_neighbors=5, knn__p=3, total=   0.0s\n",
      "[CV] col_tr__num__ss__with_std=True, knn__n_neighbors=7, knn__p=1 ....\n",
      "[CV]  col_tr__num__ss__with_std=True, knn__n_neighbors=7, knn__p=1, total=   0.0s\n",
      "[CV] col_tr__num__ss__with_std=True, knn__n_neighbors=7, knn__p=1 ....\n",
      "[CV]  col_tr__num__ss__with_std=True, knn__n_neighbors=7, knn__p=1, total=   0.0s\n",
      "[CV] col_tr__num__ss__with_std=True, knn__n_neighbors=7, knn__p=1 ....\n",
      "[CV]  col_tr__num__ss__with_std=True, knn__n_neighbors=7, knn__p=1, total=   0.0s\n",
      "[CV] col_tr__num__ss__with_std=True, knn__n_neighbors=7, knn__p=1 ....\n",
      "[CV]  col_tr__num__ss__with_std=True, knn__n_neighbors=7, knn__p=1, total=   0.0s\n",
      "[CV] col_tr__num__ss__with_std=True, knn__n_neighbors=7, knn__p=1 ....\n",
      "[CV]  col_tr__num__ss__with_std=True, knn__n_neighbors=7, knn__p=1, total=   0.0s\n",
      "[CV] col_tr__num__ss__with_std=True, knn__n_neighbors=7, knn__p=2 ....\n",
      "[CV]  col_tr__num__ss__with_std=True, knn__n_neighbors=7, knn__p=2, total=   0.0s\n",
      "[CV] col_tr__num__ss__with_std=True, knn__n_neighbors=7, knn__p=2 ....\n",
      "[CV]  col_tr__num__ss__with_std=True, knn__n_neighbors=7, knn__p=2, total=   0.0s\n",
      "[CV] col_tr__num__ss__with_std=True, knn__n_neighbors=7, knn__p=2 ....\n",
      "[CV]  col_tr__num__ss__with_std=True, knn__n_neighbors=7, knn__p=2, total=   0.0s\n",
      "[CV] col_tr__num__ss__with_std=True, knn__n_neighbors=7, knn__p=2 ....\n",
      "[CV]  col_tr__num__ss__with_std=True, knn__n_neighbors=7, knn__p=2, total=   0.0s\n",
      "[CV] col_tr__num__ss__with_std=True, knn__n_neighbors=7, knn__p=2 ....\n",
      "[CV]  col_tr__num__ss__with_std=True, knn__n_neighbors=7, knn__p=2, total=   0.0s\n",
      "[CV] col_tr__num__ss__with_std=True, knn__n_neighbors=7, knn__p=3 ....\n",
      "[CV]  col_tr__num__ss__with_std=True, knn__n_neighbors=7, knn__p=3, total=   0.0s\n",
      "[CV] col_tr__num__ss__with_std=True, knn__n_neighbors=7, knn__p=3 ....\n",
      "[CV]  col_tr__num__ss__with_std=True, knn__n_neighbors=7, knn__p=3, total=   0.0s\n",
      "[CV] col_tr__num__ss__with_std=True, knn__n_neighbors=7, knn__p=3 ....\n",
      "[CV]  col_tr__num__ss__with_std=True, knn__n_neighbors=7, knn__p=3, total=   0.0s\n",
      "[CV] col_tr__num__ss__with_std=True, knn__n_neighbors=7, knn__p=3 ....\n",
      "[CV]  col_tr__num__ss__with_std=True, knn__n_neighbors=7, knn__p=3, total=   0.0s\n",
      "[CV] col_tr__num__ss__with_std=True, knn__n_neighbors=7, knn__p=3 ....\n",
      "[CV]  col_tr__num__ss__with_std=True, knn__n_neighbors=7, knn__p=3, total=   0.0s\n",
      "[CV] col_tr__num__ss__with_std=False, knn__n_neighbors=3, knn__p=1 ...\n",
      "[CV]  col_tr__num__ss__with_std=False, knn__n_neighbors=3, knn__p=1, total=   0.0s\n",
      "[CV] col_tr__num__ss__with_std=False, knn__n_neighbors=3, knn__p=1 ...\n",
      "[CV]  col_tr__num__ss__with_std=False, knn__n_neighbors=3, knn__p=1, total=   0.0s\n",
      "[CV] col_tr__num__ss__with_std=False, knn__n_neighbors=3, knn__p=1 ...\n",
      "[CV]  col_tr__num__ss__with_std=False, knn__n_neighbors=3, knn__p=1, total=   0.0s\n",
      "[CV] col_tr__num__ss__with_std=False, knn__n_neighbors=3, knn__p=1 ...\n",
      "[CV]  col_tr__num__ss__with_std=False, knn__n_neighbors=3, knn__p=1, total=   0.0s\n",
      "[CV] col_tr__num__ss__with_std=False, knn__n_neighbors=3, knn__p=1 ...\n",
      "[CV]  col_tr__num__ss__with_std=False, knn__n_neighbors=3, knn__p=1, total=   0.0s\n",
      "[CV] col_tr__num__ss__with_std=False, knn__n_neighbors=3, knn__p=2 ...\n",
      "[CV]  col_tr__num__ss__with_std=False, knn__n_neighbors=3, knn__p=2, total=   0.0s\n",
      "[CV] col_tr__num__ss__with_std=False, knn__n_neighbors=3, knn__p=2 ...\n",
      "[CV]  col_tr__num__ss__with_std=False, knn__n_neighbors=3, knn__p=2, total=   0.0s\n",
      "[CV] col_tr__num__ss__with_std=False, knn__n_neighbors=3, knn__p=2 ...\n",
      "[CV]  col_tr__num__ss__with_std=False, knn__n_neighbors=3, knn__p=2, total=   0.0s\n",
      "[CV] col_tr__num__ss__with_std=False, knn__n_neighbors=3, knn__p=2 ...\n",
      "[CV]  col_tr__num__ss__with_std=False, knn__n_neighbors=3, knn__p=2, total=   0.0s\n",
      "[CV] col_tr__num__ss__with_std=False, knn__n_neighbors=3, knn__p=2 ...\n",
      "[CV]  col_tr__num__ss__with_std=False, knn__n_neighbors=3, knn__p=2, total=   0.0s\n",
      "[CV] col_tr__num__ss__with_std=False, knn__n_neighbors=3, knn__p=3 ...\n",
      "[CV]  col_tr__num__ss__with_std=False, knn__n_neighbors=3, knn__p=3, total=   0.0s\n",
      "[CV] col_tr__num__ss__with_std=False, knn__n_neighbors=3, knn__p=3 ...\n",
      "[CV]  col_tr__num__ss__with_std=False, knn__n_neighbors=3, knn__p=3, total=   0.0s\n",
      "[CV] col_tr__num__ss__with_std=False, knn__n_neighbors=3, knn__p=3 ...\n",
      "[CV]  col_tr__num__ss__with_std=False, knn__n_neighbors=3, knn__p=3, total=   0.0s\n",
      "[CV] col_tr__num__ss__with_std=False, knn__n_neighbors=3, knn__p=3 ...\n",
      "[CV]  col_tr__num__ss__with_std=False, knn__n_neighbors=3, knn__p=3, total=   0.0s\n",
      "[CV] col_tr__num__ss__with_std=False, knn__n_neighbors=3, knn__p=3 ...\n",
      "[CV]  col_tr__num__ss__with_std=False, knn__n_neighbors=3, knn__p=3, total=   0.0s\n",
      "[CV] col_tr__num__ss__with_std=False, knn__n_neighbors=5, knn__p=1 ...\n",
      "[CV]  col_tr__num__ss__with_std=False, knn__n_neighbors=5, knn__p=1, total=   0.0s\n",
      "[CV] col_tr__num__ss__with_std=False, knn__n_neighbors=5, knn__p=1 ...\n",
      "[CV]  col_tr__num__ss__with_std=False, knn__n_neighbors=5, knn__p=1, total=   0.0s\n",
      "[CV] col_tr__num__ss__with_std=False, knn__n_neighbors=5, knn__p=1 ...\n",
      "[CV]  col_tr__num__ss__with_std=False, knn__n_neighbors=5, knn__p=1, total=   0.0s\n",
      "[CV] col_tr__num__ss__with_std=False, knn__n_neighbors=5, knn__p=1 ...\n",
      "[CV]  col_tr__num__ss__with_std=False, knn__n_neighbors=5, knn__p=1, total=   0.0s\n",
      "[CV] col_tr__num__ss__with_std=False, knn__n_neighbors=5, knn__p=1 ...\n",
      "[CV]  col_tr__num__ss__with_std=False, knn__n_neighbors=5, knn__p=1, total=   0.0s\n",
      "[CV] col_tr__num__ss__with_std=False, knn__n_neighbors=5, knn__p=2 ...\n",
      "[CV]  col_tr__num__ss__with_std=False, knn__n_neighbors=5, knn__p=2, total=   0.0s\n",
      "[CV] col_tr__num__ss__with_std=False, knn__n_neighbors=5, knn__p=2 ...\n",
      "[CV]  col_tr__num__ss__with_std=False, knn__n_neighbors=5, knn__p=2, total=   0.0s\n",
      "[CV] col_tr__num__ss__with_std=False, knn__n_neighbors=5, knn__p=2 ...\n",
      "[CV]  col_tr__num__ss__with_std=False, knn__n_neighbors=5, knn__p=2, total=   0.0s\n",
      "[CV] col_tr__num__ss__with_std=False, knn__n_neighbors=5, knn__p=2 ...\n",
      "[CV]  col_tr__num__ss__with_std=False, knn__n_neighbors=5, knn__p=2, total=   0.0s\n",
      "[CV] col_tr__num__ss__with_std=False, knn__n_neighbors=5, knn__p=2 ...\n",
      "[CV]  col_tr__num__ss__with_std=False, knn__n_neighbors=5, knn__p=2, total=   0.0s\n",
      "[CV] col_tr__num__ss__with_std=False, knn__n_neighbors=5, knn__p=3 ...\n",
      "[CV]  col_tr__num__ss__with_std=False, knn__n_neighbors=5, knn__p=3, total=   0.0s\n",
      "[CV] col_tr__num__ss__with_std=False, knn__n_neighbors=5, knn__p=3 ...\n",
      "[CV]  col_tr__num__ss__with_std=False, knn__n_neighbors=5, knn__p=3, total=   0.0s\n",
      "[CV] col_tr__num__ss__with_std=False, knn__n_neighbors=5, knn__p=3 ...\n",
      "[CV]  col_tr__num__ss__with_std=False, knn__n_neighbors=5, knn__p=3, total=   0.0s\n",
      "[CV] col_tr__num__ss__with_std=False, knn__n_neighbors=5, knn__p=3 ...\n",
      "[CV]  col_tr__num__ss__with_std=False, knn__n_neighbors=5, knn__p=3, total=   0.0s\n",
      "[CV] col_tr__num__ss__with_std=False, knn__n_neighbors=5, knn__p=3 ...\n",
      "[CV]  col_tr__num__ss__with_std=False, knn__n_neighbors=5, knn__p=3, total=   0.0s\n",
      "[CV] col_tr__num__ss__with_std=False, knn__n_neighbors=7, knn__p=1 ...\n",
      "[CV]  col_tr__num__ss__with_std=False, knn__n_neighbors=7, knn__p=1, total=   0.0s\n",
      "[CV] col_tr__num__ss__with_std=False, knn__n_neighbors=7, knn__p=1 ...\n",
      "[CV]  col_tr__num__ss__with_std=False, knn__n_neighbors=7, knn__p=1, total=   0.0s\n",
      "[CV] col_tr__num__ss__with_std=False, knn__n_neighbors=7, knn__p=1 ...\n",
      "[CV]  col_tr__num__ss__with_std=False, knn__n_neighbors=7, knn__p=1, total=   0.0s\n",
      "[CV] col_tr__num__ss__with_std=False, knn__n_neighbors=7, knn__p=1 ...\n",
      "[CV]  col_tr__num__ss__with_std=False, knn__n_neighbors=7, knn__p=1, total=   0.0s\n",
      "[CV] col_tr__num__ss__with_std=False, knn__n_neighbors=7, knn__p=1 ...\n",
      "[CV]  col_tr__num__ss__with_std=False, knn__n_neighbors=7, knn__p=1, total=   0.0s\n",
      "[CV] col_tr__num__ss__with_std=False, knn__n_neighbors=7, knn__p=2 ...\n",
      "[CV]  col_tr__num__ss__with_std=False, knn__n_neighbors=7, knn__p=2, total=   0.0s\n",
      "[CV] col_tr__num__ss__with_std=False, knn__n_neighbors=7, knn__p=2 ...\n",
      "[CV]  col_tr__num__ss__with_std=False, knn__n_neighbors=7, knn__p=2, total=   0.0s\n",
      "[CV] col_tr__num__ss__with_std=False, knn__n_neighbors=7, knn__p=2 ...\n",
      "[CV]  col_tr__num__ss__with_std=False, knn__n_neighbors=7, knn__p=2, total=   0.0s\n",
      "[CV] col_tr__num__ss__with_std=False, knn__n_neighbors=7, knn__p=2 ...\n",
      "[CV]  col_tr__num__ss__with_std=False, knn__n_neighbors=7, knn__p=2, total=   0.0s\n",
      "[CV] col_tr__num__ss__with_std=False, knn__n_neighbors=7, knn__p=2 ...\n",
      "[CV]  col_tr__num__ss__with_std=False, knn__n_neighbors=7, knn__p=2, total=   0.0s\n",
      "[CV] col_tr__num__ss__with_std=False, knn__n_neighbors=7, knn__p=3 ...\n",
      "[CV]  col_tr__num__ss__with_std=False, knn__n_neighbors=7, knn__p=3, total=   0.0s\n",
      "[CV] col_tr__num__ss__with_std=False, knn__n_neighbors=7, knn__p=3 ...\n",
      "[CV]  col_tr__num__ss__with_std=False, knn__n_neighbors=7, knn__p=3, total=   0.0s\n",
      "[CV] col_tr__num__ss__with_std=False, knn__n_neighbors=7, knn__p=3 ...\n",
      "[CV]  col_tr__num__ss__with_std=False, knn__n_neighbors=7, knn__p=3, total=   0.0s\n",
      "[CV] col_tr__num__ss__with_std=False, knn__n_neighbors=7, knn__p=3 ...\n"
     ]
    },
    {
     "name": "stdout",
     "output_type": "stream",
     "text": [
      "[CV]  col_tr__num__ss__with_std=False, knn__n_neighbors=7, knn__p=3, total=   0.0s\n",
      "[CV] col_tr__num__ss__with_std=False, knn__n_neighbors=7, knn__p=3 ...\n",
      "[CV]  col_tr__num__ss__with_std=False, knn__n_neighbors=7, knn__p=3, total=   0.0s\n"
     ]
    },
    {
     "name": "stderr",
     "output_type": "stream",
     "text": [
      "[Parallel(n_jobs=1)]: Done  90 out of  90 | elapsed:    0.9s finished\n"
     ]
    },
    {
     "data": {
      "text/plain": [
       "GridSearchCV(estimator=Pipeline(steps=[('col_tr',\n",
       "                                        ColumnTransformer(transformers=[('num',\n",
       "                                                                         Pipeline(steps=[('ss',\n",
       "                                                                                          StandardScaler())]),\n",
       "                                                                         Index(['bill_length_mm', 'bill_depth_mm', 'flipper_length_mm', 'body_mass_g'], dtype='object')),\n",
       "                                                                        ('cat',\n",
       "                                                                         Pipeline(steps=[('ohe',\n",
       "                                                                                          OneHotEncoder(handle_unknown='ignore',\n",
       "                                                                                                        sparse=False))]),\n",
       "                                                                         Index(['island', 'sex'], dtype='object'))])),\n",
       "                                       ('knn', KNeighborsClassifier())]),\n",
       "             param_grid={'col_tr__num__ss__with_std': [True, False],\n",
       "                         'knn__n_neighbors': [3, 5, 7], 'knn__p': [1, 2, 3]},\n",
       "             verbose=2)"
      ]
     },
     "execution_count": 131,
     "metadata": {},
     "output_type": "execute_result"
    }
   ],
   "source": [
    "gs_pipe.fit(X_train, y_train)"
   ]
  },
  {
   "cell_type": "code",
   "execution_count": 126,
   "metadata": {
    "ExecuteTime": {
     "end_time": "2021-10-28T03:34:17.201665Z",
     "start_time": "2021-10-28T03:34:17.183254Z"
    },
    "hidden": true
   },
   "outputs": [
    {
     "data": {
      "text/html": [
       "<div>\n",
       "<style scoped>\n",
       "    .dataframe tbody tr th:only-of-type {\n",
       "        vertical-align: middle;\n",
       "    }\n",
       "\n",
       "    .dataframe tbody tr th {\n",
       "        vertical-align: top;\n",
       "    }\n",
       "\n",
       "    .dataframe thead th {\n",
       "        text-align: right;\n",
       "    }\n",
       "</style>\n",
       "<table border=\"1\" class=\"dataframe\">\n",
       "  <thead>\n",
       "    <tr style=\"text-align: right;\">\n",
       "      <th></th>\n",
       "      <th>mean_fit_time</th>\n",
       "      <th>std_fit_time</th>\n",
       "      <th>mean_score_time</th>\n",
       "      <th>std_score_time</th>\n",
       "      <th>param_col_tr__num__ss__with_std</th>\n",
       "      <th>param_knn__n_neighbors</th>\n",
       "      <th>param_knn__p</th>\n",
       "      <th>params</th>\n",
       "      <th>split0_test_score</th>\n",
       "      <th>split1_test_score</th>\n",
       "      <th>split2_test_score</th>\n",
       "      <th>split3_test_score</th>\n",
       "      <th>split4_test_score</th>\n",
       "      <th>mean_test_score</th>\n",
       "      <th>std_test_score</th>\n",
       "      <th>rank_test_score</th>\n",
       "    </tr>\n",
       "  </thead>\n",
       "  <tbody>\n",
       "    <tr>\n",
       "      <th>0</th>\n",
       "      <td>0.009543</td>\n",
       "      <td>0.003730</td>\n",
       "      <td>0.005535</td>\n",
       "      <td>0.001335</td>\n",
       "      <td>True</td>\n",
       "      <td>3</td>\n",
       "      <td>1</td>\n",
       "      <td>{'col_tr__num__ss__with_std': True, 'knn__n_ne...</td>\n",
       "      <td>1.000000</td>\n",
       "      <td>1.000000</td>\n",
       "      <td>0.969697</td>\n",
       "      <td>1.000000</td>\n",
       "      <td>1.000000</td>\n",
       "      <td>0.993939</td>\n",
       "      <td>0.012121</td>\n",
       "      <td>1</td>\n",
       "    </tr>\n",
       "    <tr>\n",
       "      <th>1</th>\n",
       "      <td>0.004192</td>\n",
       "      <td>0.000275</td>\n",
       "      <td>0.003305</td>\n",
       "      <td>0.000227</td>\n",
       "      <td>True</td>\n",
       "      <td>3</td>\n",
       "      <td>2</td>\n",
       "      <td>{'col_tr__num__ss__with_std': True, 'knn__n_ne...</td>\n",
       "      <td>1.000000</td>\n",
       "      <td>1.000000</td>\n",
       "      <td>0.969697</td>\n",
       "      <td>1.000000</td>\n",
       "      <td>1.000000</td>\n",
       "      <td>0.993939</td>\n",
       "      <td>0.012121</td>\n",
       "      <td>1</td>\n",
       "    </tr>\n",
       "    <tr>\n",
       "      <th>2</th>\n",
       "      <td>0.004638</td>\n",
       "      <td>0.000625</td>\n",
       "      <td>0.003954</td>\n",
       "      <td>0.000443</td>\n",
       "      <td>True</td>\n",
       "      <td>3</td>\n",
       "      <td>3</td>\n",
       "      <td>{'col_tr__num__ss__with_std': True, 'knn__n_ne...</td>\n",
       "      <td>1.000000</td>\n",
       "      <td>1.000000</td>\n",
       "      <td>0.969697</td>\n",
       "      <td>1.000000</td>\n",
       "      <td>1.000000</td>\n",
       "      <td>0.993939</td>\n",
       "      <td>0.012121</td>\n",
       "      <td>1</td>\n",
       "    </tr>\n",
       "    <tr>\n",
       "      <th>3</th>\n",
       "      <td>0.004978</td>\n",
       "      <td>0.001066</td>\n",
       "      <td>0.003545</td>\n",
       "      <td>0.000213</td>\n",
       "      <td>True</td>\n",
       "      <td>5</td>\n",
       "      <td>1</td>\n",
       "      <td>{'col_tr__num__ss__with_std': True, 'knn__n_ne...</td>\n",
       "      <td>1.000000</td>\n",
       "      <td>1.000000</td>\n",
       "      <td>0.969697</td>\n",
       "      <td>1.000000</td>\n",
       "      <td>1.000000</td>\n",
       "      <td>0.993939</td>\n",
       "      <td>0.012121</td>\n",
       "      <td>1</td>\n",
       "    </tr>\n",
       "    <tr>\n",
       "      <th>4</th>\n",
       "      <td>0.005766</td>\n",
       "      <td>0.001638</td>\n",
       "      <td>0.004371</td>\n",
       "      <td>0.000835</td>\n",
       "      <td>True</td>\n",
       "      <td>5</td>\n",
       "      <td>2</td>\n",
       "      <td>{'col_tr__num__ss__with_std': True, 'knn__n_ne...</td>\n",
       "      <td>1.000000</td>\n",
       "      <td>1.000000</td>\n",
       "      <td>0.969697</td>\n",
       "      <td>1.000000</td>\n",
       "      <td>1.000000</td>\n",
       "      <td>0.993939</td>\n",
       "      <td>0.012121</td>\n",
       "      <td>1</td>\n",
       "    </tr>\n",
       "    <tr>\n",
       "      <th>5</th>\n",
       "      <td>0.004214</td>\n",
       "      <td>0.000135</td>\n",
       "      <td>0.003690</td>\n",
       "      <td>0.000950</td>\n",
       "      <td>True</td>\n",
       "      <td>5</td>\n",
       "      <td>3</td>\n",
       "      <td>{'col_tr__num__ss__with_std': True, 'knn__n_ne...</td>\n",
       "      <td>1.000000</td>\n",
       "      <td>1.000000</td>\n",
       "      <td>0.969697</td>\n",
       "      <td>1.000000</td>\n",
       "      <td>1.000000</td>\n",
       "      <td>0.993939</td>\n",
       "      <td>0.012121</td>\n",
       "      <td>1</td>\n",
       "    </tr>\n",
       "    <tr>\n",
       "      <th>6</th>\n",
       "      <td>0.004389</td>\n",
       "      <td>0.000435</td>\n",
       "      <td>0.003430</td>\n",
       "      <td>0.000314</td>\n",
       "      <td>True</td>\n",
       "      <td>7</td>\n",
       "      <td>1</td>\n",
       "      <td>{'col_tr__num__ss__with_std': True, 'knn__n_ne...</td>\n",
       "      <td>1.000000</td>\n",
       "      <td>1.000000</td>\n",
       "      <td>0.969697</td>\n",
       "      <td>0.969697</td>\n",
       "      <td>1.000000</td>\n",
       "      <td>0.987879</td>\n",
       "      <td>0.014845</td>\n",
       "      <td>7</td>\n",
       "    </tr>\n",
       "    <tr>\n",
       "      <th>7</th>\n",
       "      <td>0.004228</td>\n",
       "      <td>0.000631</td>\n",
       "      <td>0.003345</td>\n",
       "      <td>0.000132</td>\n",
       "      <td>True</td>\n",
       "      <td>7</td>\n",
       "      <td>2</td>\n",
       "      <td>{'col_tr__num__ss__with_std': True, 'knn__n_ne...</td>\n",
       "      <td>1.000000</td>\n",
       "      <td>1.000000</td>\n",
       "      <td>0.969697</td>\n",
       "      <td>0.969697</td>\n",
       "      <td>1.000000</td>\n",
       "      <td>0.987879</td>\n",
       "      <td>0.014845</td>\n",
       "      <td>7</td>\n",
       "    </tr>\n",
       "    <tr>\n",
       "      <th>8</th>\n",
       "      <td>0.005027</td>\n",
       "      <td>0.000458</td>\n",
       "      <td>0.004827</td>\n",
       "      <td>0.001534</td>\n",
       "      <td>True</td>\n",
       "      <td>7</td>\n",
       "      <td>3</td>\n",
       "      <td>{'col_tr__num__ss__with_std': True, 'knn__n_ne...</td>\n",
       "      <td>1.000000</td>\n",
       "      <td>1.000000</td>\n",
       "      <td>0.969697</td>\n",
       "      <td>0.969697</td>\n",
       "      <td>1.000000</td>\n",
       "      <td>0.987879</td>\n",
       "      <td>0.014845</td>\n",
       "      <td>7</td>\n",
       "    </tr>\n",
       "    <tr>\n",
       "      <th>9</th>\n",
       "      <td>0.004229</td>\n",
       "      <td>0.000354</td>\n",
       "      <td>0.003850</td>\n",
       "      <td>0.000687</td>\n",
       "      <td>False</td>\n",
       "      <td>3</td>\n",
       "      <td>1</td>\n",
       "      <td>{'col_tr__num__ss__with_std': False, 'knn__n_n...</td>\n",
       "      <td>0.794118</td>\n",
       "      <td>0.727273</td>\n",
       "      <td>0.727273</td>\n",
       "      <td>0.515152</td>\n",
       "      <td>0.878788</td>\n",
       "      <td>0.728520</td>\n",
       "      <td>0.120343</td>\n",
       "      <td>10</td>\n",
       "    </tr>\n",
       "    <tr>\n",
       "      <th>10</th>\n",
       "      <td>0.003931</td>\n",
       "      <td>0.000440</td>\n",
       "      <td>0.003159</td>\n",
       "      <td>0.000261</td>\n",
       "      <td>False</td>\n",
       "      <td>3</td>\n",
       "      <td>2</td>\n",
       "      <td>{'col_tr__num__ss__with_std': False, 'knn__n_n...</td>\n",
       "      <td>0.764706</td>\n",
       "      <td>0.727273</td>\n",
       "      <td>0.727273</td>\n",
       "      <td>0.515152</td>\n",
       "      <td>0.878788</td>\n",
       "      <td>0.722638</td>\n",
       "      <td>0.117683</td>\n",
       "      <td>11</td>\n",
       "    </tr>\n",
       "    <tr>\n",
       "      <th>11</th>\n",
       "      <td>0.004012</td>\n",
       "      <td>0.000284</td>\n",
       "      <td>0.003816</td>\n",
       "      <td>0.000656</td>\n",
       "      <td>False</td>\n",
       "      <td>3</td>\n",
       "      <td>3</td>\n",
       "      <td>{'col_tr__num__ss__with_std': False, 'knn__n_n...</td>\n",
       "      <td>0.764706</td>\n",
       "      <td>0.727273</td>\n",
       "      <td>0.727273</td>\n",
       "      <td>0.515152</td>\n",
       "      <td>0.848485</td>\n",
       "      <td>0.716578</td>\n",
       "      <td>0.110016</td>\n",
       "      <td>12</td>\n",
       "    </tr>\n",
       "    <tr>\n",
       "      <th>12</th>\n",
       "      <td>0.003861</td>\n",
       "      <td>0.000253</td>\n",
       "      <td>0.003308</td>\n",
       "      <td>0.000347</td>\n",
       "      <td>False</td>\n",
       "      <td>5</td>\n",
       "      <td>1</td>\n",
       "      <td>{'col_tr__num__ss__with_std': False, 'knn__n_n...</td>\n",
       "      <td>0.647059</td>\n",
       "      <td>0.696970</td>\n",
       "      <td>0.757576</td>\n",
       "      <td>0.545455</td>\n",
       "      <td>0.818182</td>\n",
       "      <td>0.693048</td>\n",
       "      <td>0.093527</td>\n",
       "      <td>13</td>\n",
       "    </tr>\n",
       "    <tr>\n",
       "      <th>13</th>\n",
       "      <td>0.004734</td>\n",
       "      <td>0.000870</td>\n",
       "      <td>0.003405</td>\n",
       "      <td>0.000582</td>\n",
       "      <td>False</td>\n",
       "      <td>5</td>\n",
       "      <td>2</td>\n",
       "      <td>{'col_tr__num__ss__with_std': False, 'knn__n_n...</td>\n",
       "      <td>0.617647</td>\n",
       "      <td>0.727273</td>\n",
       "      <td>0.727273</td>\n",
       "      <td>0.515152</td>\n",
       "      <td>0.818182</td>\n",
       "      <td>0.681105</td>\n",
       "      <td>0.104518</td>\n",
       "      <td>14</td>\n",
       "    </tr>\n",
       "    <tr>\n",
       "      <th>14</th>\n",
       "      <td>0.003957</td>\n",
       "      <td>0.000220</td>\n",
       "      <td>0.003567</td>\n",
       "      <td>0.000505</td>\n",
       "      <td>False</td>\n",
       "      <td>5</td>\n",
       "      <td>3</td>\n",
       "      <td>{'col_tr__num__ss__with_std': False, 'knn__n_n...</td>\n",
       "      <td>0.617647</td>\n",
       "      <td>0.727273</td>\n",
       "      <td>0.727273</td>\n",
       "      <td>0.515152</td>\n",
       "      <td>0.818182</td>\n",
       "      <td>0.681105</td>\n",
       "      <td>0.104518</td>\n",
       "      <td>14</td>\n",
       "    </tr>\n",
       "    <tr>\n",
       "      <th>15</th>\n",
       "      <td>0.004083</td>\n",
       "      <td>0.000600</td>\n",
       "      <td>0.003310</td>\n",
       "      <td>0.000370</td>\n",
       "      <td>False</td>\n",
       "      <td>7</td>\n",
       "      <td>1</td>\n",
       "      <td>{'col_tr__num__ss__with_std': False, 'knn__n_n...</td>\n",
       "      <td>0.676471</td>\n",
       "      <td>0.696970</td>\n",
       "      <td>0.727273</td>\n",
       "      <td>0.484848</td>\n",
       "      <td>0.818182</td>\n",
       "      <td>0.680749</td>\n",
       "      <td>0.109280</td>\n",
       "      <td>16</td>\n",
       "    </tr>\n",
       "    <tr>\n",
       "      <th>16</th>\n",
       "      <td>0.003802</td>\n",
       "      <td>0.000265</td>\n",
       "      <td>0.002980</td>\n",
       "      <td>0.000045</td>\n",
       "      <td>False</td>\n",
       "      <td>7</td>\n",
       "      <td>2</td>\n",
       "      <td>{'col_tr__num__ss__with_std': False, 'knn__n_n...</td>\n",
       "      <td>0.676471</td>\n",
       "      <td>0.696970</td>\n",
       "      <td>0.727273</td>\n",
       "      <td>0.484848</td>\n",
       "      <td>0.818182</td>\n",
       "      <td>0.680749</td>\n",
       "      <td>0.109280</td>\n",
       "      <td>16</td>\n",
       "    </tr>\n",
       "    <tr>\n",
       "      <th>17</th>\n",
       "      <td>0.003971</td>\n",
       "      <td>0.000366</td>\n",
       "      <td>0.003386</td>\n",
       "      <td>0.000546</td>\n",
       "      <td>False</td>\n",
       "      <td>7</td>\n",
       "      <td>3</td>\n",
       "      <td>{'col_tr__num__ss__with_std': False, 'knn__n_n...</td>\n",
       "      <td>0.676471</td>\n",
       "      <td>0.696970</td>\n",
       "      <td>0.727273</td>\n",
       "      <td>0.484848</td>\n",
       "      <td>0.818182</td>\n",
       "      <td>0.680749</td>\n",
       "      <td>0.109280</td>\n",
       "      <td>16</td>\n",
       "    </tr>\n",
       "  </tbody>\n",
       "</table>\n",
       "</div>"
      ],
      "text/plain": [
       "    mean_fit_time  std_fit_time  mean_score_time  std_score_time  \\\n",
       "0        0.009543      0.003730         0.005535        0.001335   \n",
       "1        0.004192      0.000275         0.003305        0.000227   \n",
       "2        0.004638      0.000625         0.003954        0.000443   \n",
       "3        0.004978      0.001066         0.003545        0.000213   \n",
       "4        0.005766      0.001638         0.004371        0.000835   \n",
       "5        0.004214      0.000135         0.003690        0.000950   \n",
       "6        0.004389      0.000435         0.003430        0.000314   \n",
       "7        0.004228      0.000631         0.003345        0.000132   \n",
       "8        0.005027      0.000458         0.004827        0.001534   \n",
       "9        0.004229      0.000354         0.003850        0.000687   \n",
       "10       0.003931      0.000440         0.003159        0.000261   \n",
       "11       0.004012      0.000284         0.003816        0.000656   \n",
       "12       0.003861      0.000253         0.003308        0.000347   \n",
       "13       0.004734      0.000870         0.003405        0.000582   \n",
       "14       0.003957      0.000220         0.003567        0.000505   \n",
       "15       0.004083      0.000600         0.003310        0.000370   \n",
       "16       0.003802      0.000265         0.002980        0.000045   \n",
       "17       0.003971      0.000366         0.003386        0.000546   \n",
       "\n",
       "   param_col_tr__num__ss__with_std param_knn__n_neighbors param_knn__p  \\\n",
       "0                             True                      3            1   \n",
       "1                             True                      3            2   \n",
       "2                             True                      3            3   \n",
       "3                             True                      5            1   \n",
       "4                             True                      5            2   \n",
       "5                             True                      5            3   \n",
       "6                             True                      7            1   \n",
       "7                             True                      7            2   \n",
       "8                             True                      7            3   \n",
       "9                            False                      3            1   \n",
       "10                           False                      3            2   \n",
       "11                           False                      3            3   \n",
       "12                           False                      5            1   \n",
       "13                           False                      5            2   \n",
       "14                           False                      5            3   \n",
       "15                           False                      7            1   \n",
       "16                           False                      7            2   \n",
       "17                           False                      7            3   \n",
       "\n",
       "                                               params  split0_test_score  \\\n",
       "0   {'col_tr__num__ss__with_std': True, 'knn__n_ne...           1.000000   \n",
       "1   {'col_tr__num__ss__with_std': True, 'knn__n_ne...           1.000000   \n",
       "2   {'col_tr__num__ss__with_std': True, 'knn__n_ne...           1.000000   \n",
       "3   {'col_tr__num__ss__with_std': True, 'knn__n_ne...           1.000000   \n",
       "4   {'col_tr__num__ss__with_std': True, 'knn__n_ne...           1.000000   \n",
       "5   {'col_tr__num__ss__with_std': True, 'knn__n_ne...           1.000000   \n",
       "6   {'col_tr__num__ss__with_std': True, 'knn__n_ne...           1.000000   \n",
       "7   {'col_tr__num__ss__with_std': True, 'knn__n_ne...           1.000000   \n",
       "8   {'col_tr__num__ss__with_std': True, 'knn__n_ne...           1.000000   \n",
       "9   {'col_tr__num__ss__with_std': False, 'knn__n_n...           0.794118   \n",
       "10  {'col_tr__num__ss__with_std': False, 'knn__n_n...           0.764706   \n",
       "11  {'col_tr__num__ss__with_std': False, 'knn__n_n...           0.764706   \n",
       "12  {'col_tr__num__ss__with_std': False, 'knn__n_n...           0.647059   \n",
       "13  {'col_tr__num__ss__with_std': False, 'knn__n_n...           0.617647   \n",
       "14  {'col_tr__num__ss__with_std': False, 'knn__n_n...           0.617647   \n",
       "15  {'col_tr__num__ss__with_std': False, 'knn__n_n...           0.676471   \n",
       "16  {'col_tr__num__ss__with_std': False, 'knn__n_n...           0.676471   \n",
       "17  {'col_tr__num__ss__with_std': False, 'knn__n_n...           0.676471   \n",
       "\n",
       "    split1_test_score  split2_test_score  split3_test_score  \\\n",
       "0            1.000000           0.969697           1.000000   \n",
       "1            1.000000           0.969697           1.000000   \n",
       "2            1.000000           0.969697           1.000000   \n",
       "3            1.000000           0.969697           1.000000   \n",
       "4            1.000000           0.969697           1.000000   \n",
       "5            1.000000           0.969697           1.000000   \n",
       "6            1.000000           0.969697           0.969697   \n",
       "7            1.000000           0.969697           0.969697   \n",
       "8            1.000000           0.969697           0.969697   \n",
       "9            0.727273           0.727273           0.515152   \n",
       "10           0.727273           0.727273           0.515152   \n",
       "11           0.727273           0.727273           0.515152   \n",
       "12           0.696970           0.757576           0.545455   \n",
       "13           0.727273           0.727273           0.515152   \n",
       "14           0.727273           0.727273           0.515152   \n",
       "15           0.696970           0.727273           0.484848   \n",
       "16           0.696970           0.727273           0.484848   \n",
       "17           0.696970           0.727273           0.484848   \n",
       "\n",
       "    split4_test_score  mean_test_score  std_test_score  rank_test_score  \n",
       "0            1.000000         0.993939        0.012121                1  \n",
       "1            1.000000         0.993939        0.012121                1  \n",
       "2            1.000000         0.993939        0.012121                1  \n",
       "3            1.000000         0.993939        0.012121                1  \n",
       "4            1.000000         0.993939        0.012121                1  \n",
       "5            1.000000         0.993939        0.012121                1  \n",
       "6            1.000000         0.987879        0.014845                7  \n",
       "7            1.000000         0.987879        0.014845                7  \n",
       "8            1.000000         0.987879        0.014845                7  \n",
       "9            0.878788         0.728520        0.120343               10  \n",
       "10           0.878788         0.722638        0.117683               11  \n",
       "11           0.848485         0.716578        0.110016               12  \n",
       "12           0.818182         0.693048        0.093527               13  \n",
       "13           0.818182         0.681105        0.104518               14  \n",
       "14           0.818182         0.681105        0.104518               14  \n",
       "15           0.818182         0.680749        0.109280               16  \n",
       "16           0.818182         0.680749        0.109280               16  \n",
       "17           0.818182         0.680749        0.109280               16  "
      ]
     },
     "execution_count": 126,
     "metadata": {},
     "output_type": "execute_result"
    }
   ],
   "source": [
    "pd.DataFrame(gs_pipe.cv_results_)"
   ]
  },
  {
   "cell_type": "code",
   "execution_count": 127,
   "metadata": {
    "ExecuteTime": {
     "end_time": "2021-10-28T03:34:17.390365Z",
     "start_time": "2021-10-28T03:34:17.386703Z"
    },
    "hidden": true,
    "scrolled": true
   },
   "outputs": [
    {
     "data": {
      "text/plain": [
       "{'col_tr__num__ss__with_std': True, 'knn__n_neighbors': 3, 'knn__p': 1}"
      ]
     },
     "execution_count": 127,
     "metadata": {},
     "output_type": "execute_result"
    }
   ],
   "source": [
    "gs_pipe.best_params_"
   ]
  },
  {
   "cell_type": "markdown",
   "metadata": {
    "heading_collapsed": true,
    "hidden": true
   },
   "source": [
    "## A Note on Data Leakage"
   ]
  },
  {
   "cell_type": "code",
   "execution_count": 133,
   "metadata": {},
   "outputs": [
    {
     "data": {
      "text/plain": [
       "0.9940119760479041"
      ]
     },
     "execution_count": 133,
     "metadata": {},
     "output_type": "execute_result"
    }
   ],
   "source": [
    "gs_pipe.best_estimator_.score(X_test, y_test)"
   ]
  },
  {
   "cell_type": "markdown",
   "metadata": {
    "hidden": true
   },
   "source": [
    "Note we still have to be careful in performing a grid search!\n",
    "\n",
    "We can accidentally \"leak\" information by doing transformations with the **whole data set**, instead of just the **training set**!"
   ]
  },
  {
   "cell_type": "markdown",
   "metadata": {
    "heading_collapsed": true,
    "hidden": true
   },
   "source": [
    "### Example of leaking information"
   ]
  },
  {
   "cell_type": "code",
   "execution_count": 134,
   "metadata": {
    "ExecuteTime": {
     "end_time": "2021-10-28T03:34:20.651129Z",
     "start_time": "2021-10-28T03:34:20.342682Z"
    },
    "hidden": true
   },
   "outputs": [
    {
     "data": {
      "text/plain": [
       "GridSearchCV(estimator=KNeighborsClassifier(),\n",
       "             param_grid={'metric': ['minkowski', 'manhattan'],\n",
       "                         'n_neighbors': [1, 3, 5],\n",
       "                         'weights': ['uniform', 'distance']})"
      ]
     },
     "execution_count": 134,
     "metadata": {},
     "output_type": "execute_result"
    }
   ],
   "source": [
    "scaler = StandardScaler()\n",
    "# Scales over all of the X-train data! (validation set will be considered in scaling)\n",
    "scaled_data = scaler.fit_transform(X_train.select_dtypes('float64'))\n",
    "\n",
    "parameters = {\n",
    "    'n_neighbors': [1, 3, 5],\n",
    "    'metric': ['minkowski', 'manhattan'],\n",
    "    'weights': ['uniform', 'distance']\n",
    "}\n",
    "\n",
    "clf_dt = KNeighborsClassifier()\n",
    "clf = GridSearchCV(clf_dt, parameters)\n",
    "clf.fit(X_train.select_dtypes('float64'), y_train)"
   ]
  },
  {
   "cell_type": "markdown",
   "metadata": {
    "heading_collapsed": true,
    "hidden": true
   },
   "source": [
    "### Example of Grid Search with no leakage"
   ]
  },
  {
   "cell_type": "code",
   "execution_count": 135,
   "metadata": {
    "ExecuteTime": {
     "end_time": "2021-10-28T03:34:23.982285Z",
     "start_time": "2021-10-28T03:34:23.221271Z"
    },
    "hidden": true
   },
   "outputs": [
    {
     "name": "stdout",
     "output_type": "stream",
     "text": [
      "['Adelie' 'Gentoo' 'Adelie' 'Chinstrap' 'Adelie' 'Gentoo' 'Gentoo'\n",
      " 'Chinstrap' 'Chinstrap' 'Chinstrap' 'Adelie' 'Adelie' 'Gentoo' 'Adelie'\n",
      " 'Gentoo' 'Adelie' 'Adelie' 'Chinstrap' 'Adelie' 'Gentoo' 'Adelie'\n",
      " 'Adelie' 'Gentoo' 'Chinstrap' 'Adelie' 'Adelie' 'Gentoo' 'Gentoo'\n",
      " 'Chinstrap' 'Gentoo' 'Chinstrap' 'Gentoo' 'Adelie' 'Adelie' 'Gentoo'\n",
      " 'Gentoo' 'Chinstrap' 'Gentoo' 'Adelie' 'Adelie' 'Adelie' 'Adelie'\n",
      " 'Chinstrap' 'Chinstrap' 'Adelie' 'Adelie' 'Gentoo' 'Adelie' 'Adelie'\n",
      " 'Gentoo' 'Adelie' 'Gentoo' 'Gentoo' 'Adelie' 'Adelie' 'Gentoo'\n",
      " 'Chinstrap' 'Adelie' 'Chinstrap' 'Chinstrap' 'Gentoo' 'Gentoo' 'Gentoo'\n",
      " 'Adelie' 'Adelie' 'Gentoo' 'Adelie' 'Gentoo' 'Adelie' 'Gentoo' 'Adelie'\n",
      " 'Adelie' 'Gentoo' 'Gentoo' 'Gentoo' 'Chinstrap' 'Adelie' 'Adelie'\n",
      " 'Adelie' 'Gentoo' 'Chinstrap' 'Adelie' 'Chinstrap' 'Adelie' 'Gentoo'\n",
      " 'Gentoo' 'Adelie' 'Gentoo' 'Chinstrap' 'Chinstrap' 'Gentoo' 'Gentoo'\n",
      " 'Adelie' 'Adelie' 'Adelie' 'Adelie' 'Adelie' 'Chinstrap' 'Adelie'\n",
      " 'Adelie' 'Adelie' 'Gentoo' 'Gentoo' 'Adelie' 'Chinstrap' 'Adelie'\n",
      " 'Gentoo' 'Gentoo' 'Adelie' 'Chinstrap' 'Adelie' 'Gentoo' 'Adelie'\n",
      " 'Chinstrap' 'Chinstrap' 'Chinstrap' 'Adelie' 'Gentoo' 'Adelie'\n",
      " 'Chinstrap' 'Adelie' 'Chinstrap' 'Gentoo' 'Adelie' 'Adelie' 'Gentoo'\n",
      " 'Adelie' 'Adelie' 'Adelie' 'Chinstrap' 'Adelie' 'Adelie' 'Chinstrap'\n",
      " 'Adelie' 'Adelie' 'Adelie' 'Gentoo' 'Chinstrap' 'Gentoo' 'Adelie'\n",
      " 'Chinstrap' 'Gentoo' 'Adelie' 'Gentoo' 'Chinstrap' 'Gentoo' 'Chinstrap'\n",
      " 'Gentoo' 'Gentoo' 'Gentoo' 'Chinstrap' 'Gentoo' 'Adelie' 'Adelie'\n",
      " 'Gentoo' 'Chinstrap' 'Chinstrap' 'Adelie' 'Chinstrap' 'Chinstrap'\n",
      " 'Adelie' 'Gentoo' 'Gentoo' 'Gentoo' 'Chinstrap' 'Gentoo' 'Gentoo']\n"
     ]
    }
   ],
   "source": [
    "pipeline = Pipeline([\n",
    "    ('scaler', StandardScaler()),\n",
    "    ('clf', KNeighborsClassifier())\n",
    "])\n",
    "\n",
    "# Note you use the part of the pipeline's name `NAME__{parameter}`\n",
    "parameters = {\n",
    "    'scaler__with_mean': [True, False],\n",
    "    'clf__n_neighbors': [1, 3, 5],\n",
    "    'clf__metric': ['minkowski', 'manhattan'],\n",
    "    'clf__weights': ['uniform', 'distance']\n",
    "}\n",
    "\n",
    "cv = GridSearchCV(pipeline, param_grid=parameters)\n",
    "\n",
    "cv.fit(X_train.select_dtypes('float64'), y_train)\n",
    "y_pred = cv.predict(X_test.select_dtypes('float64'))\n",
    "print(y_pred)"
   ]
  },
  {
   "cell_type": "markdown",
   "metadata": {
    "heading_collapsed": true
   },
   "source": [
    "# Grid Search Exercise"
   ]
  },
  {
   "cell_type": "markdown",
   "metadata": {
    "hidden": true
   },
   "source": [
    "Use a classifier of your choice to predict the category of price range for the phones in this dataset. Try tuning some hyperparameters using a grid search, and then write up a short paragraph about your findings."
   ]
  },
  {
   "cell_type": "code",
   "execution_count": null,
   "metadata": {
    "ExecuteTime": {
     "end_time": "2021-10-28T03:34:38.974212Z",
     "start_time": "2021-10-28T03:34:38.957557Z"
    },
    "hidden": true
   },
   "outputs": [],
   "source": [
    "phones_train = pd.read_csv('data/train.csv')\n",
    "phones_test = pd.read_csv('data/test.csv')"
   ]
  },
  {
   "cell_type": "markdown",
   "metadata": {
    "heading_collapsed": true
   },
   "source": [
    "# Level Up: Random Searching"
   ]
  },
  {
   "cell_type": "markdown",
   "metadata": {
    "hidden": true
   },
   "source": [
    "It is also possible to search for good hyperparameter values randomly. This is a nice choice if computation time is an issue or if you are tuning over continuous hyperparameters."
   ]
  },
  {
   "cell_type": "markdown",
   "metadata": {
    "heading_collapsed": true,
    "hidden": true
   },
   "source": [
    "### `RandomizedSearchCV` with `LogisticRegression`"
   ]
  },
  {
   "cell_type": "code",
   "execution_count": 137,
   "metadata": {
    "ExecuteTime": {
     "end_time": "2021-10-28T03:34:46.731177Z",
     "start_time": "2021-10-28T03:34:46.727225Z"
    },
    "hidden": true
   },
   "outputs": [],
   "source": [
    "log_reg_grid = {'C': stats.uniform(loc=0, scale=10),\n",
    "               'l1_ratio': stats.expon(scale=0.2)}"
   ]
  },
  {
   "cell_type": "code",
   "execution_count": 143,
   "metadata": {
    "ExecuteTime": {
     "end_time": "2021-10-28T03:34:49.166819Z",
     "start_time": "2021-10-28T03:34:48.678224Z"
    },
    "hidden": true
   },
   "outputs": [
    {
     "name": "stdout",
     "output_type": "stream",
     "text": [
      "Fitting 5 folds for each of 100 candidates, totalling 500 fits\n",
      "[CV] C=3.745401188473625, l1_ratio=0.6020242861835042 ................\n",
      "[CV] . C=3.745401188473625, l1_ratio=0.6020242861835042, total=   0.0s\n",
      "[CV] C=3.745401188473625, l1_ratio=0.6020242861835042 ................\n",
      "[CV] . C=3.745401188473625, l1_ratio=0.6020242861835042, total=   0.0s\n",
      "[CV] C=3.745401188473625, l1_ratio=0.6020242861835042 ................\n",
      "[CV] . C=3.745401188473625, l1_ratio=0.6020242861835042, total=   0.0s\n",
      "[CV] C=3.745401188473625, l1_ratio=0.6020242861835042 ................\n",
      "[CV] . C=3.745401188473625, l1_ratio=0.6020242861835042, total=   0.0s\n",
      "[CV] C=3.745401188473625, l1_ratio=0.6020242861835042 ................\n",
      "[CV] . C=3.745401188473625, l1_ratio=0.6020242861835042, total=   0.0s\n",
      "[CV] C=7.319939418114051, l1_ratio=0.18258851075519067 ...............\n",
      "[CV]  C=7.319939418114051, l1_ratio=0.18258851075519067, total=   0.0s\n",
      "[CV] C=7.319939418114051, l1_ratio=0.18258851075519067 ...............\n",
      "[CV]  C=7.319939418114051, l1_ratio=0.18258851075519067, total=   0.0s\n",
      "[CV] C=7.319939418114051, l1_ratio=0.18258851075519067 ...............\n",
      "[CV]  C=7.319939418114051, l1_ratio=0.18258851075519067, total=   0.0s\n",
      "[CV] C=7.319939418114051, l1_ratio=0.18258851075519067 ...............\n",
      "[CV]  C=7.319939418114051, l1_ratio=0.18258851075519067, total=   0.0s\n",
      "[CV] C=7.319939418114051, l1_ratio=0.18258851075519067 ...............\n",
      "[CV]  C=7.319939418114051, l1_ratio=0.18258851075519067, total=   0.0s\n",
      "[CV] C=1.5601864044243652, l1_ratio=0.033919258382921036 .............\n",
      "[CV]  C=1.5601864044243652, l1_ratio=0.033919258382921036, total=   0.0s\n",
      "[CV] C=1.5601864044243652, l1_ratio=0.033919258382921036 .............\n",
      "[CV]  C=1.5601864044243652, l1_ratio=0.033919258382921036, total=   0.0s\n",
      "[CV] C=1.5601864044243652, l1_ratio=0.033919258382921036 .............\n",
      "[CV]  C=1.5601864044243652, l1_ratio=0.033919258382921036, total=   0.0s\n",
      "[CV] C=1.5601864044243652, l1_ratio=0.033919258382921036 .............\n",
      "[CV]  C=1.5601864044243652, l1_ratio=0.033919258382921036, total=   0.0s\n",
      "[CV] C=1.5601864044243652, l1_ratio=0.033919258382921036 .............\n",
      "[CV]  C=1.5601864044243652, l1_ratio=0.033919258382921036, total=   0.0s\n",
      "[CV] C=0.5808361216819946, l1_ratio=0.4022461728959879 ...............\n",
      "[CV]  C=0.5808361216819946, l1_ratio=0.4022461728959879, total=   0.0s\n",
      "[CV] C=0.5808361216819946, l1_ratio=0.4022461728959879 ...............\n",
      "[CV]  C=0.5808361216819946, l1_ratio=0.4022461728959879, total=   0.0s\n",
      "[CV] C=0.5808361216819946, l1_ratio=0.4022461728959879 ...............\n",
      "[CV]  C=0.5808361216819946, l1_ratio=0.4022461728959879, total=   0.0s\n",
      "[CV] C=0.5808361216819946, l1_ratio=0.4022461728959879 ...............\n",
      "[CV]  C=0.5808361216819946, l1_ratio=0.4022461728959879, total=   0.0s\n",
      "[CV] C=0.5808361216819946, l1_ratio=0.4022461728959879 ...............\n",
      "[CV]  C=0.5808361216819946, l1_ratio=0.4022461728959879, total=   0.0s\n",
      "[CV] C=6.011150117432088, l1_ratio=0.24625001234091806 ...............\n",
      "[CV]  C=6.011150117432088, l1_ratio=0.24625001234091806, total=   0.0s\n",
      "[CV] C=6.011150117432088, l1_ratio=0.24625001234091806 ...............\n",
      "[CV]  C=6.011150117432088, l1_ratio=0.24625001234091806, total=   0.0s\n",
      "[CV] C=6.011150117432088, l1_ratio=0.24625001234091806 ...............\n",
      "[CV]  C=6.011150117432088, l1_ratio=0.24625001234091806, total=   0.0s\n",
      "[CV] C=6.011150117432088, l1_ratio=0.24625001234091806 ...............\n"
     ]
    },
    {
     "name": "stderr",
     "output_type": "stream",
     "text": [
      "[Parallel(n_jobs=1)]: Using backend SequentialBackend with 1 concurrent workers.\n",
      "[Parallel(n_jobs=1)]: Done   1 out of   1 | elapsed:    0.0s remaining:    0.0s\n"
     ]
    },
    {
     "name": "stdout",
     "output_type": "stream",
     "text": [
      "[CV]  C=6.011150117432088, l1_ratio=0.24625001234091806, total=   0.0s\n",
      "[CV] C=6.011150117432088, l1_ratio=0.24625001234091806 ...............\n",
      "[CV]  C=6.011150117432088, l1_ratio=0.24625001234091806, total=   0.0s\n",
      "[CV] C=0.20584494295802447, l1_ratio=0.7007114950316624 ..............\n",
      "[CV]  C=0.20584494295802447, l1_ratio=0.7007114950316624, total=   0.0s\n",
      "[CV] C=0.20584494295802447, l1_ratio=0.7007114950316624 ..............\n",
      "[CV]  C=0.20584494295802447, l1_ratio=0.7007114950316624, total=   0.0s\n",
      "[CV] C=0.20584494295802447, l1_ratio=0.7007114950316624 ..............\n",
      "[CV]  C=0.20584494295802447, l1_ratio=0.7007114950316624, total=   0.0s\n",
      "[CV] C=0.20584494295802447, l1_ratio=0.7007114950316624 ..............\n",
      "[CV]  C=0.20584494295802447, l1_ratio=0.7007114950316624, total=   0.0s\n",
      "[CV] C=0.20584494295802447, l1_ratio=0.7007114950316624 ..............\n",
      "[CV]  C=0.20584494295802447, l1_ratio=0.7007114950316624, total=   0.0s\n",
      "[CV] C=8.324426408004218, l1_ratio=0.0477375250497894 ................\n",
      "[CV] . C=8.324426408004218, l1_ratio=0.0477375250497894, total=   0.0s\n",
      "[CV] C=8.324426408004218, l1_ratio=0.0477375250497894 ................\n",
      "[CV] . C=8.324426408004218, l1_ratio=0.0477375250497894, total=   0.0s\n",
      "[CV] C=8.324426408004218, l1_ratio=0.0477375250497894 ................\n",
      "[CV] . C=8.324426408004218, l1_ratio=0.0477375250497894, total=   0.0s\n",
      "[CV] C=8.324426408004218, l1_ratio=0.0477375250497894 ................\n",
      "[CV] . C=8.324426408004218, l1_ratio=0.0477375250497894, total=   0.0s\n",
      "[CV] C=8.324426408004218, l1_ratio=0.0477375250497894 ................\n",
      "[CV] . C=8.324426408004218, l1_ratio=0.0477375250497894, total=   0.0s\n",
      "[CV] C=1.8182496720710062, l1_ratio=0.04052228456645141 ..............\n",
      "[CV]  C=1.8182496720710062, l1_ratio=0.04052228456645141, total=   0.0s\n",
      "[CV] C=1.8182496720710062, l1_ratio=0.04052228456645141 ..............\n",
      "[CV]  C=1.8182496720710062, l1_ratio=0.04052228456645141, total=   0.0s\n",
      "[CV] C=1.8182496720710062, l1_ratio=0.04052228456645141 ..............\n",
      "[CV]  C=1.8182496720710062, l1_ratio=0.04052228456645141, total=   0.0s\n",
      "[CV] C=1.8182496720710062, l1_ratio=0.04052228456645141 ..............\n",
      "[CV]  C=1.8182496720710062, l1_ratio=0.04052228456645141, total=   0.0s\n",
      "[CV] C=1.8182496720710062, l1_ratio=0.04052228456645141 ..............\n",
      "[CV]  C=1.8182496720710062, l1_ratio=0.04052228456645141, total=   0.0s\n",
      "[CV] C=3.0424224295953772, l1_ratio=0.1487855661721709 ...............\n",
      "[CV]  C=3.0424224295953772, l1_ratio=0.1487855661721709, total=   0.0s\n",
      "[CV] C=3.0424224295953772, l1_ratio=0.1487855661721709 ...............\n",
      "[CV]  C=3.0424224295953772, l1_ratio=0.1487855661721709, total=   0.0s\n",
      "[CV] C=3.0424224295953772, l1_ratio=0.1487855661721709 ...............\n",
      "[CV]  C=3.0424224295953772, l1_ratio=0.1487855661721709, total=   0.0s\n",
      "[CV] C=3.0424224295953772, l1_ratio=0.1487855661721709 ...............\n",
      "[CV]  C=3.0424224295953772, l1_ratio=0.1487855661721709, total=   0.0s\n",
      "[CV] C=3.0424224295953772, l1_ratio=0.1487855661721709 ...............\n",
      "[CV]  C=3.0424224295953772, l1_ratio=0.1487855661721709, total=   0.0s\n",
      "[CV] C=4.319450186421157, l1_ratio=0.06884459851078831 ...............\n",
      "[CV]  C=4.319450186421157, l1_ratio=0.06884459851078831, total=   0.0s\n",
      "[CV] C=4.319450186421157, l1_ratio=0.06884459851078831 ...............\n",
      "[CV]  C=4.319450186421157, l1_ratio=0.06884459851078831, total=   0.0s\n",
      "[CV] C=4.319450186421157, l1_ratio=0.06884459851078831 ...............\n",
      "[CV]  C=4.319450186421157, l1_ratio=0.06884459851078831, total=   0.0s\n",
      "[CV] C=4.319450186421157, l1_ratio=0.06884459851078831 ...............\n",
      "[CV]  C=4.319450186421157, l1_ratio=0.06884459851078831, total=   0.0s\n",
      "[CV] C=4.319450186421157, l1_ratio=0.06884459851078831 ...............\n",
      "[CV]  C=4.319450186421157, l1_ratio=0.06884459851078831, total=   0.0s\n",
      "[CV] C=6.118528947223795, l1_ratio=0.030046905745467735 ..............\n",
      "[CV]  C=6.118528947223795, l1_ratio=0.030046905745467735, total=   0.0s\n",
      "[CV] C=6.118528947223795, l1_ratio=0.030046905745467735 ..............\n",
      "[CV]  C=6.118528947223795, l1_ratio=0.030046905745467735, total=   0.0s\n",
      "[CV] C=6.118528947223795, l1_ratio=0.030046905745467735 ..............\n",
      "[CV]  C=6.118528947223795, l1_ratio=0.030046905745467735, total=   0.0s\n",
      "[CV] C=6.118528947223795, l1_ratio=0.030046905745467735 ..............\n",
      "[CV]  C=6.118528947223795, l1_ratio=0.030046905745467735, total=   0.0s\n",
      "[CV] C=6.118528947223795, l1_ratio=0.030046905745467735 ..............\n",
      "[CV]  C=6.118528947223795, l1_ratio=0.030046905745467735, total=   0.0s\n",
      "[CV] C=2.9214464853521815, l1_ratio=0.09125544364416942 ..............\n",
      "[CV]  C=2.9214464853521815, l1_ratio=0.09125544364416942, total=   0.0s\n",
      "[CV] C=2.9214464853521815, l1_ratio=0.09125544364416942 ..............\n",
      "[CV]  C=2.9214464853521815, l1_ratio=0.09125544364416942, total=   0.0s\n",
      "[CV] C=2.9214464853521815, l1_ratio=0.09125544364416942 ..............\n",
      "[CV]  C=2.9214464853521815, l1_ratio=0.09125544364416942, total=   0.0s\n",
      "[CV] C=2.9214464853521815, l1_ratio=0.09125544364416942 ..............\n",
      "[CV]  C=2.9214464853521815, l1_ratio=0.09125544364416942, total=   0.0s\n",
      "[CV] C=2.9214464853521815, l1_ratio=0.09125544364416942 ..............\n",
      "[CV]  C=2.9214464853521815, l1_ratio=0.09125544364416942, total=   0.0s\n",
      "[CV] C=4.56069984217036, l1_ratio=0.3075872022061824 .................\n",
      "[CV] .. C=4.56069984217036, l1_ratio=0.3075872022061824, total=   0.0s\n",
      "[CV] C=4.56069984217036, l1_ratio=0.3075872022061824 .................\n",
      "[CV] .. C=4.56069984217036, l1_ratio=0.3075872022061824, total=   0.0s\n",
      "[CV] C=4.56069984217036, l1_ratio=0.3075872022061824 .................\n",
      "[CV] .. C=4.56069984217036, l1_ratio=0.3075872022061824, total=   0.0s\n",
      "[CV] C=4.56069984217036, l1_ratio=0.3075872022061824 .................\n",
      "[CV] .. C=4.56069984217036, l1_ratio=0.3075872022061824, total=   0.0s\n",
      "[CV] C=4.56069984217036, l1_ratio=0.3075872022061824 .................\n",
      "[CV] .. C=4.56069984217036, l1_ratio=0.3075872022061824, total=   0.0s\n",
      "[CV] C=1.9967378215835974, l1_ratio=0.14440583100662555 ..............\n",
      "[CV]  C=1.9967378215835974, l1_ratio=0.14440583100662555, total=   0.0s\n",
      "[CV] C=1.9967378215835974, l1_ratio=0.14440583100662555 ..............\n",
      "[CV]  C=1.9967378215835974, l1_ratio=0.14440583100662555, total=   0.0s\n",
      "[CV] C=1.9967378215835974, l1_ratio=0.14440583100662555 ..............\n",
      "[CV]  C=1.9967378215835974, l1_ratio=0.14440583100662555, total=   0.0s\n",
      "[CV] C=1.9967378215835974, l1_ratio=0.14440583100662555 ..............\n",
      "[CV]  C=1.9967378215835974, l1_ratio=0.14440583100662555, total=   0.0s\n",
      "[CV] C=1.9967378215835974, l1_ratio=0.14440583100662555 ..............\n",
      "[CV]  C=1.9967378215835974, l1_ratio=0.14440583100662555, total=   0.0s\n",
      "[CV] C=5.924145688620425, l1_ratio=0.00951276995128171 ...............\n",
      "[CV]  C=5.924145688620425, l1_ratio=0.00951276995128171, total=   0.0s\n",
      "[CV] C=5.924145688620425, l1_ratio=0.00951276995128171 ...............\n",
      "[CV]  C=5.924145688620425, l1_ratio=0.00951276995128171, total=   0.0s\n",
      "[CV] C=5.924145688620425, l1_ratio=0.00951276995128171 ...............\n",
      "[CV]  C=5.924145688620425, l1_ratio=0.00951276995128171, total=   0.0s\n",
      "[CV] C=5.924145688620425, l1_ratio=0.00951276995128171 ...............\n",
      "[CV]  C=5.924145688620425, l1_ratio=0.00951276995128171, total=   0.0s\n",
      "[CV] C=5.924145688620425, l1_ratio=0.00951276995128171 ...............\n",
      "[CV]  C=5.924145688620425, l1_ratio=0.00951276995128171, total=   0.0s\n",
      "[CV] C=6.075448519014383, l1_ratio=0.03739225039548329 ...............\n",
      "[CV]  C=6.075448519014383, l1_ratio=0.03739225039548329, total=   0.0s\n",
      "[CV] C=6.075448519014383, l1_ratio=0.03739225039548329 ...............\n",
      "[CV]  C=6.075448519014383, l1_ratio=0.03739225039548329, total=   0.0s\n",
      "[CV] C=6.075448519014383, l1_ratio=0.03739225039548329 ...............\n",
      "[CV]  C=6.075448519014383, l1_ratio=0.03739225039548329, total=   0.0s\n",
      "[CV] C=6.075448519014383, l1_ratio=0.03739225039548329 ...............\n",
      "[CV]  C=6.075448519014383, l1_ratio=0.03739225039548329, total=   0.0s\n",
      "[CV] C=6.075448519014383, l1_ratio=0.03739225039548329 ...............\n",
      "[CV]  C=6.075448519014383, l1_ratio=0.03739225039548329, total=   0.0s\n",
      "[CV] C=0.6505159298527952, l1_ratio=0.5947375587013862 ...............\n",
      "[CV]  C=0.6505159298527952, l1_ratio=0.5947375587013862, total=   0.0s\n",
      "[CV] C=0.6505159298527952, l1_ratio=0.5947375587013862 ...............\n",
      "[CV]  C=0.6505159298527952, l1_ratio=0.5947375587013862, total=   0.0s\n",
      "[CV] C=0.6505159298527952, l1_ratio=0.5947375587013862 ...............\n",
      "[CV]  C=0.6505159298527952, l1_ratio=0.5947375587013862, total=   0.0s\n",
      "[CV] C=0.6505159298527952, l1_ratio=0.5947375587013862 ...............\n",
      "[CV]  C=0.6505159298527952, l1_ratio=0.5947375587013862, total=   0.0s\n",
      "[CV] C=0.6505159298527952, l1_ratio=0.5947375587013862 ...............\n",
      "[CV]  C=0.6505159298527952, l1_ratio=0.5947375587013862, total=   0.0s\n",
      "[CV] C=9.656320330745594, l1_ratio=0.33046631456257536 ...............\n"
     ]
    },
    {
     "name": "stdout",
     "output_type": "stream",
     "text": [
      "[CV]  C=9.656320330745594, l1_ratio=0.33046631456257536, total=   0.0s\n",
      "[CV] C=9.656320330745594, l1_ratio=0.33046631456257536 ...............\n",
      "[CV]  C=9.656320330745594, l1_ratio=0.33046631456257536, total=   0.0s\n",
      "[CV] C=9.656320330745594, l1_ratio=0.33046631456257536 ...............\n",
      "[CV]  C=9.656320330745594, l1_ratio=0.33046631456257536, total=   0.0s\n",
      "[CV] C=9.656320330745594, l1_ratio=0.33046631456257536 ...............\n",
      "[CV]  C=9.656320330745594, l1_ratio=0.33046631456257536, total=   0.0s\n",
      "[CV] C=9.656320330745594, l1_ratio=0.33046631456257536 ...............\n",
      "[CV]  C=9.656320330745594, l1_ratio=0.33046631456257536, total=   0.0s\n",
      "[CV] C=3.0461376917337066, l1_ratio=0.020555463000501248 .............\n",
      "[CV]  C=3.0461376917337066, l1_ratio=0.020555463000501248, total=   0.0s\n",
      "[CV] C=3.0461376917337066, l1_ratio=0.020555463000501248 .............\n",
      "[CV]  C=3.0461376917337066, l1_ratio=0.020555463000501248, total=   0.0s\n",
      "[CV] C=3.0461376917337066, l1_ratio=0.020555463000501248 .............\n",
      "[CV]  C=3.0461376917337066, l1_ratio=0.020555463000501248, total=   0.0s\n",
      "[CV] C=3.0461376917337066, l1_ratio=0.020555463000501248 .............\n",
      "[CV]  C=3.0461376917337066, l1_ratio=0.020555463000501248, total=   0.0s\n",
      "[CV] C=3.0461376917337066, l1_ratio=0.020555463000501248 .............\n",
      "[CV]  C=3.0461376917337066, l1_ratio=0.020555463000501248, total=   0.0s\n",
      "[CV] C=6.842330265121569, l1_ratio=0.11601816851707968 ...............\n",
      "[CV]  C=6.842330265121569, l1_ratio=0.11601816851707968, total=   0.0s\n",
      "[CV] C=6.842330265121569, l1_ratio=0.11601816851707968 ...............\n",
      "[CV]  C=6.842330265121569, l1_ratio=0.11601816851707968, total=   0.0s\n",
      "[CV] C=6.842330265121569, l1_ratio=0.11601816851707968 ...............\n",
      "[CV]  C=6.842330265121569, l1_ratio=0.11601816851707968, total=   0.0s\n",
      "[CV] C=6.842330265121569, l1_ratio=0.11601816851707968 ...............\n",
      "[CV]  C=6.842330265121569, l1_ratio=0.11601816851707968, total=   0.0s\n",
      "[CV] C=6.842330265121569, l1_ratio=0.11601816851707968 ...............\n",
      "[CV]  C=6.842330265121569, l1_ratio=0.11601816851707968, total=   0.0s\n",
      "[CV] C=1.2203823484477883, l1_ratio=0.13670944562683005 ..............\n",
      "[CV]  C=1.2203823484477883, l1_ratio=0.13670944562683005, total=   0.0s\n",
      "[CV] C=1.2203823484477883, l1_ratio=0.13670944562683005 ..............\n",
      "[CV]  C=1.2203823484477883, l1_ratio=0.13670944562683005, total=   0.0s\n",
      "[CV] C=1.2203823484477883, l1_ratio=0.13670944562683005 ..............\n",
      "[CV]  C=1.2203823484477883, l1_ratio=0.13670944562683005, total=   0.0s\n",
      "[CV] C=1.2203823484477883, l1_ratio=0.13670944562683005 ..............\n",
      "[CV]  C=1.2203823484477883, l1_ratio=0.13670944562683005, total=   0.0s\n",
      "[CV] C=1.2203823484477883, l1_ratio=0.13670944562683005 ..............\n",
      "[CV]  C=1.2203823484477883, l1_ratio=0.13670944562683005, total=   0.0s\n",
      "[CV] C=0.34388521115218396, l1_ratio=0.4800845774786048 ..............\n",
      "[CV]  C=0.34388521115218396, l1_ratio=0.4800845774786048, total=   0.0s\n",
      "[CV] C=0.34388521115218396, l1_ratio=0.4800845774786048 ..............\n",
      "[CV]  C=0.34388521115218396, l1_ratio=0.4800845774786048, total=   0.0s\n",
      "[CV] C=0.34388521115218396, l1_ratio=0.4800845774786048 ..............\n",
      "[CV]  C=0.34388521115218396, l1_ratio=0.4800845774786048, total=   0.0s\n",
      "[CV] C=0.34388521115218396, l1_ratio=0.4800845774786048 ..............\n",
      "[CV]  C=0.34388521115218396, l1_ratio=0.4800845774786048, total=   0.0s\n",
      "[CV] C=0.34388521115218396, l1_ratio=0.4800845774786048 ..............\n",
      "[CV]  C=0.34388521115218396, l1_ratio=0.4800845774786048, total=   0.0s\n",
      "[CV] C=2.587799816000169, l1_ratio=0.21725115971299608 ...............\n",
      "[CV]  C=2.587799816000169, l1_ratio=0.21725115971299608, total=   0.0s\n",
      "[CV] C=2.587799816000169, l1_ratio=0.21725115971299608 ...............\n",
      "[CV]  C=2.587799816000169, l1_ratio=0.21725115971299608, total=   0.0s\n",
      "[CV] C=2.587799816000169, l1_ratio=0.21725115971299608 ...............\n",
      "[CV]  C=2.587799816000169, l1_ratio=0.21725115971299608, total=   0.0s\n",
      "[CV] C=2.587799816000169, l1_ratio=0.21725115971299608 ...............\n",
      "[CV]  C=2.587799816000169, l1_ratio=0.21725115971299608, total=   0.0s\n",
      "[CV] C=2.587799816000169, l1_ratio=0.21725115971299608 ...............\n",
      "[CV]  C=2.587799816000169, l1_ratio=0.21725115971299608, total=   0.0s\n",
      "[CV] C=3.1171107608941098, l1_ratio=0.14682217918184573 ..............\n",
      "[CV]  C=3.1171107608941098, l1_ratio=0.14682217918184573, total=   0.0s\n",
      "[CV] C=3.1171107608941098, l1_ratio=0.14682217918184573 ..............\n",
      "[CV]  C=3.1171107608941098, l1_ratio=0.14682217918184573, total=   0.0s\n",
      "[CV] C=3.1171107608941098, l1_ratio=0.14682217918184573 ..............\n",
      "[CV]  C=3.1171107608941098, l1_ratio=0.14682217918184573, total=   0.0s\n",
      "[CV] C=3.1171107608941098, l1_ratio=0.14682217918184573 ..............\n",
      "[CV]  C=3.1171107608941098, l1_ratio=0.14682217918184573, total=   0.0s\n",
      "[CV] C=3.1171107608941098, l1_ratio=0.14682217918184573 ..............\n",
      "[CV]  C=3.1171107608941098, l1_ratio=0.14682217918184573, total=   0.0s\n",
      "[CV] C=5.4671027934327965, l1_ratio=0.04087771990158115 ..............\n",
      "[CV]  C=5.4671027934327965, l1_ratio=0.04087771990158115, total=   0.0s\n",
      "[CV] C=5.4671027934327965, l1_ratio=0.04087771990158115 ..............\n",
      "[CV]  C=5.4671027934327965, l1_ratio=0.04087771990158115, total=   0.0s\n",
      "[CV] C=5.4671027934327965, l1_ratio=0.04087771990158115 ..............\n",
      "[CV]  C=5.4671027934327965, l1_ratio=0.04087771990158115, total=   0.0s\n",
      "[CV] C=5.4671027934327965, l1_ratio=0.04087771990158115 ..............\n",
      "[CV]  C=5.4671027934327965, l1_ratio=0.04087771990158115, total=   0.0s\n",
      "[CV] C=5.4671027934327965, l1_ratio=0.04087771990158115 ..............\n",
      "[CV]  C=5.4671027934327965, l1_ratio=0.04087771990158115, total=   0.0s\n",
      "[CV] C=9.695846277645586, l1_ratio=0.29844907542762816 ...............\n",
      "[CV]  C=9.695846277645586, l1_ratio=0.29844907542762816, total=   0.0s\n",
      "[CV] C=9.695846277645586, l1_ratio=0.29844907542762816 ...............\n",
      "[CV]  C=9.695846277645586, l1_ratio=0.29844907542762816, total=   0.0s\n",
      "[CV] C=9.695846277645586, l1_ratio=0.29844907542762816 ...............\n",
      "[CV]  C=9.695846277645586, l1_ratio=0.29844907542762816, total=   0.0s\n",
      "[CV] C=9.695846277645586, l1_ratio=0.29844907542762816 ...............\n",
      "[CV]  C=9.695846277645586, l1_ratio=0.29844907542762816, total=   0.0s\n",
      "[CV] C=9.695846277645586, l1_ratio=0.29844907542762816 ...............\n",
      "[CV]  C=9.695846277645586, l1_ratio=0.29844907542762816, total=   0.0s\n",
      "[CV] C=9.394989415641891, l1_ratio=0.45043039950683933 ...............\n",
      "[CV]  C=9.394989415641891, l1_ratio=0.45043039950683933, total=   0.0s\n",
      "[CV] C=9.394989415641891, l1_ratio=0.45043039950683933 ...............\n",
      "[CV]  C=9.394989415641891, l1_ratio=0.45043039950683933, total=   0.0s\n",
      "[CV] C=9.394989415641891, l1_ratio=0.45043039950683933 ...............\n",
      "[CV]  C=9.394989415641891, l1_ratio=0.45043039950683933, total=   0.0s\n",
      "[CV] C=9.394989415641891, l1_ratio=0.45043039950683933 ...............\n",
      "[CV]  C=9.394989415641891, l1_ratio=0.45043039950683933, total=   0.0s\n",
      "[CV] C=9.394989415641891, l1_ratio=0.45043039950683933 ...............\n",
      "[CV]  C=9.394989415641891, l1_ratio=0.45043039950683933, total=   0.0s\n",
      "[CV] C=5.978999788110851, l1_ratio=0.509887075853881 .................\n",
      "[CV] .. C=5.978999788110851, l1_ratio=0.509887075853881, total=   0.0s\n",
      "[CV] C=5.978999788110851, l1_ratio=0.509887075853881 .................\n",
      "[CV] .. C=5.978999788110851, l1_ratio=0.509887075853881, total=   0.0s\n",
      "[CV] C=5.978999788110851, l1_ratio=0.509887075853881 .................\n",
      "[CV] .. C=5.978999788110851, l1_ratio=0.509887075853881, total=   0.0s\n",
      "[CV] C=5.978999788110851, l1_ratio=0.509887075853881 .................\n",
      "[CV] .. C=5.978999788110851, l1_ratio=0.509887075853881, total=   0.0s\n",
      "[CV] C=5.978999788110851, l1_ratio=0.509887075853881 .................\n",
      "[CV] .. C=5.978999788110851, l1_ratio=0.509887075853881, total=   0.0s\n",
      "[CV] C=0.884925020519195, l1_ratio=0.043626938926253495 ..............\n",
      "[CV]  C=0.884925020519195, l1_ratio=0.043626938926253495, total=   0.0s\n",
      "[CV] C=0.884925020519195, l1_ratio=0.043626938926253495 ..............\n",
      "[CV]  C=0.884925020519195, l1_ratio=0.043626938926253495, total=   0.0s\n",
      "[CV] C=0.884925020519195, l1_ratio=0.043626938926253495 ..............\n",
      "[CV]  C=0.884925020519195, l1_ratio=0.043626938926253495, total=   0.0s\n",
      "[CV] C=0.884925020519195, l1_ratio=0.043626938926253495 ..............\n",
      "[CV]  C=0.884925020519195, l1_ratio=0.043626938926253495, total=   0.0s\n",
      "[CV] C=0.884925020519195, l1_ratio=0.043626938926253495 ..............\n",
      "[CV]  C=0.884925020519195, l1_ratio=0.043626938926253495, total=   0.0s\n",
      "[CV] C=0.45227288910538066, l1_ratio=0.07870641736061737 .............\n",
      "[CV]  C=0.45227288910538066, l1_ratio=0.07870641736061737, total=   0.0s\n",
      "[CV] C=0.45227288910538066, l1_ratio=0.07870641736061737 .............\n",
      "[CV]  C=0.45227288910538066, l1_ratio=0.07870641736061737, total=   0.0s\n",
      "[CV] C=0.45227288910538066, l1_ratio=0.07870641736061737 .............\n",
      "[CV]  C=0.45227288910538066, l1_ratio=0.07870641736061737, total=   0.0s\n",
      "[CV] C=0.45227288910538066, l1_ratio=0.07870641736061737 .............\n",
      "[CV]  C=0.45227288910538066, l1_ratio=0.07870641736061737, total=   0.0s\n",
      "[CV] C=0.45227288910538066, l1_ratio=0.07870641736061737 .............\n",
      "[CV]  C=0.45227288910538066, l1_ratio=0.07870641736061737, total=   0.0s\n",
      "[CV] C=3.8867728968948203, l1_ratio=0.06331208864176514 ..............\n",
      "[CV]  C=3.8867728968948203, l1_ratio=0.06331208864176514, total=   0.0s\n",
      "[CV] C=3.8867728968948203, l1_ratio=0.06331208864176514 ..............\n",
      "[CV]  C=3.8867728968948203, l1_ratio=0.06331208864176514, total=   0.0s\n",
      "[CV] C=3.8867728968948203, l1_ratio=0.06331208864176514 ..............\n",
      "[CV]  C=3.8867728968948203, l1_ratio=0.06331208864176514, total=   0.0s\n",
      "[CV] C=3.8867728968948203, l1_ratio=0.06331208864176514 ..............\n",
      "[CV]  C=3.8867728968948203, l1_ratio=0.06331208864176514, total=   0.0s\n",
      "[CV] C=3.8867728968948203, l1_ratio=0.06331208864176514 ..............\n",
      "[CV]  C=3.8867728968948203, l1_ratio=0.06331208864176514, total=   0.0s\n",
      "[CV] C=8.287375091519294, l1_ratio=0.08824539990597403 ...............\n",
      "[CV]  C=8.287375091519294, l1_ratio=0.08824539990597403, total=   0.0s\n",
      "[CV] C=8.287375091519294, l1_ratio=0.08824539990597403 ...............\n",
      "[CV]  C=8.287375091519294, l1_ratio=0.08824539990597403, total=   0.0s\n",
      "[CV] C=8.287375091519294, l1_ratio=0.08824539990597403 ...............\n",
      "[CV]  C=8.287375091519294, l1_ratio=0.08824539990597403, total=   0.0s\n",
      "[CV] C=8.287375091519294, l1_ratio=0.08824539990597403 ...............\n",
      "[CV]  C=8.287375091519294, l1_ratio=0.08824539990597403, total=   0.0s\n",
      "[CV] C=8.287375091519294, l1_ratio=0.08824539990597403 ...............\n",
      "[CV]  C=8.287375091519294, l1_ratio=0.08824539990597403, total=   0.0s\n",
      "[CV] C=2.8093450968738076, l1_ratio=0.15648141664154921 ..............\n",
      "[CV]  C=2.8093450968738076, l1_ratio=0.15648141664154921, total=   0.0s\n",
      "[CV] C=2.8093450968738076, l1_ratio=0.15648141664154921 ..............\n",
      "[CV]  C=2.8093450968738076, l1_ratio=0.15648141664154921, total=   0.0s\n",
      "[CV] C=2.8093450968738076, l1_ratio=0.15648141664154921 ..............\n",
      "[CV]  C=2.8093450968738076, l1_ratio=0.15648141664154921, total=   0.0s\n",
      "[CV] C=2.8093450968738076, l1_ratio=0.15648141664154921 ..............\n",
      "[CV]  C=2.8093450968738076, l1_ratio=0.15648141664154921, total=   0.0s\n",
      "[CV] C=2.8093450968738076, l1_ratio=0.15648141664154921 ..............\n",
      "[CV]  C=2.8093450968738076, l1_ratio=0.15648141664154921, total=   0.0s\n",
      "[CV] C=1.4092422497476265, l1_ratio=0.32409671915494626 ..............\n",
      "[CV]  C=1.4092422497476265, l1_ratio=0.32409671915494626, total=   0.0s\n",
      "[CV] C=1.4092422497476265, l1_ratio=0.32409671915494626 ..............\n",
      "[CV]  C=1.4092422497476265, l1_ratio=0.32409671915494626, total=   0.0s\n",
      "[CV] C=1.4092422497476265, l1_ratio=0.32409671915494626 ..............\n",
      "[CV]  C=1.4092422497476265, l1_ratio=0.32409671915494626, total=   0.0s\n",
      "[CV] C=1.4092422497476265, l1_ratio=0.32409671915494626 ..............\n",
      "[CV]  C=1.4092422497476265, l1_ratio=0.32409671915494626, total=   0.0s\n",
      "[CV] C=1.4092422497476265, l1_ratio=0.32409671915494626 ..............\n",
      "[CV]  C=1.4092422497476265, l1_ratio=0.32409671915494626, total=   0.0s\n",
      "[CV] C=0.7455064367977082, l1_ratio=0.866829267917464 ................\n",
      "[CV] . C=0.7455064367977082, l1_ratio=0.866829267917464, total=   0.0s\n",
      "[CV] C=0.7455064367977082, l1_ratio=0.866829267917464 ................\n",
      "[CV] . C=0.7455064367977082, l1_ratio=0.866829267917464, total=   0.0s\n",
      "[CV] C=0.7455064367977082, l1_ratio=0.866829267917464 ................\n",
      "[CV] . C=0.7455064367977082, l1_ratio=0.866829267917464, total=   0.0s\n",
      "[CV] C=0.7455064367977082, l1_ratio=0.866829267917464 ................\n",
      "[CV] . C=0.7455064367977082, l1_ratio=0.866829267917464, total=   0.0s\n",
      "[CV] C=0.7455064367977082, l1_ratio=0.866829267917464 ................\n",
      "[CV] . C=0.7455064367977082, l1_ratio=0.866829267917464, total=   0.0s\n",
      "[CV] C=7.722447692966574, l1_ratio=0.044307888101177195 ..............\n",
      "[CV]  C=7.722447692966574, l1_ratio=0.044307888101177195, total=   0.0s\n",
      "[CV] C=7.722447692966574, l1_ratio=0.044307888101177195 ..............\n",
      "[CV]  C=7.722447692966574, l1_ratio=0.044307888101177195, total=   0.0s\n",
      "[CV] C=7.722447692966574, l1_ratio=0.044307888101177195 ..............\n"
     ]
    },
    {
     "name": "stdout",
     "output_type": "stream",
     "text": [
      "[CV]  C=7.722447692966574, l1_ratio=0.044307888101177195, total=   0.0s\n",
      "[CV] C=7.722447692966574, l1_ratio=0.044307888101177195 ..............\n",
      "[CV]  C=7.722447692966574, l1_ratio=0.044307888101177195, total=   0.0s\n",
      "[CV] C=7.722447692966574, l1_ratio=0.044307888101177195 ..............\n",
      "[CV]  C=7.722447692966574, l1_ratio=0.044307888101177195, total=   0.0s\n",
      "[CV] C=0.05522117123602399, l1_ratio=0.33797935549722524 .............\n",
      "[CV]  C=0.05522117123602399, l1_ratio=0.33797935549722524, total=   0.0s\n",
      "[CV] C=0.05522117123602399, l1_ratio=0.33797935549722524 .............\n",
      "[CV]  C=0.05522117123602399, l1_ratio=0.33797935549722524, total=   0.0s\n",
      "[CV] C=0.05522117123602399, l1_ratio=0.33797935549722524 .............\n",
      "[CV]  C=0.05522117123602399, l1_ratio=0.33797935549722524, total=   0.0s\n",
      "[CV] C=0.05522117123602399, l1_ratio=0.33797935549722524 .............\n",
      "[CV]  C=0.05522117123602399, l1_ratio=0.33797935549722524, total=   0.0s\n",
      "[CV] C=0.05522117123602399, l1_ratio=0.33797935549722524 .............\n",
      "[CV]  C=0.05522117123602399, l1_ratio=0.33797935549722524, total=   0.0s\n",
      "[CV] C=7.068573438476172, l1_ratio=0.2611325817575998 ................\n",
      "[CV] . C=7.068573438476172, l1_ratio=0.2611325817575998, total=   0.0s\n",
      "[CV] C=7.068573438476172, l1_ratio=0.2611325817575998 ................\n",
      "[CV] . C=7.068573438476172, l1_ratio=0.2611325817575998, total=   0.0s\n",
      "[CV] C=7.068573438476172, l1_ratio=0.2611325817575998 ................\n",
      "[CV] . C=7.068573438476172, l1_ratio=0.2611325817575998, total=   0.0s\n",
      "[CV] C=7.068573438476172, l1_ratio=0.2611325817575998 ................\n",
      "[CV] . C=7.068573438476172, l1_ratio=0.2611325817575998, total=   0.0s\n",
      "[CV] C=7.068573438476172, l1_ratio=0.2611325817575998 ................\n",
      "[CV] . C=7.068573438476172, l1_ratio=0.2611325817575998, total=   0.0s\n",
      "[CV] C=7.712703466859457, l1_ratio=0.015385853102759271 ..............\n",
      "[CV]  C=7.712703466859457, l1_ratio=0.015385853102759271, total=   0.0s\n",
      "[CV] C=7.712703466859457, l1_ratio=0.015385853102759271 ..............\n",
      "[CV]  C=7.712703466859457, l1_ratio=0.015385853102759271, total=   0.0s\n",
      "[CV] C=7.712703466859457, l1_ratio=0.015385853102759271 ..............\n",
      "[CV]  C=7.712703466859457, l1_ratio=0.015385853102759271, total=   0.0s\n",
      "[CV] C=7.712703466859457, l1_ratio=0.015385853102759271 ..............\n",
      "[CV]  C=7.712703466859457, l1_ratio=0.015385853102759271, total=   0.0s\n",
      "[CV] C=7.712703466859457, l1_ratio=0.015385853102759271 ..............\n",
      "[CV]  C=7.712703466859457, l1_ratio=0.015385853102759271, total=   0.0s\n",
      "[CV] C=3.5846572854427263, l1_ratio=0.024630020920889933 .............\n",
      "[CV]  C=3.5846572854427263, l1_ratio=0.024630020920889933, total=   0.0s\n",
      "[CV] C=3.5846572854427263, l1_ratio=0.024630020920889933 .............\n",
      "[CV]  C=3.5846572854427263, l1_ratio=0.024630020920889933, total=   0.0s\n",
      "[CV] C=3.5846572854427263, l1_ratio=0.024630020920889933 .............\n",
      "[CV]  C=3.5846572854427263, l1_ratio=0.024630020920889933, total=   0.0s\n",
      "[CV] C=3.5846572854427263, l1_ratio=0.024630020920889933 .............\n",
      "[CV]  C=3.5846572854427263, l1_ratio=0.024630020920889933, total=   0.0s\n",
      "[CV] C=3.5846572854427263, l1_ratio=0.024630020920889933 .............\n",
      "[CV]  C=3.5846572854427263, l1_ratio=0.024630020920889933, total=   0.0s\n",
      "[CV] C=8.631034258755935, l1_ratio=0.19526023834247483 ...............\n",
      "[CV]  C=8.631034258755935, l1_ratio=0.19526023834247483, total=   0.0s\n",
      "[CV] C=8.631034258755935, l1_ratio=0.19526023834247483 ...............\n",
      "[CV]  C=8.631034258755935, l1_ratio=0.19526023834247483, total=   0.0s\n",
      "[CV] C=8.631034258755935, l1_ratio=0.19526023834247483 ...............\n",
      "[CV]  C=8.631034258755935, l1_ratio=0.19526023834247483, total=   0.0s\n",
      "[CV] C=8.631034258755935, l1_ratio=0.19526023834247483 ...............\n",
      "[CV]  C=8.631034258755935, l1_ratio=0.19526023834247483, total=   0.0s\n",
      "[CV] C=8.631034258755935, l1_ratio=0.19526023834247483 ...............\n",
      "[CV]  C=8.631034258755935, l1_ratio=0.19526023834247483, total=   0.0s\n",
      "[CV] C=3.308980248526492, l1_ratio=0.013133613160956579 ..............\n",
      "[CV]  C=3.308980248526492, l1_ratio=0.013133613160956579, total=   0.0s\n",
      "[CV] C=3.308980248526492, l1_ratio=0.013133613160956579 ..............\n",
      "[CV]  C=3.308980248526492, l1_ratio=0.013133613160956579, total=   0.0s\n",
      "[CV] C=3.308980248526492, l1_ratio=0.013133613160956579 ..............\n",
      "[CV]  C=3.308980248526492, l1_ratio=0.013133613160956579, total=   0.0s\n",
      "[CV] C=3.308980248526492, l1_ratio=0.013133613160956579 ..............\n",
      "[CV]  C=3.308980248526492, l1_ratio=0.013133613160956579, total=   0.0s\n",
      "[CV] C=3.308980248526492, l1_ratio=0.013133613160956579 ..............\n",
      "[CV]  C=3.308980248526492, l1_ratio=0.013133613160956579, total=   0.0s\n",
      "[CV] C=3.109823217156622, l1_ratio=0.07866284263682627 ...............\n",
      "[CV]  C=3.109823217156622, l1_ratio=0.07866284263682627, total=   0.0s\n",
      "[CV] C=3.109823217156622, l1_ratio=0.07866284263682627 ...............\n",
      "[CV]  C=3.109823217156622, l1_ratio=0.07866284263682627, total=   0.0s\n",
      "[CV] C=3.109823217156622, l1_ratio=0.07866284263682627 ...............\n",
      "[CV]  C=3.109823217156622, l1_ratio=0.07866284263682627, total=   0.0s\n",
      "[CV] C=3.109823217156622, l1_ratio=0.07866284263682627 ...............\n",
      "[CV]  C=3.109823217156622, l1_ratio=0.07866284263682627, total=   0.0s\n",
      "[CV] C=3.109823217156622, l1_ratio=0.07866284263682627 ...............\n",
      "[CV]  C=3.109823217156622, l1_ratio=0.07866284263682627, total=   0.0s\n",
      "[CV] C=7.29606178338064, l1_ratio=0.202977871785204 ..................\n",
      "[CV] ... C=7.29606178338064, l1_ratio=0.202977871785204, total=   0.0s\n",
      "[CV] C=7.29606178338064, l1_ratio=0.202977871785204 ..................\n",
      "[CV] ... C=7.29606178338064, l1_ratio=0.202977871785204, total=   0.0s\n",
      "[CV] C=7.29606178338064, l1_ratio=0.202977871785204 ..................\n",
      "[CV] ... C=7.29606178338064, l1_ratio=0.202977871785204, total=   0.0s\n",
      "[CV] C=7.29606178338064, l1_ratio=0.202977871785204 ..................\n",
      "[CV] ... C=7.29606178338064, l1_ratio=0.202977871785204, total=   0.0s\n",
      "[CV] C=7.29606178338064, l1_ratio=0.202977871785204 ..................\n",
      "[CV] ... C=7.29606178338064, l1_ratio=0.202977871785204, total=   0.0s\n",
      "[CV] C=8.872127425763265, l1_ratio=0.12781322667526196 ...............\n",
      "[CV]  C=8.872127425763265, l1_ratio=0.12781322667526196, total=   0.0s\n",
      "[CV] C=8.872127425763265, l1_ratio=0.12781322667526196 ...............\n",
      "[CV]  C=8.872127425763265, l1_ratio=0.12781322667526196, total=   0.0s\n",
      "[CV] C=8.872127425763265, l1_ratio=0.12781322667526196 ...............\n",
      "[CV]  C=8.872127425763265, l1_ratio=0.12781322667526196, total=   0.0s\n",
      "[CV] C=8.872127425763265, l1_ratio=0.12781322667526196 ...............\n",
      "[CV]  C=8.872127425763265, l1_ratio=0.12781322667526196, total=   0.0s\n",
      "[CV] C=8.872127425763265, l1_ratio=0.12781322667526196 ...............\n",
      "[CV]  C=8.872127425763265, l1_ratio=0.12781322667526196, total=   0.0s\n",
      "[CV] C=1.195942459383017, l1_ratio=0.2498252688633199 ................\n",
      "[CV] . C=1.195942459383017, l1_ratio=0.2498252688633199, total=   0.0s\n",
      "[CV] C=1.195942459383017, l1_ratio=0.2498252688633199 ................\n",
      "[CV] . C=1.195942459383017, l1_ratio=0.2498252688633199, total=   0.0s\n",
      "[CV] C=1.195942459383017, l1_ratio=0.2498252688633199 ................\n",
      "[CV] . C=1.195942459383017, l1_ratio=0.2498252688633199, total=   0.0s\n",
      "[CV] C=1.195942459383017, l1_ratio=0.2498252688633199 ................\n",
      "[CV] . C=1.195942459383017, l1_ratio=0.2498252688633199, total=   0.0s\n",
      "[CV] C=1.195942459383017, l1_ratio=0.2498252688633199 ................\n",
      "[CV] . C=1.195942459383017, l1_ratio=0.2498252688633199, total=   0.0s\n",
      "[CV] C=7.607850486168974, l1_ratio=0.16477749897716576 ...............\n",
      "[CV]  C=7.607850486168974, l1_ratio=0.16477749897716576, total=   0.0s\n",
      "[CV] C=7.607850486168974, l1_ratio=0.16477749897716576 ...............\n",
      "[CV]  C=7.607850486168974, l1_ratio=0.16477749897716576, total=   0.0s\n",
      "[CV] C=7.607850486168974, l1_ratio=0.16477749897716576 ...............\n",
      "[CV]  C=7.607850486168974, l1_ratio=0.16477749897716576, total=   0.0s\n",
      "[CV] C=7.607850486168974, l1_ratio=0.16477749897716576 ...............\n",
      "[CV]  C=7.607850486168974, l1_ratio=0.16477749897716576, total=   0.0s\n",
      "[CV] C=7.607850486168974, l1_ratio=0.16477749897716576 ...............\n",
      "[CV]  C=7.607850486168974, l1_ratio=0.16477749897716576, total=   0.0s\n",
      "[CV] C=7.70967179954561, l1_ratio=0.13616294630205558 ................\n",
      "[CV] . C=7.70967179954561, l1_ratio=0.13616294630205558, total=   0.0s\n",
      "[CV] C=7.70967179954561, l1_ratio=0.13616294630205558 ................\n",
      "[CV] . C=7.70967179954561, l1_ratio=0.13616294630205558, total=   0.0s\n",
      "[CV] C=7.70967179954561, l1_ratio=0.13616294630205558 ................\n",
      "[CV] . C=7.70967179954561, l1_ratio=0.13616294630205558, total=   0.0s\n",
      "[CV] C=7.70967179954561, l1_ratio=0.13616294630205558 ................\n",
      "[CV] . C=7.70967179954561, l1_ratio=0.13616294630205558, total=   0.0s\n",
      "[CV] C=7.70967179954561, l1_ratio=0.13616294630205558 ................\n",
      "[CV] . C=7.70967179954561, l1_ratio=0.13616294630205558, total=   0.0s\n",
      "[CV] C=5.227328293819941, l1_ratio=0.11156283878168548 ...............\n",
      "[CV]  C=5.227328293819941, l1_ratio=0.11156283878168548, total=   0.0s\n",
      "[CV] C=5.227328293819941, l1_ratio=0.11156283878168548 ...............\n",
      "[CV]  C=5.227328293819941, l1_ratio=0.11156283878168548, total=   0.0s\n",
      "[CV] C=5.227328293819941, l1_ratio=0.11156283878168548 ...............\n",
      "[CV]  C=5.227328293819941, l1_ratio=0.11156283878168548, total=   0.0s\n",
      "[CV] C=5.227328293819941, l1_ratio=0.11156283878168548 ...............\n",
      "[CV]  C=5.227328293819941, l1_ratio=0.11156283878168548, total=   0.0s\n",
      "[CV] C=5.227328293819941, l1_ratio=0.11156283878168548 ...............\n",
      "[CV]  C=5.227328293819941, l1_ratio=0.11156283878168548, total=   0.0s\n",
      "[CV] C=0.2541912674409519, l1_ratio=0.02283348703837317 ..............\n",
      "[CV]  C=0.2541912674409519, l1_ratio=0.02283348703837317, total=   0.0s\n",
      "[CV] C=0.2541912674409519, l1_ratio=0.02283348703837317 ..............\n",
      "[CV]  C=0.2541912674409519, l1_ratio=0.02283348703837317, total=   0.0s\n",
      "[CV] C=0.2541912674409519, l1_ratio=0.02283348703837317 ..............\n",
      "[CV]  C=0.2541912674409519, l1_ratio=0.02283348703837317, total=   0.0s\n",
      "[CV] C=0.2541912674409519, l1_ratio=0.02283348703837317 ..............\n",
      "[CV]  C=0.2541912674409519, l1_ratio=0.02283348703837317, total=   0.0s\n",
      "[CV] C=0.2541912674409519, l1_ratio=0.02283348703837317 ..............\n",
      "[CV]  C=0.2541912674409519, l1_ratio=0.02283348703837317, total=   0.0s\n",
      "[CV] C=0.3142918568673425, l1_ratio=0.2023459101855099 ...............\n",
      "[CV]  C=0.3142918568673425, l1_ratio=0.2023459101855099, total=   0.0s\n",
      "[CV] C=0.3142918568673425, l1_ratio=0.2023459101855099 ...............\n",
      "[CV]  C=0.3142918568673425, l1_ratio=0.2023459101855099, total=   0.0s\n",
      "[CV] C=0.3142918568673425, l1_ratio=0.2023459101855099 ...............\n",
      "[CV]  C=0.3142918568673425, l1_ratio=0.2023459101855099, total=   0.0s\n",
      "[CV] C=0.3142918568673425, l1_ratio=0.2023459101855099 ...............\n",
      "[CV]  C=0.3142918568673425, l1_ratio=0.2023459101855099, total=   0.0s\n",
      "[CV] C=0.3142918568673425, l1_ratio=0.2023459101855099 ...............\n",
      "[CV]  C=0.3142918568673425, l1_ratio=0.2023459101855099, total=   0.0s\n",
      "[CV] C=3.143559810763267, l1_ratio=0.14208743542683802 ...............\n",
      "[CV]  C=3.143559810763267, l1_ratio=0.14208743542683802, total=   0.0s\n",
      "[CV] C=3.143559810763267, l1_ratio=0.14208743542683802 ...............\n",
      "[CV]  C=3.143559810763267, l1_ratio=0.14208743542683802, total=   0.0s\n",
      "[CV] C=3.143559810763267, l1_ratio=0.14208743542683802 ...............\n",
      "[CV]  C=3.143559810763267, l1_ratio=0.14208743542683802, total=   0.0s\n",
      "[CV] C=3.143559810763267, l1_ratio=0.14208743542683802 ...............\n",
      "[CV]  C=3.143559810763267, l1_ratio=0.14208743542683802, total=   0.0s\n",
      "[CV] C=3.143559810763267, l1_ratio=0.14208743542683802 ...............\n",
      "[CV]  C=3.143559810763267, l1_ratio=0.14208743542683802, total=   0.0s\n",
      "[CV] C=9.07566473926093, l1_ratio=0.05734776459665967 ................\n"
     ]
    },
    {
     "name": "stdout",
     "output_type": "stream",
     "text": [
      "[CV] . C=9.07566473926093, l1_ratio=0.05734776459665967, total=   0.0s\n",
      "[CV] C=9.07566473926093, l1_ratio=0.05734776459665967 ................\n",
      "[CV] . C=9.07566473926093, l1_ratio=0.05734776459665967, total=   0.0s\n",
      "[CV] C=9.07566473926093, l1_ratio=0.05734776459665967 ................\n",
      "[CV] . C=9.07566473926093, l1_ratio=0.05734776459665967, total=   0.0s\n",
      "[CV] C=9.07566473926093, l1_ratio=0.05734776459665967 ................\n",
      "[CV] . C=9.07566473926093, l1_ratio=0.05734776459665967, total=   0.0s\n",
      "[CV] C=9.07566473926093, l1_ratio=0.05734776459665967 ................\n",
      "[CV] . C=9.07566473926093, l1_ratio=0.05734776459665967, total=   0.0s\n",
      "[CV] C=4.103829230356297, l1_ratio=0.2817498295077167 ................\n",
      "[CV] . C=4.103829230356297, l1_ratio=0.2817498295077167, total=   0.0s\n",
      "[CV] C=4.103829230356297, l1_ratio=0.2817498295077167 ................\n",
      "[CV] . C=4.103829230356297, l1_ratio=0.2817498295077167, total=   0.0s\n",
      "[CV] C=4.103829230356297, l1_ratio=0.2817498295077167 ................\n",
      "[CV] . C=4.103829230356297, l1_ratio=0.2817498295077167, total=   0.0s\n",
      "[CV] C=4.103829230356297, l1_ratio=0.2817498295077167 ................\n",
      "[CV] . C=4.103829230356297, l1_ratio=0.2817498295077167, total=   0.0s\n",
      "[CV] C=4.103829230356297, l1_ratio=0.2817498295077167 ................\n",
      "[CV] . C=4.103829230356297, l1_ratio=0.2817498295077167, total=   0.0s\n",
      "[CV] C=2.2879816549162246, l1_ratio=0.016020855710035274 .............\n",
      "[CV]  C=2.2879816549162246, l1_ratio=0.016020855710035274, total=   0.0s\n",
      "[CV] C=2.2879816549162246, l1_ratio=0.016020855710035274 .............\n",
      "[CV]  C=2.2879816549162246, l1_ratio=0.016020855710035274, total=   0.0s\n",
      "[CV] C=2.2879816549162246, l1_ratio=0.016020855710035274 .............\n",
      "[CV]  C=2.2879816549162246, l1_ratio=0.016020855710035274, total=   0.0s\n",
      "[CV] C=2.2879816549162246, l1_ratio=0.016020855710035274 .............\n",
      "[CV]  C=2.2879816549162246, l1_ratio=0.016020855710035274, total=   0.0s\n",
      "[CV] C=2.2879816549162246, l1_ratio=0.016020855710035274 .............\n",
      "[CV]  C=2.2879816549162246, l1_ratio=0.016020855710035274, total=   0.0s\n",
      "[CV] C=2.8975145291376805, l1_ratio=0.035161671700012574 .............\n",
      "[CV]  C=2.8975145291376805, l1_ratio=0.035161671700012574, total=   0.0s\n",
      "[CV] C=2.8975145291376805, l1_ratio=0.035161671700012574 .............\n",
      "[CV]  C=2.8975145291376805, l1_ratio=0.035161671700012574, total=   0.0s\n",
      "[CV] C=2.8975145291376805, l1_ratio=0.035161671700012574 .............\n",
      "[CV]  C=2.8975145291376805, l1_ratio=0.035161671700012574, total=   0.0s\n",
      "[CV] C=2.8975145291376805, l1_ratio=0.035161671700012574 .............\n",
      "[CV]  C=2.8975145291376805, l1_ratio=0.035161671700012574, total=   0.0s\n",
      "[CV] C=2.8975145291376805, l1_ratio=0.035161671700012574 .............\n",
      "[CV]  C=2.8975145291376805, l1_ratio=0.035161671700012574, total=   0.0s\n",
      "[CV] C=9.29697652342573, l1_ratio=0.3301774160969139 .................\n",
      "[CV] .. C=9.29697652342573, l1_ratio=0.3301774160969139, total=   0.0s\n",
      "[CV] C=9.29697652342573, l1_ratio=0.3301774160969139 .................\n",
      "[CV] .. C=9.29697652342573, l1_ratio=0.3301774160969139, total=   0.0s\n",
      "[CV] C=9.29697652342573, l1_ratio=0.3301774160969139 .................\n",
      "[CV] .. C=9.29697652342573, l1_ratio=0.3301774160969139, total=   0.0s\n",
      "[CV] C=9.29697652342573, l1_ratio=0.3301774160969139 .................\n",
      "[CV] .. C=9.29697652342573, l1_ratio=0.3301774160969139, total=   0.0s\n",
      "[CV] C=9.29697652342573, l1_ratio=0.3301774160969139 .................\n",
      "[CV] .. C=9.29697652342573, l1_ratio=0.3301774160969139, total=   0.0s\n",
      "[CV] C=6.334037565104235, l1_ratio=0.41030394610416265 ...............\n",
      "[CV]  C=6.334037565104235, l1_ratio=0.41030394610416265, total=   0.0s\n",
      "[CV] C=6.334037565104235, l1_ratio=0.41030394610416265 ...............\n",
      "[CV]  C=6.334037565104235, l1_ratio=0.41030394610416265, total=   0.0s\n",
      "[CV] C=6.334037565104235, l1_ratio=0.41030394610416265 ...............\n",
      "[CV]  C=6.334037565104235, l1_ratio=0.41030394610416265, total=   0.0s\n",
      "[CV] C=6.334037565104235, l1_ratio=0.41030394610416265 ...............\n",
      "[CV]  C=6.334037565104235, l1_ratio=0.41030394610416265, total=   0.0s\n",
      "[CV] C=6.334037565104235, l1_ratio=0.41030394610416265 ...............\n",
      "[CV]  C=6.334037565104235, l1_ratio=0.41030394610416265, total=   0.0s\n",
      "[CV] C=8.036720768991145, l1_ratio=0.041299095271727815 ..............\n",
      "[CV]  C=8.036720768991145, l1_ratio=0.041299095271727815, total=   0.0s\n",
      "[CV] C=8.036720768991145, l1_ratio=0.041299095271727815 ..............\n",
      "[CV]  C=8.036720768991145, l1_ratio=0.041299095271727815, total=   0.0s\n",
      "[CV] C=8.036720768991145, l1_ratio=0.041299095271727815 ..............\n",
      "[CV]  C=8.036720768991145, l1_ratio=0.041299095271727815, total=   0.0s\n",
      "[CV] C=8.036720768991145, l1_ratio=0.041299095271727815 ..............\n",
      "[CV]  C=8.036720768991145, l1_ratio=0.041299095271727815, total=   0.0s\n",
      "[CV] C=8.036720768991145, l1_ratio=0.041299095271727815 ..............\n",
      "[CV]  C=8.036720768991145, l1_ratio=0.041299095271727815, total=   0.0s\n",
      "[CV] C=8.925589984899778, l1_ratio=0.1550199803932344 ................\n",
      "[CV] . C=8.925589984899778, l1_ratio=0.1550199803932344, total=   0.0s\n",
      "[CV] C=8.925589984899778, l1_ratio=0.1550199803932344 ................\n",
      "[CV] . C=8.925589984899778, l1_ratio=0.1550199803932344, total=   0.0s\n",
      "[CV] C=8.925589984899778, l1_ratio=0.1550199803932344 ................\n",
      "[CV] . C=8.925589984899778, l1_ratio=0.1550199803932344, total=   0.0s\n",
      "[CV] C=8.925589984899778, l1_ratio=0.1550199803932344 ................\n",
      "[CV] . C=8.925589984899778, l1_ratio=0.1550199803932344, total=   0.0s\n",
      "[CV] C=8.925589984899778, l1_ratio=0.1550199803932344 ................\n",
      "[CV] . C=8.925589984899778, l1_ratio=0.1550199803932344, total=   0.0s\n",
      "[CV] C=8.074401551640625, l1_ratio=0.4528485298572463 ................\n",
      "[CV] . C=8.074401551640625, l1_ratio=0.4528485298572463, total=   0.0s\n",
      "[CV] C=8.074401551640625, l1_ratio=0.4528485298572463 ................\n",
      "[CV] . C=8.074401551640625, l1_ratio=0.4528485298572463, total=   0.0s\n",
      "[CV] C=8.074401551640625, l1_ratio=0.4528485298572463 ................\n",
      "[CV] . C=8.074401551640625, l1_ratio=0.4528485298572463, total=   0.0s\n",
      "[CV] C=8.074401551640625, l1_ratio=0.4528485298572463 ................\n",
      "[CV] . C=8.074401551640625, l1_ratio=0.4528485298572463, total=   0.0s\n",
      "[CV] C=8.074401551640625, l1_ratio=0.4528485298572463 ................\n",
      "[CV] . C=8.074401551640625, l1_ratio=0.4528485298572463, total=   0.0s\n",
      "[CV] C=3.1800347497186388, l1_ratio=0.02331843202477017 ..............\n",
      "[CV]  C=3.1800347497186388, l1_ratio=0.02331843202477017, total=   0.0s\n",
      "[CV] C=3.1800347497186388, l1_ratio=0.02331843202477017 ..............\n",
      "[CV]  C=3.1800347497186388, l1_ratio=0.02331843202477017, total=   0.0s\n",
      "[CV] C=3.1800347497186388, l1_ratio=0.02331843202477017 ..............\n",
      "[CV]  C=3.1800347497186388, l1_ratio=0.02331843202477017, total=   0.0s\n",
      "[CV] C=3.1800347497186388, l1_ratio=0.02331843202477017 ..............\n",
      "[CV]  C=3.1800347497186388, l1_ratio=0.02331843202477017, total=   0.0s\n",
      "[CV] C=3.1800347497186388, l1_ratio=0.02331843202477017 ..............\n",
      "[CV]  C=3.1800347497186388, l1_ratio=0.02331843202477017, total=   0.0s\n",
      "[CV] C=2.279351625419417, l1_ratio=0.11141153854972288 ...............\n",
      "[CV]  C=2.279351625419417, l1_ratio=0.11141153854972288, total=   0.0s\n",
      "[CV] C=2.279351625419417, l1_ratio=0.11141153854972288 ...............\n",
      "[CV]  C=2.279351625419417, l1_ratio=0.11141153854972288, total=   0.0s\n",
      "[CV] C=2.279351625419417, l1_ratio=0.11141153854972288 ...............\n",
      "[CV]  C=2.279351625419417, l1_ratio=0.11141153854972288, total=   0.0s\n",
      "[CV] C=2.279351625419417, l1_ratio=0.11141153854972288 ...............\n",
      "[CV]  C=2.279351625419417, l1_ratio=0.11141153854972288, total=   0.0s\n",
      "[CV] C=2.279351625419417, l1_ratio=0.11141153854972288 ...............\n",
      "[CV]  C=2.279351625419417, l1_ratio=0.11141153854972288, total=   0.0s\n",
      "[CV] C=8.18014765922493, l1_ratio=0.3942689943759667 .................\n",
      "[CV] .. C=8.18014765922493, l1_ratio=0.3942689943759667, total=   0.0s\n",
      "[CV] C=8.18014765922493, l1_ratio=0.3942689943759667 .................\n",
      "[CV] .. C=8.18014765922493, l1_ratio=0.3942689943759667, total=   0.0s\n",
      "[CV] C=8.18014765922493, l1_ratio=0.3942689943759667 .................\n",
      "[CV] .. C=8.18014765922493, l1_ratio=0.3942689943759667, total=   0.0s\n",
      "[CV] C=8.18014765922493, l1_ratio=0.3942689943759667 .................\n",
      "[CV] .. C=8.18014765922493, l1_ratio=0.3942689943759667, total=   0.0s\n",
      "[CV] C=8.18014765922493, l1_ratio=0.3942689943759667 .................\n",
      "[CV] .. C=8.18014765922493, l1_ratio=0.3942689943759667, total=   0.0s\n",
      "[CV] C=0.06952130531190703, l1_ratio=0.14297523186771116 .............\n",
      "[CV]  C=0.06952130531190703, l1_ratio=0.14297523186771116, total=   0.0s\n",
      "[CV] C=0.06952130531190703, l1_ratio=0.14297523186771116 .............\n",
      "[CV]  C=0.06952130531190703, l1_ratio=0.14297523186771116, total=   0.0s\n",
      "[CV] C=0.06952130531190703, l1_ratio=0.14297523186771116 .............\n",
      "[CV]  C=0.06952130531190703, l1_ratio=0.14297523186771116, total=   0.0s\n",
      "[CV] C=0.06952130531190703, l1_ratio=0.14297523186771116 .............\n",
      "[CV]  C=0.06952130531190703, l1_ratio=0.14297523186771116, total=   0.0s\n",
      "[CV] C=0.06952130531190703, l1_ratio=0.14297523186771116 .............\n",
      "[CV]  C=0.06952130531190703, l1_ratio=0.14297523186771116, total=   0.0s\n",
      "[CV] C=4.17411003148779, l1_ratio=0.0502334676551649 .................\n",
      "[CV] .. C=4.17411003148779, l1_ratio=0.0502334676551649, total=   0.0s\n",
      "[CV] C=4.17411003148779, l1_ratio=0.0502334676551649 .................\n",
      "[CV] .. C=4.17411003148779, l1_ratio=0.0502334676551649, total=   0.0s\n",
      "[CV] C=4.17411003148779, l1_ratio=0.0502334676551649 .................\n",
      "[CV] .. C=4.17411003148779, l1_ratio=0.0502334676551649, total=   0.0s\n",
      "[CV] C=4.17411003148779, l1_ratio=0.0502334676551649 .................\n",
      "[CV] .. C=4.17411003148779, l1_ratio=0.0502334676551649, total=   0.0s\n",
      "[CV] C=4.17411003148779, l1_ratio=0.0502334676551649 .................\n"
     ]
    },
    {
     "name": "stdout",
     "output_type": "stream",
     "text": [
      "[CV] .. C=4.17411003148779, l1_ratio=0.0502334676551649, total=   0.0s\n",
      "[CV] C=1.198653673336828, l1_ratio=0.0823817159724865 ................\n",
      "[CV] . C=1.198653673336828, l1_ratio=0.0823817159724865, total=   0.0s\n",
      "[CV] C=1.198653673336828, l1_ratio=0.0823817159724865 ................\n",
      "[CV] . C=1.198653673336828, l1_ratio=0.0823817159724865, total=   0.0s\n",
      "[CV] C=1.198653673336828, l1_ratio=0.0823817159724865 ................\n",
      "[CV] . C=1.198653673336828, l1_ratio=0.0823817159724865, total=   0.0s\n",
      "[CV] C=1.198653673336828, l1_ratio=0.0823817159724865 ................\n",
      "[CV] . C=1.198653673336828, l1_ratio=0.0823817159724865, total=   0.0s\n",
      "[CV] C=1.198653673336828, l1_ratio=0.0823817159724865 ................\n",
      "[CV] . C=1.198653673336828, l1_ratio=0.0823817159724865, total=   0.0s\n",
      "[CV] C=9.429097039125192, l1_ratio=0.07807676057629488 ...............\n",
      "[CV]  C=9.429097039125192, l1_ratio=0.07807676057629488, total=   0.0s\n",
      "[CV] C=9.429097039125192, l1_ratio=0.07807676057629488 ...............\n",
      "[CV]  C=9.429097039125192, l1_ratio=0.07807676057629488, total=   0.0s\n",
      "[CV] C=9.429097039125192, l1_ratio=0.07807676057629488 ...............\n",
      "[CV]  C=9.429097039125192, l1_ratio=0.07807676057629488, total=   0.0s\n",
      "[CV] C=9.429097039125192, l1_ratio=0.07807676057629488 ...............\n",
      "[CV]  C=9.429097039125192, l1_ratio=0.07807676057629488, total=   0.0s\n",
      "[CV] C=9.429097039125192, l1_ratio=0.07807676057629488 ...............\n",
      "[CV]  C=9.429097039125192, l1_ratio=0.07807676057629488, total=   0.0s\n",
      "[CV] C=5.187906217433661, l1_ratio=0.24281739537617097 ...............\n",
      "[CV]  C=5.187906217433661, l1_ratio=0.24281739537617097, total=   0.0s\n",
      "[CV] C=5.187906217433661, l1_ratio=0.24281739537617097 ...............\n",
      "[CV]  C=5.187906217433661, l1_ratio=0.24281739537617097, total=   0.0s\n",
      "[CV] C=5.187906217433661, l1_ratio=0.24281739537617097 ...............\n",
      "[CV]  C=5.187906217433661, l1_ratio=0.24281739537617097, total=   0.0s\n",
      "[CV] C=5.187906217433661, l1_ratio=0.24281739537617097 ...............\n",
      "[CV]  C=5.187906217433661, l1_ratio=0.24281739537617097, total=   0.0s\n",
      "[CV] C=5.187906217433661, l1_ratio=0.24281739537617097 ...............\n",
      "[CV]  C=5.187906217433661, l1_ratio=0.24281739537617097, total=   0.0s\n",
      "[CV] C=3.63629602379294, l1_ratio=0.71355962765834 ...................\n",
      "[CV] .... C=3.63629602379294, l1_ratio=0.71355962765834, total=   0.0s\n",
      "[CV] C=3.63629602379294, l1_ratio=0.71355962765834 ...................\n",
      "[CV] .... C=3.63629602379294, l1_ratio=0.71355962765834, total=   0.0s\n",
      "[CV] C=3.63629602379294, l1_ratio=0.71355962765834 ...................\n",
      "[CV] .... C=3.63629602379294, l1_ratio=0.71355962765834, total=   0.0s\n",
      "[CV] C=3.63629602379294, l1_ratio=0.71355962765834 ...................\n",
      "[CV] .... C=3.63629602379294, l1_ratio=0.71355962765834, total=   0.0s\n",
      "[CV] C=3.63629602379294, l1_ratio=0.71355962765834 ...................\n",
      "[CV] .... C=3.63629602379294, l1_ratio=0.71355962765834, total=   0.0s\n",
      "[CV] C=9.624472949421111, l1_ratio=0.05801225899844106 ...............\n",
      "[CV]  C=9.624472949421111, l1_ratio=0.05801225899844106, total=   0.0s\n",
      "[CV] C=9.624472949421111, l1_ratio=0.05801225899844106 ...............\n",
      "[CV]  C=9.624472949421111, l1_ratio=0.05801225899844106, total=   0.0s\n",
      "[CV] C=9.624472949421111, l1_ratio=0.05801225899844106 ...............\n",
      "[CV]  C=9.624472949421111, l1_ratio=0.05801225899844106, total=   0.0s\n",
      "[CV] C=9.624472949421111, l1_ratio=0.05801225899844106 ...............\n",
      "[CV]  C=9.624472949421111, l1_ratio=0.05801225899844106, total=   0.0s\n",
      "[CV] C=9.624472949421111, l1_ratio=0.05801225899844106 ...............\n",
      "[CV]  C=9.624472949421111, l1_ratio=0.05801225899844106, total=   0.0s\n",
      "[CV] C=4.972485058923855, l1_ratio=0.07158609201580936 ...............\n",
      "[CV]  C=4.972485058923855, l1_ratio=0.07158609201580936, total=   0.0s\n",
      "[CV] C=4.972485058923855, l1_ratio=0.07158609201580936 ...............\n",
      "[CV]  C=4.972485058923855, l1_ratio=0.07158609201580936, total=   0.0s\n",
      "[CV] C=4.972485058923855, l1_ratio=0.07158609201580936 ...............\n",
      "[CV]  C=4.972485058923855, l1_ratio=0.07158609201580936, total=   0.0s\n",
      "[CV] C=4.972485058923855, l1_ratio=0.07158609201580936 ...............\n",
      "[CV]  C=4.972485058923855, l1_ratio=0.07158609201580936, total=   0.0s\n",
      "[CV] C=4.972485058923855, l1_ratio=0.07158609201580936 ...............\n",
      "[CV]  C=4.972485058923855, l1_ratio=0.07158609201580936, total=   0.0s\n",
      "[CV] C=2.848404943774676, l1_ratio=0.007516895553104507 ..............\n",
      "[CV]  C=2.848404943774676, l1_ratio=0.007516895553104507, total=   0.0s\n",
      "[CV] C=2.848404943774676, l1_ratio=0.007516895553104507 ..............\n",
      "[CV]  C=2.848404943774676, l1_ratio=0.007516895553104507, total=   0.0s\n",
      "[CV] C=2.848404943774676, l1_ratio=0.007516895553104507 ..............\n",
      "[CV]  C=2.848404943774676, l1_ratio=0.007516895553104507, total=   0.0s\n",
      "[CV] C=2.848404943774676, l1_ratio=0.007516895553104507 ..............\n",
      "[CV]  C=2.848404943774676, l1_ratio=0.007516895553104507, total=   0.0s\n",
      "[CV] C=2.848404943774676, l1_ratio=0.007516895553104507 ..............\n",
      "[CV]  C=2.848404943774676, l1_ratio=0.007516895553104507, total=   0.0s\n",
      "[CV] C=6.095643339798968, l1_ratio=0.1397039265659277 ................\n",
      "[CV] . C=6.095643339798968, l1_ratio=0.1397039265659277, total=   0.0s\n",
      "[CV] C=6.095643339798968, l1_ratio=0.1397039265659277 ................\n",
      "[CV] . C=6.095643339798968, l1_ratio=0.1397039265659277, total=   0.0s\n",
      "[CV] C=6.095643339798968, l1_ratio=0.1397039265659277 ................\n",
      "[CV] . C=6.095643339798968, l1_ratio=0.1397039265659277, total=   0.0s\n",
      "[CV] C=6.095643339798968, l1_ratio=0.1397039265659277 ................\n",
      "[CV] . C=6.095643339798968, l1_ratio=0.1397039265659277, total=   0.0s\n",
      "[CV] C=6.095643339798968, l1_ratio=0.1397039265659277 ................\n",
      "[CV] . C=6.095643339798968, l1_ratio=0.1397039265659277, total=   0.0s\n",
      "[CV] C=0.5147875124998935, l1_ratio=0.06532518420207388 ..............\n",
      "[CV]  C=0.5147875124998935, l1_ratio=0.06532518420207388, total=   0.0s\n",
      "[CV] C=0.5147875124998935, l1_ratio=0.06532518420207388 ..............\n",
      "[CV]  C=0.5147875124998935, l1_ratio=0.06532518420207388, total=   0.0s\n",
      "[CV] C=0.5147875124998935, l1_ratio=0.06532518420207388 ..............\n",
      "[CV]  C=0.5147875124998935, l1_ratio=0.06532518420207388, total=   0.0s\n",
      "[CV] C=0.5147875124998935, l1_ratio=0.06532518420207388 ..............\n",
      "[CV]  C=0.5147875124998935, l1_ratio=0.06532518420207388, total=   0.0s\n",
      "[CV] C=0.5147875124998935, l1_ratio=0.06532518420207388 ..............\n",
      "[CV]  C=0.5147875124998935, l1_ratio=0.06532518420207388, total=   0.0s\n",
      "[CV] C=9.082658859666537, l1_ratio=0.05477211042841541 ...............\n",
      "[CV]  C=9.082658859666537, l1_ratio=0.05477211042841541, total=   0.0s\n",
      "[CV] C=9.082658859666537, l1_ratio=0.05477211042841541 ...............\n",
      "[CV]  C=9.082658859666537, l1_ratio=0.05477211042841541, total=   0.0s\n",
      "[CV] C=9.082658859666537, l1_ratio=0.05477211042841541 ...............\n",
      "[CV]  C=9.082658859666537, l1_ratio=0.05477211042841541, total=   0.0s\n",
      "[CV] C=9.082658859666537, l1_ratio=0.05477211042841541 ...............\n",
      "[CV]  C=9.082658859666537, l1_ratio=0.05477211042841541, total=   0.0s\n",
      "[CV] C=9.082658859666537, l1_ratio=0.05477211042841541 ...............\n",
      "[CV]  C=9.082658859666537, l1_ratio=0.05477211042841541, total=   0.0s\n",
      "[CV] C=1.448948720912231, l1_ratio=0.13445442189472726 ...............\n",
      "[CV]  C=1.448948720912231, l1_ratio=0.13445442189472726, total=   0.0s\n",
      "[CV] C=1.448948720912231, l1_ratio=0.13445442189472726 ...............\n",
      "[CV]  C=1.448948720912231, l1_ratio=0.13445442189472726, total=   0.0s\n",
      "[CV] C=1.448948720912231, l1_ratio=0.13445442189472726 ...............\n",
      "[CV]  C=1.448948720912231, l1_ratio=0.13445442189472726, total=   0.0s\n",
      "[CV] C=1.448948720912231, l1_ratio=0.13445442189472726 ...............\n",
      "[CV]  C=1.448948720912231, l1_ratio=0.13445442189472726, total=   0.0s\n",
      "[CV] C=1.448948720912231, l1_ratio=0.13445442189472726 ...............\n",
      "[CV]  C=1.448948720912231, l1_ratio=0.13445442189472726, total=   0.0s\n",
      "[CV] C=9.856504541106007, l1_ratio=0.055428962711945244 ..............\n",
      "[CV]  C=9.856504541106007, l1_ratio=0.055428962711945244, total=   0.0s\n",
      "[CV] C=9.856504541106007, l1_ratio=0.055428962711945244 ..............\n",
      "[CV]  C=9.856504541106007, l1_ratio=0.055428962711945244, total=   0.0s\n",
      "[CV] C=9.856504541106007, l1_ratio=0.055428962711945244 ..............\n",
      "[CV]  C=9.856504541106007, l1_ratio=0.055428962711945244, total=   0.0s\n",
      "[CV] C=9.856504541106007, l1_ratio=0.055428962711945244 ..............\n",
      "[CV]  C=9.856504541106007, l1_ratio=0.055428962711945244, total=   0.0s\n",
      "[CV] C=9.856504541106007, l1_ratio=0.055428962711945244 ..............\n",
      "[CV]  C=9.856504541106007, l1_ratio=0.055428962711945244, total=   0.0s\n",
      "[CV] C=6.721355474058786, l1_ratio=0.2867775252478926 ................\n",
      "[CV] . C=6.721355474058786, l1_ratio=0.2867775252478926, total=   0.0s\n",
      "[CV] C=6.721355474058786, l1_ratio=0.2867775252478926 ................\n",
      "[CV] . C=6.721355474058786, l1_ratio=0.2867775252478926, total=   0.0s\n",
      "[CV] C=6.721355474058786, l1_ratio=0.2867775252478926 ................\n",
      "[CV] . C=6.721355474058786, l1_ratio=0.2867775252478926, total=   0.0s\n",
      "[CV] C=6.721355474058786, l1_ratio=0.2867775252478926 ................\n",
      "[CV] . C=6.721355474058786, l1_ratio=0.2867775252478926, total=   0.0s\n",
      "[CV] C=6.721355474058786, l1_ratio=0.2867775252478926 ................\n",
      "[CV] . C=6.721355474058786, l1_ratio=0.2867775252478926, total=   0.0s\n",
      "[CV] C=2.3763754399239967, l1_ratio=0.26054978569846327 ..............\n",
      "[CV]  C=2.3763754399239967, l1_ratio=0.26054978569846327, total=   0.0s\n",
      "[CV] C=2.3763754399239967, l1_ratio=0.26054978569846327 ..............\n",
      "[CV]  C=2.3763754399239967, l1_ratio=0.26054978569846327, total=   0.0s\n",
      "[CV] C=2.3763754399239967, l1_ratio=0.26054978569846327 ..............\n",
      "[CV]  C=2.3763754399239967, l1_ratio=0.26054978569846327, total=   0.0s\n",
      "[CV] C=2.3763754399239967, l1_ratio=0.26054978569846327 ..............\n",
      "[CV]  C=2.3763754399239967, l1_ratio=0.26054978569846327, total=   0.0s\n",
      "[CV] C=2.3763754399239967, l1_ratio=0.26054978569846327 ..............\n",
      "[CV]  C=2.3763754399239967, l1_ratio=0.26054978569846327, total=   0.0s\n",
      "[CV] C=3.677831327192532, l1_ratio=0.20010074954635426 ...............\n",
      "[CV]  C=3.677831327192532, l1_ratio=0.20010074954635426, total=   0.0s\n",
      "[CV] C=3.677831327192532, l1_ratio=0.20010074954635426 ...............\n",
      "[CV]  C=3.677831327192532, l1_ratio=0.20010074954635426, total=   0.0s\n",
      "[CV] C=3.677831327192532, l1_ratio=0.20010074954635426 ...............\n",
      "[CV]  C=3.677831327192532, l1_ratio=0.20010074954635426, total=   0.0s\n",
      "[CV] C=3.677831327192532, l1_ratio=0.20010074954635426 ...............\n"
     ]
    },
    {
     "name": "stdout",
     "output_type": "stream",
     "text": [
      "[CV]  C=3.677831327192532, l1_ratio=0.20010074954635426, total=   0.0s\n",
      "[CV] C=3.677831327192532, l1_ratio=0.20010074954635426 ...............\n",
      "[CV]  C=3.677831327192532, l1_ratio=0.20010074954635426, total=   0.0s\n",
      "[CV] C=6.335297107608947, l1_ratio=0.15347704999046977 ...............\n",
      "[CV]  C=6.335297107608947, l1_ratio=0.15347704999046977, total=   0.0s\n",
      "[CV] C=6.335297107608947, l1_ratio=0.15347704999046977 ...............\n",
      "[CV]  C=6.335297107608947, l1_ratio=0.15347704999046977, total=   0.0s\n",
      "[CV] C=6.335297107608947, l1_ratio=0.15347704999046977 ...............\n",
      "[CV]  C=6.335297107608947, l1_ratio=0.15347704999046977, total=   0.0s\n",
      "[CV] C=6.335297107608947, l1_ratio=0.15347704999046977 ...............\n",
      "[CV]  C=6.335297107608947, l1_ratio=0.15347704999046977, total=   0.0s\n",
      "[CV] C=6.335297107608947, l1_ratio=0.15347704999046977 ...............\n",
      "[CV]  C=6.335297107608947, l1_ratio=0.15347704999046977, total=   0.0s\n",
      "[CV] C=0.902897700544083, l1_ratio=0.36072895884925943 ...............\n",
      "[CV]  C=0.902897700544083, l1_ratio=0.36072895884925943, total=   0.0s\n",
      "[CV] C=0.902897700544083, l1_ratio=0.36072895884925943 ...............\n",
      "[CV]  C=0.902897700544083, l1_ratio=0.36072895884925943, total=   0.0s\n",
      "[CV] C=0.902897700544083, l1_ratio=0.36072895884925943 ...............\n",
      "[CV]  C=0.902897700544083, l1_ratio=0.36072895884925943, total=   0.0s\n",
      "[CV] C=0.902897700544083, l1_ratio=0.36072895884925943 ...............\n",
      "[CV]  C=0.902897700544083, l1_ratio=0.36072895884925943, total=   0.0s\n",
      "[CV] C=0.902897700544083, l1_ratio=0.36072895884925943 ...............\n",
      "[CV]  C=0.902897700544083, l1_ratio=0.36072895884925943, total=   0.0s\n",
      "[CV] C=3.2078006497173583, l1_ratio=0.04128642132151131 ..............\n",
      "[CV]  C=3.2078006497173583, l1_ratio=0.04128642132151131, total=   0.0s\n",
      "[CV] C=3.2078006497173583, l1_ratio=0.04128642132151131 ..............\n",
      "[CV]  C=3.2078006497173583, l1_ratio=0.04128642132151131, total=   0.0s\n",
      "[CV] C=3.2078006497173583, l1_ratio=0.04128642132151131 ..............\n",
      "[CV]  C=3.2078006497173583, l1_ratio=0.04128642132151131, total=   0.0s\n",
      "[CV] C=3.2078006497173583, l1_ratio=0.04128642132151131 ..............\n",
      "[CV]  C=3.2078006497173583, l1_ratio=0.04128642132151131, total=   0.0s\n",
      "[CV] C=3.2078006497173583, l1_ratio=0.04128642132151131 ..............\n",
      "[CV]  C=3.2078006497173583, l1_ratio=0.04128642132151131, total=   0.0s\n",
      "[CV] C=0.40775141554763916, l1_ratio=0.1787556809189167 ..............\n",
      "[CV]  C=0.40775141554763916, l1_ratio=0.1787556809189167, total=   0.0s\n",
      "[CV] C=0.40775141554763916, l1_ratio=0.1787556809189167 ..............\n",
      "[CV]  C=0.40775141554763916, l1_ratio=0.1787556809189167, total=   0.0s\n",
      "[CV] C=0.40775141554763916, l1_ratio=0.1787556809189167 ..............\n",
      "[CV]  C=0.40775141554763916, l1_ratio=0.1787556809189167, total=   0.0s\n",
      "[CV] C=0.40775141554763916, l1_ratio=0.1787556809189167 ..............\n",
      "[CV]  C=0.40775141554763916, l1_ratio=0.1787556809189167, total=   0.0s\n",
      "[CV] C=0.40775141554763916, l1_ratio=0.1787556809189167 ..............\n",
      "[CV]  C=0.40775141554763916, l1_ratio=0.1787556809189167, total=   0.0s\n",
      "[CV] C=6.775643618422825, l1_ratio=0.003345389511694124 ..............\n",
      "[CV]  C=6.775643618422825, l1_ratio=0.003345389511694124, total=   0.0s\n",
      "[CV] C=6.775643618422825, l1_ratio=0.003345389511694124 ..............\n",
      "[CV]  C=6.775643618422825, l1_ratio=0.003345389511694124, total=   0.0s\n",
      "[CV] C=6.775643618422825, l1_ratio=0.003345389511694124 ..............\n",
      "[CV]  C=6.775643618422825, l1_ratio=0.003345389511694124, total=   0.0s\n",
      "[CV] C=6.775643618422825, l1_ratio=0.003345389511694124 ..............\n",
      "[CV]  C=6.775643618422825, l1_ratio=0.003345389511694124, total=   0.0s\n",
      "[CV] C=6.775643618422825, l1_ratio=0.003345389511694124 ..............\n",
      "[CV]  C=6.775643618422825, l1_ratio=0.003345389511694124, total=   0.0s\n",
      "[CV] C=5.12093058299281, l1_ratio=0.05136482941099153 ................\n",
      "[CV] . C=5.12093058299281, l1_ratio=0.05136482941099153, total=   0.0s\n",
      "[CV] C=5.12093058299281, l1_ratio=0.05136482941099153 ................\n",
      "[CV] . C=5.12093058299281, l1_ratio=0.05136482941099153, total=   0.0s\n",
      "[CV] C=5.12093058299281, l1_ratio=0.05136482941099153 ................\n",
      "[CV] . C=5.12093058299281, l1_ratio=0.05136482941099153, total=   0.0s\n",
      "[CV] C=5.12093058299281, l1_ratio=0.05136482941099153 ................\n",
      "[CV] . C=5.12093058299281, l1_ratio=0.05136482941099153, total=   0.0s\n",
      "[CV] C=5.12093058299281, l1_ratio=0.05136482941099153 ................\n",
      "[CV] . C=5.12093058299281, l1_ratio=0.05136482941099153, total=   0.0s\n",
      "[CV] C=6.451727904094499, l1_ratio=0.03832084450782675 ...............\n",
      "[CV]  C=6.451727904094499, l1_ratio=0.03832084450782675, total=   0.0s\n",
      "[CV] C=6.451727904094499, l1_ratio=0.03832084450782675 ...............\n",
      "[CV]  C=6.451727904094499, l1_ratio=0.03832084450782675, total=   0.0s\n",
      "[CV] C=6.451727904094499, l1_ratio=0.03832084450782675 ...............\n",
      "[CV]  C=6.451727904094499, l1_ratio=0.03832084450782675, total=   0.0s\n",
      "[CV] C=6.451727904094499, l1_ratio=0.03832084450782675 ...............\n",
      "[CV]  C=6.451727904094499, l1_ratio=0.03832084450782675, total=   0.0s\n",
      "[CV] C=6.451727904094499, l1_ratio=0.03832084450782675 ...............\n",
      "[CV]  C=6.451727904094499, l1_ratio=0.03832084450782675, total=   0.0s\n",
      "[CV] C=6.90937738102466, l1_ratio=0.09779174019622036 ................\n",
      "[CV] . C=6.90937738102466, l1_ratio=0.09779174019622036, total=   0.0s\n",
      "[CV] C=6.90937738102466, l1_ratio=0.09779174019622036 ................\n",
      "[CV] . C=6.90937738102466, l1_ratio=0.09779174019622036, total=   0.0s\n",
      "[CV] C=6.90937738102466, l1_ratio=0.09779174019622036 ................\n",
      "[CV] . C=6.90937738102466, l1_ratio=0.09779174019622036, total=   0.0s\n",
      "[CV] C=6.90937738102466, l1_ratio=0.09779174019622036 ................\n",
      "[CV] . C=6.90937738102466, l1_ratio=0.09779174019622036, total=   0.0s\n",
      "[CV] C=6.90937738102466, l1_ratio=0.09779174019622036 ................\n",
      "[CV] . C=6.90937738102466, l1_ratio=0.09779174019622036, total=   0.0s\n",
      "[CV] C=9.367299887367345, l1_ratio=0.02958888268785579 ...............\n",
      "[CV]  C=9.367299887367345, l1_ratio=0.02958888268785579, total=   0.0s\n",
      "[CV] C=9.367299887367345, l1_ratio=0.02958888268785579 ...............\n",
      "[CV]  C=9.367299887367345, l1_ratio=0.02958888268785579, total=   0.0s\n",
      "[CV] C=9.367299887367345, l1_ratio=0.02958888268785579 ...............\n",
      "[CV]  C=9.367299887367345, l1_ratio=0.02958888268785579, total=   0.0s\n",
      "[CV] C=9.367299887367345, l1_ratio=0.02958888268785579 ...............\n",
      "[CV]  C=9.367299887367345, l1_ratio=0.02958888268785579, total=   0.0s\n",
      "[CV] C=9.367299887367345, l1_ratio=0.02958888268785579 ...............\n",
      "[CV]  C=9.367299887367345, l1_ratio=0.02958888268785579, total=   0.0s\n",
      "[CV] C=3.410663510502585, l1_ratio=0.024088857007399284 ..............\n",
      "[CV]  C=3.410663510502585, l1_ratio=0.024088857007399284, total=   0.0s\n",
      "[CV] C=3.410663510502585, l1_ratio=0.024088857007399284 ..............\n",
      "[CV]  C=3.410663510502585, l1_ratio=0.024088857007399284, total=   0.0s\n",
      "[CV] C=3.410663510502585, l1_ratio=0.024088857007399284 ..............\n",
      "[CV]  C=3.410663510502585, l1_ratio=0.024088857007399284, total=   0.0s\n",
      "[CV] C=3.410663510502585, l1_ratio=0.024088857007399284 ..............\n",
      "[CV]  C=3.410663510502585, l1_ratio=0.024088857007399284, total=   0.0s\n",
      "[CV] C=3.410663510502585, l1_ratio=0.024088857007399284 ..............\n",
      "[CV]  C=3.410663510502585, l1_ratio=0.024088857007399284, total=   0.0s\n",
      "[CV] C=9.246936182785628, l1_ratio=0.41966674143219884 ...............\n",
      "[CV]  C=9.246936182785628, l1_ratio=0.41966674143219884, total=   0.0s\n",
      "[CV] C=9.246936182785628, l1_ratio=0.41966674143219884 ...............\n",
      "[CV]  C=9.246936182785628, l1_ratio=0.41966674143219884, total=   0.0s\n",
      "[CV] C=9.246936182785628, l1_ratio=0.41966674143219884 ...............\n",
      "[CV]  C=9.246936182785628, l1_ratio=0.41966674143219884, total=   0.0s\n",
      "[CV] C=9.246936182785628, l1_ratio=0.41966674143219884 ...............\n",
      "[CV]  C=9.246936182785628, l1_ratio=0.41966674143219884, total=   0.0s\n",
      "[CV] C=9.246936182785628, l1_ratio=0.41966674143219884 ...............\n",
      "[CV]  C=9.246936182785628, l1_ratio=0.41966674143219884, total=   0.0s\n",
      "[CV] C=2.579416277151556, l1_ratio=0.21575254780878292 ...............\n",
      "[CV]  C=2.579416277151556, l1_ratio=0.21575254780878292, total=   0.0s\n",
      "[CV] C=2.579416277151556, l1_ratio=0.21575254780878292 ...............\n",
      "[CV]  C=2.579416277151556, l1_ratio=0.21575254780878292, total=   0.0s\n",
      "[CV] C=2.579416277151556, l1_ratio=0.21575254780878292 ...............\n",
      "[CV]  C=2.579416277151556, l1_ratio=0.21575254780878292, total=   0.0s\n",
      "[CV] C=2.579416277151556, l1_ratio=0.21575254780878292 ...............\n",
      "[CV]  C=2.579416277151556, l1_ratio=0.21575254780878292, total=   0.0s\n",
      "[CV] C=2.579416277151556, l1_ratio=0.21575254780878292 ...............\n",
      "[CV]  C=2.579416277151556, l1_ratio=0.21575254780878292, total=   0.0s\n",
      "[CV] C=8.172222002012159, l1_ratio=0.16202647213730162 ...............\n",
      "[CV]  C=8.172222002012159, l1_ratio=0.16202647213730162, total=   0.0s\n",
      "[CV] C=8.172222002012159, l1_ratio=0.16202647213730162 ...............\n",
      "[CV]  C=8.172222002012159, l1_ratio=0.16202647213730162, total=   0.0s\n",
      "[CV] C=8.172222002012159, l1_ratio=0.16202647213730162 ...............\n",
      "[CV]  C=8.172222002012159, l1_ratio=0.16202647213730162, total=   0.0s\n",
      "[CV] C=8.172222002012159, l1_ratio=0.16202647213730162 ...............\n",
      "[CV]  C=8.172222002012159, l1_ratio=0.16202647213730162, total=   0.0s\n",
      "[CV] C=8.172222002012159, l1_ratio=0.16202647213730162 ...............\n",
      "[CV]  C=8.172222002012159, l1_ratio=0.16202647213730162, total=   0.0s\n",
      "[CV] C=5.296505783560065, l1_ratio=0.05537540908758063 ...............\n",
      "[CV]  C=5.296505783560065, l1_ratio=0.05537540908758063, total=   0.0s\n",
      "[CV] C=5.296505783560065, l1_ratio=0.05537540908758063 ...............\n",
      "[CV]  C=5.296505783560065, l1_ratio=0.05537540908758063, total=   0.0s\n",
      "[CV] C=5.296505783560065, l1_ratio=0.05537540908758063 ...............\n",
      "[CV]  C=5.296505783560065, l1_ratio=0.05537540908758063, total=   0.0s\n",
      "[CV] C=5.296505783560065, l1_ratio=0.05537540908758063 ...............\n",
      "[CV]  C=5.296505783560065, l1_ratio=0.05537540908758063, total=   0.0s\n",
      "[CV] C=5.296505783560065, l1_ratio=0.05537540908758063 ...............\n",
      "[CV]  C=5.296505783560065, l1_ratio=0.05537540908758063, total=   0.0s\n",
      "[CV] C=0.9310276780589921, l1_ratio=0.4550246450389046 ...............\n",
      "[CV]  C=0.9310276780589921, l1_ratio=0.4550246450389046, total=   0.0s\n",
      "[CV] C=0.9310276780589921, l1_ratio=0.4550246450389046 ...............\n",
      "[CV]  C=0.9310276780589921, l1_ratio=0.4550246450389046, total=   0.0s\n",
      "[CV] C=0.9310276780589921, l1_ratio=0.4550246450389046 ...............\n",
      "[CV]  C=0.9310276780589921, l1_ratio=0.4550246450389046, total=   0.0s\n",
      "[CV] C=0.9310276780589921, l1_ratio=0.4550246450389046 ...............\n",
      "[CV]  C=0.9310276780589921, l1_ratio=0.4550246450389046, total=   0.0s\n",
      "[CV] C=0.9310276780589921, l1_ratio=0.4550246450389046 ...............\n",
      "[CV]  C=0.9310276780589921, l1_ratio=0.4550246450389046, total=   0.0s\n",
      "[CV] C=9.004180571633304, l1_ratio=0.20053398389657695 ...............\n"
     ]
    },
    {
     "name": "stdout",
     "output_type": "stream",
     "text": [
      "[CV]  C=9.004180571633304, l1_ratio=0.20053398389657695, total=   0.0s\n",
      "[CV] C=9.004180571633304, l1_ratio=0.20053398389657695 ...............\n",
      "[CV]  C=9.004180571633304, l1_ratio=0.20053398389657695, total=   0.0s\n",
      "[CV] C=9.004180571633304, l1_ratio=0.20053398389657695 ...............\n",
      "[CV]  C=9.004180571633304, l1_ratio=0.20053398389657695, total=   0.0s\n",
      "[CV] C=9.004180571633304, l1_ratio=0.20053398389657695 ...............\n",
      "[CV]  C=9.004180571633304, l1_ratio=0.20053398389657695, total=   0.0s\n",
      "[CV] C=9.004180571633304, l1_ratio=0.20053398389657695 ...............\n",
      "[CV]  C=9.004180571633304, l1_ratio=0.20053398389657695, total=   0.0s\n",
      "[CV] C=3.390297910487007, l1_ratio=0.0859135231623288 ................\n",
      "[CV] . C=3.390297910487007, l1_ratio=0.0859135231623288, total=   0.0s\n",
      "[CV] C=3.390297910487007, l1_ratio=0.0859135231623288 ................\n",
      "[CV] . C=3.390297910487007, l1_ratio=0.0859135231623288, total=   0.0s\n",
      "[CV] C=3.390297910487007, l1_ratio=0.0859135231623288 ................\n",
      "[CV] . C=3.390297910487007, l1_ratio=0.0859135231623288, total=   0.0s\n",
      "[CV] C=3.390297910487007, l1_ratio=0.0859135231623288 ................\n",
      "[CV] . C=3.390297910487007, l1_ratio=0.0859135231623288, total=   0.0s\n",
      "[CV] C=3.390297910487007, l1_ratio=0.0859135231623288 ................\n",
      "[CV] . C=3.390297910487007, l1_ratio=0.0859135231623288, total=   0.0s\n",
      "[CV] C=7.259556788702394, l1_ratio=0.4548194698214505 ................\n",
      "[CV] . C=7.259556788702394, l1_ratio=0.4548194698214505, total=   0.0s\n",
      "[CV] C=7.259556788702394, l1_ratio=0.4548194698214505 ................\n",
      "[CV] . C=7.259556788702394, l1_ratio=0.4548194698214505, total=   0.0s\n",
      "[CV] C=7.259556788702394, l1_ratio=0.4548194698214505 ................\n",
      "[CV] . C=7.259556788702394, l1_ratio=0.4548194698214505, total=   0.0s\n",
      "[CV] C=7.259556788702394, l1_ratio=0.4548194698214505 ................\n",
      "[CV] . C=7.259556788702394, l1_ratio=0.4548194698214505, total=   0.0s\n",
      "[CV] C=7.259556788702394, l1_ratio=0.4548194698214505 ................\n",
      "[CV] . C=7.259556788702394, l1_ratio=0.4548194698214505, total=   0.0s\n",
      "[CV] C=8.870864242651173, l1_ratio=0.30271243838618067 ...............\n",
      "[CV]  C=8.870864242651173, l1_ratio=0.30271243838618067, total=   0.0s\n",
      "[CV] C=8.870864242651173, l1_ratio=0.30271243838618067 ...............\n",
      "[CV]  C=8.870864242651173, l1_ratio=0.30271243838618067, total=   0.0s\n",
      "[CV] C=8.870864242651173, l1_ratio=0.30271243838618067 ...............\n",
      "[CV]  C=8.870864242651173, l1_ratio=0.30271243838618067, total=   0.0s\n",
      "[CV] C=8.870864242651173, l1_ratio=0.30271243838618067 ...............\n",
      "[CV]  C=8.870864242651173, l1_ratio=0.30271243838618067, total=   0.0s\n",
      "[CV] C=8.870864242651173, l1_ratio=0.30271243838618067 ...............\n",
      "[CV]  C=8.870864242651173, l1_ratio=0.30271243838618067, total=   0.0s\n"
     ]
    },
    {
     "name": "stderr",
     "output_type": "stream",
     "text": [
      "[Parallel(n_jobs=1)]: Done 500 out of 500 | elapsed:    3.9s finished\n"
     ]
    },
    {
     "data": {
      "text/plain": [
       "{'C': 3.745401188473625, 'l1_ratio': 0.6020242861835042}"
      ]
     },
     "execution_count": 143,
     "metadata": {},
     "output_type": "execute_result"
    }
   ],
   "source": [
    "rs = RandomizedSearchCV(estimator=LogisticRegression(penalty='elasticnet',\n",
    "                                                    solver='saga',\n",
    "                                                    max_iter=1000,\n",
    "                                                    random_state=42),\n",
    "                        param_distributions=log_reg_grid,\n",
    "                       random_state=42, n_iter=100, verbose=2)\n",
    "\n",
    "rs.fit(X_train_clean, y_train)\n",
    "\n",
    "rs.best_params_"
   ]
  },
  {
   "cell_type": "code",
   "execution_count": 140,
   "metadata": {
    "scrolled": true
   },
   "outputs": [
    {
     "data": {
      "text/plain": [
       "array([0.08427088, 0.44513906, 0.27246846, 0.08580529, 0.19496272,\n",
       "       0.78948944, 0.30045399, 0.82703738, 0.30384035, 0.53730601])"
      ]
     },
     "execution_count": 140,
     "metadata": {},
     "output_type": "execute_result"
    }
   ],
   "source": [
    "stats.expon(scale=0.2).rvs(10)"
   ]
  },
  {
   "cell_type": "code",
   "execution_count": 141,
   "metadata": {},
   "outputs": [
    {
     "data": {
      "text/plain": [
       "array([6.87455897, 4.02010467, 0.38304807, 1.2581645 , 1.190306  ,\n",
       "       8.95795658, 2.90043981, 7.12422138, 1.6799912 , 5.0641189 ])"
      ]
     },
     "execution_count": 141,
     "metadata": {},
     "output_type": "execute_result"
    }
   ],
   "source": [
    "stats.uniform(loc=0, scale=10).rvs(10)"
   ]
  },
  {
   "cell_type": "markdown",
   "metadata": {
    "ExecuteTime": {
     "end_time": "2021-10-27T21:03:32.018295Z",
     "start_time": "2021-10-27T21:03:32.015972Z"
    }
   },
   "source": [
    "# Level Up: SMOTE"
   ]
  },
  {
   "cell_type": "markdown",
   "metadata": {},
   "source": [
    "Often we encounter a problem of imbalance classification that there are too few observations of the minority class for a model to effectively learn the decision boundary. \n",
    "\n",
    "One way to solve this problem is to **oversample** the observations in the minority class (or alternatively **undersample** the observations in the majority class) by synthesizing new observation from the minority class.\n",
    "\n",
    "The most widely used approach to synthesizing new observations is called the **Synthetic Minority Oversampling Technique**, or **SMOTE** for short. \n",
    "\n",
    "Resource: https://arxiv.org/abs/1106.1813\n",
    "\n",
    "Before getting into the example, please note the following,\n",
    "\n",
    "1. Oversampling process is based on **k-nearest neighbors** of the minority class.\n",
    "2. Oversampling only works with **numerical predictors** since the synthetic observations are created based on the k-nearest neighbors algorithm, which is a distance based algorithm.  \n",
    "\n",
    "We use the Scikit-Learn's breast cancer dataset to demonstrate the use of SMOTE from imblearn package."
   ]
  },
  {
   "cell_type": "code",
   "execution_count": 144,
   "metadata": {
    "ExecuteTime": {
     "end_time": "2021-10-28T03:40:52.976867Z",
     "start_time": "2021-10-28T03:40:52.960326Z"
    }
   },
   "outputs": [],
   "source": [
    "from sklearn.datasets import load_breast_cancer\n",
    "\n",
    "# Load the data\n",
    "preds, target = load_breast_cancer(return_X_y=True)\n",
    "\n",
    "# Split into train and test\n",
    "X_train, X_test, y_train, y_test = train_test_split(preds, target,\n",
    "                                                   random_state=42)"
   ]
  },
  {
   "cell_type": "code",
   "execution_count": 145,
   "metadata": {
    "ExecuteTime": {
     "end_time": "2021-10-28T04:05:58.031838Z",
     "start_time": "2021-10-28T04:05:58.029009Z"
    }
   },
   "outputs": [],
   "source": [
    "# Import imblearn dependencies\n",
    "from imblearn.over_sampling import SMOTE\n",
    "from imblearn.under_sampling import RandomUnderSampler\n",
    "from imblearn.pipeline import Pipeline as imbPipeline\n",
    "from collections import Counter\n",
    "from matplotlib import pyplot\n",
    "from numpy import where"
   ]
  },
  {
   "cell_type": "markdown",
   "metadata": {},
   "source": [
    "Note that we have an imbalance class for the target variable in this dataset."
   ]
  },
  {
   "cell_type": "code",
   "execution_count": 146,
   "metadata": {
    "ExecuteTime": {
     "end_time": "2021-10-28T03:52:29.498843Z",
     "start_time": "2021-10-28T03:52:29.235296Z"
    }
   },
   "outputs": [
    {
     "name": "stdout",
     "output_type": "stream",
     "text": [
      "Counter({1: 268, 0: 158})\n"
     ]
    },
    {
     "ename": "NameError",
     "evalue": "name 'X_train_sc' is not defined",
     "output_type": "error",
     "traceback": [
      "\u001b[0;31m---------------------------------------------------------------------------\u001b[0m",
      "\u001b[0;31mNameError\u001b[0m                                 Traceback (most recent call last)",
      "\u001b[0;32m<ipython-input-146-51c768f1f09f>\u001b[0m in \u001b[0;36m<module>\u001b[0;34m\u001b[0m\n\u001b[1;32m      6\u001b[0m \u001b[0;32mfor\u001b[0m \u001b[0mlabel\u001b[0m\u001b[0;34m,\u001b[0m \u001b[0m_\u001b[0m \u001b[0;32min\u001b[0m \u001b[0mcounter\u001b[0m\u001b[0;34m.\u001b[0m\u001b[0mitems\u001b[0m\u001b[0;34m(\u001b[0m\u001b[0;34m)\u001b[0m\u001b[0;34m:\u001b[0m\u001b[0;34m\u001b[0m\u001b[0;34m\u001b[0m\u001b[0m\n\u001b[1;32m      7\u001b[0m     \u001b[0mrow_ix\u001b[0m \u001b[0;34m=\u001b[0m \u001b[0mwhere\u001b[0m\u001b[0;34m(\u001b[0m\u001b[0my_train\u001b[0m \u001b[0;34m==\u001b[0m \u001b[0mlabel\u001b[0m\u001b[0;34m)\u001b[0m\u001b[0;34m[\u001b[0m\u001b[0;36m0\u001b[0m\u001b[0;34m]\u001b[0m\u001b[0;34m\u001b[0m\u001b[0;34m\u001b[0m\u001b[0m\n\u001b[0;32m----> 8\u001b[0;31m     \u001b[0mpyplot\u001b[0m\u001b[0;34m.\u001b[0m\u001b[0mscatter\u001b[0m\u001b[0;34m(\u001b[0m\u001b[0mX_train_sc\u001b[0m\u001b[0;34m[\u001b[0m\u001b[0mrow_ix\u001b[0m\u001b[0;34m,\u001b[0m \u001b[0;36m0\u001b[0m\u001b[0;34m]\u001b[0m\u001b[0;34m,\u001b[0m \u001b[0mX_train_sc\u001b[0m\u001b[0;34m[\u001b[0m\u001b[0mrow_ix\u001b[0m\u001b[0;34m,\u001b[0m \u001b[0;36m1\u001b[0m\u001b[0;34m]\u001b[0m\u001b[0;34m,\u001b[0m \u001b[0mlabel\u001b[0m\u001b[0;34m=\u001b[0m\u001b[0mstr\u001b[0m\u001b[0;34m(\u001b[0m\u001b[0mlabel\u001b[0m\u001b[0;34m)\u001b[0m\u001b[0;34m)\u001b[0m\u001b[0;34m\u001b[0m\u001b[0;34m\u001b[0m\u001b[0m\n\u001b[0m\u001b[1;32m      9\u001b[0m \u001b[0mpyplot\u001b[0m\u001b[0;34m.\u001b[0m\u001b[0mlegend\u001b[0m\u001b[0;34m(\u001b[0m\u001b[0;34m)\u001b[0m\u001b[0;34m\u001b[0m\u001b[0;34m\u001b[0m\u001b[0m\n\u001b[1;32m     10\u001b[0m \u001b[0mpyplot\u001b[0m\u001b[0;34m.\u001b[0m\u001b[0mshow\u001b[0m\u001b[0;34m(\u001b[0m\u001b[0;34m)\u001b[0m\u001b[0;34m\u001b[0m\u001b[0;34m\u001b[0m\u001b[0m\n",
      "\u001b[0;31mNameError\u001b[0m: name 'X_train_sc' is not defined"
     ]
    }
   ],
   "source": [
    "# Check the class distribution of the target\n",
    "counter = Counter(y_train)\n",
    "print(counter)\n",
    "\n",
    "# scatter plot of examples by class label\n",
    "for label, _ in counter.items():\n",
    "    row_ix = where(y_train == label)[0]\n",
    "    pyplot.scatter(X_train_sc[row_ix, 0], X_train_sc[row_ix, 1], label=str(label))\n",
    "pyplot.legend()\n",
    "pyplot.show()"
   ]
  },
  {
   "cell_type": "code",
   "execution_count": 149,
   "metadata": {
    "ExecuteTime": {
     "end_time": "2021-10-28T03:48:44.180793Z",
     "start_time": "2021-10-28T03:48:44.174593Z"
    }
   },
   "outputs": [],
   "source": [
    "# Create the oversampler and undersampler objects\n",
    "over = SMOTE(sampling_strategy=0.7)\n",
    "under = RandomUnderSampler(sampling_strategy=0.8)\n",
    "\n",
    "# transform the dataset\n",
    "#X, y = under.fit_resample(X_train_sc, y_train)"
   ]
  },
  {
   "cell_type": "markdown",
   "metadata": {},
   "source": [
    "After the oversampling and undersampling process, we observe a more balance class distribution in the target variable."
   ]
  },
  {
   "cell_type": "code",
   "execution_count": null,
   "metadata": {
    "ExecuteTime": {
     "end_time": "2021-10-28T03:53:00.623842Z",
     "start_time": "2021-10-28T03:53:00.365844Z"
    }
   },
   "outputs": [],
   "source": [
    "# Check the class distribution of the target\n",
    "counter = Counter(y)\n",
    "print(counter)\n",
    "\n",
    "# scatter plot of examples by class label\n",
    "for label, _ in counter.items():\n",
    "    row_ix = where(y == label)[0]\n",
    "    pyplot.scatter(X_train_sc[row_ix, 0], X_train_sc[row_ix, 1], label=str(label))\n",
    "pyplot.legend()\n",
    "pyplot.show()"
   ]
  },
  {
   "cell_type": "code",
   "execution_count": 150,
   "metadata": {
    "ExecuteTime": {
     "end_time": "2021-10-28T04:06:22.089385Z",
     "start_time": "2021-10-28T04:06:21.429799Z"
    }
   },
   "outputs": [
    {
     "name": "stdout",
     "output_type": "stream",
     "text": [
      "[1 0 0 1 1 0 0 1 0 1 1 0 1 0 1 0 1 1 1 0 1 1 0 1 1 1 1 1 1 0 1 1 0 1 1 1 0\n",
      " 1 0 1 1 0 1 1 1 1 1 1 1 1 0 0 1 1 1 1 1 0 0 1 1 0 0 1 1 1 0 0 1 1 0 0 1 0\n",
      " 1 1 1 1 1 1 0 1 1 0 0 0 0 0 1 1 1 1 1 1 1 1 0 0 1 0 0 1 0 0 1 1 1 0 0 1 0\n",
      " 1 1 0 1 0 1 1 1 0 1 1 1 0 1 0 0 1 1 0 0 0 1 1 1 0 1 1 1 0 1 0 1]\n"
     ]
    }
   ],
   "source": [
    "# Create imblearn pipeline for the oversampler and undersampler\n",
    "steps = [('o', over), ('u', under),('scale', StandardScaler()),\n",
    "         ('model', DecisionTreeClassifier())]\n",
    "pipeline = imbPipeline(steps=steps)\n",
    "\n",
    "\n",
    "# Create the GridSearchCV object with different hyperparameters\n",
    "parameters = {\n",
    "    'model__max_depth': [2, 4, 6, 8],\n",
    "    'model__min_samples_split': [5, 10, 15],\n",
    "    'model__criterion': ['gini', 'entropy']\n",
    "}\n",
    "\n",
    "cv = GridSearchCV(pipeline, param_grid=parameters)\n",
    "\n",
    "cv.fit(X_train, y_train)\n",
    "\n",
    "# Predict the label with the best model\n",
    "y_pred = cv.predict(X_test)\n",
    "print(y_pred)"
   ]
  },
  {
   "cell_type": "code",
   "execution_count": null,
   "metadata": {},
   "outputs": [],
   "source": []
  }
 ],
 "metadata": {
  "hide_input": false,
  "kernelspec": {
   "display_name": "Python (learn-env)",
   "language": "python",
   "name": "learn-env"
  },
  "language_info": {
   "codemirror_mode": {
    "name": "ipython",
    "version": 3
   },
   "file_extension": ".py",
   "mimetype": "text/x-python",
   "name": "python",
   "nbconvert_exporter": "python",
   "pygments_lexer": "ipython3",
   "version": "3.8.5"
  },
  "latex_envs": {
   "LaTeX_envs_menu_present": true,
   "autoclose": false,
   "autocomplete": true,
   "bibliofile": "biblio.bib",
   "cite_by": "apalike",
   "current_citInitial": 1,
   "eqLabelWithNumbers": true,
   "eqNumInitial": 1,
   "hotkeys": {
    "equation": "Ctrl-E",
    "itemize": "Ctrl-I"
   },
   "labels_anchors": false,
   "latex_user_defs": false,
   "report_style_numbering": false,
   "user_envs_cfg": false
  },
  "nbTranslate": {
   "displayLangs": [
    "*"
   ],
   "hotkey": "alt-t",
   "langInMainMenu": true,
   "sourceLang": "en",
   "targetLang": "fr",
   "useGoogleTranslate": true
  },
  "toc": {
   "base_numbering": 1,
   "nav_menu": {},
   "number_sections": true,
   "sideBar": true,
   "skip_h1_title": false,
   "title_cell": "Table of Contents",
   "title_sidebar": "TOC",
   "toc_cell": true,
   "toc_position": {
    "height": "calc(100% - 180px)",
    "left": "10px",
    "top": "150px",
    "width": "232px"
   },
   "toc_section_display": true,
   "toc_window_display": false
  }
 },
 "nbformat": 4,
 "nbformat_minor": 4
}
